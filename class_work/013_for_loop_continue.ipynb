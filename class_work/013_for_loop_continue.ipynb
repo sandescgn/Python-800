{
 "cells": [
  {
   "cell_type": "code",
   "execution_count": 2,
   "id": "e5963d61",
   "metadata": {},
   "outputs": [
    {
     "name": "stdout",
     "output_type": "stream",
     "text": [
      "{'milk': 303.551787, 'bread': 388.7855400000001, 'butter': 388.7855400000001, 'mobile': 47638.80000000001, 'sugar': 747.6645000000001}\n"
     ]
    }
   ],
   "source": [
    "us_price = {'milk': 2.03, 'bread': 2.6, 'butter': 2.6, \"mobile\":300, \"sugar\":5}\n",
    "\n",
    "nep_price = {}\n",
    "for k, v in us_price.items():\n",
    "    if v <= 5:\n",
    "        price = (v*132.33)+ (v * 13 / 100) * 132.33\n",
    "    else:\n",
    "        price = (v*132.33)+ (v * 20 / 100) * 132.33\n",
    "        \n",
    "    nep_price.update({k:price}) # {\"milk\":303.}\n",
    "    \n",
    "print(nep_price)"
   ]
  },
  {
   "cell_type": "code",
   "execution_count": 4,
   "id": "8146ec5a",
   "metadata": {},
   "outputs": [
    {
     "name": "stdout",
     "output_type": "stream",
     "text": [
      "{'milk': 303.551787, 'bread': 388.7855400000001, 'butter': 388.7855400000001, 'sugar': 747.6645000000001}\n"
     ]
    }
   ],
   "source": [
    "us_price = {'milk': 2.03, 'bread': 2.6, 'butter': 2.6, \"mobile\":300, \"sugar\":5}\n",
    "\n",
    "nep_price = {}\n",
    "for k, v in us_price.items():\n",
    "    if v <= 5:\n",
    "        price = (v*132.33)+ (v * 13 / 100) * 132.33\n",
    "        nep_price.update({k:price}) # {\"milk\":303.}\n",
    "    \n",
    "print(nep_price)"
   ]
  },
  {
   "cell_type": "code",
   "execution_count": 5,
   "id": "09ec56d5",
   "metadata": {},
   "outputs": [
    {
     "name": "stdout",
     "output_type": "stream",
     "text": [
      "68\n"
     ]
    }
   ],
   "source": [
    "numbers = [1,2,3,4,5,6,7,8,9,10,11,12]\n",
    "\n",
    "sum = 0\n",
    "for i in numbers:\n",
    "    if i != 10:\n",
    "        sum += i\n",
    "print(sum)"
   ]
  },
  {
   "cell_type": "code",
   "execution_count": null,
   "id": "241af8f3",
   "metadata": {},
   "outputs": [],
   "source": [
    "pass, continue, break"
   ]
  },
  {
   "cell_type": "code",
   "execution_count": 6,
   "id": "eeac5740",
   "metadata": {},
   "outputs": [
    {
     "ename": "SyntaxError",
     "evalue": "incomplete input (462143396.py, line 4)",
     "output_type": "error",
     "traceback": [
      "\u001b[0;36m  Cell \u001b[0;32mIn[6], line 4\u001b[0;36m\u001b[0m\n\u001b[0;31m    \u001b[0m\n\u001b[0m    ^\u001b[0m\n\u001b[0;31mSyntaxError\u001b[0m\u001b[0;31m:\u001b[0m incomplete input\n"
     ]
    }
   ],
   "source": [
    "numbers = [1,2,3,4,5,6,7,8,9,10,11,12] \n",
    "for i in numbers:\n",
    "    if i < 5:\n",
    "        "
   ]
  },
  {
   "cell_type": "code",
   "execution_count": 7,
   "id": "e4045461",
   "metadata": {},
   "outputs": [],
   "source": [
    "numbers = [1,2,3,4,5,6,7,8,9,10,11,12] \n",
    "for i in numbers:\n",
    "    if i < 5:\n",
    "        pass"
   ]
  },
  {
   "cell_type": "code",
   "execution_count": 9,
   "id": "55fcb30d",
   "metadata": {},
   "outputs": [
    {
     "name": "stdout",
     "output_type": "stream",
     "text": [
      "hello\n"
     ]
    }
   ],
   "source": [
    "age = 18\n",
    "\n",
    "if age < 18:\n",
    "    pass\n",
    "\n",
    "print('hello')"
   ]
  },
  {
   "cell_type": "code",
   "execution_count": 10,
   "id": "ff298845",
   "metadata": {},
   "outputs": [],
   "source": [
    "def hello():\n",
    "    pass"
   ]
  },
  {
   "cell_type": "code",
   "execution_count": 11,
   "id": "cbfa79d1",
   "metadata": {},
   "outputs": [
    {
     "name": "stdout",
     "output_type": "stream",
     "text": [
      "1\n",
      "2\n",
      "4\n",
      "5\n"
     ]
    }
   ],
   "source": [
    "numbers = [1,2,3,4,5]\n",
    "\n",
    "for i in numbers:\n",
    "    if i == 3:\n",
    "        continue # skip current matching number\n",
    "    print(i)"
   ]
  },
  {
   "cell_type": "code",
   "execution_count": 12,
   "id": "9843f06c",
   "metadata": {},
   "outputs": [
    {
     "name": "stdout",
     "output_type": "stream",
     "text": [
      "[1, 3, 5, 7, 9, 11]\n"
     ]
    }
   ],
   "source": [
    "numbers = [1,2,3,4,5,6,7,8,9,10,11,12] \n",
    "odd_numbers = []\n",
    "for i in numbers:\n",
    "    if i % 2 == 1:\n",
    "        odd_numbers.append(i)\n",
    "        \n",
    "print(odd_numbers)"
   ]
  },
  {
   "cell_type": "code",
   "execution_count": 13,
   "id": "eb9fe5c2",
   "metadata": {},
   "outputs": [
    {
     "name": "stdout",
     "output_type": "stream",
     "text": [
      "[1, 3, 5, 7, 9, 11]\n"
     ]
    }
   ],
   "source": [
    "numbers = [1,2,3,4,5,6,7,8,9,10,11,12] \n",
    "odd_numbers = []\n",
    "for i in numbers:\n",
    "    if i % 2 == 0:\n",
    "        continue\n",
    "    odd_numbers.append(i)\n",
    "        \n",
    "print(odd_numbers)"
   ]
  },
  {
   "cell_type": "code",
   "execution_count": 18,
   "id": "a1d8798d",
   "metadata": {},
   "outputs": [
    {
     "name": "stdout",
     "output_type": "stream",
     "text": [
      "[1, 3, 5, 7, 9, 11]\n"
     ]
    }
   ],
   "source": [
    "numbers = [1,2,3,4,5,6,7,8,9,10,11,12] \n",
    "odd_numbers = []\n",
    "for i in numbers:\n",
    "    if i % 2 == 0:\n",
    "        pass\n",
    "    else:\n",
    "        odd_numbers.append(i)\n",
    "        \n",
    "print(odd_numbers)"
   ]
  },
  {
   "cell_type": "code",
   "execution_count": 19,
   "id": "10c7360c",
   "metadata": {},
   "outputs": [
    {
     "name": "stdout",
     "output_type": "stream",
     "text": [
      "[1, 2, 3, 4]\n"
     ]
    }
   ],
   "source": [
    "numbers = [1,2,3,4,10,5,6,7,8,9,11,12] \n",
    "\n",
    "odd_numbers = []\n",
    "for i in numbers:\n",
    "    if i == 10:\n",
    "        break # terminate current loop\n",
    "\n",
    "    odd_numbers.append(i)\n",
    "        \n",
    "print(odd_numbers)"
   ]
  },
  {
   "cell_type": "code",
   "execution_count": null,
   "id": "aebf5c52",
   "metadata": {},
   "outputs": [],
   "source": [
    "numbers = [10, 20, 30, 40]\n",
    "\n",
    "# 0 => 10\n",
    "# 1 => 20\n",
    "# 2 => 30\n",
    "# 3 => 40"
   ]
  },
  {
   "cell_type": "code",
   "execution_count": 21,
   "id": "d88cf01e",
   "metadata": {},
   "outputs": [
    {
     "name": "stdout",
     "output_type": "stream",
     "text": [
      "0 => 10\n",
      "1 => 20\n",
      "2 => 30\n",
      "3 => 40\n"
     ]
    }
   ],
   "source": [
    "numbers = [10, 20, 30, 40]\n",
    "\n",
    "# non pythonic way\n",
    "for i in range(0,len(numbers)):\n",
    "    print(f\"{i} => {numbers[i]}\")"
   ]
  },
  {
   "cell_type": "code",
   "execution_count": 26,
   "id": "88eb964b",
   "metadata": {},
   "outputs": [
    {
     "name": "stdout",
     "output_type": "stream",
     "text": [
      "0 => 10\n",
      "1 => 20\n",
      "2 => 30\n",
      "3 => 40\n"
     ]
    }
   ],
   "source": [
    "numbers = [10, 20, 30, 40]\n",
    "\n",
    "x = enumerate(numbers)\n",
    "\n",
    "for i, v in x:\n",
    "    print(f\"{i} => {v}\")"
   ]
  },
  {
   "cell_type": "code",
   "execution_count": 27,
   "id": "6659c349",
   "metadata": {},
   "outputs": [
    {
     "name": "stdout",
     "output_type": "stream",
     "text": [
      "ram eats momo\n",
      "ram eats chawmein\n",
      "ram eats thukpa\n",
      "shyam eats momo\n",
      "shyam eats chawmein\n",
      "shyam eats thukpa\n",
      "gita eats momo\n",
      "gita eats chawmein\n",
      "gita eats thukpa\n",
      "sita eats momo\n",
      "sita eats chawmein\n",
      "sita eats thukpa\n"
     ]
    }
   ],
   "source": [
    "names = ['ram', 'shyam', 'gita', 'sita']\n",
    "foods = ['momo', 'chawmein', 'thukpa']\n",
    "\n",
    "# nested loop\n",
    "for name in names: # outer loop\n",
    "    for food in foods: # inner loop\n",
    "        print(f\"{name} eats {food}\")"
   ]
  },
  {
   "cell_type": "code",
   "execution_count": null,
   "id": "58fe6779",
   "metadata": {},
   "outputs": [],
   "source": []
  }
 ],
 "metadata": {
  "kernelspec": {
   "display_name": "Python 3 (ipykernel)",
   "language": "python",
   "name": "python3"
  },
  "language_info": {
   "codemirror_mode": {
    "name": "ipython",
    "version": 3
   },
   "file_extension": ".py",
   "mimetype": "text/x-python",
   "name": "python",
   "nbconvert_exporter": "python",
   "pygments_lexer": "ipython3",
   "version": "3.11.1"
  }
 },
 "nbformat": 4,
 "nbformat_minor": 5
}
