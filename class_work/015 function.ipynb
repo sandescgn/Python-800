{
 "cells": [
  {
   "cell_type": "code",
   "execution_count": 1,
   "id": "b01b929c",
   "metadata": {},
   "outputs": [
    {
     "name": "stdout",
     "output_type": "stream",
     "text": [
      "3\n"
     ]
    }
   ],
   "source": [
    "x = 1\n",
    "y = 2\n",
    "\n",
    "sum = x + y\n",
    "\n",
    "print(sum)"
   ]
  },
  {
   "cell_type": "code",
   "execution_count": 2,
   "id": "95759e45",
   "metadata": {},
   "outputs": [],
   "source": [
    "def addition():\n",
    "    x = 1\n",
    "    y = 2\n",
    "\n",
    "    sum = x + y\n",
    "\n",
    "    print(sum)"
   ]
  },
  {
   "cell_type": "code",
   "execution_count": 3,
   "id": "3978d6fb",
   "metadata": {},
   "outputs": [
    {
     "name": "stdout",
     "output_type": "stream",
     "text": [
      "3\n"
     ]
    }
   ],
   "source": [
    "addition()"
   ]
  },
  {
   "cell_type": "code",
   "execution_count": 4,
   "id": "614ebc0e",
   "metadata": {},
   "outputs": [
    {
     "name": "stdout",
     "output_type": "stream",
     "text": [
      "3\n"
     ]
    }
   ],
   "source": [
    "addition()"
   ]
  },
  {
   "cell_type": "code",
   "execution_count": 5,
   "id": "8d1eca48",
   "metadata": {},
   "outputs": [],
   "source": [
    "def addition(x, y): # arguments\n",
    "    sum = x + y\n",
    "\n",
    "    print(sum)"
   ]
  },
  {
   "cell_type": "code",
   "execution_count": 6,
   "id": "8dcc08b9",
   "metadata": {},
   "outputs": [
    {
     "name": "stdout",
     "output_type": "stream",
     "text": [
      "7\n"
     ]
    }
   ],
   "source": [
    "addition(3, 4)"
   ]
  },
  {
   "cell_type": "code",
   "execution_count": 7,
   "id": "e7b9aa54",
   "metadata": {},
   "outputs": [
    {
     "ename": "TypeError",
     "evalue": "addition() missing 2 required positional arguments: 'x' and 'y'",
     "output_type": "error",
     "traceback": [
      "\u001b[0;31m---------------------------------------------------------------------------\u001b[0m",
      "\u001b[0;31mTypeError\u001b[0m                                 Traceback (most recent call last)",
      "Cell \u001b[0;32mIn[7], line 1\u001b[0m\n\u001b[0;32m----> 1\u001b[0m \u001b[43maddition\u001b[49m\u001b[43m(\u001b[49m\u001b[43m)\u001b[49m\n",
      "\u001b[0;31mTypeError\u001b[0m: addition() missing 2 required positional arguments: 'x' and 'y'"
     ]
    }
   ],
   "source": [
    "addition()"
   ]
  },
  {
   "cell_type": "code",
   "execution_count": 8,
   "id": "50237be0",
   "metadata": {},
   "outputs": [],
   "source": [
    "def addition(x, y): # arguments\n",
    "    sum = x + y\n",
    "\n",
    "    return sum"
   ]
  },
  {
   "cell_type": "code",
   "execution_count": 10,
   "id": "c1ec8bfc",
   "metadata": {},
   "outputs": [],
   "source": [
    "a = addition(7, 8)"
   ]
  },
  {
   "cell_type": "code",
   "execution_count": 11,
   "id": "f20a947e",
   "metadata": {},
   "outputs": [
    {
     "name": "stdout",
     "output_type": "stream",
     "text": [
      "15\n"
     ]
    }
   ],
   "source": [
    "print(a)"
   ]
  },
  {
   "cell_type": "code",
   "execution_count": 12,
   "id": "278c3db2",
   "metadata": {},
   "outputs": [],
   "source": [
    "def calculator(x, y):\n",
    "    sum = x + y\n",
    "    mul = x * y\n",
    "    div = x / y\n",
    "    sub = x - y\n",
    "    return sum, mul, div, sub # tuple"
   ]
  },
  {
   "cell_type": "code",
   "execution_count": 13,
   "id": "38d2f38d",
   "metadata": {},
   "outputs": [],
   "source": [
    "a = calculator(26, 10)"
   ]
  },
  {
   "cell_type": "code",
   "execution_count": 14,
   "id": "cc9c033c",
   "metadata": {},
   "outputs": [
    {
     "name": "stdout",
     "output_type": "stream",
     "text": [
      "(36, 260, 2.6, 16)\n"
     ]
    }
   ],
   "source": [
    "print(a)"
   ]
  },
  {
   "cell_type": "code",
   "execution_count": 18,
   "id": "408a393c",
   "metadata": {},
   "outputs": [],
   "source": [
    "def full_name_gen(first_name, last_name):\n",
    "    full_name = first_name + ' ' + last_name\n",
    "    return full_name"
   ]
  },
  {
   "cell_type": "code",
   "execution_count": 19,
   "id": "69fb5985",
   "metadata": {},
   "outputs": [
    {
     "data": {
      "text/plain": [
       "'ramesh pradhan'"
      ]
     },
     "execution_count": 19,
     "metadata": {},
     "output_type": "execute_result"
    }
   ],
   "source": [
    "full_name_gen('ramesh','pradhan')"
   ]
  },
  {
   "cell_type": "code",
   "execution_count": 20,
   "id": "ab362505",
   "metadata": {},
   "outputs": [],
   "source": [
    "def addition(x, y): # arguments\n",
    "    sum = x + y\n",
    "\n",
    "    return sum"
   ]
  },
  {
   "cell_type": "code",
   "execution_count": 21,
   "id": "368a31b6",
   "metadata": {},
   "outputs": [
    {
     "data": {
      "text/plain": [
       "15"
      ]
     },
     "execution_count": 21,
     "metadata": {},
     "output_type": "execute_result"
    }
   ],
   "source": [
    "addition(7, 8)"
   ]
  },
  {
   "cell_type": "code",
   "execution_count": 22,
   "id": "6519d9fc",
   "metadata": {},
   "outputs": [
    {
     "data": {
      "text/plain": [
       "15"
      ]
     },
     "execution_count": 22,
     "metadata": {},
     "output_type": "execute_result"
    }
   ],
   "source": [
    "addition(x=7, y=8) # keyword arguments"
   ]
  },
  {
   "cell_type": "code",
   "execution_count": 23,
   "id": "86b853a7",
   "metadata": {},
   "outputs": [
    {
     "data": {
      "text/plain": [
       "15"
      ]
     },
     "execution_count": 23,
     "metadata": {},
     "output_type": "execute_result"
    }
   ],
   "source": [
    "addition(7, y=8) # first => positional argument, second => keyword argument"
   ]
  },
  {
   "cell_type": "code",
   "execution_count": 24,
   "id": "3c5f1671",
   "metadata": {},
   "outputs": [
    {
     "data": {
      "text/plain": [
       "15"
      ]
     },
     "execution_count": 24,
     "metadata": {},
     "output_type": "execute_result"
    }
   ],
   "source": [
    "addition(y=8, x=7)"
   ]
  },
  {
   "cell_type": "code",
   "execution_count": 25,
   "id": "53d5357f",
   "metadata": {},
   "outputs": [
    {
     "ename": "SyntaxError",
     "evalue": "positional argument follows keyword argument (1728496633.py, line 1)",
     "output_type": "error",
     "traceback": [
      "\u001b[0;36m  Cell \u001b[0;32mIn[25], line 1\u001b[0;36m\u001b[0m\n\u001b[0;31m    addition(x=7, 8)\u001b[0m\n\u001b[0m                   ^\u001b[0m\n\u001b[0;31mSyntaxError\u001b[0m\u001b[0;31m:\u001b[0m positional argument follows keyword argument\n"
     ]
    }
   ],
   "source": [
    "addition(x=7, 8)"
   ]
  },
  {
   "cell_type": "code",
   "execution_count": 27,
   "id": "4337710e",
   "metadata": {},
   "outputs": [],
   "source": [
    "def addition(x, y=0): # y is default argument\n",
    "    sum = x + y # 7 + 0 => 7\n",
    "\n",
    "    return sum"
   ]
  },
  {
   "cell_type": "code",
   "execution_count": 28,
   "id": "4964637a",
   "metadata": {},
   "outputs": [
    {
     "data": {
      "text/plain": [
       "7"
      ]
     },
     "execution_count": 28,
     "metadata": {},
     "output_type": "execute_result"
    }
   ],
   "source": [
    "addition(7)"
   ]
  },
  {
   "cell_type": "code",
   "execution_count": 29,
   "id": "6119f33a",
   "metadata": {},
   "outputs": [
    {
     "data": {
      "text/plain": [
       "15"
      ]
     },
     "execution_count": 29,
     "metadata": {},
     "output_type": "execute_result"
    }
   ],
   "source": [
    "addition(7, 8)"
   ]
  },
  {
   "cell_type": "code",
   "execution_count": 32,
   "id": "eddc85d8",
   "metadata": {},
   "outputs": [],
   "source": [
    "def full_name_gen(first_name, last_name, middle_name=''):\n",
    "    full_name = f\"{first_name} {middle_name} {last_name}\"\n",
    "    return full_name"
   ]
  },
  {
   "cell_type": "code",
   "execution_count": 33,
   "id": "faf55935",
   "metadata": {},
   "outputs": [
    {
     "data": {
      "text/plain": [
       "'ram bahadur pradhan'"
      ]
     },
     "execution_count": 33,
     "metadata": {},
     "output_type": "execute_result"
    }
   ],
   "source": [
    "full_name_gen('ram', 'pradhan', 'bahadur')"
   ]
  },
  {
   "cell_type": "code",
   "execution_count": 34,
   "id": "eb7b1a69",
   "metadata": {},
   "outputs": [
    {
     "data": {
      "text/plain": [
       "'ram  pradhan'"
      ]
     },
     "execution_count": 34,
     "metadata": {},
     "output_type": "execute_result"
    }
   ],
   "source": [
    "full_name_gen('ram', 'pradhan')"
   ]
  },
  {
   "cell_type": "code",
   "execution_count": 35,
   "id": "44a01513",
   "metadata": {},
   "outputs": [
    {
     "data": {
      "text/plain": [
       "'ram bahadur pradhan'"
      ]
     },
     "execution_count": 35,
     "metadata": {},
     "output_type": "execute_result"
    }
   ],
   "source": [
    "full_name_gen(first_name='ram', middle_name='bahadur', last_name='pradhan')"
   ]
  },
  {
   "cell_type": "code",
   "execution_count": 36,
   "id": "a54188fd",
   "metadata": {},
   "outputs": [],
   "source": [
    "def addition(x, y, z): # arguments\n",
    "    sum = x + y + z\n",
    "\n",
    "    return sum"
   ]
  },
  {
   "cell_type": "code",
   "execution_count": 37,
   "id": "d3670de1",
   "metadata": {},
   "outputs": [
    {
     "data": {
      "text/plain": [
       "24"
      ]
     },
     "execution_count": 37,
     "metadata": {},
     "output_type": "execute_result"
    }
   ],
   "source": [
    "addition(7, 8 ,9)"
   ]
  },
  {
   "cell_type": "code",
   "execution_count": 38,
   "id": "bdcd5e4b",
   "metadata": {},
   "outputs": [],
   "source": [
    "def addition(x, y, z, a): # arguments\n",
    "    sum = x + y + z + a\n",
    "\n",
    "    return sum"
   ]
  },
  {
   "cell_type": "code",
   "execution_count": 39,
   "id": "c2b05249",
   "metadata": {},
   "outputs": [
    {
     "data": {
      "text/plain": [
       "25"
      ]
     },
     "execution_count": 39,
     "metadata": {},
     "output_type": "execute_result"
    }
   ],
   "source": [
    "addition(7, 8 ,9 ,1)"
   ]
  },
  {
   "cell_type": "code",
   "execution_count": 42,
   "id": "bdfa2ada",
   "metadata": {},
   "outputs": [],
   "source": [
    "def addition(*args):\n",
    "    print(args, type(args))"
   ]
  },
  {
   "cell_type": "code",
   "execution_count": 44,
   "id": "5c73f59e",
   "metadata": {},
   "outputs": [
    {
     "name": "stdout",
     "output_type": "stream",
     "text": [
      "(7, 8, 9, 1, 11) <class 'tuple'>\n"
     ]
    }
   ],
   "source": [
    "addition(7, 8 ,9 ,1, 11)"
   ]
  },
  {
   "cell_type": "code",
   "execution_count": 45,
   "id": "5e79eb86",
   "metadata": {},
   "outputs": [],
   "source": [
    "def addition(*args): # * => variable/any no. of positional argument\n",
    "    sum = 0\n",
    "    for i in args:\n",
    "        sum += i\n",
    "        \n",
    "    return sum"
   ]
  },
  {
   "cell_type": "code",
   "execution_count": 46,
   "id": "af4d64eb",
   "metadata": {},
   "outputs": [
    {
     "data": {
      "text/plain": [
       "36"
      ]
     },
     "execution_count": 46,
     "metadata": {},
     "output_type": "execute_result"
    }
   ],
   "source": [
    "addition(7, 8 ,9 ,1, 11)"
   ]
  },
  {
   "cell_type": "code",
   "execution_count": 47,
   "id": "0ea46aaa",
   "metadata": {},
   "outputs": [
    {
     "ename": "TypeError",
     "evalue": "addition() got an unexpected keyword argument 'x'",
     "output_type": "error",
     "traceback": [
      "\u001b[0;31m---------------------------------------------------------------------------\u001b[0m",
      "\u001b[0;31mTypeError\u001b[0m                                 Traceback (most recent call last)",
      "Cell \u001b[0;32mIn[47], line 1\u001b[0m\n\u001b[0;32m----> 1\u001b[0m \u001b[43maddition\u001b[49m\u001b[43m(\u001b[49m\u001b[43mx\u001b[49m\u001b[38;5;241;43m=\u001b[39;49m\u001b[38;5;241;43m7\u001b[39;49m\u001b[43m,\u001b[49m\u001b[43m \u001b[49m\u001b[43my\u001b[49m\u001b[38;5;241;43m=\u001b[39;49m\u001b[38;5;241;43m8\u001b[39;49m\u001b[43m \u001b[49m\u001b[43m,\u001b[49m\u001b[43mz\u001b[49m\u001b[38;5;241;43m=\u001b[39;49m\u001b[38;5;241;43m9\u001b[39;49m\u001b[43m \u001b[49m\u001b[43m,\u001b[49m\u001b[43ma\u001b[49m\u001b[38;5;241;43m=\u001b[39;49m\u001b[38;5;241;43m1\u001b[39;49m\u001b[43m,\u001b[49m\u001b[43m \u001b[49m\u001b[43mb\u001b[49m\u001b[38;5;241;43m=\u001b[39;49m\u001b[38;5;241;43m11\u001b[39;49m\u001b[43m)\u001b[49m\n",
      "\u001b[0;31mTypeError\u001b[0m: addition() got an unexpected keyword argument 'x'"
     ]
    }
   ],
   "source": [
    "addition(x=7, y=8 ,z=9 ,a=1, b=11)"
   ]
  },
  {
   "cell_type": "code",
   "execution_count": 48,
   "id": "baf35098",
   "metadata": {},
   "outputs": [],
   "source": [
    "def addition(**kwargs):\n",
    "    print(kwargs, type(kwargs))"
   ]
  },
  {
   "cell_type": "code",
   "execution_count": 49,
   "id": "1a061976",
   "metadata": {},
   "outputs": [
    {
     "name": "stdout",
     "output_type": "stream",
     "text": [
      "{'x': 7, 'y': 8, 'z': 9, 'a': 1, 'b': 11} <class 'dict'>\n"
     ]
    }
   ],
   "source": [
    "addition(x=7, y=8 ,z=9 ,a=1, b=11)"
   ]
  },
  {
   "cell_type": "code",
   "execution_count": 50,
   "id": "b126bd37",
   "metadata": {},
   "outputs": [],
   "source": [
    "def addition(**kwargs):\n",
    "    sum = 0\n",
    "    for k, v in kwargs.items():\n",
    "        sum += v\n",
    "    return sum"
   ]
  },
  {
   "cell_type": "code",
   "execution_count": 51,
   "id": "7791b09d",
   "metadata": {},
   "outputs": [
    {
     "data": {
      "text/plain": [
       "36"
      ]
     },
     "execution_count": 51,
     "metadata": {},
     "output_type": "execute_result"
    }
   ],
   "source": [
    "addition(x=7, y=8 ,z=9 ,a=1, b=11)"
   ]
  },
  {
   "cell_type": "code",
   "execution_count": 52,
   "id": "880a725f",
   "metadata": {},
   "outputs": [],
   "source": [
    "def addition(**kwargs): # keyword arguments\n",
    "    sum = 0\n",
    "    for v in kwargs.values():\n",
    "        sum += v\n",
    "    return sum"
   ]
  },
  {
   "cell_type": "code",
   "execution_count": 53,
   "id": "870fcbfa",
   "metadata": {},
   "outputs": [
    {
     "data": {
      "text/plain": [
       "36"
      ]
     },
     "execution_count": 53,
     "metadata": {},
     "output_type": "execute_result"
    }
   ],
   "source": [
    "addition(x=7, y=8 ,z=9 ,a=1, b=11) # keyword arguments"
   ]
  },
  {
   "cell_type": "code",
   "execution_count": 54,
   "id": "34ddb3e8",
   "metadata": {},
   "outputs": [
    {
     "ename": "TypeError",
     "evalue": "addition() takes 0 positional arguments but 3 were given",
     "output_type": "error",
     "traceback": [
      "\u001b[0;31m---------------------------------------------------------------------------\u001b[0m",
      "\u001b[0;31mTypeError\u001b[0m                                 Traceback (most recent call last)",
      "Cell \u001b[0;32mIn[54], line 1\u001b[0m\n\u001b[0;32m----> 1\u001b[0m \u001b[43maddition\u001b[49m\u001b[43m(\u001b[49m\u001b[38;5;241;43m1\u001b[39;49m\u001b[43m,\u001b[49m\u001b[38;5;241;43m2\u001b[39;49m\u001b[43m,\u001b[49m\u001b[38;5;241;43m3\u001b[39;49m\u001b[43m,\u001b[49m\u001b[43mx\u001b[49m\u001b[38;5;241;43m=\u001b[39;49m\u001b[38;5;241;43m7\u001b[39;49m\u001b[43m,\u001b[49m\u001b[43m \u001b[49m\u001b[43my\u001b[49m\u001b[38;5;241;43m=\u001b[39;49m\u001b[38;5;241;43m8\u001b[39;49m\u001b[43m \u001b[49m\u001b[43m,\u001b[49m\u001b[43mz\u001b[49m\u001b[38;5;241;43m=\u001b[39;49m\u001b[38;5;241;43m9\u001b[39;49m\u001b[43m \u001b[49m\u001b[43m,\u001b[49m\u001b[43ma\u001b[49m\u001b[38;5;241;43m=\u001b[39;49m\u001b[38;5;241;43m1\u001b[39;49m\u001b[43m,\u001b[49m\u001b[43m \u001b[49m\u001b[43mb\u001b[49m\u001b[38;5;241;43m=\u001b[39;49m\u001b[38;5;241;43m11\u001b[39;49m\u001b[43m)\u001b[49m\n",
      "\u001b[0;31mTypeError\u001b[0m: addition() takes 0 positional arguments but 3 were given"
     ]
    }
   ],
   "source": [
    "addition(1,2,3,x=7, y=8 ,z=9 ,a=1, b=11)"
   ]
  },
  {
   "cell_type": "code",
   "execution_count": 57,
   "id": "69059d42",
   "metadata": {},
   "outputs": [],
   "source": [
    "def addition(*args, **kwargs): # args => tuple, kwargs => dict\n",
    "    print(args, type(args))\n",
    "    print(kwargs, type(kwargs))"
   ]
  },
  {
   "cell_type": "code",
   "execution_count": 58,
   "id": "801a4723",
   "metadata": {},
   "outputs": [
    {
     "name": "stdout",
     "output_type": "stream",
     "text": [
      "(1, 2, 3) <class 'tuple'>\n",
      "{'x': 7, 'y': 8, 'z': 9, 'a': 1, 'b': 11} <class 'dict'>\n"
     ]
    }
   ],
   "source": [
    "addition(1,2,3,x=7, y=8 ,z=9 ,a=1, b=11)"
   ]
  },
  {
   "cell_type": "code",
   "execution_count": 59,
   "id": "cd95e782",
   "metadata": {},
   "outputs": [],
   "source": [
    "def addition(*args, **kwargs):\n",
    "    sum = 0\n",
    "    \n",
    "    for i in args:\n",
    "        sum += i\n",
    "        \n",
    "    for v in kwargs.values():\n",
    "        sum += v\n",
    "        \n",
    "    return sum"
   ]
  },
  {
   "cell_type": "code",
   "execution_count": 60,
   "id": "b1f6339b",
   "metadata": {},
   "outputs": [
    {
     "data": {
      "text/plain": [
       "42"
      ]
     },
     "execution_count": 60,
     "metadata": {},
     "output_type": "execute_result"
    }
   ],
   "source": [
    "addition(1,2,3,x=7, y=8 ,z=9 ,a=1, b=11)"
   ]
  },
  {
   "cell_type": "code",
   "execution_count": null,
   "id": "950b55bb",
   "metadata": {},
   "outputs": [],
   "source": []
  }
 ],
 "metadata": {
  "kernelspec": {
   "display_name": "Python 3 (ipykernel)",
   "language": "python",
   "name": "python3"
  },
  "language_info": {
   "codemirror_mode": {
    "name": "ipython",
    "version": 3
   },
   "file_extension": ".py",
   "mimetype": "text/x-python",
   "name": "python",
   "nbconvert_exporter": "python",
   "pygments_lexer": "ipython3",
   "version": "3.11.1"
  }
 },
 "nbformat": 4,
 "nbformat_minor": 5
}
