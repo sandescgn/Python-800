{
 "cells": [
  {
   "cell_type": "code",
   "execution_count": 2,
   "id": "d1173bf8",
   "metadata": {},
   "outputs": [
    {
     "name": "stdout",
     "output_type": "stream",
     "text": [
      "1\n",
      "2\n",
      "3\n",
      "4\n",
      "5\n"
     ]
    }
   ],
   "source": [
    "x = [1,2,3,4,5]\n",
    "\n",
    "for i in x:\n",
    "    print(i)"
   ]
  },
  {
   "cell_type": "code",
   "execution_count": 7,
   "id": "0ba59f61",
   "metadata": {},
   "outputs": [
    {
     "name": "stdout",
     "output_type": "stream",
     "text": [
      "1,2,3,4\n"
     ]
    }
   ],
   "source": [
    "print(1,2,3,4,sep=',')"
   ]
  },
  {
   "cell_type": "code",
   "execution_count": 8,
   "id": "faffab7e",
   "metadata": {},
   "outputs": [
    {
     "name": "stdout",
     "output_type": "stream",
     "text": [
      "1,4,9,16,25,"
     ]
    }
   ],
   "source": [
    "x = [1,2,3,4,5] # iterable => string, tuple, list, set, dictionary\n",
    "\n",
    "for i in x:\n",
    "    print(i ** 2, end=',')"
   ]
  },
  {
   "cell_type": "code",
   "execution_count": 3,
   "id": "ae8b854c",
   "metadata": {},
   "outputs": [
    {
     "name": "stdout",
     "output_type": "stream",
     "text": [
      "1\n",
      "4\n",
      "9\n",
      "16\n",
      "25\n"
     ]
    }
   ],
   "source": [
    "x = [1,2,3,4,5] # iterable => string, tuple, list, set, dictionary\n",
    "\n",
    "for i in x:\n",
    "    print(i ** 2)"
   ]
  },
  {
   "cell_type": "code",
   "execution_count": 5,
   "id": "84588862",
   "metadata": {},
   "outputs": [
    {
     "name": "stdout",
     "output_type": "stream",
     "text": [
      "[1, 4, 9, 16, 25]\n"
     ]
    }
   ],
   "source": [
    "x = [1,2,3,4,5] \n",
    "square = [] # [1,4,9,16,25]\n",
    "\n",
    "for xyz in x:\n",
    "    square.append(xyz ** 2)\n",
    "    \n",
    "print(square)"
   ]
  },
  {
   "cell_type": "code",
   "execution_count": 6,
   "id": "f42b532c",
   "metadata": {},
   "outputs": [
    {
     "name": "stdout",
     "output_type": "stream",
     "text": [
      "[1, 2, 3, 4, 5]\n"
     ]
    }
   ],
   "source": [
    "x = [1,2,3,4,5] \n",
    "print(x)"
   ]
  },
  {
   "cell_type": "code",
   "execution_count": 9,
   "id": "461ba12f",
   "metadata": {},
   "outputs": [
    {
     "name": "stdout",
     "output_type": "stream",
     "text": [
      "15\n"
     ]
    }
   ],
   "source": [
    "x = [1,2,3,4,5]\n",
    "sum = 0\n",
    "\n",
    "for i in x:\n",
    "    sum += i # 1 + 2 + 3 \n",
    "    \n",
    "print(sum)"
   ]
  },
  {
   "cell_type": "code",
   "execution_count": 12,
   "id": "4103a67a",
   "metadata": {},
   "outputs": [
    {
     "name": "stdout",
     "output_type": "stream",
     "text": [
      "120\n"
     ]
    }
   ],
   "source": [
    "x = [1,2,3,4,5]\n",
    "mul = 1\n",
    "\n",
    "for i in x:\n",
    "    mul *= i # 1 * 2 * 3 \n",
    "    \n",
    "print(mul)"
   ]
  },
  {
   "cell_type": "code",
   "execution_count": 13,
   "id": "890ecb90",
   "metadata": {},
   "outputs": [
    {
     "name": "stdout",
     "output_type": "stream",
     "text": [
      "1\n",
      "3\n",
      "5\n",
      "7\n",
      "9\n"
     ]
    }
   ],
   "source": [
    "x = [1,2,3,4,5,6,7,8,9,10]\n",
    "# remainder should be 1 when divided by 2\n",
    "\n",
    "for i in x:\n",
    "    if i % 2 == 1:\n",
    "        print(i)"
   ]
  },
  {
   "cell_type": "code",
   "execution_count": 14,
   "id": "be30e8e7",
   "metadata": {},
   "outputs": [
    {
     "name": "stdout",
     "output_type": "stream",
     "text": [
      "2\n",
      "4\n",
      "6\n",
      "8\n",
      "10\n"
     ]
    }
   ],
   "source": [
    "x = [1,2,3,4,5,6,7,8,9,10]\n",
    "# remainder should be 1 when divided by 2\n",
    "\n",
    "for i in x:\n",
    "    if i % 2 == 0:\n",
    "        print(i)"
   ]
  },
  {
   "cell_type": "code",
   "execution_count": 16,
   "id": "4057436e",
   "metadata": {},
   "outputs": [
    {
     "name": "stdout",
     "output_type": "stream",
     "text": [
      "[2, 4, 6, 8, 10]\n"
     ]
    }
   ],
   "source": [
    "x = [1,2,3,4,5,6,7,8,9,10]\n",
    "# remainder should be 1 when divided by 2\n",
    "\n",
    "even_list = []\n",
    "for i in x:\n",
    "    if i % 2 == 0:\n",
    "        even_list.append(i)\n",
    "print(even_list)"
   ]
  },
  {
   "cell_type": "code",
   "execution_count": 23,
   "id": "d8cfad85",
   "metadata": {},
   "outputs": [
    {
     "name": "stdout",
     "output_type": "stream",
     "text": [
      "12\n",
      "24\n"
     ]
    }
   ],
   "source": [
    "x = [1,2,3,4,5,6,7,8,9,10,11,12,24] \n",
    "# divisible by 3 and divisible by 4\n",
    "for i in x:\n",
    "    if i % 3 == 0 and i % 4 == 0:\n",
    "        print(i)"
   ]
  },
  {
   "cell_type": "code",
   "execution_count": 19,
   "id": "2a517738",
   "metadata": {},
   "outputs": [
    {
     "name": "stdout",
     "output_type": "stream",
     "text": [
      "[12, 24]\n"
     ]
    }
   ],
   "source": [
    "x = [1,2,3,4,5,6,7,8,9,10,11,12,24] \n",
    "# divisible by 3 and divisible by 4\n",
    "numbers = []\n",
    "for i in x:\n",
    "    if i % 3 == 0 and i % 4 == 0:\n",
    "        numbers.append(i)\n",
    "\n",
    "print(numbers)"
   ]
  },
  {
   "cell_type": "code",
   "execution_count": 20,
   "id": "358af9b7",
   "metadata": {},
   "outputs": [
    {
     "name": "stdout",
     "output_type": "stream",
     "text": [
      "[1, 2, 3, 4, 5, 6, 7, 8, 9, 10, 11, 12, 24]\n"
     ]
    }
   ],
   "source": [
    "x = [1,2,3,4,5,12,1,6,2,7,8,9,3,9,10,11,12,24,1,2,3,8] \n",
    "unique_list = list(set(x))\n",
    "print(unique_list)"
   ]
  },
  {
   "cell_type": "code",
   "execution_count": 25,
   "id": "dfc512a3",
   "metadata": {},
   "outputs": [
    {
     "name": "stdout",
     "output_type": "stream",
     "text": [
      "[100, 1, 2, 3, 4, 5, 12, 6, 7, 8, 9, 10, 11, 24]\n"
     ]
    }
   ],
   "source": [
    "x = [100,1,2,1,3,4,5,12,1,6,2,7,8,9,3,9,10,11,12,24,1,2,3,8] \n",
    "\n",
    "unique_list = [] # [1,2,]\n",
    "\n",
    "for i in x:\n",
    "    if i not in unique_list:\n",
    "        unique_list.append(i)\n",
    "        \n",
    "print(unique_list)"
   ]
  },
  {
   "cell_type": "code",
   "execution_count": 26,
   "id": "3f7cc5b9",
   "metadata": {},
   "outputs": [
    {
     "name": "stdout",
     "output_type": "stream",
     "text": [
      "[100, 1, 2, 3, 4, 5, 12, 6, 7, 8, 9, 10, 11, 24]\n"
     ]
    }
   ],
   "source": [
    "x = (100,1,2,1,3,4,5,12,1,6,2,7,8,9,3,9,10,11,12,24,1,2,3,8) \n",
    "# order maintain\n",
    "\n",
    "unique_list = [] # [1,2,]\n",
    "\n",
    "for i in x:\n",
    "    if i not in unique_list:\n",
    "        unique_list.append(i)\n",
    "        \n",
    "print(unique_list)"
   ]
  },
  {
   "cell_type": "code",
   "execution_count": 27,
   "id": "293985f9",
   "metadata": {},
   "outputs": [
    {
     "name": "stdout",
     "output_type": "stream",
     "text": [
      "r\n",
      "a\n",
      "m\n",
      "e\n",
      "s\n",
      "h\n",
      " \n",
      "p\n",
      "r\n",
      "a\n",
      "d\n",
      "h\n",
      "a\n",
      "n\n"
     ]
    }
   ],
   "source": [
    "name = 'ramesh pradhan' # count no of vowels => a,e,i,o,u\n",
    "\n",
    "for i in name:\n",
    "    print(i)"
   ]
  },
  {
   "cell_type": "code",
   "execution_count": 28,
   "id": "be62854d",
   "metadata": {},
   "outputs": [
    {
     "name": "stdout",
     "output_type": "stream",
     "text": [
      "4\n"
     ]
    }
   ],
   "source": [
    "name = 'ramesh pradhan' # count no of vowels => a,e,i,o,u\n",
    "\n",
    "vowel_count = 0\n",
    "for i in name:\n",
    "    if i in 'aeiou':\n",
    "        vowel_count += 1\n",
    "        \n",
    "print(vowel_count)"
   ]
  },
  {
   "cell_type": "code",
   "execution_count": 30,
   "id": "1388aabf",
   "metadata": {},
   "outputs": [
    {
     "name": "stdout",
     "output_type": "stream",
     "text": [
      "4\n"
     ]
    }
   ],
   "source": [
    "name = 'ramesh prAdhAn' # count no of vowels => a,e,i,o,u\n",
    "\n",
    "vowel_count = 0\n",
    "for i in name:\n",
    "    if i.lower() in 'aeiou':\n",
    "        vowel_count += 1\n",
    "        \n",
    "print(vowel_count)"
   ]
  },
  {
   "cell_type": "code",
   "execution_count": 31,
   "id": "a1b48d8b",
   "metadata": {},
   "outputs": [
    {
     "name": "stdout",
     "output_type": "stream",
     "text": [
      "Alan\n",
      "Bill\n",
      "Cory\n"
     ]
    }
   ],
   "source": [
    "marks = {'Alan': 99, 'Bill': 55, 'Cory': 77} \n",
    "\n",
    "for m in marks: # loops in keys\n",
    "    print(m)"
   ]
  },
  {
   "cell_type": "code",
   "execution_count": 32,
   "id": "5db40de4",
   "metadata": {},
   "outputs": [
    {
     "name": "stdout",
     "output_type": "stream",
     "text": [
      "Alan\n",
      "Bill\n",
      "Cory\n"
     ]
    }
   ],
   "source": [
    "marks = {'Alan': 99, 'Bill': 55, 'Cory': 77} \n",
    "\n",
    "for m in marks.keys(): # loops in keys\n",
    "    print(m)"
   ]
  },
  {
   "cell_type": "code",
   "execution_count": 33,
   "id": "88b3844d",
   "metadata": {},
   "outputs": [
    {
     "name": "stdout",
     "output_type": "stream",
     "text": [
      "99\n",
      "55\n",
      "77\n"
     ]
    }
   ],
   "source": [
    "marks = {'Alan': 99, 'Bill': 55, 'Cory': 77} \n",
    "\n",
    "for m in marks.values(): # loops in values\n",
    "    print(m)"
   ]
  },
  {
   "cell_type": "code",
   "execution_count": 34,
   "id": "82ccdb37",
   "metadata": {},
   "outputs": [
    {
     "name": "stdout",
     "output_type": "stream",
     "text": [
      "231\n"
     ]
    }
   ],
   "source": [
    "marks = {'Alan': 99, 'Bill': 55, 'Cory': 77} \n",
    "\n",
    "total_marks = 0\n",
    "for m in marks.values(): # loops in values\n",
    "    total_marks += m\n",
    "    \n",
    "print(total_marks)"
   ]
  },
  {
   "cell_type": "code",
   "execution_count": 35,
   "id": "00859d87",
   "metadata": {},
   "outputs": [
    {
     "name": "stdout",
     "output_type": "stream",
     "text": [
      "('Alan', 99)\n",
      "('Bill', 55)\n",
      "('Cory', 77)\n"
     ]
    }
   ],
   "source": [
    "marks = {'Alan': 99, 'Bill': 55, 'Cory': 77} \n",
    "\n",
    "for m in marks.items(): # loops in key, value pair\n",
    "    print(m)"
   ]
  },
  {
   "cell_type": "code",
   "execution_count": 36,
   "id": "a2b03753",
   "metadata": {},
   "outputs": [
    {
     "name": "stdout",
     "output_type": "stream",
     "text": [
      "Alan 99\n"
     ]
    }
   ],
   "source": [
    "x, y = ('Alan', 99) # tuple unpacking\n",
    "\n",
    "print(x,y)"
   ]
  },
  {
   "cell_type": "code",
   "execution_count": 37,
   "id": "619046f1",
   "metadata": {},
   "outputs": [
    {
     "name": "stdout",
     "output_type": "stream",
     "text": [
      "Alan 99\n",
      "Bill 55\n",
      "Cory 77\n"
     ]
    }
   ],
   "source": [
    "marks = {'Alan': 99, 'Bill': 55, 'Cory': 77} \n",
    "\n",
    "for k, v in marks.items(): # loops in key, value pair => upacking key,value pair in k,v\n",
    "    print(k, v)"
   ]
  },
  {
   "cell_type": "code",
   "execution_count": 38,
   "id": "51cb293b",
   "metadata": {},
   "outputs": [
    {
     "name": "stdout",
     "output_type": "stream",
     "text": [
      "231\n"
     ]
    }
   ],
   "source": [
    "marks = {'Alan': 99, 'Bill': 55, 'Cory': 77} \n",
    "\n",
    "total_marks = 0\n",
    "for k, v in marks.items(): # loops in key, value pair => upacking key,value pair in k,v\n",
    "    total_marks += v\n",
    "    \n",
    "print(total_marks)"
   ]
  },
  {
   "cell_type": "code",
   "execution_count": 40,
   "id": "eb008788",
   "metadata": {},
   "outputs": [
    {
     "name": "stdout",
     "output_type": "stream",
     "text": [
      "1,2,3,100,4,5,6,7,8,9,10,12,11,24,"
     ]
    }
   ],
   "source": [
    "x = {100,1,2,1,3,4,5,12,1,6,2,7,8,9,3,9,10,11,12,24,1,2,3,8}\n",
    "\n",
    "for i in x:\n",
    "    print(i, end=',')"
   ]
  },
  {
   "cell_type": "code",
   "execution_count": 41,
   "id": "8e89d9b8",
   "metadata": {},
   "outputs": [],
   "source": [
    "x = [100,1,2,1,3,4,5,12,1,6,2]\n",
    "\n",
    "# index, value\n",
    "# 0, 100\n",
    "# 1, 1\n",
    "# 2, 2\n",
    "# 3, 1"
   ]
  },
  {
   "cell_type": "code",
   "execution_count": 42,
   "id": "5b0d6155",
   "metadata": {},
   "outputs": [
    {
     "data": {
      "text/plain": [
       "range(0, 10)"
      ]
     },
     "execution_count": 42,
     "metadata": {},
     "output_type": "execute_result"
    }
   ],
   "source": [
    "range(0, 10)"
   ]
  },
  {
   "cell_type": "code",
   "execution_count": 43,
   "id": "c1654405",
   "metadata": {},
   "outputs": [
    {
     "data": {
      "text/plain": [
       "[0, 1, 2, 3, 4, 5, 6, 7, 8, 9]"
      ]
     },
     "execution_count": 43,
     "metadata": {},
     "output_type": "execute_result"
    }
   ],
   "source": [
    "list(range(0, 10))"
   ]
  },
  {
   "cell_type": "code",
   "execution_count": 44,
   "id": "74bb3e5e",
   "metadata": {},
   "outputs": [
    {
     "data": {
      "text/plain": [
       "[2, 3, 4, 5, 6, 7, 8, 9]"
      ]
     },
     "execution_count": 44,
     "metadata": {},
     "output_type": "execute_result"
    }
   ],
   "source": [
    "list(range(2, 10))"
   ]
  },
  {
   "cell_type": "code",
   "execution_count": 45,
   "id": "b4f57ff4",
   "metadata": {},
   "outputs": [
    {
     "data": {
      "text/plain": [
       "[2, 3, 4, 5, 6, 7, 8, 9]"
      ]
     },
     "execution_count": 45,
     "metadata": {},
     "output_type": "execute_result"
    }
   ],
   "source": [
    "list(range(2, 10, 1))"
   ]
  },
  {
   "cell_type": "code",
   "execution_count": 46,
   "id": "297e90d0",
   "metadata": {},
   "outputs": [
    {
     "data": {
      "text/plain": [
       "[2, 4, 6, 8]"
      ]
     },
     "execution_count": 46,
     "metadata": {},
     "output_type": "execute_result"
    }
   ],
   "source": [
    "list(range(2, 10, 2)) # start, end, step"
   ]
  },
  {
   "cell_type": "code",
   "execution_count": 47,
   "id": "f90eed86",
   "metadata": {},
   "outputs": [
    {
     "data": {
      "text/plain": [
       "[10, 9, 8, 7, 6, 5, 4, 3, 2]"
      ]
     },
     "execution_count": 47,
     "metadata": {},
     "output_type": "execute_result"
    }
   ],
   "source": [
    "list(range(10, 1, -1))"
   ]
  },
  {
   "cell_type": "code",
   "execution_count": 48,
   "id": "f67869ee",
   "metadata": {},
   "outputs": [
    {
     "name": "stdout",
     "output_type": "stream",
     "text": [
      "11\n"
     ]
    }
   ],
   "source": [
    "x = [100,1,2,1,3,4,5,12,1,6,2]\n",
    "\n",
    "print(len(x))"
   ]
  },
  {
   "cell_type": "code",
   "execution_count": 51,
   "id": "f344afeb",
   "metadata": {},
   "outputs": [
    {
     "data": {
      "text/plain": [
       "[0, 1, 2, 3, 4, 5, 6, 7, 8, 9, 10]"
      ]
     },
     "execution_count": 51,
     "metadata": {},
     "output_type": "execute_result"
    }
   ],
   "source": [
    "list(range(0,len(x)))"
   ]
  },
  {
   "cell_type": "code",
   "execution_count": 50,
   "id": "21f9ad51",
   "metadata": {},
   "outputs": [
    {
     "name": "stdout",
     "output_type": "stream",
     "text": [
      "100,1,2,1,3,4,5,12,1,6,2,"
     ]
    }
   ],
   "source": [
    "x = [100,1,2,1,3,4,5,12,1,6,2]\n",
    "\n",
    "for i in range(0,len(x)): #[0,1,2,3,4,5,..., 10]\n",
    "    print(x[i], end=',')"
   ]
  },
  {
   "cell_type": "code",
   "execution_count": 52,
   "id": "28f8369a",
   "metadata": {},
   "outputs": [
    {
     "name": "stdout",
     "output_type": "stream",
     "text": [
      "0 100\n",
      "1 1\n",
      "2 2\n",
      "3 1\n",
      "4 3\n",
      "5 4\n",
      "6 5\n",
      "7 12\n",
      "8 1\n",
      "9 6\n",
      "10 2\n"
     ]
    }
   ],
   "source": [
    "x = [100,1,2,1,3,4,5,12,1,6,2]\n",
    "\n",
    "for i in range(0,len(x)): #[0,1,2,3,4,5,..., 10]\n",
    "    print(i, x[i])"
   ]
  },
  {
   "cell_type": "code",
   "execution_count": 54,
   "id": "742d93b2",
   "metadata": {},
   "outputs": [
    {
     "data": {
      "text/plain": [
       "11"
      ]
     },
     "execution_count": 54,
     "metadata": {},
     "output_type": "execute_result"
    }
   ],
   "source": [
    "len(x)"
   ]
  },
  {
   "cell_type": "code",
   "execution_count": 57,
   "id": "60d5d563",
   "metadata": {},
   "outputs": [
    {
     "data": {
      "text/plain": [
       "[10, 9, 8, 7, 6, 5, 4, 3, 2, 1, 0]"
      ]
     },
     "execution_count": 57,
     "metadata": {},
     "output_type": "execute_result"
    }
   ],
   "source": [
    "list(range(len(x)-1 ,-1, -1)) # 0, "
   ]
  },
  {
   "cell_type": "code",
   "execution_count": 55,
   "id": "31ed91be",
   "metadata": {},
   "outputs": [
    {
     "ename": "IndexError",
     "evalue": "list index out of range",
     "output_type": "error",
     "traceback": [
      "\u001b[0;31m---------------------------------------------------------------------------\u001b[0m",
      "\u001b[0;31mIndexError\u001b[0m                                Traceback (most recent call last)",
      "Cell \u001b[0;32mIn[55], line 2\u001b[0m\n\u001b[1;32m      1\u001b[0m x \u001b[38;5;241m=\u001b[39m [\u001b[38;5;241m100\u001b[39m,\u001b[38;5;241m1\u001b[39m,\u001b[38;5;241m2\u001b[39m,\u001b[38;5;241m1\u001b[39m,\u001b[38;5;241m3\u001b[39m,\u001b[38;5;241m4\u001b[39m,\u001b[38;5;241m5\u001b[39m,\u001b[38;5;241m12\u001b[39m,\u001b[38;5;241m1\u001b[39m,\u001b[38;5;241m6\u001b[39m,\u001b[38;5;241m2\u001b[39m]\n\u001b[0;32m----> 2\u001b[0m \u001b[38;5;28mprint\u001b[39m(\u001b[43mx\u001b[49m\u001b[43m[\u001b[49m\u001b[38;5;241;43m11\u001b[39;49m\u001b[43m]\u001b[49m)\n",
      "\u001b[0;31mIndexError\u001b[0m: list index out of range"
     ]
    }
   ],
   "source": [
    "x = [100,1,2,1,3,4,5,12,1,6,2]\n",
    "print(x[11])"
   ]
  },
  {
   "cell_type": "code",
   "execution_count": 58,
   "id": "4ef1e87a",
   "metadata": {},
   "outputs": [
    {
     "name": "stdout",
     "output_type": "stream",
     "text": [
      "2,6,1,12,5,4,3,1,2,1,100,"
     ]
    }
   ],
   "source": [
    "x = [100,1,2,1,3,4,5,12,1,6,2]\n",
    "\n",
    "for i in range(len(x)-1, -1, -1):\n",
    "    print(x[i], end=',')"
   ]
  },
  {
   "cell_type": "code",
   "execution_count": 60,
   "id": "291434a9",
   "metadata": {},
   "outputs": [
    {
     "name": "stdout",
     "output_type": "stream",
     "text": [
      "{'milk': 268.6299, 'bread': 344.05800000000005, 'butter': 344.05800000000005}\n"
     ]
    }
   ],
   "source": [
    "us_price = {'milk': 2.03, 'bread': 2.6, 'butter': 2.6}\n",
    "nep_price = {}\n",
    "\n",
    "for k, v in us_price.items():\n",
    "    nep_price.update({k:v*132.33})\n",
    "    \n",
    "print(nep_price)"
   ]
  },
  {
   "cell_type": "code",
   "execution_count": 61,
   "id": "24cf5475",
   "metadata": {},
   "outputs": [
    {
     "name": "stdout",
     "output_type": "stream",
     "text": [
      "{'milk': 303.551787, 'bread': 388.78554, 'butter': 388.78554}\n"
     ]
    }
   ],
   "source": [
    "us_price = {'milk': 2.03, 'bread': 2.6, 'butter': 2.6}\n",
    "nep_price = {}\n",
    "\n",
    "for k, v in us_price.items():\n",
    "    nep_price.update({k:v*132.33*1.13})\n",
    "    \n",
    "print(nep_price)"
   ]
  },
  {
   "cell_type": "code",
   "execution_count": 66,
   "id": "bc2aa1da",
   "metadata": {},
   "outputs": [
    {
     "name": "stdout",
     "output_type": "stream",
     "text": [
      "{'milk': 303.551787, 'bread': 388.7855400000001, 'butter': 388.7855400000001}\n"
     ]
    }
   ],
   "source": [
    "us_price = {'milk': 2.03, 'bread': 2.6, 'butter': 2.6}\n",
    "nep_price = {}\n",
    "\n",
    "for k, v in us_price.items():\n",
    "    nep_price.update({k:(v*132.33)+ (v * 13 / 100) * 132.33})\n",
    "    \n",
    "print(nep_price)"
   ]
  },
  {
   "cell_type": "code",
   "execution_count": null,
   "id": "e51d0a03",
   "metadata": {},
   "outputs": [],
   "source": [
    "us_price = {'milk': 2.03, 'bread': 2.6, 'butter': 2.6, \"mobile\":300, \"sugar\":5}"
   ]
  }
 ],
 "metadata": {
  "kernelspec": {
   "display_name": "Python 3 (ipykernel)",
   "language": "python",
   "name": "python3"
  },
  "language_info": {
   "codemirror_mode": {
    "name": "ipython",
    "version": 3
   },
   "file_extension": ".py",
   "mimetype": "text/x-python",
   "name": "python",
   "nbconvert_exporter": "python",
   "pygments_lexer": "ipython3",
   "version": "3.11.2"
  }
 },
 "nbformat": 4,
 "nbformat_minor": 5
}
