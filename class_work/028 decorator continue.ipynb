{
 "cells": [
  {
   "cell_type": "code",
   "execution_count": 1,
   "id": "b6e8655b",
   "metadata": {},
   "outputs": [
    {
     "name": "stdout",
     "output_type": "stream",
     "text": [
      "***********\n",
      "hello\n",
      "************\n"
     ]
    }
   ],
   "source": [
    "def outer(fn):\n",
    "    \n",
    "    def inner():\n",
    "        print('***********')\n",
    "        x = fn()\n",
    "        print(x)\n",
    "        print('************')\n",
    "        \n",
    "    return inner\n",
    "\n",
    "# hello = outer(hello) # decorator\n",
    "@outer\n",
    "def hello():\n",
    "    return 'hello'\n",
    "\n",
    "hello()"
   ]
  },
  {
   "cell_type": "code",
   "execution_count": 3,
   "id": "235340a1",
   "metadata": {},
   "outputs": [],
   "source": [
    "def addition(ls):\n",
    "    sum = 0\n",
    "    for i in ls:\n",
    "        sum += i\n",
    "    return sum"
   ]
  },
  {
   "cell_type": "code",
   "execution_count": 4,
   "id": "70496a99",
   "metadata": {},
   "outputs": [
    {
     "data": {
      "text/plain": [
       "28"
      ]
     },
     "execution_count": 4,
     "metadata": {},
     "output_type": "execute_result"
    }
   ],
   "source": [
    "addition([1,2,3,4,5,6,7])"
   ]
  },
  {
   "cell_type": "code",
   "execution_count": 5,
   "id": "e3258458",
   "metadata": {},
   "outputs": [],
   "source": [
    "from time import time"
   ]
  },
  {
   "cell_type": "code",
   "execution_count": 6,
   "id": "6f618feb",
   "metadata": {},
   "outputs": [
    {
     "name": "stdout",
     "output_type": "stream",
     "text": [
      "1679020454.746884\n"
     ]
    }
   ],
   "source": [
    "start = time()\n",
    "print(start)"
   ]
  },
  {
   "cell_type": "code",
   "execution_count": 8,
   "id": "519e39fd",
   "metadata": {},
   "outputs": [
    {
     "name": "stdout",
     "output_type": "stream",
     "text": [
      "Help on built-in function time in module time:\n",
      "\n",
      "time(...)\n",
      "    time() -> floating point number\n",
      "    \n",
      "    Return the current time in seconds since the Epoch.\n",
      "    Fractions of a second may be present if the system clock provides them.\n",
      "\n"
     ]
    }
   ],
   "source": [
    "help(time)"
   ]
  },
  {
   "cell_type": "code",
   "execution_count": 11,
   "id": "5a0c0782",
   "metadata": {},
   "outputs": [],
   "source": [
    "end = time()"
   ]
  },
  {
   "cell_type": "code",
   "execution_count": 12,
   "id": "69317598",
   "metadata": {},
   "outputs": [
    {
     "name": "stdout",
     "output_type": "stream",
     "text": [
      "78.77482080459595\n"
     ]
    }
   ],
   "source": [
    "print(end - start)"
   ]
  },
  {
   "cell_type": "code",
   "execution_count": 16,
   "id": "6dac8806",
   "metadata": {},
   "outputs": [],
   "source": [
    "from time import time\n",
    "\n",
    "def addition(ls):\n",
    "    start = time()\n",
    "    sum = 0\n",
    "    for i in ls:\n",
    "        sum += i\n",
    "    end = time()\n",
    "    print(f\"Time took to calculate sum: {end - start}\")\n",
    "    return sum"
   ]
  },
  {
   "cell_type": "code",
   "execution_count": 21,
   "id": "1f3a1a61",
   "metadata": {},
   "outputs": [
    {
     "name": "stdout",
     "output_type": "stream",
     "text": [
      "Time took to calculate sum: 2.1457672119140625e-06\n"
     ]
    },
    {
     "data": {
      "text/plain": [
       "28"
      ]
     },
     "execution_count": 21,
     "metadata": {},
     "output_type": "execute_result"
    }
   ],
   "source": [
    "addition([1,2,3,4,5,6,7])"
   ]
  },
  {
   "cell_type": "code",
   "execution_count": 22,
   "id": "7488c72b",
   "metadata": {},
   "outputs": [],
   "source": [
    "from time import time\n",
    "\n",
    "def multiplication(ls):\n",
    "    start = time()\n",
    "    mul = 1\n",
    "    for i in ls:\n",
    "        mul *= i\n",
    "    end = time()\n",
    "    print(f\"Time took to calculate sum: {end - start}\")\n",
    "    return sum"
   ]
  },
  {
   "cell_type": "code",
   "execution_count": 33,
   "id": "e3c69516",
   "metadata": {},
   "outputs": [],
   "source": [
    "from time import time\n",
    "\n",
    "def timer(fn):\n",
    "    def inner(*args):\n",
    "        start = time()\n",
    "        x = fn(*args)\n",
    "        stop = time()\n",
    "        print(f\"Time took to run function: {stop - start}\")\n",
    "        return x\n",
    "    \n",
    "    return inner"
   ]
  },
  {
   "cell_type": "code",
   "execution_count": 34,
   "id": "bb4a77cf",
   "metadata": {},
   "outputs": [],
   "source": [
    "@timer\n",
    "def addition(ls):\n",
    "    sum = 0\n",
    "    for i in ls:\n",
    "        sum += i\n",
    "    return sum"
   ]
  },
  {
   "cell_type": "code",
   "execution_count": 39,
   "id": "d2324515",
   "metadata": {},
   "outputs": [
    {
     "name": "stdout",
     "output_type": "stream",
     "text": [
      "Time took to run function: 1.1920928955078125e-06\n"
     ]
    },
    {
     "data": {
      "text/plain": [
       "39"
      ]
     },
     "execution_count": 39,
     "metadata": {},
     "output_type": "execute_result"
    }
   ],
   "source": [
    "addition([1,23,4,3,4,2,2])"
   ]
  },
  {
   "cell_type": "code",
   "execution_count": 42,
   "id": "e4576e75",
   "metadata": {},
   "outputs": [
    {
     "name": "stdout",
     "output_type": "stream",
     "text": [
      "Time took to run function: 1.5000005078036338e-06\n"
     ]
    },
    {
     "data": {
      "text/plain": [
       "39"
      ]
     },
     "execution_count": 42,
     "metadata": {},
     "output_type": "execute_result"
    }
   ],
   "source": [
    "from time import perf_counter\n",
    "\n",
    "def timer(fn):\n",
    "    def inner(*args):\n",
    "        start = perf_counter()\n",
    "        x = fn(*args)\n",
    "        stop = perf_counter()\n",
    "        print(f\"Time took to run function: {stop - start}\")\n",
    "        return x\n",
    "    \n",
    "    return inner\n",
    "\n",
    "@timer\n",
    "def addition(ls):\n",
    "    sum = 0\n",
    "    for i in ls:\n",
    "        sum += i\n",
    "    return sum\n",
    "\n",
    "addition([1,23,4,3,4,2,2])"
   ]
  },
  {
   "cell_type": "code",
   "execution_count": 43,
   "id": "f2d53bbe",
   "metadata": {},
   "outputs": [
    {
     "name": "stdout",
     "output_type": "stream",
     "text": [
      "Help on built-in function perf_counter in module time:\n",
      "\n",
      "perf_counter(...)\n",
      "    perf_counter() -> float\n",
      "    \n",
      "    Performance counter for benchmarking.\n",
      "\n"
     ]
    }
   ],
   "source": [
    "help(perf_counter)"
   ]
  },
  {
   "cell_type": "code",
   "execution_count": 45,
   "id": "15192b2b",
   "metadata": {},
   "outputs": [
    {
     "name": "stdout",
     "output_type": "stream",
     "text": [
      "[1, 529, 16, 9, 16, 4, 4]\n"
     ]
    }
   ],
   "source": [
    "ls = [1,23,4,3,4,2,2]\n",
    "\n",
    "# non python way\n",
    "squares = []\n",
    "for i in ls:\n",
    "    squares.append(i ** 2)\n",
    "    \n",
    "print(squares)"
   ]
  },
  {
   "cell_type": "code",
   "execution_count": 46,
   "id": "8d73572b",
   "metadata": {},
   "outputs": [
    {
     "data": {
      "text/plain": [
       "[1, 529, 16, 9, 16, 4, 4]"
      ]
     },
     "execution_count": 46,
     "metadata": {},
     "output_type": "execute_result"
    }
   ],
   "source": [
    "list(map(lambda x: x**2, ls))"
   ]
  },
  {
   "cell_type": "code",
   "execution_count": 47,
   "id": "67153735",
   "metadata": {},
   "outputs": [
    {
     "name": "stdout",
     "output_type": "stream",
     "text": [
      "[1, 529, 16, 9, 16, 4, 4]\n"
     ]
    }
   ],
   "source": [
    "# list comprehension\n",
    "ls = [1,23,4,3,4,2,2]\n",
    "squares = [i ** 2 for i in ls]\n",
    "print(squares)"
   ]
  },
  {
   "cell_type": "code",
   "execution_count": 48,
   "id": "4108da3f",
   "metadata": {},
   "outputs": [
    {
     "data": {
      "text/plain": [
       "[(0, 1), (1, 23), (2, 4), (3, 3), (4, 4), (5, 2), (6, 2)]"
      ]
     },
     "execution_count": 48,
     "metadata": {},
     "output_type": "execute_result"
    }
   ],
   "source": [
    "ls = [1,23,4,3,4,2,2]\n",
    "list(enumerate(ls))"
   ]
  },
  {
   "cell_type": "code",
   "execution_count": 50,
   "id": "d0178158",
   "metadata": {},
   "outputs": [
    {
     "name": "stdout",
     "output_type": "stream",
     "text": [
      "[(0, 1), (1, 529), (2, 16), (3, 9), (4, 16), (5, 4), (6, 4)]\n"
     ]
    }
   ],
   "source": [
    "ls = [1,23,4,3,4,2,2]\n",
    "# (0, 1), (1, 529), (2, 16)\n",
    "\n",
    "output = []\n",
    "for i, v in enumerate(ls):\n",
    "    output.append((i, v **2))\n",
    "    \n",
    "print(output)"
   ]
  },
  {
   "cell_type": "code",
   "execution_count": 51,
   "id": "d2d34621",
   "metadata": {},
   "outputs": [
    {
     "name": "stdout",
     "output_type": "stream",
     "text": [
      "[(0, 1), (1, 529), (2, 16), (3, 9), (4, 16), (5, 4), (6, 4)]\n"
     ]
    }
   ],
   "source": [
    "ls = [1,23,4,3,4,2,2]\n",
    "# (0, 1), (1, 529), (2, 16)\n",
    "\n",
    "# pythonic way\n",
    "output = [(i, v**2) for i, v in enumerate(ls)]\n",
    "    \n",
    "    \n",
    "print(output)"
   ]
  },
  {
   "cell_type": "code",
   "execution_count": 52,
   "id": "c71b0d0d",
   "metadata": {},
   "outputs": [
    {
     "name": "stdout",
     "output_type": "stream",
     "text": [
      "['odd', 'even', 'odd', 'even', 'odd', 'even', 'odd', 'even', 'odd']\n"
     ]
    }
   ],
   "source": [
    "numbers = [1,2,3,4,5,6,7,8,9]\n",
    "\n",
    "# [odd, even, odd,...]\n",
    "output = []\n",
    "for number in numbers:\n",
    "    if number % 2 == 0:\n",
    "        output.append('even')\n",
    "    else:\n",
    "        output.append('odd')\n",
    "        \n",
    "print(output)"
   ]
  },
  {
   "cell_type": "code",
   "execution_count": null,
   "id": "a39f4c8d",
   "metadata": {},
   "outputs": [],
   "source": []
  }
 ],
 "metadata": {
  "kernelspec": {
   "display_name": "Python 3 (ipykernel)",
   "language": "python",
   "name": "python3"
  },
  "language_info": {
   "codemirror_mode": {
    "name": "ipython",
    "version": 3
   },
   "file_extension": ".py",
   "mimetype": "text/x-python",
   "name": "python",
   "nbconvert_exporter": "python",
   "pygments_lexer": "ipython3",
   "version": "3.11.1"
  }
 },
 "nbformat": 4,
 "nbformat_minor": 5
}
