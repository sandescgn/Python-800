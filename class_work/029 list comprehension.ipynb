{
 "cells": [
  {
   "cell_type": "code",
   "execution_count": 1,
   "id": "3d1a4cdc",
   "metadata": {},
   "outputs": [
    {
     "name": "stdout",
     "output_type": "stream",
     "text": [
      "eligilble\n"
     ]
    }
   ],
   "source": [
    "age = 18\n",
    "\n",
    "if age >= 18:\n",
    "    print(\"eligilble\")\n",
    "else:\n",
    "    print(\"Not eligible\")"
   ]
  },
  {
   "cell_type": "code",
   "execution_count": null,
   "id": "7cf32f18",
   "metadata": {},
   "outputs": [],
   "source": [
    "(if output) if (condition) else (else output)"
   ]
  },
  {
   "cell_type": "code",
   "execution_count": 2,
   "id": "b4cfc580",
   "metadata": {},
   "outputs": [
    {
     "name": "stdout",
     "output_type": "stream",
     "text": [
      "eligible\n"
     ]
    }
   ],
   "source": [
    "age = 18\n",
    "# ternary operator\n",
    "eligible = \"eligible\" if age >= 18 else \"not eligible\"\n",
    "print(eligible)"
   ]
  },
  {
   "cell_type": "code",
   "execution_count": 3,
   "id": "ba3347fa",
   "metadata": {},
   "outputs": [
    {
     "name": "stdout",
     "output_type": "stream",
     "text": [
      "['odd', 'even', 'odd', 'even', 'odd', 'even', 'odd', 'even', 'odd']\n"
     ]
    }
   ],
   "source": [
    "numbers = [1,2,3,4,5,6,7,8,9]\n",
    "\n",
    "# [odd, even, odd,...]\n",
    "output = []\n",
    "for number in numbers:\n",
    "    if number % 2 == 0:\n",
    "        output.append('even')\n",
    "    else:\n",
    "        output.append('odd')\n",
    "        \n",
    "print(output)"
   ]
  },
  {
   "cell_type": "code",
   "execution_count": 4,
   "id": "1ecb48fd",
   "metadata": {},
   "outputs": [
    {
     "name": "stdout",
     "output_type": "stream",
     "text": [
      "['odd', 'even', 'odd', 'even', 'odd', 'even', 'odd', 'even', 'odd']\n"
     ]
    }
   ],
   "source": [
    "numbers = [1,2,3,4,5,6,7,8,9]\n",
    "\n",
    "output = ['even' if number % 2 == 0 else 'odd' for number in numbers]\n",
    "print(output)"
   ]
  },
  {
   "cell_type": "code",
   "execution_count": 6,
   "id": "7010f3c3",
   "metadata": {},
   "outputs": [
    {
     "name": "stdout",
     "output_type": "stream",
     "text": [
      "[1, 3, 4, 5, 7, 6, 8, 10]\n"
     ]
    }
   ],
   "source": [
    "numbers = [-8, -7, -3, -1, 0, 1, 3, 4, 5, 7, 6, 8, 10]\n",
    "\n",
    "positive_numbers = []\n",
    "for number in numbers:\n",
    "    if number > 0:\n",
    "        positive_numbers.append(number)\n",
    "        \n",
    "print(positive_numbers)"
   ]
  },
  {
   "cell_type": "code",
   "execution_count": 7,
   "id": "1207e721",
   "metadata": {},
   "outputs": [
    {
     "name": "stdout",
     "output_type": "stream",
     "text": [
      "[1, 3, 4, 5, 7, 6, 8, 10]\n"
     ]
    }
   ],
   "source": [
    "numbers = [-8, -7, -3, -1, 0, 1, 3, 4, 5, 7, 6, 8, 10]\n",
    "\n",
    "positive_numbers = [number for number in numbers if number > 0]\n",
    "print(positive_numbers)"
   ]
  },
  {
   "cell_type": "code",
   "execution_count": 8,
   "id": "dd70bb32",
   "metadata": {},
   "outputs": [
    {
     "name": "stdout",
     "output_type": "stream",
     "text": [
      "{'milk': 267.0945, 'bread': 338.754, 'butter': 338.754}\n"
     ]
    }
   ],
   "source": [
    "us_price = {'milk': 2.05, 'bread': 2.6, 'butter': 2.6}\n",
    "# {'milk': 267.09, 'bread': 2.6, 'butter': 2.6}\n",
    "\n",
    "np_price = {}\n",
    "for product, price in us_price.items():\n",
    "    np_price.update({product:price * 130.29})\n",
    "\n",
    "print(np_price)"
   ]
  },
  {
   "cell_type": "code",
   "execution_count": 9,
   "id": "63d818cb",
   "metadata": {},
   "outputs": [
    {
     "name": "stdout",
     "output_type": "stream",
     "text": [
      "{'milk': 267.0945, 'bread': 338.754, 'butter': 338.754}\n"
     ]
    }
   ],
   "source": [
    "us_price = {'milk': 2.05, 'bread': 2.6, 'butter': 2.6}\n",
    "\n",
    "np_price = {product:price * 130.29 \n",
    "            for product, price in us_price.items()}\n",
    "print(np_price)"
   ]
  },
  {
   "cell_type": "code",
   "execution_count": 10,
   "id": "443fd75b",
   "metadata": {},
   "outputs": [
    {
     "name": "stdout",
     "output_type": "stream",
     "text": [
      "{'milk': 267.0945, 'bread': 338.754, 'butter': 338.754, 'soap': 130.29}\n"
     ]
    }
   ],
   "source": [
    "us_price = {'milk': 2.05, 'bread': 2.6, \n",
    "            'butter': 2.6, 'meat':5, 'soap':1}\n",
    "\n",
    "np_price = {}\n",
    "for product, price in us_price.items():\n",
    "    if price < 5:\n",
    "        np_price.update({product:price * 130.29})\n",
    "\n",
    "print(np_price)"
   ]
  },
  {
   "cell_type": "code",
   "execution_count": 12,
   "id": "01e2684d",
   "metadata": {},
   "outputs": [
    {
     "name": "stdout",
     "output_type": "stream",
     "text": [
      "{'milk': 267.0945, 'bread': 338.754, 'butter': 338.754, 'soap': 130.29}\n"
     ]
    }
   ],
   "source": [
    "# code refactoring\n",
    "us_price = {'milk': 2.05, 'bread': 2.6, \n",
    "            'butter': 2.6, 'meat':5, 'soap':1}\n",
    "\n",
    "np_price = {product: price * 130.29 \n",
    "            for product, price in us_price.items() \n",
    "            if price < 5}\n",
    "\n",
    "print(np_price)"
   ]
  },
  {
   "cell_type": "code",
   "execution_count": 13,
   "id": "b3e98c96",
   "metadata": {},
   "outputs": [
    {
     "name": "stdout",
     "output_type": "stream",
     "text": [
      "{'milk': 301.8167849999999, 'bread': 382.7920199999999, 'butter': 382.7920199999999, 'meat': 781.74, 'soap': 147.22769999999997}\n"
     ]
    }
   ],
   "source": [
    "us_price = {'milk': 2.05, 'bread': 2.6, \n",
    "            'butter': 2.6, 'meat':5, 'soap':1}\n",
    "\n",
    "np_price = {}\n",
    "for product, price in us_price.items():\n",
    "    if price < 5:\n",
    "        np_price.update({product:1.13 * price * 130.29})\n",
    "    else:\n",
    "        np_price.update({product: 1.20 * price * 130.29})\n",
    "\n",
    "print(np_price)"
   ]
  },
  {
   "cell_type": "code",
   "execution_count": 14,
   "id": "07ca258e",
   "metadata": {},
   "outputs": [
    {
     "name": "stdout",
     "output_type": "stream",
     "text": [
      "{'milk': 301.8167849999999, 'bread': 382.7920199999999, 'butter': 382.7920199999999, 'meat': 781.74, 'soap': 147.22769999999997}\n"
     ]
    }
   ],
   "source": [
    "us_price = {'milk': 2.05, 'bread': 2.6, \n",
    "            'butter': 2.6, 'meat':5, 'soap':1}\n",
    "\n",
    "np_price = {product: (1.13 * price * 130.29 if price < 5 \n",
    "                      else 1.20 * price * 130.29) \n",
    "            for product, price in us_price.items()}\n",
    "print(np_price)"
   ]
  },
  {
   "cell_type": "code",
   "execution_count": 15,
   "id": "f01a3ca1",
   "metadata": {},
   "outputs": [
    {
     "ename": "SyntaxError",
     "evalue": "invalid syntax (1603311129.py, line 5)",
     "output_type": "error",
     "traceback": [
      "\u001b[0;36m  Cell \u001b[0;32mIn[15], line 5\u001b[0;36m\u001b[0m\n\u001b[0;31m    else product: 1.20 * price * 130.29\u001b[0m\n\u001b[0m                ^\u001b[0m\n\u001b[0;31mSyntaxError\u001b[0m\u001b[0;31m:\u001b[0m invalid syntax\n"
     ]
    }
   ],
   "source": [
    "us_price = {'milk': 2.05, 'bread': 2.6, \n",
    "            'butter': 2.6, 'meat':5, 'soap':1}\n",
    "\n",
    "np_price = {product: 1.13 * price * 130.29 if price < 5 \n",
    "                      else product: 1.20 * price * 130.29 \n",
    "            for product, price in us_price.items()}\n",
    "print(np_price)"
   ]
  },
  {
   "cell_type": "code",
   "execution_count": 16,
   "id": "8e919350",
   "metadata": {},
   "outputs": [
    {
     "name": "stdout",
     "output_type": "stream",
     "text": [
      "{'milk': 301.8167849999999, 'bread': 382.7920199999999, 'butter': 382.7920199999999, 'meat': 781.74, 'soap': 147.22769999999997}\n"
     ]
    }
   ],
   "source": [
    "us_price = {'milk': 2.05, 'bread': 2.6, \n",
    "            'butter': 2.6, 'meat':5, 'soap':1}\n",
    "\n",
    "np_price = {product: 1.13 * price * 130.29 if price < 5 else 1.20 * price * 130.29\n",
    "            for product, price in us_price.items()}\n",
    "print(np_price)"
   ]
  },
  {
   "cell_type": "code",
   "execution_count": null,
   "id": "4c21c91b",
   "metadata": {},
   "outputs": [],
   "source": []
  }
 ],
 "metadata": {
  "kernelspec": {
   "display_name": "Python 3 (ipykernel)",
   "language": "python",
   "name": "python3"
  },
  "language_info": {
   "codemirror_mode": {
    "name": "ipython",
    "version": 3
   },
   "file_extension": ".py",
   "mimetype": "text/x-python",
   "name": "python",
   "nbconvert_exporter": "python",
   "pygments_lexer": "ipython3",
   "version": "3.11.1"
  }
 },
 "nbformat": 4,
 "nbformat_minor": 5
}
