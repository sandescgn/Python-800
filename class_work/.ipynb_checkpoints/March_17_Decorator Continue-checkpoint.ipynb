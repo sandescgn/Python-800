{
 "cells": [
  {
   "cell_type": "code",
   "execution_count": 3,
   "id": "39e55a53",
   "metadata": {},
   "outputs": [],
   "source": [
    "#ls=[1,2,3,4,5,6,7]\n",
    "def addition(ls):\n",
    "    sum=0\n",
    "    for i in ls:\n",
    "        sum+=i\n",
    "    return sum\n",
    "    "
   ]
  },
  {
   "cell_type": "code",
   "execution_count": 4,
   "id": "ef6ab564",
   "metadata": {},
   "outputs": [
    {
     "data": {
      "text/plain": [
       "28"
      ]
     },
     "execution_count": 4,
     "metadata": {},
     "output_type": "execute_result"
    }
   ],
   "source": [
    "addition([1,2,3,4,5,6,7])"
   ]
  },
  {
   "cell_type": "code",
   "execution_count": 5,
   "id": "1d2c6217",
   "metadata": {},
   "outputs": [],
   "source": [
    "from time import time"
   ]
  },
  {
   "cell_type": "code",
   "execution_count": 6,
   "id": "94b4c0d9",
   "metadata": {},
   "outputs": [],
   "source": [
    "start=time()"
   ]
  },
  {
   "cell_type": "code",
   "execution_count": 7,
   "id": "8c520a48",
   "metadata": {},
   "outputs": [
    {
     "name": "stdout",
     "output_type": "stream",
     "text": [
      "1679020500.515234\n"
     ]
    }
   ],
   "source": [
    "print(start)"
   ]
  },
  {
   "cell_type": "code",
   "execution_count": 8,
   "id": "30bb2e6c",
   "metadata": {},
   "outputs": [
    {
     "name": "stdout",
     "output_type": "stream",
     "text": [
      "Help on built-in function time in module time:\n",
      "\n",
      "time(...)\n",
      "    time() -> floating point number\n",
      "    \n",
      "    Return the current time in seconds since the Epoch.\n",
      "    Fractions of a second may be present if the system clock provides them.\n",
      "\n"
     ]
    }
   ],
   "source": [
    "help(time)"
   ]
  },
  {
   "cell_type": "code",
   "execution_count": 9,
   "id": "60a68ecd",
   "metadata": {},
   "outputs": [],
   "source": [
    "end=time()"
   ]
  },
  {
   "cell_type": "code",
   "execution_count": 10,
   "id": "3b9bd844",
   "metadata": {},
   "outputs": [
    {
     "name": "stdout",
     "output_type": "stream",
     "text": [
      "48.768569469451904\n"
     ]
    }
   ],
   "source": [
    "print(end-start)"
   ]
  },
  {
   "cell_type": "code",
   "execution_count": 29,
   "id": "7d8d8418",
   "metadata": {},
   "outputs": [],
   "source": [
    "from time import time\n",
    "\n",
    "def addition(ls):\n",
    "    start=time()\n",
    "    sum=0\n",
    "    for i in ls:\n",
    "        sum+=i\n",
    "    end=time()\n",
    "    time_took = end - start\n",
    "    print(time_took)\n",
    "    print(f'Time took to calculate sum:{time_took}')\n",
    "    return sum"
   ]
  },
  {
   "cell_type": "code",
   "execution_count": 30,
   "id": "369c537c",
   "metadata": {},
   "outputs": [
    {
     "name": "stdout",
     "output_type": "stream",
     "text": [
      "0.0\n",
      "Time took to calculate sum:0.0\n"
     ]
    },
    {
     "data": {
      "text/plain": [
       "28"
      ]
     },
     "execution_count": 30,
     "metadata": {},
     "output_type": "execute_result"
    }
   ],
   "source": [
    "addition([1,2,3,4,5,6,7])"
   ]
  },
  {
   "cell_type": "code",
   "execution_count": 31,
   "id": "289fa4d9",
   "metadata": {},
   "outputs": [],
   "source": [
    "from time import time\n",
    "def outer(fn):\n",
    "    def inner():\n",
    "        start=time()\n",
    "        x=fn()\n",
    "        stop=time()\n",
    "    print(f'Time took to rn function:{stop-start}')\n",
    "    return x"
   ]
  },
  {
   "cell_type": "code",
   "execution_count": 39,
   "id": "1aa3e26b",
   "metadata": {},
   "outputs": [],
   "source": [
    "from time import time\n",
    "def timer(fn):\n",
    "    def inner(*args):\n",
    "        start=time()\n",
    "        x=fn(*args)\n",
    "        stop=time()\n",
    "        time_took = stop - start\n",
    "        print(time_took)\n",
    "        print(f'Time took to run function:{stop-start}')\n",
    "        return x\n",
    "    return inner"
   ]
  },
  {
   "cell_type": "code",
   "execution_count": 40,
   "id": "92f77233",
   "metadata": {},
   "outputs": [],
   "source": [
    "@timer\n",
    "def addition(ls):\n",
    "    sum=0\n",
    "    for i in ls:\n",
    "        sum+=i\n",
    "    return sum"
   ]
  },
  {
   "cell_type": "code",
   "execution_count": 41,
   "id": "3cfa1931",
   "metadata": {},
   "outputs": [
    {
     "name": "stdout",
     "output_type": "stream",
     "text": [
      "0.0\n",
      "Time took to run function:0.0\n"
     ]
    },
    {
     "data": {
      "text/plain": [
       "297"
      ]
     },
     "execution_count": 41,
     "metadata": {},
     "output_type": "execute_result"
    }
   ],
   "source": [
    "addition([1,23,4,3,4,2,2,23,4,3,4,2,2,23,4,3,4,2,2,23,4,3,4,2,2,23,4,3,4,2,2,23,4,3,4,2,2,23,4,3,4,2,2,1,2,3,1,23])"
   ]
  },
  {
   "cell_type": "code",
   "execution_count": 42,
   "id": "282ab4ff",
   "metadata": {},
   "outputs": [],
   "source": [
    "from time import perf_counter\n",
    "def timer(fn):\n",
    "    def inner(*args):\n",
    "        start=perf_counter()\n",
    "        x=fn(*args)\n",
    "        stop=perf_counter()\n",
    "        print(f'Time took to run function:{stop-start}')\n",
    "        return x\n",
    "    return inner"
   ]
  },
  {
   "cell_type": "code",
   "execution_count": 43,
   "id": "f967866e",
   "metadata": {},
   "outputs": [],
   "source": [
    "@timer\n",
    "def addition(ls):\n",
    "    sum=0\n",
    "    for i in ls:\n",
    "        sum+=i\n",
    "    return sum"
   ]
  },
  {
   "cell_type": "code",
   "execution_count": 44,
   "id": "b9a868f1",
   "metadata": {},
   "outputs": [
    {
     "name": "stdout",
     "output_type": "stream",
     "text": [
      "Time took to run function:3.800014383159578e-06\n"
     ]
    },
    {
     "data": {
      "text/plain": [
       "28"
      ]
     },
     "execution_count": 44,
     "metadata": {},
     "output_type": "execute_result"
    }
   ],
   "source": [
    "addition([1,2,3,4,5,6,7])"
   ]
  },
  {
   "cell_type": "code",
   "execution_count": 45,
   "id": "312b31c4",
   "metadata": {},
   "outputs": [
    {
     "name": "stdout",
     "output_type": "stream",
     "text": [
      "[1, 529, 16, 9, 16, 4, 4]\n"
     ]
    }
   ],
   "source": [
    "ls=[1,23,4,3,4,2,2]\n",
    "#non-python way\n",
    "squares=[]\n",
    "for i in ls:\n",
    "    squares.append(i**2)\n",
    "print(squares)"
   ]
  },
  {
   "cell_type": "code",
   "execution_count": 46,
   "id": "556cb0eb",
   "metadata": {},
   "outputs": [
    {
     "data": {
      "text/plain": [
       "[1, 529, 16, 9, 16, 4, 4]"
      ]
     },
     "execution_count": 46,
     "metadata": {},
     "output_type": "execute_result"
    }
   ],
   "source": [
    "list(map(lambda x:x**2, ls))"
   ]
  },
  {
   "cell_type": "code",
   "execution_count": 48,
   "id": "8bda03a2",
   "metadata": {},
   "outputs": [
    {
     "name": "stdout",
     "output_type": "stream",
     "text": [
      "[1, 529, 16, 9, 16, 4, 4]\n"
     ]
    }
   ],
   "source": [
    "#pythonic  way\n",
    "#list comprehension\n",
    "ls=[1,23,4,3,4,2,2]\n",
    "squares=[i**2 for i in ls]\n",
    "print(squares)"
   ]
  },
  {
   "cell_type": "code",
   "execution_count": 49,
   "id": "28ec32da",
   "metadata": {},
   "outputs": [
    {
     "data": {
      "text/plain": [
       "[(0, 1), (1, 23), (2, 4), (3, 3), (4, 4), (5, 2), (6, 2)]"
      ]
     },
     "execution_count": 49,
     "metadata": {},
     "output_type": "execute_result"
    }
   ],
   "source": [
    "ls=[1,23,4,3,4,2,2]\n",
    "list(enumerate(ls))"
   ]
  },
  {
   "cell_type": "code",
   "execution_count": 51,
   "id": "ec83ae56",
   "metadata": {},
   "outputs": [
    {
     "name": "stdout",
     "output_type": "stream",
     "text": [
      "[(0, 1), (1, 529), (2, 16), (3, 9), (4, 16), (5, 4), (6, 4)]\n"
     ]
    }
   ],
   "source": [
    "#list comprehension\n",
    "ls=[1,23,4,3,4,2,2]\n",
    "#(0,1),(1,529),(2,16)....\n",
    "output=[]\n",
    "for i,v in enumerate(ls):\n",
    "    output.append((i,v**2))\n",
    "print(output)"
   ]
  },
  {
   "cell_type": "code",
   "execution_count": 52,
   "id": "04d68ccd",
   "metadata": {},
   "outputs": [
    {
     "name": "stdout",
     "output_type": "stream",
     "text": [
      "[(0, 1), (1, 529), (2, 16), (3, 9), (4, 16), (5, 4), (6, 4)]\n"
     ]
    }
   ],
   "source": [
    "#Pythonic way\n",
    "ls=[1,23,4,3,4,2,2]\n",
    "output=[(i,v**2)for i,v in enumerate(ls)]\n",
    "print(output)"
   ]
  },
  {
   "cell_type": "code",
   "execution_count": 53,
   "id": "2f28ac4a",
   "metadata": {},
   "outputs": [
    {
     "name": "stdout",
     "output_type": "stream",
     "text": [
      "['odd', 'even', 'odd', 'even', 'odd', 'even', 'odd', 'even', 'odd']\n"
     ]
    }
   ],
   "source": [
    "numbers=[1,2,3,4,5,6,7,8,9]\n",
    "#non-pythonic way\n",
    "#[odd,even,odd....]\n",
    "output=[]\n",
    "for number in numbers:\n",
    "    if number%2==0:\n",
    "        output.append('even')\n",
    "    else:\n",
    "        output.append('odd')\n",
    "print(output)"
   ]
  },
  {
   "cell_type": "code",
   "execution_count": null,
   "id": "c04b0dd8",
   "metadata": {},
   "outputs": [],
   "source": []
  }
 ],
 "metadata": {
  "kernelspec": {
   "display_name": "Python 3 (ipykernel)",
   "language": "python",
   "name": "python3"
  },
  "language_info": {
   "codemirror_mode": {
    "name": "ipython",
    "version": 3
   },
   "file_extension": ".py",
   "mimetype": "text/x-python",
   "name": "python",
   "nbconvert_exporter": "python",
   "pygments_lexer": "ipython3",
   "version": "3.11.2"
  }
 },
 "nbformat": 4,
 "nbformat_minor": 5
}
