{
 "cells": [
  {
   "cell_type": "code",
   "execution_count": 1,
   "id": "3e843bfb",
   "metadata": {},
   "outputs": [],
   "source": [
    "age = 18\n",
    "\n",
    "if age > 18:\n",
    "    print(\"You are authorized.\")\n"
   ]
  },
  {
   "cell_type": "code",
   "execution_count": 2,
   "id": "18d318d6",
   "metadata": {},
   "outputs": [
    {
     "name": "stdout",
     "output_type": "stream",
     "text": [
      "You are authorized.\n"
     ]
    }
   ],
   "source": [
    "age = 18\n",
    "\n",
    "if age >= 18:\n",
    "    print(\"You are authorized.\")\n"
   ]
  },
  {
   "cell_type": "code",
   "execution_count": 4,
   "id": "4fc7dbda",
   "metadata": {},
   "outputs": [
    {
     "name": "stdout",
     "output_type": "stream",
     "text": [
      "Enter the marks: 30\n",
      "Fail\n"
     ]
    }
   ],
   "source": [
    "mark = int(input(\"Enter the marks: \"))\n",
    "\n",
    "if mark >= 40:\n",
    "    print(\"Pass\")\n",
    "    \n",
    "if mark < 40:\n",
    "    print(\"Fail\")"
   ]
  },
  {
   "cell_type": "code",
   "execution_count": 5,
   "id": "0ac0393c",
   "metadata": {},
   "outputs": [
    {
     "name": "stdout",
     "output_type": "stream",
     "text": [
      "y is greater than x\n"
     ]
    }
   ],
   "source": [
    "x = 4\n",
    "y = 5\n",
    "\n",
    "if x > y:\n",
    "    print(\"x is greater than y\")\n",
    "    \n",
    "if y > x:\n",
    "    print(\"y is greater than x\")"
   ]
  },
  {
   "cell_type": "code",
   "execution_count": 6,
   "id": "26a6d65f",
   "metadata": {},
   "outputs": [
    {
     "name": "stdout",
     "output_type": "stream",
     "text": [
      "Welcome to python course.\n"
     ]
    }
   ],
   "source": [
    "age = 18\n",
    "\n",
    "if age > 18:\n",
    "    print(\"You are authorized.\")\n",
    "\n",
    "print(\"Welcome to python course.\")"
   ]
  },
  {
   "cell_type": "code",
   "execution_count": 7,
   "id": "c006d413",
   "metadata": {},
   "outputs": [],
   "source": [
    "age = 18\n",
    "\n",
    "if age > 18:\n",
    "    print(\"You are authorized.\")\n",
    "    print(\"Welcome to python course.\")"
   ]
  },
  {
   "cell_type": "code",
   "execution_count": 9,
   "id": "b4955d67",
   "metadata": {},
   "outputs": [
    {
     "name": "stdout",
     "output_type": "stream",
     "text": [
      "Enter the marks: 39\n",
      "Fail\n"
     ]
    }
   ],
   "source": [
    "mark = int(input(\"Enter the marks: \"))\n",
    "\n",
    "if mark >= 40:\n",
    "    print(\"Pass\")\n",
    "    \n",
    "if mark < 40:\n",
    "    print(\"Fail\")"
   ]
  },
  {
   "cell_type": "code",
   "execution_count": 10,
   "id": "a000bac6",
   "metadata": {},
   "outputs": [
    {
     "name": "stdout",
     "output_type": "stream",
     "text": [
      "Enter the marks: 39\n",
      "Fail\n"
     ]
    }
   ],
   "source": [
    "mark = int(input(\"Enter the marks: \"))\n",
    "\n",
    "if mark >= 40:\n",
    "    print(\"Pass\")\n",
    "else:\n",
    "    print(\"Fail\")"
   ]
  },
  {
   "cell_type": "code",
   "execution_count": 13,
   "id": "63fd7252",
   "metadata": {},
   "outputs": [
    {
     "name": "stdout",
     "output_type": "stream",
     "text": [
      "y is greater than x\n"
     ]
    }
   ],
   "source": [
    "x = 4\n",
    "y = 5\n",
    "\n",
    "if x > y:\n",
    "    print(\"x is greater than y\")    \n",
    "else:\n",
    "    print(\"y is greater than x\")"
   ]
  },
  {
   "cell_type": "code",
   "execution_count": 15,
   "id": "242b2aab",
   "metadata": {},
   "outputs": [
    {
     "name": "stdout",
     "output_type": "stream",
     "text": [
      "x is equal to y\n"
     ]
    }
   ],
   "source": [
    "x = 5\n",
    "y = 5\n",
    "\n",
    "if x > y:\n",
    "    print(\"x is greater than y\")    \n",
    "elif y > x:\n",
    "    print(\"y is greater than x\")\n",
    "else:\n",
    "    print(\"x is equal to y\")"
   ]
  },
  {
   "cell_type": "code",
   "execution_count": 16,
   "id": "b72e7a0b",
   "metadata": {},
   "outputs": [
    {
     "name": "stdout",
     "output_type": "stream",
     "text": [
      "y is largest: 7\n"
     ]
    }
   ],
   "source": [
    "x = 3\n",
    "y = 7\n",
    "z = 2\n",
    "\n",
    "if x > y and x > z:\n",
    "    print(f\"x is largest: {x}\")\n",
    "\n",
    "elif y > x and y > z: # True and True => True\n",
    "    print(f\"y is largest: {y}\")\n",
    "    \n",
    "else:\n",
    "    print(f\"z is largest: {z}\")"
   ]
  },
  {
   "cell_type": "code",
   "execution_count": 17,
   "id": "2f5a5989",
   "metadata": {},
   "outputs": [
    {
     "data": {
      "text/plain": [
       "False"
      ]
     },
     "execution_count": 17,
     "metadata": {},
     "output_type": "execute_result"
    }
   ],
   "source": [
    "False & False"
   ]
  },
  {
   "cell_type": "code",
   "execution_count": 18,
   "id": "e8457cff",
   "metadata": {},
   "outputs": [
    {
     "data": {
      "text/plain": [
       "False"
      ]
     },
     "execution_count": 18,
     "metadata": {},
     "output_type": "execute_result"
    }
   ],
   "source": [
    "False | False"
   ]
  },
  {
   "cell_type": "code",
   "execution_count": 19,
   "id": "8e514bf6",
   "metadata": {},
   "outputs": [
    {
     "data": {
      "text/plain": [
       "True"
      ]
     },
     "execution_count": 19,
     "metadata": {},
     "output_type": "execute_result"
    }
   ],
   "source": [
    "False | True"
   ]
  },
  {
   "cell_type": "code",
   "execution_count": 20,
   "id": "0deecace",
   "metadata": {},
   "outputs": [
    {
     "name": "stdout",
     "output_type": "stream",
     "text": [
      "y is largest: 7\n"
     ]
    }
   ],
   "source": [
    "x = 3\n",
    "y = 7\n",
    "z = 2\n",
    "\n",
    "if x > y and x > z:\n",
    "    print(f\"x is largest: {x}\")\n",
    "\n",
    "if y > x and y > z:\n",
    "    print(f\"y is largest: {y}\")\n",
    "    \n",
    "if z > x and z > y:\n",
    "    print(f\"z is largest: {z}\")"
   ]
  },
  {
   "cell_type": "code",
   "execution_count": 21,
   "id": "827ca997",
   "metadata": {},
   "outputs": [
    {
     "name": "stdout",
     "output_type": "stream",
     "text": [
      "hello 1\n"
     ]
    }
   ],
   "source": [
    "if True:\n",
    "    print(\"hello 1\")\n",
    "    \n",
    "elif True:\n",
    "    print(\"hello 2\")\n",
    "    \n",
    "elif True:\n",
    "    print(\"hello 3\")\n",
    "    \n",
    "else:\n",
    "    print(\"hello 4\")"
   ]
  },
  {
   "cell_type": "code",
   "execution_count": 22,
   "id": "209ed37c",
   "metadata": {},
   "outputs": [
    {
     "name": "stdout",
     "output_type": "stream",
     "text": [
      "hello 1\n",
      "hello 2\n",
      "hello 3\n",
      "hello 4\n"
     ]
    }
   ],
   "source": [
    "if True:\n",
    "    print(\"hello 1\")\n",
    "    \n",
    "if True:\n",
    "    print(\"hello 2\")\n",
    "    \n",
    "if True:\n",
    "    print(\"hello 3\")\n",
    "    \n",
    "if True:\n",
    "    print(\"hello 4\")"
   ]
  },
  {
   "cell_type": "code",
   "execution_count": 24,
   "id": "5ed5ac0d",
   "metadata": {},
   "outputs": [
    {
     "name": "stdout",
     "output_type": "stream",
     "text": [
      "Enter the username: admin\n",
      "Enter the password: password\n",
      "Cannto log in.\n"
     ]
    }
   ],
   "source": [
    "# username = 'admin'\n",
    "# password = 'admin'\n",
    "\n",
    "username = input(\"Enter the username: \")\n",
    "password = input(\"Enter the password: \")\n",
    "\n",
    "if username == 'admin' and password == 'admin':\n",
    "    print(\"Successfully logged in.\")\n",
    "else:\n",
    "    print(\"Cannto log in.\")"
   ]
  },
  {
   "cell_type": "code",
   "execution_count": 27,
   "id": "60263852",
   "metadata": {},
   "outputs": [
    {
     "name": "stdout",
     "output_type": "stream",
     "text": [
      "enter username: dsafds\n",
      "enter password: dsfadsf\n",
      "enter role: asdfs\n",
      "Cannot log in.\n"
     ]
    }
   ],
   "source": [
    "username = input(\"enter username: \") # admin\n",
    "password = input(\"enter password: \") # admin\n",
    "role = input(\"enter role: \") # superadmin\n",
    "\n",
    "if username == 'admin' and password == 'admin':\n",
    "    print(\"Successfully logged in\")\n",
    "    \n",
    "elif role == \"superadmin\":\n",
    "    print(\"Successfully logged in\")\n",
    "    \n",
    "else:\n",
    "    print(\"Cannot log in.\")\n"
   ]
  },
  {
   "cell_type": "code",
   "execution_count": 28,
   "id": "b5786973",
   "metadata": {},
   "outputs": [
    {
     "name": "stdout",
     "output_type": "stream",
     "text": [
      "enter username: admin\n",
      "enter password: admin\n",
      "Successfully logged in\n"
     ]
    }
   ],
   "source": [
    "username = input(\"enter username: \") # admin\n",
    "password = input(\"enter password: \") # admin\n",
    "\n",
    "if username == 'admin' and password == 'admin':\n",
    "    print(\"Successfully logged in\")\n",
    "    \n",
    "else:\n",
    "    role = input(\"Enter the role: \")\n",
    "    if role == \"superadmin\":\n",
    "        print(\"Welcome admin.\")\n",
    "    else:\n",
    "        print(\"Cannot log in.\")"
   ]
  },
  {
   "cell_type": "code",
   "execution_count": 30,
   "id": "6e841d3c",
   "metadata": {},
   "outputs": [
    {
     "name": "stdout",
     "output_type": "stream",
     "text": [
      "enter username: adsfdas\n",
      "enter password: adsfdsa\n",
      "Do you want to access through role ?     Type y or yes to continue: n\n"
     ]
    }
   ],
   "source": [
    "username = input(\"enter username: \") # admin\n",
    "password = input(\"enter password: \") # admin\n",
    "\n",
    "if username == 'admin' and password == 'admin':\n",
    "    print(\"Successfully logged in\")\n",
    "    \n",
    "else:\n",
    "    confirmation = input(\"Do you want to access through role ? \\\n",
    "Type y or yes to continue: \")\n",
    "    \n",
    "    if confirmation in ('y', 'yes'):    \n",
    "        role = input(\"Enter the role: \")\n",
    "        if role == \"superadmin\":\n",
    "            print(\"Welcome admin.\")\n",
    "        else:\n",
    "            print(\"Cannot log in.\")"
   ]
  },
  {
   "cell_type": "code",
   "execution_count": null,
   "id": "71f92fb3",
   "metadata": {},
   "outputs": [],
   "source": [
    ">= 80 => distinction\n",
    "60-80 => first division\n",
    "50-60 => second division\n",
    "35-50 => third division\n",
    "< 35 => fail"
   ]
  },
  {
   "cell_type": "code",
   "execution_count": 31,
   "id": "7b3f3fa7",
   "metadata": {},
   "outputs": [
    {
     "data": {
      "text/plain": [
       "True"
      ]
     },
     "execution_count": 31,
     "metadata": {},
     "output_type": "execute_result"
    }
   ],
   "source": [
    "'y' in ('y' , 'yes')"
   ]
  },
  {
   "cell_type": "code",
   "execution_count": null,
   "id": "a9ad9528",
   "metadata": {},
   "outputs": [],
   "source": []
  }
 ],
 "metadata": {
  "kernelspec": {
   "display_name": "Python 3 (ipykernel)",
   "language": "python",
   "name": "python3"
  },
  "language_info": {
   "codemirror_mode": {
    "name": "ipython",
    "version": 3
   },
   "file_extension": ".py",
   "mimetype": "text/x-python",
   "name": "python",
   "nbconvert_exporter": "python",
   "pygments_lexer": "ipython3",
   "version": "3.11.2"
  }
 },
 "nbformat": 4,
 "nbformat_minor": 5
}
