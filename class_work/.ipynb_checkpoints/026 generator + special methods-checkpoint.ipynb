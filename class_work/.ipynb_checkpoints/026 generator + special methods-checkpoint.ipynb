{
 "cells": [
  {
   "cell_type": "code",
   "execution_count": 4,
   "id": "07bcbed8",
   "metadata": {},
   "outputs": [
    {
     "data": {
      "text/plain": [
       "False"
      ]
     },
     "execution_count": 4,
     "metadata": {},
     "output_type": "execute_result"
    }
   ],
   "source": [
    "from math import sqrt\n",
    "\n",
    "class Point:\n",
    "    def __init__(self, x, y):\n",
    "        self.x = x\n",
    "        self.y = y\n",
    "        \n",
    "    def __str__(self): # user friendly\n",
    "        return f'Point({self.x}, {self.y})'\n",
    "    \n",
    "    def __repr__(self): # developer friendly\n",
    "        return f'Point({self.x}, {self.y})'\n",
    "    \n",
    "    def __add__(self, other):\n",
    "        total_x = self.x + other.x\n",
    "        total_y = self.y + other.y\n",
    "        return Point(total_x, total_y)\n",
    "    \n",
    "    def __sub__(self, other):\n",
    "        total_x = self.x - other.x\n",
    "        total_y = self.y - other.y\n",
    "        return Point(total_x, total_y)\n",
    "    \n",
    "    def __lt__(self, other):\n",
    "        self_distance = sqrt(self.x ** 2 + self.y ** 2)        \n",
    "        other_distance = sqrt(other.x ** 2 + other.y ** 2)\n",
    "        return self_distance < other_distance\n",
    "    \n",
    "    def __gt__(self, other):\n",
    "        self_distance = sqrt(self.x ** 2 + self.y ** 2)        \n",
    "        other_distance = sqrt(other.x ** 2 + other.y ** 2)\n",
    "        return self_distance > other_distance\n",
    "    \n",
    "    def __eq__(self, other):\n",
    "        self_distance = sqrt(self.x ** 2 + self.y ** 2)        \n",
    "        other_distance = sqrt(other.x ** 2 + other.y ** 2)\n",
    "        return self_distance == other_distance\n",
    "        \n",
    "\n",
    "p1 = Point(1, 1)\n",
    "p2 = Point(2, 2)\n",
    "\n",
    "p1 == p2 # lt(p1, p2)"
   ]
  },
  {
   "cell_type": "code",
   "execution_count": 5,
   "id": "689f3988",
   "metadata": {},
   "outputs": [
    {
     "data": {
      "text/plain": [
       "True"
      ]
     },
     "execution_count": 5,
     "metadata": {},
     "output_type": "execute_result"
    }
   ],
   "source": [
    "p1 = Point(1, 1)\n",
    "p2 = Point(1, 1)\n",
    "\n",
    "p1 == p2 # lt(p1, p2)"
   ]
  },
  {
   "cell_type": "code",
   "execution_count": 8,
   "id": "90fa09fb",
   "metadata": {},
   "outputs": [],
   "source": [
    "def odd_no_list(n):\n",
    "    odd_nos = []\n",
    "    for i in range(1, n*2):\n",
    "        if i % 2 == 1:\n",
    "            odd_nos.append(i)\n",
    "    return odd_nos"
   ]
  },
  {
   "cell_type": "code",
   "execution_count": 9,
   "id": "f8ece43f",
   "metadata": {},
   "outputs": [
    {
     "data": {
      "text/plain": [
       "[1, 3, 5, 7, 9, 11, 13, 15, 17, 19]"
      ]
     },
     "execution_count": 9,
     "metadata": {},
     "output_type": "execute_result"
    }
   ],
   "source": [
    "odd_no_list(10)"
   ]
  },
  {
   "cell_type": "code",
   "execution_count": 10,
   "id": "4e6b41ea",
   "metadata": {},
   "outputs": [
    {
     "data": {
      "text/plain": [
       "[1, 3, 5, 7, 9, 11, 13, 15, 17, 19, 21, 23, 25, 27, 29, 31, 33, 35, 37, 39]"
      ]
     },
     "execution_count": 10,
     "metadata": {},
     "output_type": "execute_result"
    }
   ],
   "source": [
    "odd_no_list(20)"
   ]
  },
  {
   "cell_type": "code",
   "execution_count": 13,
   "id": "71022194",
   "metadata": {},
   "outputs": [],
   "source": [
    "def hello():\n",
    "    x = 1\n",
    "    return x\n",
    "    y = 2\n",
    "    print('hello world')\n",
    "    return y"
   ]
  },
  {
   "cell_type": "code",
   "execution_count": 14,
   "id": "168d3b04",
   "metadata": {},
   "outputs": [
    {
     "data": {
      "text/plain": [
       "1"
      ]
     },
     "execution_count": 14,
     "metadata": {},
     "output_type": "execute_result"
    }
   ],
   "source": [
    "hello()"
   ]
  },
  {
   "cell_type": "code",
   "execution_count": 15,
   "id": "868ce2b3",
   "metadata": {},
   "outputs": [
    {
     "data": {
      "text/plain": [
       "[1]"
      ]
     },
     "execution_count": 15,
     "metadata": {},
     "output_type": "execute_result"
    }
   ],
   "source": [
    "def odd_no_list(n):\n",
    "    odd_nos = []\n",
    "    for i in range(1, n*2):\n",
    "        if i % 2 == 1:\n",
    "            odd_nos.append(i)\n",
    "        return odd_nos\n",
    "    \n",
    "odd_no_list(10)"
   ]
  },
  {
   "cell_type": "code",
   "execution_count": 22,
   "id": "fe6086da",
   "metadata": {},
   "outputs": [],
   "source": [
    "def hello():\n",
    "    x = 1\n",
    "    yield x\n",
    "    y = 2\n",
    "    yield y"
   ]
  },
  {
   "cell_type": "code",
   "execution_count": 23,
   "id": "c2b023e2",
   "metadata": {},
   "outputs": [
    {
     "data": {
      "text/plain": [
       "<generator object hello at 0x1065ad300>"
      ]
     },
     "execution_count": 23,
     "metadata": {},
     "output_type": "execute_result"
    }
   ],
   "source": [
    "hello()"
   ]
  },
  {
   "cell_type": "code",
   "execution_count": 24,
   "id": "e0a2d82a",
   "metadata": {},
   "outputs": [
    {
     "name": "stdout",
     "output_type": "stream",
     "text": [
      "<class 'int'>\n"
     ]
    }
   ],
   "source": [
    "x = 2\n",
    "print(type(x))"
   ]
  },
  {
   "cell_type": "code",
   "execution_count": 25,
   "id": "638d7f39",
   "metadata": {},
   "outputs": [
    {
     "data": {
      "text/plain": [
       "range(0, 10)"
      ]
     },
     "execution_count": 25,
     "metadata": {},
     "output_type": "execute_result"
    }
   ],
   "source": [
    "range(0,10)"
   ]
  },
  {
   "cell_type": "code",
   "execution_count": 26,
   "id": "cdc827d1",
   "metadata": {},
   "outputs": [
    {
     "data": {
      "text/plain": [
       "[0, 1, 2, 3, 4, 5, 6, 7, 8, 9]"
      ]
     },
     "execution_count": 26,
     "metadata": {},
     "output_type": "execute_result"
    }
   ],
   "source": [
    "list(range(0,10))"
   ]
  },
  {
   "cell_type": "code",
   "execution_count": 27,
   "id": "9ec9ac2f",
   "metadata": {},
   "outputs": [
    {
     "data": {
      "text/plain": [
       "[1, 2]"
      ]
     },
     "execution_count": 27,
     "metadata": {},
     "output_type": "execute_result"
    }
   ],
   "source": [
    "list(hello())"
   ]
  },
  {
   "cell_type": "code",
   "execution_count": 28,
   "id": "1874825e",
   "metadata": {},
   "outputs": [],
   "source": [
    "def hello():\n",
    "    x = 1\n",
    "    yield x\n",
    "    y = 2\n",
    "    yield y"
   ]
  },
  {
   "cell_type": "code",
   "execution_count": 30,
   "id": "28f08eaf",
   "metadata": {},
   "outputs": [
    {
     "name": "stdout",
     "output_type": "stream",
     "text": [
      "<generator object hello at 0x1065ad540>\n"
     ]
    }
   ],
   "source": [
    "h = hello()\n",
    "\n",
    "print(h)"
   ]
  },
  {
   "cell_type": "code",
   "execution_count": 31,
   "id": "01780556",
   "metadata": {},
   "outputs": [
    {
     "data": {
      "text/plain": [
       "1"
      ]
     },
     "execution_count": 31,
     "metadata": {},
     "output_type": "execute_result"
    }
   ],
   "source": [
    "next(h)"
   ]
  },
  {
   "cell_type": "code",
   "execution_count": 32,
   "id": "5afccaa5",
   "metadata": {},
   "outputs": [
    {
     "data": {
      "text/plain": [
       "2"
      ]
     },
     "execution_count": 32,
     "metadata": {},
     "output_type": "execute_result"
    }
   ],
   "source": [
    "next(h)"
   ]
  },
  {
   "cell_type": "code",
   "execution_count": 33,
   "id": "500acbe7",
   "metadata": {},
   "outputs": [
    {
     "ename": "StopIteration",
     "evalue": "",
     "output_type": "error",
     "traceback": [
      "\u001b[0;31m---------------------------------------------------------------------------\u001b[0m",
      "\u001b[0;31mStopIteration\u001b[0m                             Traceback (most recent call last)",
      "Cell \u001b[0;32mIn[33], line 1\u001b[0m\n\u001b[0;32m----> 1\u001b[0m \u001b[38;5;28;43mnext\u001b[39;49m\u001b[43m(\u001b[49m\u001b[43mh\u001b[49m\u001b[43m)\u001b[49m\n",
      "\u001b[0;31mStopIteration\u001b[0m: "
     ]
    }
   ],
   "source": [
    "next(h)"
   ]
  },
  {
   "cell_type": "code",
   "execution_count": 34,
   "id": "7f0c8319",
   "metadata": {},
   "outputs": [],
   "source": [
    "def hello():\n",
    "    x = 1\n",
    "    yield x\n",
    "    y = 2\n",
    "    yield y\n",
    "    z = 3\n",
    "    yield z\n",
    "    a = 4\n",
    "    yield 4"
   ]
  },
  {
   "cell_type": "code",
   "execution_count": 35,
   "id": "2a102e80",
   "metadata": {},
   "outputs": [],
   "source": [
    "h = hello()"
   ]
  },
  {
   "cell_type": "code",
   "execution_count": 36,
   "id": "3bea1bc9",
   "metadata": {},
   "outputs": [
    {
     "name": "stdout",
     "output_type": "stream",
     "text": [
      "1\n",
      "2\n",
      "3\n",
      "4\n"
     ]
    }
   ],
   "source": [
    "for i in h:\n",
    "    print(i)"
   ]
  },
  {
   "cell_type": "code",
   "execution_count": 37,
   "id": "980e10de",
   "metadata": {},
   "outputs": [],
   "source": [
    "for i in h:\n",
    "    print(i)"
   ]
  },
  {
   "cell_type": "code",
   "execution_count": 39,
   "id": "3f67ba04",
   "metadata": {},
   "outputs": [],
   "source": [
    "# generator is exhuasted after yielding everything"
   ]
  },
  {
   "cell_type": "code",
   "execution_count": 41,
   "id": "5fa38f77",
   "metadata": {},
   "outputs": [
    {
     "name": "stdout",
     "output_type": "stream",
     "text": [
      "1\n",
      "2\n",
      "3\n",
      "4\n"
     ]
    }
   ],
   "source": [
    "h = hello()\n",
    "\n",
    "while True:\n",
    "    try:\n",
    "        print(next(h))\n",
    "    except StopIteration:\n",
    "        break"
   ]
  },
  {
   "cell_type": "code",
   "execution_count": 42,
   "id": "ec91b341",
   "metadata": {},
   "outputs": [],
   "source": [
    "def odd_no_list(n):\n",
    "    for i in range(1, n*2):\n",
    "        if i % 2 == 1:\n",
    "            yield i"
   ]
  },
  {
   "cell_type": "code",
   "execution_count": 43,
   "id": "f5ef297d",
   "metadata": {},
   "outputs": [],
   "source": [
    "x = odd_no_list(10)"
   ]
  },
  {
   "cell_type": "code",
   "execution_count": 44,
   "id": "6581c17f",
   "metadata": {},
   "outputs": [
    {
     "name": "stdout",
     "output_type": "stream",
     "text": [
      "<generator object odd_no_list at 0x106587060>\n"
     ]
    }
   ],
   "source": [
    "print(x)"
   ]
  },
  {
   "cell_type": "code",
   "execution_count": 45,
   "id": "c1a7efde",
   "metadata": {},
   "outputs": [
    {
     "data": {
      "text/plain": [
       "1"
      ]
     },
     "execution_count": 45,
     "metadata": {},
     "output_type": "execute_result"
    }
   ],
   "source": [
    "next(x)"
   ]
  },
  {
   "cell_type": "code",
   "execution_count": 46,
   "id": "68e66539",
   "metadata": {},
   "outputs": [
    {
     "data": {
      "text/plain": [
       "3"
      ]
     },
     "execution_count": 46,
     "metadata": {},
     "output_type": "execute_result"
    }
   ],
   "source": [
    "next(x)"
   ]
  },
  {
   "cell_type": "code",
   "execution_count": 47,
   "id": "030783e4",
   "metadata": {},
   "outputs": [
    {
     "data": {
      "text/plain": [
       "5"
      ]
     },
     "execution_count": 47,
     "metadata": {},
     "output_type": "execute_result"
    }
   ],
   "source": [
    "next(x)"
   ]
  },
  {
   "cell_type": "code",
   "execution_count": 48,
   "id": "aee59f0f",
   "metadata": {},
   "outputs": [
    {
     "name": "stdout",
     "output_type": "stream",
     "text": [
      "7\n",
      "9\n",
      "11\n",
      "13\n"
     ]
    }
   ],
   "source": [
    "print(next(x))\n",
    "print(next(x))\n",
    "print(next(x))\n",
    "print(next(x))"
   ]
  },
  {
   "cell_type": "code",
   "execution_count": 49,
   "id": "296002b2",
   "metadata": {},
   "outputs": [
    {
     "name": "stdout",
     "output_type": "stream",
     "text": [
      "15\n",
      "17\n",
      "19\n"
     ]
    },
    {
     "ename": "StopIteration",
     "evalue": "",
     "output_type": "error",
     "traceback": [
      "\u001b[0;31m---------------------------------------------------------------------------\u001b[0m",
      "\u001b[0;31mStopIteration\u001b[0m                             Traceback (most recent call last)",
      "Cell \u001b[0;32mIn[49], line 4\u001b[0m\n\u001b[1;32m      2\u001b[0m \u001b[38;5;28mprint\u001b[39m(\u001b[38;5;28mnext\u001b[39m(x))\n\u001b[1;32m      3\u001b[0m \u001b[38;5;28mprint\u001b[39m(\u001b[38;5;28mnext\u001b[39m(x))\n\u001b[0;32m----> 4\u001b[0m \u001b[38;5;28mprint\u001b[39m(\u001b[38;5;28;43mnext\u001b[39;49m\u001b[43m(\u001b[49m\u001b[43mx\u001b[49m\u001b[43m)\u001b[49m)\n",
      "\u001b[0;31mStopIteration\u001b[0m: "
     ]
    }
   ],
   "source": [
    "print(next(x))\n",
    "print(next(x))\n",
    "print(next(x))\n",
    "print(next(x))"
   ]
  },
  {
   "cell_type": "code",
   "execution_count": 50,
   "id": "7c6f1e1b",
   "metadata": {},
   "outputs": [],
   "source": [
    "x = odd_no_list(10)"
   ]
  },
  {
   "cell_type": "code",
   "execution_count": 51,
   "id": "2efdf6f3",
   "metadata": {},
   "outputs": [
    {
     "data": {
      "text/plain": [
       "1"
      ]
     },
     "execution_count": 51,
     "metadata": {},
     "output_type": "execute_result"
    }
   ],
   "source": [
    "next(x)"
   ]
  },
  {
   "cell_type": "code",
   "execution_count": 52,
   "id": "cfaab36a",
   "metadata": {},
   "outputs": [
    {
     "name": "stdout",
     "output_type": "stream",
     "text": [
      "3\n"
     ]
    }
   ],
   "source": [
    "sum = 1 + 2\n",
    "print(sum)"
   ]
  },
  {
   "cell_type": "code",
   "execution_count": 53,
   "id": "4bed7c7c",
   "metadata": {},
   "outputs": [
    {
     "data": {
      "text/plain": [
       "3"
      ]
     },
     "execution_count": 53,
     "metadata": {},
     "output_type": "execute_result"
    }
   ],
   "source": [
    "next(x)"
   ]
  },
  {
   "cell_type": "code",
   "execution_count": 54,
   "id": "dbe71196",
   "metadata": {},
   "outputs": [],
   "source": [
    "# state is maintained by generator"
   ]
  },
  {
   "cell_type": "code",
   "execution_count": 55,
   "id": "c8a1150b",
   "metadata": {},
   "outputs": [],
   "source": [
    "n = 5\n",
    "\n",
    "# 1\n",
    "# 2\n",
    "# 4\n",
    "# 8\n",
    "# 16\n",
    "# 32"
   ]
  },
  {
   "cell_type": "code",
   "execution_count": 61,
   "id": "50de42b8",
   "metadata": {},
   "outputs": [],
   "source": [
    "def pow_of_two(n):\n",
    "    i = 0\n",
    "    while i <= n:\n",
    "        yield 2 ** i\n",
    "        i += 1"
   ]
  },
  {
   "cell_type": "code",
   "execution_count": 62,
   "id": "89be2886",
   "metadata": {},
   "outputs": [
    {
     "name": "stdout",
     "output_type": "stream",
     "text": [
      "1\n",
      "2\n",
      "4\n",
      "8\n",
      "16\n",
      "32\n"
     ]
    }
   ],
   "source": [
    "for i in pow_of_two(5):\n",
    "    print(i)"
   ]
  },
  {
   "cell_type": "code",
   "execution_count": null,
   "id": "0c90ab3d",
   "metadata": {},
   "outputs": [],
   "source": []
  }
 ],
 "metadata": {
  "kernelspec": {
   "display_name": "Python 3 (ipykernel)",
   "language": "python",
   "name": "python3"
  },
  "language_info": {
   "codemirror_mode": {
    "name": "ipython",
    "version": 3
   },
   "file_extension": ".py",
   "mimetype": "text/x-python",
   "name": "python",
   "nbconvert_exporter": "python",
   "pygments_lexer": "ipython3",
   "version": "3.11.2"
  }
 },
 "nbformat": 4,
 "nbformat_minor": 5
}
