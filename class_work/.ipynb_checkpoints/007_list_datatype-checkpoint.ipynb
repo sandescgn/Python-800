{
 "cells": [
  {
   "cell_type": "code",
   "execution_count": 2,
   "id": "303a13b2",
   "metadata": {},
   "outputs": [
    {
     "name": "stdout",
     "output_type": "stream",
     "text": [
      "apple banana grapes mango\n"
     ]
    }
   ],
   "source": [
    "fruit1 = 'apple' # string\n",
    "fruit2 = 'banana'\n",
    "fruit3 = 'grapes'\n",
    "fruit4 = 'mango'\n",
    "\n",
    "print(fruit1, fruit2, fruit3, fruit4)"
   ]
  },
  {
   "cell_type": "code",
   "execution_count": 3,
   "id": "13ece7d7",
   "metadata": {},
   "outputs": [
    {
     "name": "stdout",
     "output_type": "stream",
     "text": [
      "['apple', 'banana', 'grapes', 'mango']\n"
     ]
    }
   ],
   "source": [
    "fruits = ['apple', 'banana', 'grapes', 'mango'] # list data structure/datatype\n",
    "print(fruits) "
   ]
  },
  {
   "cell_type": "code",
   "execution_count": 4,
   "id": "0cd224f0",
   "metadata": {},
   "outputs": [
    {
     "name": "stdout",
     "output_type": "stream",
     "text": [
      "[1, 0.1, 'hello', (1+4j), ['hello', 'hi']]\n"
     ]
    }
   ],
   "source": [
    "my_list = [1, 0.1, 'hello', 1+4j, ['hello', 'hi']] \n",
    "# any datatype can in inserted inside list\n",
    "print(my_list)"
   ]
  },
  {
   "cell_type": "code",
   "execution_count": 5,
   "id": "110e91f2",
   "metadata": {},
   "outputs": [
    {
     "name": "stdout",
     "output_type": "stream",
     "text": [
      "banana\n"
     ]
    }
   ],
   "source": [
    "fruits = ['apple', 'banana', 'grapes', 'mango']\n",
    "print(fruits[1]) "
   ]
  },
  {
   "cell_type": "code",
   "execution_count": 6,
   "id": "eaa0b863",
   "metadata": {},
   "outputs": [
    {
     "name": "stdout",
     "output_type": "stream",
     "text": [
      "['apple', 'banana', 'grapes']\n"
     ]
    }
   ],
   "source": [
    "fruits = ['apple', 'banana', 'grapes', 'mango']\n",
    "print(fruits[0:3]) "
   ]
  },
  {
   "cell_type": "code",
   "execution_count": 7,
   "id": "eebf7d2f",
   "metadata": {},
   "outputs": [
    {
     "data": {
      "text/plain": [
       "'mango'"
      ]
     },
     "execution_count": 7,
     "metadata": {},
     "output_type": "execute_result"
    }
   ],
   "source": [
    "fruits[-1]"
   ]
  },
  {
   "cell_type": "code",
   "execution_count": 8,
   "id": "880fefea",
   "metadata": {},
   "outputs": [
    {
     "name": "stdout",
     "output_type": "stream",
     "text": [
      "['apple', 'banana', 'grapes', 'mango', 'guava']\n"
     ]
    }
   ],
   "source": [
    "fruits = ['apple', 'banana', 'grapes', 'mango'] # mutable datatype => can be changed later\n",
    "\n",
    "fruits.append('guava') # insert at last of list\n",
    "\n",
    "print(fruits)"
   ]
  },
  {
   "cell_type": "code",
   "execution_count": 9,
   "id": "31a5148c",
   "metadata": {},
   "outputs": [
    {
     "ename": "TypeError",
     "evalue": "'str' object doesn't support item deletion",
     "output_type": "error",
     "traceback": [
      "\u001b[0;31m---------------------------------------------------------------------------\u001b[0m",
      "\u001b[0;31mTypeError\u001b[0m                                 Traceback (most recent call last)",
      "Cell \u001b[0;32mIn[9], line 3\u001b[0m\n\u001b[1;32m      1\u001b[0m x \u001b[38;5;241m=\u001b[39m \u001b[38;5;124m'\u001b[39m\u001b[38;5;124mram\u001b[39m\u001b[38;5;124m'\u001b[39m\n\u001b[0;32m----> 3\u001b[0m \u001b[38;5;28;01mdel\u001b[39;00m \u001b[43mx\u001b[49m\u001b[43m[\u001b[49m\u001b[38;5;241;43m0\u001b[39;49m\u001b[43m]\u001b[49m\n",
      "\u001b[0;31mTypeError\u001b[0m: 'str' object doesn't support item deletion"
     ]
    }
   ],
   "source": [
    "x = 'ram'\n",
    "\n",
    "del x[0]"
   ]
  },
  {
   "cell_type": "code",
   "execution_count": 10,
   "id": "65328613",
   "metadata": {},
   "outputs": [
    {
     "name": "stdout",
     "output_type": "stream",
     "text": [
      "['banana', 'grapes', 'mango']\n"
     ]
    }
   ],
   "source": [
    "# mutable => list, dictionary, set\n",
    "\n",
    "# immutable => number, string, tuple\n",
    "\n",
    "fruits = ['apple', 'banana', 'grapes', 'mango'] \n",
    "# muttable datatype => can be changed later\n",
    "\n",
    "del fruits[0]\n",
    "\n",
    "print(fruits)"
   ]
  },
  {
   "cell_type": "code",
   "execution_count": 13,
   "id": "5af88e2d",
   "metadata": {},
   "outputs": [
    {
     "name": "stdout",
     "output_type": "stream",
     "text": [
      "a\n"
     ]
    },
    {
     "ename": "TypeError",
     "evalue": "'str' object doesn't support item deletion",
     "output_type": "error",
     "traceback": [
      "\u001b[0;31m---------------------------------------------------------------------------\u001b[0m",
      "\u001b[0;31mTypeError\u001b[0m                                 Traceback (most recent call last)",
      "Cell \u001b[0;32mIn[13], line 6\u001b[0m\n\u001b[1;32m      2\u001b[0m \u001b[38;5;66;03m# muttable datatype => can be changed later\u001b[39;00m\n\u001b[1;32m      4\u001b[0m \u001b[38;5;28mprint\u001b[39m(fruits[\u001b[38;5;241m0\u001b[39m][\u001b[38;5;241m0\u001b[39m])\n\u001b[0;32m----> 6\u001b[0m \u001b[38;5;28;01mdel\u001b[39;00m \u001b[43mfruits\u001b[49m\u001b[43m[\u001b[49m\u001b[38;5;241;43m0\u001b[39;49m\u001b[43m]\u001b[49m\u001b[43m[\u001b[49m\u001b[38;5;241;43m0\u001b[39;49m\u001b[43m]\u001b[49m\n",
      "\u001b[0;31mTypeError\u001b[0m: 'str' object doesn't support item deletion"
     ]
    }
   ],
   "source": [
    "fruits = ['apple', 'banana', 'grapes', 'mango'] \n",
    "# muttable datatype => can be changed later\n",
    "\n",
    "print(fruits[0][0])\n",
    "\n",
    "del fruits[0][0]"
   ]
  },
  {
   "cell_type": "code",
   "execution_count": 14,
   "id": "1cf9d46b",
   "metadata": {},
   "outputs": [
    {
     "name": "stdout",
     "output_type": "stream",
     "text": [
      "[1, [2, 3, 4, 5], 6, 7, 8, 9]\n"
     ]
    }
   ],
   "source": [
    "numbers = [1,[2,3,4,5],6,7,8,9]\n",
    "print(numbers)"
   ]
  },
  {
   "cell_type": "code",
   "execution_count": 16,
   "id": "b428d525",
   "metadata": {},
   "outputs": [
    {
     "name": "stdout",
     "output_type": "stream",
     "text": [
      "6\n"
     ]
    }
   ],
   "source": [
    "print(numbers[2])"
   ]
  },
  {
   "cell_type": "code",
   "execution_count": 23,
   "id": "bd69946e",
   "metadata": {},
   "outputs": [],
   "source": [
    "numbers = [1,[2,3,4,5],6,7,8,9]"
   ]
  },
  {
   "cell_type": "code",
   "execution_count": 24,
   "id": "a8999f55",
   "metadata": {},
   "outputs": [
    {
     "data": {
      "text/plain": [
       "[2, 3, 4, 5]"
      ]
     },
     "execution_count": 24,
     "metadata": {},
     "output_type": "execute_result"
    }
   ],
   "source": [
    "numbers[1]"
   ]
  },
  {
   "cell_type": "code",
   "execution_count": 25,
   "id": "7cbb7e59",
   "metadata": {},
   "outputs": [
    {
     "data": {
      "text/plain": [
       "2"
      ]
     },
     "execution_count": 25,
     "metadata": {},
     "output_type": "execute_result"
    }
   ],
   "source": [
    "numbers[1][0]"
   ]
  },
  {
   "cell_type": "code",
   "execution_count": 19,
   "id": "be87c4d9",
   "metadata": {},
   "outputs": [
    {
     "name": "stdout",
     "output_type": "stream",
     "text": [
      "2\n"
     ]
    }
   ],
   "source": [
    "numbers = [1,[2,3,4,5],6,7,8,9]\n",
    "print(numbers[1][0])"
   ]
  },
  {
   "cell_type": "code",
   "execution_count": 27,
   "id": "a3e002b7",
   "metadata": {},
   "outputs": [],
   "source": [
    "numbers = [1,4,7,[2,3,4,5,7,8],6,7,8,9]"
   ]
  },
  {
   "cell_type": "code",
   "execution_count": 28,
   "id": "9fc22cdb",
   "metadata": {},
   "outputs": [
    {
     "name": "stdout",
     "output_type": "stream",
     "text": [
      "[2, 3, 4, 5, 7, 8]\n"
     ]
    }
   ],
   "source": [
    "print(numbers[3])"
   ]
  },
  {
   "cell_type": "code",
   "execution_count": 30,
   "id": "558f888b",
   "metadata": {},
   "outputs": [
    {
     "data": {
      "text/plain": [
       "[3, 4, 5, 7]"
      ]
     },
     "execution_count": 30,
     "metadata": {},
     "output_type": "execute_result"
    }
   ],
   "source": [
    "numbers[3][1:5]"
   ]
  },
  {
   "cell_type": "code",
   "execution_count": 31,
   "id": "301806d5",
   "metadata": {},
   "outputs": [],
   "source": [
    "numbers = [1,4,7,[[2,3,4,5,7,8],6],7,8,9]"
   ]
  },
  {
   "cell_type": "code",
   "execution_count": 32,
   "id": "6f9c53f5",
   "metadata": {},
   "outputs": [
    {
     "data": {
      "text/plain": [
       "[[2, 3, 4, 5, 7, 8], 6]"
      ]
     },
     "execution_count": 32,
     "metadata": {},
     "output_type": "execute_result"
    }
   ],
   "source": [
    "numbers[3]"
   ]
  },
  {
   "cell_type": "code",
   "execution_count": 33,
   "id": "7ba051f3",
   "metadata": {},
   "outputs": [
    {
     "data": {
      "text/plain": [
       "[2, 3, 4, 5, 7, 8]"
      ]
     },
     "execution_count": 33,
     "metadata": {},
     "output_type": "execute_result"
    }
   ],
   "source": [
    "numbers[3][0]"
   ]
  },
  {
   "cell_type": "code",
   "execution_count": 34,
   "id": "ef07abfa",
   "metadata": {},
   "outputs": [
    {
     "data": {
      "text/plain": [
       "[3, 4, 5, 7]"
      ]
     },
     "execution_count": 34,
     "metadata": {},
     "output_type": "execute_result"
    }
   ],
   "source": [
    "numbers[3][0][1:5]"
   ]
  },
  {
   "cell_type": "code",
   "execution_count": 35,
   "id": "f01f8b0d",
   "metadata": {},
   "outputs": [],
   "source": [
    "numbers = [1,4,[7,[[2,3,4,5,7,8],6],7,8],9]"
   ]
  },
  {
   "cell_type": "code",
   "execution_count": 36,
   "id": "e8b872bf",
   "metadata": {},
   "outputs": [
    {
     "data": {
      "text/plain": [
       "[7, [[2, 3, 4, 5, 7, 8], 6], 7, 8]"
      ]
     },
     "execution_count": 36,
     "metadata": {},
     "output_type": "execute_result"
    }
   ],
   "source": [
    "numbers[2]"
   ]
  },
  {
   "cell_type": "code",
   "execution_count": 37,
   "id": "dcd136bd",
   "metadata": {},
   "outputs": [
    {
     "data": {
      "text/plain": [
       "[[2, 3, 4, 5, 7, 8], 6]"
      ]
     },
     "execution_count": 37,
     "metadata": {},
     "output_type": "execute_result"
    }
   ],
   "source": [
    "numbers[2][1]"
   ]
  },
  {
   "cell_type": "code",
   "execution_count": 38,
   "id": "b19ec783",
   "metadata": {},
   "outputs": [
    {
     "data": {
      "text/plain": [
       "6"
      ]
     },
     "execution_count": 38,
     "metadata": {},
     "output_type": "execute_result"
    }
   ],
   "source": [
    "numbers[2][1][1]"
   ]
  },
  {
   "cell_type": "code",
   "execution_count": 39,
   "id": "447f0cc6",
   "metadata": {},
   "outputs": [
    {
     "data": {
      "text/plain": [
       "[7, [[2, 3, 4, 5, 7, 8], 6], 7, 8]"
      ]
     },
     "execution_count": 39,
     "metadata": {},
     "output_type": "execute_result"
    }
   ],
   "source": [
    "numbers[2]"
   ]
  },
  {
   "cell_type": "code",
   "execution_count": 40,
   "id": "594ad4c0",
   "metadata": {},
   "outputs": [
    {
     "data": {
      "text/plain": [
       "[[2, 3, 4, 5, 7, 8], 6]"
      ]
     },
     "execution_count": 40,
     "metadata": {},
     "output_type": "execute_result"
    }
   ],
   "source": [
    "numbers[2][1]"
   ]
  },
  {
   "cell_type": "code",
   "execution_count": 41,
   "id": "956463b7",
   "metadata": {},
   "outputs": [
    {
     "data": {
      "text/plain": [
       "[2, 3, 4, 5, 7, 8]"
      ]
     },
     "execution_count": 41,
     "metadata": {},
     "output_type": "execute_result"
    }
   ],
   "source": [
    "numbers[2][1][0]"
   ]
  },
  {
   "cell_type": "code",
   "execution_count": 42,
   "id": "62d4dfa0",
   "metadata": {},
   "outputs": [
    {
     "data": {
      "text/plain": [
       "[5, 7, 8]"
      ]
     },
     "execution_count": 42,
     "metadata": {},
     "output_type": "execute_result"
    }
   ],
   "source": [
    "numbers[2][1][0][3:]"
   ]
  },
  {
   "cell_type": "code",
   "execution_count": 43,
   "id": "4a6e8011",
   "metadata": {},
   "outputs": [
    {
     "name": "stdout",
     "output_type": "stream",
     "text": [
      "[5, 7, 8] 6\n"
     ]
    }
   ],
   "source": [
    "numbers = [1,4,[7,[[2,3,4,5,7,8],6],7,8],9] # nested list\n",
    "print(numbers[2][1][0][3:], numbers[2][1][1])"
   ]
  },
  {
   "cell_type": "code",
   "execution_count": 44,
   "id": "1ce4dc5d",
   "metadata": {},
   "outputs": [],
   "source": [
    "numbers = [1,[4,[7,[[2,3,4,[5,7,8]],6],7,8],9]]"
   ]
  },
  {
   "cell_type": "code",
   "execution_count": 45,
   "id": "efe33e82",
   "metadata": {},
   "outputs": [
    {
     "data": {
      "text/plain": [
       "[4, [7, [[2, 3, 4, [5, 7, 8]], 6], 7, 8], 9]"
      ]
     },
     "execution_count": 45,
     "metadata": {},
     "output_type": "execute_result"
    }
   ],
   "source": [
    "numbers[1]"
   ]
  },
  {
   "cell_type": "code",
   "execution_count": 47,
   "id": "8262ba98",
   "metadata": {},
   "outputs": [
    {
     "data": {
      "text/plain": [
       "[7, [[2, 3, 4, [5, 7, 8]], 6], 7, 8]"
      ]
     },
     "execution_count": 47,
     "metadata": {},
     "output_type": "execute_result"
    }
   ],
   "source": [
    "numbers[1][1]"
   ]
  },
  {
   "cell_type": "code",
   "execution_count": 48,
   "id": "0b422310",
   "metadata": {},
   "outputs": [
    {
     "data": {
      "text/plain": [
       "[[2, 3, 4, [5, 7, 8]], 6]"
      ]
     },
     "execution_count": 48,
     "metadata": {},
     "output_type": "execute_result"
    }
   ],
   "source": [
    "numbers[1][1][1]"
   ]
  },
  {
   "cell_type": "code",
   "execution_count": 49,
   "id": "4d0162de",
   "metadata": {},
   "outputs": [
    {
     "data": {
      "text/plain": [
       "[2, 3, 4, [5, 7, 8]]"
      ]
     },
     "execution_count": 49,
     "metadata": {},
     "output_type": "execute_result"
    }
   ],
   "source": [
    "numbers[1][1][1][0]"
   ]
  },
  {
   "cell_type": "code",
   "execution_count": 50,
   "id": "294a7a89",
   "metadata": {},
   "outputs": [
    {
     "data": {
      "text/plain": [
       "[5, 7, 8]"
      ]
     },
     "execution_count": 50,
     "metadata": {},
     "output_type": "execute_result"
    }
   ],
   "source": [
    "numbers[1][1][1][0][3]"
   ]
  },
  {
   "cell_type": "code",
   "execution_count": 51,
   "id": "e0921217",
   "metadata": {},
   "outputs": [
    {
     "data": {
      "text/plain": [
       "[5, 7, 8]"
      ]
     },
     "execution_count": 51,
     "metadata": {},
     "output_type": "execute_result"
    }
   ],
   "source": [
    "numbers[1][1][1][0][3][:]"
   ]
  },
  {
   "cell_type": "code",
   "execution_count": 53,
   "id": "811237b1",
   "metadata": {},
   "outputs": [
    {
     "name": "stdout",
     "output_type": "stream",
     "text": [
      "[1, 2, 3, 4, 5, 6]\n",
      "[1, 2, 3, 4, 5, 6]\n"
     ]
    }
   ],
   "source": [
    "numbers = [1,2,3,4,5,6]\n",
    "\n",
    "print(numbers)\n",
    "print(numbers[:])"
   ]
  },
  {
   "cell_type": "code",
   "execution_count": 54,
   "id": "f055054f",
   "metadata": {},
   "outputs": [
    {
     "name": "stdout",
     "output_type": "stream",
     "text": [
      "[1, 2, 3, 4, 5, 6]\n"
     ]
    }
   ],
   "source": [
    "numbers = [1,2,3,4,5,6]\n",
    "\n",
    "y = numbers\n",
    "\n",
    "print(y)"
   ]
  },
  {
   "cell_type": "code",
   "execution_count": 55,
   "id": "800b552e",
   "metadata": {},
   "outputs": [
    {
     "name": "stdout",
     "output_type": "stream",
     "text": [
      "[1, 2, 3, 4, 5, 6, 'hello']\n"
     ]
    }
   ],
   "source": [
    "numbers = [1,2,3,4,5,6]\n",
    "\n",
    "y = numbers\n",
    "\n",
    "y.append('hello')\n",
    "\n",
    "print(y)"
   ]
  },
  {
   "cell_type": "code",
   "execution_count": 56,
   "id": "211d198c",
   "metadata": {},
   "outputs": [
    {
     "name": "stdout",
     "output_type": "stream",
     "text": [
      "[1, 2, 3, 4, 5, 6, 'hello']\n",
      "[1, 2, 3, 4, 5, 6, 'hello']\n"
     ]
    }
   ],
   "source": [
    "numbers = [1,2,3,4,5,6]\n",
    "\n",
    "\n",
    "y = numbers\n",
    "\n",
    "y.append('hello')\n",
    "\n",
    "print(y)\n",
    "print(numbers)"
   ]
  },
  {
   "cell_type": "code",
   "execution_count": 57,
   "id": "ed1c37c2",
   "metadata": {},
   "outputs": [
    {
     "name": "stdout",
     "output_type": "stream",
     "text": [
      "4391726080\n",
      "4391726080\n",
      "[1, 2, 3, 4, 5, 6, 'hello']\n",
      "[1, 2, 3, 4, 5, 6, 'hello']\n"
     ]
    }
   ],
   "source": [
    "numbers = [1,2,3,4,5,6]\n",
    "\n",
    "print(id(numbers))\n",
    "\n",
    "y = numbers # pointing to same memory address of numbers\n",
    "\n",
    "print(id(y))\n",
    "\n",
    "y.append('hello')\n",
    "\n",
    "print(y)\n",
    "print(numbers)"
   ]
  },
  {
   "cell_type": "code",
   "execution_count": 58,
   "id": "b3f7860b",
   "metadata": {},
   "outputs": [
    {
     "name": "stdout",
     "output_type": "stream",
     "text": [
      "4391511232\n",
      "4391511040\n",
      "[1, 2, 3, 4, 5, 6, 'hello']\n",
      "[1, 2, 3, 4, 5, 6]\n"
     ]
    }
   ],
   "source": [
    "numbers = [1,2,3,4,5,6]\n",
    "\n",
    "print(id(numbers))\n",
    "\n",
    "y = numbers[:] # get all values of numbers and add to separate memory address\n",
    "\n",
    "print(id(y))\n",
    "\n",
    "y.append('hello')\n",
    "\n",
    "print(y)\n",
    "print(numbers)"
   ]
  },
  {
   "cell_type": "code",
   "execution_count": 59,
   "id": "be681af0",
   "metadata": {},
   "outputs": [
    {
     "data": {
      "text/plain": [
       "['apple', 'orange', 'grapes', 'mango']"
      ]
     },
     "execution_count": 59,
     "metadata": {},
     "output_type": "execute_result"
    }
   ],
   "source": [
    "fruits = ['apple', 'banana', 'grapes', 'mango'] \n",
    "\n",
    "fruits[1] = 'orange'\n",
    "\n",
    "fruits"
   ]
  },
  {
   "cell_type": "code",
   "execution_count": 60,
   "id": "083610ff",
   "metadata": {},
   "outputs": [
    {
     "name": "stdout",
     "output_type": "stream",
     "text": [
      "['apple', 'banana', 'grapes', 'mango', 'apple', 'banana', 'grapes', 'mango']\n"
     ]
    }
   ],
   "source": [
    "fruits1 = ['apple', 'banana', 'grapes', 'mango'] \n",
    "fruits2 = ['apple', 'banana', 'grapes', 'mango']\n",
    "\n",
    "x = fruits1 + fruits2 # list concatenation\n",
    "\n",
    "print(x)"
   ]
  },
  {
   "cell_type": "code",
   "execution_count": 61,
   "id": "d886e801",
   "metadata": {},
   "outputs": [
    {
     "ename": "TypeError",
     "evalue": "can only concatenate list (not \"str\") to list",
     "output_type": "error",
     "traceback": [
      "\u001b[0;31m---------------------------------------------------------------------------\u001b[0m",
      "\u001b[0;31mTypeError\u001b[0m                                 Traceback (most recent call last)",
      "Cell \u001b[0;32mIn[61], line 2\u001b[0m\n\u001b[1;32m      1\u001b[0m fruits \u001b[38;5;241m=\u001b[39m [\u001b[38;5;124m'\u001b[39m\u001b[38;5;124mapple\u001b[39m\u001b[38;5;124m'\u001b[39m, \u001b[38;5;124m'\u001b[39m\u001b[38;5;124mbanana\u001b[39m\u001b[38;5;124m'\u001b[39m, \u001b[38;5;124m'\u001b[39m\u001b[38;5;124mgrapes\u001b[39m\u001b[38;5;124m'\u001b[39m, \u001b[38;5;124m'\u001b[39m\u001b[38;5;124mmango\u001b[39m\u001b[38;5;124m'\u001b[39m] \n\u001b[0;32m----> 2\u001b[0m \u001b[43mfruits\u001b[49m\u001b[43m \u001b[49m\u001b[38;5;241;43m+\u001b[39;49m\u001b[43m \u001b[49m\u001b[38;5;124;43m'\u001b[39;49m\u001b[38;5;124;43mhello\u001b[39;49m\u001b[38;5;124;43m'\u001b[39;49m\n",
      "\u001b[0;31mTypeError\u001b[0m: can only concatenate list (not \"str\") to list"
     ]
    }
   ],
   "source": [
    "fruits = ['apple', 'banana', 'grapes', 'mango'] \n",
    "fruits + 'hello'"
   ]
  },
  {
   "cell_type": "code",
   "execution_count": 63,
   "id": "35069e28",
   "metadata": {},
   "outputs": [
    {
     "data": {
      "text/plain": [
       "['apple', 'banana', 'grapes', 'mango', 'hello']"
      ]
     },
     "execution_count": 63,
     "metadata": {},
     "output_type": "execute_result"
    }
   ],
   "source": [
    "fruits = ['apple', 'banana', 'grapes', 'mango'] \n",
    "fruits + ['hello'] # concatenation"
   ]
  },
  {
   "cell_type": "code",
   "execution_count": 64,
   "id": "8dfa7c1e",
   "metadata": {},
   "outputs": [
    {
     "name": "stdout",
     "output_type": "stream",
     "text": [
      "['apple', 'banana', 'grapes', 'mango', 'apple', 'banana', 'grapes', 'mango', 'apple', 'banana', 'grapes', 'mango']\n"
     ]
    }
   ],
   "source": [
    "fruits = ['apple', 'banana', 'grapes', 'mango'] \n",
    "x = fruits * 3 # replication\n",
    "\n",
    "print(x)"
   ]
  },
  {
   "cell_type": "code",
   "execution_count": 65,
   "id": "62b04004",
   "metadata": {},
   "outputs": [
    {
     "ename": "TypeError",
     "evalue": "can't multiply sequence by non-int of type 'list'",
     "output_type": "error",
     "traceback": [
      "\u001b[0;31m---------------------------------------------------------------------------\u001b[0m",
      "\u001b[0;31mTypeError\u001b[0m                                 Traceback (most recent call last)",
      "Cell \u001b[0;32mIn[65], line 2\u001b[0m\n\u001b[1;32m      1\u001b[0m fruits \u001b[38;5;241m=\u001b[39m [\u001b[38;5;124m'\u001b[39m\u001b[38;5;124mapple\u001b[39m\u001b[38;5;124m'\u001b[39m, \u001b[38;5;124m'\u001b[39m\u001b[38;5;124mbanana\u001b[39m\u001b[38;5;124m'\u001b[39m, \u001b[38;5;124m'\u001b[39m\u001b[38;5;124mgrapes\u001b[39m\u001b[38;5;124m'\u001b[39m, \u001b[38;5;124m'\u001b[39m\u001b[38;5;124mmango\u001b[39m\u001b[38;5;124m'\u001b[39m] \n\u001b[0;32m----> 2\u001b[0m \u001b[43mfruits\u001b[49m\u001b[43m \u001b[49m\u001b[38;5;241;43m*\u001b[39;49m\u001b[43m \u001b[49m\u001b[43m[\u001b[49m\u001b[38;5;124;43m'\u001b[39;49m\u001b[38;5;124;43mhello\u001b[39;49m\u001b[38;5;124;43m'\u001b[39;49m\u001b[43m]\u001b[49m\n",
      "\u001b[0;31mTypeError\u001b[0m: can't multiply sequence by non-int of type 'list'"
     ]
    }
   ],
   "source": [
    "fruits = ['apple', 'banana', 'grapes', 'mango'] \n",
    "fruits * ['hello']"
   ]
  },
  {
   "cell_type": "code",
   "execution_count": null,
   "id": "aad448c1",
   "metadata": {},
   "outputs": [],
   "source": []
  }
 ],
 "metadata": {
  "kernelspec": {
   "display_name": "Python 3 (ipykernel)",
   "language": "python",
   "name": "python3"
  },
  "language_info": {
   "codemirror_mode": {
    "name": "ipython",
    "version": 3
   },
   "file_extension": ".py",
   "mimetype": "text/x-python",
   "name": "python",
   "nbconvert_exporter": "python",
   "pygments_lexer": "ipython3",
   "version": "3.11.2"
  }
 },
 "nbformat": 4,
 "nbformat_minor": 5
}
