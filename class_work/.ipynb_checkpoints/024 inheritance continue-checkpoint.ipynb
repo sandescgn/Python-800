{
 "cells": [
  {
   "cell_type": "code",
   "execution_count": 2,
   "id": "d2c4b031",
   "metadata": {},
   "outputs": [],
   "source": [
    "# Multilevel Inheritance\n",
    "class GrandParent:\n",
    "    pass\n",
    "\n",
    "class Parent(GrandParent):\n",
    "    pass\n",
    "\n",
    "class Child(Parent):\n",
    "    pass\n"
   ]
  },
  {
   "cell_type": "code",
   "execution_count": 3,
   "id": "12298ad3",
   "metadata": {},
   "outputs": [],
   "source": [
    "class Person:\n",
    "    pass\n",
    "\n",
    "class Student(Person):\n",
    "    pass\n",
    "\n",
    "class BachelorStudent(Student):\n",
    "    pass"
   ]
  },
  {
   "cell_type": "code",
   "execution_count": 5,
   "id": "e14ff90c",
   "metadata": {},
   "outputs": [],
   "source": [
    "class Person: # Base Class / Parent Class\n",
    "    # special methods / double underscore / dunder method\n",
    "    # constructor => initializer\n",
    "    def __init__(self, name, age, address):\n",
    "        self.name = name\n",
    "        self.age = age\n",
    "        self.address = address\n",
    "    \n",
    "    def walk(self):\n",
    "        print(\"Person is walking\")\n",
    "    \n",
    "    def eat(self):\n",
    "        print(\"Person is eating\")\n",
    "    \n",
    "    def sleep(self):\n",
    "        print(\"Person is sleeping\")\n",
    "        \n",
    "    def info(self):\n",
    "        print(f\"Name: {self.name}\")\n",
    "        print(f\"Age: {self.age}\")\n",
    "        print(f\"Address: {self.address}\")\n",
    "        \n",
    "        \n",
    "class Student(Person): # Derived Class / Child Class\n",
    "    # method override\n",
    "    def __init__(self, name, age, address, college, faculty, roll_no):\n",
    "        super().__init__(name, age, address) # calling Person __init__\n",
    "        self.college = college\n",
    "        self.faculty = faculty\n",
    "        self.roll_no = roll_no\n",
    "        self.subjects = []\n",
    "        \n",
    "    def learn(self):\n",
    "        print(f\"{self.name} is learning: {self.subjects}\")\n",
    "        \n",
    "    def add_subject(self, subject):\n",
    "        self.subjects.append(subject)\n",
    "    \n",
    "    # method override\n",
    "    def info(self):\n",
    "        super().info() # calling parent's info method\n",
    "        print(f\"College: {self.college}\")\n",
    "        print(f\"Faculty: {self.faculty}\")\n",
    "        print(f\"Roll No: {self.roll_no}\")\n",
    "        print(f\"Subjects: {self.subjects}\")\n",
    "        \n",
    "\n",
    "class BachelorStudent(Student):\n",
    "    def __init__(self,name, age, address, college, faculty, roll_no, university=\"TU\"):\n",
    "        super().__init__(name, age, address, college, faculty, roll_no)\n",
    "        self.university = university\n",
    "        self.subjects = []\n",
    "        \n",
    "    def info(self):\n",
    "        super().info() # calling parent's info method\n",
    "        print(f\"University: {self.university}\")"
   ]
  },
  {
   "cell_type": "code",
   "execution_count": 6,
   "id": "3713c818",
   "metadata": {},
   "outputs": [
    {
     "name": "stdout",
     "output_type": "stream",
     "text": [
      "Name: ram\n",
      "Age: 22\n",
      "Address: ktm\n",
      "College: ncit\n",
      "Faculty: IT\n",
      "Roll No: 1\n",
      "Subjects: []\n",
      "University: KU\n"
     ]
    }
   ],
   "source": [
    "b1 = BachelorStudent('ram', 22, 'ktm', 'ncit', 'IT', 1, \"KU\")\n",
    "b1.info()"
   ]
  },
  {
   "cell_type": "code",
   "execution_count": 7,
   "id": "0b735b8f",
   "metadata": {},
   "outputs": [],
   "source": [
    "class Person:\n",
    "    pass\n",
    "\n",
    "# Hierarchical Inherietnace\n",
    "class Student(Person):\n",
    "    pass\n",
    "\n",
    "\n",
    "class Teacher(Person):\n",
    "    pass\n",
    "\n",
    "\n",
    "class Employee(Person):\n",
    "    pass"
   ]
  },
  {
   "cell_type": "code",
   "execution_count": 8,
   "id": "e5b1b424",
   "metadata": {},
   "outputs": [
    {
     "name": "stdout",
     "output_type": "stream",
     "text": [
      "This is Vehicle\n",
      "Car name is: BMW\n",
      "This is Vehicle\n",
      "Truck name is: Ford\n"
     ]
    }
   ],
   "source": [
    "class Vehicle:\n",
    "    def info(self):\n",
    "        print(\"This is Vehicle\")\n",
    "\n",
    "class Car(Vehicle):\n",
    "    def car_info(self, name):\n",
    "        print(\"Car name is:\", name)\n",
    "\n",
    "class Truck(Vehicle):\n",
    "    def truck_info(self, name):\n",
    "        print(\"Truck name is:\", name)\n",
    "\n",
    "obj1 = Car()\n",
    "obj1.info()\n",
    "obj1.car_info('BMW')\n",
    "\n",
    "obj2 = Truck()\n",
    "obj2.info()\n",
    "obj2.truck_info('Ford')"
   ]
  },
  {
   "cell_type": "code",
   "execution_count": null,
   "id": "7bdd508a",
   "metadata": {},
   "outputs": [],
   "source": [
    "# https://pynative.com/python-inheritance/"
   ]
  },
  {
   "cell_type": "code",
   "execution_count": 9,
   "id": "a055bf78",
   "metadata": {},
   "outputs": [
    {
     "name": "stdout",
     "output_type": "stream",
     "text": [
      "Inside Vehicle class\n",
      "Inside Car class\n",
      "Inside SportsCar class\n"
     ]
    }
   ],
   "source": [
    "class Vehicle:\n",
    "    def vehicle_info(self):\n",
    "        print(\"Inside Vehicle class\")\n",
    "\n",
    "class Car(Vehicle):\n",
    "    def car_info(self):\n",
    "        print(\"Inside Car class\")\n",
    "\n",
    "class Truck(Vehicle):\n",
    "    def truck_info(self):\n",
    "        print(\"Inside Truck class\")\n",
    "\n",
    "# Sports Car can inherits properties of Vehicle and Car\n",
    "class SportsCar(Car, Vehicle):\n",
    "    def sports_car_info(self):\n",
    "        print(\"Inside SportsCar class\")\n",
    "\n",
    "# create object\n",
    "s_car = SportsCar()\n",
    "\n",
    "s_car.vehicle_info()\n",
    "s_car.car_info()\n",
    "s_car.sports_car_info()"
   ]
  },
  {
   "cell_type": "code",
   "execution_count": 10,
   "id": "29c19c21",
   "metadata": {},
   "outputs": [],
   "source": [
    "class MyClass:\n",
    "    a = 1 # class ko attribute => can be accessed by object also\n",
    "    b = 2\n",
    "    \n",
    "    def __init__(self, x, y):\n",
    "        self.x = x # object ko attribute => cannot be accessed by class\n",
    "        self.y = y"
   ]
  },
  {
   "cell_type": "code",
   "execution_count": 11,
   "id": "e444ddf2",
   "metadata": {},
   "outputs": [],
   "source": [
    "m = MyClass(x=5, y=7)"
   ]
  },
  {
   "cell_type": "code",
   "execution_count": 12,
   "id": "d2db3dca",
   "metadata": {},
   "outputs": [
    {
     "data": {
      "text/plain": [
       "5"
      ]
     },
     "execution_count": 12,
     "metadata": {},
     "output_type": "execute_result"
    }
   ],
   "source": [
    "m.x"
   ]
  },
  {
   "cell_type": "code",
   "execution_count": 13,
   "id": "3ac9db96",
   "metadata": {},
   "outputs": [
    {
     "data": {
      "text/plain": [
       "7"
      ]
     },
     "execution_count": 13,
     "metadata": {},
     "output_type": "execute_result"
    }
   ],
   "source": [
    "m.y"
   ]
  },
  {
   "cell_type": "code",
   "execution_count": 14,
   "id": "ae6a0c94",
   "metadata": {},
   "outputs": [
    {
     "data": {
      "text/plain": [
       "1"
      ]
     },
     "execution_count": 14,
     "metadata": {},
     "output_type": "execute_result"
    }
   ],
   "source": [
    "m.a"
   ]
  },
  {
   "cell_type": "code",
   "execution_count": 15,
   "id": "7a634d0e",
   "metadata": {},
   "outputs": [
    {
     "data": {
      "text/plain": [
       "2"
      ]
     },
     "execution_count": 15,
     "metadata": {},
     "output_type": "execute_result"
    }
   ],
   "source": [
    "m.b"
   ]
  },
  {
   "cell_type": "code",
   "execution_count": 16,
   "id": "ba8b8cb5",
   "metadata": {},
   "outputs": [
    {
     "data": {
      "text/plain": [
       "1"
      ]
     },
     "execution_count": 16,
     "metadata": {},
     "output_type": "execute_result"
    }
   ],
   "source": [
    "MyClass.a"
   ]
  },
  {
   "cell_type": "code",
   "execution_count": 17,
   "id": "f57e36c6",
   "metadata": {},
   "outputs": [
    {
     "data": {
      "text/plain": [
       "2"
      ]
     },
     "execution_count": 17,
     "metadata": {},
     "output_type": "execute_result"
    }
   ],
   "source": [
    "MyClass.b"
   ]
  },
  {
   "cell_type": "code",
   "execution_count": 18,
   "id": "ace41259",
   "metadata": {},
   "outputs": [
    {
     "ename": "AttributeError",
     "evalue": "type object 'MyClass' has no attribute 'x'",
     "output_type": "error",
     "traceback": [
      "\u001b[0;31m---------------------------------------------------------------------------\u001b[0m",
      "\u001b[0;31mAttributeError\u001b[0m                            Traceback (most recent call last)",
      "Cell \u001b[0;32mIn[18], line 1\u001b[0m\n\u001b[0;32m----> 1\u001b[0m \u001b[43mMyClass\u001b[49m\u001b[38;5;241;43m.\u001b[39;49m\u001b[43mx\u001b[49m\n",
      "\u001b[0;31mAttributeError\u001b[0m: type object 'MyClass' has no attribute 'x'"
     ]
    }
   ],
   "source": [
    "MyClass.x"
   ]
  },
  {
   "cell_type": "code",
   "execution_count": 19,
   "id": "a3f52ca9",
   "metadata": {},
   "outputs": [],
   "source": [
    "class Rectangle:\n",
    "    # instance => object\n",
    "    def __init__(self, length, breadth):\n",
    "        self.l = length\n",
    "        self.b = breadth\n",
    "    \n",
    "    def area(self):\n",
    "        return self.l * self.b\n",
    "        \n",
    "    def perimeter(self):\n",
    "        return 2 * (self.l + self.b)"
   ]
  },
  {
   "cell_type": "code",
   "execution_count": 20,
   "id": "4ae8f2f8",
   "metadata": {},
   "outputs": [
    {
     "name": "stdout",
     "output_type": "stream",
     "text": [
      "56\n",
      "30\n"
     ]
    }
   ],
   "source": [
    "r1 = Rectangle(7, 8)\n",
    "print(r1.area())\n",
    "print(r1.perimeter())"
   ]
  },
  {
   "cell_type": "code",
   "execution_count": 21,
   "id": "da849040",
   "metadata": {},
   "outputs": [
    {
     "data": {
      "text/plain": [
       "7"
      ]
     },
     "execution_count": 21,
     "metadata": {},
     "output_type": "execute_result"
    }
   ],
   "source": [
    "r1.l"
   ]
  },
  {
   "cell_type": "code",
   "execution_count": 22,
   "id": "4c5a6c5e",
   "metadata": {},
   "outputs": [
    {
     "data": {
      "text/plain": [
       "8"
      ]
     },
     "execution_count": 22,
     "metadata": {},
     "output_type": "execute_result"
    }
   ],
   "source": [
    "r1.b"
   ]
  },
  {
   "cell_type": "code",
   "execution_count": 23,
   "id": "ef6e044d",
   "metadata": {},
   "outputs": [],
   "source": [
    "class Rectangle:\n",
    "    # instance => object\n",
    "    # attribute should always be private\n",
    "    # method should always be public\n",
    "    def __init__(self, length, breadth):\n",
    "        self.__l = length \n",
    "        self.__b = breadth\n",
    "    \n",
    "    def area(self):\n",
    "        return self.__l * self.__b\n",
    "        \n",
    "    def perimeter(self):\n",
    "        return 2 * (self.__l + self.__b)"
   ]
  },
  {
   "cell_type": "code",
   "execution_count": 24,
   "id": "806b01df",
   "metadata": {},
   "outputs": [
    {
     "name": "stdout",
     "output_type": "stream",
     "text": [
      "56\n",
      "30\n"
     ]
    }
   ],
   "source": [
    "r1 = Rectangle(7, 8)\n",
    "print(r1.area())\n",
    "print(r1.perimeter())"
   ]
  },
  {
   "cell_type": "code",
   "execution_count": 26,
   "id": "502a66b4",
   "metadata": {},
   "outputs": [
    {
     "ename": "AttributeError",
     "evalue": "'Rectangle' object has no attribute '__l'",
     "output_type": "error",
     "traceback": [
      "\u001b[0;31m---------------------------------------------------------------------------\u001b[0m",
      "\u001b[0;31mAttributeError\u001b[0m                            Traceback (most recent call last)",
      "Cell \u001b[0;32mIn[26], line 1\u001b[0m\n\u001b[0;32m----> 1\u001b[0m \u001b[43mr1\u001b[49m\u001b[38;5;241;43m.\u001b[39;49m\u001b[43m__l\u001b[49m\n",
      "\u001b[0;31mAttributeError\u001b[0m: 'Rectangle' object has no attribute '__l'"
     ]
    }
   ],
   "source": [
    "r1.__l"
   ]
  },
  {
   "cell_type": "code",
   "execution_count": 27,
   "id": "fe6ad8b9",
   "metadata": {},
   "outputs": [
    {
     "ename": "AttributeError",
     "evalue": "'Rectangle' object has no attribute '__b'",
     "output_type": "error",
     "traceback": [
      "\u001b[0;31m---------------------------------------------------------------------------\u001b[0m",
      "\u001b[0;31mAttributeError\u001b[0m                            Traceback (most recent call last)",
      "Cell \u001b[0;32mIn[27], line 1\u001b[0m\n\u001b[0;32m----> 1\u001b[0m \u001b[43mr1\u001b[49m\u001b[38;5;241;43m.\u001b[39;49m\u001b[43m__b\u001b[49m\n",
      "\u001b[0;31mAttributeError\u001b[0m: 'Rectangle' object has no attribute '__b'"
     ]
    }
   ],
   "source": [
    "r1.__b"
   ]
  },
  {
   "cell_type": "code",
   "execution_count": 28,
   "id": "574d4df3",
   "metadata": {},
   "outputs": [
    {
     "ename": "AttributeError",
     "evalue": "'Rectangle' object has no attribute 'b'",
     "output_type": "error",
     "traceback": [
      "\u001b[0;31m---------------------------------------------------------------------------\u001b[0m",
      "\u001b[0;31mAttributeError\u001b[0m                            Traceback (most recent call last)",
      "Cell \u001b[0;32mIn[28], line 1\u001b[0m\n\u001b[0;32m----> 1\u001b[0m \u001b[43mr1\u001b[49m\u001b[38;5;241;43m.\u001b[39;49m\u001b[43mb\u001b[49m\n",
      "\u001b[0;31mAttributeError\u001b[0m: 'Rectangle' object has no attribute 'b'"
     ]
    }
   ],
   "source": [
    "r1.b"
   ]
  },
  {
   "cell_type": "code",
   "execution_count": 29,
   "id": "408d8f20",
   "metadata": {},
   "outputs": [],
   "source": [
    "class Rectangle:\n",
    "    # instance => object\n",
    "    def __init__(self, length, breadth):\n",
    "        self.l = length\n",
    "        self.b = breadth\n",
    "    \n",
    "    def area(self):\n",
    "        return self.l * self.b\n",
    "        \n",
    "    def perimeter(self):\n",
    "        return 2 * (self.l + self.b)"
   ]
  },
  {
   "cell_type": "code",
   "execution_count": 30,
   "id": "5666cc82",
   "metadata": {},
   "outputs": [
    {
     "name": "stdout",
     "output_type": "stream",
     "text": [
      "56\n",
      "30\n"
     ]
    }
   ],
   "source": [
    "r1 = Rectangle(7, 8)\n",
    "print(r1.area())\n",
    "print(r1.perimeter())"
   ]
  },
  {
   "cell_type": "code",
   "execution_count": 31,
   "id": "712118a8",
   "metadata": {},
   "outputs": [
    {
     "data": {
      "text/plain": [
       "7"
      ]
     },
     "execution_count": 31,
     "metadata": {},
     "output_type": "execute_result"
    }
   ],
   "source": [
    "r1.l"
   ]
  },
  {
   "cell_type": "code",
   "execution_count": 34,
   "id": "456103fb",
   "metadata": {},
   "outputs": [],
   "source": [
    "r1.l = 'xuynz'"
   ]
  },
  {
   "cell_type": "code",
   "execution_count": 35,
   "id": "27027b06",
   "metadata": {},
   "outputs": [
    {
     "data": {
      "text/plain": [
       "'xuynzxuynzxuynzxuynzxuynzxuynzxuynzxuynz'"
      ]
     },
     "execution_count": 35,
     "metadata": {},
     "output_type": "execute_result"
    }
   ],
   "source": [
    "r1.area()"
   ]
  },
  {
   "cell_type": "code",
   "execution_count": 37,
   "id": "df5dacaa",
   "metadata": {},
   "outputs": [
    {
     "name": "stdout",
     "output_type": "stream",
     "text": [
      "56\n",
      "30\n"
     ]
    }
   ],
   "source": [
    "class Rectangle:\n",
    "    # instance => object\n",
    "    # attribute should always be private\n",
    "    # method should always be public\n",
    "    def __init__(self, length, breadth):\n",
    "        self.__l = length \n",
    "        self.__b = breadth\n",
    "    \n",
    "    def area(self):\n",
    "        return self.__l * self.__b\n",
    "        \n",
    "    def perimeter(self):\n",
    "        return 2 * (self.__l + self.__b)\n",
    "    \n",
    "r1 = Rectangle(7, 8)\n",
    "print(r1.area())\n",
    "print(r1.perimeter())"
   ]
  },
  {
   "cell_type": "code",
   "execution_count": 38,
   "id": "a92daa50",
   "metadata": {},
   "outputs": [
    {
     "ename": "AttributeError",
     "evalue": "'Rectangle' object has no attribute '__l'",
     "output_type": "error",
     "traceback": [
      "\u001b[0;31m---------------------------------------------------------------------------\u001b[0m",
      "\u001b[0;31mAttributeError\u001b[0m                            Traceback (most recent call last)",
      "Cell \u001b[0;32mIn[38], line 1\u001b[0m\n\u001b[0;32m----> 1\u001b[0m \u001b[43mr1\u001b[49m\u001b[38;5;241;43m.\u001b[39;49m\u001b[43m__l\u001b[49m\n",
      "\u001b[0;31mAttributeError\u001b[0m: 'Rectangle' object has no attribute '__l'"
     ]
    }
   ],
   "source": [
    "r1.__l"
   ]
  },
  {
   "cell_type": "code",
   "execution_count": 39,
   "id": "c00d2016",
   "metadata": {},
   "outputs": [
    {
     "ename": "AttributeError",
     "evalue": "'Rectangle' object has no attribute 'l'",
     "output_type": "error",
     "traceback": [
      "\u001b[0;31m---------------------------------------------------------------------------\u001b[0m",
      "\u001b[0;31mAttributeError\u001b[0m                            Traceback (most recent call last)",
      "Cell \u001b[0;32mIn[39], line 1\u001b[0m\n\u001b[0;32m----> 1\u001b[0m \u001b[43mr1\u001b[49m\u001b[38;5;241;43m.\u001b[39;49m\u001b[43ml\u001b[49m\n",
      "\u001b[0;31mAttributeError\u001b[0m: 'Rectangle' object has no attribute 'l'"
     ]
    }
   ],
   "source": [
    "r1.l"
   ]
  },
  {
   "cell_type": "code",
   "execution_count": 40,
   "id": "e298df4c",
   "metadata": {},
   "outputs": [
    {
     "name": "stdout",
     "output_type": "stream",
     "text": [
      "56\n",
      "30\n"
     ]
    }
   ],
   "source": [
    "class Rectangle:\n",
    "    # instance => object\n",
    "    # attribute should always be private\n",
    "    # method should always be public\n",
    "    def __init__(self, length, breadth):\n",
    "        self.__l = length \n",
    "        self.__b = breadth\n",
    "    \n",
    "    def area(self):\n",
    "        return self.__l * self.__b\n",
    "        \n",
    "    def perimeter(self):\n",
    "        return 2 * (self.__l + self.__b)\n",
    "    \n",
    "    def length_getter(self):\n",
    "        return self.__l\n",
    "    \n",
    "r1 = Rectangle(7, 8)\n",
    "print(r1.area())\n",
    "print(r1.perimeter())"
   ]
  },
  {
   "cell_type": "code",
   "execution_count": 41,
   "id": "4adfe2d5",
   "metadata": {},
   "outputs": [
    {
     "data": {
      "text/plain": [
       "7"
      ]
     },
     "execution_count": 41,
     "metadata": {},
     "output_type": "execute_result"
    }
   ],
   "source": [
    "r1.length_getter()"
   ]
  },
  {
   "cell_type": "code",
   "execution_count": 42,
   "id": "7adb5808",
   "metadata": {},
   "outputs": [
    {
     "data": {
      "text/plain": [
       "56"
      ]
     },
     "execution_count": 42,
     "metadata": {},
     "output_type": "execute_result"
    }
   ],
   "source": [
    "r1.__l = 'hello'\n",
    "\n",
    "r1.area()"
   ]
  },
  {
   "cell_type": "code",
   "execution_count": 43,
   "id": "197fb6d3",
   "metadata": {},
   "outputs": [
    {
     "data": {
      "text/plain": [
       "56"
      ]
     },
     "execution_count": 43,
     "metadata": {},
     "output_type": "execute_result"
    }
   ],
   "source": [
    "r1.l = 'hello'\n",
    "\n",
    "r1.area()"
   ]
  },
  {
   "cell_type": "code",
   "execution_count": 44,
   "id": "db3fab6f",
   "metadata": {},
   "outputs": [
    {
     "data": {
      "text/plain": [
       "7"
      ]
     },
     "execution_count": 44,
     "metadata": {},
     "output_type": "execute_result"
    }
   ],
   "source": [
    "r1.length_getter()"
   ]
  },
  {
   "cell_type": "code",
   "execution_count": 48,
   "id": "74158c69",
   "metadata": {},
   "outputs": [
    {
     "name": "stdout",
     "output_type": "stream",
     "text": [
      "56\n",
      "30\n"
     ]
    }
   ],
   "source": [
    "class Rectangle:\n",
    "    # instance => object\n",
    "    # attribute should always be private\n",
    "    # method should always be public\n",
    "    def __init__(self, length, breadth):\n",
    "        self.__l = length \n",
    "        self.__b = breadth\n",
    "    \n",
    "    def area(self):\n",
    "        return self.__l * self.__b\n",
    "        \n",
    "    def perimeter(self):\n",
    "        return 2 * (self.__l + self.__b)\n",
    "    \n",
    "    def length_getter(self):\n",
    "        return self.__l\n",
    "    \n",
    "    def length_setter(self, length):\n",
    "        # validation\n",
    "        self.__l = length\n",
    "    \n",
    "r1 = Rectangle(7, 8)\n",
    "print(r1.area())\n",
    "print(r1.perimeter())"
   ]
  },
  {
   "cell_type": "code",
   "execution_count": 49,
   "id": "773ad228",
   "metadata": {},
   "outputs": [
    {
     "data": {
      "text/plain": [
       "7"
      ]
     },
     "execution_count": 49,
     "metadata": {},
     "output_type": "execute_result"
    }
   ],
   "source": [
    "r1.length_getter()"
   ]
  },
  {
   "cell_type": "code",
   "execution_count": 50,
   "id": "a44d778d",
   "metadata": {},
   "outputs": [],
   "source": [
    "r1.length_setter(10)"
   ]
  },
  {
   "cell_type": "code",
   "execution_count": 51,
   "id": "89bf8f21",
   "metadata": {},
   "outputs": [
    {
     "data": {
      "text/plain": [
       "80"
      ]
     },
     "execution_count": 51,
     "metadata": {},
     "output_type": "execute_result"
    }
   ],
   "source": [
    "r1.area()"
   ]
  },
  {
   "cell_type": "code",
   "execution_count": 52,
   "id": "670abdae",
   "metadata": {},
   "outputs": [
    {
     "data": {
      "text/plain": [
       "-80"
      ]
     },
     "execution_count": 52,
     "metadata": {},
     "output_type": "execute_result"
    }
   ],
   "source": [
    "r1.length_setter(-10)\n",
    "r1.area()"
   ]
  },
  {
   "cell_type": "code",
   "execution_count": null,
   "id": "cfa58a6f",
   "metadata": {},
   "outputs": [],
   "source": []
  }
 ],
 "metadata": {
  "kernelspec": {
   "display_name": "Python 3 (ipykernel)",
   "language": "python",
   "name": "python3"
  },
  "language_info": {
   "codemirror_mode": {
    "name": "ipython",
    "version": 3
   },
   "file_extension": ".py",
   "mimetype": "text/x-python",
   "name": "python",
   "nbconvert_exporter": "python",
   "pygments_lexer": "ipython3",
   "version": "3.11.2"
  }
 },
 "nbformat": 4,
 "nbformat_minor": 5
}
