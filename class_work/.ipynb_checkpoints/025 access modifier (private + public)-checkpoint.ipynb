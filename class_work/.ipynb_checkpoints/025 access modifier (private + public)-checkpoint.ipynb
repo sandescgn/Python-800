{
 "cells": [
  {
   "cell_type": "code",
   "execution_count": 1,
   "id": "6a58e73f",
   "metadata": {},
   "outputs": [
    {
     "name": "stdout",
     "output_type": "stream",
     "text": [
      "56\n",
      "30\n"
     ]
    }
   ],
   "source": [
    "class Rectangle:\n",
    "    # instance => object\n",
    "    # attribute should always be private\n",
    "    # method should always be public\n",
    "    def __init__(self, length, breadth):\n",
    "        self.__l = length  # double undersoce denotes private\n",
    "        self.__b = breadth\n",
    "    \n",
    "    def area(self):\n",
    "        return self.__l * self.__b\n",
    "        \n",
    "    def perimeter(self):\n",
    "        return 2 * (self.__l + self.__b)\n",
    "    \n",
    "    def length_getter(self):\n",
    "        return self.__l\n",
    "    \n",
    "    def length_setter(self, length):\n",
    "        # validation\n",
    "        self.__l = length\n",
    "    \n",
    "r1 = Rectangle(7, 8)\n",
    "print(r1.area())\n",
    "print(r1.perimeter())"
   ]
  },
  {
   "cell_type": "code",
   "execution_count": 2,
   "id": "377a1bc3",
   "metadata": {},
   "outputs": [
    {
     "data": {
      "text/plain": [
       "-80"
      ]
     },
     "execution_count": 2,
     "metadata": {},
     "output_type": "execute_result"
    }
   ],
   "source": [
    "r1.length_setter(-10)\n",
    "r1.area()"
   ]
  },
  {
   "cell_type": "code",
   "execution_count": 3,
   "id": "81ade441",
   "metadata": {},
   "outputs": [
    {
     "name": "stdout",
     "output_type": "stream",
     "text": [
      "56\n",
      "30\n"
     ]
    }
   ],
   "source": [
    "class Rectangle:\n",
    "    # instance => object\n",
    "    # attribute should always be private\n",
    "    # method should always be public\n",
    "    def __init__(self, length, breadth):\n",
    "        self.__l = length  # double undersoce denotes private\n",
    "        self.__b = breadth\n",
    "    \n",
    "    def area(self):\n",
    "        return self.__l * self.__b\n",
    "        \n",
    "    def perimeter(self):\n",
    "        return 2 * (self.__l + self.__b)\n",
    "    \n",
    "    def length_getter(self):\n",
    "        return self.__l\n",
    "    \n",
    "    def length_setter(self, length):\n",
    "        if length < 1:\n",
    "            raise Exception(\"Value cannot be less than 1.\") # custom exception\n",
    "        self.__l = length\n",
    "    \n",
    "r1 = Rectangle(7, 8)\n",
    "print(r1.area())\n",
    "print(r1.perimeter())"
   ]
  },
  {
   "cell_type": "code",
   "execution_count": 4,
   "id": "629646b9",
   "metadata": {},
   "outputs": [
    {
     "ename": "Exception",
     "evalue": "Value cannot be less than 1.",
     "output_type": "error",
     "traceback": [
      "\u001b[0;31m---------------------------------------------------------------------------\u001b[0m",
      "\u001b[0;31mException\u001b[0m                                 Traceback (most recent call last)",
      "Cell \u001b[0;32mIn[4], line 1\u001b[0m\n\u001b[0;32m----> 1\u001b[0m \u001b[43mr1\u001b[49m\u001b[38;5;241;43m.\u001b[39;49m\u001b[43mlength_setter\u001b[49m\u001b[43m(\u001b[49m\u001b[38;5;241;43m-\u001b[39;49m\u001b[38;5;241;43m10\u001b[39;49m\u001b[43m)\u001b[49m\n\u001b[1;32m      2\u001b[0m r1\u001b[38;5;241m.\u001b[39marea()\n",
      "Cell \u001b[0;32mIn[3], line 20\u001b[0m, in \u001b[0;36mRectangle.length_setter\u001b[0;34m(self, length)\u001b[0m\n\u001b[1;32m     18\u001b[0m \u001b[38;5;28;01mdef\u001b[39;00m \u001b[38;5;21mlength_setter\u001b[39m(\u001b[38;5;28mself\u001b[39m, length):\n\u001b[1;32m     19\u001b[0m     \u001b[38;5;28;01mif\u001b[39;00m length \u001b[38;5;241m<\u001b[39m \u001b[38;5;241m1\u001b[39m:\n\u001b[0;32m---> 20\u001b[0m         \u001b[38;5;28;01mraise\u001b[39;00m \u001b[38;5;167;01mException\u001b[39;00m(\u001b[38;5;124m\"\u001b[39m\u001b[38;5;124mValue cannot be less than 1.\u001b[39m\u001b[38;5;124m\"\u001b[39m)\n\u001b[1;32m     21\u001b[0m     \u001b[38;5;28mself\u001b[39m\u001b[38;5;241m.\u001b[39m__l \u001b[38;5;241m=\u001b[39m length\n",
      "\u001b[0;31mException\u001b[0m: Value cannot be less than 1."
     ]
    }
   ],
   "source": [
    "r1.length_setter(-10)\n",
    "r1.area()"
   ]
  },
  {
   "cell_type": "code",
   "execution_count": 5,
   "id": "716fe5e0",
   "metadata": {},
   "outputs": [
    {
     "ename": "TypeError",
     "evalue": "'<' not supported between instances of 'str' and 'int'",
     "output_type": "error",
     "traceback": [
      "\u001b[0;31m---------------------------------------------------------------------------\u001b[0m",
      "\u001b[0;31mTypeError\u001b[0m                                 Traceback (most recent call last)",
      "Cell \u001b[0;32mIn[5], line 1\u001b[0m\n\u001b[0;32m----> 1\u001b[0m \u001b[43mr1\u001b[49m\u001b[38;5;241;43m.\u001b[39;49m\u001b[43mlength_setter\u001b[49m\u001b[43m(\u001b[49m\u001b[38;5;124;43m\"\u001b[39;49m\u001b[38;5;124;43mxyz\u001b[39;49m\u001b[38;5;124;43m\"\u001b[39;49m\u001b[43m)\u001b[49m\n\u001b[1;32m      2\u001b[0m r1\u001b[38;5;241m.\u001b[39marea()\n",
      "Cell \u001b[0;32mIn[3], line 19\u001b[0m, in \u001b[0;36mRectangle.length_setter\u001b[0;34m(self, length)\u001b[0m\n\u001b[1;32m     18\u001b[0m \u001b[38;5;28;01mdef\u001b[39;00m \u001b[38;5;21mlength_setter\u001b[39m(\u001b[38;5;28mself\u001b[39m, length):\n\u001b[0;32m---> 19\u001b[0m     \u001b[38;5;28;01mif\u001b[39;00m \u001b[43mlength\u001b[49m\u001b[43m \u001b[49m\u001b[38;5;241;43m<\u001b[39;49m\u001b[43m \u001b[49m\u001b[38;5;241;43m1\u001b[39;49m:\n\u001b[1;32m     20\u001b[0m         \u001b[38;5;28;01mraise\u001b[39;00m \u001b[38;5;167;01mException\u001b[39;00m(\u001b[38;5;124m\"\u001b[39m\u001b[38;5;124mValue cannot be less than 1.\u001b[39m\u001b[38;5;124m\"\u001b[39m)\n\u001b[1;32m     21\u001b[0m     \u001b[38;5;28mself\u001b[39m\u001b[38;5;241m.\u001b[39m__l \u001b[38;5;241m=\u001b[39m length\n",
      "\u001b[0;31mTypeError\u001b[0m: '<' not supported between instances of 'str' and 'int'"
     ]
    }
   ],
   "source": [
    "r1.length_setter(\"xyz\")\n",
    "r1.area()"
   ]
  },
  {
   "cell_type": "code",
   "execution_count": 6,
   "id": "8050124b",
   "metadata": {},
   "outputs": [
    {
     "data": {
      "text/plain": [
       "True"
      ]
     },
     "execution_count": 6,
     "metadata": {},
     "output_type": "execute_result"
    }
   ],
   "source": [
    "isinstance(1, int)"
   ]
  },
  {
   "cell_type": "code",
   "execution_count": 7,
   "id": "902f7380",
   "metadata": {},
   "outputs": [
    {
     "data": {
      "text/plain": [
       "False"
      ]
     },
     "execution_count": 7,
     "metadata": {},
     "output_type": "execute_result"
    }
   ],
   "source": [
    "isinstance(1, str)"
   ]
  },
  {
   "cell_type": "code",
   "execution_count": 8,
   "id": "873b1d36",
   "metadata": {},
   "outputs": [
    {
     "data": {
      "text/plain": [
       "False"
      ]
     },
     "execution_count": 8,
     "metadata": {},
     "output_type": "execute_result"
    }
   ],
   "source": [
    "isinstance(1, float)"
   ]
  },
  {
   "cell_type": "code",
   "execution_count": 9,
   "id": "67b826eb",
   "metadata": {},
   "outputs": [
    {
     "data": {
      "text/plain": [
       "True"
      ]
     },
     "execution_count": 9,
     "metadata": {},
     "output_type": "execute_result"
    }
   ],
   "source": [
    "isinstance(1, (int, float))"
   ]
  },
  {
   "cell_type": "code",
   "execution_count": 10,
   "id": "d6a3a5d5",
   "metadata": {},
   "outputs": [
    {
     "data": {
      "text/plain": [
       "False"
      ]
     },
     "execution_count": 10,
     "metadata": {},
     "output_type": "execute_result"
    }
   ],
   "source": [
    "isinstance(1, (str, float))"
   ]
  },
  {
   "cell_type": "code",
   "execution_count": 11,
   "id": "efd720da",
   "metadata": {},
   "outputs": [
    {
     "name": "stdout",
     "output_type": "stream",
     "text": [
      "56\n",
      "30\n"
     ]
    }
   ],
   "source": [
    "class Rectangle:\n",
    "    # instance => object\n",
    "    # attribute should always be private\n",
    "    # method should always be public\n",
    "    def __init__(self, length, breadth):\n",
    "        self.__l = length  # double undersoce denotes private\n",
    "        self.__b = breadth\n",
    "    \n",
    "    def area(self):\n",
    "        return self.__l * self.__b\n",
    "        \n",
    "    def perimeter(self):\n",
    "        return 2 * (self.__l + self.__b)\n",
    "    \n",
    "    def length_getter(self):\n",
    "        return self.__l\n",
    "    \n",
    "    def length_setter(self, length):\n",
    "        if not isinstance(length, (float, int)):\n",
    "            raise ValueError(\"Invalid datatype\")\n",
    "        if length < 1:\n",
    "            raise Exception(\"Value cannot be less than 1.\") # custom exception\n",
    "        self.__l = length\n",
    "    \n",
    "r1 = Rectangle(7, 8)\n",
    "print(r1.area())\n",
    "print(r1.perimeter())"
   ]
  },
  {
   "cell_type": "code",
   "execution_count": 12,
   "id": "49e3dbc3",
   "metadata": {},
   "outputs": [
    {
     "ename": "ValueError",
     "evalue": "Invalid datatype",
     "output_type": "error",
     "traceback": [
      "\u001b[0;31m---------------------------------------------------------------------------\u001b[0m",
      "\u001b[0;31mValueError\u001b[0m                                Traceback (most recent call last)",
      "Cell \u001b[0;32mIn[12], line 1\u001b[0m\n\u001b[0;32m----> 1\u001b[0m \u001b[43mr1\u001b[49m\u001b[38;5;241;43m.\u001b[39;49m\u001b[43mlength_setter\u001b[49m\u001b[43m(\u001b[49m\u001b[38;5;124;43m\"\u001b[39;49m\u001b[38;5;124;43mxyz\u001b[39;49m\u001b[38;5;124;43m\"\u001b[39;49m\u001b[43m)\u001b[49m\n\u001b[1;32m      2\u001b[0m r1\u001b[38;5;241m.\u001b[39marea()\n",
      "Cell \u001b[0;32mIn[11], line 20\u001b[0m, in \u001b[0;36mRectangle.length_setter\u001b[0;34m(self, length)\u001b[0m\n\u001b[1;32m     18\u001b[0m \u001b[38;5;28;01mdef\u001b[39;00m \u001b[38;5;21mlength_setter\u001b[39m(\u001b[38;5;28mself\u001b[39m, length):\n\u001b[1;32m     19\u001b[0m     \u001b[38;5;28;01mif\u001b[39;00m \u001b[38;5;129;01mnot\u001b[39;00m \u001b[38;5;28misinstance\u001b[39m(length, (\u001b[38;5;28mfloat\u001b[39m, \u001b[38;5;28mint\u001b[39m)):\n\u001b[0;32m---> 20\u001b[0m         \u001b[38;5;28;01mraise\u001b[39;00m \u001b[38;5;167;01mValueError\u001b[39;00m(\u001b[38;5;124m\"\u001b[39m\u001b[38;5;124mInvalid datatype\u001b[39m\u001b[38;5;124m\"\u001b[39m)\n\u001b[1;32m     21\u001b[0m     \u001b[38;5;28;01mif\u001b[39;00m length \u001b[38;5;241m<\u001b[39m \u001b[38;5;241m1\u001b[39m:\n\u001b[1;32m     22\u001b[0m         \u001b[38;5;28;01mraise\u001b[39;00m \u001b[38;5;167;01mException\u001b[39;00m(\u001b[38;5;124m\"\u001b[39m\u001b[38;5;124mValue cannot be less than 1.\u001b[39m\u001b[38;5;124m\"\u001b[39m) \u001b[38;5;66;03m# custom exception\u001b[39;00m\n",
      "\u001b[0;31mValueError\u001b[0m: Invalid datatype"
     ]
    }
   ],
   "source": [
    "r1.length_setter(\"xyz\")\n",
    "r1.area()"
   ]
  },
  {
   "cell_type": "code",
   "execution_count": 13,
   "id": "aca95c13",
   "metadata": {},
   "outputs": [
    {
     "name": "stdout",
     "output_type": "stream",
     "text": [
      "0o14 <class 'str'>\n"
     ]
    }
   ],
   "source": [
    "x = oct(12)\n",
    "\n",
    "print(x, type(x))"
   ]
  },
  {
   "cell_type": "code",
   "execution_count": 14,
   "id": "792bb7c4",
   "metadata": {},
   "outputs": [
    {
     "name": "stdout",
     "output_type": "stream",
     "text": [
      "Help on built-in function oct in module builtins:\n",
      "\n",
      "oct(number, /)\n",
      "    Return the octal representation of an integer.\n",
      "    \n",
      "    >>> oct(342391)\n",
      "    '0o1234567'\n",
      "\n"
     ]
    }
   ],
   "source": [
    "help(oct)"
   ]
  },
  {
   "cell_type": "code",
   "execution_count": 19,
   "id": "4da98f65",
   "metadata": {},
   "outputs": [
    {
     "name": "stdout",
     "output_type": "stream",
     "text": [
      "56\n",
      "30\n"
     ]
    }
   ],
   "source": [
    "class RectangleException(Exception):\n",
    "    pass\n",
    "\n",
    "class Rectangle:\n",
    "    # instance => object\n",
    "    # attribute should always be private\n",
    "    # method should always be public\n",
    "    def __init__(self, length, breadth):\n",
    "        self.__l = length  # double undersoce denotes private\n",
    "        self.__b = breadth\n",
    "    \n",
    "    def area(self):\n",
    "        return self.__l * self.__b\n",
    "        \n",
    "    def perimeter(self):\n",
    "        return 2 * (self.__l + self.__b)\n",
    "    \n",
    "    def length_getter(self):\n",
    "        return self.__l\n",
    "    \n",
    "    def length_setter(self, length):\n",
    "        if not isinstance(length, (float, int)):\n",
    "            raise RectangleException(\"Invalid datatype\")\n",
    "        if length < 1:\n",
    "            raise Exception(\"Value cannot be less than 1.\") # custom exception\n",
    "        self.__l = length\n",
    "        \n",
    "    def breadth_getter(self):\n",
    "        return self.__b\n",
    "    \n",
    "    def breadth_setter(self, breadth):\n",
    "        if not isinstance(breadth, (float, int)):\n",
    "            raise RectangleException(\"Invalid datatype\")\n",
    "        if breadth < 1:\n",
    "            raise Exception(\"Value cannot be less than 1.\") # custom exception\n",
    "        self.__b = breadth\n",
    "    \n",
    "r1 = Rectangle(7, 8)\n",
    "print(r1.area())\n",
    "print(r1.perimeter())"
   ]
  },
  {
   "cell_type": "code",
   "execution_count": 20,
   "id": "855a8dbd",
   "metadata": {},
   "outputs": [
    {
     "ename": "RectangleException",
     "evalue": "Invalid datatype",
     "output_type": "error",
     "traceback": [
      "\u001b[0;31m---------------------------------------------------------------------------\u001b[0m",
      "\u001b[0;31mRectangleException\u001b[0m                        Traceback (most recent call last)",
      "Cell \u001b[0;32mIn[20], line 1\u001b[0m\n\u001b[0;32m----> 1\u001b[0m \u001b[43mr1\u001b[49m\u001b[38;5;241;43m.\u001b[39;49m\u001b[43mbreadth_setter\u001b[49m\u001b[43m(\u001b[49m\u001b[38;5;124;43m\"\u001b[39;49m\u001b[38;5;124;43mxyz\u001b[39;49m\u001b[38;5;124;43m\"\u001b[39;49m\u001b[43m)\u001b[49m\n\u001b[1;32m      2\u001b[0m r1\u001b[38;5;241m.\u001b[39marea()\n",
      "Cell \u001b[0;32mIn[19], line 33\u001b[0m, in \u001b[0;36mRectangle.breadth_setter\u001b[0;34m(self, breadth)\u001b[0m\n\u001b[1;32m     31\u001b[0m \u001b[38;5;28;01mdef\u001b[39;00m \u001b[38;5;21mbreadth_setter\u001b[39m(\u001b[38;5;28mself\u001b[39m, breadth):\n\u001b[1;32m     32\u001b[0m     \u001b[38;5;28;01mif\u001b[39;00m \u001b[38;5;129;01mnot\u001b[39;00m \u001b[38;5;28misinstance\u001b[39m(breadth, (\u001b[38;5;28mfloat\u001b[39m, \u001b[38;5;28mint\u001b[39m)):\n\u001b[0;32m---> 33\u001b[0m         \u001b[38;5;28;01mraise\u001b[39;00m RectangleException(\u001b[38;5;124m\"\u001b[39m\u001b[38;5;124mInvalid datatype\u001b[39m\u001b[38;5;124m\"\u001b[39m)\n\u001b[1;32m     34\u001b[0m     \u001b[38;5;28;01mif\u001b[39;00m breadth \u001b[38;5;241m<\u001b[39m \u001b[38;5;241m1\u001b[39m:\n\u001b[1;32m     35\u001b[0m         \u001b[38;5;28;01mraise\u001b[39;00m \u001b[38;5;167;01mException\u001b[39;00m(\u001b[38;5;124m\"\u001b[39m\u001b[38;5;124mValue cannot be less than 1.\u001b[39m\u001b[38;5;124m\"\u001b[39m) \u001b[38;5;66;03m# custom exception\u001b[39;00m\n",
      "\u001b[0;31mRectangleException\u001b[0m: Invalid datatype"
     ]
    }
   ],
   "source": [
    "r1.breadth_setter(\"xyz\")\n",
    "r1.area()"
   ]
  },
  {
   "cell_type": "code",
   "execution_count": 24,
   "id": "154bcacb",
   "metadata": {},
   "outputs": [
    {
     "name": "stdout",
     "output_type": "stream",
     "text": [
      "56\n",
      "30\n"
     ]
    }
   ],
   "source": [
    "class RectangleException(Exception):\n",
    "    pass\n",
    "\n",
    "class Rectangle:\n",
    "    # instance => object\n",
    "    # attribute should always be private\n",
    "    # method should always be public\n",
    "    def __init__(self, length, breadth):\n",
    "        self.__l = length  # double undersoce denotes private\n",
    "        self.__b = breadth\n",
    "    \n",
    "    def area(self):\n",
    "        return self.__l * self.__b\n",
    "        \n",
    "    def perimeter(self):\n",
    "        return 2 * (self.__l + self.__b)\n",
    "    \n",
    "    def length_getter(self):\n",
    "        return self.__l\n",
    "    \n",
    "    def __validation(self, value): # private method\n",
    "        if not isinstance(value, (float, int)):\n",
    "            raise RectangleException(\"Invalid datatype\")\n",
    "        if value < 1:\n",
    "            raise Exception(\"Value cannot be less than 1.\") # custom exception\n",
    "            \n",
    "    def length_setter(self, length):\n",
    "        self.__validation(value=length)\n",
    "        self.__l = length\n",
    "        \n",
    "    def breadth_getter(self):\n",
    "        return self.__b\n",
    "    \n",
    "    def breadth_setter(self, breadth):\n",
    "        self.__validation(breadth)\n",
    "        self.__b = breadth\n",
    "    \n",
    "r1 = Rectangle(7, 8)\n",
    "print(r1.area())\n",
    "print(r1.perimeter())"
   ]
  },
  {
   "cell_type": "code",
   "execution_count": 25,
   "id": "ff5bb894",
   "metadata": {},
   "outputs": [
    {
     "ename": "RectangleException",
     "evalue": "Invalid datatype",
     "output_type": "error",
     "traceback": [
      "\u001b[0;31m---------------------------------------------------------------------------\u001b[0m",
      "\u001b[0;31mRectangleException\u001b[0m                        Traceback (most recent call last)",
      "Cell \u001b[0;32mIn[25], line 1\u001b[0m\n\u001b[0;32m----> 1\u001b[0m \u001b[43mr1\u001b[49m\u001b[38;5;241;43m.\u001b[39;49m\u001b[43mbreadth_setter\u001b[49m\u001b[43m(\u001b[49m\u001b[38;5;124;43m\"\u001b[39;49m\u001b[38;5;124;43mxyz\u001b[39;49m\u001b[38;5;124;43m\"\u001b[39;49m\u001b[43m)\u001b[49m\n\u001b[1;32m      2\u001b[0m r1\u001b[38;5;241m.\u001b[39marea()\n",
      "Cell \u001b[0;32mIn[24], line 35\u001b[0m, in \u001b[0;36mRectangle.breadth_setter\u001b[0;34m(self, breadth)\u001b[0m\n\u001b[1;32m     34\u001b[0m \u001b[38;5;28;01mdef\u001b[39;00m \u001b[38;5;21mbreadth_setter\u001b[39m(\u001b[38;5;28mself\u001b[39m, breadth):\n\u001b[0;32m---> 35\u001b[0m     \u001b[38;5;28;43mself\u001b[39;49m\u001b[38;5;241;43m.\u001b[39;49m\u001b[43m__validation\u001b[49m\u001b[43m(\u001b[49m\u001b[43mbreadth\u001b[49m\u001b[43m)\u001b[49m\n\u001b[1;32m     36\u001b[0m     \u001b[38;5;28mself\u001b[39m\u001b[38;5;241m.\u001b[39m__b \u001b[38;5;241m=\u001b[39m breadth\n",
      "Cell \u001b[0;32mIn[24], line 23\u001b[0m, in \u001b[0;36mRectangle.__validation\u001b[0;34m(self, value)\u001b[0m\n\u001b[1;32m     21\u001b[0m \u001b[38;5;28;01mdef\u001b[39;00m \u001b[38;5;21m__validation\u001b[39m(\u001b[38;5;28mself\u001b[39m, value): \u001b[38;5;66;03m# private method\u001b[39;00m\n\u001b[1;32m     22\u001b[0m     \u001b[38;5;28;01mif\u001b[39;00m \u001b[38;5;129;01mnot\u001b[39;00m \u001b[38;5;28misinstance\u001b[39m(value, (\u001b[38;5;28mfloat\u001b[39m, \u001b[38;5;28mint\u001b[39m)):\n\u001b[0;32m---> 23\u001b[0m         \u001b[38;5;28;01mraise\u001b[39;00m RectangleException(\u001b[38;5;124m\"\u001b[39m\u001b[38;5;124mInvalid datatype\u001b[39m\u001b[38;5;124m\"\u001b[39m)\n\u001b[1;32m     24\u001b[0m     \u001b[38;5;28;01mif\u001b[39;00m value \u001b[38;5;241m<\u001b[39m \u001b[38;5;241m1\u001b[39m:\n\u001b[1;32m     25\u001b[0m         \u001b[38;5;28;01mraise\u001b[39;00m \u001b[38;5;167;01mException\u001b[39;00m(\u001b[38;5;124m\"\u001b[39m\u001b[38;5;124mValue cannot be less than 1.\u001b[39m\u001b[38;5;124m\"\u001b[39m)\n",
      "\u001b[0;31mRectangleException\u001b[0m: Invalid datatype"
     ]
    }
   ],
   "source": [
    "r1.breadth_setter(\"xyz\")\n",
    "r1.area()"
   ]
  },
  {
   "cell_type": "code",
   "execution_count": 23,
   "id": "dc7201f9",
   "metadata": {},
   "outputs": [
    {
     "ename": "AttributeError",
     "evalue": "'Rectangle' object has no attribute '__validation'",
     "output_type": "error",
     "traceback": [
      "\u001b[0;31m---------------------------------------------------------------------------\u001b[0m",
      "\u001b[0;31mAttributeError\u001b[0m                            Traceback (most recent call last)",
      "Cell \u001b[0;32mIn[23], line 1\u001b[0m\n\u001b[0;32m----> 1\u001b[0m \u001b[43mr1\u001b[49m\u001b[38;5;241;43m.\u001b[39;49m\u001b[43m__validation\u001b[49m(\u001b[38;5;241m7\u001b[39m)\n",
      "\u001b[0;31mAttributeError\u001b[0m: 'Rectangle' object has no attribute '__validation'"
     ]
    }
   ],
   "source": [
    "r1.__validation(7)"
   ]
  },
  {
   "cell_type": "code",
   "execution_count": 26,
   "id": "a4031dda",
   "metadata": {},
   "outputs": [],
   "source": [
    "class Point:\n",
    "    def __init__(self, x, y):\n",
    "        self.x = x\n",
    "        self.y = y"
   ]
  },
  {
   "cell_type": "code",
   "execution_count": 28,
   "id": "75c60499",
   "metadata": {},
   "outputs": [],
   "source": [
    "p1 = Point(2, 2)\n",
    "p2 = Point(1, 1)"
   ]
  },
  {
   "cell_type": "code",
   "execution_count": 29,
   "id": "460d9d6e",
   "metadata": {},
   "outputs": [
    {
     "ename": "TypeError",
     "evalue": "'<' not supported between instances of 'Point' and 'Point'",
     "output_type": "error",
     "traceback": [
      "\u001b[0;31m---------------------------------------------------------------------------\u001b[0m",
      "\u001b[0;31mTypeError\u001b[0m                                 Traceback (most recent call last)",
      "Cell \u001b[0;32mIn[29], line 1\u001b[0m\n\u001b[0;32m----> 1\u001b[0m \u001b[43mp1\u001b[49m\u001b[43m \u001b[49m\u001b[38;5;241;43m<\u001b[39;49m\u001b[43m \u001b[49m\u001b[43mp2\u001b[49m\n",
      "\u001b[0;31mTypeError\u001b[0m: '<' not supported between instances of 'Point' and 'Point'"
     ]
    }
   ],
   "source": [
    "p1 < p2"
   ]
  },
  {
   "cell_type": "code",
   "execution_count": 30,
   "id": "35728ff2",
   "metadata": {},
   "outputs": [
    {
     "name": "stdout",
     "output_type": "stream",
     "text": [
      "<__main__.Point object at 0x1048c3b10>\n"
     ]
    }
   ],
   "source": [
    "print(p1) # Point(2, 2)"
   ]
  },
  {
   "cell_type": "code",
   "execution_count": 57,
   "id": "31a99def",
   "metadata": {},
   "outputs": [],
   "source": [
    "class Point:\n",
    "    def __init__(self, x, y):\n",
    "        self.x = x\n",
    "        self.y = y\n",
    "        \n",
    "    def __str__(self): # user friendly\n",
    "        return f'Point({self.x}, {self.y})'\n",
    "    \n",
    "    def __repr__(self): # developer friendly\n",
    "        return f'Point({self.x}, {self.y})'"
   ]
  },
  {
   "cell_type": "code",
   "execution_count": 58,
   "id": "fa5a5293",
   "metadata": {},
   "outputs": [
    {
     "data": {
      "text/plain": [
       "str"
      ]
     },
     "execution_count": 58,
     "metadata": {},
     "output_type": "execute_result"
    }
   ],
   "source": [
    "p1 = Point(1, 1)\n",
    "p2 = Point(2, 2)\n",
    "\n",
    "type(str(p1))"
   ]
  },
  {
   "cell_type": "code",
   "execution_count": 59,
   "id": "94b2acd6",
   "metadata": {},
   "outputs": [
    {
     "data": {
      "text/plain": [
       "'hello'"
      ]
     },
     "execution_count": 59,
     "metadata": {},
     "output_type": "execute_result"
    }
   ],
   "source": [
    "x = 'hello'\n",
    "\n",
    "str(x)"
   ]
  },
  {
   "cell_type": "code",
   "execution_count": 60,
   "id": "1bdee2d6",
   "metadata": {},
   "outputs": [],
   "source": [
    "class Point:\n",
    "    def __init__(self, x, y):\n",
    "        self.x = x\n",
    "        self.y = y\n",
    "        \n",
    "    def __str__(self): # user friendly\n",
    "        return f'Point({self.x}, {self.y})'\n",
    "    \n",
    "    def __repr__(self): # developer friendly\n",
    "        return f'Point({self.x}, {self.y})'"
   ]
  },
  {
   "cell_type": "code",
   "execution_count": 61,
   "id": "83820c69",
   "metadata": {},
   "outputs": [],
   "source": [
    "p1 = Point(1, 1)\n",
    "p2 = Point(2, 2)"
   ]
  },
  {
   "cell_type": "code",
   "execution_count": 62,
   "id": "4f521593",
   "metadata": {},
   "outputs": [
    {
     "ename": "TypeError",
     "evalue": "unsupported operand type(s) for +: 'Point' and 'Point'",
     "output_type": "error",
     "traceback": [
      "\u001b[0;31m---------------------------------------------------------------------------\u001b[0m",
      "\u001b[0;31mTypeError\u001b[0m                                 Traceback (most recent call last)",
      "Cell \u001b[0;32mIn[62], line 1\u001b[0m\n\u001b[0;32m----> 1\u001b[0m \u001b[43mp1\u001b[49m\u001b[43m \u001b[49m\u001b[38;5;241;43m+\u001b[39;49m\u001b[43m \u001b[49m\u001b[43mp2\u001b[49m\n",
      "\u001b[0;31mTypeError\u001b[0m: unsupported operand type(s) for +: 'Point' and 'Point'"
     ]
    }
   ],
   "source": [
    "p1 + p2 # add(p1, p2)"
   ]
  },
  {
   "cell_type": "code",
   "execution_count": 65,
   "id": "b5a277e3",
   "metadata": {},
   "outputs": [],
   "source": [
    "class Point:\n",
    "    def __init__(self, x, y):\n",
    "        self.x = x\n",
    "        self.y = y\n",
    "        \n",
    "    def __str__(self): # user friendly\n",
    "        return f'Point({self.x}, {self.y})'\n",
    "    \n",
    "    def __repr__(self): # developer friendly\n",
    "        return f'Point({self.x}, {self.y})'\n",
    "    \n",
    "    def __add__(self, other):\n",
    "        print(self)\n",
    "        print(other)"
   ]
  },
  {
   "cell_type": "code",
   "execution_count": 66,
   "id": "cc126e61",
   "metadata": {},
   "outputs": [
    {
     "name": "stdout",
     "output_type": "stream",
     "text": [
      "Point(1, 1)\n",
      "Point(2, 2)\n"
     ]
    }
   ],
   "source": [
    "p1 = Point(1, 1)\n",
    "p2 = Point(2, 2)\n",
    "\n",
    "p1 + p2 # add(p1, p2)"
   ]
  },
  {
   "cell_type": "code",
   "execution_count": 67,
   "id": "0019b698",
   "metadata": {},
   "outputs": [],
   "source": [
    "class Point:\n",
    "    def __init__(self, x, y):\n",
    "        self.x = x\n",
    "        self.y = y\n",
    "        \n",
    "    def __str__(self): # user friendly\n",
    "        return f'Point({self.x}, {self.y})'\n",
    "    \n",
    "    def __repr__(self): # developer friendly\n",
    "        return f'Point({self.x}, {self.y})'\n",
    "    \n",
    "    def __add__(self, other):\n",
    "        total_x = self.x + other.x\n",
    "        total_y = self.y + other.y\n",
    "        return Point(total_x, total_y)"
   ]
  },
  {
   "cell_type": "code",
   "execution_count": 68,
   "id": "1bca1132",
   "metadata": {},
   "outputs": [
    {
     "data": {
      "text/plain": [
       "Point(3, 3)"
      ]
     },
     "execution_count": 68,
     "metadata": {},
     "output_type": "execute_result"
    }
   ],
   "source": [
    "p1 = Point(1, 1)\n",
    "p2 = Point(2, 2)\n",
    "\n",
    "p1 + p2 # add(p1, p2)"
   ]
  },
  {
   "cell_type": "code",
   "execution_count": 69,
   "id": "67dfc30a",
   "metadata": {},
   "outputs": [
    {
     "ename": "TypeError",
     "evalue": "unsupported operand type(s) for -: 'Point' and 'Point'",
     "output_type": "error",
     "traceback": [
      "\u001b[0;31m---------------------------------------------------------------------------\u001b[0m",
      "\u001b[0;31mTypeError\u001b[0m                                 Traceback (most recent call last)",
      "Cell \u001b[0;32mIn[69], line 4\u001b[0m\n\u001b[1;32m      1\u001b[0m p1 \u001b[38;5;241m=\u001b[39m Point(\u001b[38;5;241m1\u001b[39m, \u001b[38;5;241m1\u001b[39m)\n\u001b[1;32m      2\u001b[0m p2 \u001b[38;5;241m=\u001b[39m Point(\u001b[38;5;241m2\u001b[39m, \u001b[38;5;241m2\u001b[39m)\n\u001b[0;32m----> 4\u001b[0m \u001b[43mp1\u001b[49m\u001b[43m \u001b[49m\u001b[38;5;241;43m-\u001b[39;49m\u001b[43m \u001b[49m\u001b[43mp2\u001b[49m \u001b[38;5;66;03m# add(p1, p2)\u001b[39;00m\n",
      "\u001b[0;31mTypeError\u001b[0m: unsupported operand type(s) for -: 'Point' and 'Point'"
     ]
    }
   ],
   "source": [
    "p1 = Point(1, 1)\n",
    "p2 = Point(2, 2)\n",
    "\n",
    "p1 - p2 # add(p1, p2)"
   ]
  },
  {
   "cell_type": "code",
   "execution_count": 70,
   "id": "92d79860",
   "metadata": {},
   "outputs": [],
   "source": [
    "class Point:\n",
    "    def __init__(self, x, y):\n",
    "        self.x = x\n",
    "        self.y = y\n",
    "        \n",
    "    def __str__(self): # user friendly\n",
    "        return f'Point({self.x}, {self.y})'\n",
    "    \n",
    "    def __repr__(self): # developer friendly\n",
    "        return f'Point({self.x}, {self.y})'\n",
    "    \n",
    "    def __add__(self, other):\n",
    "        total_x = self.x + other.x\n",
    "        total_y = self.y + other.y\n",
    "        return Point(total_x, total_y)\n",
    "    \n",
    "    def __sub__(self, other):\n",
    "        total_x = self.x - other.x\n",
    "        total_y = self.y - other.y\n",
    "        return Point(total_x, total_y)"
   ]
  },
  {
   "cell_type": "code",
   "execution_count": 71,
   "id": "f3c268ea",
   "metadata": {},
   "outputs": [
    {
     "data": {
      "text/plain": [
       "Point(-1, -1)"
      ]
     },
     "execution_count": 71,
     "metadata": {},
     "output_type": "execute_result"
    }
   ],
   "source": [
    "p1 = Point(1, 1)\n",
    "p2 = Point(2, 2)\n",
    "\n",
    "p1 - p2 # sub(p1, p2)"
   ]
  },
  {
   "cell_type": "code",
   "execution_count": 72,
   "id": "3dd0f879",
   "metadata": {},
   "outputs": [
    {
     "ename": "TypeError",
     "evalue": "'<' not supported between instances of 'Point' and 'Point'",
     "output_type": "error",
     "traceback": [
      "\u001b[0;31m---------------------------------------------------------------------------\u001b[0m",
      "\u001b[0;31mTypeError\u001b[0m                                 Traceback (most recent call last)",
      "Cell \u001b[0;32mIn[72], line 4\u001b[0m\n\u001b[1;32m      1\u001b[0m p1 \u001b[38;5;241m=\u001b[39m Point(\u001b[38;5;241m1\u001b[39m, \u001b[38;5;241m1\u001b[39m)\n\u001b[1;32m      2\u001b[0m p2 \u001b[38;5;241m=\u001b[39m Point(\u001b[38;5;241m2\u001b[39m, \u001b[38;5;241m2\u001b[39m)\n\u001b[0;32m----> 4\u001b[0m \u001b[43mp1\u001b[49m\u001b[43m \u001b[49m\u001b[38;5;241;43m<\u001b[39;49m\u001b[43m \u001b[49m\u001b[43mp2\u001b[49m \u001b[38;5;66;03m# lt(p1, p2)\u001b[39;00m\n",
      "\u001b[0;31mTypeError\u001b[0m: '<' not supported between instances of 'Point' and 'Point'"
     ]
    }
   ],
   "source": [
    "p1 = Point(1, 1)\n",
    "p2 = Point(2, 2)\n",
    "\n",
    "p1 < p2 # lt(p1, p2)"
   ]
  },
  {
   "cell_type": "code",
   "execution_count": 73,
   "id": "53376a9c",
   "metadata": {},
   "outputs": [],
   "source": [
    "from math import sqrt\n",
    "\n",
    "class Point:\n",
    "    def __init__(self, x, y):\n",
    "        self.x = x\n",
    "        self.y = y\n",
    "        \n",
    "    def __str__(self): # user friendly\n",
    "        return f'Point({self.x}, {self.y})'\n",
    "    \n",
    "    def __repr__(self): # developer friendly\n",
    "        return f'Point({self.x}, {self.y})'\n",
    "    \n",
    "    def __add__(self, other):\n",
    "        total_x = self.x + other.x\n",
    "        total_y = self.y + other.y\n",
    "        return Point(total_x, total_y)\n",
    "    \n",
    "    def __sub__(self, other):\n",
    "        total_x = self.x - other.x\n",
    "        total_y = self.y - other.y\n",
    "        return Point(total_x, total_y)\n",
    "    \n",
    "    def __lt__(self, other):\n",
    "        self_distance = sqrt(self.x ** 2 + self.y ** 2)        \n",
    "        other_distance = sqrt(other.x ** 2 + other.y ** 2)\n",
    "        if self_distance < other_distance:\n",
    "            return True\n",
    "        else:\n",
    "            return False"
   ]
  },
  {
   "cell_type": "code",
   "execution_count": 74,
   "id": "3c5697eb",
   "metadata": {},
   "outputs": [
    {
     "data": {
      "text/plain": [
       "True"
      ]
     },
     "execution_count": 74,
     "metadata": {},
     "output_type": "execute_result"
    }
   ],
   "source": [
    "p1 = Point(1, 1)\n",
    "p2 = Point(2, 2)\n",
    "\n",
    "p1 < p2 # lt(p1, p2)"
   ]
  },
  {
   "cell_type": "code",
   "execution_count": 75,
   "id": "c14a1b0f",
   "metadata": {},
   "outputs": [
    {
     "data": {
      "text/plain": [
       "False"
      ]
     },
     "execution_count": 75,
     "metadata": {},
     "output_type": "execute_result"
    }
   ],
   "source": [
    "p1 = Point(5, 5)\n",
    "p2 = Point(2, 2)\n",
    "\n",
    "p1 < p2 # lt(p1, p2)"
   ]
  },
  {
   "cell_type": "code",
   "execution_count": null,
   "id": "09a8ce24",
   "metadata": {},
   "outputs": [],
   "source": []
  }
 ],
 "metadata": {
  "kernelspec": {
   "display_name": "Python 3 (ipykernel)",
   "language": "python",
   "name": "python3"
  },
  "language_info": {
   "codemirror_mode": {
    "name": "ipython",
    "version": 3
   },
   "file_extension": ".py",
   "mimetype": "text/x-python",
   "name": "python",
   "nbconvert_exporter": "python",
   "pygments_lexer": "ipython3",
   "version": "3.11.2"
  }
 },
 "nbformat": 4,
 "nbformat_minor": 5
}
