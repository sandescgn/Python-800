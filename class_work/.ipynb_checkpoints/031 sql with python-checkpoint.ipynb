{
 "cells": [
  {
   "cell_type": "code",
   "execution_count": 1,
   "id": "49ea22ac",
   "metadata": {},
   "outputs": [],
   "source": [
    "import sqlite3"
   ]
  },
  {
   "cell_type": "code",
   "execution_count": 2,
   "id": "838f1b7b",
   "metadata": {},
   "outputs": [],
   "source": [
    "con = sqlite3.connect(\"students.db\")"
   ]
  },
  {
   "cell_type": "code",
   "execution_count": 3,
   "id": "f9cdca84",
   "metadata": {},
   "outputs": [],
   "source": [
    "cur = con.cursor()"
   ]
  },
  {
   "cell_type": "code",
   "execution_count": 7,
   "id": "ca0369d8",
   "metadata": {},
   "outputs": [
    {
     "ename": "OperationalError",
     "evalue": "table student already exists",
     "output_type": "error",
     "traceback": [
      "\u001b[0;31m---------------------------------------------------------------------------\u001b[0m",
      "\u001b[0;31mOperationalError\u001b[0m                          Traceback (most recent call last)",
      "Cell \u001b[0;32mIn[7], line 14\u001b[0m\n\u001b[1;32m      1\u001b[0m CREATE_TABLE_QUERY \u001b[38;5;241m=\u001b[39m \u001b[38;5;124m\"\"\"\u001b[39m\n\u001b[1;32m      2\u001b[0m \n\u001b[1;32m      3\u001b[0m \u001b[38;5;124mcreate table student(\u001b[39m\n\u001b[0;32m   (...)\u001b[0m\n\u001b[1;32m     12\u001b[0m \n\u001b[1;32m     13\u001b[0m \u001b[38;5;124m\"\"\"\u001b[39m\n\u001b[0;32m---> 14\u001b[0m \u001b[43mcur\u001b[49m\u001b[38;5;241;43m.\u001b[39;49m\u001b[43mexecute\u001b[49m\u001b[43m(\u001b[49m\u001b[43mCREATE_TABLE_QUERY\u001b[49m\u001b[43m)\u001b[49m\n",
      "\u001b[0;31mOperationalError\u001b[0m: table student already exists"
     ]
    }
   ],
   "source": [
    "CREATE_TABLE_QUERY = \"\"\"\n",
    "\n",
    "create table student(\n",
    "\tid int primary key,\n",
    "\tname varchar not null,\n",
    "\taddress varchar not null,\n",
    "\tcollege varchar not null,\n",
    "\tage int not null,\n",
    "\tgender varchar(1) not null,\n",
    "\tfaculty varchar not null\n",
    ");\n",
    "\n",
    "\"\"\"\n",
    "cur.execute(CREATE_TABLE_QUERY)"
   ]
  },
  {
   "cell_type": "code",
   "execution_count": 5,
   "id": "c9ea0e22",
   "metadata": {},
   "outputs": [
    {
     "data": {
      "text/plain": [
       "<sqlite3.Cursor at 0x1116b1140>"
      ]
     },
     "execution_count": 5,
     "metadata": {},
     "output_type": "execute_result"
    }
   ],
   "source": [
    "INSERT_RECORDS = \"\"\"\n",
    "\n",
    "INSERT into student \n",
    "('id', 'name', 'address', 'college', 'age', 'gender', 'faculty')\n",
    "values\n",
    "(1, 'ram', 'kathmandu', 'ncit', 18, 'm', 'IT'),\n",
    "(2, 'shyam', 'lalitpur', 'islington', 20, 'm', 'CSIT'),\n",
    "(3, 'gita', 'pokhara', 'ncit', 21, 'f', 'SE'),\n",
    "(4, 'sita', 'kathmandu', 'ioe pulchowk', 24, 'f','CE');\n",
    "\n",
    "\"\"\"\n",
    "cur.execute(INSERT_RECORDS)\n"
   ]
  },
  {
   "cell_type": "code",
   "execution_count": 6,
   "id": "d7b23a87",
   "metadata": {},
   "outputs": [],
   "source": [
    "con.commit()"
   ]
  },
  {
   "cell_type": "code",
   "execution_count": 9,
   "id": "d16e0c23",
   "metadata": {},
   "outputs": [
    {
     "name": "stdout",
     "output_type": "stream",
     "text": [
      "(1, 'ram', 'kathmandu', 'ncit', 18, 'm', 'IT')\n",
      "(2, 'shyam', 'lalitpur', 'islington', 20, 'm', 'CSIT')\n",
      "(3, 'gita', 'pokhara', 'ncit', 21, 'f', 'SE')\n",
      "(4, 'sita', 'kathmandu', 'ioe pulchowk', 24, 'f', 'CE')\n"
     ]
    }
   ],
   "source": [
    "all_student = cur.execute(\"SELECT * FROM student;\")\n",
    "for student in all_student:\n",
    "    print(student)"
   ]
  },
  {
   "cell_type": "code",
   "execution_count": 10,
   "id": "ea6c3102",
   "metadata": {},
   "outputs": [],
   "source": [
    "for student in all_student:\n",
    "    print(student)"
   ]
  },
  {
   "cell_type": "code",
   "execution_count": 11,
   "id": "79f0ab93",
   "metadata": {},
   "outputs": [
    {
     "name": "stdout",
     "output_type": "stream",
     "text": [
      "('ram', 'kathmandu')\n",
      "('shyam', 'lalitpur')\n",
      "('gita', 'pokhara')\n",
      "('sita', 'kathmandu')\n"
     ]
    }
   ],
   "source": [
    "all_student = cur.execute(\"SELECT name, address FROM student;\")\n",
    "for student in all_student:\n",
    "    print(student)"
   ]
  },
  {
   "cell_type": "code",
   "execution_count": 12,
   "id": "28974ed0",
   "metadata": {},
   "outputs": [
    {
     "data": {
      "text/plain": [
       "<sqlite3.Cursor at 0x1116b1140>"
      ]
     },
     "execution_count": 12,
     "metadata": {},
     "output_type": "execute_result"
    }
   ],
   "source": [
    "cur.execute(\"UPDATE student set address = 'lalitpur' where id = 3;\")"
   ]
  },
  {
   "cell_type": "code",
   "execution_count": 23,
   "id": "4eff2ded",
   "metadata": {},
   "outputs": [
    {
     "name": "stdout",
     "output_type": "stream",
     "text": [
      "(1, 'ram', 'kathmandu', 'ncit', 18, 'm', 'IT', 'TU', '93123123', 'ram@gmail.com')\n",
      "(2, 'shyam', 'lalitpur', 'islington', 20, 'm', 'CSIT', 'TU', '9213123123', 'shyam@gmail.com')\n",
      "(3, 'gita', 'lalitpur', 'ncit', 21, 'f', 'SE', 'TU', '9212123123', 'gita@gmail.com')\n",
      "(4, 'sita', 'kathmandu', 'ioe pulchowk', 24, 'f', 'CE', 'TU', '9212123123', 'sita@gmail.com')\n"
     ]
    }
   ],
   "source": [
    "all_student = cur.execute(\"SELECT * FROM student;\")\n",
    "for student in all_student:\n",
    "    print(student)"
   ]
  },
  {
   "cell_type": "code",
   "execution_count": 14,
   "id": "eadaf787",
   "metadata": {},
   "outputs": [
    {
     "data": {
      "text/plain": [
       "<sqlite3.Cursor at 0x1116b1140>"
      ]
     },
     "execution_count": 14,
     "metadata": {},
     "output_type": "execute_result"
    }
   ],
   "source": [
    "cur.execute(\"ALTER table student add university default 'TU';\")\n",
    "cur.execute(\"ALTER table student add contact varchar(20);\")\n",
    "cur.execute(\"ALTER table student add email varchar(20);\")"
   ]
  },
  {
   "cell_type": "code",
   "execution_count": 19,
   "id": "5bb3b76c",
   "metadata": {},
   "outputs": [
    {
     "data": {
      "text/plain": [
       "<sqlite3.Cursor at 0x1116b1140>"
      ]
     },
     "execution_count": 19,
     "metadata": {},
     "output_type": "execute_result"
    }
   ],
   "source": [
    "cur.execute(\"\"\"\n",
    "\n",
    "UPDATE student set contact = '93123123', email = \"ram@gmail.com\"\n",
    "where id = 1;\n",
    "\n",
    "\"\"\")"
   ]
  },
  {
   "cell_type": "code",
   "execution_count": 20,
   "id": "df807a5a",
   "metadata": {},
   "outputs": [
    {
     "data": {
      "text/plain": [
       "<sqlite3.Cursor at 0x1116b1140>"
      ]
     },
     "execution_count": 20,
     "metadata": {},
     "output_type": "execute_result"
    }
   ],
   "source": [
    "cur.execute(\"\"\"\n",
    "\n",
    "UPDATE student set contact = '9213123123', email = \"shyam@gmail.com\"\n",
    "where id = 2;\n",
    "\n",
    "\"\"\")"
   ]
  },
  {
   "cell_type": "code",
   "execution_count": 21,
   "id": "7cc0aef6",
   "metadata": {},
   "outputs": [
    {
     "data": {
      "text/plain": [
       "<sqlite3.Cursor at 0x1116b1140>"
      ]
     },
     "execution_count": 21,
     "metadata": {},
     "output_type": "execute_result"
    }
   ],
   "source": [
    "cur.execute(\"\"\"\n",
    "\n",
    "UPDATE student set contact = '9212123123', email = \"gita@gmail.com\"\n",
    "where id = 3;\n",
    "\n",
    "\"\"\")"
   ]
  },
  {
   "cell_type": "code",
   "execution_count": 22,
   "id": "56b1547d",
   "metadata": {},
   "outputs": [
    {
     "data": {
      "text/plain": [
       "<sqlite3.Cursor at 0x1116b1140>"
      ]
     },
     "execution_count": 22,
     "metadata": {},
     "output_type": "execute_result"
    }
   ],
   "source": [
    "cur.execute(\"\"\"\n",
    "\n",
    "UPDATE student set contact = '9212123123', email = \"sita@gmail.com\"\n",
    "where id = 4;\n",
    "\n",
    "\"\"\")"
   ]
  },
  {
   "cell_type": "code",
   "execution_count": 26,
   "id": "e2b9e987",
   "metadata": {},
   "outputs": [
    {
     "name": "stdout",
     "output_type": "stream",
     "text": [
      "Enter the address: kathmandu\n",
      "(1, 'ram', 'kathmandu', 'ncit', 18, 'm', 'IT', 'TU', '93123123', 'ram@gmail.com')\n",
      "(4, 'sita', 'kathmandu', 'ioe pulchowk', 24, 'f', 'CE', 'TU', '9212123123', 'sita@gmail.com')\n"
     ]
    }
   ],
   "source": [
    "address = input(\"Enter the address: \")\n",
    "\n",
    "all_student = cur.execute(f\"SELECT * FROM student \\\n",
    "where address='{address}';\")\n",
    "for student in all_student:\n",
    "    print(student)"
   ]
  },
  {
   "cell_type": "code",
   "execution_count": 29,
   "id": "3cd60b55",
   "metadata": {},
   "outputs": [
    {
     "name": "stdout",
     "output_type": "stream",
     "text": [
      "Enter the address: lalitpur' or address = 'kathmandu\n",
      "(1, 'ram', 'kathmandu', 'ncit', 18, 'm', 'IT', 'TU', '93123123', 'ram@gmail.com')\n",
      "(2, 'shyam', 'lalitpur', 'islington', 20, 'm', 'CSIT', 'TU', '9213123123', 'shyam@gmail.com')\n",
      "(3, 'gita', 'lalitpur', 'ncit', 21, 'f', 'SE', 'TU', '9212123123', 'gita@gmail.com')\n",
      "(4, 'sita', 'kathmandu', 'ioe pulchowk', 24, 'f', 'CE', 'TU', '9212123123', 'sita@gmail.com')\n"
     ]
    }
   ],
   "source": [
    "address = input(\"Enter the address: \")\n",
    "\n",
    "all_student = cur.execute(f\"SELECT * FROM student \\\n",
    "where address='{address}';\")\n",
    "for student in all_student:\n",
    "    print(student)"
   ]
  },
  {
   "cell_type": "code",
   "execution_count": 30,
   "id": "e089052b",
   "metadata": {},
   "outputs": [],
   "source": [
    "# SELECT * FROM student where address='lalitpur' or address = 'kathmandu'"
   ]
  },
  {
   "cell_type": "code",
   "execution_count": 32,
   "id": "63e4ab58",
   "metadata": {},
   "outputs": [
    {
     "name": "stdout",
     "output_type": "stream",
     "text": [
      "Enter the address: lalitpur' or address = 'kathmandu\n"
     ]
    }
   ],
   "source": [
    "address = input(\"Enter the address: \")\n",
    "\n",
    "all_student = cur.execute(f\"SELECT * FROM student \\\n",
    "where address=?;\", (address,))\n",
    "for student in all_student:\n",
    "    print(student)"
   ]
  },
  {
   "cell_type": "code",
   "execution_count": 35,
   "id": "c0afff4b",
   "metadata": {},
   "outputs": [],
   "source": [
    "students = [\n",
    "    (5, 'hari bahadur', 'lalitpur', 'ncit', 23, 'm', 'SE', \"PU\", '9823432', 'hari@gmail.com'),\n",
    "    (6, 'madan bahadur', 'kathmandu', 'british college', 24, 'm', 'UK', \"BIT\", '982343322', 'madan.bahadur@gmail.com'),\n",
    "    (7, 'maya devi', 'lalitpur', 'ncit', 21, 'f', 'SE', \"PU\", '9823423232', 'maya.devi@gmail.com'),\n",
    "]"
   ]
  },
  {
   "cell_type": "code",
   "execution_count": 36,
   "id": "68a3fb4f",
   "metadata": {},
   "outputs": [
    {
     "ename": "OperationalError",
     "evalue": "incomplete input",
     "output_type": "error",
     "traceback": [
      "\u001b[0;31m---------------------------------------------------------------------------\u001b[0m",
      "\u001b[0;31mOperationalError\u001b[0m                          Traceback (most recent call last)",
      "Cell \u001b[0;32mIn[36], line 10\u001b[0m\n\u001b[1;32m      1\u001b[0m INSERT_STUDENT_QUERY \u001b[38;5;241m=\u001b[39m \u001b[38;5;124m\"\"\"\u001b[39m\n\u001b[1;32m      2\u001b[0m \n\u001b[1;32m      3\u001b[0m \u001b[38;5;124mINSERT into student \u001b[39m\n\u001b[0;32m   (...)\u001b[0m\n\u001b[1;32m      7\u001b[0m \n\u001b[1;32m      8\u001b[0m \u001b[38;5;124m\"\"\"\u001b[39m\n\u001b[0;32m---> 10\u001b[0m \u001b[43mcur\u001b[49m\u001b[38;5;241;43m.\u001b[39;49m\u001b[43mexecutemany\u001b[49m\u001b[43m(\u001b[49m\u001b[43mINSERT_STUDENT_QUERY\u001b[49m\u001b[43m,\u001b[49m\u001b[43m \u001b[49m\u001b[43mstudents\u001b[49m\u001b[43m)\u001b[49m\n",
      "\u001b[0;31mOperationalError\u001b[0m: incomplete input"
     ]
    }
   ],
   "source": [
    "INSERT_STUDENT_QUERY = \"\"\"\n",
    "\n",
    "INSERT into student \n",
    "('id', 'name', 'address', 'college', 'age', 'gender', 'faculty')\n",
    "values\n",
    "(?, ?, ?, ?, ?, ?, ?, ?, ?, ?),\n",
    "\n",
    "\"\"\"\n",
    "\n",
    "cur.executemany(INSERT_STUDENT_QUERY, students)"
   ]
  },
  {
   "cell_type": "code",
   "execution_count": null,
   "id": "e6d7a6e9",
   "metadata": {},
   "outputs": [],
   "source": []
  }
 ],
 "metadata": {
  "kernelspec": {
   "display_name": "Python 3 (ipykernel)",
   "language": "python",
   "name": "python3"
  },
  "language_info": {
   "codemirror_mode": {
    "name": "ipython",
    "version": 3
   },
   "file_extension": ".py",
   "mimetype": "text/x-python",
   "name": "python",
   "nbconvert_exporter": "python",
   "pygments_lexer": "ipython3",
   "version": "3.11.2"
  }
 },
 "nbformat": 4,
 "nbformat_minor": 5
}
