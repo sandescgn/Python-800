{
 "cells": [
  {
   "cell_type": "code",
   "execution_count": 1,
   "id": "6e3ab675",
   "metadata": {},
   "outputs": [],
   "source": [
    "import os\n",
    "os.mkdir('hello') #To make folder"
   ]
  },
  {
   "cell_type": "code",
   "execution_count": 2,
   "id": "b14e560f",
   "metadata": {},
   "outputs": [
    {
     "data": {
      "text/plain": [
       "['.ipynb_checkpoints',\n",
       " '001 Introduction to python.ipynb',\n",
       " '002_003.ipynb',\n",
       " '004 python operators.ipynb',\n",
       " '005_python_namespaces_and_python_numbers.ipynb',\n",
       " '006_string_datatype.ipynb',\n",
       " '007_list_datatype.ipynb',\n",
       " '008_list_continue.ipynb',\n",
       " '009_tuple_continue.ipynb',\n",
       " '010_dictionary_continue.ipynb',\n",
       " '011_flow_control.ipynb',\n",
       " '012_for_loop.ipynb',\n",
       " '013_for_loop_continue.ipynb',\n",
       " '014 while loop.ipynb',\n",
       " '015 function.ipynb',\n",
       " '016 function continue.ipynb',\n",
       " '017 anonymous function.ipynb',\n",
       " '018_file_handling.ipynb',\n",
       " '019_exceptional_handling.ipynb',\n",
       " '020_021 file handling.ipynb',\n",
       " 'hello',\n",
       " 'march_10_OOP.ipynb']"
      ]
     },
     "execution_count": 2,
     "metadata": {},
     "output_type": "execute_result"
    }
   ],
   "source": [
    "os.listdir()"
   ]
  },
  {
   "cell_type": "code",
   "execution_count": 3,
   "id": "589fcf58",
   "metadata": {},
   "outputs": [
    {
     "data": {
      "text/plain": [
       "False"
      ]
     },
     "execution_count": 3,
     "metadata": {},
     "output_type": "execute_result"
    }
   ],
   "source": [
    "os.path.exists('students.csv')"
   ]
  },
  {
   "cell_type": "code",
   "execution_count": 4,
   "id": "c8c12090",
   "metadata": {},
   "outputs": [],
   "source": [
    "os.rmdir('hello') #to remove folder"
   ]
  },
  {
   "cell_type": "code",
   "execution_count": 5,
   "id": "56adeec7",
   "metadata": {},
   "outputs": [],
   "source": [
    "#OOP\n",
    "class Person: #PascalCase\n",
    "    pass"
   ]
  },
  {
   "cell_type": "code",
   "execution_count": 6,
   "id": "bf2c5ee8",
   "metadata": {},
   "outputs": [
    {
     "name": "stdout",
     "output_type": "stream",
     "text": [
      "<class 'type'>\n"
     ]
    }
   ],
   "source": [
    "print(type(person))"
   ]
  },
  {
   "cell_type": "code",
   "execution_count": 7,
   "id": "d70fda48",
   "metadata": {},
   "outputs": [
    {
     "name": "stdout",
     "output_type": "stream",
     "text": [
      "<class 'type'>\n"
     ]
    }
   ],
   "source": [
    "class PersonInfo: #PascalCase\n",
    "    pass\n",
    "print(type(PersonInfo))"
   ]
  },
  {
   "cell_type": "code",
   "execution_count": 8,
   "id": "5a023e5f",
   "metadata": {},
   "outputs": [],
   "source": [
    "def today_date():\n",
    "    pass\n",
    "def current_year():\n",
    "    pass\n",
    "def current_date():\n",
    "    pass\n",
    "def current_month():\n",
    "    pass\n",
    "def current_time():\n",
    "    pass"
   ]
  },
  {
   "cell_type": "code",
   "execution_count": 9,
   "id": "53ca0b9c",
   "metadata": {},
   "outputs": [],
   "source": [
    "class DateTime: #PascalCase\n",
    "    def today_date(): #Lower case=>Snake case\n",
    "        pass\n",
    "    def current_year():\n",
    "        pass\n",
    "    def current_date():\n",
    "        pass\n",
    "    def current_month():\n",
    "        pass\n",
    "    def current_time():\n",
    "        pass"
   ]
  },
  {
   "cell_type": "code",
   "execution_count": 11,
   "id": "ecf6d3d5",
   "metadata": {},
   "outputs": [],
   "source": [
    "class House: #class=>blueprint\n",
    "    #attributes/properties=>inside of class(variable)\n",
    "    no_of_rooms=4\n",
    "    no_of_stories=3\n",
    "    no_of_windows=15\n",
    "    #methods/actions/behaviour=> outside of class(function)\n",
    "    def total_area():\n",
    "        pass\n",
    "    def total_cost():\n",
    "        pass"
   ]
  },
  {
   "cell_type": "code",
   "execution_count": 12,
   "id": "2fc619bc",
   "metadata": {},
   "outputs": [],
   "source": [
    "h1=House() #object"
   ]
  },
  {
   "cell_type": "code",
   "execution_count": null,
   "id": "feefb37c",
   "metadata": {},
   "outputs": [],
   "source": [
    "h2=House() #object"
   ]
  },
  {
   "cell_type": "code",
   "execution_count": 16,
   "id": "9756a383",
   "metadata": {},
   "outputs": [],
   "source": [
    "class Person:\n",
    "    name='ram'\n",
    "    age=22\n",
    "    address='ktm'\n",
    "    \n",
    "    def walk():\n",
    "        pass\n",
    "    def eat():\n",
    "        pass\n",
    "    def sleep():\n",
    "        pass"
   ]
  },
  {
   "cell_type": "code",
   "execution_count": 17,
   "id": "70d6cd31",
   "metadata": {},
   "outputs": [],
   "source": [
    "p1=Person()"
   ]
  },
  {
   "cell_type": "code",
   "execution_count": 18,
   "id": "f91c1f84",
   "metadata": {},
   "outputs": [
    {
     "name": "stdout",
     "output_type": "stream",
     "text": [
      "ram 22 ktm\n"
     ]
    }
   ],
   "source": [
    "print(p1.name,p1.age,p1.address)"
   ]
  },
  {
   "cell_type": "code",
   "execution_count": 19,
   "id": "43222f76",
   "metadata": {},
   "outputs": [],
   "source": [
    "class Person:\n",
    "    #special methods/double underscore/dunder method\n",
    "    #constructor=>initializer\n",
    "    def __init__(self,name,age,address):\n",
    "        self.name=name\n",
    "        self.age=age\n",
    "        self.address=address\n",
    "    def walk():\n",
    "        pass\n",
    "    def eat():\n",
    "        pass\n",
    "    def sleep():\n",
    "        pass"
   ]
  },
  {
   "cell_type": "code",
   "execution_count": 23,
   "id": "ce5b2ae3",
   "metadata": {},
   "outputs": [
    {
     "name": "stdout",
     "output_type": "stream",
     "text": [
      "Ram 22 Ktm\n"
     ]
    }
   ],
   "source": [
    "p1=Person('Ram',22,'Ktm')\n",
    "print(p1.name,p1.age,p1.address)"
   ]
  },
  {
   "cell_type": "code",
   "execution_count": 25,
   "id": "54ab680d",
   "metadata": {},
   "outputs": [],
   "source": [
    "class Person:\n",
    "    #special methods/double underscore/dunder method\n",
    "    #constructor=>initializer\n",
    "    def __init__(self,name,age,address):\n",
    "        self.name=name\n",
    "        self.age=age\n",
    "        self.address=address\n",
    "    def walk(self):\n",
    "        print('Person is walking')\n",
    "    def eat(self):\n",
    "        print('Person is eating')\n",
    "    def sleep(self):\n",
    "       print('Person is sleeping')"
   ]
  },
  {
   "cell_type": "code",
   "execution_count": 26,
   "id": "37d193bc",
   "metadata": {},
   "outputs": [
    {
     "name": "stdout",
     "output_type": "stream",
     "text": [
      "Ram 22 Ktm\n"
     ]
    }
   ],
   "source": [
    "p1=Person('Ram',22,'Ktm')\n",
    "print(p1.name,p1.age,p1.address)"
   ]
  },
  {
   "cell_type": "code",
   "execution_count": 27,
   "id": "a4cd5201",
   "metadata": {},
   "outputs": [
    {
     "name": "stdout",
     "output_type": "stream",
     "text": [
      "Person is walking\n"
     ]
    }
   ],
   "source": [
    "p1.walk()"
   ]
  },
  {
   "cell_type": "code",
   "execution_count": 28,
   "id": "4fbee71d",
   "metadata": {},
   "outputs": [
    {
     "name": "stdout",
     "output_type": "stream",
     "text": [
      "Person is eating\n"
     ]
    }
   ],
   "source": [
    "p1.eat()"
   ]
  },
  {
   "cell_type": "code",
   "execution_count": 29,
   "id": "9e0adf4a",
   "metadata": {},
   "outputs": [
    {
     "name": "stdout",
     "output_type": "stream",
     "text": [
      "Person is sleeping\n"
     ]
    }
   ],
   "source": [
    "p1.sleep()"
   ]
  },
  {
   "cell_type": "code",
   "execution_count": 31,
   "id": "b3825d61",
   "metadata": {},
   "outputs": [],
   "source": [
    "class Student:\n",
    "    def __init__(self,name,age,college,faculty,grade,section,roll_no):\n",
    "        self.name=name\n",
    "        self.age=age\n",
    "        self.college=college\n",
    "        self.faculty=faculty\n",
    "        self.grade=grade\n",
    "        self.section=section\n",
    "        self.rollno=roll_no\n",
    "        self.subjects=[]\n",
    "    def learn(self):\n",
    "        print(f'{self.name} is learning:{self.subjects}')\n",
    "        "
   ]
  },
  {
   "cell_type": "code",
   "execution_count": 33,
   "id": "9fee072f",
   "metadata": {},
   "outputs": [
    {
     "name": "stdout",
     "output_type": "stream",
     "text": [
      "Shyam is learning:[]\n"
     ]
    }
   ],
   "source": [
    "s1=Student('Shyam',22,'Pentagon','science',12,'B',35)\n",
    "s1.learn()"
   ]
  },
  {
   "cell_type": "code",
   "execution_count": 34,
   "id": "38907e28",
   "metadata": {},
   "outputs": [
    {
     "ename": "SyntaxError",
     "evalue": "invalid syntax (855398946.py, line 1)",
     "output_type": "error",
     "traceback": [
      "\u001b[1;36m  Cell \u001b[1;32mIn[34], line 1\u001b[1;36m\u001b[0m\n\u001b[1;33m    s1.add subject('Python')\u001b[0m\n\u001b[1;37m           ^\u001b[0m\n\u001b[1;31mSyntaxError\u001b[0m\u001b[1;31m:\u001b[0m invalid syntax\n"
     ]
    }
   ],
   "source": [
    "s1.add subject('Python')"
   ]
  },
  {
   "cell_type": "code",
   "execution_count": 37,
   "id": "e0e6fb8a",
   "metadata": {},
   "outputs": [
    {
     "ename": "IndentationError",
     "evalue": "expected an indented block after function definition on line 13 (2506858014.py, line 14)",
     "output_type": "error",
     "traceback": [
      "\u001b[1;36m  Cell \u001b[1;32mIn[37], line 14\u001b[1;36m\u001b[0m\n\u001b[1;33m    self_subjects.append(subject)\u001b[0m\n\u001b[1;37m    ^\u001b[0m\n\u001b[1;31mIndentationError\u001b[0m\u001b[1;31m:\u001b[0m expected an indented block after function definition on line 13\n"
     ]
    }
   ],
   "source": [
    "class Student:\n",
    "    def __init__(self,name,age,college,faculty,grade,section,roll_no):\n",
    "        self.name=name\n",
    "        self.age=age\n",
    "        self.college=college\n",
    "        self.faculty=faculty\n",
    "        self.grade=grade\n",
    "        self.section=section\n",
    "        self.rollno=roll_no\n",
    "        self.subjects=[]\n",
    "    def learn(self):\n",
    "        print(f'{self.name} is learning:{self.subjects}')\n",
    "        def add_subject(self,subject):\n",
    "        self_subjects.append(subject)"
   ]
  },
  {
   "cell_type": "code",
   "execution_count": null,
   "id": "46479c8d",
   "metadata": {},
   "outputs": [],
   "source": []
  }
 ],
 "metadata": {
  "kernelspec": {
   "display_name": "Python 3 (ipykernel)",
   "language": "python",
   "name": "python3"
  },
  "language_info": {
   "codemirror_mode": {
    "name": "ipython",
    "version": 3
   },
   "file_extension": ".py",
   "mimetype": "text/x-python",
   "name": "python",
   "nbconvert_exporter": "python",
   "pygments_lexer": "ipython3",
   "version": "3.11.2"
  }
 },
 "nbformat": 4,
 "nbformat_minor": 5
}
