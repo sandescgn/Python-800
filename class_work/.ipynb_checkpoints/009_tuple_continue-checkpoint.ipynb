{
 "cells": [
  {
   "cell_type": "code",
   "execution_count": 1,
   "id": "2dd3115a",
   "metadata": {},
   "outputs": [
    {
     "name": "stdout",
     "output_type": "stream",
     "text": [
      "(1, 2, 3, 5, 6, 7)\n"
     ]
    }
   ],
   "source": [
    "x = (1,2,3)\n",
    "y = (5, 6, 7)\n",
    "\n",
    "z = x + y # concatenation\n",
    "\n",
    "print(z)"
   ]
  },
  {
   "cell_type": "code",
   "execution_count": 2,
   "id": "6f6f0f06",
   "metadata": {},
   "outputs": [
    {
     "name": "stdout",
     "output_type": "stream",
     "text": [
      "(1, 2, 3, 1, 2, 3)\n"
     ]
    }
   ],
   "source": [
    "x = (1,2,3)\n",
    "print(x * 2) # replication"
   ]
  },
  {
   "cell_type": "code",
   "execution_count": 3,
   "id": "8f01d8b5",
   "metadata": {},
   "outputs": [
    {
     "name": "stdout",
     "output_type": "stream",
     "text": [
      "1\n",
      "2\n",
      "3\n"
     ]
    }
   ],
   "source": [
    "x = (1,2,3)\n",
    "for i in x:\n",
    "    print(i)"
   ]
  },
  {
   "cell_type": "code",
   "execution_count": 4,
   "id": "9d2bc3ab",
   "metadata": {},
   "outputs": [
    {
     "data": {
      "text/plain": [
       "True"
      ]
     },
     "execution_count": 4,
     "metadata": {},
     "output_type": "execute_result"
    }
   ],
   "source": [
    "x = (1,2,3)\n",
    "\n",
    "1 in x"
   ]
  },
  {
   "cell_type": "code",
   "execution_count": 5,
   "id": "cab9015b",
   "metadata": {},
   "outputs": [
    {
     "data": {
      "text/plain": [
       "False"
      ]
     },
     "execution_count": 5,
     "metadata": {},
     "output_type": "execute_result"
    }
   ],
   "source": [
    "'1' in x"
   ]
  },
  {
   "cell_type": "code",
   "execution_count": 6,
   "id": "e68334f3",
   "metadata": {},
   "outputs": [],
   "source": [
    "# homogenous datastructure\n",
    "fruits = ['apple', 'banana', 'orange']"
   ]
  },
  {
   "cell_type": "code",
   "execution_count": 7,
   "id": "c22e02af",
   "metadata": {},
   "outputs": [],
   "source": [
    "# heterogenous datastructure\n",
    "x = (1, 'ram', 932423432, 'ktm', 234234.2343)"
   ]
  },
  {
   "cell_type": "code",
   "execution_count": 8,
   "id": "904e3ed6",
   "metadata": {},
   "outputs": [],
   "source": [
    "# immutable => tuple, mutable => list\n",
    "# hetegenous => tupel, homogenous => list\n",
    "# () => tuple , [] => list\n",
    "# fast => tuple, less faster => list\n",
    "# less memory => tuple, more memory => list\n",
    "# safe => tuple, not safe => list (mutation)"
   ]
  },
  {
   "cell_type": "code",
   "execution_count": 9,
   "id": "281d1f55",
   "metadata": {},
   "outputs": [],
   "source": [
    "person = (1, 'ram', 932423432, 'ktm', 234234.2343)"
   ]
  },
  {
   "cell_type": "code",
   "execution_count": 10,
   "id": "94052314",
   "metadata": {},
   "outputs": [],
   "source": [
    "# dictionary"
   ]
  },
  {
   "cell_type": "code",
   "execution_count": 12,
   "id": "245e55c7",
   "metadata": {},
   "outputs": [
    {
     "name": "stdout",
     "output_type": "stream",
     "text": [
      "{'id': 1, 'name': 'ram', 'mobile': 923423423, 'address': 'ktm', 'salary': 23423.2342}\n"
     ]
    }
   ],
   "source": [
    "# record => object => dictionary\n",
    "# key, value pair\n",
    "# order is maintain in dictionary >= 3.6\n",
    "person = {\n",
    "    \"id\":1,\n",
    "    \"name\":'ram',\n",
    "    'mobile':923423423,\n",
    "    'address':'ktm',\n",
    "    'salary':23423.2342\n",
    "}\n",
    "print(person)"
   ]
  },
  {
   "cell_type": "code",
   "execution_count": 13,
   "id": "c2e4baa1",
   "metadata": {},
   "outputs": [
    {
     "ename": "TypeError",
     "evalue": "unhashable type: 'list'",
     "output_type": "error",
     "traceback": [
      "\u001b[0;31m---------------------------------------------------------------------------\u001b[0m",
      "\u001b[0;31mTypeError\u001b[0m                                 Traceback (most recent call last)",
      "Cell \u001b[0;32mIn[13], line 3\u001b[0m\n\u001b[1;32m      1\u001b[0m \u001b[38;5;66;03m# immutable datatype\u001b[39;00m\n\u001b[0;32m----> 3\u001b[0m x \u001b[38;5;241m=\u001b[39m {[\u001b[38;5;241m12\u001b[39m,\u001b[38;5;241m2\u001b[39m]:\u001b[38;5;241m45\u001b[39m}\n",
      "\u001b[0;31mTypeError\u001b[0m: unhashable type: 'list'"
     ]
    }
   ],
   "source": [
    "# immutable datatype => hashable object\n",
    "\n",
    "x = {[12,2]:45}"
   ]
  },
  {
   "cell_type": "code",
   "execution_count": 14,
   "id": "7799173f",
   "metadata": {},
   "outputs": [],
   "source": [
    "# immutable datatype => hashable object\n",
    "\n",
    "x = {(12,2):45}"
   ]
  },
  {
   "cell_type": "code",
   "execution_count": 15,
   "id": "bbca5ec7",
   "metadata": {},
   "outputs": [],
   "source": [
    "x = {1:'hello', 2:'hi', 3:'bye'}"
   ]
  },
  {
   "cell_type": "code",
   "execution_count": 16,
   "id": "5ef77b58",
   "metadata": {},
   "outputs": [
    {
     "name": "stdout",
     "output_type": "stream",
     "text": [
      "{1: 'hello', 2: 'hi', 3: 'bye'}\n"
     ]
    }
   ],
   "source": [
    "print(x)"
   ]
  },
  {
   "cell_type": "code",
   "execution_count": 18,
   "id": "b9b7d52c",
   "metadata": {},
   "outputs": [
    {
     "name": "stdout",
     "output_type": "stream",
     "text": [
      "ram\n",
      "ktm\n"
     ]
    }
   ],
   "source": [
    "person = {\n",
    "    \"id\":1,\n",
    "    \"name\":'ram',\n",
    "    'mobile':923423423,\n",
    "    'address':'ktm',\n",
    "    'salary':23423.2342\n",
    "}\n",
    "print(person['name'])\n",
    "print(person['address'])"
   ]
  },
  {
   "cell_type": "code",
   "execution_count": 19,
   "id": "b5178eb6",
   "metadata": {},
   "outputs": [
    {
     "ename": "KeyError",
     "evalue": "'email'",
     "output_type": "error",
     "traceback": [
      "\u001b[0;31m---------------------------------------------------------------------------\u001b[0m",
      "\u001b[0;31mKeyError\u001b[0m                                  Traceback (most recent call last)",
      "Cell \u001b[0;32mIn[19], line 1\u001b[0m\n\u001b[0;32m----> 1\u001b[0m \u001b[38;5;28mprint\u001b[39m(\u001b[43mperson\u001b[49m\u001b[43m[\u001b[49m\u001b[38;5;124;43m'\u001b[39;49m\u001b[38;5;124;43memail\u001b[39;49m\u001b[38;5;124;43m'\u001b[39;49m\u001b[43m]\u001b[49m)\n",
      "\u001b[0;31mKeyError\u001b[0m: 'email'"
     ]
    }
   ],
   "source": [
    "print(person['email'])"
   ]
  },
  {
   "cell_type": "code",
   "execution_count": 20,
   "id": "1fce4bd9",
   "metadata": {},
   "outputs": [
    {
     "name": "stdout",
     "output_type": "stream",
     "text": [
      "{'id': 1, 'name': 'ram', 'mobile': 923423423, 'address': 'ktm', 'salary': 23423.2342, 'email': 'ram@gmail.com'}\n"
     ]
    }
   ],
   "source": [
    "person = {\n",
    "    \"id\":1,\n",
    "    \"name\":'ram',\n",
    "    'mobile':923423423,\n",
    "    'address':'ktm',\n",
    "    'salary':23423.2342\n",
    "}\n",
    "\n",
    "person['email'] ='ram@gmail.com'\n",
    "\n",
    "print(person)"
   ]
  },
  {
   "cell_type": "code",
   "execution_count": 21,
   "id": "a3c6121d",
   "metadata": {},
   "outputs": [
    {
     "name": "stdout",
     "output_type": "stream",
     "text": [
      "hello\n"
     ]
    }
   ],
   "source": [
    "person = {\n",
    "    \"id\":1,\n",
    "    \"name\":'ram',\n",
    "    'mobile':923423423,\n",
    "    'address':'ktm',\n",
    "    'salary':23423.2342,\n",
    "    (1,2):'hello'\n",
    "}\n",
    "\n",
    "print(person[(1,2)])"
   ]
  },
  {
   "cell_type": "code",
   "execution_count": 22,
   "id": "8f45a2c0",
   "metadata": {},
   "outputs": [
    {
     "name": "stdout",
     "output_type": "stream",
     "text": [
      "{'id': 1, 'name': 'hari', 'mobile': 923423423, 'address': 'ktm', 'salary': 23423.2342}\n"
     ]
    }
   ],
   "source": [
    "person = {\n",
    "    \"id\":1,\n",
    "    \"name\":'ram',\n",
    "    'mobile':923423423,\n",
    "    'address':'ktm',\n",
    "    'salary':23423.2342,\n",
    "    'name':'hari'\n",
    "}\n",
    "\n",
    "print(person)"
   ]
  },
  {
   "cell_type": "code",
   "execution_count": 25,
   "id": "092ff520",
   "metadata": {},
   "outputs": [
    {
     "name": "stdout",
     "output_type": "stream",
     "text": [
      "{'id': 1, 'name': 'ram', 'mobile': 923423423, 'salary': 23423.2342, 'age': 22, 'address': 'ltr'}\n"
     ]
    }
   ],
   "source": [
    "person = {\n",
    "    \"id\":1,\n",
    "    \"name\":'ram',\n",
    "    'mobile':923423423,\n",
    "    'address':'ktm',\n",
    "    'salary':23423.2342,\n",
    "}\n",
    "\n",
    "del person['address']\n",
    "\n",
    "person['age'] = 22\n",
    "person['address'] ='ltr'\n",
    "print(person)"
   ]
  },
  {
   "cell_type": "code",
   "execution_count": 26,
   "id": "bf66655c",
   "metadata": {},
   "outputs": [
    {
     "name": "stdout",
     "output_type": "stream",
     "text": [
      "Help on class dict in module builtins:\n",
      "\n",
      "class dict(object)\n",
      " |  dict() -> new empty dictionary\n",
      " |  dict(mapping) -> new dictionary initialized from a mapping object's\n",
      " |      (key, value) pairs\n",
      " |  dict(iterable) -> new dictionary initialized as if via:\n",
      " |      d = {}\n",
      " |      for k, v in iterable:\n",
      " |          d[k] = v\n",
      " |  dict(**kwargs) -> new dictionary initialized with the name=value pairs\n",
      " |      in the keyword argument list.  For example:  dict(one=1, two=2)\n",
      " |  \n",
      " |  Built-in subclasses:\n",
      " |      StgDict\n",
      " |  \n",
      " |  Methods defined here:\n",
      " |  \n",
      " |  __contains__(self, key, /)\n",
      " |      True if the dictionary has the specified key, else False.\n",
      " |  \n",
      " |  __delitem__(self, key, /)\n",
      " |      Delete self[key].\n",
      " |  \n",
      " |  __eq__(self, value, /)\n",
      " |      Return self==value.\n",
      " |  \n",
      " |  __ge__(self, value, /)\n",
      " |      Return self>=value.\n",
      " |  \n",
      " |  __getattribute__(self, name, /)\n",
      " |      Return getattr(self, name).\n",
      " |  \n",
      " |  __getitem__(...)\n",
      " |      x.__getitem__(y) <==> x[y]\n",
      " |  \n",
      " |  __gt__(self, value, /)\n",
      " |      Return self>value.\n",
      " |  \n",
      " |  __init__(self, /, *args, **kwargs)\n",
      " |      Initialize self.  See help(type(self)) for accurate signature.\n",
      " |  \n",
      " |  __ior__(self, value, /)\n",
      " |      Return self|=value.\n",
      " |  \n",
      " |  __iter__(self, /)\n",
      " |      Implement iter(self).\n",
      " |  \n",
      " |  __le__(self, value, /)\n",
      " |      Return self<=value.\n",
      " |  \n",
      " |  __len__(self, /)\n",
      " |      Return len(self).\n",
      " |  \n",
      " |  __lt__(self, value, /)\n",
      " |      Return self<value.\n",
      " |  \n",
      " |  __ne__(self, value, /)\n",
      " |      Return self!=value.\n",
      " |  \n",
      " |  __or__(self, value, /)\n",
      " |      Return self|value.\n",
      " |  \n",
      " |  __repr__(self, /)\n",
      " |      Return repr(self).\n",
      " |  \n",
      " |  __reversed__(self, /)\n",
      " |      Return a reverse iterator over the dict keys.\n",
      " |  \n",
      " |  __ror__(self, value, /)\n",
      " |      Return value|self.\n",
      " |  \n",
      " |  __setitem__(self, key, value, /)\n",
      " |      Set self[key] to value.\n",
      " |  \n",
      " |  __sizeof__(...)\n",
      " |      D.__sizeof__() -> size of D in memory, in bytes\n",
      " |  \n",
      " |  clear(...)\n",
      " |      D.clear() -> None.  Remove all items from D.\n",
      " |  \n",
      " |  copy(...)\n",
      " |      D.copy() -> a shallow copy of D\n",
      " |  \n",
      " |  get(self, key, default=None, /)\n",
      " |      Return the value for key if key is in the dictionary, else default.\n",
      " |  \n",
      " |  items(...)\n",
      " |      D.items() -> a set-like object providing a view on D's items\n",
      " |  \n",
      " |  keys(...)\n",
      " |      D.keys() -> a set-like object providing a view on D's keys\n",
      " |  \n",
      " |  pop(...)\n",
      " |      D.pop(k[,d]) -> v, remove specified key and return the corresponding value.\n",
      " |      \n",
      " |      If the key is not found, return the default if given; otherwise,\n",
      " |      raise a KeyError.\n",
      " |  \n",
      " |  popitem(self, /)\n",
      " |      Remove and return a (key, value) pair as a 2-tuple.\n",
      " |      \n",
      " |      Pairs are returned in LIFO (last-in, first-out) order.\n",
      " |      Raises KeyError if the dict is empty.\n",
      " |  \n",
      " |  setdefault(self, key, default=None, /)\n",
      " |      Insert key with a value of default if key is not in the dictionary.\n",
      " |      \n",
      " |      Return the value for key if key is in the dictionary, else default.\n",
      " |  \n",
      " |  update(...)\n",
      " |      D.update([E, ]**F) -> None.  Update D from dict/iterable E and F.\n",
      " |      If E is present and has a .keys() method, then does:  for k in E: D[k] = E[k]\n",
      " |      If E is present and lacks a .keys() method, then does:  for k, v in E: D[k] = v\n",
      " |      In either case, this is followed by: for k in F:  D[k] = F[k]\n",
      " |  \n",
      " |  values(...)\n",
      " |      D.values() -> an object providing a view on D's values\n",
      " |  \n",
      " |  ----------------------------------------------------------------------\n",
      " |  Class methods defined here:\n",
      " |  \n",
      " |  __class_getitem__(...) from builtins.type\n",
      " |      See PEP 585\n",
      " |  \n",
      " |  fromkeys(iterable, value=None, /) from builtins.type\n",
      " |      Create a new dictionary with keys from iterable and values set to value.\n",
      " |  \n",
      " |  ----------------------------------------------------------------------\n",
      " |  Static methods defined here:\n",
      " |  \n",
      " |  __new__(*args, **kwargs) from builtins.type\n",
      " |      Create and return a new object.  See help(type) for accurate signature.\n",
      " |  \n",
      " |  ----------------------------------------------------------------------\n",
      " |  Data and other attributes defined here:\n",
      " |  \n",
      " |  __hash__ = None\n",
      "\n"
     ]
    }
   ],
   "source": [
    "help(dict)"
   ]
  },
  {
   "cell_type": "code",
   "execution_count": 27,
   "id": "ca39304f",
   "metadata": {},
   "outputs": [
    {
     "name": "stdout",
     "output_type": "stream",
     "text": [
      "{}\n"
     ]
    }
   ],
   "source": [
    "person = {\n",
    "    \"id\":1,\n",
    "    \"name\":'ram',\n",
    "    'mobile':923423423,\n",
    "    'address':'ktm',\n",
    "    'salary':23423.2342,\n",
    "}\n",
    "\n",
    "person.clear()\n",
    "\n",
    "print(person)"
   ]
  },
  {
   "cell_type": "code",
   "execution_count": 30,
   "id": "a9ebf363",
   "metadata": {},
   "outputs": [
    {
     "name": "stdout",
     "output_type": "stream",
     "text": [
      "4587694592\n",
      "4587694592\n",
      "{'id': 1, 'name': 'ram', 'mobile': 923423423, 'address': 'ktm', 'salary': 23423.2342, 'age': 17}\n",
      "{'id': 1, 'name': 'ram', 'mobile': 923423423, 'address': 'ktm', 'salary': 23423.2342, 'age': 17}\n"
     ]
    }
   ],
   "source": [
    "# mutable\n",
    "person = {\n",
    "    \"id\":1,\n",
    "    \"name\":'ram',\n",
    "    'mobile':923423423,\n",
    "    'address':'ktm',\n",
    "    'salary':23423.2342,\n",
    "}\n",
    "\n",
    "print(id(person))\n",
    "\n",
    "y = person\n",
    "print(id(y))\n",
    "\n",
    "y['age'] = 17\n",
    "\n",
    "print(y)\n",
    "print(person)"
   ]
  },
  {
   "cell_type": "code",
   "execution_count": 31,
   "id": "5100bf40",
   "metadata": {},
   "outputs": [
    {
     "name": "stdout",
     "output_type": "stream",
     "text": [
      "4587699776\n",
      "4587632832\n",
      "{'id': 1, 'name': 'ram', 'mobile': 923423423, 'address': 'ktm', 'salary': 23423.2342, 'age': 17}\n",
      "{'id': 1, 'name': 'ram', 'mobile': 923423423, 'address': 'ktm', 'salary': 23423.2342}\n"
     ]
    }
   ],
   "source": [
    "# mutable\n",
    "person = {\n",
    "    \"id\":1,\n",
    "    \"name\":'ram',\n",
    "    'mobile':923423423,\n",
    "    'address':'ktm',\n",
    "    'salary':23423.2342,\n",
    "}\n",
    "print(id(person))\n",
    "\n",
    "y = person.copy()\n",
    "print(id(y))\n",
    "\n",
    "y['age'] = 17\n",
    "\n",
    "print(y)\n",
    "print(person)"
   ]
  },
  {
   "cell_type": "code",
   "execution_count": 32,
   "id": "18b7bbba",
   "metadata": {},
   "outputs": [
    {
     "ename": "KeyError",
     "evalue": "'email'",
     "output_type": "error",
     "traceback": [
      "\u001b[0;31m---------------------------------------------------------------------------\u001b[0m",
      "\u001b[0;31mKeyError\u001b[0m                                  Traceback (most recent call last)",
      "Cell \u001b[0;32mIn[32], line 9\u001b[0m\n\u001b[1;32m      1\u001b[0m person \u001b[38;5;241m=\u001b[39m {\n\u001b[1;32m      2\u001b[0m     \u001b[38;5;124m\"\u001b[39m\u001b[38;5;124mid\u001b[39m\u001b[38;5;124m\"\u001b[39m:\u001b[38;5;241m1\u001b[39m,\n\u001b[1;32m      3\u001b[0m     \u001b[38;5;124m\"\u001b[39m\u001b[38;5;124mname\u001b[39m\u001b[38;5;124m\"\u001b[39m:\u001b[38;5;124m'\u001b[39m\u001b[38;5;124mram\u001b[39m\u001b[38;5;124m'\u001b[39m,\n\u001b[0;32m   (...)\u001b[0m\n\u001b[1;32m      6\u001b[0m     \u001b[38;5;124m'\u001b[39m\u001b[38;5;124msalary\u001b[39m\u001b[38;5;124m'\u001b[39m:\u001b[38;5;241m23423.2342\u001b[39m,\n\u001b[1;32m      7\u001b[0m }\n\u001b[0;32m----> 9\u001b[0m \u001b[38;5;28mprint\u001b[39m(\u001b[43mperson\u001b[49m\u001b[43m[\u001b[49m\u001b[38;5;124;43m'\u001b[39;49m\u001b[38;5;124;43memail\u001b[39;49m\u001b[38;5;124;43m'\u001b[39;49m\u001b[43m]\u001b[49m)\n",
      "\u001b[0;31mKeyError\u001b[0m: 'email'"
     ]
    }
   ],
   "source": [
    "person = {\n",
    "    \"id\":1,\n",
    "    \"name\":'ram',\n",
    "    'mobile':923423423,\n",
    "    'address':'ktm',\n",
    "    'salary':23423.2342,\n",
    "}\n",
    "\n",
    "print(person['email'])"
   ]
  },
  {
   "cell_type": "code",
   "execution_count": 33,
   "id": "e92c6436",
   "metadata": {},
   "outputs": [
    {
     "name": "stdout",
     "output_type": "stream",
     "text": [
      "None\n"
     ]
    }
   ],
   "source": [
    "person = {\n",
    "    \"id\":1,\n",
    "    \"name\":'ram',\n",
    "    'mobile':923423423,\n",
    "    'address':'ktm',\n",
    "    'salary':23423.2342,\n",
    "}\n",
    "\n",
    "print(person.get('email'))"
   ]
  },
  {
   "cell_type": "code",
   "execution_count": 34,
   "id": "a30d4323",
   "metadata": {},
   "outputs": [
    {
     "name": "stdout",
     "output_type": "stream",
     "text": [
      "None\n"
     ]
    }
   ],
   "source": [
    "person = {\n",
    "    \"id\":1,\n",
    "    \"name\":'ram',\n",
    "    'mobile':923423423,\n",
    "    'address':'ktm',\n",
    "    'salary':23423.2342,\n",
    "}\n",
    "\n",
    "print(person.get('email', None))"
   ]
  },
  {
   "cell_type": "code",
   "execution_count": 36,
   "id": "af49b487",
   "metadata": {},
   "outputs": [
    {
     "name": "stdout",
     "output_type": "stream",
     "text": [
      "ram@gmail.com\n",
      "{'id': 1, 'name': 'ram', 'mobile': 923423423, 'address': 'ktm', 'salary': 23423.2342}\n"
     ]
    }
   ],
   "source": [
    "person = {\n",
    "    \"id\":1,\n",
    "    \"name\":'ram',\n",
    "    'mobile':923423423,\n",
    "    'address':'ktm',\n",
    "    'salary':23423.2342,\n",
    "}\n",
    "\n",
    "print(person.get('email', 'ram@gmail.com'))\n",
    "print(person)"
   ]
  },
  {
   "cell_type": "code",
   "execution_count": 37,
   "id": "377bf698",
   "metadata": {},
   "outputs": [
    {
     "name": "stdout",
     "output_type": "stream",
     "text": [
      "Help on class dict in module builtins:\n",
      "\n",
      "class dict(object)\n",
      " |  dict() -> new empty dictionary\n",
      " |  dict(mapping) -> new dictionary initialized from a mapping object's\n",
      " |      (key, value) pairs\n",
      " |  dict(iterable) -> new dictionary initialized as if via:\n",
      " |      d = {}\n",
      " |      for k, v in iterable:\n",
      " |          d[k] = v\n",
      " |  dict(**kwargs) -> new dictionary initialized with the name=value pairs\n",
      " |      in the keyword argument list.  For example:  dict(one=1, two=2)\n",
      " |  \n",
      " |  Built-in subclasses:\n",
      " |      StgDict\n",
      " |  \n",
      " |  Methods defined here:\n",
      " |  \n",
      " |  __contains__(self, key, /)\n",
      " |      True if the dictionary has the specified key, else False.\n",
      " |  \n",
      " |  __delitem__(self, key, /)\n",
      " |      Delete self[key].\n",
      " |  \n",
      " |  __eq__(self, value, /)\n",
      " |      Return self==value.\n",
      " |  \n",
      " |  __ge__(self, value, /)\n",
      " |      Return self>=value.\n",
      " |  \n",
      " |  __getattribute__(self, name, /)\n",
      " |      Return getattr(self, name).\n",
      " |  \n",
      " |  __getitem__(...)\n",
      " |      x.__getitem__(y) <==> x[y]\n",
      " |  \n",
      " |  __gt__(self, value, /)\n",
      " |      Return self>value.\n",
      " |  \n",
      " |  __init__(self, /, *args, **kwargs)\n",
      " |      Initialize self.  See help(type(self)) for accurate signature.\n",
      " |  \n",
      " |  __ior__(self, value, /)\n",
      " |      Return self|=value.\n",
      " |  \n",
      " |  __iter__(self, /)\n",
      " |      Implement iter(self).\n",
      " |  \n",
      " |  __le__(self, value, /)\n",
      " |      Return self<=value.\n",
      " |  \n",
      " |  __len__(self, /)\n",
      " |      Return len(self).\n",
      " |  \n",
      " |  __lt__(self, value, /)\n",
      " |      Return self<value.\n",
      " |  \n",
      " |  __ne__(self, value, /)\n",
      " |      Return self!=value.\n",
      " |  \n",
      " |  __or__(self, value, /)\n",
      " |      Return self|value.\n",
      " |  \n",
      " |  __repr__(self, /)\n",
      " |      Return repr(self).\n",
      " |  \n",
      " |  __reversed__(self, /)\n",
      " |      Return a reverse iterator over the dict keys.\n",
      " |  \n",
      " |  __ror__(self, value, /)\n",
      " |      Return value|self.\n",
      " |  \n",
      " |  __setitem__(self, key, value, /)\n",
      " |      Set self[key] to value.\n",
      " |  \n",
      " |  __sizeof__(...)\n",
      " |      D.__sizeof__() -> size of D in memory, in bytes\n",
      " |  \n",
      " |  clear(...)\n",
      " |      D.clear() -> None.  Remove all items from D.\n",
      " |  \n",
      " |  copy(...)\n",
      " |      D.copy() -> a shallow copy of D\n",
      " |  \n",
      " |  get(self, key, default=None, /)\n",
      " |      Return the value for key if key is in the dictionary, else default.\n",
      " |  \n",
      " |  items(...)\n",
      " |      D.items() -> a set-like object providing a view on D's items\n",
      " |  \n",
      " |  keys(...)\n",
      " |      D.keys() -> a set-like object providing a view on D's keys\n",
      " |  \n",
      " |  pop(...)\n",
      " |      D.pop(k[,d]) -> v, remove specified key and return the corresponding value.\n",
      " |      \n",
      " |      If the key is not found, return the default if given; otherwise,\n",
      " |      raise a KeyError.\n",
      " |  \n",
      " |  popitem(self, /)\n",
      " |      Remove and return a (key, value) pair as a 2-tuple.\n",
      " |      \n",
      " |      Pairs are returned in LIFO (last-in, first-out) order.\n",
      " |      Raises KeyError if the dict is empty.\n",
      " |  \n",
      " |  setdefault(self, key, default=None, /)\n",
      " |      Insert key with a value of default if key is not in the dictionary.\n",
      " |      \n",
      " |      Return the value for key if key is in the dictionary, else default.\n",
      " |  \n",
      " |  update(...)\n",
      " |      D.update([E, ]**F) -> None.  Update D from dict/iterable E and F.\n",
      " |      If E is present and has a .keys() method, then does:  for k in E: D[k] = E[k]\n",
      " |      If E is present and lacks a .keys() method, then does:  for k, v in E: D[k] = v\n",
      " |      In either case, this is followed by: for k in F:  D[k] = F[k]\n",
      " |  \n",
      " |  values(...)\n",
      " |      D.values() -> an object providing a view on D's values\n",
      " |  \n",
      " |  ----------------------------------------------------------------------\n",
      " |  Class methods defined here:\n",
      " |  \n",
      " |  __class_getitem__(...) from builtins.type\n",
      " |      See PEP 585\n",
      " |  \n",
      " |  fromkeys(iterable, value=None, /) from builtins.type\n",
      " |      Create a new dictionary with keys from iterable and values set to value.\n",
      " |  \n",
      " |  ----------------------------------------------------------------------\n",
      " |  Static methods defined here:\n",
      " |  \n",
      " |  __new__(*args, **kwargs) from builtins.type\n",
      " |      Create and return a new object.  See help(type) for accurate signature.\n",
      " |  \n",
      " |  ----------------------------------------------------------------------\n",
      " |  Data and other attributes defined here:\n",
      " |  \n",
      " |  __hash__ = None\n",
      "\n"
     ]
    }
   ],
   "source": [
    "help(dict)"
   ]
  },
  {
   "cell_type": "code",
   "execution_count": 39,
   "id": "562fd14f",
   "metadata": {},
   "outputs": [
    {
     "name": "stdout",
     "output_type": "stream",
     "text": [
      "dict_items([('id', 1), ('name', 'ram'), ('mobile', 923423423), ('address', 'ktm'), ('salary', 23423.2342)])\n"
     ]
    }
   ],
   "source": [
    "person = {\n",
    "    \"id\":1,\n",
    "    \"name\":'ram',\n",
    "    'mobile':923423423,\n",
    "    'address':'ktm',\n",
    "    'salary':23423.2342,\n",
    "}\n",
    "\n",
    "print(person.items())"
   ]
  },
  {
   "cell_type": "code",
   "execution_count": 41,
   "id": "a13b10b1",
   "metadata": {},
   "outputs": [
    {
     "name": "stdout",
     "output_type": "stream",
     "text": [
      "dict_keys(['id', 'name', 'mobile', 'address', 'salary'])\n"
     ]
    }
   ],
   "source": [
    "person = {\n",
    "    \"id\":1,\n",
    "    \"name\":'ram',\n",
    "    'mobile':923423423,\n",
    "    'address':'ktm',\n",
    "    'salary':23423.2342,\n",
    "}\n",
    "\n",
    "print(person.keys())"
   ]
  },
  {
   "cell_type": "code",
   "execution_count": 42,
   "id": "5a34f881",
   "metadata": {},
   "outputs": [
    {
     "name": "stdout",
     "output_type": "stream",
     "text": [
      "dict_values([1, 'ram', 923423423, 'ktm', 23423.2342])\n"
     ]
    }
   ],
   "source": [
    "person = {\n",
    "    \"id\":1,\n",
    "    \"name\":'ram',\n",
    "    'mobile':923423423,\n",
    "    'address':'ktm',\n",
    "    'salary':23423.2342,\n",
    "}\n",
    "\n",
    "print(person.values())"
   ]
  },
  {
   "cell_type": "code",
   "execution_count": 45,
   "id": "58c1eeba",
   "metadata": {},
   "outputs": [
    {
     "name": "stdout",
     "output_type": "stream",
     "text": [
      "923423423\n",
      "{'id': 1, 'name': 'ram', 'address': 'ktm', 'salary': 23423.2342}\n"
     ]
    }
   ],
   "source": [
    "person = {\n",
    "    \"id\":1,\n",
    "    \"name\":'ram',\n",
    "    'mobile':923423423,\n",
    "    'address':'ktm',\n",
    "    'salary':23423.2342,\n",
    "}\n",
    "\n",
    "print(person.pop('mobile'))\n",
    "print(person)\n"
   ]
  },
  {
   "cell_type": "code",
   "execution_count": 46,
   "id": "55c018c6",
   "metadata": {},
   "outputs": [
    {
     "ename": "KeyError",
     "evalue": "'phone'",
     "output_type": "error",
     "traceback": [
      "\u001b[0;31m---------------------------------------------------------------------------\u001b[0m",
      "\u001b[0;31mKeyError\u001b[0m                                  Traceback (most recent call last)",
      "Cell \u001b[0;32mIn[46], line 9\u001b[0m\n\u001b[1;32m      1\u001b[0m person \u001b[38;5;241m=\u001b[39m {\n\u001b[1;32m      2\u001b[0m     \u001b[38;5;124m\"\u001b[39m\u001b[38;5;124mid\u001b[39m\u001b[38;5;124m\"\u001b[39m:\u001b[38;5;241m1\u001b[39m,\n\u001b[1;32m      3\u001b[0m     \u001b[38;5;124m\"\u001b[39m\u001b[38;5;124mname\u001b[39m\u001b[38;5;124m\"\u001b[39m:\u001b[38;5;124m'\u001b[39m\u001b[38;5;124mram\u001b[39m\u001b[38;5;124m'\u001b[39m,\n\u001b[0;32m   (...)\u001b[0m\n\u001b[1;32m      6\u001b[0m     \u001b[38;5;124m'\u001b[39m\u001b[38;5;124msalary\u001b[39m\u001b[38;5;124m'\u001b[39m:\u001b[38;5;241m23423.2342\u001b[39m,\n\u001b[1;32m      7\u001b[0m }\n\u001b[0;32m----> 9\u001b[0m \u001b[38;5;28mprint\u001b[39m(\u001b[43mperson\u001b[49m\u001b[38;5;241;43m.\u001b[39;49m\u001b[43mpop\u001b[49m\u001b[43m(\u001b[49m\u001b[38;5;124;43m'\u001b[39;49m\u001b[38;5;124;43mphone\u001b[39;49m\u001b[38;5;124;43m'\u001b[39;49m\u001b[43m)\u001b[49m)\n\u001b[1;32m     10\u001b[0m \u001b[38;5;28mprint\u001b[39m(person)\n",
      "\u001b[0;31mKeyError\u001b[0m: 'phone'"
     ]
    }
   ],
   "source": [
    "person = {\n",
    "    \"id\":1,\n",
    "    \"name\":'ram',\n",
    "    'mobile':923423423,\n",
    "    'address':'ktm',\n",
    "    'salary':23423.2342,\n",
    "}\n",
    "\n",
    "print(person.pop('phone'))\n",
    "print(person)"
   ]
  },
  {
   "cell_type": "code",
   "execution_count": 47,
   "id": "3bf27b26",
   "metadata": {},
   "outputs": [
    {
     "name": "stdout",
     "output_type": "stream",
     "text": [
      "None\n",
      "{'id': 1, 'name': 'ram', 'mobile': 923423423, 'address': 'ktm', 'salary': 23423.2342}\n"
     ]
    }
   ],
   "source": [
    "person = {\n",
    "    \"id\":1,\n",
    "    \"name\":'ram',\n",
    "    'mobile':923423423,\n",
    "    'address':'ktm',\n",
    "    'salary':23423.2342,\n",
    "}\n",
    "\n",
    "print(person.pop('phone', None))\n",
    "print(person)"
   ]
  },
  {
   "cell_type": "code",
   "execution_count": 48,
   "id": "bc4d3892",
   "metadata": {},
   "outputs": [
    {
     "name": "stdout",
     "output_type": "stream",
     "text": [
      "012312312\n",
      "{'id': 1, 'name': 'ram', 'mobile': 923423423, 'address': 'ktm', 'salary': 23423.2342}\n"
     ]
    }
   ],
   "source": [
    "person = {\n",
    "    \"id\":1,\n",
    "    \"name\":'ram',\n",
    "    'mobile':923423423,\n",
    "    'address':'ktm',\n",
    "    'salary':23423.2342,\n",
    "}\n",
    "\n",
    "print(person.pop('phone', '012312312'))\n",
    "print(person)"
   ]
  },
  {
   "cell_type": "code",
   "execution_count": 49,
   "id": "6e420da5",
   "metadata": {},
   "outputs": [
    {
     "name": "stdout",
     "output_type": "stream",
     "text": [
      "('salary', 23423.2342)\n",
      "{'id': 1, 'name': 'ram', 'mobile': 923423423, 'address': 'ktm'}\n"
     ]
    }
   ],
   "source": [
    "person = {\n",
    "    \"id\":1,\n",
    "    \"name\":'ram',\n",
    "    'mobile':923423423,\n",
    "    'address':'ktm',\n",
    "    'salary':23423.2342,\n",
    "}\n",
    "\n",
    "print(person.popitem())\n",
    "\n",
    "print(person)"
   ]
  },
  {
   "cell_type": "code",
   "execution_count": 50,
   "id": "8d4d4649",
   "metadata": {},
   "outputs": [
    {
     "name": "stdout",
     "output_type": "stream",
     "text": [
      "ram@gmail.com\n",
      "{'id': 1, 'name': 'ram', 'mobile': 923423423, 'address': 'ktm', 'salary': 23423.2342}\n"
     ]
    }
   ],
   "source": [
    "person = {\n",
    "    \"id\":1,\n",
    "    \"name\":'ram',\n",
    "    'mobile':923423423,\n",
    "    'address':'ktm',\n",
    "    'salary':23423.2342,\n",
    "}\n",
    "\n",
    "\n",
    "print(person.get('email', 'ram@gmail.com'))\n",
    "print(person)"
   ]
  },
  {
   "cell_type": "code",
   "execution_count": 51,
   "id": "4213798a",
   "metadata": {},
   "outputs": [
    {
     "name": "stdout",
     "output_type": "stream",
     "text": [
      "ram@gmail.com\n",
      "{'id': 1, 'name': 'ram', 'mobile': 923423423, 'address': 'ktm', 'salary': 23423.2342, 'email': 'ram@gmail.com'}\n"
     ]
    }
   ],
   "source": [
    "person = {\n",
    "    \"id\":1,\n",
    "    \"name\":'ram',\n",
    "    'mobile':923423423,\n",
    "    'address':'ktm',\n",
    "    'salary':23423.2342,\n",
    "}\n",
    "\n",
    "\n",
    "print(person.setdefault('email', 'ram@gmail.com'))\n",
    "print(person)"
   ]
  },
  {
   "cell_type": "code",
   "execution_count": 52,
   "id": "8ceaddd6",
   "metadata": {},
   "outputs": [
    {
     "name": "stdout",
     "output_type": "stream",
     "text": [
      "hello@gmail.com\n",
      "{'id': 1, 'name': 'ram', 'mobile': 923423423, 'address': 'ktm', 'salary': 23423.2342, 'email': 'hello@gmail.com'}\n"
     ]
    }
   ],
   "source": [
    "person = {\n",
    "    \"id\":1,\n",
    "    \"name\":'ram',\n",
    "    'mobile':923423423,\n",
    "    'address':'ktm',\n",
    "    'salary':23423.2342,\n",
    "    'email':'hello@gmail.com'\n",
    "}\n",
    "\n",
    "print(person.setdefault('email', 'ram@gmail.com'))\n",
    "print(person)"
   ]
  },
  {
   "cell_type": "code",
   "execution_count": null,
   "id": "520b4a14",
   "metadata": {},
   "outputs": [],
   "source": []
  }
 ],
 "metadata": {
  "kernelspec": {
   "display_name": "Python 3 (ipykernel)",
   "language": "python",
   "name": "python3"
  },
  "language_info": {
   "codemirror_mode": {
    "name": "ipython",
    "version": 3
   },
   "file_extension": ".py",
   "mimetype": "text/x-python",
   "name": "python",
   "nbconvert_exporter": "python",
   "pygments_lexer": "ipython3",
   "version": "3.11.2"
  }
 },
 "nbformat": 4,
 "nbformat_minor": 5
}
