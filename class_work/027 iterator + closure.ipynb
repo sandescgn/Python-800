{
 "cells": [
  {
   "cell_type": "code",
   "execution_count": 1,
   "id": "80fa9052",
   "metadata": {},
   "outputs": [],
   "source": [
    "def pow_of_two(n):\n",
    "    i = 0\n",
    "    while i <= n:\n",
    "        yield 2 ** i\n",
    "        i += 1"
   ]
  },
  {
   "cell_type": "code",
   "execution_count": 2,
   "id": "b37af0fb",
   "metadata": {},
   "outputs": [
    {
     "data": {
      "text/plain": [
       "<generator object pow_of_two at 0x105a55be0>"
      ]
     },
     "execution_count": 2,
     "metadata": {},
     "output_type": "execute_result"
    }
   ],
   "source": [
    "pow_of_two(5)"
   ]
  },
  {
   "cell_type": "code",
   "execution_count": 3,
   "id": "3f27e482",
   "metadata": {},
   "outputs": [
    {
     "data": {
      "text/plain": [
       "[1, 2, 4, 8, 16, 32]"
      ]
     },
     "execution_count": 3,
     "metadata": {},
     "output_type": "execute_result"
    }
   ],
   "source": [
    "list(pow_of_two(5))"
   ]
  },
  {
   "cell_type": "code",
   "execution_count": 4,
   "id": "8203c0ca",
   "metadata": {},
   "outputs": [
    {
     "data": {
      "text/plain": [
       "range(0, 10)"
      ]
     },
     "execution_count": 4,
     "metadata": {},
     "output_type": "execute_result"
    }
   ],
   "source": [
    "range(0,10)"
   ]
  },
  {
   "cell_type": "code",
   "execution_count": 5,
   "id": "fcfc5dd5",
   "metadata": {},
   "outputs": [
    {
     "data": {
      "text/plain": [
       "[0, 1, 2, 3, 4, 5, 6, 7, 8, 9]"
      ]
     },
     "execution_count": 5,
     "metadata": {},
     "output_type": "execute_result"
    }
   ],
   "source": [
    "list(range(0,10))"
   ]
  },
  {
   "cell_type": "code",
   "execution_count": 6,
   "id": "8a9abd7d",
   "metadata": {},
   "outputs": [
    {
     "data": {
      "text/plain": [
       "['__annotations__',\n",
       " '__builtins__',\n",
       " '__call__',\n",
       " '__class__',\n",
       " '__closure__',\n",
       " '__code__',\n",
       " '__defaults__',\n",
       " '__delattr__',\n",
       " '__dict__',\n",
       " '__dir__',\n",
       " '__doc__',\n",
       " '__eq__',\n",
       " '__format__',\n",
       " '__ge__',\n",
       " '__get__',\n",
       " '__getattribute__',\n",
       " '__getstate__',\n",
       " '__globals__',\n",
       " '__gt__',\n",
       " '__hash__',\n",
       " '__init__',\n",
       " '__init_subclass__',\n",
       " '__kwdefaults__',\n",
       " '__le__',\n",
       " '__lt__',\n",
       " '__module__',\n",
       " '__name__',\n",
       " '__ne__',\n",
       " '__new__',\n",
       " '__qualname__',\n",
       " '__reduce__',\n",
       " '__reduce_ex__',\n",
       " '__repr__',\n",
       " '__setattr__',\n",
       " '__sizeof__',\n",
       " '__str__',\n",
       " '__subclasshook__']"
      ]
     },
     "execution_count": 6,
     "metadata": {},
     "output_type": "execute_result"
    }
   ],
   "source": [
    "dir(pow_of_two)"
   ]
  },
  {
   "cell_type": "code",
   "execution_count": 12,
   "id": "a9efae7c",
   "metadata": {},
   "outputs": [
    {
     "name": "stdout",
     "output_type": "stream",
     "text": [
      "generator that generate Pow of 2\n"
     ]
    },
    {
     "ename": "TypeError",
     "evalue": "pow_of_two() missing 1 required positional argument: 'n'",
     "output_type": "error",
     "traceback": [
      "\u001b[0;31m---------------------------------------------------------------------------\u001b[0m",
      "\u001b[0;31mTypeError\u001b[0m                                 Traceback (most recent call last)",
      "Cell \u001b[0;32mIn[12], line 10\u001b[0m\n\u001b[1;32m      6\u001b[0m         i \u001b[38;5;241m+\u001b[39m\u001b[38;5;241m=\u001b[39m \u001b[38;5;241m1\u001b[39m\n\u001b[1;32m      8\u001b[0m \u001b[38;5;28mprint\u001b[39m(pow_of_two\u001b[38;5;241m.\u001b[39m\u001b[38;5;18m__doc__\u001b[39m)\n\u001b[0;32m---> 10\u001b[0m \u001b[38;5;28mprint\u001b[39m(\u001b[38;5;28mdir\u001b[39m(\u001b[43mpow_of_two\u001b[49m\u001b[43m(\u001b[49m\u001b[43m)\u001b[49m))\n",
      "\u001b[0;31mTypeError\u001b[0m: pow_of_two() missing 1 required positional argument: 'n'"
     ]
    }
   ],
   "source": [
    "def pow_of_two(n):\n",
    "    \"\"\"generator that generate Pow of 2\"\"\"\n",
    "    i = 0\n",
    "    while i <= n:\n",
    "        yield 2 ** i\n",
    "        i += 1\n",
    "        \n",
    "print(pow_of_two.__doc__)\n",
    "\n",
    "print(dir(pow_of_two()))"
   ]
  },
  {
   "cell_type": "code",
   "execution_count": 13,
   "id": "7aa7344d",
   "metadata": {},
   "outputs": [],
   "source": [
    "def hello():\n",
    "    print('hello')"
   ]
  },
  {
   "cell_type": "code",
   "execution_count": 14,
   "id": "1aef275f",
   "metadata": {},
   "outputs": [
    {
     "name": "stdout",
     "output_type": "stream",
     "text": [
      "hello\n"
     ]
    },
    {
     "data": {
      "text/plain": [
       "['__bool__',\n",
       " '__class__',\n",
       " '__delattr__',\n",
       " '__dir__',\n",
       " '__doc__',\n",
       " '__eq__',\n",
       " '__format__',\n",
       " '__ge__',\n",
       " '__getattribute__',\n",
       " '__getstate__',\n",
       " '__gt__',\n",
       " '__hash__',\n",
       " '__init__',\n",
       " '__init_subclass__',\n",
       " '__le__',\n",
       " '__lt__',\n",
       " '__ne__',\n",
       " '__new__',\n",
       " '__reduce__',\n",
       " '__reduce_ex__',\n",
       " '__repr__',\n",
       " '__setattr__',\n",
       " '__sizeof__',\n",
       " '__str__',\n",
       " '__subclasshook__']"
      ]
     },
     "execution_count": 14,
     "metadata": {},
     "output_type": "execute_result"
    }
   ],
   "source": [
    "x = hello()\n",
    "dir(x)"
   ]
  },
  {
   "cell_type": "code",
   "execution_count": 15,
   "id": "078bd191",
   "metadata": {},
   "outputs": [],
   "source": [
    "def pow_of_two(n):\n",
    "    \"\"\"generator that generate Pow of 2\"\"\"\n",
    "    i = 0\n",
    "    while i <= n:\n",
    "        yield 2 ** i\n",
    "        i += 1\n",
    "\n",
    "x = pow_of_two(5)"
   ]
  },
  {
   "cell_type": "code",
   "execution_count": 17,
   "id": "e427ff27",
   "metadata": {},
   "outputs": [
    {
     "data": {
      "text/plain": [
       "1"
      ]
     },
     "execution_count": 17,
     "metadata": {},
     "output_type": "execute_result"
    }
   ],
   "source": [
    "next(x)"
   ]
  },
  {
   "cell_type": "code",
   "execution_count": 16,
   "id": "0c295b7d",
   "metadata": {},
   "outputs": [
    {
     "data": {
      "text/plain": [
       "['__class__',\n",
       " '__del__',\n",
       " '__delattr__',\n",
       " '__dir__',\n",
       " '__doc__',\n",
       " '__eq__',\n",
       " '__format__',\n",
       " '__ge__',\n",
       " '__getattribute__',\n",
       " '__getstate__',\n",
       " '__gt__',\n",
       " '__hash__',\n",
       " '__init__',\n",
       " '__init_subclass__',\n",
       " '__iter__',\n",
       " '__le__',\n",
       " '__lt__',\n",
       " '__name__',\n",
       " '__ne__',\n",
       " '__new__',\n",
       " '__next__',\n",
       " '__qualname__',\n",
       " '__reduce__',\n",
       " '__reduce_ex__',\n",
       " '__repr__',\n",
       " '__setattr__',\n",
       " '__sizeof__',\n",
       " '__str__',\n",
       " '__subclasshook__',\n",
       " 'close',\n",
       " 'gi_code',\n",
       " 'gi_frame',\n",
       " 'gi_running',\n",
       " 'gi_suspended',\n",
       " 'gi_yieldfrom',\n",
       " 'send',\n",
       " 'throw']"
      ]
     },
     "execution_count": 16,
     "metadata": {},
     "output_type": "execute_result"
    }
   ],
   "source": [
    "dir(x)"
   ]
  },
  {
   "cell_type": "code",
   "execution_count": 18,
   "id": "7957fc72",
   "metadata": {},
   "outputs": [],
   "source": [
    "def pow_of_two(n):\n",
    "    \"\"\"generator (iterator) that generate Pow of 2\"\"\"\n",
    "    i = 0\n",
    "    while i <= n:\n",
    "        yield 2 ** i\n",
    "        i += 1"
   ]
  },
  {
   "cell_type": "code",
   "execution_count": 19,
   "id": "ec405379",
   "metadata": {},
   "outputs": [
    {
     "name": "stdout",
     "output_type": "stream",
     "text": [
      "1\n",
      "2\n",
      "4\n",
      "8\n",
      "16\n"
     ]
    }
   ],
   "source": [
    "class PowTwo:\n",
    "    \"\"\"Class to implement an iterator of powers of two\"\"\"\n",
    "\n",
    "    def __init__(self, n=0):\n",
    "        self.n = n\n",
    "\n",
    "    def __iter__(self):\n",
    "        self.i = 0\n",
    "        return self\n",
    "\n",
    "    def __next__(self):\n",
    "        if self.i <= self.n:\n",
    "            result = 2 ** self.i\n",
    "            self.i += 1\n",
    "            return result\n",
    "        else:\n",
    "            raise StopIteration\n",
    "\n",
    "\n",
    "# create an object\n",
    "numbers = PowTwo(4)\n",
    "\n",
    "# create an iterable from the object\n",
    "pow = iter(numbers)\n",
    "\n",
    "for i in pow:\n",
    "    print(i)"
   ]
  },
  {
   "cell_type": "code",
   "execution_count": 21,
   "id": "4cf9d264",
   "metadata": {},
   "outputs": [],
   "source": [
    "# higher order function\n",
    "def hello(fn):\n",
    "    x = fn()\n",
    "    return x"
   ]
  },
  {
   "cell_type": "code",
   "execution_count": 22,
   "id": "055c14b5",
   "metadata": {},
   "outputs": [],
   "source": [
    "def hi():\n",
    "    return 'hi'"
   ]
  },
  {
   "cell_type": "code",
   "execution_count": 23,
   "id": "e94009d8",
   "metadata": {},
   "outputs": [
    {
     "data": {
      "text/plain": [
       "'hi'"
      ]
     },
     "execution_count": 23,
     "metadata": {},
     "output_type": "execute_result"
    }
   ],
   "source": [
    "hello(hi)"
   ]
  },
  {
   "cell_type": "code",
   "execution_count": 24,
   "id": "0c5492ba",
   "metadata": {},
   "outputs": [],
   "source": [
    "def higher_order_fun(fn, it):\n",
    "    x = fn(it)\n",
    "    return x"
   ]
  },
  {
   "cell_type": "code",
   "execution_count": 25,
   "id": "30153cc5",
   "metadata": {},
   "outputs": [],
   "source": [
    "def addition(it):\n",
    "    sum = 0\n",
    "    for i in it:\n",
    "        sum += i\n",
    "    return sum"
   ]
  },
  {
   "cell_type": "code",
   "execution_count": 26,
   "id": "968b9ca9",
   "metadata": {},
   "outputs": [
    {
     "data": {
      "text/plain": [
       "21"
      ]
     },
     "execution_count": 26,
     "metadata": {},
     "output_type": "execute_result"
    }
   ],
   "source": [
    "higher_order_fun(addition, [1,2,3,4,5,6])"
   ]
  },
  {
   "cell_type": "code",
   "execution_count": 27,
   "id": "8c1f3f5c",
   "metadata": {},
   "outputs": [],
   "source": [
    "# filter(fn, iterable)\n",
    "# map(fn, iterable)"
   ]
  },
  {
   "cell_type": "code",
   "execution_count": 28,
   "id": "de1185be",
   "metadata": {},
   "outputs": [],
   "source": [
    "def outer():\n",
    "    x = 1\n",
    "    print(x)"
   ]
  },
  {
   "cell_type": "code",
   "execution_count": 29,
   "id": "a8108218",
   "metadata": {},
   "outputs": [
    {
     "name": "stdout",
     "output_type": "stream",
     "text": [
      "1\n"
     ]
    }
   ],
   "source": [
    "outer()"
   ]
  },
  {
   "cell_type": "code",
   "execution_count": 31,
   "id": "33ab9fdd",
   "metadata": {},
   "outputs": [],
   "source": [
    "def outer():\n",
    "    x = 1 # local => outer function\n",
    "    \n",
    "    def inner():\n",
    "        print(x) # non local scope\n",
    "        \n",
    "    inner()"
   ]
  },
  {
   "cell_type": "code",
   "execution_count": 32,
   "id": "e46e4ab5",
   "metadata": {},
   "outputs": [
    {
     "name": "stdout",
     "output_type": "stream",
     "text": [
      "1\n"
     ]
    }
   ],
   "source": [
    "outer()"
   ]
  },
  {
   "cell_type": "code",
   "execution_count": 33,
   "id": "50db3bae",
   "metadata": {},
   "outputs": [],
   "source": [
    "def outer():\n",
    "    x = 1 # local => outer function\n",
    "    \n",
    "    def inner():\n",
    "        return x # non local scope\n",
    "        \n",
    "    inner()"
   ]
  },
  {
   "cell_type": "code",
   "execution_count": 34,
   "id": "9e1943b3",
   "metadata": {},
   "outputs": [],
   "source": [
    "outer()"
   ]
  },
  {
   "cell_type": "code",
   "execution_count": 35,
   "id": "fcb4c9f8",
   "metadata": {},
   "outputs": [],
   "source": [
    "def outer():\n",
    "    x = 1 # local => outer function\n",
    "    \n",
    "    def inner():\n",
    "        return x # non local scope\n",
    "        \n",
    "    return inner() # returing the output of inner function"
   ]
  },
  {
   "cell_type": "code",
   "execution_count": 36,
   "id": "c63bd286",
   "metadata": {},
   "outputs": [
    {
     "data": {
      "text/plain": [
       "1"
      ]
     },
     "execution_count": 36,
     "metadata": {},
     "output_type": "execute_result"
    }
   ],
   "source": [
    "outer()"
   ]
  },
  {
   "cell_type": "code",
   "execution_count": 37,
   "id": "c2d323ef",
   "metadata": {},
   "outputs": [],
   "source": [
    "def outer():\n",
    "    # closure\n",
    "    ##########\n",
    "    x = 1 # local => outer function\n",
    "    def inner():\n",
    "        return x # non local scope\n",
    "    ##########\n",
    "        \n",
    "    return inner # returning the inner function"
   ]
  },
  {
   "cell_type": "code",
   "execution_count": 39,
   "id": "338c6fa7",
   "metadata": {},
   "outputs": [
    {
     "data": {
      "text/plain": [
       "1"
      ]
     },
     "execution_count": 39,
     "metadata": {},
     "output_type": "execute_result"
    }
   ],
   "source": [
    "outer()()"
   ]
  },
  {
   "cell_type": "code",
   "execution_count": 40,
   "id": "79bbb352",
   "metadata": {},
   "outputs": [],
   "source": [
    "def outer():\n",
    "    # closure\n",
    "    ##########\n",
    "    x = 1 # local => outer function\n",
    "    def inner():\n",
    "        return x # non local scope\n",
    "    ##########\n",
    "        \n",
    "    return inner # returning the inner function"
   ]
  },
  {
   "cell_type": "code",
   "execution_count": 41,
   "id": "ca7e1b8a",
   "metadata": {},
   "outputs": [],
   "source": [
    "x = outer()"
   ]
  },
  {
   "cell_type": "code",
   "execution_count": 42,
   "id": "52678d53",
   "metadata": {},
   "outputs": [
    {
     "data": {
      "text/plain": [
       "1"
      ]
     },
     "execution_count": 42,
     "metadata": {},
     "output_type": "execute_result"
    }
   ],
   "source": [
    "x()"
   ]
  },
  {
   "cell_type": "code",
   "execution_count": 43,
   "id": "c184e6f4",
   "metadata": {},
   "outputs": [],
   "source": [
    "del outer"
   ]
  },
  {
   "cell_type": "code",
   "execution_count": 44,
   "id": "dca3c02c",
   "metadata": {},
   "outputs": [
    {
     "data": {
      "text/plain": [
       "1"
      ]
     },
     "execution_count": 44,
     "metadata": {},
     "output_type": "execute_result"
    }
   ],
   "source": [
    "x()"
   ]
  },
  {
   "cell_type": "code",
   "execution_count": 45,
   "id": "20ad0269",
   "metadata": {},
   "outputs": [
    {
     "data": {
      "text/plain": [
       "1"
      ]
     },
     "execution_count": 45,
     "metadata": {},
     "output_type": "execute_result"
    }
   ],
   "source": [
    "x()"
   ]
  },
  {
   "cell_type": "code",
   "execution_count": 47,
   "id": "ddc255f1",
   "metadata": {},
   "outputs": [],
   "source": [
    "def outer():\n",
    "    # closure\n",
    "    ##########\n",
    "    x = 1 # local => outer function\n",
    "    def inner():\n",
    "        print('*****************')\n",
    "        return x # non local scope\n",
    "    ##########\n",
    "        \n",
    "    return inner # returning the inner function"
   ]
  },
  {
   "cell_type": "code",
   "execution_count": 48,
   "id": "6e715636",
   "metadata": {},
   "outputs": [],
   "source": [
    "x = outer()"
   ]
  },
  {
   "cell_type": "code",
   "execution_count": 49,
   "id": "7b5446b5",
   "metadata": {},
   "outputs": [
    {
     "name": "stdout",
     "output_type": "stream",
     "text": [
      "*****************\n"
     ]
    },
    {
     "data": {
      "text/plain": [
       "1"
      ]
     },
     "execution_count": 49,
     "metadata": {},
     "output_type": "execute_result"
    }
   ],
   "source": [
    "x()"
   ]
  },
  {
   "cell_type": "code",
   "execution_count": 50,
   "id": "22b13f26",
   "metadata": {},
   "outputs": [],
   "source": [
    "def outer():\n",
    "    # closure\n",
    "    ##########\n",
    "    x = 1 # local => outer function\n",
    "    def inner():\n",
    "        print('*****************')\n",
    "        print(x) # non local scope\n",
    "        print(\"*****************\")\n",
    "    ##########\n",
    "        \n",
    "    return inner # returning the inner function"
   ]
  },
  {
   "cell_type": "code",
   "execution_count": 51,
   "id": "9a0bd7ef",
   "metadata": {},
   "outputs": [
    {
     "name": "stdout",
     "output_type": "stream",
     "text": [
      "*****************\n",
      "1\n",
      "*****************\n"
     ]
    }
   ],
   "source": [
    "x = outer()()"
   ]
  },
  {
   "cell_type": "code",
   "execution_count": 53,
   "id": "1ca1657f",
   "metadata": {},
   "outputs": [],
   "source": [
    "def hello():\n",
    "    return 'hello'"
   ]
  },
  {
   "cell_type": "code",
   "execution_count": 52,
   "id": "552bf94c",
   "metadata": {},
   "outputs": [],
   "source": [
    "def outer(fn):\n",
    "    \n",
    "    def inner():\n",
    "        x = fn()\n",
    "        print(x)\n",
    "        \n",
    "    return inner"
   ]
  },
  {
   "cell_type": "code",
   "execution_count": 54,
   "id": "2d30fee3",
   "metadata": {},
   "outputs": [
    {
     "name": "stdout",
     "output_type": "stream",
     "text": [
      "hello\n"
     ]
    }
   ],
   "source": [
    "o = outer(hello)()"
   ]
  },
  {
   "cell_type": "code",
   "execution_count": 56,
   "id": "0bc81105",
   "metadata": {},
   "outputs": [],
   "source": [
    "def outer(fn):\n",
    "    \n",
    "    def inner():\n",
    "        print('***********')\n",
    "        x = fn()\n",
    "        print(x)\n",
    "        print('************')\n",
    "        \n",
    "    return inner"
   ]
  },
  {
   "cell_type": "code",
   "execution_count": 57,
   "id": "1e832bbf",
   "metadata": {},
   "outputs": [
    {
     "name": "stdout",
     "output_type": "stream",
     "text": [
      "***********\n",
      "hello\n",
      "************\n"
     ]
    }
   ],
   "source": [
    "o = outer(hello)()"
   ]
  },
  {
   "cell_type": "code",
   "execution_count": 58,
   "id": "f2303679",
   "metadata": {},
   "outputs": [
    {
     "name": "stdout",
     "output_type": "stream",
     "text": [
      "2\n"
     ]
    }
   ],
   "source": [
    "x = 1\n",
    "\n",
    "x = x + 1\n",
    "\n",
    "print(x)"
   ]
  },
  {
   "cell_type": "code",
   "execution_count": null,
   "id": "3c90af16",
   "metadata": {},
   "outputs": [],
   "source": [
    "hello = outer(hello)()"
   ]
  },
  {
   "cell_type": "code",
   "execution_count": 59,
   "id": "8a2132f3",
   "metadata": {},
   "outputs": [
    {
     "name": "stdout",
     "output_type": "stream",
     "text": [
      "***********\n",
      "hello\n",
      "************\n"
     ]
    }
   ],
   "source": [
    "def hello():\n",
    "    return 'hello'\n",
    "\n",
    "def outer(fn):\n",
    "    \n",
    "    def inner():\n",
    "        print('***********')\n",
    "        x = fn()\n",
    "        print(x)\n",
    "        print('************')\n",
    "        \n",
    "    return inner\n",
    "\n",
    "hello = outer(hello) # decorator\n",
    "hello()"
   ]
  },
  {
   "cell_type": "code",
   "execution_count": 60,
   "id": "c592cfd5",
   "metadata": {},
   "outputs": [
    {
     "data": {
      "text/plain": [
       "'hello'"
      ]
     },
     "execution_count": 60,
     "metadata": {},
     "output_type": "execute_result"
    }
   ],
   "source": [
    "def outer(fn):\n",
    "    \n",
    "    def inner():\n",
    "        print('***********')\n",
    "        x = fn()\n",
    "        print(x)\n",
    "        print('************')\n",
    "        \n",
    "    return inner\n",
    "\n",
    "# hello = outer(hello) # decorator\n",
    "# @outer\n",
    "def hello():\n",
    "    return 'hello'\n",
    "\n",
    "hello()"
   ]
  },
  {
   "cell_type": "code",
   "execution_count": 61,
   "id": "9b6a2d34",
   "metadata": {},
   "outputs": [
    {
     "name": "stdout",
     "output_type": "stream",
     "text": [
      "***********\n",
      "hello\n",
      "************\n"
     ]
    }
   ],
   "source": [
    "def outer(fn):\n",
    "    \n",
    "    def inner():\n",
    "        print('***********')\n",
    "        x = fn()\n",
    "        print(x)\n",
    "        print('************')\n",
    "        \n",
    "    return inner\n",
    "\n",
    "# hello = outer(hello) # decorator\n",
    "@outer\n",
    "def hello():\n",
    "    return 'hello'\n",
    "\n",
    "hello()"
   ]
  },
  {
   "cell_type": "code",
   "execution_count": 62,
   "id": "a8a8e84a",
   "metadata": {},
   "outputs": [
    {
     "name": "stdout",
     "output_type": "stream",
     "text": [
      "***********\n",
      "hello\n",
      "************\n"
     ]
    }
   ],
   "source": [
    "hello()"
   ]
  },
  {
   "cell_type": "code",
   "execution_count": 63,
   "id": "0ff1682a",
   "metadata": {},
   "outputs": [],
   "source": [
    "def full_name():\n",
    "    return 'my name is ramesh pradhan'"
   ]
  },
  {
   "cell_type": "code",
   "execution_count": 64,
   "id": "781c7e03",
   "metadata": {},
   "outputs": [
    {
     "data": {
      "text/plain": [
       "'my name is ramesh pradhan'"
      ]
     },
     "execution_count": 64,
     "metadata": {},
     "output_type": "execute_result"
    }
   ],
   "source": [
    "full_name()"
   ]
  },
  {
   "cell_type": "code",
   "execution_count": 65,
   "id": "392e3845",
   "metadata": {},
   "outputs": [],
   "source": [
    "@outer\n",
    "def full_name():\n",
    "    return 'my name is ramesh pradhan'"
   ]
  },
  {
   "cell_type": "code",
   "execution_count": 66,
   "id": "02ddfb6d",
   "metadata": {},
   "outputs": [
    {
     "name": "stdout",
     "output_type": "stream",
     "text": [
      "***********\n",
      "my name is ramesh pradhan\n",
      "************\n"
     ]
    }
   ],
   "source": [
    "full_name()"
   ]
  },
  {
   "cell_type": "code",
   "execution_count": null,
   "id": "08f1d9b1",
   "metadata": {},
   "outputs": [],
   "source": []
  }
 ],
 "metadata": {
  "kernelspec": {
   "display_name": "Python 3 (ipykernel)",
   "language": "python",
   "name": "python3"
  },
  "language_info": {
   "codemirror_mode": {
    "name": "ipython",
    "version": 3
   },
   "file_extension": ".py",
   "mimetype": "text/x-python",
   "name": "python",
   "nbconvert_exporter": "python",
   "pygments_lexer": "ipython3",
   "version": "3.11.1"
  }
 },
 "nbformat": 4,
 "nbformat_minor": 5
}
