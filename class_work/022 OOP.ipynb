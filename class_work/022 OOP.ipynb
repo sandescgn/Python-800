{
 "cells": [
  {
   "cell_type": "code",
   "execution_count": 1,
   "id": "42da13e6",
   "metadata": {},
   "outputs": [],
   "source": [
    "import os\n",
    "\n",
    "os.mkdir('hello')"
   ]
  },
  {
   "cell_type": "code",
   "execution_count": 2,
   "id": "3ddc8a5a",
   "metadata": {},
   "outputs": [
    {
     "data": {
      "text/plain": [
       "['013_for_loop_continue.ipynb',\n",
       " 'students2.csv',\n",
       " '.DS_Store',\n",
       " '014 while loop.ipynb',\n",
       " 'sample_users.csv',\n",
       " 'xyz',\n",
       " '004 python operators.ipynb',\n",
       " '001 Introduction to python.ipynb',\n",
       " 'person.json',\n",
       " '012_for_loop.ipynb',\n",
       " '006_string_datatype.ipynb',\n",
       " '011_flow_control.ipynb',\n",
       " '010_dictionary_continue.ipynb',\n",
       " '017 anonymous function.ipynb',\n",
       " 'python.jpeg',\n",
       " 'numbers.csv',\n",
       " '022 OOP.ipynb',\n",
       " 'hello3.txt',\n",
       " '.ipynb_checkpoints',\n",
       " '019_exceptional_handling.ipynb',\n",
       " 'hello',\n",
       " '015 function.ipynb',\n",
       " '018_file_handling.ipynb',\n",
       " '009_tuple_continue.ipynb',\n",
       " 'hello2.txt',\n",
       " '005_python_namespaces_and_python_numbers.ipynb',\n",
       " '008_list_continue.ipynb',\n",
       " '007_list_datatype.ipynb',\n",
       " '016 function continue.ipynb',\n",
       " 'hello1.txt',\n",
       " '020_021 file handling.ipynb',\n",
       " 'hello5.txt',\n",
       " 'hello.txt',\n",
       " '002_003.ipynb',\n",
       " 'hello4.txt']"
      ]
     },
     "execution_count": 2,
     "metadata": {},
     "output_type": "execute_result"
    }
   ],
   "source": [
    "os.listdir()"
   ]
  },
  {
   "cell_type": "code",
   "execution_count": 3,
   "id": "377b3826",
   "metadata": {},
   "outputs": [
    {
     "data": {
      "text/plain": [
       "True"
      ]
     },
     "execution_count": 3,
     "metadata": {},
     "output_type": "execute_result"
    }
   ],
   "source": [
    "os.path.exists('students2.csv')"
   ]
  },
  {
   "cell_type": "code",
   "execution_count": 4,
   "id": "a2d3e8d3",
   "metadata": {},
   "outputs": [
    {
     "data": {
      "text/plain": [
       "False"
      ]
     },
     "execution_count": 4,
     "metadata": {},
     "output_type": "execute_result"
    }
   ],
   "source": [
    "os.path.exists('students.csv')"
   ]
  },
  {
   "cell_type": "code",
   "execution_count": 5,
   "id": "104dab39",
   "metadata": {},
   "outputs": [],
   "source": [
    "os.rmdir('hello')"
   ]
  },
  {
   "cell_type": "code",
   "execution_count": 8,
   "id": "27988895",
   "metadata": {},
   "outputs": [],
   "source": [
    "class PersonInfo: # PascalCase\n",
    "    pass"
   ]
  },
  {
   "cell_type": "code",
   "execution_count": 9,
   "id": "813e81ad",
   "metadata": {},
   "outputs": [
    {
     "name": "stdout",
     "output_type": "stream",
     "text": [
      "<class 'type'>\n"
     ]
    }
   ],
   "source": [
    "print(type(PersonInfo))"
   ]
  },
  {
   "cell_type": "code",
   "execution_count": 10,
   "id": "2b720074",
   "metadata": {},
   "outputs": [],
   "source": [
    "def today_date():\n",
    "    pass\n",
    "\n",
    "def current_year():\n",
    "    pass\n",
    "\n",
    "def curent_date():\n",
    "    pass\n",
    "\n",
    "\n",
    "def current_month():\n",
    "    pass\n",
    "\n",
    "def current_time():\n",
    "    pass"
   ]
  },
  {
   "cell_type": "code",
   "execution_count": 11,
   "id": "47bccc47",
   "metadata": {},
   "outputs": [],
   "source": [
    "class DateTime: # PascalCase\n",
    "    def today_date(): # lower_case / snake_case\n",
    "        pass\n",
    "\n",
    "    def current_year():\n",
    "        pass\n",
    "\n",
    "    def curent_date():\n",
    "        pass\n",
    "\n",
    "\n",
    "    def current_month():\n",
    "        pass\n",
    "\n",
    "    def current_time():\n",
    "        pass"
   ]
  },
  {
   "cell_type": "code",
   "execution_count": 12,
   "id": "10d87347",
   "metadata": {},
   "outputs": [],
   "source": [
    "class House: # blueprint\n",
    "    # attributes / properties => outside of class (variable)\n",
    "    no_of_rooms = 4\n",
    "    no_of_stories = 3\n",
    "    no_of_windows = 15\n",
    "    \n",
    "    # methods / actions / behaviour => outside of class (function)\n",
    "    def total_area():\n",
    "        pass\n",
    "    \n",
    "    def total_cost():\n",
    "        pass\n",
    "    "
   ]
  },
  {
   "cell_type": "code",
   "execution_count": 14,
   "id": "7ab2eae1",
   "metadata": {},
   "outputs": [],
   "source": [
    "h1 = House() # object "
   ]
  },
  {
   "cell_type": "code",
   "execution_count": 17,
   "id": "6141cf70",
   "metadata": {},
   "outputs": [],
   "source": [
    "h2 = House() # object"
   ]
  },
  {
   "cell_type": "code",
   "execution_count": 18,
   "id": "a3ddff16",
   "metadata": {},
   "outputs": [],
   "source": [
    "class Person:\n",
    "    name = \"ram\"\n",
    "    age = 22\n",
    "    address = 'ktm'\n",
    "    \n",
    "    def walk():\n",
    "        pass\n",
    "    \n",
    "    def eat():\n",
    "        pass\n",
    "    \n",
    "    def sleep():\n",
    "        pass"
   ]
  },
  {
   "cell_type": "code",
   "execution_count": 19,
   "id": "97c81b0d",
   "metadata": {},
   "outputs": [],
   "source": [
    "p1 = Person()"
   ]
  },
  {
   "cell_type": "code",
   "execution_count": 20,
   "id": "c6fac5ab",
   "metadata": {},
   "outputs": [
    {
     "name": "stdout",
     "output_type": "stream",
     "text": [
      "ram 22 ktm\n"
     ]
    }
   ],
   "source": [
    "print(p1.name, p1.age, p1.address)"
   ]
  },
  {
   "cell_type": "code",
   "execution_count": 22,
   "id": "0abd5340",
   "metadata": {},
   "outputs": [
    {
     "name": "stdout",
     "output_type": "stream",
     "text": [
      "ram 22 ktm\n"
     ]
    }
   ],
   "source": [
    "p2 = Person()\n",
    "print(p2.name, p2.age, p2.address)"
   ]
  },
  {
   "cell_type": "code",
   "execution_count": 23,
   "id": "e3524aa5",
   "metadata": {},
   "outputs": [],
   "source": [
    "def person(name, age, address):\n",
    "    print(name, age, address)"
   ]
  },
  {
   "cell_type": "code",
   "execution_count": 24,
   "id": "34b5ca5d",
   "metadata": {},
   "outputs": [
    {
     "name": "stdout",
     "output_type": "stream",
     "text": [
      "ram 22 ktm\n"
     ]
    }
   ],
   "source": [
    "person('ram', 22, 'ktm')"
   ]
  },
  {
   "cell_type": "code",
   "execution_count": 25,
   "id": "c18e6d02",
   "metadata": {},
   "outputs": [
    {
     "ename": "NameError",
     "evalue": "name 'name' is not defined",
     "output_type": "error",
     "traceback": [
      "\u001b[0;31m---------------------------------------------------------------------------\u001b[0m",
      "\u001b[0;31mNameError\u001b[0m                                 Traceback (most recent call last)",
      "Cell \u001b[0;32mIn[25], line 1\u001b[0m\n\u001b[0;32m----> 1\u001b[0m \u001b[38;5;28;01mclass\u001b[39;00m \u001b[38;5;21;01mPerson\u001b[39;00m(\u001b[43mname\u001b[49m, age, address):\n\u001b[1;32m      2\u001b[0m     name \u001b[38;5;241m=\u001b[39m \u001b[38;5;124m\"\u001b[39m\u001b[38;5;124mram\u001b[39m\u001b[38;5;124m\"\u001b[39m\n\u001b[1;32m      3\u001b[0m     age \u001b[38;5;241m=\u001b[39m \u001b[38;5;241m22\u001b[39m\n",
      "\u001b[0;31mNameError\u001b[0m: name 'name' is not defined"
     ]
    }
   ],
   "source": [
    "class Person(name, age, address):\n",
    "    name = \"ram\"\n",
    "    age = 22\n",
    "    address = 'ktm'\n",
    "    \n",
    "    def walk():\n",
    "        pass\n",
    "    \n",
    "    def eat():\n",
    "        pass\n",
    "    \n",
    "    def sleep():\n",
    "        pass"
   ]
  },
  {
   "cell_type": "code",
   "execution_count": 31,
   "id": "56928099",
   "metadata": {},
   "outputs": [],
   "source": [
    "class Person:\n",
    "    # special methods / double underscore / dunder method\n",
    "    # constructor => initializer\n",
    "    def __init__(self, name, age, address):\n",
    "        self.name = name\n",
    "        self.age = age\n",
    "        self.address = address\n",
    "    \n",
    "    def walk(self):\n",
    "        print(\"Person is walking\")\n",
    "    \n",
    "    def eat(self):\n",
    "        print(\"Person is eating\")\n",
    "    \n",
    "    def sleep(self):\n",
    "        print(\"Person is sleeping\")"
   ]
  },
  {
   "cell_type": "code",
   "execution_count": 32,
   "id": "24a7e328",
   "metadata": {},
   "outputs": [
    {
     "name": "stdout",
     "output_type": "stream",
     "text": [
      "Ram 22 KTM\n"
     ]
    }
   ],
   "source": [
    "p1 = Person('Ram', 22, \"KTM\") # object initilization\n",
    "print(p1.name, p1.age, p1.address)"
   ]
  },
  {
   "cell_type": "code",
   "execution_count": 33,
   "id": "d2158a18",
   "metadata": {},
   "outputs": [
    {
     "name": "stdout",
     "output_type": "stream",
     "text": [
      "Shyam 32 LTR\n"
     ]
    }
   ],
   "source": [
    "p2 = Person('Shyam', 32, \"LTR\")\n",
    "print(p2.name, p2.age, p2.address)"
   ]
  },
  {
   "cell_type": "code",
   "execution_count": 34,
   "id": "98aeff2b",
   "metadata": {},
   "outputs": [
    {
     "name": "stdout",
     "output_type": "stream",
     "text": [
      "Person is walking\n"
     ]
    }
   ],
   "source": [
    "p1.walk()"
   ]
  },
  {
   "cell_type": "code",
   "execution_count": 35,
   "id": "d6d69099",
   "metadata": {},
   "outputs": [
    {
     "name": "stdout",
     "output_type": "stream",
     "text": [
      "Person is sleeping\n"
     ]
    }
   ],
   "source": [
    "p1.sleep()"
   ]
  },
  {
   "cell_type": "code",
   "execution_count": 36,
   "id": "175cf8e8",
   "metadata": {},
   "outputs": [
    {
     "name": "stdout",
     "output_type": "stream",
     "text": [
      "Person is eating\n"
     ]
    }
   ],
   "source": [
    "p1.eat()"
   ]
  },
  {
   "cell_type": "code",
   "execution_count": 39,
   "id": "83fc9ac9",
   "metadata": {},
   "outputs": [],
   "source": [
    "class Student:\n",
    "    def __init__(self, name, age, address, college, faculty, roll_no):\n",
    "        self.name = name\n",
    "        self.age = age\n",
    "        self.address = address\n",
    "        self.college = college\n",
    "        self.faculty = faculty\n",
    "        self.roll_no = roll_no\n",
    "        self.subjects = []\n",
    "        \n",
    "    def learn(self):\n",
    "        print(f\"{self.name} is learning: {self.subjects}\")"
   ]
  },
  {
   "cell_type": "code",
   "execution_count": 40,
   "id": "ee7b866d",
   "metadata": {},
   "outputs": [
    {
     "name": "stdout",
     "output_type": "stream",
     "text": [
      "Ram is learning: []\n"
     ]
    }
   ],
   "source": [
    "s1 = Student(\"Ram\", 22, 'ktm', 'NCIT', \"CSIT\", 22)\n",
    "s1.learn()"
   ]
  },
  {
   "cell_type": "code",
   "execution_count": 41,
   "id": "d80a0235",
   "metadata": {},
   "outputs": [],
   "source": [
    "class Student:\n",
    "    def __init__(self, name, age, address, college, faculty, roll_no):\n",
    "        self.name = name\n",
    "        self.age = age\n",
    "        self.address = address\n",
    "        self.college = college\n",
    "        self.faculty = faculty\n",
    "        self.roll_no = roll_no\n",
    "        self.subjects = []\n",
    "        \n",
    "    def learn(self):\n",
    "        print(f\"{self.name} is learning: {self.subjects}\")\n",
    "        \n",
    "    def add_subject(self, subject):\n",
    "        self.subjects.append(subject)"
   ]
  },
  {
   "cell_type": "code",
   "execution_count": 42,
   "id": "d2f0a429",
   "metadata": {},
   "outputs": [
    {
     "name": "stdout",
     "output_type": "stream",
     "text": [
      "Ram is learning: []\n"
     ]
    }
   ],
   "source": [
    "s1 = Student(\"Ram\", 22, 'ktm', 'NCIT', \"CSIT\", 22)\n",
    "s1.learn()"
   ]
  },
  {
   "cell_type": "code",
   "execution_count": 43,
   "id": "3a362dea",
   "metadata": {},
   "outputs": [
    {
     "name": "stdout",
     "output_type": "stream",
     "text": [
      "Ram is learning: ['Python']\n"
     ]
    }
   ],
   "source": [
    "s1.add_subject('Python')\n",
    "s1.learn()"
   ]
  },
  {
   "cell_type": "code",
   "execution_count": 1,
   "id": "7201489c",
   "metadata": {},
   "outputs": [],
   "source": [
    "class Person:\n",
    "    # special methods / double underscore / dunder method\n",
    "    # constructor => initializer\n",
    "    def __init__(self, name, age, address):\n",
    "        self.name = name\n",
    "        self.age = age\n",
    "        self.address = address\n",
    "    \n",
    "    def walk(self):\n",
    "        print(\"Person is walking\")\n",
    "    \n",
    "    def eat(self):\n",
    "        print(\"Person is eating\")\n",
    "    \n",
    "    def sleep(self):\n",
    "        print(\"Person is sleeping\")"
   ]
  },
  {
   "cell_type": "code",
   "execution_count": 2,
   "id": "adb145fa",
   "metadata": {},
   "outputs": [],
   "source": [
    "class Student:\n",
    "    def __init__(self, name, age, address, college, faculty, roll_no):\n",
    "        self.name = name\n",
    "        self.age = age\n",
    "        self.address = address\n",
    "        self.college = college\n",
    "        self.faculty = faculty\n",
    "        self.roll_no = roll_no\n",
    "        self.subjects = []\n",
    "        \n",
    "    def learn(self):\n",
    "        print(f\"{self.name} is learning: {self.subjects}\")\n",
    "        \n",
    "    def add_subject(self, subject):\n",
    "        self.subjects.append(subject)\n",
    "        \n",
    "    def walk(self):\n",
    "        print(\"Person is walking\")\n",
    "    \n",
    "    def eat(self):\n",
    "        print(\"Person is eating\")\n",
    "    \n",
    "    def sleep(self):\n",
    "        print(\"Person is sleeping\")"
   ]
  },
  {
   "cell_type": "code",
   "execution_count": null,
   "id": "f2fc7119",
   "metadata": {},
   "outputs": [],
   "source": []
  }
 ],
 "metadata": {
  "kernelspec": {
   "display_name": "Python 3 (ipykernel)",
   "language": "python",
   "name": "python3"
  },
  "language_info": {
   "codemirror_mode": {
    "name": "ipython",
    "version": 3
   },
   "file_extension": ".py",
   "mimetype": "text/x-python",
   "name": "python",
   "nbconvert_exporter": "python",
   "pygments_lexer": "ipython3",
   "version": "3.11.2"
  }
 },
 "nbformat": 4,
 "nbformat_minor": 5
}
