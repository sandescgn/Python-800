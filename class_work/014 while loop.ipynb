{
 "cells": [
  {
   "cell_type": "code",
   "execution_count": 1,
   "id": "1ff8a1c4",
   "metadata": {},
   "outputs": [
    {
     "name": "stdout",
     "output_type": "stream",
     "text": [
      "21\n"
     ]
    }
   ],
   "source": [
    "numbers=[1,2,3,4,5,6]\n",
    "sum = 0\n",
    "for i in numbers:\n",
    "    sum += i\n",
    "\n",
    "print(sum)"
   ]
  },
  {
   "cell_type": "code",
   "execution_count": 2,
   "id": "e8dad063",
   "metadata": {},
   "outputs": [
    {
     "name": "stdout",
     "output_type": "stream",
     "text": [
      "21\n"
     ]
    }
   ],
   "source": [
    "numbers=[1,2,3,4,5,6]\n",
    "sum = 0\n",
    "\n",
    "for i in range(0,len(numbers)):\n",
    "    sum += numbers[i]\n",
    "\n",
    "print(sum)"
   ]
  },
  {
   "cell_type": "code",
   "execution_count": 3,
   "id": "19490814",
   "metadata": {},
   "outputs": [
    {
     "name": "stdout",
     "output_type": "stream",
     "text": [
      "21\n"
     ]
    }
   ],
   "source": [
    "numbers=[1,2,3,4,5,6]\n",
    "sum = 0\n",
    "i = 0  # initializer\n",
    "\n",
    "while i < len(numbers): # condition\n",
    "    sum += numbers[i] # operation\n",
    "    i += 1 # incrementer / decrementer\n",
    "    \n",
    "print(sum)"
   ]
  },
  {
   "cell_type": "code",
   "execution_count": 4,
   "id": "bee798a0",
   "metadata": {},
   "outputs": [
    {
     "ename": "KeyboardInterrupt",
     "evalue": "",
     "output_type": "error",
     "traceback": [
      "\u001b[0;31m---------------------------------------------------------------------------\u001b[0m",
      "\u001b[0;31mKeyboardInterrupt\u001b[0m                         Traceback (most recent call last)",
      "Cell \u001b[0;32mIn[4], line 5\u001b[0m\n\u001b[1;32m      2\u001b[0m \u001b[38;5;28msum\u001b[39m \u001b[38;5;241m=\u001b[39m \u001b[38;5;241m0\u001b[39m\n\u001b[1;32m      3\u001b[0m i \u001b[38;5;241m=\u001b[39m \u001b[38;5;241m0\u001b[39m  \u001b[38;5;66;03m# initializer\u001b[39;00m\n\u001b[0;32m----> 5\u001b[0m \u001b[38;5;28;01mwhile\u001b[39;00m i \u001b[38;5;241m<\u001b[39m \u001b[38;5;28;43mlen\u001b[39;49m\u001b[43m(\u001b[49m\u001b[43mnumbers\u001b[49m\u001b[43m)\u001b[49m: \u001b[38;5;66;03m# condition\u001b[39;00m\n\u001b[1;32m      6\u001b[0m     \u001b[38;5;28msum\u001b[39m \u001b[38;5;241m+\u001b[39m\u001b[38;5;241m=\u001b[39m numbers[i] \u001b[38;5;66;03m# operation\u001b[39;00m\n\u001b[1;32m      8\u001b[0m \u001b[38;5;28mprint\u001b[39m(\u001b[38;5;28msum\u001b[39m)\n",
      "\u001b[0;31mKeyboardInterrupt\u001b[0m: "
     ]
    }
   ],
   "source": [
    "numbers=[1,2,3,4,5,6]\n",
    "sum = 0\n",
    "i = 0  # initializer\n",
    "\n",
    "while i < len(numbers): # condition\n",
    "    sum += numbers[i] # operation\n",
    "    # must have incrementer or decrementer\n",
    "    \n",
    "print(sum)"
   ]
  },
  {
   "cell_type": "code",
   "execution_count": 5,
   "id": "88bfe180",
   "metadata": {},
   "outputs": [],
   "source": [
    "words = ['one', 'two', 'three', 'four', 'five']\n",
    "\n",
    "# one 0\n",
    "# two 1\n",
    "# three 2\n",
    "# four 3\n",
    "# five 4"
   ]
  },
  {
   "cell_type": "code",
   "execution_count": 6,
   "id": "8cd77b6a",
   "metadata": {},
   "outputs": [
    {
     "name": "stdout",
     "output_type": "stream",
     "text": [
      "one 0\n",
      "two 1\n",
      "three 2\n",
      "four 3\n",
      "five 4\n"
     ]
    }
   ],
   "source": [
    "words = ['one', 'two', 'three', 'four', 'five']\n",
    "\n",
    "for i, v in enumerate(words):\n",
    "    print(v, i)"
   ]
  },
  {
   "cell_type": "code",
   "execution_count": 8,
   "id": "6d3db7ef",
   "metadata": {},
   "outputs": [
    {
     "name": "stdout",
     "output_type": "stream",
     "text": [
      "one 0\n",
      "two 1\n",
      "three 2\n",
      "four 3\n",
      "five 4\n"
     ]
    }
   ],
   "source": [
    "words = ['one', 'two', 'three', 'four', 'five']\n",
    "\n",
    "i = 0\n",
    "while i < len(words):\n",
    "    print(words[i], i)\n",
    "    i += 1"
   ]
  },
  {
   "cell_type": "code",
   "execution_count": 9,
   "id": "31e6c576",
   "metadata": {},
   "outputs": [],
   "source": [
    "# 2 * 1 = 2\n",
    "# 2 * 2 = 4\n",
    "# 2 * 3 = 6\n",
    "# ....\n",
    "# 2 * 10 = 20"
   ]
  },
  {
   "cell_type": "code",
   "execution_count": 10,
   "id": "cfb13cee",
   "metadata": {},
   "outputs": [
    {
     "name": "stdout",
     "output_type": "stream",
     "text": [
      "2 * 1 = 2\n",
      "2 * 2 = 4\n",
      "2 * 3 = 6\n",
      "2 * 4 = 8\n",
      "2 * 5 = 10\n",
      "2 * 6 = 12\n",
      "2 * 7 = 14\n",
      "2 * 8 = 16\n",
      "2 * 9 = 18\n",
      "2 * 10 = 20\n"
     ]
    }
   ],
   "source": [
    "number = 2\n",
    "\n",
    "for i in range(1, 11):\n",
    "    print(f\"{number} * {i} = {number * i}\")"
   ]
  },
  {
   "cell_type": "code",
   "execution_count": 11,
   "id": "9f59e2b4",
   "metadata": {},
   "outputs": [
    {
     "name": "stdout",
     "output_type": "stream",
     "text": [
      "2 * 1 = 2\n",
      "2 * 2 = 4\n",
      "2 * 3 = 6\n",
      "2 * 4 = 8\n",
      "2 * 5 = 10\n",
      "2 * 6 = 12\n",
      "2 * 7 = 14\n",
      "2 * 8 = 16\n",
      "2 * 9 = 18\n",
      "2 * 10 = 20\n"
     ]
    }
   ],
   "source": [
    "number = 2\n",
    "i = 1\n",
    "\n",
    "while i <= 10:\n",
    "    print(f\"{number} * {i} = {number * i}\")\n",
    "    i += 1"
   ]
  },
  {
   "cell_type": "code",
   "execution_count": null,
   "id": "b92f34c3",
   "metadata": {},
   "outputs": [],
   "source": [
    "while True:\n",
    "    print('hello')"
   ]
  },
  {
   "cell_type": "code",
   "execution_count": 14,
   "id": "3b5bff42",
   "metadata": {},
   "outputs": [
    {
     "name": "stdout",
     "output_type": "stream",
     "text": [
      "4 * 1 = 4\n",
      "4 * 2 = 8\n",
      "4 * 3 = 12\n",
      "4 * 4 = 16\n",
      "4 * 5 = 20\n",
      "4 * 6 = 24\n",
      "4 * 7 = 28\n",
      "4 * 8 = 32\n",
      "4 * 9 = 36\n",
      "4 * 10 = 40\n"
     ]
    }
   ],
   "source": [
    "number = 4\n",
    "\n",
    "for i in range(1, 11):\n",
    "    print(f\"{number} * {i} = {number * i}\")"
   ]
  },
  {
   "cell_type": "code",
   "execution_count": 15,
   "id": "26f620c1",
   "metadata": {},
   "outputs": [
    {
     "name": "stdout",
     "output_type": "stream",
     "text": [
      "3\n"
     ]
    }
   ],
   "source": [
    "x = 1\n",
    "y = 2\n",
    "\n",
    "sum = x + y\n",
    "\n",
    "print(sum)\n"
   ]
  },
  {
   "cell_type": "code",
   "execution_count": 16,
   "id": "3498f219",
   "metadata": {},
   "outputs": [],
   "source": [
    "# function definition\n",
    "def calculate_sum():\n",
    "    x = 1\n",
    "    y = 2\n",
    "\n",
    "    sum = x + y\n",
    "\n",
    "    print(sum)"
   ]
  },
  {
   "cell_type": "code",
   "execution_count": 17,
   "id": "1d946079",
   "metadata": {},
   "outputs": [
    {
     "name": "stdout",
     "output_type": "stream",
     "text": [
      "3\n"
     ]
    }
   ],
   "source": [
    "calculate_sum() # function call"
   ]
  },
  {
   "cell_type": "code",
   "execution_count": 18,
   "id": "74002c04",
   "metadata": {},
   "outputs": [
    {
     "name": "stdout",
     "output_type": "stream",
     "text": [
      "3\n"
     ]
    }
   ],
   "source": [
    "calculate_sum()"
   ]
  },
  {
   "cell_type": "code",
   "execution_count": 19,
   "id": "c1e1c275",
   "metadata": {},
   "outputs": [
    {
     "name": "stdout",
     "output_type": "stream",
     "text": [
      "3\n"
     ]
    }
   ],
   "source": [
    "# function definition\n",
    "def calculate_sum():\n",
    "    x = 1\n",
    "    y = 2\n",
    "\n",
    "    sum = x + y\n",
    "\n",
    "    print(sum)\n",
    "    \n",
    "calculate_sum()"
   ]
  },
  {
   "cell_type": "code",
   "execution_count": 20,
   "id": "0fddfdcb",
   "metadata": {},
   "outputs": [
    {
     "name": "stdout",
     "output_type": "stream",
     "text": [
      "3\n"
     ]
    }
   ],
   "source": [
    "calculate_sum(8, 9)"
   ]
  },
  {
   "cell_type": "code",
   "execution_count": 21,
   "id": "2afa2b07",
   "metadata": {},
   "outputs": [
    {
     "name": "stdout",
     "output_type": "stream",
     "text": [
      "17\n"
     ]
    }
   ],
   "source": [
    "# function definition\n",
    "def calculate_sum(x, y): # function with argument / parameter\n",
    "\n",
    "    sum = x + y\n",
    "\n",
    "    print(sum)\n",
    "    \n",
    "calculate_sum(8, 9)"
   ]
  },
  {
   "cell_type": "code",
   "execution_count": 22,
   "id": "0b6d89b2",
   "metadata": {},
   "outputs": [
    {
     "name": "stdout",
     "output_type": "stream",
     "text": [
      "300\n"
     ]
    }
   ],
   "source": [
    "calculate_sum(100 ,200)"
   ]
  },
  {
   "cell_type": "code",
   "execution_count": 23,
   "id": "0981d19e",
   "metadata": {},
   "outputs": [
    {
     "name": "stdout",
     "output_type": "stream",
     "text": [
      "[10, 16, 78, 2]\n"
     ]
    }
   ],
   "source": [
    "x = [10, 9, 16, 78, 2, 3, 7, 1]\n",
    "\n",
    "even_numbers = []\n",
    "for i in x:\n",
    "    if i % 2 == 0:\n",
    "        even_numbers.append(i)\n",
    "        \n",
    "print(even_numbers)"
   ]
  },
  {
   "cell_type": "code",
   "execution_count": 24,
   "id": "3837fdaa",
   "metadata": {},
   "outputs": [],
   "source": [
    "def even_number_generator(x):\n",
    "\n",
    "    even_numbers = []\n",
    "    for i in x:\n",
    "        if i % 2 == 0:\n",
    "            even_numbers.append(i)\n",
    "\n",
    "    print(even_numbers)"
   ]
  },
  {
   "cell_type": "code",
   "execution_count": 25,
   "id": "2c491685",
   "metadata": {},
   "outputs": [
    {
     "name": "stdout",
     "output_type": "stream",
     "text": [
      "[10, 16, 78, 2]\n"
     ]
    }
   ],
   "source": [
    "even_number_generator(x = [10, 9, 16, 78, 2, 3, 7, 1])"
   ]
  },
  {
   "cell_type": "code",
   "execution_count": 27,
   "id": "4c330598",
   "metadata": {},
   "outputs": [
    {
     "data": {
      "text/plain": [
       "17"
      ]
     },
     "execution_count": 27,
     "metadata": {},
     "output_type": "execute_result"
    }
   ],
   "source": [
    "# function definition\n",
    "def calculate_sum(x, y): # function with argument / parameter\n",
    "\n",
    "    sum = x + y\n",
    "\n",
    "    return sum # returning calculated value to outside of functiopn\n",
    "    \n",
    "calculate_sum(8, 9)"
   ]
  },
  {
   "cell_type": "code",
   "execution_count": 28,
   "id": "3114ef5c",
   "metadata": {},
   "outputs": [
    {
     "name": "stdout",
     "output_type": "stream",
     "text": [
      "19\n"
     ]
    }
   ],
   "source": [
    "def calculate_sum(x, y):\n",
    "\n",
    "    sum = x + y\n",
    "\n",
    "    return sum\n",
    "\n",
    "print(calculate_sum(9, 10))"
   ]
  },
  {
   "cell_type": "code",
   "execution_count": 29,
   "id": "d133eee5",
   "metadata": {},
   "outputs": [],
   "source": [
    "def even_number_generator(x):\n",
    "\n",
    "    even_numbers = []\n",
    "    for i in x:\n",
    "        if i % 2 == 0:\n",
    "            even_numbers.append(i)\n",
    "\n",
    "    return even_numbers"
   ]
  },
  {
   "cell_type": "code",
   "execution_count": 31,
   "id": "a6ad594f",
   "metadata": {},
   "outputs": [],
   "source": [
    "# x captures the value return by function\n",
    "x = even_number_generator([1,2,3,44,2,45,6,21,77])"
   ]
  },
  {
   "cell_type": "code",
   "execution_count": 32,
   "id": "03438304",
   "metadata": {},
   "outputs": [
    {
     "name": "stdout",
     "output_type": "stream",
     "text": [
      "[2, 44, 2, 6]\n"
     ]
    }
   ],
   "source": [
    "print(x)"
   ]
  },
  {
   "cell_type": "code",
   "execution_count": 34,
   "id": "01d54766",
   "metadata": {},
   "outputs": [],
   "source": [
    "def calcuate_sum_of_numbers(numbers): # [1,2,3,4,5] => \n",
    "    sum = 0\n",
    "    for i in numbers:\n",
    "        sum += i\n",
    "\n",
    "    return sum"
   ]
  },
  {
   "cell_type": "code",
   "execution_count": 35,
   "id": "99e174dc",
   "metadata": {},
   "outputs": [
    {
     "data": {
      "text/plain": [
       "54"
      ]
     },
     "execution_count": 35,
     "metadata": {},
     "output_type": "execute_result"
    }
   ],
   "source": [
    "calcuate_sum_of_numbers(x) # [2, 44, 2, 6]"
   ]
  },
  {
   "cell_type": "code",
   "execution_count": null,
   "id": "b78397ec",
   "metadata": {},
   "outputs": [],
   "source": []
  }
 ],
 "metadata": {
  "kernelspec": {
   "display_name": "Python 3 (ipykernel)",
   "language": "python",
   "name": "python3"
  },
  "language_info": {
   "codemirror_mode": {
    "name": "ipython",
    "version": 3
   },
   "file_extension": ".py",
   "mimetype": "text/x-python",
   "name": "python",
   "nbconvert_exporter": "python",
   "pygments_lexer": "ipython3",
   "version": "3.11.1"
  }
 },
 "nbformat": 4,
 "nbformat_minor": 5
}
