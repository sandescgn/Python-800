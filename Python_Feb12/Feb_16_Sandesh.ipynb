{
 "cells": [
  {
   "cell_type": "code",
   "execution_count": null,
   "id": "f55250a4",
   "metadata": {},
   "outputs": [],
   "source": [
    "#builtin namespace"
   ]
  },
  {
   "cell_type": "code",
   "execution_count": 1,
   "id": "d613ff84",
   "metadata": {},
   "outputs": [
    {
     "name": "stdout",
     "output_type": "stream",
     "text": [
      "hello\n"
     ]
    }
   ],
   "source": [
    "print('hello')"
   ]
  },
  {
   "cell_type": "code",
   "execution_count": 2,
   "id": "3b55fe4c",
   "metadata": {},
   "outputs": [
    {
     "data": {
      "text/plain": [
       "1"
      ]
     },
     "execution_count": 2,
     "metadata": {},
     "output_type": "execute_result"
    }
   ],
   "source": [
    "int('1')"
   ]
  },
  {
   "cell_type": "code",
   "execution_count": null,
   "id": "23e89aa5",
   "metadata": {},
   "outputs": [],
   "source": [
    "#global namespace =>module level => python file\n",
    "x=100"
   ]
  },
  {
   "cell_type": "code",
   "execution_count": 7,
   "id": "868797b6",
   "metadata": {},
   "outputs": [],
   "source": [
    "#local namespace\n",
    "def hello_world():\n",
    "    #local namespace=> inside function\n",
    "    y=1000\n",
    "    print(y)"
   ]
  },
  {
   "cell_type": "code",
   "execution_count": 8,
   "id": "33a8ecd3",
   "metadata": {},
   "outputs": [
    {
     "name": "stdout",
     "output_type": "stream",
     "text": [
      "1\n"
     ]
    }
   ],
   "source": [
    "xyz=1 #global\n",
    "print(xyz)#global namespace"
   ]
  },
  {
   "cell_type": "code",
   "execution_count": 11,
   "id": "8d61876e",
   "metadata": {},
   "outputs": [
    {
     "name": "stdout",
     "output_type": "stream",
     "text": [
      "1000\n"
     ]
    }
   ],
   "source": [
    "def hello_world():\n",
    "    #local namespace=>inside function\n",
    "    y=1000\n",
    "    print(y) #looking in local namespace\n",
    "hello_world()"
   ]
  },
  {
   "cell_type": "code",
   "execution_count": 12,
   "id": "1fd0cbc8",
   "metadata": {},
   "outputs": [
    {
     "name": "stdout",
     "output_type": "stream",
     "text": [
      "0.12345678901234568\n"
     ]
    }
   ],
   "source": [
    "b=0.1234567890123456789 # total of only 17 numbers after decimal can be printed.\n",
    "print(b)"
   ]
  },
  {
   "cell_type": "code",
   "execution_count": 13,
   "id": "7ae6e227",
   "metadata": {},
   "outputs": [
    {
     "data": {
      "text/plain": [
       "3.4000000000000004"
      ]
     },
     "execution_count": 13,
     "metadata": {},
     "output_type": "execute_result"
    }
   ],
   "source": [
    "1.2+2.2"
   ]
  },
  {
   "cell_type": "code",
   "execution_count": 15,
   "id": "a71224c5",
   "metadata": {},
   "outputs": [
    {
     "name": "stdout",
     "output_type": "stream",
     "text": [
      "0.1\n",
      "0.1000000000000000055511151231257827021181583404541015625\n"
     ]
    }
   ],
   "source": [
    "import decimal\n",
    "print(0.1)\n",
    "print(decimal.Decimal(0.1))"
   ]
  },
  {
   "cell_type": "code",
   "execution_count": 16,
   "id": "e1699d71",
   "metadata": {},
   "outputs": [
    {
     "name": "stdout",
     "output_type": "stream",
     "text": [
      "0.1\n",
      "0.1\n"
     ]
    }
   ],
   "source": [
    "import decimal\n",
    "print(0.1)\n",
    "print(decimal.Decimal('0.1'))\n",
    "#function,variable,module=>lower_case\n",
    "#class=>PascalCase"
   ]
  },
  {
   "cell_type": "code",
   "execution_count": 17,
   "id": "766db462",
   "metadata": {},
   "outputs": [
    {
     "ename": "NameError",
     "evalue": "name 'Decimal' is not defined",
     "output_type": "error",
     "traceback": [
      "\u001b[1;31m---------------------------------------------------------------------------\u001b[0m",
      "\u001b[1;31mNameError\u001b[0m                                 Traceback (most recent call last)",
      "Cell \u001b[1;32mIn[17], line 1\u001b[0m\n\u001b[1;32m----> 1\u001b[0m \u001b[43mDecimal\u001b[49m(\u001b[38;5;124m'\u001b[39m\u001b[38;5;124m3.3\u001b[39m\u001b[38;5;124m'\u001b[39m)\n",
      "\u001b[1;31mNameError\u001b[0m: name 'Decimal' is not defined"
     ]
    }
   ],
   "source": [
    "Decimal('3.3')"
   ]
  },
  {
   "cell_type": "code",
   "execution_count": 19,
   "id": "072a6f59",
   "metadata": {},
   "outputs": [
    {
     "data": {
      "text/plain": [
       "Decimal('3.3')"
      ]
     },
     "execution_count": 19,
     "metadata": {},
     "output_type": "execute_result"
    }
   ],
   "source": [
    "decimal.Decimal('1.1')+decimal.Decimal('2.2') #do this"
   ]
  },
  {
   "cell_type": "code",
   "execution_count": 20,
   "id": "ba3c42ad",
   "metadata": {},
   "outputs": [
    {
     "data": {
      "text/plain": [
       "Decimal('3.300000000000000266453525910')"
      ]
     },
     "execution_count": 20,
     "metadata": {},
     "output_type": "execute_result"
    }
   ],
   "source": [
    "decimal.Decimal(1.1)+decimal.Decimal(2.2) #donot this"
   ]
  },
  {
   "cell_type": "code",
   "execution_count": 21,
   "id": "056a590d",
   "metadata": {},
   "outputs": [
    {
     "data": {
      "text/plain": [
       "Decimal('3.3')"
      ]
     },
     "execution_count": 21,
     "metadata": {},
     "output_type": "execute_result"
    }
   ],
   "source": [
    "from decimal import Decimal\n",
    "#decimal=>module/python file\n",
    "#Decimal=>class\n",
    "Decimal('1.1')+Decimal('2.2')"
   ]
  },
  {
   "cell_type": "code",
   "execution_count": 23,
   "id": "9161ce44",
   "metadata": {},
   "outputs": [
    {
     "name": "stdout",
     "output_type": "stream",
     "text": [
      "3/2\n",
      "9\n",
      "1/6\n"
     ]
    }
   ],
   "source": [
    "import fractions\n",
    "print(fractions.Fraction(1.5))\n",
    "print(fractions.Fraction(9))\n",
    "print(fractions.Fraction(1,6))"
   ]
  },
  {
   "cell_type": "code",
   "execution_count": 24,
   "id": "c537a181",
   "metadata": {},
   "outputs": [
    {
     "name": "stdout",
     "output_type": "stream",
     "text": [
      "16\n",
      "d\n",
      "['b', 'e', 'd', 'a', 'c']\n",
      "0.8843537675009027\n"
     ]
    }
   ],
   "source": [
    "import random\n",
    "print(random.randrange(10,20))\n",
    "x=['a','b','c','d','e']\n",
    "#x is a list class of variable and it has 5 elements.\n",
    "#Get random choice\n",
    "print(random.choice(x))\n",
    "#shuffle\n",
    "random.shuffle(x)\n",
    "#print the shuffled x\n",
    "print(x)\n",
    "#print random element\n",
    "print(random.random())"
   ]
  },
  {
   "cell_type": "code",
   "execution_count": 25,
   "id": "e1609b8e",
   "metadata": {},
   "outputs": [
    {
     "name": "stdout",
     "output_type": "stream",
     "text": [
      "['d', 'a', 'e', 'b', 'c']\n"
     ]
    }
   ],
   "source": [
    "x=['a','b','c','d','e']\n",
    "random.shuffle(x)#changes original value of x\n",
    "print(x)"
   ]
  },
  {
   "cell_type": "code",
   "execution_count": null,
   "id": "5afd7f48",
   "metadata": {},
   "outputs": [],
   "source": []
  }
 ],
 "metadata": {
  "kernelspec": {
   "display_name": "Python 3 (ipykernel)",
   "language": "python",
   "name": "python3"
  },
  "language_info": {
   "codemirror_mode": {
    "name": "ipython",
    "version": 3
   },
   "file_extension": ".py",
   "mimetype": "text/x-python",
   "name": "python",
   "nbconvert_exporter": "python",
   "pygments_lexer": "ipython3",
   "version": "3.11.2"
  }
 },
 "nbformat": 4,
 "nbformat_minor": 5
}
