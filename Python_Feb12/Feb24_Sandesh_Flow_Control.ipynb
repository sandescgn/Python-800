{
 "cells": [
  {
   "cell_type": "code",
   "execution_count": 1,
   "id": "91c1c718",
   "metadata": {},
   "outputs": [],
   "source": [
    "age=18\n",
    "if age>18:\n",
    "    print('You are authorized')"
   ]
  },
  {
   "cell_type": "code",
   "execution_count": 2,
   "id": "ac5ff141",
   "metadata": {},
   "outputs": [
    {
     "name": "stdout",
     "output_type": "stream",
     "text": [
      "You are authorized\n"
     ]
    }
   ],
   "source": [
    "age=18\n",
    "if age>=18:\n",
    "    print('You are authorized')"
   ]
  },
  {
   "cell_type": "code",
   "execution_count": 7,
   "id": "47e0f79d",
   "metadata": {},
   "outputs": [
    {
     "name": "stdout",
     "output_type": "stream",
     "text": [
      "Enter the marks:40\n",
      "pass\n"
     ]
    }
   ],
   "source": [
    "mark=int(input('Enter the marks:'))\n",
    "if mark>=40:\n",
    "    print('pass')\n"
   ]
  },
  {
   "cell_type": "code",
   "execution_count": 8,
   "id": "f13526db",
   "metadata": {},
   "outputs": [
    {
     "name": "stdout",
     "output_type": "stream",
     "text": [
      "Enter the marks:30\n",
      "Fail\n"
     ]
    }
   ],
   "source": [
    "mark=int(input('Enter the marks:'))\n",
    "if mark<40:\n",
    "        print('Fail')"
   ]
  },
  {
   "cell_type": "code",
   "execution_count": 9,
   "id": "59b21781",
   "metadata": {},
   "outputs": [
    {
     "name": "stdout",
     "output_type": "stream",
     "text": [
      "y is greater than x\n"
     ]
    }
   ],
   "source": [
    "x=4\n",
    "y=5\n",
    "if x>y:\n",
    "    print('x is greater than y')\n",
    "if y>x:\n",
    "    print('y is greater than x')"
   ]
  },
  {
   "cell_type": "code",
   "execution_count": 10,
   "id": "feb9a468",
   "metadata": {},
   "outputs": [
    {
     "name": "stdout",
     "output_type": "stream",
     "text": [
      "Welcome to Python Course.\n"
     ]
    }
   ],
   "source": [
    "age=18\n",
    "if age>18:\n",
    "    print('you are authorized')\n",
    "print('Welcome to Python Course.')"
   ]
  },
  {
   "cell_type": "code",
   "execution_count": 11,
   "id": "7a6bb705",
   "metadata": {},
   "outputs": [],
   "source": [
    "age=18\n",
    "if age>18:\n",
    "    print('you are authorized')\n",
    "    print('Welcome to Python Course.') #No output"
   ]
  },
  {
   "cell_type": "code",
   "execution_count": 12,
   "id": "46d04edf",
   "metadata": {},
   "outputs": [
    {
     "name": "stdout",
     "output_type": "stream",
     "text": [
      "Enter the marks:39\n",
      "Fail\n"
     ]
    }
   ],
   "source": [
    "mark=int(input('Enter the marks:'))\n",
    "if mark>=40:\n",
    "        print('Passs')\n",
    "else:\n",
    "    print('Fail')"
   ]
  },
  {
   "cell_type": "code",
   "execution_count": 13,
   "id": "ce603225",
   "metadata": {},
   "outputs": [
    {
     "name": "stdout",
     "output_type": "stream",
     "text": [
      "y is greater than x\n"
     ]
    }
   ],
   "source": [
    "x=4\n",
    "y=5\n",
    "if x>y:\n",
    "    print('x is greater than y')\n",
    "else:#it doesnot work in equal to case\n",
    "    print('y is greater than x')"
   ]
  },
  {
   "cell_type": "code",
   "execution_count": 14,
   "id": "f6dbbe15",
   "metadata": {},
   "outputs": [
    {
     "name": "stdout",
     "output_type": "stream",
     "text": [
      "x is equal to y\n"
     ]
    }
   ],
   "source": [
    "x=5\n",
    "y=5\n",
    "if x>y:\n",
    "    print('x is greater than y')\n",
    "elif  y>x:\n",
    "    print('y is greater than x')\n",
    "else:\n",
    "    print('x is equal to y')"
   ]
  },
  {
   "cell_type": "code",
   "execution_count": 16,
   "id": "59940762",
   "metadata": {},
   "outputs": [
    {
     "name": "stdout",
     "output_type": "stream",
     "text": [
      "y is largest:7\n"
     ]
    }
   ],
   "source": [
    "x=3\n",
    "y=7\n",
    "z=2\n",
    "if x>y and x>z:\n",
    "    print(f'x is largest:{x}')\n",
    "    \n",
    "elif y>x and y>z:\n",
    "    print(f'y is largest:{y}')\n",
    "    \n",
    "else:\n",
    "     print(f'z is largest:{z}')\n"
   ]
  },
  {
   "cell_type": "code",
   "execution_count": 17,
   "id": "47415f09",
   "metadata": {},
   "outputs": [
    {
     "data": {
      "text/plain": [
       "False"
      ]
     },
     "execution_count": 17,
     "metadata": {},
     "output_type": "execute_result"
    }
   ],
   "source": [
    "False & False"
   ]
  },
  {
   "cell_type": "code",
   "execution_count": 19,
   "id": "d0d2275b",
   "metadata": {},
   "outputs": [
    {
     "name": "stdout",
     "output_type": "stream",
     "text": [
      "y is largest:7\n"
     ]
    }
   ],
   "source": [
    "x=3\n",
    "y=7\n",
    "z=2\n",
    "if x>y and x>z:\n",
    "    print(f'x is largest:{x}')\n",
    "    \n",
    "if y>x and y>z:\n",
    "    print(f'y is largest:{y}')\n",
    "if z>x and z>y:\n",
    "    print(f'z is largest:{z}')\n",
    "    "
   ]
  },
  {
   "cell_type": "code",
   "execution_count": 20,
   "id": "545a14d8",
   "metadata": {},
   "outputs": [
    {
     "name": "stdout",
     "output_type": "stream",
     "text": [
      "hello 1\n"
     ]
    }
   ],
   "source": [
    "if True:\n",
    "    print('hello 1')\n",
    "elif True:\n",
    "    print('hello 2')\n",
    "elif True:\n",
    "    print('hello 3')\n",
    "else:\n",
    "    print('hello 4')"
   ]
  },
  {
   "cell_type": "code",
   "execution_count": 21,
   "id": "e4b4128e",
   "metadata": {},
   "outputs": [
    {
     "name": "stdout",
     "output_type": "stream",
     "text": [
      "hello 1\n",
      "hello 2\n",
      "hello 3\n",
      "hello 4\n"
     ]
    }
   ],
   "source": [
    "if True:\n",
    "    print('hello 1')\n",
    "if True:\n",
    "    print('hello 2')\n",
    "if True:\n",
    "    print('hello 3')\n",
    "if True:\n",
    "    print('hello 4')"
   ]
  },
  {
   "cell_type": "code",
   "execution_count": 22,
   "id": "4b901463",
   "metadata": {},
   "outputs": [
    {
     "name": "stdout",
     "output_type": "stream",
     "text": [
      "Enter the username:admin\n",
      "Enter the Password:admin\n",
      "Successfully logged in.\n"
     ]
    }
   ],
   "source": [
    "username='admin'\n",
    "password='admin'\n",
    "username=input('Enter the username:')\n",
    "password=input('Enter the Password:')\n",
    "if username=='admin' and password== 'admin':\n",
    "    print('Successfully logged in.')\n",
    "else:\n",
    "    print('cannot logged in.') "
   ]
  },
  {
   "cell_type": "code",
   "execution_count": 23,
   "id": "ff5d2ffe",
   "metadata": {},
   "outputs": [
    {
     "name": "stdout",
     "output_type": "stream",
     "text": [
      "Enter the username:admin\n",
      "Enter the Password:password\n",
      "cannot logged in.\n"
     ]
    }
   ],
   "source": [
    "username='admin'\n",
    "password='admin'\n",
    "username=input('Enter the username:')\n",
    "password=input('Enter the Password:')\n",
    "if username=='admin' and password== 'admin':\n",
    "    print('Successfully logged in.')\n",
    "else:\n",
    "    print('cannot logged in.') "
   ]
  },
  {
   "cell_type": "code",
   "execution_count": 26,
   "id": "2a1013bd",
   "metadata": {},
   "outputs": [
    {
     "name": "stdout",
     "output_type": "stream",
     "text": [
      "Enter the username:asdf\n",
      "Enter the Password:asdf\n",
      "Enter role:super admin\n",
      "successfully logged in.\n"
     ]
    }
   ],
   "source": [
    "username=input('Enter the username:') #admin\n",
    "password=input('Enter the Password:') #admin\n",
    "role=input('Enter role:')#superadmin\n",
    "\n",
    "if username=='admin' and password== 'admin': \n",
    "    print('Successfully logged in.')\n",
    "elif role=='super admin':\n",
    "    print('successfully logged in.')\n",
    "else:\n",
    "    print('cannot logged in.') "
   ]
  },
  {
   "cell_type": "code",
   "execution_count": 35,
   "id": "c0948878",
   "metadata": {},
   "outputs": [
    {
     "name": "stdout",
     "output_type": "stream",
     "text": [
      "Enter the username:asdf\n",
      "Enter the Password:adff\n",
      "Enter the role:sdfsf\n",
      "cannot logged in.\n"
     ]
    }
   ],
   "source": [
    "username=input('Enter the username:') #admin\n",
    "password=input('Enter the Password:') #admin\n",
    "if username=='admin' and password== 'admin': \n",
    "    print('Successfully logged in.')\n",
    "else:\n",
    "    role=input('Enter the role:')\n",
    "    if role=='super admin':\n",
    "        print('welcome admin.')\n",
    "    else:\n",
    "            print('cannot logged in.')"
   ]
  },
  {
   "cell_type": "code",
   "execution_count": 37,
   "id": "e5e2da6c",
   "metadata": {},
   "outputs": [
    {
     "name": "stdout",
     "output_type": "stream",
     "text": [
      "Enter the username:asdf\n",
      "Enter the Password:asdf\n",
      "Do you want to access through role?    Type y or yes to continue:y\n",
      "Enter the role:super admin\n",
      "welcome admin.\n"
     ]
    }
   ],
   "source": [
    "username=input('Enter the username:') #admin\n",
    "password=input('Enter the Password:') #admin\n",
    "if username=='admin' and password== 'admin': \n",
    "    print('Successfully logged in.')\n",
    "else:\n",
    "    confirmation=input('Do you want to access through role?\\\n",
    "    Type y or yes to continue:')\n",
    "    if confirmation in ('y','yes'):\n",
    "        role=input('Enter the role:')\n",
    "        if role=='super admin':\n",
    "            print('welcome admin.')\n",
    "    else:\n",
    "            print('cannot logged in.')"
   ]
  },
  {
   "cell_type": "code",
   "execution_count": null,
   "id": "f6bd3160",
   "metadata": {},
   "outputs": [],
   "source": [
    ">=80 =>distinction\n",
    "60-80 => first division\n",
    "50-60=> second division\n",
    "35-60=> third Division\n",
    "<35=> fail"
   ]
  },
  {
   "cell_type": "code",
   "execution_count": null,
   "id": "d231ad7c",
   "metadata": {},
   "outputs": [],
   "source": []
  }
 ],
 "metadata": {
  "kernelspec": {
   "display_name": "Python 3 (ipykernel)",
   "language": "python",
   "name": "python3"
  },
  "language_info": {
   "codemirror_mode": {
    "name": "ipython",
    "version": 3
   },
   "file_extension": ".py",
   "mimetype": "text/x-python",
   "name": "python",
   "nbconvert_exporter": "python",
   "pygments_lexer": "ipython3",
   "version": "3.11.2"
  }
 },
 "nbformat": 4,
 "nbformat_minor": 5
}
