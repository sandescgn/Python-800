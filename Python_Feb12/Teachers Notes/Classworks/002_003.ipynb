{
 "cells": [
  {
   "cell_type": "code",
   "execution_count": 4,
   "id": "ee2afbba",
   "metadata": {},
   "outputs": [
    {
     "name": "stdout",
     "output_type": "stream",
     "text": [
      "3\n"
     ]
    }
   ],
   "source": [
    "x = 1\n",
    "y = 2\n",
    "\n",
    "sum = x + y\n",
    "\n",
    "print(sum)"
   ]
  },
  {
   "cell_type": "code",
   "execution_count": 3,
   "id": "1e15ac3b",
   "metadata": {},
   "outputs": [],
   "source": [
    "# python -m jupyter notebook"
   ]
  },
  {
   "cell_type": "code",
   "execution_count": 4,
   "id": "5211968f",
   "metadata": {},
   "outputs": [
    {
     "name": "stdout",
     "output_type": "stream",
     "text": [
      "hello world\n"
     ]
    }
   ],
   "source": [
    "print(\"hello world\")"
   ]
  },
  {
   "cell_type": "code",
   "execution_count": 7,
   "id": "566103df",
   "metadata": {},
   "outputs": [
    {
     "name": "stdout",
     "output_type": "stream",
     "text": [
      "My name is ramesh\n"
     ]
    }
   ],
   "source": [
    "name = 'ramesh'\n",
    "print(\"My name is\", name)"
   ]
  },
  {
   "cell_type": "code",
   "execution_count": 9,
   "id": "df026ce3",
   "metadata": {},
   "outputs": [
    {
     "name": "stdout",
     "output_type": "stream",
     "text": [
      "The sum of 10 and 20 is 30\n"
     ]
    }
   ],
   "source": [
    "num1 = 10\n",
    "num2 = 20\n",
    "\n",
    "sum = num1 + num2\n",
    "\n",
    "print(f\"The sum of {num1} and {num2} is {sum}\")"
   ]
  },
  {
   "cell_type": "code",
   "execution_count": 10,
   "id": "c4e9a236",
   "metadata": {},
   "outputs": [
    {
     "name": "stdout",
     "output_type": "stream",
     "text": [
      "My name is ramesh pradhan\n"
     ]
    }
   ],
   "source": [
    "first_name = \"ramesh\"\n",
    "last_name = \"pradhan\"\n",
    "\n",
    "print(f\"My name is {first_name} {last_name}\") # f-string => string interpolation"
   ]
  },
  {
   "cell_type": "code",
   "execution_count": 11,
   "id": "f0f9f1a4",
   "metadata": {},
   "outputs": [
    {
     "name": "stdout",
     "output_type": "stream",
     "text": [
      "My name is {first_name} {last_name}\n"
     ]
    }
   ],
   "source": [
    "first_name = \"ramesh\"\n",
    "last_name = \"pradhan\"\n",
    "\n",
    "print(\"My name is {first_name} {last_name}\") "
   ]
  },
  {
   "cell_type": "code",
   "execution_count": 13,
   "id": "192d432e",
   "metadata": {},
   "outputs": [
    {
     "name": "stdout",
     "output_type": "stream",
     "text": [
      "1 2 3 4 5 6 hello\n"
     ]
    }
   ],
   "source": [
    "print(1,2,3,4,5,6, 'hello')"
   ]
  },
  {
   "cell_type": "code",
   "execution_count": 14,
   "id": "9a1282a8",
   "metadata": {},
   "outputs": [
    {
     "name": "stdout",
     "output_type": "stream",
     "text": [
      "Help on built-in function print in module builtins:\n",
      "\n",
      "print(*args, sep=' ', end='\\n', file=None, flush=False)\n",
      "    Prints the values to a stream, or to sys.stdout by default.\n",
      "    \n",
      "    sep\n",
      "      string inserted between values, default a space.\n",
      "    end\n",
      "      string appended after the last value, default a newline.\n",
      "    file\n",
      "      a file-like object (stream); defaults to the current sys.stdout.\n",
      "    flush\n",
      "      whether to forcibly flush the stream.\n",
      "\n"
     ]
    }
   ],
   "source": [
    "help(print)"
   ]
  },
  {
   "cell_type": "code",
   "execution_count": 17,
   "id": "fb0cab33",
   "metadata": {},
   "outputs": [
    {
     "name": "stdout",
     "output_type": "stream",
     "text": [
      "1#2#3#4#5#6#hello\n",
      "1#2#3#4#5#6#hello\n",
      "1#2#3#4#5#6#hello\n",
      "1#2#3#4#5#6#hello\n",
      "1#2#3#4#5#6#hello\n"
     ]
    }
   ],
   "source": [
    "print(1,2,3,4,5,6, 'hello', sep='#')\n",
    "print(1,2,3,4,5,6, 'hello', sep='#')\n",
    "print(1,2,3,4,5,6, 'hello', sep='#')\n",
    "print(1,2,3,4,5,6, 'hello', sep='#')\n",
    "print(1,2,3,4,5,6, 'hello', sep='#')"
   ]
  },
  {
   "cell_type": "code",
   "execution_count": 26,
   "id": "b7d0e087",
   "metadata": {},
   "outputs": [
    {
     "name": "stdout",
     "output_type": "stream",
     "text": [
      "hello my name is ramesh\n",
      "\n",
      ". I am\tfrom ktm.\n"
     ]
    }
   ],
   "source": [
    "x = 'hello my name is ramesh\\n\\n. I am\\tfrom ktm.'\n",
    "print(x)"
   ]
  },
  {
   "cell_type": "code",
   "execution_count": 22,
   "id": "84eb5da0",
   "metadata": {},
   "outputs": [
    {
     "name": "stdout",
     "output_type": "stream",
     "text": [
      "1#2#3#4#5#6#hello\n",
      "1#2#3#4#5#6#hello\n",
      "1#2#3#4#5#6#hello\n",
      "1#2#3#4#5#6#hello\n",
      "1#2#3#4#5#6#hello\n"
     ]
    }
   ],
   "source": [
    "print(1,2,3,4,5,6, 'hello', sep='#', end='\\n')\n",
    "print(1,2,3,4,5,6, 'hello', sep='#', end='\\n')\n",
    "print(1,2,3,4,5,6, 'hello', sep='#')\n",
    "print(1,2,3,4,5,6, 'hello', sep='#')\n",
    "print(1,2,3,4,5,6, 'hello', sep='#')"
   ]
  },
  {
   "cell_type": "code",
   "execution_count": 24,
   "id": "779e687d",
   "metadata": {},
   "outputs": [
    {
     "name": "stdout",
     "output_type": "stream",
     "text": [
      "1#2#3#4#5#6#hello\t1#2#3#4#5#6#hello\n"
     ]
    }
   ],
   "source": [
    "print(1,2,3,4,5,6, 'hello', sep='#', end='\\t')\n",
    "print(1,2,3,4,5,6, 'hello', sep='#')"
   ]
  },
  {
   "cell_type": "code",
   "execution_count": 27,
   "id": "b3e69775",
   "metadata": {},
   "outputs": [
    {
     "name": "stdout",
     "output_type": "stream",
     "text": [
      "My name is ramesh pradhan\n"
     ]
    }
   ],
   "source": [
    "first_name = \"ramesh\"\n",
    "last_name = \"pradhan\"\n",
    "\n",
    "print(f\"My name is {first_name} {last_name}\")"
   ]
  },
  {
   "cell_type": "code",
   "execution_count": 28,
   "id": "93e0f166",
   "metadata": {},
   "outputs": [
    {
     "name": "stdout",
     "output_type": "stream",
     "text": [
      "My name is ramesh pradhan\n"
     ]
    }
   ],
   "source": [
    "first_name = \"ramesh\"\n",
    "last_name = \"pradhan\"\n",
    "\n",
    "print(\"My name is {first_name} {last_name}\".format(\n",
    "    first_name=first_name,\n",
    "    last_name=last_name))"
   ]
  },
  {
   "cell_type": "code",
   "execution_count": 29,
   "id": "09a8e105",
   "metadata": {},
   "outputs": [
    {
     "name": "stdout",
     "output_type": "stream",
     "text": [
      "My name is ramesh pradhan\n"
     ]
    }
   ],
   "source": [
    "first_name = \"ramesh\"\n",
    "last_name = \"pradhan\"\n",
    "\n",
    "print(\"My name is {x} {y}\".format(\n",
    "    x=first_name,\n",
    "    y=last_name))"
   ]
  },
  {
   "cell_type": "code",
   "execution_count": 30,
   "id": "bd323bb5",
   "metadata": {},
   "outputs": [
    {
     "name": "stdout",
     "output_type": "stream",
     "text": [
      "My name is ramesh pradhan\n"
     ]
    }
   ],
   "source": [
    "first_name = \"ramesh\"\n",
    "last_name = \"pradhan\"\n",
    "\n",
    "print(\"My name is {} {}\".format(first_name,last_name))"
   ]
  },
  {
   "cell_type": "code",
   "execution_count": 31,
   "id": "660fa92a",
   "metadata": {},
   "outputs": [
    {
     "name": "stdout",
     "output_type": "stream",
     "text": [
      "Enter first name: Ram\n",
      "Enter last name: Hari\n",
      "My name is Ram Hari\n"
     ]
    }
   ],
   "source": [
    "first_name = input(\"Enter first name: \")\n",
    "last_name = input(\"Enter last name: \")\n",
    "\n",
    "print(f\"My name is {first_name} {last_name}\") \n",
    "# f-string => string interpolation"
   ]
  },
  {
   "cell_type": "code",
   "execution_count": 32,
   "id": "0a1f6d14",
   "metadata": {},
   "outputs": [
    {
     "name": "stdout",
     "output_type": "stream",
     "text": [
      "Enter first number: 3\n",
      "Enter last number: 4\n",
      "The sum of 3 and 4 is 34\n"
     ]
    }
   ],
   "source": [
    "num1 = input(\"Enter first number: \")\n",
    "num2 = input(\"Enter last number: \")\n",
    "\n",
    "sum = num1 + num2\n",
    "\n",
    "print(f\"The sum of {num1} and {num2} is {sum}\")"
   ]
  },
  {
   "cell_type": "code",
   "execution_count": 36,
   "id": "d7fd4626",
   "metadata": {},
   "outputs": [
    {
     "name": "stdout",
     "output_type": "stream",
     "text": [
      "Enter first number: 3\n",
      "Enter last number: 4\n",
      "The sum of 3 and 4 is 7\n"
     ]
    }
   ],
   "source": [
    "num1 = int(input(\"Enter first number: \"))\n",
    "num2 = int(input(\"Enter last number: \"))\n",
    "\n",
    "sum = num1 + num2\n",
    "\n",
    "print(f\"The sum of {num1} and {num2} is {sum}\")"
   ]
  },
  {
   "cell_type": "code",
   "execution_count": 38,
   "id": "f6b97a4a",
   "metadata": {},
   "outputs": [
    {
     "name": "stdout",
     "output_type": "stream",
     "text": [
      "Enter the principle: 400000\n",
      "Enter the rate: 10\n",
      "Enter the time: 5\n",
      "The SI is: 200000.0\n"
     ]
    }
   ],
   "source": [
    "p = float(input(\"Enter the principle: \"))\n",
    "r = float(input(\"Enter the rate: \"))\n",
    "t = float(input(\"Enter the time: \"))\n",
    "\n",
    "i = (p*t*r) / 100\n",
    "\n",
    "print(f\"The SI is: {i}\")\n"
   ]
  },
  {
   "cell_type": "code",
   "execution_count": 42,
   "id": "d34e4874",
   "metadata": {},
   "outputs": [
    {
     "name": "stdout",
     "output_type": "stream",
     "text": [
      "The sum of 1 and 2 is 3\n"
     ]
    }
   ],
   "source": [
    "x = 1\n",
    "y = 2\n",
    "\n",
    "sum = x + y\n",
    "\n",
    "print(\"The sum of {0} and {1} is {2}\".format(y,x,sum))"
   ]
  },
  {
   "cell_type": "code",
   "execution_count": 41,
   "id": "27134e34",
   "metadata": {},
   "outputs": [
    {
     "name": "stdout",
     "output_type": "stream",
     "text": [
      "Enter number: 55\n",
      "The number is:55\n",
      "Output number in octal format : 67\n",
      "Output number in binary format: 110111\n",
      "Output number in hexadecimal format: 37\n"
     ]
    }
   ],
   "source": [
    "number = int(input(\"Enter number: \"))\n",
    "\n",
    "# 'd' is for integer number formatting\n",
    "print(\"The number is:{:d}\".format(number))\n",
    "\n",
    "# 'o' is for octal number formatting, binary and hexadecimal format\n",
    "print('Output number in octal format : {:o}'.format(number))\n",
    "\n",
    "# 'b' is for binary number formatting\n",
    "print('Output number in binary format: {:b}'.format(number))\n",
    "\n",
    "# 'x' is for hexadecimal format\n",
    "print('Output number in hexadecimal format: {:x}'.format(number))"
   ]
  },
  {
   "cell_type": "code",
   "execution_count": 43,
   "id": "9a5425e5",
   "metadata": {},
   "outputs": [
    {
     "name": "stdout",
     "output_type": "stream",
     "text": [
      "Enter number: 55\n",
      "The number is:55\n",
      "Output number in octal format : 67\n",
      "Output number in binary format: 110111\n",
      "Output number in hexadecimal format: 37\n"
     ]
    }
   ],
   "source": [
    "number = int(input(\"Enter number: \"))\n",
    "\n",
    "# 'd' is for integer number formatting\n",
    "print(f\"The number is:{number:d}\")\n",
    "\n",
    "# 'o' is for octal number formatting, binary and hexadecimal format\n",
    "print(f'Output number in octal format : {number:o}')\n",
    "\n",
    "# 'b' is for binary number formatting\n",
    "print(f'Output number in binary format: {number:b}')\n",
    "\n",
    "# 'x' is for hexadecimal format\n",
    "print(f'Output number in hexadecimal format: {number:x}')"
   ]
  },
  {
   "cell_type": "code",
   "execution_count": null,
   "id": "eb2a6d8e",
   "metadata": {},
   "outputs": [],
   "source": [
    "area_of_circle / perimeter\n",
    "area_of_rectangle / perimeter\n",
    "area_of_square / square"
   ]
  },
  {
   "cell_type": "code",
   "execution_count": 45,
   "id": "d660653d",
   "metadata": {},
   "outputs": [
    {
     "name": "stdout",
     "output_type": "stream",
     "text": [
      "16\n",
      "64\n"
     ]
    }
   ],
   "source": [
    "x = 4\n",
    "print(x ** 2)\n",
    "print(x ** 3)"
   ]
  },
  {
   "cell_type": "code",
   "execution_count": 48,
   "id": "7a726cef",
   "metadata": {},
   "outputs": [
    {
     "name": "stdout",
     "output_type": "stream",
     "text": [
      "enter the radius: 5\n",
      "78.53981633974483\n"
     ]
    }
   ],
   "source": [
    "import math\n",
    "\n",
    "r = int(input(\"enter the radius: \"))\n",
    "area_of_circle = math.pi * (r ** 2)\n",
    "print(area_of_circle)"
   ]
  },
  {
   "cell_type": "code",
   "execution_count": null,
   "id": "59ea9c8c",
   "metadata": {},
   "outputs": [],
   "source": []
  }
 ],
 "metadata": {
  "kernelspec": {
   "display_name": "Python 3 (ipykernel)",
   "language": "python",
   "name": "python3"
  },
  "language_info": {
   "codemirror_mode": {
    "name": "ipython",
    "version": 3
   },
   "file_extension": ".py",
   "mimetype": "text/x-python",
   "name": "python",
   "nbconvert_exporter": "python",
   "pygments_lexer": "ipython3",
   "version": "3.11.1"
  }
 },
 "nbformat": 4,
 "nbformat_minor": 5
}
