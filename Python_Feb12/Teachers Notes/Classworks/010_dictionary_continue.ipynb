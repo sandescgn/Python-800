{
 "cells": [
  {
   "cell_type": "code",
   "execution_count": 1,
   "id": "7c6078be",
   "metadata": {},
   "outputs": [
    {
     "name": "stdout",
     "output_type": "stream",
     "text": [
      "Help on class dict in module builtins:\n",
      "\n",
      "class dict(object)\n",
      " |  dict() -> new empty dictionary\n",
      " |  dict(mapping) -> new dictionary initialized from a mapping object's\n",
      " |      (key, value) pairs\n",
      " |  dict(iterable) -> new dictionary initialized as if via:\n",
      " |      d = {}\n",
      " |      for k, v in iterable:\n",
      " |          d[k] = v\n",
      " |  dict(**kwargs) -> new dictionary initialized with the name=value pairs\n",
      " |      in the keyword argument list.  For example:  dict(one=1, two=2)\n",
      " |  \n",
      " |  Built-in subclasses:\n",
      " |      StgDict\n",
      " |  \n",
      " |  Methods defined here:\n",
      " |  \n",
      " |  __contains__(self, key, /)\n",
      " |      True if the dictionary has the specified key, else False.\n",
      " |  \n",
      " |  __delitem__(self, key, /)\n",
      " |      Delete self[key].\n",
      " |  \n",
      " |  __eq__(self, value, /)\n",
      " |      Return self==value.\n",
      " |  \n",
      " |  __ge__(self, value, /)\n",
      " |      Return self>=value.\n",
      " |  \n",
      " |  __getattribute__(self, name, /)\n",
      " |      Return getattr(self, name).\n",
      " |  \n",
      " |  __getitem__(...)\n",
      " |      x.__getitem__(y) <==> x[y]\n",
      " |  \n",
      " |  __gt__(self, value, /)\n",
      " |      Return self>value.\n",
      " |  \n",
      " |  __init__(self, /, *args, **kwargs)\n",
      " |      Initialize self.  See help(type(self)) for accurate signature.\n",
      " |  \n",
      " |  __ior__(self, value, /)\n",
      " |      Return self|=value.\n",
      " |  \n",
      " |  __iter__(self, /)\n",
      " |      Implement iter(self).\n",
      " |  \n",
      " |  __le__(self, value, /)\n",
      " |      Return self<=value.\n",
      " |  \n",
      " |  __len__(self, /)\n",
      " |      Return len(self).\n",
      " |  \n",
      " |  __lt__(self, value, /)\n",
      " |      Return self<value.\n",
      " |  \n",
      " |  __ne__(self, value, /)\n",
      " |      Return self!=value.\n",
      " |  \n",
      " |  __or__(self, value, /)\n",
      " |      Return self|value.\n",
      " |  \n",
      " |  __repr__(self, /)\n",
      " |      Return repr(self).\n",
      " |  \n",
      " |  __reversed__(self, /)\n",
      " |      Return a reverse iterator over the dict keys.\n",
      " |  \n",
      " |  __ror__(self, value, /)\n",
      " |      Return value|self.\n",
      " |  \n",
      " |  __setitem__(self, key, value, /)\n",
      " |      Set self[key] to value.\n",
      " |  \n",
      " |  __sizeof__(...)\n",
      " |      D.__sizeof__() -> size of D in memory, in bytes\n",
      " |  \n",
      " |  clear(...)\n",
      " |      D.clear() -> None.  Remove all items from D.\n",
      " |  \n",
      " |  copy(...)\n",
      " |      D.copy() -> a shallow copy of D\n",
      " |  \n",
      " |  get(self, key, default=None, /)\n",
      " |      Return the value for key if key is in the dictionary, else default.\n",
      " |  \n",
      " |  items(...)\n",
      " |      D.items() -> a set-like object providing a view on D's items\n",
      " |  \n",
      " |  keys(...)\n",
      " |      D.keys() -> a set-like object providing a view on D's keys\n",
      " |  \n",
      " |  pop(...)\n",
      " |      D.pop(k[,d]) -> v, remove specified key and return the corresponding value.\n",
      " |      \n",
      " |      If the key is not found, return the default if given; otherwise,\n",
      " |      raise a KeyError.\n",
      " |  \n",
      " |  popitem(self, /)\n",
      " |      Remove and return a (key, value) pair as a 2-tuple.\n",
      " |      \n",
      " |      Pairs are returned in LIFO (last-in, first-out) order.\n",
      " |      Raises KeyError if the dict is empty.\n",
      " |  \n",
      " |  setdefault(self, key, default=None, /)\n",
      " |      Insert key with a value of default if key is not in the dictionary.\n",
      " |      \n",
      " |      Return the value for key if key is in the dictionary, else default.\n",
      " |  \n",
      " |  update(...)\n",
      " |      D.update([E, ]**F) -> None.  Update D from dict/iterable E and F.\n",
      " |      If E is present and has a .keys() method, then does:  for k in E: D[k] = E[k]\n",
      " |      If E is present and lacks a .keys() method, then does:  for k, v in E: D[k] = v\n",
      " |      In either case, this is followed by: for k in F:  D[k] = F[k]\n",
      " |  \n",
      " |  values(...)\n",
      " |      D.values() -> an object providing a view on D's values\n",
      " |  \n",
      " |  ----------------------------------------------------------------------\n",
      " |  Class methods defined here:\n",
      " |  \n",
      " |  __class_getitem__(...) from builtins.type\n",
      " |      See PEP 585\n",
      " |  \n",
      " |  fromkeys(iterable, value=None, /) from builtins.type\n",
      " |      Create a new dictionary with keys from iterable and values set to value.\n",
      " |  \n",
      " |  ----------------------------------------------------------------------\n",
      " |  Static methods defined here:\n",
      " |  \n",
      " |  __new__(*args, **kwargs) from builtins.type\n",
      " |      Create and return a new object.  See help(type) for accurate signature.\n",
      " |  \n",
      " |  ----------------------------------------------------------------------\n",
      " |  Data and other attributes defined here:\n",
      " |  \n",
      " |  __hash__ = None\n",
      "\n"
     ]
    }
   ],
   "source": [
    "help(dict)"
   ]
  },
  {
   "cell_type": "code",
   "execution_count": 2,
   "id": "ba1e3ecb",
   "metadata": {},
   "outputs": [
    {
     "data": {
      "text/plain": [
       "{'id': 1,\n",
       " 'name': 'ram',\n",
       " 'mobile': 923423423,\n",
       " 'address': 'ktm',\n",
       " 'salary': 23423.2342,\n",
       " 'email': 'hello@gmail.com',\n",
       " 'phone': 9234234,\n",
       " 'hello': 'hello'}"
      ]
     },
     "execution_count": 2,
     "metadata": {},
     "output_type": "execute_result"
    }
   ],
   "source": [
    "person = {\n",
    "    \"id\":1,\n",
    "    \"name\":'ram',\n",
    "    'mobile':923423423,\n",
    "    'address':'ktm',\n",
    "    'salary':23423.2342,\n",
    "    'email':'hello@gmail.com'\n",
    "}\n",
    "\n",
    "person['phone'] = 9234234\n",
    "person['hello'] = 'hello'\n",
    "\n",
    "person"
   ]
  },
  {
   "cell_type": "code",
   "execution_count": 3,
   "id": "d47d5e45",
   "metadata": {},
   "outputs": [
    {
     "data": {
      "text/plain": [
       "{'id': 1,\n",
       " 'name': 'ram',\n",
       " 'mobile': 923423423,\n",
       " 'address': 'ktm',\n",
       " 'salary': 23423.2342,\n",
       " 'email': 'hello@gmail.com',\n",
       " 'phone': 932432423,\n",
       " 'hello': 'hello'}"
      ]
     },
     "execution_count": 3,
     "metadata": {},
     "output_type": "execute_result"
    }
   ],
   "source": [
    "person = {\n",
    "    \"id\":1,\n",
    "    \"name\":'ram',\n",
    "    'mobile':923423423,\n",
    "    'address':'ktm',\n",
    "    'salary':23423.2342,\n",
    "    'email':'hello@gmail.com'\n",
    "}\n",
    "\n",
    "person.update({\"phone\":932432423, \"hello\":\"hello\"})\n",
    "person"
   ]
  },
  {
   "cell_type": "code",
   "execution_count": 4,
   "id": "aeb126b5",
   "metadata": {},
   "outputs": [
    {
     "data": {
      "text/plain": [
       "dict_values([1, 'ram', 923423423, 'ktm', 23423.2342, 'hello@gmail.com', 932432423, 'hello'])"
      ]
     },
     "execution_count": 4,
     "metadata": {},
     "output_type": "execute_result"
    }
   ],
   "source": [
    "person.values()"
   ]
  },
  {
   "cell_type": "code",
   "execution_count": 5,
   "id": "7b73ef61",
   "metadata": {},
   "outputs": [
    {
     "data": {
      "text/plain": [
       "False"
      ]
     },
     "execution_count": 5,
     "metadata": {},
     "output_type": "execute_result"
    }
   ],
   "source": [
    "person = {\n",
    "    \"id\":1,\n",
    "    \"name\":'ram',\n",
    "    'mobile':923423423,\n",
    "    'address':'ktm',\n",
    "    'salary':23423.2342,\n",
    "    'email':'hello@gmail.com'\n",
    "}\n",
    "\n",
    "\"hello\" in person # looks in keys. not in values."
   ]
  },
  {
   "cell_type": "code",
   "execution_count": 6,
   "id": "70bd8f60",
   "metadata": {},
   "outputs": [
    {
     "data": {
      "text/plain": [
       "True"
      ]
     },
     "execution_count": 6,
     "metadata": {},
     "output_type": "execute_result"
    }
   ],
   "source": [
    "\"mobile\" in person"
   ]
  },
  {
   "cell_type": "code",
   "execution_count": 7,
   "id": "01353625",
   "metadata": {},
   "outputs": [
    {
     "name": "stdout",
     "output_type": "stream",
     "text": [
      "id\n",
      "name\n",
      "mobile\n",
      "address\n",
      "salary\n",
      "email\n"
     ]
    }
   ],
   "source": [
    "for i in person: # loops on keys\n",
    "    print(i)"
   ]
  },
  {
   "cell_type": "code",
   "execution_count": 8,
   "id": "c45a6151",
   "metadata": {},
   "outputs": [
    {
     "name": "stdout",
     "output_type": "stream",
     "text": [
      "id\n",
      "name\n",
      "mobile\n",
      "address\n",
      "salary\n",
      "email\n"
     ]
    }
   ],
   "source": [
    "for i in person.keys(): # loops on keys\n",
    "    print(i)"
   ]
  },
  {
   "cell_type": "code",
   "execution_count": 9,
   "id": "93e783ac",
   "metadata": {},
   "outputs": [
    {
     "name": "stdout",
     "output_type": "stream",
     "text": [
      "1\n",
      "ram\n",
      "923423423\n",
      "ktm\n",
      "23423.2342\n",
      "hello@gmail.com\n"
     ]
    }
   ],
   "source": [
    "for i in person.values(): # loops on values\n",
    "    print(i)"
   ]
  },
  {
   "cell_type": "code",
   "execution_count": 10,
   "id": "32db6617",
   "metadata": {},
   "outputs": [
    {
     "data": {
      "text/plain": [
       "dict_items([('id', 1), ('name', 'ram'), ('mobile', 923423423), ('address', 'ktm'), ('salary', 23423.2342), ('email', 'hello@gmail.com')])"
      ]
     },
     "execution_count": 10,
     "metadata": {},
     "output_type": "execute_result"
    }
   ],
   "source": [
    "person.items()"
   ]
  },
  {
   "cell_type": "code",
   "execution_count": 11,
   "id": "d62f34be",
   "metadata": {},
   "outputs": [
    {
     "name": "stdout",
     "output_type": "stream",
     "text": [
      "('id', 1)\n",
      "('name', 'ram')\n",
      "('mobile', 923423423)\n",
      "('address', 'ktm')\n",
      "('salary', 23423.2342)\n",
      "('email', 'hello@gmail.com')\n"
     ]
    }
   ],
   "source": [
    "for i in person.items(): # loops on keys and values\n",
    "    print(i)"
   ]
  },
  {
   "cell_type": "code",
   "execution_count": 12,
   "id": "1b26778b",
   "metadata": {},
   "outputs": [
    {
     "name": "stdout",
     "output_type": "stream",
     "text": [
      "<class 'dict'>\n"
     ]
    }
   ],
   "source": [
    "x = {}\n",
    "\n",
    "print(type(x))"
   ]
  },
  {
   "cell_type": "code",
   "execution_count": 13,
   "id": "7cd2f1e5",
   "metadata": {},
   "outputs": [
    {
     "name": "stdout",
     "output_type": "stream",
     "text": [
      "<class 'dict'>\n"
     ]
    }
   ],
   "source": [
    "x = dict()\n",
    "\n",
    "print(type(x))"
   ]
  },
  {
   "cell_type": "code",
   "execution_count": 15,
   "id": "c30af6d3",
   "metadata": {},
   "outputs": [
    {
     "name": "stdout",
     "output_type": "stream",
     "text": [
      "{1, 2, 3, 34.5, 4, 5, 6, 'hello'}\n"
     ]
    }
   ],
   "source": [
    "# order is not maintained in set\n",
    "# removes duplicate items\n",
    "x = {1, 'hello', 34.5, 2,3, 4,5,6,1,2,3,4}\n",
    "print(x)"
   ]
  },
  {
   "cell_type": "code",
   "execution_count": 16,
   "id": "75be90ac",
   "metadata": {},
   "outputs": [
    {
     "ename": "TypeError",
     "evalue": "unhashable type: 'list'",
     "output_type": "error",
     "traceback": [
      "\u001b[0;31m---------------------------------------------------------------------------\u001b[0m",
      "\u001b[0;31mTypeError\u001b[0m                                 Traceback (most recent call last)",
      "Cell \u001b[0;32mIn[16], line 3\u001b[0m\n\u001b[1;32m      1\u001b[0m \u001b[38;5;66;03m# order is not maintained in set\u001b[39;00m\n\u001b[1;32m      2\u001b[0m \u001b[38;5;66;03m# removes duplicate items\u001b[39;00m\n\u001b[0;32m----> 3\u001b[0m x \u001b[38;5;241m=\u001b[39m {\u001b[38;5;241m1\u001b[39m, \u001b[38;5;124m'\u001b[39m\u001b[38;5;124mhello\u001b[39m\u001b[38;5;124m'\u001b[39m, \u001b[38;5;241m34.5\u001b[39m, \u001b[38;5;241m2\u001b[39m,\u001b[38;5;241m3\u001b[39m, \u001b[38;5;241m4\u001b[39m,\u001b[38;5;241m5\u001b[39m,\u001b[38;5;241m6\u001b[39m,\u001b[38;5;241m1\u001b[39m,\u001b[38;5;241m2\u001b[39m,\u001b[38;5;241m3\u001b[39m,\u001b[38;5;241m4\u001b[39m,[\u001b[38;5;241m1\u001b[39m,\u001b[38;5;241m2\u001b[39m,\u001b[38;5;241m3\u001b[39m]}\n\u001b[1;32m      4\u001b[0m \u001b[38;5;28mprint\u001b[39m(x)\n",
      "\u001b[0;31mTypeError\u001b[0m: unhashable type: 'list'"
     ]
    }
   ],
   "source": [
    "# order is not maintained in set\n",
    "# removes duplicate items\n",
    "# cannot store mutable datatype => non-hashable\n",
    "x = {1, 'hello', 34.5, 2,3, 4,5,6,1,2,3,4,[1,2,3]}\n",
    "print(x)"
   ]
  },
  {
   "cell_type": "code",
   "execution_count": 18,
   "id": "16c538a0",
   "metadata": {},
   "outputs": [
    {
     "name": "stdout",
     "output_type": "stream",
     "text": [
      "{1, 2, 3, 34.5, 4, 5, 6, 'hello', (1, 2, 30)}\n"
     ]
    }
   ],
   "source": [
    "# order is not maintained in set\n",
    "# removes duplicate items\n",
    "# cannot store mutable datatype => non-hashable\n",
    "x = {1, 'hello', 34.5, 2,3, 4,5,6,1,2,3,4,(1,2,30)}\n",
    "print(x)"
   ]
  },
  {
   "cell_type": "code",
   "execution_count": 19,
   "id": "0038c215",
   "metadata": {},
   "outputs": [
    {
     "ename": "TypeError",
     "evalue": "'set' object is not subscriptable",
     "output_type": "error",
     "traceback": [
      "\u001b[0;31m---------------------------------------------------------------------------\u001b[0m",
      "\u001b[0;31mTypeError\u001b[0m                                 Traceback (most recent call last)",
      "Cell \u001b[0;32mIn[19], line 1\u001b[0m\n\u001b[0;32m----> 1\u001b[0m \u001b[38;5;28mprint\u001b[39m(\u001b[43mx\u001b[49m\u001b[43m[\u001b[49m\u001b[38;5;241;43m0\u001b[39;49m\u001b[43m]\u001b[49m)\n",
      "\u001b[0;31mTypeError\u001b[0m: 'set' object is not subscriptable"
     ]
    }
   ],
   "source": [
    "print(x[0]) # cannot access from index"
   ]
  },
  {
   "cell_type": "code",
   "execution_count": 20,
   "id": "f90f6806",
   "metadata": {},
   "outputs": [
    {
     "name": "stdout",
     "output_type": "stream",
     "text": [
      "<class 'set'>\n"
     ]
    }
   ],
   "source": [
    "x = set()\n",
    "\n",
    "print(type(x))"
   ]
  },
  {
   "cell_type": "code",
   "execution_count": 22,
   "id": "1a657a93",
   "metadata": {},
   "outputs": [
    {
     "name": "stdout",
     "output_type": "stream",
     "text": [
      "{1, 2, 3, 34.5, 4, 5, 6, 7, 'hello', (1, 2, 30)}\n"
     ]
    }
   ],
   "source": [
    "x = {1, 'hello', 34.5, 2,3, 4,5,6,1,2,3,4,(1,2,30)}\n",
    "\n",
    "x.add(7) # only one item \n",
    "\n",
    "print(x)"
   ]
  },
  {
   "cell_type": "code",
   "execution_count": 23,
   "id": "0b67fddd",
   "metadata": {},
   "outputs": [
    {
     "name": "stdout",
     "output_type": "stream",
     "text": [
      "{1, 2, 3, 34.5, 4, 5, 6, 234, 'hello', 45, (1, 2, 30)}\n"
     ]
    }
   ],
   "source": [
    "x = {1, 'hello', 34.5, 2,3, 4,5,6,1,2,3,4,(1,2,30)}\n",
    "\n",
    "x.update([1,2,3,4,45,234,234,]) # multiple items\n",
    "print(x)"
   ]
  },
  {
   "cell_type": "code",
   "execution_count": 24,
   "id": "e14be25d",
   "metadata": {},
   "outputs": [
    {
     "name": "stdout",
     "output_type": "stream",
     "text": [
      "{1, 2, 3, 34.5, 4, 5, 6, 34, 234, 'hello', 12, 45, (1, 2, 30)}\n"
     ]
    }
   ],
   "source": [
    "x = {1, 'hello', 34.5, 2,3, 4,5,6,1,2,3,4,(1,2,30)}\n",
    "\n",
    "x.update([1,2,3,4,45,234,234,], (1,2,3,4), {4,12,34}) # multiple items\n",
    "print(x)"
   ]
  },
  {
   "cell_type": "code",
   "execution_count": 25,
   "id": "a1bf681e",
   "metadata": {},
   "outputs": [
    {
     "name": "stdout",
     "output_type": "stream",
     "text": [
      "Help on method_descriptor:\n",
      "\n",
      "update(...)\n",
      "    Update a set with the union of itself and others.\n",
      "\n"
     ]
    }
   ],
   "source": [
    "help(set.update)"
   ]
  },
  {
   "cell_type": "code",
   "execution_count": 26,
   "id": "92a9c379",
   "metadata": {},
   "outputs": [
    {
     "name": "stdout",
     "output_type": "stream",
     "text": [
      "{2, 3, 34.5, 4, 5, 6, 'hello', (1, 2, 30)}\n"
     ]
    }
   ],
   "source": [
    "x = {1, 'hello', 34.5, 2,3, 4,5,6,1,2,3,4,(1,2,30)}\n",
    "\n",
    "x.remove(1)\n",
    "\n",
    "print(x)"
   ]
  },
  {
   "cell_type": "code",
   "execution_count": 27,
   "id": "c9df6466",
   "metadata": {},
   "outputs": [
    {
     "ename": "KeyError",
     "evalue": "11",
     "output_type": "error",
     "traceback": [
      "\u001b[0;31m---------------------------------------------------------------------------\u001b[0m",
      "\u001b[0;31mKeyError\u001b[0m                                  Traceback (most recent call last)",
      "Cell \u001b[0;32mIn[27], line 3\u001b[0m\n\u001b[1;32m      1\u001b[0m x \u001b[38;5;241m=\u001b[39m {\u001b[38;5;241m1\u001b[39m, \u001b[38;5;124m'\u001b[39m\u001b[38;5;124mhello\u001b[39m\u001b[38;5;124m'\u001b[39m, \u001b[38;5;241m34.5\u001b[39m, \u001b[38;5;241m2\u001b[39m,\u001b[38;5;241m3\u001b[39m, \u001b[38;5;241m4\u001b[39m,\u001b[38;5;241m5\u001b[39m,\u001b[38;5;241m6\u001b[39m,\u001b[38;5;241m1\u001b[39m,\u001b[38;5;241m2\u001b[39m,\u001b[38;5;241m3\u001b[39m,\u001b[38;5;241m4\u001b[39m,(\u001b[38;5;241m1\u001b[39m,\u001b[38;5;241m2\u001b[39m,\u001b[38;5;241m30\u001b[39m)}\n\u001b[0;32m----> 3\u001b[0m \u001b[43mx\u001b[49m\u001b[38;5;241;43m.\u001b[39;49m\u001b[43mremove\u001b[49m\u001b[43m(\u001b[49m\u001b[38;5;241;43m11\u001b[39;49m\u001b[43m)\u001b[49m\n\u001b[1;32m      5\u001b[0m \u001b[38;5;28mprint\u001b[39m(x)\n",
      "\u001b[0;31mKeyError\u001b[0m: 11"
     ]
    }
   ],
   "source": [
    "x = {1, 'hello', 34.5, 2,3, 4,5,6,1,2,3,4,(1,2,30)}\n",
    "\n",
    "x.remove(11)\n",
    "\n",
    "print(x)"
   ]
  },
  {
   "cell_type": "code",
   "execution_count": 28,
   "id": "c5093d97",
   "metadata": {},
   "outputs": [
    {
     "name": "stdout",
     "output_type": "stream",
     "text": [
      "{2, 3, 34.5, 4, 5, 6, 'hello', (1, 2, 30)}\n"
     ]
    }
   ],
   "source": [
    "x = {1, 'hello', 34.5, 2,3, 4,5,6,1,2,3,4,(1,2,30)}\n",
    "\n",
    "x.discard(1)\n",
    "\n",
    "print(x)"
   ]
  },
  {
   "cell_type": "code",
   "execution_count": 29,
   "id": "63a48d0d",
   "metadata": {},
   "outputs": [
    {
     "name": "stdout",
     "output_type": "stream",
     "text": [
      "{1, 2, 3, 34.5, 4, 5, 6, 'hello', (1, 2, 30)}\n"
     ]
    }
   ],
   "source": [
    "x = {1, 'hello', 34.5, 2,3, 4,5,6,1,2,3,4,(1,2,30)}\n",
    "\n",
    "x.discard(11)\n",
    "\n",
    "print(x)"
   ]
  },
  {
   "cell_type": "code",
   "execution_count": 31,
   "id": "418ffb01",
   "metadata": {},
   "outputs": [
    {
     "name": "stdout",
     "output_type": "stream",
     "text": [
      "Help on built-in function pop:\n",
      "\n",
      "pop(...) method of builtins.set instance\n",
      "    Remove and return an arbitrary set element.\n",
      "    Raises KeyError if the set is empty.\n",
      "\n"
     ]
    }
   ],
   "source": [
    "help(x.pop)"
   ]
  },
  {
   "cell_type": "code",
   "execution_count": 35,
   "id": "a9a5118d",
   "metadata": {},
   "outputs": [
    {
     "name": "stdout",
     "output_type": "stream",
     "text": [
      "{2, 3, 34.5, 4, 5, 6, 'hello', (1, 2, 30)}\n"
     ]
    }
   ],
   "source": [
    "x = {1, 'hello', 34.5, 2,3, 4,5,6,1,2,3,4,(1,2,30)}\n",
    "\n",
    "x.pop()\n",
    "\n",
    "print(x)"
   ]
  },
  {
   "cell_type": "code",
   "execution_count": 32,
   "id": "cf775921",
   "metadata": {},
   "outputs": [
    {
     "ename": "KeyError",
     "evalue": "'pop from an empty set'",
     "output_type": "error",
     "traceback": [
      "\u001b[0;31m---------------------------------------------------------------------------\u001b[0m",
      "\u001b[0;31mKeyError\u001b[0m                                  Traceback (most recent call last)",
      "Cell \u001b[0;32mIn[32], line 3\u001b[0m\n\u001b[1;32m      1\u001b[0m x \u001b[38;5;241m=\u001b[39m \u001b[38;5;28mset\u001b[39m()\n\u001b[0;32m----> 3\u001b[0m \u001b[43mx\u001b[49m\u001b[38;5;241;43m.\u001b[39;49m\u001b[43mpop\u001b[49m\u001b[43m(\u001b[49m\u001b[43m)\u001b[49m\n",
      "\u001b[0;31mKeyError\u001b[0m: 'pop from an empty set'"
     ]
    }
   ],
   "source": [
    "x = set()\n",
    "\n",
    "x.pop()"
   ]
  },
  {
   "cell_type": "code",
   "execution_count": 33,
   "id": "92c77764",
   "metadata": {},
   "outputs": [
    {
     "name": "stdout",
     "output_type": "stream",
     "text": [
      "set()\n"
     ]
    }
   ],
   "source": [
    "x = {1, 'hello', 34.5, 2,3, 4,5,6,1,2,3,4,(1,2,30)}\n",
    "\n",
    "x.clear()\n",
    "\n",
    "print(x)"
   ]
  },
  {
   "cell_type": "code",
   "execution_count": 38,
   "id": "4e245880",
   "metadata": {},
   "outputs": [
    {
     "name": "stdout",
     "output_type": "stream",
     "text": [
      "4392513856\n",
      "{'ram', 'sita', 'hari', 'shyam', 'gita'}\n"
     ]
    }
   ],
   "source": [
    "tea = {'ram', 'shyam', 'gita'}\n",
    "coffee = {'sita', 'hari'}\n",
    "\n",
    "tea_or_coffee = tea | coffee # union\n",
    "print(id(tea_or_coffee))\n",
    "\n",
    "print(tea_or_coffee)"
   ]
  },
  {
   "cell_type": "code",
   "execution_count": 39,
   "id": "3c7ec311",
   "metadata": {},
   "outputs": [
    {
     "name": "stdout",
     "output_type": "stream",
     "text": [
      "4377093152\n",
      "{'ram', 'sita', 'hari', 'shyam', 'gita'}\n"
     ]
    }
   ],
   "source": [
    "tea = {'ram', 'shyam', 'gita'}\n",
    "coffee = {'sita', 'hari'}\n",
    "\n",
    "tea_or_coffee = tea.union(coffee) # union\n",
    "print(id(tea_or_coffee))\n",
    "\n",
    "print(tea_or_coffee)"
   ]
  },
  {
   "cell_type": "code",
   "execution_count": 40,
   "id": "06d3b994",
   "metadata": {},
   "outputs": [
    {
     "name": "stdout",
     "output_type": "stream",
     "text": [
      "{'ram'}\n"
     ]
    }
   ],
   "source": [
    "tea = {'ram', 'shyam', 'gita'}\n",
    "coffee = {'sita', 'hari', 'ram'}\n",
    "\n",
    "tea_and_coffee = tea & coffee # intersection\n",
    "\n",
    "print(tea_and_coffee)"
   ]
  },
  {
   "cell_type": "code",
   "execution_count": 41,
   "id": "1eb80668",
   "metadata": {},
   "outputs": [
    {
     "name": "stdout",
     "output_type": "stream",
     "text": [
      "{'ram'}\n"
     ]
    }
   ],
   "source": [
    "tea = {'ram', 'shyam', 'gita'}\n",
    "coffee = {'sita', 'hari', 'ram'}\n",
    "\n",
    "tea_and_coffee = tea.intersection(coffee) # intersection\n",
    "\n",
    "print(tea_and_coffee)"
   ]
  },
  {
   "cell_type": "code",
   "execution_count": 42,
   "id": "d814e632",
   "metadata": {},
   "outputs": [
    {
     "name": "stdout",
     "output_type": "stream",
     "text": [
      "{'shyam', 'gita'}\n"
     ]
    }
   ],
   "source": [
    "tea = {'ram', 'shyam', 'gita'}\n",
    "coffee = {'sita', 'hari', 'ram'}\n",
    "\n",
    "tea_only = tea - coffee # difference\n",
    "\n",
    "print(tea_only)"
   ]
  },
  {
   "cell_type": "code",
   "execution_count": 43,
   "id": "6c4a9eae",
   "metadata": {},
   "outputs": [
    {
     "name": "stdout",
     "output_type": "stream",
     "text": [
      "{'shyam', 'gita'}\n"
     ]
    }
   ],
   "source": [
    "tea = {'ram', 'shyam', 'gita'}\n",
    "coffee = {'sita', 'hari', 'ram'}\n",
    "\n",
    "tea_only = tea.difference(coffee) # difference\n",
    "\n",
    "print(tea_only)"
   ]
  },
  {
   "cell_type": "code",
   "execution_count": 44,
   "id": "b2854b32",
   "metadata": {},
   "outputs": [
    {
     "name": "stdout",
     "output_type": "stream",
     "text": [
      "{'sita', 'hari'}\n"
     ]
    }
   ],
   "source": [
    "tea = {'ram', 'shyam', 'gita'}\n",
    "coffee = {'sita', 'hari', 'ram'}\n",
    "\n",
    "coffee_only = coffee - tea # difference\n",
    "\n",
    "print(coffee_only)"
   ]
  },
  {
   "cell_type": "code",
   "execution_count": 45,
   "id": "66ed25dc",
   "metadata": {},
   "outputs": [
    {
     "name": "stdout",
     "output_type": "stream",
     "text": [
      "{'sita', 'hari', 'shyam', 'gita'}\n"
     ]
    }
   ],
   "source": [
    "tea = {'ram', 'shyam', 'gita'}\n",
    "coffee = {'sita', 'hari', 'ram'}\n",
    "\n",
    "tea_only_and_coffee_only = coffee ^ tea # symmetric difference\n",
    "\n",
    "print(tea_only_and_coffee_only)"
   ]
  },
  {
   "cell_type": "code",
   "execution_count": 46,
   "id": "866dd891",
   "metadata": {},
   "outputs": [
    {
     "name": "stdout",
     "output_type": "stream",
     "text": [
      "{'sita', 'hari', 'shyam', 'gita'}\n"
     ]
    }
   ],
   "source": [
    "tea = {'ram', 'shyam', 'gita'}\n",
    "coffee = {'sita', 'hari', 'ram'}\n",
    "\n",
    "tea_only_and_coffee_only = coffee.symmetric_difference(tea) # symmetric difference\n",
    "\n",
    "print(tea_only_and_coffee_only)"
   ]
  },
  {
   "cell_type": "code",
   "execution_count": 47,
   "id": "3b5c07d0",
   "metadata": {},
   "outputs": [
    {
     "data": {
      "text/plain": [
       "True"
      ]
     },
     "execution_count": 47,
     "metadata": {},
     "output_type": "execute_result"
    }
   ],
   "source": [
    "tea = {'ram', 'shyam', 'gita'}\n",
    "\n",
    "'ram' in tea"
   ]
  },
  {
   "cell_type": "code",
   "execution_count": 48,
   "id": "a2377a2a",
   "metadata": {},
   "outputs": [
    {
     "name": "stdout",
     "output_type": "stream",
     "text": [
      "ram\n",
      "shyam\n",
      "gita\n"
     ]
    }
   ],
   "source": [
    "for t in tea:\n",
    "    print(t)"
   ]
  },
  {
   "cell_type": "code",
   "execution_count": 49,
   "id": "fb659669",
   "metadata": {},
   "outputs": [
    {
     "name": "stdout",
     "output_type": "stream",
     "text": [
      "<class 'frozenset'>\n"
     ]
    }
   ],
   "source": [
    "x = frozenset({'ram', 'shyam', 'gita'}) # immutable\n",
    "\n",
    "print(type(x))"
   ]
  },
  {
   "cell_type": "code",
   "execution_count": 50,
   "id": "0bc99536",
   "metadata": {},
   "outputs": [
    {
     "ename": "AttributeError",
     "evalue": "'frozenset' object has no attribute 'pop'",
     "output_type": "error",
     "traceback": [
      "\u001b[0;31m---------------------------------------------------------------------------\u001b[0m",
      "\u001b[0;31mAttributeError\u001b[0m                            Traceback (most recent call last)",
      "Cell \u001b[0;32mIn[50], line 1\u001b[0m\n\u001b[0;32m----> 1\u001b[0m \u001b[43mx\u001b[49m\u001b[38;5;241;43m.\u001b[39;49m\u001b[43mpop\u001b[49m()\n",
      "\u001b[0;31mAttributeError\u001b[0m: 'frozenset' object has no attribute 'pop'"
     ]
    }
   ],
   "source": [
    "x.pop()"
   ]
  },
  {
   "cell_type": "code",
   "execution_count": null,
   "id": "a29806d1",
   "metadata": {},
   "outputs": [],
   "source": []
  }
 ],
 "metadata": {
  "kernelspec": {
   "display_name": "Python 3 (ipykernel)",
   "language": "python",
   "name": "python3"
  },
  "language_info": {
   "codemirror_mode": {
    "name": "ipython",
    "version": 3
   },
   "file_extension": ".py",
   "mimetype": "text/x-python",
   "name": "python",
   "nbconvert_exporter": "python",
   "pygments_lexer": "ipython3",
   "version": "3.11.1"
  }
 },
 "nbformat": 4,
 "nbformat_minor": 5
}
