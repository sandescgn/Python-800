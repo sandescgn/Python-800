{
 "cells": [
  {
   "cell_type": "code",
   "execution_count": 2,
   "id": "9b846dcc",
   "metadata": {},
   "outputs": [
    {
     "name": "stdout",
     "output_type": "stream",
     "text": [
      "2\n"
     ]
    }
   ],
   "source": [
    "x=5\n",
    "y=3\n",
    "m=x%y#remainder\n",
    "print(m)"
   ]
  },
  {
   "cell_type": "code",
   "execution_count": 3,
   "id": "7a7ce24e",
   "metadata": {},
   "outputs": [
    {
     "name": "stdout",
     "output_type": "stream",
     "text": [
      "8\n",
      "2\n",
      "15\n",
      "1.6666666666666667\n",
      "2\n"
     ]
    }
   ],
   "source": [
    "x=5\n",
    "y=3\n",
    "a=x+y\n",
    "s=x-y\n",
    "mul=x*y\n",
    "div=x/y\n",
    "m=x%y#remainder\n",
    "print(a)\n",
    "print(s)\n",
    "print(mul)\n",
    "print(div)\n",
    "print(m)"
   ]
  },
  {
   "cell_type": "code",
   "execution_count": 4,
   "id": "3b89e4f2",
   "metadata": {},
   "outputs": [
    {
     "name": "stdout",
     "output_type": "stream",
     "text": [
      "2\n"
     ]
    }
   ],
   "source": [
    "#floor division\n",
    "x=5\n",
    "y=2\n",
    "f=x//y\n",
    "print(f)"
   ]
  },
  {
   "cell_type": "code",
   "execution_count": 5,
   "id": "545cf11c",
   "metadata": {},
   "outputs": [
    {
     "name": "stdout",
     "output_type": "stream",
     "text": [
      "25\n",
      "3125\n"
     ]
    }
   ],
   "source": [
    "x=5\n",
    "print(x**2)#exponential or Power Operator\n",
    "print(x**5)"
   ]
  },
  {
   "cell_type": "code",
   "execution_count": 9,
   "id": "a7e3decb",
   "metadata": {},
   "outputs": [
    {
     "name": "stdout",
     "output_type": "stream",
     "text": [
      "False\n",
      "True\n",
      "False\n",
      "True\n"
     ]
    }
   ],
   "source": [
    "x=5\n",
    "y=2\n",
    "print(x<y)\n",
    "print(x>y)\n",
    "print(x==y)#equal to\n",
    "print(x!=y)#not equal to"
   ]
  },
  {
   "cell_type": "code",
   "execution_count": 10,
   "id": "0538493b",
   "metadata": {},
   "outputs": [
    {
     "name": "stdout",
     "output_type": "stream",
     "text": [
      "False\n"
     ]
    }
   ],
   "source": [
    "x=5\n",
    "y=2\n",
    "print(x<=y)#less than or equal to"
   ]
  },
  {
   "cell_type": "code",
   "execution_count": 11,
   "id": "ee32bcc9",
   "metadata": {},
   "outputs": [
    {
     "name": "stdout",
     "output_type": "stream",
     "text": [
      "True\n"
     ]
    }
   ],
   "source": [
    "x=0.5\n",
    "y=2\n",
    "print(x<=y)#less than or equal to"
   ]
  },
  {
   "cell_type": "code",
   "execution_count": 12,
   "id": "bf903adb",
   "metadata": {},
   "outputs": [
    {
     "name": "stdout",
     "output_type": "stream",
     "text": [
      "True\n"
     ]
    }
   ],
   "source": [
    "x=5\n",
    "y=2\n",
    "print(x>=y)#greater than or equal to"
   ]
  },
  {
   "cell_type": "code",
   "execution_count": 13,
   "id": "45254140",
   "metadata": {},
   "outputs": [
    {
     "name": "stdout",
     "output_type": "stream",
     "text": [
      "5\n"
     ]
    }
   ],
   "source": [
    "country= 'nepal' #string\n",
    "print(len(country))"
   ]
  },
  {
   "cell_type": "code",
   "execution_count": 14,
   "id": "e1f1e6ac",
   "metadata": {},
   "outputs": [
    {
     "data": {
      "text/plain": [
       "1"
      ]
     },
     "execution_count": 14,
     "metadata": {},
     "output_type": "execute_result"
    }
   ],
   "source": [
    "# or => 1 / True => True(any value should be 1)\n",
    "1 or 1"
   ]
  },
  {
   "cell_type": "code",
   "execution_count": 15,
   "id": "bab2fe9e",
   "metadata": {},
   "outputs": [
    {
     "data": {
      "text/plain": [
       "1"
      ]
     },
     "execution_count": 15,
     "metadata": {},
     "output_type": "execute_result"
    }
   ],
   "source": [
    "0 or 1"
   ]
  },
  {
   "cell_type": "code",
   "execution_count": 16,
   "id": "e7a6d80d",
   "metadata": {},
   "outputs": [
    {
     "data": {
      "text/plain": [
       "1"
      ]
     },
     "execution_count": 16,
     "metadata": {},
     "output_type": "execute_result"
    }
   ],
   "source": [
    "1 or 0"
   ]
  },
  {
   "cell_type": "code",
   "execution_count": 17,
   "id": "2d904125",
   "metadata": {},
   "outputs": [
    {
     "data": {
      "text/plain": [
       "0"
      ]
     },
     "execution_count": 17,
     "metadata": {},
     "output_type": "execute_result"
    }
   ],
   "source": [
    "0 or 0"
   ]
  },
  {
   "cell_type": "code",
   "execution_count": 20,
   "id": "191a7c35",
   "metadata": {},
   "outputs": [
    {
     "data": {
      "text/plain": [
       "0"
      ]
     },
     "execution_count": 20,
     "metadata": {},
     "output_type": "execute_result"
    }
   ],
   "source": [
    "# and => 0 / Fase => False(all value should be 1)\n",
    "0 and 1"
   ]
  },
  {
   "cell_type": "code",
   "execution_count": 21,
   "id": "8227d3eb",
   "metadata": {},
   "outputs": [
    {
     "data": {
      "text/plain": [
       "0"
      ]
     },
     "execution_count": 21,
     "metadata": {},
     "output_type": "execute_result"
    }
   ],
   "source": [
    "0 and 0\n"
   ]
  },
  {
   "cell_type": "code",
   "execution_count": 22,
   "id": "cf53d4ad",
   "metadata": {},
   "outputs": [
    {
     "data": {
      "text/plain": [
       "0"
      ]
     },
     "execution_count": 22,
     "metadata": {},
     "output_type": "execute_result"
    }
   ],
   "source": [
    "1 and 0"
   ]
  },
  {
   "cell_type": "code",
   "execution_count": 23,
   "id": "cdc7b54d",
   "metadata": {},
   "outputs": [
    {
     "data": {
      "text/plain": [
       "1"
      ]
     },
     "execution_count": 23,
     "metadata": {},
     "output_type": "execute_result"
    }
   ],
   "source": [
    "1 and 1"
   ]
  },
  {
   "cell_type": "code",
   "execution_count": 24,
   "id": "78ee4d95",
   "metadata": {},
   "outputs": [
    {
     "data": {
      "text/plain": [
       "False"
      ]
     },
     "execution_count": 24,
     "metadata": {},
     "output_type": "execute_result"
    }
   ],
   "source": [
    "not True"
   ]
  },
  {
   "cell_type": "code",
   "execution_count": 27,
   "id": "b99b75ca",
   "metadata": {},
   "outputs": [
    {
     "data": {
      "text/plain": [
       "True"
      ]
     },
     "execution_count": 27,
     "metadata": {},
     "output_type": "execute_result"
    }
   ],
   "source": [
    "not False"
   ]
  },
  {
   "cell_type": "code",
   "execution_count": 28,
   "id": "76baa827",
   "metadata": {},
   "outputs": [
    {
     "data": {
      "text/plain": [
       "True"
      ]
     },
     "execution_count": 28,
     "metadata": {},
     "output_type": "execute_result"
    }
   ],
   "source": [
    "not not True"
   ]
  },
  {
   "cell_type": "code",
   "execution_count": 29,
   "id": "93adf0ee",
   "metadata": {},
   "outputs": [
    {
     "data": {
      "text/plain": [
       "True"
      ]
     },
     "execution_count": 29,
     "metadata": {},
     "output_type": "execute_result"
    }
   ],
   "source": [
    "True and True or False"
   ]
  },
  {
   "cell_type": "code",
   "execution_count": 30,
   "id": "6baddb85",
   "metadata": {},
   "outputs": [
    {
     "data": {
      "text/plain": [
       "False"
      ]
     },
     "execution_count": 30,
     "metadata": {},
     "output_type": "execute_result"
    }
   ],
   "source": [
    "False and True or False"
   ]
  },
  {
   "cell_type": "code",
   "execution_count": 31,
   "id": "de9ce0c0",
   "metadata": {},
   "outputs": [
    {
     "data": {
      "text/plain": [
       "False"
      ]
     },
     "execution_count": 31,
     "metadata": {},
     "output_type": "execute_result"
    }
   ],
   "source": [
    "False or True and False"
   ]
  },
  {
   "cell_type": "code",
   "execution_count": 32,
   "id": "dd06d58a",
   "metadata": {},
   "outputs": [
    {
     "data": {
      "text/plain": [
       "True"
      ]
     },
     "execution_count": 32,
     "metadata": {},
     "output_type": "execute_result"
    }
   ],
   "source": [
    "False or True and True\n",
    "#and => or"
   ]
  },
  {
   "cell_type": "code",
   "execution_count": 33,
   "id": "58a0ba09",
   "metadata": {},
   "outputs": [
    {
     "data": {
      "text/plain": [
       "True"
      ]
     },
     "execution_count": 33,
     "metadata": {},
     "output_type": "execute_result"
    }
   ],
   "source": [
    "False and True or True\n"
   ]
  },
  {
   "cell_type": "code",
   "execution_count": 34,
   "id": "8fb7ce5c",
   "metadata": {},
   "outputs": [
    {
     "data": {
      "text/plain": [
       "False"
      ]
     },
     "execution_count": 34,
     "metadata": {},
     "output_type": "execute_result"
    }
   ],
   "source": [
    "False and True and True"
   ]
  },
  {
   "cell_type": "code",
   "execution_count": 35,
   "id": "6b7993a3",
   "metadata": {},
   "outputs": [
    {
     "data": {
      "text/plain": [
       "True"
      ]
     },
     "execution_count": 35,
     "metadata": {},
     "output_type": "execute_result"
    }
   ],
   "source": [
    "True or False and (True or False)#bracket =>and=> or"
   ]
  },
  {
   "cell_type": "code",
   "execution_count": 36,
   "id": "796b886b",
   "metadata": {},
   "outputs": [
    {
     "name": "stdout",
     "output_type": "stream",
     "text": [
      "True\n"
     ]
    }
   ],
   "source": [
    "x=1\n",
    "y=1\n",
    "print(x==y)"
   ]
  },
  {
   "cell_type": "code",
   "execution_count": 37,
   "id": "f932feb3",
   "metadata": {},
   "outputs": [
    {
     "name": "stdout",
     "output_type": "stream",
     "text": [
      "140718775137064\n",
      "140718775137064\n",
      "True\n"
     ]
    }
   ],
   "source": [
    "x=1\n",
    "y=1\n",
    "print(id(x))\n",
    "print(id(y))\n",
    "print(x is y)\n"
   ]
  },
  {
   "cell_type": "code",
   "execution_count": 38,
   "id": "cb23651c",
   "metadata": {},
   "outputs": [
    {
     "name": "stdout",
     "output_type": "stream",
     "text": [
      "1527678523472\n",
      "1527678524400\n",
      "False\n"
     ]
    }
   ],
   "source": [
    "x=500\n",
    "y=500\n",
    "print(id(x))\n",
    "print(id(y))\n",
    "print(x is y)"
   ]
  },
  {
   "cell_type": "code",
   "execution_count": 39,
   "id": "5b3d3f6e",
   "metadata": {},
   "outputs": [
    {
     "name": "stdout",
     "output_type": "stream",
     "text": [
      "140718775143432\n",
      "140718775143432\n",
      "True\n"
     ]
    }
   ],
   "source": [
    "x=200\n",
    "y=200\n",
    "print(id(x))\n",
    "print(id(y))\n",
    "print(x is y)"
   ]
  },
  {
   "cell_type": "code",
   "execution_count": 40,
   "id": "71f54e68",
   "metadata": {},
   "outputs": [
    {
     "name": "stdout",
     "output_type": "stream",
     "text": [
      "1527678524400\n",
      "1527678532176\n",
      "False\n"
     ]
    }
   ],
   "source": [
    "x=300\n",
    "y=300\n",
    "print(id(x))\n",
    "print(id(y))\n",
    "print(x is y)"
   ]
  },
  {
   "cell_type": "code",
   "execution_count": 41,
   "id": "d7a041e3",
   "metadata": {},
   "outputs": [
    {
     "name": "stdout",
     "output_type": "stream",
     "text": [
      "1527678525360\n",
      "1527678523696\n",
      "False\n"
     ]
    }
   ],
   "source": [
    "#0-256 => same address\n",
    "x=257\n",
    "y=257\n",
    "print(id(x))\n",
    "print(id(y))\n",
    "print(x is y)"
   ]
  },
  {
   "cell_type": "code",
   "execution_count": 42,
   "id": "395300e0",
   "metadata": {},
   "outputs": [
    {
     "name": "stdout",
     "output_type": "stream",
     "text": [
      "140718775145224\n",
      "140718775145224\n",
      "True\n"
     ]
    }
   ],
   "source": [
    "x=256\n",
    "y=256\n",
    "print(id(x))\n",
    "print(id(y))\n",
    "print(x is y)"
   ]
  },
  {
   "cell_type": "code",
   "execution_count": 43,
   "id": "1bc09794",
   "metadata": {},
   "outputs": [
    {
     "data": {
      "text/plain": [
       "-256"
      ]
     },
     "execution_count": 43,
     "metadata": {},
     "output_type": "execute_result"
    }
   ],
   "source": [
    "0-256"
   ]
  },
  {
   "cell_type": "code",
   "execution_count": 44,
   "id": "ba3071b4",
   "metadata": {},
   "outputs": [
    {
     "name": "stdout",
     "output_type": "stream",
     "text": [
      "140718775137192\n"
     ]
    }
   ],
   "source": [
    "print(id(5))"
   ]
  },
  {
   "cell_type": "code",
   "execution_count": 45,
   "id": "dbced8f9",
   "metadata": {},
   "outputs": [
    {
     "name": "stdout",
     "output_type": "stream",
     "text": [
      "140718775137192\n"
     ]
    }
   ],
   "source": [
    "x=5\n",
    "print(id(x))"
   ]
  },
  {
   "cell_type": "code",
   "execution_count": 46,
   "id": "29cfbf53",
   "metadata": {},
   "outputs": [
    {
     "data": {
      "text/plain": [
       "False"
      ]
     },
     "execution_count": 46,
     "metadata": {},
     "output_type": "execute_result"
    }
   ],
   "source": [
    "x=2\n",
    "y=2\n",
    "x is not y"
   ]
  },
  {
   "cell_type": "code",
   "execution_count": 47,
   "id": "891b25bb",
   "metadata": {},
   "outputs": [
    {
     "name": "stdout",
     "output_type": "stream",
     "text": [
      "True\n"
     ]
    }
   ],
   "source": [
    "country='nepal'\n",
    "print('n' in country)"
   ]
  },
  {
   "cell_type": "code",
   "execution_count": 48,
   "id": "7bcdcd96",
   "metadata": {},
   "outputs": [
    {
     "name": "stdout",
     "output_type": "stream",
     "text": [
      "True\n"
     ]
    }
   ],
   "source": [
    "country='nepal'\n",
    "print('ne' in country)"
   ]
  },
  {
   "cell_type": "code",
   "execution_count": 49,
   "id": "9aa0fcb5",
   "metadata": {},
   "outputs": [
    {
     "name": "stdout",
     "output_type": "stream",
     "text": [
      "False\n"
     ]
    }
   ],
   "source": [
    "country='nepal'\n",
    "print('x' in country)"
   ]
  },
  {
   "cell_type": "code",
   "execution_count": 50,
   "id": "6f9f9137",
   "metadata": {},
   "outputs": [
    {
     "name": "stdout",
     "output_type": "stream",
     "text": [
      "False\n"
     ]
    }
   ],
   "source": [
    "country='nepal'\n",
    "print('np' in country)"
   ]
  },
  {
   "cell_type": "code",
   "execution_count": 51,
   "id": "9e4ebd6f",
   "metadata": {},
   "outputs": [
    {
     "name": "stdout",
     "output_type": "stream",
     "text": [
      "False\n"
     ]
    }
   ],
   "source": [
    "country='nepal'\n",
    "print('N' in country)"
   ]
  },
  {
   "cell_type": "code",
   "execution_count": 52,
   "id": "31d56c14",
   "metadata": {},
   "outputs": [
    {
     "name": "stdout",
     "output_type": "stream",
     "text": [
      "False\n"
     ]
    }
   ],
   "source": [
    "country='nepal'\n",
    "print('n' not in country)"
   ]
  },
  {
   "cell_type": "code",
   "execution_count": 53,
   "id": "88ca5101",
   "metadata": {},
   "outputs": [
    {
     "name": "stdout",
     "output_type": "stream",
     "text": [
      "True\n"
     ]
    }
   ],
   "source": [
    "country='nepal'\n",
    "print('N'not in country)"
   ]
  },
  {
   "cell_type": "code",
   "execution_count": 54,
   "id": "daa604c7",
   "metadata": {},
   "outputs": [
    {
     "name": "stdout",
     "output_type": "stream",
     "text": [
      "True\n"
     ]
    }
   ],
   "source": [
    "print(6>3 and 5>3)\n",
    "#True and True\n",
    "#True"
   ]
  },
  {
   "cell_type": "code",
   "execution_count": 55,
   "id": "00285351",
   "metadata": {},
   "outputs": [
    {
     "data": {
      "text/plain": [
       "False"
      ]
     },
     "execution_count": 55,
     "metadata": {},
     "output_type": "execute_result"
    }
   ],
   "source": [
    "True and (not(not False))or True and (not True)"
   ]
  },
  {
   "cell_type": "code",
   "execution_count": 56,
   "id": "94ac5969",
   "metadata": {},
   "outputs": [],
   "source": [
    "#a=2 #binary:0010\n",
    "#b=3#binary:0011\n",
    "#===============\n",
    "          0010"
   ]
  },
  {
   "cell_type": "code",
   "execution_count": 57,
   "id": "63420dc0",
   "metadata": {},
   "outputs": [
    {
     "data": {
      "text/plain": [
       "2"
      ]
     },
     "execution_count": 57,
     "metadata": {},
     "output_type": "execute_result"
    }
   ],
   "source": [
    "a=2\n",
    "b=3\n",
    "a & b"
   ]
  },
  {
   "cell_type": "code",
   "execution_count": 60,
   "id": "41e640f0",
   "metadata": {},
   "outputs": [
    {
     "ename": "IndentationError",
     "evalue": "unexpected indent (3135143657.py, line 4)",
     "output_type": "error",
     "traceback": [
      "\u001b[1;36m  Cell \u001b[1;32mIn[60], line 4\u001b[1;36m\u001b[0m\n\u001b[1;33m    0011\u001b[0m\n\u001b[1;37m    ^\u001b[0m\n\u001b[1;31mIndentationError\u001b[0m\u001b[1;31m:\u001b[0m unexpected indent\n"
     ]
    }
   ],
   "source": [
    "#a=2 #binary:0010\n",
    "#b=3#binary:0011\n",
    "#===============\n",
    "          0011\n",
    "a=2\n",
    "b=3\n",
    "a|b"
   ]
  },
  {
   "cell_type": "code",
   "execution_count": 59,
   "id": "255bfc4b",
   "metadata": {},
   "outputs": [
    {
     "data": {
      "text/plain": [
       "3"
      ]
     },
     "execution_count": 59,
     "metadata": {},
     "output_type": "execute_result"
    }
   ],
   "source": [
    "a=2\n",
    "b=3\n",
    "a|b"
   ]
  },
  {
   "cell_type": "code",
   "execution_count": null,
   "id": "65138804",
   "metadata": {},
   "outputs": [],
   "source": [
    "#xor\n",
    "#1 => odd => 1\n",
    "#a=2 #binary:0010\n",
    "#b=3#binary:0011\n",
    "#===============\n",
    "          0001"
   ]
  },
  {
   "cell_type": "code",
   "execution_count": 61,
   "id": "93412448",
   "metadata": {},
   "outputs": [
    {
     "data": {
      "text/plain": [
       "1"
      ]
     },
     "execution_count": 61,
     "metadata": {},
     "output_type": "execute_result"
    }
   ],
   "source": [
    "a=2\n",
    "b=3\n",
    "a^b #bit wise Xor"
   ]
  },
  {
   "cell_type": "code",
   "execution_count": 62,
   "id": "1d1a715a",
   "metadata": {},
   "outputs": [
    {
     "name": "stdout",
     "output_type": "stream",
     "text": [
      "10\n"
     ]
    }
   ],
   "source": [
    "x=5 # assignment\n",
    "x=x+5\n",
    "print(x)"
   ]
  },
  {
   "cell_type": "code",
   "execution_count": 63,
   "id": "1d0b5d70",
   "metadata": {},
   "outputs": [
    {
     "name": "stdout",
     "output_type": "stream",
     "text": [
      "0\n"
     ]
    }
   ],
   "source": [
    "x=5 # assignment\n",
    "x=x-5\n",
    "print(x)"
   ]
  },
  {
   "cell_type": "code",
   "execution_count": null,
   "id": "383c7932",
   "metadata": {},
   "outputs": [],
   "source": [
    "x=5 # assignment\n",
    "x-=x+5\n",
    "print(x)"
   ]
  }
 ],
 "metadata": {
  "kernelspec": {
   "display_name": "Python 3 (ipykernel)",
   "language": "python",
   "name": "python3"
  },
  "language_info": {
   "codemirror_mode": {
    "name": "ipython",
    "version": 3
   },
   "file_extension": ".py",
   "mimetype": "text/x-python",
   "name": "python",
   "nbconvert_exporter": "python",
   "pygments_lexer": "ipython3",
   "version": "3.11.2"
  }
 },
 "nbformat": 4,
 "nbformat_minor": 5
}
