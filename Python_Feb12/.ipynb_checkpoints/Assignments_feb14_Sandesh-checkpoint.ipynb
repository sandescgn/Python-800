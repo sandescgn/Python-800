{
 "cells": [
  {
   "cell_type": "code",
   "execution_count": 1,
   "id": "851ca997",
   "metadata": {},
   "outputs": [
    {
     "name": "stdout",
     "output_type": "stream",
     "text": [
      "Hello World\n"
     ]
    }
   ],
   "source": [
    "print('Hello World')"
   ]
  },
  {
   "cell_type": "code",
   "execution_count": 2,
   "id": "c1b64d91",
   "metadata": {},
   "outputs": [],
   "source": [
    "name='ramesh'"
   ]
  },
  {
   "cell_type": "code",
   "execution_count": 3,
   "id": "b666f054",
   "metadata": {},
   "outputs": [
    {
     "name": "stdout",
     "output_type": "stream",
     "text": [
      "My name is ramesh\n"
     ]
    }
   ],
   "source": [
    "print('My name is', name)"
   ]
  },
  {
   "cell_type": "code",
   "execution_count": 5,
   "id": "bfb83ab9",
   "metadata": {},
   "outputs": [
    {
     "name": "stdout",
     "output_type": "stream",
     "text": [
      "The sum of 10 and 20 is 30\n"
     ]
    }
   ],
   "source": [
    "num1=10\n",
    "num2=20\n",
    "\n",
    "sum=num1+num2\n",
    "print(f'The sum of {num1} and {num2} is {sum}')"
   ]
  },
  {
   "cell_type": "code",
   "execution_count": 7,
   "id": "3048a1de",
   "metadata": {},
   "outputs": [
    {
     "name": "stdout",
     "output_type": "stream",
     "text": [
      "My name is Sandesh Chaulagain\n"
     ]
    }
   ],
   "source": [
    "first_name= 'Sandesh'\n",
    "last_name= 'Chaulagain'\n",
    "print(f'My name is {first_name} {last_name}')#f-string => string interpolation"
   ]
  },
  {
   "cell_type": "code",
   "execution_count": 8,
   "id": "8e006cb3",
   "metadata": {},
   "outputs": [
    {
     "name": "stdout",
     "output_type": "stream",
     "text": [
      "1 2 3 4 5 6 Hello\n"
     ]
    }
   ],
   "source": [
    "print(1,2,3,4,5,6, 'Hello')"
   ]
  },
  {
   "cell_type": "code",
   "execution_count": 9,
   "id": "2eab7e9a",
   "metadata": {},
   "outputs": [
    {
     "name": "stdout",
     "output_type": "stream",
     "text": [
      "Help on built-in function print in module builtins:\n",
      "\n",
      "print(*args, sep=' ', end='\\n', file=None, flush=False)\n",
      "    Prints the values to a stream, or to sys.stdout by default.\n",
      "    \n",
      "    sep\n",
      "      string inserted between values, default a space.\n",
      "    end\n",
      "      string appended after the last value, default a newline.\n",
      "    file\n",
      "      a file-like object (stream); defaults to the current sys.stdout.\n",
      "    flush\n",
      "      whether to forcibly flush the stream.\n",
      "\n"
     ]
    }
   ],
   "source": [
    "help (print)"
   ]
  },
  {
   "cell_type": "code",
   "execution_count": 10,
   "id": "86a2faf8",
   "metadata": {},
   "outputs": [
    {
     "name": "stdout",
     "output_type": "stream",
     "text": [
      "1#2#3#4#5#6#Hello\n"
     ]
    }
   ],
   "source": [
    "print(1,2,3,4,5,6, 'Hello', sep='#')"
   ]
  },
  {
   "cell_type": "code",
   "execution_count": 11,
   "id": "7404afa5",
   "metadata": {},
   "outputs": [
    {
     "name": "stdout",
     "output_type": "stream",
     "text": [
      "1#2#3#4#5#6#Hello\n",
      "1#2#3#4#5#6#Hello\n",
      "1#2#3#4#5#6#Hello\n",
      "1#2#3#4#5#6#Hello\n",
      "1#2#3#4#5#6#Hello\n"
     ]
    }
   ],
   "source": [
    "print(1,2,3,4,5,6, 'Hello', sep='#')\n",
    "print(1,2,3,4,5,6, 'Hello', sep='#')\n",
    "print(1,2,3,4,5,6, 'Hello', sep='#')\n",
    "print(1,2,3,4,5,6, 'Hello', sep='#')\n",
    "print(1,2,3,4,5,6, 'Hello', sep='#')"
   ]
  },
  {
   "cell_type": "code",
   "execution_count": 19,
   "id": "1fed248a",
   "metadata": {},
   "outputs": [
    {
     "name": "stdout",
     "output_type": "stream",
     "text": [
      "1#2#3#4#5#6#Hello\n",
      "1#2#3#4#5#6#Hello\n"
     ]
    }
   ],
   "source": [
    "print(1,2,3,4,5,6, 'Hello', sep='#',end= '\\n')\n",
    "print(1,2,3,4,5,6, 'Hello', sep='#')"
   ]
  },
  {
   "cell_type": "code",
   "execution_count": 20,
   "id": "4c41cef5",
   "metadata": {},
   "outputs": [
    {
     "name": "stdout",
     "output_type": "stream",
     "text": [
      "1#2#3#4#5#6#Hello\t1#2#3#4#5#6#Hello\n",
      "1#2#3#4#5#6#Hello\n",
      "1#2#3#4#5#6#Hello\n",
      "1#2#3#4#5#6#Hello\n"
     ]
    }
   ],
   "source": [
    "print(1,2,3,4,5,6, 'Hello', sep='#', end= '\\t')\n",
    "print(1,2,3,4,5,6, 'Hello', sep='#')\n",
    "print(1,2,3,4,5,6, 'Hello', sep='#')\n",
    "print(1,2,3,4,5,6, 'Hello', sep='#')\n",
    "print(1,2,3,4,5,6, 'Hello', sep='#')"
   ]
  },
  {
   "cell_type": "code",
   "execution_count": 21,
   "id": "2d89cf33",
   "metadata": {},
   "outputs": [
    {
     "ename": "SyntaxError",
     "evalue": "unmatched ')' (2784157894.py, line 3)",
     "output_type": "error",
     "traceback": [
      "\u001b[1;36m  Cell \u001b[1;32mIn[21], line 3\u001b[1;36m\u001b[0m\n\u001b[1;33m    last_name=last_name))\u001b[0m\n\u001b[1;37m                        ^\u001b[0m\n\u001b[1;31mSyntaxError\u001b[0m\u001b[1;31m:\u001b[0m unmatched ')'\n"
     ]
    }
   ],
   "source": [
    "print(f'My name is {first_name} {last_name}').format(\n",
    "    first_name= first_name\n",
    "    last_name=last_name))"
   ]
  },
  {
   "cell_type": "code",
   "execution_count": 24,
   "id": "7f3888d2",
   "metadata": {},
   "outputs": [
    {
     "ename": "SyntaxError",
     "evalue": "unmatched ')' (2122588939.py, line 5)",
     "output_type": "error",
     "traceback": [
      "\u001b[1;36m  Cell \u001b[1;32mIn[24], line 5\u001b[1;36m\u001b[0m\n\u001b[1;33m    last_name=last_name))\u001b[0m\n\u001b[1;37m                        ^\u001b[0m\n\u001b[1;31mSyntaxError\u001b[0m\u001b[1;31m:\u001b[0m unmatched ')'\n"
     ]
    }
   ],
   "source": [
    "first_name='Sandesh'\n",
    "last_name= 'Chaulagain'\n",
    "print('My name is {first_name} {last_name}').format(\n",
    "    first_name= first_name,\n",
    "    last_name=last_name))"
   ]
  },
  {
   "cell_type": "code",
   "execution_count": 28,
   "id": "7fd1e225",
   "metadata": {},
   "outputs": [
    {
     "name": "stdout",
     "output_type": "stream",
     "text": [
      "My name is Sandesh Chaulagain\n"
     ]
    }
   ],
   "source": [
    "first_name='Sandesh'\n",
    "last_name= 'Chaulagain'\n",
    "print('My name is {x} {y}'.format(\n",
    "    x=first_name,\n",
    "    y=last_name))"
   ]
  },
  {
   "cell_type": "code",
   "execution_count": 33,
   "id": "16c5d882",
   "metadata": {},
   "outputs": [
    {
     "name": "stdout",
     "output_type": "stream",
     "text": [
      "Enter first name:Sandesh\n",
      "Enter last name:Chaulagain\n",
      "My name is Sandesh Chaulagain\n"
     ]
    }
   ],
   "source": [
    "first_name=input('Enter first name:')\n",
    "last_name= input('Enter last name:')\n",
    "print(f'My name is {first_name} {last_name}')"
   ]
  },
  {
   "cell_type": "code",
   "execution_count": 35,
   "id": "3b189dcf",
   "metadata": {},
   "outputs": [
    {
     "name": "stdout",
     "output_type": "stream",
     "text": [
      "Enter first number:3\n",
      "Enter Second number:4\n",
      "The sum of 3 and 4 is 7\n"
     ]
    }
   ],
   "source": [
    "num1= int(input('Enter first number:'))\n",
    "num2= int(input('Enter Second number:'))\n",
    "sum=num1+num2\n",
    "print(f'The sum of {num1} and {num2} is {sum}')\n"
   ]
  },
  {
   "cell_type": "code",
   "execution_count": 37,
   "id": "f22f56ed",
   "metadata": {},
   "outputs": [
    {
     "name": "stdout",
     "output_type": "stream",
     "text": [
      "Enter Principal amount:100\n",
      "Enter time:5\n",
      "Enter Rate:10\n",
      "the SI is:50.0\n"
     ]
    }
   ],
   "source": [
    "p= int(input('Enter Principal amount:'))\n",
    "t= int(input('Enter time:'))\n",
    "r= int(input('Enter Rate:'))\n",
    "i= (p*t*r)/100\n",
    "print(f'the SI is:{i}')"
   ]
  },
  {
   "cell_type": "code",
   "execution_count": 40,
   "id": "120ba076",
   "metadata": {},
   "outputs": [
    {
     "name": "stdout",
     "output_type": "stream",
     "text": [
      "Enter number:55\n",
      "The number is:55\n",
      "Output number in Octal format:67\n",
      "Output number in Binary format:110111\n",
      "Output number in Hexadecimal format:37\n"
     ]
    }
   ],
   "source": [
    "num= int(input('Enter number:'))\n",
    "#'d' is for integer number formatting\n",
    "print ('The number is:{:d}'.format (num))\n",
    "#'o' is for octal number formatting\n",
    "print ('Output number in Octal format:{:o}'.format (num))\n",
    "#'b' is for binary number formatting\n",
    "print ('Output number in Binary format:{:b}'.format (num))\n",
    "#'x' is for Hexadecimal number formatting\n",
    "print ('Output number in Hexadecimal format:{:x}'.format (num))\n"
   ]
  },
  {
   "cell_type": "code",
   "execution_count": 41,
   "id": "b4c18f14",
   "metadata": {},
   "outputs": [
    {
     "ename": "NameError",
     "evalue": "name 'area_of_circle' is not defined",
     "output_type": "error",
     "traceback": [
      "\u001b[1;31m---------------------------------------------------------------------------\u001b[0m",
      "\u001b[1;31mNameError\u001b[0m                                 Traceback (most recent call last)",
      "Cell \u001b[1;32mIn[41], line 1\u001b[0m\n\u001b[1;32m----> 1\u001b[0m \u001b[43marea_of_circle\u001b[49m\u001b[38;5;241m/\u001b[39mperimeter\n\u001b[0;32m      2\u001b[0m area_of_rectangle\u001b[38;5;241m/\u001b[39mperimeter\n\u001b[0;32m      3\u001b[0m area_of_square\n",
      "\u001b[1;31mNameError\u001b[0m: name 'area_of_circle' is not defined"
     ]
    }
   ],
   "source": [
    "area_of_circle/perimeter\n",
    "area_of_rectangle/perimeter\n",
    "area_of_square"
   ]
  },
  {
   "cell_type": "code",
   "execution_count": 42,
   "id": "84fbe45f",
   "metadata": {},
   "outputs": [
    {
     "name": "stdout",
     "output_type": "stream",
     "text": [
      "Enter the radius:5\n",
      "78.53981633974483\n"
     ]
    }
   ],
   "source": [
    "import math\n",
    "r= int(input('Enter the radius:'))\n",
    "area_of_circle=math.pi*(r**2)\n",
    "print(area_of_circle)"
   ]
  },
  {
   "cell_type": "code",
   "execution_count": 3,
   "id": "933fc19a",
   "metadata": {},
   "outputs": [
    {
     "name": "stdout",
     "output_type": "stream",
     "text": [
      "Enter the length:5\n",
      "Enter the breadth:10\n",
      "30\n"
     ]
    }
   ],
   "source": [
    "l=int(input('Enter the length:'))\n",
    "b=int(input('Enter the breadth:'))\n",
    "perimeter_of_rectangle=2*(l+b)\n",
    "print(perimeter_of_rectangle)"
   ]
  },
  {
   "cell_type": "code",
   "execution_count": 4,
   "id": "917363d8",
   "metadata": {},
   "outputs": [
    {
     "name": "stdout",
     "output_type": "stream",
     "text": [
      "Enter the length:5\n",
      "Enter the breadth:10\n",
      "50\n"
     ]
    }
   ],
   "source": [
    "l=int(input('Enter the length:'))\n",
    "b=int(input('Enter the breadth:'))\n",
    "area_of_rectangle=l*b\n",
    "print(area_of_rectangle)"
   ]
  },
  {
   "cell_type": "code",
   "execution_count": 6,
   "id": "e3051c7a",
   "metadata": {},
   "outputs": [
    {
     "name": "stdout",
     "output_type": "stream",
     "text": [
      "Enter the length:2\n",
      "8\n"
     ]
    }
   ],
   "source": [
    "l=int(input('Enter the length:'))\n",
    "perimeter_of_square=4*l\n",
    "print(perimeter_of_square)"
   ]
  },
  {
   "cell_type": "code",
   "execution_count": 7,
   "id": "a2b7496b",
   "metadata": {},
   "outputs": [
    {
     "name": "stdout",
     "output_type": "stream",
     "text": [
      "Enter the length:2\n",
      "4\n"
     ]
    }
   ],
   "source": [
    "l=int(input('Enter the length:'))\n",
    "area_of_square=l**2\n",
    "print(area_of_square)"
   ]
  },
  {
   "cell_type": "code",
   "execution_count": null,
   "id": "3b5e2aa0",
   "metadata": {},
   "outputs": [],
   "source": []
  }
 ],
 "metadata": {
  "kernelspec": {
   "display_name": "Python 3 (ipykernel)",
   "language": "python",
   "name": "python3"
  },
  "language_info": {
   "codemirror_mode": {
    "name": "ipython",
    "version": 3
   },
   "file_extension": ".py",
   "mimetype": "text/x-python",
   "name": "python",
   "nbconvert_exporter": "python",
   "pygments_lexer": "ipython3",
   "version": "3.11.2"
  }
 },
 "nbformat": 4,
 "nbformat_minor": 5
}
