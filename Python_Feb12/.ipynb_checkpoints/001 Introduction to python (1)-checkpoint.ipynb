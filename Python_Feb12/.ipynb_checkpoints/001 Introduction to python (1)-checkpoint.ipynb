{
 "cells": [
  {
   "cell_type": "code",
   "execution_count": 1,
   "id": "be973f1f",
   "metadata": {},
   "outputs": [
    {
     "name": "stdout",
     "output_type": "stream",
     "text": [
      "3\n"
     ]
    }
   ],
   "source": [
    "x = 1 # variable => number => integer datatype / datastructure\n",
    "y = 2 # variable => number => integer datatype / datastructure\n",
    "\n",
    "sum = x + y # variable => addition\n",
    "\n",
    "print(sum)"
   ]
  },
  {
   "cell_type": "code",
   "execution_count": 2,
   "id": "d6b298c2",
   "metadata": {},
   "outputs": [
    {
     "name": "stdout",
     "output_type": "stream",
     "text": [
      "rameshpradhan\n"
     ]
    }
   ],
   "source": [
    "first_name = \"ramesh\" # string data type\n",
    "last_name = \"pradhan\" # string data type\n",
    "\n",
    "full_name = first_name + last_name # concatenation\n",
    "\n",
    "print(full_name)"
   ]
  },
  {
   "cell_type": "code",
   "execution_count": 3,
   "id": "aa0d0ee9",
   "metadata": {},
   "outputs": [
    {
     "ename": "SyntaxError",
     "evalue": "invalid syntax (3983927147.py, line 1)",
     "output_type": "error",
     "traceback": [
      "\u001b[0;36m  Cell \u001b[0;32mIn[3], line 1\u001b[0;36m\u001b[0m\n\u001b[0;31m    if = '1'\u001b[0m\n\u001b[0m       ^\u001b[0m\n\u001b[0;31mSyntaxError\u001b[0m\u001b[0;31m:\u001b[0m invalid syntax\n"
     ]
    }
   ],
   "source": [
    "if = '1'\n",
    "yield = 2"
   ]
  },
  {
   "cell_type": "code",
   "execution_count": 4,
   "id": "2fc2a282",
   "metadata": {},
   "outputs": [
    {
     "ename": "NameError",
     "evalue": "name 'X' is not defined",
     "output_type": "error",
     "traceback": [
      "\u001b[0;31m---------------------------------------------------------------------------\u001b[0m",
      "\u001b[0;31mNameError\u001b[0m                                 Traceback (most recent call last)",
      "Cell \u001b[0;32mIn[4], line 3\u001b[0m\n\u001b[1;32m      1\u001b[0m x \u001b[38;5;241m=\u001b[39m \u001b[38;5;241m1\u001b[39m\n\u001b[0;32m----> 3\u001b[0m \u001b[38;5;28mprint\u001b[39m(\u001b[43mX\u001b[49m)\n",
      "\u001b[0;31mNameError\u001b[0m: name 'X' is not defined"
     ]
    }
   ],
   "source": [
    "x = 1\n",
    "\n",
    "print(X) # case sensitive"
   ]
  },
  {
   "cell_type": "code",
   "execution_count": 5,
   "id": "2a2d72bc",
   "metadata": {},
   "outputs": [
    {
     "ename": "SyntaxError",
     "evalue": "invalid decimal literal (1861348455.py, line 1)",
     "output_type": "error",
     "traceback": [
      "\u001b[0;36m  Cell \u001b[0;32mIn[5], line 1\u001b[0;36m\u001b[0m\n\u001b[0;31m    22x = 'ramesh'\u001b[0m\n\u001b[0m     ^\u001b[0m\n\u001b[0;31mSyntaxError\u001b[0m\u001b[0;31m:\u001b[0m invalid decimal literal\n"
     ]
    }
   ],
   "source": [
    "22x = 'ramesh'"
   ]
  },
  {
   "cell_type": "code",
   "execution_count": 6,
   "id": "e17198e0",
   "metadata": {},
   "outputs": [
    {
     "ename": "SyntaxError",
     "evalue": "invalid syntax (1564582141.py, line 1)",
     "output_type": "error",
     "traceback": [
      "\u001b[0;36m  Cell \u001b[0;32mIn[6], line 1\u001b[0;36m\u001b[0m\n\u001b[0;31m    first name = \"ramesh\" # string data type\u001b[0m\n\u001b[0m          ^\u001b[0m\n\u001b[0;31mSyntaxError\u001b[0m\u001b[0;31m:\u001b[0m invalid syntax\n"
     ]
    }
   ],
   "source": [
    "first name = \"ramesh\" # string data type\n"
   ]
  },
  {
   "cell_type": "code",
   "execution_count": 7,
   "id": "8d06f894",
   "metadata": {},
   "outputs": [],
   "source": [
    "Ramesh_Pradha12h = 'hello9'"
   ]
  },
  {
   "cell_type": "code",
   "execution_count": 8,
   "id": "b29c94a4",
   "metadata": {},
   "outputs": [],
   "source": [
    "__Helo_world = 'h'"
   ]
  },
  {
   "cell_type": "code",
   "execution_count": 9,
   "id": "614b91a8",
   "metadata": {},
   "outputs": [
    {
     "ename": "SyntaxError",
     "evalue": "invalid syntax (2750018845.py, line 1)",
     "output_type": "error",
     "traceback": [
      "\u001b[0;36m  Cell \u001b[0;32mIn[9], line 1\u001b[0;36m\u001b[0m\n\u001b[0;31m    he!23 = 32\u001b[0m\n\u001b[0m      ^\u001b[0m\n\u001b[0;31mSyntaxError\u001b[0m\u001b[0;31m:\u001b[0m invalid syntax\n"
     ]
    }
   ],
   "source": [
    "he!23 = 32"
   ]
  },
  {
   "cell_type": "code",
   "execution_count": 11,
   "id": "c9db396b",
   "metadata": {},
   "outputs": [],
   "source": [
    "HELLO_RODL='32'"
   ]
  },
  {
   "cell_type": "code",
   "execution_count": 14,
   "id": "71852d8f",
   "metadata": {},
   "outputs": [],
   "source": [
    "x = 1+3+3+5+8+1+3+3+5+8+1+3+3+5+8+1+\\\n",
    "3+3+5+8+1+3+3+5+8+1+3+3+5+8+1+3+3+5+\\\n",
    "8+1+3+3+5+8+1+3+3+5+8"
   ]
  },
  {
   "cell_type": "code",
   "execution_count": 15,
   "id": "d88d2133",
   "metadata": {},
   "outputs": [
    {
     "name": "stdout",
     "output_type": "stream",
     "text": [
      "180\n"
     ]
    }
   ],
   "source": [
    "print(x)"
   ]
  },
  {
   "cell_type": "code",
   "execution_count": 16,
   "id": "90a649cd",
   "metadata": {},
   "outputs": [
    {
     "name": "stdout",
     "output_type": "stream",
     "text": [
      "180\n"
     ]
    }
   ],
   "source": [
    "x = (1+3+3+5+8+1+3+3+5+8+1+3+3+5+8+1+\n",
    "     3+3+5+8+1+3+3+5+8+1+3+3+5+8+1+3+3+5+\n",
    "     8+1+3+3+5+8+1+3+3+5+8)\n",
    "print(x)"
   ]
  },
  {
   "cell_type": "code",
   "execution_count": 17,
   "id": "8ffbc6d3",
   "metadata": {},
   "outputs": [
    {
     "name": "stdout",
     "output_type": "stream",
     "text": [
      "Unauthorized\n"
     ]
    }
   ],
   "source": [
    "age = 17\n",
    "\n",
    "if age < 18:\n",
    "    print(\"Unauthorized\") # tab => 4 spaces"
   ]
  },
  {
   "cell_type": "code",
   "execution_count": 18,
   "id": "9aa055cb",
   "metadata": {},
   "outputs": [
    {
     "ename": "IndentationError",
     "evalue": "expected an indented block after 'if' statement on line 3 (1386160923.py, line 4)",
     "output_type": "error",
     "traceback": [
      "\u001b[0;36m  Cell \u001b[0;32mIn[18], line 4\u001b[0;36m\u001b[0m\n\u001b[0;31m    print(\"Unauthorized\") # tab => 4 spaces\u001b[0m\n\u001b[0m    ^\u001b[0m\n\u001b[0;31mIndentationError\u001b[0m\u001b[0;31m:\u001b[0m expected an indented block after 'if' statement on line 3\n"
     ]
    }
   ],
   "source": [
    "age = 17\n",
    "\n",
    "if age < 18:\n",
    "print(\"Unauthorized\") # tab => 4 spaces"
   ]
  },
  {
   "cell_type": "code",
   "execution_count": 25,
   "id": "a153db81",
   "metadata": {},
   "outputs": [],
   "source": [
    "def hello_world():\n",
    "    \"\"\"This function prints hello world...\"\"\" # docstring => documentation string\n",
    "    # hellow ordl 2132k4h23h4kjesfhakjsdhfkj # => comment\n",
    "    print(\"Hello world\")"
   ]
  },
  {
   "cell_type": "code",
   "execution_count": 26,
   "id": "5c813033",
   "metadata": {},
   "outputs": [
    {
     "name": "stdout",
     "output_type": "stream",
     "text": [
      "Hello world\n"
     ]
    }
   ],
   "source": [
    "hello_world()"
   ]
  },
  {
   "cell_type": "code",
   "execution_count": 27,
   "id": "1e1c1da7",
   "metadata": {},
   "outputs": [
    {
     "name": "stdout",
     "output_type": "stream",
     "text": [
      "Help on function hello_world in module __main__:\n",
      "\n",
      "hello_world()\n",
      "    This function prints hello world...\n",
      "\n"
     ]
    }
   ],
   "source": [
    "help(hello_world)"
   ]
  },
  {
   "cell_type": "code",
   "execution_count": 28,
   "id": "6416b5d0",
   "metadata": {},
   "outputs": [],
   "source": [
    "x =1\n",
    "y= 2\n",
    "z = 4"
   ]
  },
  {
   "cell_type": "code",
   "execution_count": 29,
   "id": "b3763917",
   "metadata": {},
   "outputs": [],
   "source": [
    "x, y, z = 1,2,4"
   ]
  },
  {
   "cell_type": "code",
   "execution_count": 30,
   "id": "cd53cef4",
   "metadata": {},
   "outputs": [
    {
     "name": "stdout",
     "output_type": "stream",
     "text": [
      "1 2 4\n"
     ]
    }
   ],
   "source": [
    "print(x,y,z)"
   ]
  },
  {
   "cell_type": "code",
   "execution_count": 31,
   "id": "623ba2f8",
   "metadata": {},
   "outputs": [
    {
     "name": "stdout",
     "output_type": "stream",
     "text": [
      "1 2 4\n"
     ]
    }
   ],
   "source": [
    "x =1;y= 2;z = 4\n",
    "print(x,y,z)"
   ]
  },
  {
   "cell_type": "code",
   "execution_count": 32,
   "id": "5afa9750",
   "metadata": {},
   "outputs": [],
   "source": [
    "a=2\n",
    "b=2\n",
    "c=2"
   ]
  },
  {
   "cell_type": "code",
   "execution_count": 33,
   "id": "80d06dbc",
   "metadata": {},
   "outputs": [],
   "source": [
    "a=b=c=2"
   ]
  },
  {
   "cell_type": "code",
   "execution_count": 34,
   "id": "d5ca6e31",
   "metadata": {},
   "outputs": [],
   "source": [
    "gravity = 9.8 # varaible"
   ]
  },
  {
   "cell_type": "code",
   "execution_count": 35,
   "id": "091986ce",
   "metadata": {},
   "outputs": [],
   "source": [
    "GRAVITY = 9.8 # constant\n",
    "PI = 3.14 # constant"
   ]
  },
  {
   "cell_type": "code",
   "execution_count": 36,
   "id": "3b389d17",
   "metadata": {},
   "outputs": [],
   "source": [
    "GRAVITY =9.8"
   ]
  },
  {
   "cell_type": "code",
   "execution_count": 37,
   "id": "58a2c8fd",
   "metadata": {},
   "outputs": [
    {
     "name": "stdout",
     "output_type": "stream",
     "text": [
      "9.8\n"
     ]
    }
   ],
   "source": [
    "print(GRAVITY)"
   ]
  },
  {
   "cell_type": "code",
   "execution_count": 38,
   "id": "18a9b463",
   "metadata": {},
   "outputs": [],
   "source": [
    "GRAVITY = 'hello' # dynamically typed language"
   ]
  },
  {
   "cell_type": "code",
   "execution_count": 39,
   "id": "3507c59d",
   "metadata": {},
   "outputs": [
    {
     "name": "stdout",
     "output_type": "stream",
     "text": [
      "hello\n"
     ]
    }
   ],
   "source": [
    "print(GRAVITY)"
   ]
  },
  {
   "cell_type": "code",
   "execution_count": null,
   "id": "55791c03",
   "metadata": {},
   "outputs": [],
   "source": [
    "# c , c++, java => compilled / statically typed language\n",
    "float gravity = 9.8 # statically type\n",
    "printf(gravity)"
   ]
  },
  {
   "cell_type": "code",
   "execution_count": 40,
   "id": "cb485b87",
   "metadata": {},
   "outputs": [
    {
     "name": "stdout",
     "output_type": "stream",
     "text": [
      "9.8\n"
     ]
    }
   ],
   "source": [
    "asdhfkadsasdfadsfd = 9.8\n",
    "print(asdhfkadsasdfadsfd)"
   ]
  },
  {
   "cell_type": "code",
   "execution_count": 41,
   "id": "db14479a",
   "metadata": {},
   "outputs": [],
   "source": [
    "gravity = 9.8"
   ]
  },
  {
   "cell_type": "code",
   "execution_count": 42,
   "id": "bf7c8162",
   "metadata": {},
   "outputs": [],
   "source": [
    "gravity_of_earth = 9.8"
   ]
  },
  {
   "cell_type": "code",
   "execution_count": 43,
   "id": "d61710e6",
   "metadata": {},
   "outputs": [],
   "source": [
    "g = 9.8"
   ]
  },
  {
   "cell_type": "code",
   "execution_count": 44,
   "id": "b8fec8d7",
   "metadata": {},
   "outputs": [],
   "source": [
    "# variable, function name => lower_case\n",
    "# class name => PascalCase"
   ]
  },
  {
   "cell_type": "code",
   "execution_count": 48,
   "id": "109e3fa2",
   "metadata": {},
   "outputs": [
    {
     "name": "stdout",
     "output_type": "stream",
     "text": [
      "10.5\n",
      "150.0\n",
      "<class 'float'>\n"
     ]
    }
   ],
   "source": [
    "float_1 = 10.5 \n",
    "float_2 = 1.5e2\n",
    "\n",
    "print(float_1)\n",
    "print(float_2)\n",
    "\n",
    "print(type(float_1))"
   ]
  },
  {
   "cell_type": "code",
   "execution_count": 49,
   "id": "d137180c",
   "metadata": {},
   "outputs": [
    {
     "name": "stdout",
     "output_type": "stream",
     "text": [
      "3.14j\n",
      "<class 'complex'>\n"
     ]
    }
   ],
   "source": [
    "x = 3.14j\n",
    "print(x)\n",
    "print(type(x))"
   ]
  },
  {
   "cell_type": "code",
   "execution_count": 50,
   "id": "e4cb9633",
   "metadata": {},
   "outputs": [
    {
     "name": "stdout",
     "output_type": "stream",
     "text": [
      "<class 'int'>\n"
     ]
    }
   ],
   "source": [
    "x = 1\n",
    "print(type(x))"
   ]
  },
  {
   "cell_type": "code",
   "execution_count": 51,
   "id": "e4abb8c0",
   "metadata": {},
   "outputs": [],
   "source": [
    "# binary => 0, 1 => computer => 2 digits\n",
    "# octal = > 0..7 => 8 digits\n",
    "# hexadecimal => 0..9, a-f => 16 digits\n",
    "# decimal => 0...9 => 10 digits"
   ]
  },
  {
   "cell_type": "code",
   "execution_count": 52,
   "id": "9a8e83c0",
   "metadata": {},
   "outputs": [],
   "source": [
    "x = 'nepal is beautiful'"
   ]
  },
  {
   "cell_type": "code",
   "execution_count": 54,
   "id": "d70e20b4",
   "metadata": {},
   "outputs": [
    {
     "name": "stdout",
     "output_type": "stream",
     "text": [
      "nepal is beautiful\n",
      "<class 'str'>\n"
     ]
    }
   ],
   "source": [
    "print(x)\n",
    "print(type(x))"
   ]
  },
  {
   "cell_type": "code",
   "execution_count": 55,
   "id": "94832ff4",
   "metadata": {},
   "outputs": [
    {
     "name": "stdout",
     "output_type": "stream",
     "text": [
      "nepal is beautiful\n",
      "<class 'str'>\n"
     ]
    }
   ],
   "source": [
    "x = \"nepal is beautiful\"\n",
    "print(x)\n",
    "print(type(x))"
   ]
  },
  {
   "cell_type": "code",
   "execution_count": 56,
   "id": "e21a0c37",
   "metadata": {},
   "outputs": [
    {
     "ename": "SyntaxError",
     "evalue": "unterminated string literal (detected at line 1) (2304164668.py, line 1)",
     "output_type": "error",
     "traceback": [
      "\u001b[0;36m  Cell \u001b[0;32mIn[56], line 1\u001b[0;36m\u001b[0m\n\u001b[0;31m    x ='dog's animal'\u001b[0m\n\u001b[0m                    ^\u001b[0m\n\u001b[0;31mSyntaxError\u001b[0m\u001b[0;31m:\u001b[0m unterminated string literal (detected at line 1)\n"
     ]
    }
   ],
   "source": [
    "x ='dog's animal'"
   ]
  },
  {
   "cell_type": "code",
   "execution_count": 57,
   "id": "275f817f",
   "metadata": {},
   "outputs": [],
   "source": [
    "x =\"dog's animal\""
   ]
  },
  {
   "cell_type": "code",
   "execution_count": 58,
   "id": "e5007e62",
   "metadata": {},
   "outputs": [],
   "source": [
    "x ='dog \"the dog\" animal'"
   ]
  },
  {
   "cell_type": "code",
   "execution_count": 60,
   "id": "1a75cb15",
   "metadata": {},
   "outputs": [
    {
     "name": "stdout",
     "output_type": "stream",
     "text": [
      "dog's animal dog \"the dog\" animal\n"
     ]
    }
   ],
   "source": [
    "x =\"\"\"dog's animal dog \"the dog\" animal\"\"\"\n",
    "print(x)"
   ]
  },
  {
   "cell_type": "code",
   "execution_count": 61,
   "id": "52e1f6a9",
   "metadata": {},
   "outputs": [
    {
     "name": "stdout",
     "output_type": "stream",
     "text": [
      "dog's animal dog \"the dog\" animal\n"
     ]
    }
   ],
   "source": [
    "x ='''dog's animal dog \"the dog\" animal'''\n",
    "print(x)"
   ]
  },
  {
   "cell_type": "code",
   "execution_count": 63,
   "id": "26333f8a",
   "metadata": {},
   "outputs": [
    {
     "ename": "SyntaxError",
     "evalue": "unterminated string literal (detected at line 1) (735805081.py, line 1)",
     "output_type": "error",
     "traceback": [
      "\u001b[0;36m  Cell \u001b[0;32mIn[63], line 1\u001b[0;36m\u001b[0m\n\u001b[0;31m    x = 'nepal is beafutiful country.\u001b[0m\n\u001b[0m        ^\u001b[0m\n\u001b[0;31mSyntaxError\u001b[0m\u001b[0;31m:\u001b[0m unterminated string literal (detected at line 1)\n"
     ]
    }
   ],
   "source": [
    "x = 'nepal is beafutiful country.\n",
    "\n",
    "hello world'"
   ]
  },
  {
   "cell_type": "code",
   "execution_count": 64,
   "id": "8548b53a",
   "metadata": {},
   "outputs": [],
   "source": [
    "x = \"\"\"nepal is beafutiful country.\n",
    "\n",
    "hello world\"\"\""
   ]
  },
  {
   "cell_type": "code",
   "execution_count": 65,
   "id": "44d6cc13",
   "metadata": {},
   "outputs": [
    {
     "name": "stdout",
     "output_type": "stream",
     "text": [
      "nepal is beafutiful country.\n",
      "\n",
      "hello world\n"
     ]
    }
   ],
   "source": [
    "print(x)"
   ]
  },
  {
   "cell_type": "code",
   "execution_count": 66,
   "id": "26f55fd8",
   "metadata": {},
   "outputs": [
    {
     "name": "stdout",
     "output_type": "stream",
     "text": [
      "Ünicöde\n"
     ]
    }
   ],
   "source": [
    "# asccii => unicode\n",
    "unicode = u\"\\u00dcnic\\u00f6de\"\n",
    "print(unicode)"
   ]
  },
  {
   "cell_type": "code",
   "execution_count": 67,
   "id": "a333d6a6",
   "metadata": {},
   "outputs": [],
   "source": [
    "x = True"
   ]
  },
  {
   "cell_type": "code",
   "execution_count": 68,
   "id": "3306dd23",
   "metadata": {},
   "outputs": [],
   "source": [
    "y = False"
   ]
  },
  {
   "cell_type": "code",
   "execution_count": 69,
   "id": "a148fc31",
   "metadata": {},
   "outputs": [
    {
     "name": "stdout",
     "output_type": "stream",
     "text": [
      "None\n"
     ]
    }
   ],
   "source": [
    "food = None\n",
    "print(food)"
   ]
  },
  {
   "cell_type": "code",
   "execution_count": 70,
   "id": "8f77dec7",
   "metadata": {},
   "outputs": [
    {
     "name": "stdout",
     "output_type": "stream",
     "text": [
      "<class 'NoneType'>\n"
     ]
    }
   ],
   "source": [
    "print(type(food))"
   ]
  },
  {
   "cell_type": "code",
   "execution_count": 71,
   "id": "ab25f743",
   "metadata": {},
   "outputs": [],
   "source": [
    "fruits = ['apple', 'banana', 'organge']"
   ]
  },
  {
   "cell_type": "code",
   "execution_count": 72,
   "id": "77118422",
   "metadata": {},
   "outputs": [
    {
     "name": "stdout",
     "output_type": "stream",
     "text": [
      "<class 'list'>\n"
     ]
    }
   ],
   "source": [
    "print(type(fruits))"
   ]
  },
  {
   "cell_type": "code",
   "execution_count": 74,
   "id": "cfa84022",
   "metadata": {},
   "outputs": [
    {
     "name": "stdout",
     "output_type": "stream",
     "text": [
      "<class 'tuple'>\n"
     ]
    }
   ],
   "source": [
    "fruits = ('apple', 'banana', 'organge')\n",
    "print(type(fruits))"
   ]
  },
  {
   "cell_type": "code",
   "execution_count": 75,
   "id": "c7c3029e",
   "metadata": {},
   "outputs": [
    {
     "name": "stdout",
     "output_type": "stream",
     "text": [
      "<class 'set'>\n"
     ]
    }
   ],
   "source": [
    "fruits = {'apple', 'banana', 'organge'}\n",
    "print(type(fruits))"
   ]
  },
  {
   "cell_type": "code",
   "execution_count": 76,
   "id": "a65b4064",
   "metadata": {},
   "outputs": [
    {
     "name": "stdout",
     "output_type": "stream",
     "text": [
      "<class 'dict'>\n"
     ]
    }
   ],
   "source": [
    "person = {\n",
    "    'name':'ram',\n",
    "    'address':'ktm',\n",
    "    'phone':92234234\n",
    "}\n",
    "print(type(person))"
   ]
  },
  {
   "cell_type": "code",
   "execution_count": 78,
   "id": "b4e00641",
   "metadata": {},
   "outputs": [
    {
     "name": "stdout",
     "output_type": "stream",
     "text": [
      "{'organge', 'banana', 'apple'}\n"
     ]
    }
   ],
   "source": [
    "fruits = {'apple', 'banana', 'organge', 'apple'}\n",
    "print(fruits)"
   ]
  },
  {
   "cell_type": "code",
   "execution_count": 79,
   "id": "48e539c0",
   "metadata": {},
   "outputs": [
    {
     "name": "stdout",
     "output_type": "stream",
     "text": [
      "5.0\n"
     ]
    }
   ],
   "source": [
    "x = 5 # integer\n",
    "\n",
    "print(float(x))"
   ]
  },
  {
   "cell_type": "code",
   "execution_count": 80,
   "id": "4379537c",
   "metadata": {},
   "outputs": [
    {
     "name": "stdout",
     "output_type": "stream",
     "text": [
      "4\n"
     ]
    }
   ],
   "source": [
    "x = 4.5 # float\n",
    "\n",
    "print(int(x))"
   ]
  },
  {
   "cell_type": "code",
   "execution_count": 82,
   "id": "f732fd9b",
   "metadata": {},
   "outputs": [
    {
     "name": "stdout",
     "output_type": "stream",
     "text": [
      "4 <class 'str'>\n"
     ]
    }
   ],
   "source": [
    "x = 4 # integer\n",
    "y = str(x)\n",
    "print(y, type(y))"
   ]
  },
  {
   "cell_type": "code",
   "execution_count": 83,
   "id": "416e6e39",
   "metadata": {},
   "outputs": [
    {
     "name": "stdout",
     "output_type": "stream",
     "text": [
      "35\n"
     ]
    }
   ],
   "source": [
    "x = '35'\n",
    "\n",
    "print(int(x))"
   ]
  },
  {
   "cell_type": "code",
   "execution_count": 84,
   "id": "2a8acd45",
   "metadata": {},
   "outputs": [
    {
     "ename": "ValueError",
     "evalue": "invalid literal for int() with base 10: '35p'",
     "output_type": "error",
     "traceback": [
      "\u001b[0;31m---------------------------------------------------------------------------\u001b[0m",
      "\u001b[0;31mValueError\u001b[0m                                Traceback (most recent call last)",
      "Cell \u001b[0;32mIn[84], line 3\u001b[0m\n\u001b[1;32m      1\u001b[0m x \u001b[38;5;241m=\u001b[39m \u001b[38;5;124m'\u001b[39m\u001b[38;5;124m35p\u001b[39m\u001b[38;5;124m'\u001b[39m\n\u001b[0;32m----> 3\u001b[0m \u001b[38;5;28mprint\u001b[39m(\u001b[38;5;28;43mint\u001b[39;49m\u001b[43m(\u001b[49m\u001b[43mx\u001b[49m\u001b[43m)\u001b[49m)\n",
      "\u001b[0;31mValueError\u001b[0m: invalid literal for int() with base 10: '35p'"
     ]
    }
   ],
   "source": [
    "x = '35p'\n",
    "\n",
    "print(int(x))"
   ]
  },
  {
   "cell_type": "code",
   "execution_count": 85,
   "id": "7b80f810",
   "metadata": {},
   "outputs": [
    {
     "name": "stdout",
     "output_type": "stream",
     "text": [
      "['h', 'i', ' ', 'h', 'e', 'l', 'l', 'o']\n"
     ]
    }
   ],
   "source": [
    "hello = 'hi hello'\n",
    "print(list(hello))"
   ]
  },
  {
   "cell_type": "code",
   "execution_count": 86,
   "id": "d3c6e104",
   "metadata": {},
   "outputs": [
    {
     "name": "stdout",
     "output_type": "stream",
     "text": [
      "{' ', 'o', 'h', 'l', 'i', 'e'}\n"
     ]
    }
   ],
   "source": [
    "hello = 'hi hello'\n",
    "print(set(hello))"
   ]
  },
  {
   "cell_type": "code",
   "execution_count": 87,
   "id": "3733eb4b",
   "metadata": {},
   "outputs": [
    {
     "name": "stdout",
     "output_type": "stream",
     "text": [
      "('h', 'i', ' ', 'h', 'e', 'l', 'l', 'o')\n"
     ]
    }
   ],
   "source": [
    "hello = 'hi hello'\n",
    "print(tuple(hello))"
   ]
  },
  {
   "cell_type": "code",
   "execution_count": 88,
   "id": "7bd56508",
   "metadata": {},
   "outputs": [
    {
     "data": {
      "text/plain": [
       "{1: 2, 3: 4}"
      ]
     },
     "execution_count": 88,
     "metadata": {},
     "output_type": "execute_result"
    }
   ],
   "source": [
    "dict([[1,2],[3,4]])"
   ]
  },
  {
   "cell_type": "code",
   "execution_count": null,
   "id": "118e6cd4",
   "metadata": {},
   "outputs": [],
   "source": []
  }
 ],
 "metadata": {
  "kernelspec": {
   "display_name": "Python 3 (ipykernel)",
   "language": "python",
   "name": "python3"
  },
  "language_info": {
   "codemirror_mode": {
    "name": "ipython",
    "version": 3
   },
   "file_extension": ".py",
   "mimetype": "text/x-python",
   "name": "python",
   "nbconvert_exporter": "python",
   "pygments_lexer": "ipython3",
   "version": "3.11.2"
  }
 },
 "nbformat": 4,
 "nbformat_minor": 5
}
