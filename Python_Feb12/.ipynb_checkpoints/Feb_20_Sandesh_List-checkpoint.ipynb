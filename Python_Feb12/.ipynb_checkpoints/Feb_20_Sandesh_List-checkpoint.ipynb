{
 "cells": [
  {
   "cell_type": "code",
   "execution_count": null,
   "id": "7a03468e",
   "metadata": {},
   "outputs": [],
   "source": [
    "#ist in Python"
   ]
  },
  {
   "cell_type": "code",
   "execution_count": 1,
   "id": "a85db1ed",
   "metadata": {},
   "outputs": [
    {
     "name": "stdout",
     "output_type": "stream",
     "text": [
      "apple banana grapes mango\n"
     ]
    }
   ],
   "source": [
    "fruit1='apple'\n",
    "fruit2='banana'\n",
    "fruit3='grapes'\n",
    "fruit4='mango'\n",
    "print(fruit1,fruit2,fruit3,fruit4)\n"
   ]
  },
  {
   "cell_type": "code",
   "execution_count": 4,
   "id": "8b8eb575",
   "metadata": {},
   "outputs": [
    {
     "name": "stdout",
     "output_type": "stream",
     "text": [
      "['apple', 'banana', 'grapes', 'mango']\n"
     ]
    }
   ],
   "source": [
    "fruits=['apple','banana','grapes','mango']#list data structures/datatypes\n",
    "print(fruits)"
   ]
  },
  {
   "cell_type": "code",
   "execution_count": 5,
   "id": "9ef461fb",
   "metadata": {},
   "outputs": [
    {
     "name": "stdout",
     "output_type": "stream",
     "text": [
      "[1, 0.1, 'hello', (1+4j), ['hello', 'hi']]\n"
     ]
    }
   ],
   "source": [
    "my_list=[1,0.1,'hello',1+4j,['hello','hi']]\n",
    "#any datatype can be inserted inside list\n",
    "print(my_list)"
   ]
  },
  {
   "cell_type": "code",
   "execution_count": 6,
   "id": "04c9361d",
   "metadata": {},
   "outputs": [
    {
     "name": "stdout",
     "output_type": "stream",
     "text": [
      "banana\n"
     ]
    }
   ],
   "source": [
    "fruits=['apple','banana','grapes','mango']\n",
    "print(fruits[1])"
   ]
  },
  {
   "cell_type": "code",
   "execution_count": 7,
   "id": "21827442",
   "metadata": {},
   "outputs": [
    {
     "name": "stdout",
     "output_type": "stream",
     "text": [
      "['apple', 'banana', 'grapes']\n"
     ]
    }
   ],
   "source": [
    "fruits=['apple','banana','grapes','mango']\n",
    "print(fruits[0:3])"
   ]
  },
  {
   "cell_type": "code",
   "execution_count": 8,
   "id": "ae83b999",
   "metadata": {},
   "outputs": [
    {
     "data": {
      "text/plain": [
       "'mango'"
      ]
     },
     "execution_count": 8,
     "metadata": {},
     "output_type": "execute_result"
    }
   ],
   "source": [
    "fruits[-1]"
   ]
  },
  {
   "cell_type": "code",
   "execution_count": 9,
   "id": "c434067c",
   "metadata": {},
   "outputs": [
    {
     "name": "stdout",
     "output_type": "stream",
     "text": [
      "['apple', 'banana', 'grapes', 'mango', 'guava']\n"
     ]
    }
   ],
   "source": [
    "fruits=['apple','banana','grapes','mango']#mutable datatype=>can be changed later\n",
    "fruits.append('guava')#insert at last of list\n",
    "print(fruits)"
   ]
  },
  {
   "cell_type": "code",
   "execution_count": 10,
   "id": "d14c8155",
   "metadata": {},
   "outputs": [
    {
     "ename": "TypeError",
     "evalue": "'str' object doesn't support item deletion",
     "output_type": "error",
     "traceback": [
      "\u001b[1;31m---------------------------------------------------------------------------\u001b[0m",
      "\u001b[1;31mTypeError\u001b[0m                                 Traceback (most recent call last)",
      "Cell \u001b[1;32mIn[10], line 2\u001b[0m\n\u001b[0;32m      1\u001b[0m x\u001b[38;5;241m=\u001b[39m\u001b[38;5;124m'\u001b[39m\u001b[38;5;124mram\u001b[39m\u001b[38;5;124m'\u001b[39m\n\u001b[1;32m----> 2\u001b[0m \u001b[38;5;28;01mdel\u001b[39;00m \u001b[43mx\u001b[49m\u001b[43m[\u001b[49m\u001b[38;5;241;43m0\u001b[39;49m\u001b[43m]\u001b[49m\n",
      "\u001b[1;31mTypeError\u001b[0m: 'str' object doesn't support item deletion"
     ]
    }
   ],
   "source": [
    "x='ram'\n",
    "del x[0]"
   ]
  },
  {
   "cell_type": "code",
   "execution_count": 11,
   "id": "a55d19a9",
   "metadata": {},
   "outputs": [
    {
     "name": "stdout",
     "output_type": "stream",
     "text": [
      "['banana', 'grapes', 'mango']\n"
     ]
    }
   ],
   "source": [
    "#mutable => list, dictionary,set\n",
    "#immutable => number,string,tuple\n",
    "fruits=['apple','banana','grapes','mango']\n",
    "del fruits[0]\n",
    "print(fruits)"
   ]
  },
  {
   "cell_type": "code",
   "execution_count": 12,
   "id": "2f9a3fa1",
   "metadata": {},
   "outputs": [
    {
     "name": "stdout",
     "output_type": "stream",
     "text": [
      "['banana', 'grapes', 'mango']\n"
     ]
    }
   ],
   "source": [
    "fruits=['apple','banana','grapes','mango']\n",
    "#mutable datatypes can be changed later\n",
    "del fruits[[0][0]]\n",
    "print(fruits)"
   ]
  },
  {
   "cell_type": "code",
   "execution_count": 13,
   "id": "ae7c64f3",
   "metadata": {},
   "outputs": [
    {
     "name": "stdout",
     "output_type": "stream",
     "text": [
      "[1, [2, 3, 4], 6, 7, 8, 9]\n"
     ]
    }
   ],
   "source": [
    "numbers=[1,[2,3,4],6,7,8,9]\n",
    "print(numbers)"
   ]
  },
  {
   "cell_type": "code",
   "execution_count": 14,
   "id": "133cbcaf",
   "metadata": {},
   "outputs": [
    {
     "name": "stdout",
     "output_type": "stream",
     "text": [
      "2\n"
     ]
    }
   ],
   "source": [
    "numbers=[1,[2,3,4],6,7,8,9]\n",
    "print(numbers[1][0])"
   ]
  },
  {
   "cell_type": "code",
   "execution_count": 17,
   "id": "5a99069d",
   "metadata": {},
   "outputs": [
    {
     "data": {
      "text/plain": [
       "[7, [[2, 3, 4, 5, 6, 7, 8], 6], 7, 8]"
      ]
     },
     "execution_count": 17,
     "metadata": {},
     "output_type": "execute_result"
    }
   ],
   "source": [
    "numbers=[1,4,[7,[[2,3,4,5,6,7,8],6],7,8],9]\n",
    "numbers[2]"
   ]
  },
  {
   "cell_type": "code",
   "execution_count": 18,
   "id": "b9bc9088",
   "metadata": {},
   "outputs": [
    {
     "data": {
      "text/plain": [
       "[[2, 3, 4, 5, 6, 7, 8], 6]"
      ]
     },
     "execution_count": 18,
     "metadata": {},
     "output_type": "execute_result"
    }
   ],
   "source": [
    "numbers[2][1]"
   ]
  },
  {
   "cell_type": "code",
   "execution_count": 19,
   "id": "88f527bf",
   "metadata": {},
   "outputs": [
    {
     "data": {
      "text/plain": [
       "6"
      ]
     },
     "execution_count": 19,
     "metadata": {},
     "output_type": "execute_result"
    }
   ],
   "source": [
    "numbers[2][1][1]"
   ]
  },
  {
   "cell_type": "code",
   "execution_count": 20,
   "id": "6e2e3da8",
   "metadata": {},
   "outputs": [
    {
     "data": {
      "text/plain": [
       "[7, [[2, 3, 4, 5, 7, 8], 6], 7, 8]"
      ]
     },
     "execution_count": 20,
     "metadata": {},
     "output_type": "execute_result"
    }
   ],
   "source": [
    "numbers=[1,4,[7,[[2,3,4,5,7,8],6],7,8],9]\n",
    "numbers[2]"
   ]
  },
  {
   "cell_type": "code",
   "execution_count": 21,
   "id": "6e0d6f16",
   "metadata": {},
   "outputs": [
    {
     "data": {
      "text/plain": [
       "[[2, 3, 4, 5, 7, 8], 6]"
      ]
     },
     "execution_count": 21,
     "metadata": {},
     "output_type": "execute_result"
    }
   ],
   "source": [
    "numbers[2][1]"
   ]
  },
  {
   "cell_type": "code",
   "execution_count": 22,
   "id": "1c772fc1",
   "metadata": {},
   "outputs": [
    {
     "data": {
      "text/plain": [
       "[2, 3, 4, 5, 7, 8]"
      ]
     },
     "execution_count": 22,
     "metadata": {},
     "output_type": "execute_result"
    }
   ],
   "source": [
    "numbers[2][1][0]"
   ]
  },
  {
   "cell_type": "code",
   "execution_count": 24,
   "id": "f22a99e8",
   "metadata": {},
   "outputs": [
    {
     "data": {
      "text/plain": [
       "[5, 7, 8]"
      ]
     },
     "execution_count": 24,
     "metadata": {},
     "output_type": "execute_result"
    }
   ],
   "source": [
    "numbers[2][1][0][3:]"
   ]
  },
  {
   "cell_type": "code",
   "execution_count": 25,
   "id": "cfff1d5b",
   "metadata": {},
   "outputs": [
    {
     "data": {
      "text/plain": [
       "[7, [[2, 3, 4, 5, 7, 8], 6], 7, 8]"
      ]
     },
     "execution_count": 25,
     "metadata": {},
     "output_type": "execute_result"
    }
   ],
   "source": [
    "numbers=[1,4,[7,[[2,3,4,5,7,8],6],7,8],9]\n",
    "numbers[2]"
   ]
  },
  {
   "cell_type": "code",
   "execution_count": 26,
   "id": "eab681f1",
   "metadata": {},
   "outputs": [
    {
     "data": {
      "text/plain": [
       "[[2, 3, 4, 5, 7, 8], 6]"
      ]
     },
     "execution_count": 26,
     "metadata": {},
     "output_type": "execute_result"
    }
   ],
   "source": [
    "numbers[2][1]"
   ]
  },
  {
   "cell_type": "code",
   "execution_count": 27,
   "id": "5e5e55f3",
   "metadata": {},
   "outputs": [
    {
     "data": {
      "text/plain": [
       "[2, 3, 4, 5, 7, 8]"
      ]
     },
     "execution_count": 27,
     "metadata": {},
     "output_type": "execute_result"
    }
   ],
   "source": [
    "numbers[2][1][0]\n"
   ]
  },
  {
   "cell_type": "code",
   "execution_count": 30,
   "id": "e75c9f45",
   "metadata": {},
   "outputs": [
    {
     "name": "stdout",
     "output_type": "stream",
     "text": [
      "[1, 2, 3, 4, 5, 6, 'hello']\n",
      "[1, 2, 3, 4, 5, 6, 'hello']\n"
     ]
    }
   ],
   "source": [
    "numbers=[1,2,3,4,5,6]\n",
    "y=numbers\n",
    "y.append('hello')\n",
    "print(y)\n",
    "print(numbers)"
   ]
  },
  {
   "cell_type": "code",
   "execution_count": 31,
   "id": "bbf882ba",
   "metadata": {},
   "outputs": [
    {
     "name": "stdout",
     "output_type": "stream",
     "text": [
      "2920278782336\n",
      "2920278782336\n",
      "[1, 2, 3, 4, 5, 6, 'hello']\n",
      "[1, 2, 3, 4, 5, 6, 'hello']\n"
     ]
    }
   ],
   "source": [
    "numbers=[1,2,3,4,5,6]\n",
    "print(id(numbers))\n",
    "y=numbers # pointing to same memory address of numbers\n",
    "print(id(y))\n",
    "y.append('hello')\n",
    "print(y)\n",
    "print(numbers)"
   ]
  },
  {
   "cell_type": "code",
   "execution_count": 32,
   "id": "0d19ee78",
   "metadata": {},
   "outputs": [
    {
     "name": "stdout",
     "output_type": "stream",
     "text": [
      "2920284018752\n",
      "2920283933760\n",
      "[1, 2, 3, 4, 5, 6, 'hello']\n",
      "[1, 2, 3, 4, 5, 6]\n"
     ]
    }
   ],
   "source": [
    "numbers=[1,2,3,4,5,6]\n",
    "print(id(numbers))\n",
    "y=numbers[:] # get all values of numbers and add to separate memory address\n",
    "print(id(y))\n",
    "y.append('hello')\n",
    "print(y)\n",
    "print(numbers)"
   ]
  },
  {
   "cell_type": "code",
   "execution_count": 33,
   "id": "84e3491a",
   "metadata": {},
   "outputs": [
    {
     "data": {
      "text/plain": [
       "['apple', 'orange', 'grapes', 'mango']"
      ]
     },
     "execution_count": 33,
     "metadata": {},
     "output_type": "execute_result"
    }
   ],
   "source": [
    "fruits=['apple','banana','grapes','mango']\n",
    "fruits[1]='orange'\n",
    "fruits"
   ]
  },
  {
   "cell_type": "code",
   "execution_count": 34,
   "id": "d6f02718",
   "metadata": {},
   "outputs": [
    {
     "name": "stdout",
     "output_type": "stream",
     "text": [
      "['apple', 'banana', 'grapes', 'mango', 'apple', 'banana', 'grapes', 'mango']\n"
     ]
    }
   ],
   "source": [
    "fruits1=['apple','banana','grapes','mango']\n",
    "fruits2=['apple','banana','grapes','mango']\n",
    "x=fruits1+fruits2# list concatenation\n",
    "print(x)"
   ]
  },
  {
   "cell_type": "code",
   "execution_count": 35,
   "id": "dfc4f266",
   "metadata": {},
   "outputs": [
    {
     "ename": "TypeError",
     "evalue": "can only concatenate list (not \"str\") to list",
     "output_type": "error",
     "traceback": [
      "\u001b[1;31m---------------------------------------------------------------------------\u001b[0m",
      "\u001b[1;31mTypeError\u001b[0m                                 Traceback (most recent call last)",
      "Cell \u001b[1;32mIn[35], line 2\u001b[0m\n\u001b[0;32m      1\u001b[0m fruits\u001b[38;5;241m=\u001b[39m[\u001b[38;5;124m'\u001b[39m\u001b[38;5;124mapple\u001b[39m\u001b[38;5;124m'\u001b[39m,\u001b[38;5;124m'\u001b[39m\u001b[38;5;124mbanana\u001b[39m\u001b[38;5;124m'\u001b[39m,\u001b[38;5;124m'\u001b[39m\u001b[38;5;124mgrapes\u001b[39m\u001b[38;5;124m'\u001b[39m,\u001b[38;5;124m'\u001b[39m\u001b[38;5;124mmango\u001b[39m\u001b[38;5;124m'\u001b[39m]\n\u001b[1;32m----> 2\u001b[0m \u001b[43mfruits\u001b[49m\u001b[38;5;241;43m+\u001b[39;49m\u001b[38;5;124;43m'\u001b[39;49m\u001b[38;5;124;43mhello\u001b[39;49m\u001b[38;5;124;43m'\u001b[39;49m\n",
      "\u001b[1;31mTypeError\u001b[0m: can only concatenate list (not \"str\") to list"
     ]
    }
   ],
   "source": [
    "fruits=['apple','banana','grapes','mango']\n",
    "fruits+'hello'"
   ]
  },
  {
   "cell_type": "code",
   "execution_count": 36,
   "id": "7e4cd09b",
   "metadata": {},
   "outputs": [
    {
     "name": "stdout",
     "output_type": "stream",
     "text": [
      "['apple', 'banana', 'grapes', 'mango', 'apple', 'banana', 'grapes', 'mango']\n"
     ]
    }
   ],
   "source": [
    "fruits=['apple','banana','grapes','mango']\n",
    "x=fruits*2 #repeat 2 times i.e replication\n",
    "print(x)"
   ]
  },
  {
   "cell_type": "code",
   "execution_count": 37,
   "id": "fa44a31c",
   "metadata": {},
   "outputs": [
    {
     "ename": "TypeError",
     "evalue": "can't multiply sequence by non-int of type 'list'",
     "output_type": "error",
     "traceback": [
      "\u001b[1;31m---------------------------------------------------------------------------\u001b[0m",
      "\u001b[1;31mTypeError\u001b[0m                                 Traceback (most recent call last)",
      "Cell \u001b[1;32mIn[37], line 2\u001b[0m\n\u001b[0;32m      1\u001b[0m fruits\u001b[38;5;241m=\u001b[39m[\u001b[38;5;124m'\u001b[39m\u001b[38;5;124mapple\u001b[39m\u001b[38;5;124m'\u001b[39m,\u001b[38;5;124m'\u001b[39m\u001b[38;5;124mbanana\u001b[39m\u001b[38;5;124m'\u001b[39m,\u001b[38;5;124m'\u001b[39m\u001b[38;5;124mgrapes\u001b[39m\u001b[38;5;124m'\u001b[39m,\u001b[38;5;124m'\u001b[39m\u001b[38;5;124mmango\u001b[39m\u001b[38;5;124m'\u001b[39m]\n\u001b[1;32m----> 2\u001b[0m \u001b[43mfruits\u001b[49m\u001b[38;5;241;43m*\u001b[39;49m\u001b[43m[\u001b[49m\u001b[38;5;124;43m'\u001b[39;49m\u001b[38;5;124;43mhello\u001b[39;49m\u001b[38;5;124;43m'\u001b[39;49m\u001b[43m]\u001b[49m\n",
      "\u001b[1;31mTypeError\u001b[0m: can't multiply sequence by non-int of type 'list'"
     ]
    }
   ],
   "source": [
    "fruits=['apple','banana','grapes','mango']\n",
    "fruits*['hello']"
   ]
  },
  {
   "cell_type": "code",
   "execution_count": null,
   "id": "3066e103",
   "metadata": {},
   "outputs": [],
   "source": [
    "fruits=['apple','banana','grapes','mango']\n",
    "fruits*['hello']"
   ]
  }
 ],
 "metadata": {
  "kernelspec": {
   "display_name": "Python 3 (ipykernel)",
   "language": "python",
   "name": "python3"
  },
  "language_info": {
   "codemirror_mode": {
    "name": "ipython",
    "version": 3
   },
   "file_extension": ".py",
   "mimetype": "text/x-python",
   "name": "python",
   "nbconvert_exporter": "python",
   "pygments_lexer": "ipython3",
   "version": "3.11.2"
  }
 },
 "nbformat": 4,
 "nbformat_minor": 5
}
