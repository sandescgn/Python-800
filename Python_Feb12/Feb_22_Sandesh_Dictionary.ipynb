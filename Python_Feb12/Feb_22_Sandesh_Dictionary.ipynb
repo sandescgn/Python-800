{
 "cells": [
  {
   "cell_type": "code",
   "execution_count": 1,
   "id": "1072970e",
   "metadata": {},
   "outputs": [
    {
     "name": "stdout",
     "output_type": "stream",
     "text": [
      "(1, 2, 3, 5, 6, 7)\n"
     ]
    }
   ],
   "source": [
    "x=(1,2,3)\n",
    "y=(5,6,7)\n",
    "z=x+y #concatenation\n",
    "print(z)"
   ]
  },
  {
   "cell_type": "code",
   "execution_count": 2,
   "id": "b15a50f1",
   "metadata": {},
   "outputs": [
    {
     "name": "stdout",
     "output_type": "stream",
     "text": [
      "(1, 2, 3, 1, 2, 3)\n"
     ]
    }
   ],
   "source": [
    "x=(1,2,3)\n",
    "print(x*2) #replication"
   ]
  },
  {
   "cell_type": "code",
   "execution_count": 3,
   "id": "f1e05832",
   "metadata": {},
   "outputs": [
    {
     "name": "stdout",
     "output_type": "stream",
     "text": [
      "1\n",
      "2\n",
      "3\n"
     ]
    }
   ],
   "source": [
    "x=(1,2,3)\n",
    "for i in x:\n",
    "    print(i)"
   ]
  },
  {
   "cell_type": "code",
   "execution_count": 4,
   "id": "3a4a9c74",
   "metadata": {},
   "outputs": [
    {
     "data": {
      "text/plain": [
       "True"
      ]
     },
     "execution_count": 4,
     "metadata": {},
     "output_type": "execute_result"
    }
   ],
   "source": [
    "x=(1,2,3)\n",
    "1 in x"
   ]
  },
  {
   "cell_type": "code",
   "execution_count": 5,
   "id": "44a12104",
   "metadata": {},
   "outputs": [
    {
     "data": {
      "text/plain": [
       "False"
      ]
     },
     "execution_count": 5,
     "metadata": {},
     "output_type": "execute_result"
    }
   ],
   "source": [
    "x=(1,2,3)\n",
    "'1' in x"
   ]
  },
  {
   "cell_type": "code",
   "execution_count": null,
   "id": "66140671",
   "metadata": {},
   "outputs": [],
   "source": [
    " #in list homogeneous datastructure\n",
    "    fruits=['apple','banana','orange']\n",
    "    \n",
    "# in tuple there is heterogeneous datastructure but\n",
    "x=(1,'ram',932423432,'ktm',234234.2343)\n",
    "\n",
    "#differences of tuple & list\n",
    "#immutable => tuple, mutable=> list\n",
    "#heterogenous =>tuple, homogeneous => list\n",
    "#()=> tuple, []=> list\n",
    "# fast => tuple, less faster=> list\n",
    "# less memory => tuple, more memory => list\n",
    "#safe=> tuple, not safe=> list (mutation)`"
   ]
  },
  {
   "cell_type": "code",
   "execution_count": 6,
   "id": "ab014ca9",
   "metadata": {},
   "outputs": [
    {
     "name": "stdout",
     "output_type": "stream",
     "text": [
      "{'id': 1, 'name': 'ram', 'mobile': 932423432, 'address': 'ktm', 'salary': 234234.2343}\n"
     ]
    }
   ],
   "source": [
    "person=(1,'ram',932423432,'ktm',234234.2343)\n",
    "#dictionary\n",
    "#record => object => dictionary\n",
    "#order is maitained in dictionary => 3.6\n",
    "person={\n",
    "    'id':1,\n",
    "    'name':'ram',\n",
    "    'mobile':932423432,\n",
    "    'address':'ktm',\n",
    "    'salary':234234.2343\n",
    "}\n",
    "print(person)"
   ]
  },
  {
   "cell_type": "code",
   "execution_count": null,
   "id": "02c31509",
   "metadata": {},
   "outputs": [],
   "source": [
    "#immutable datatype => hashable object\n",
    "x={(12,2):45}"
   ]
  },
  {
   "cell_type": "code",
   "execution_count": 7,
   "id": "9285fcae",
   "metadata": {},
   "outputs": [
    {
     "name": "stdout",
     "output_type": "stream",
     "text": [
      "{1: 'hello', 2: 'hi', 3: 'bye'}\n"
     ]
    }
   ],
   "source": [
    "x={1:'hello',2:'hi',3:'bye'}\n",
    "print(x)"
   ]
  },
  {
   "cell_type": "code",
   "execution_count": 8,
   "id": "a6365cbd",
   "metadata": {},
   "outputs": [
    {
     "name": "stdout",
     "output_type": "stream",
     "text": [
      "ram\n",
      "ktm\n"
     ]
    }
   ],
   "source": [
    "person={\n",
    "    'id':1,\n",
    "    'name':'ram',\n",
    "    'mobile':932423432,\n",
    "    'address':'ktm',\n",
    "    'salary':234234.2343\n",
    "}\n",
    "print(person['name'])\n",
    "print(person['address'])"
   ]
  },
  {
   "cell_type": "code",
   "execution_count": 9,
   "id": "8f5642f9",
   "metadata": {},
   "outputs": [
    {
     "name": "stdout",
     "output_type": "stream",
     "text": [
      "{'id': 1, 'name': 'ram', 'mobile': 932423432, 'address': 'ktm', 'salary': 234234.2343, 'email': 'ram@gmail.com'}\n"
     ]
    }
   ],
   "source": [
    "person={\n",
    "    'id':1,\n",
    "    'name':'ram',\n",
    "    'mobile':932423432,\n",
    "    'address':'ktm',\n",
    "    'salary':234234.2343\n",
    "}\n",
    "person['email']='ram@gmail.com'\n",
    "print(person)"
   ]
  },
  {
   "cell_type": "code",
   "execution_count": 11,
   "id": "449a2d7c",
   "metadata": {},
   "outputs": [
    {
     "name": "stdout",
     "output_type": "stream",
     "text": [
      "hello\n"
     ]
    }
   ],
   "source": [
    "person={\n",
    "    'id':1,\n",
    "    'name':'ram',\n",
    "    'mobile':932423432,\n",
    "    'address':'ktm',\n",
    "    'salary':234234.2343,\n",
    "    (1,2):'hello'\n",
    "}\n",
    "print(person[(1,2)])"
   ]
  },
  {
   "cell_type": "code",
   "execution_count": 12,
   "id": "1651cf0c",
   "metadata": {},
   "outputs": [
    {
     "name": "stdout",
     "output_type": "stream",
     "text": [
      "{'id': 1, 'name': 'hari', 'mobile': 932423432, 'address': 'ktm', 'salary': 234234.2343}\n"
     ]
    }
   ],
   "source": [
    "person={\n",
    "    'id':1,\n",
    "    'name':'ram',\n",
    "    'mobile':932423432,\n",
    "    'address':'ktm',\n",
    "    'salary':234234.2343,\n",
    "    'name':'hari'\n",
    "}\n",
    "print(person)"
   ]
  },
  {
   "cell_type": "code",
   "execution_count": 15,
   "id": "99053598",
   "metadata": {},
   "outputs": [
    {
     "name": "stdout",
     "output_type": "stream",
     "text": [
      "{'id': 1, 'name': 'ram', 'mobile': 932423432, 'salary': 234234.2343, 'age': 22, 'address': 'Itr'}\n"
     ]
    }
   ],
   "source": [
    "person={\n",
    "    'id':1,\n",
    "    'name':'ram',\n",
    "    'mobile':932423432,\n",
    "    'address':'ktm',\n",
    "    'salary':234234.2343\n",
    "}\n",
    "del person ['address']\n",
    "person['age']=22\n",
    "person['address']='Itr'\n",
    "print(person)"
   ]
  },
  {
   "cell_type": "code",
   "execution_count": 16,
   "id": "7aa6f25d",
   "metadata": {},
   "outputs": [
    {
     "name": "stdout",
     "output_type": "stream",
     "text": [
      "Help on class dict in module builtins:\n",
      "\n",
      "class dict(object)\n",
      " |  dict() -> new empty dictionary\n",
      " |  dict(mapping) -> new dictionary initialized from a mapping object's\n",
      " |      (key, value) pairs\n",
      " |  dict(iterable) -> new dictionary initialized as if via:\n",
      " |      d = {}\n",
      " |      for k, v in iterable:\n",
      " |          d[k] = v\n",
      " |  dict(**kwargs) -> new dictionary initialized with the name=value pairs\n",
      " |      in the keyword argument list.  For example:  dict(one=1, two=2)\n",
      " |  \n",
      " |  Built-in subclasses:\n",
      " |      StgDict\n",
      " |  \n",
      " |  Methods defined here:\n",
      " |  \n",
      " |  __contains__(self, key, /)\n",
      " |      True if the dictionary has the specified key, else False.\n",
      " |  \n",
      " |  __delitem__(self, key, /)\n",
      " |      Delete self[key].\n",
      " |  \n",
      " |  __eq__(self, value, /)\n",
      " |      Return self==value.\n",
      " |  \n",
      " |  __ge__(self, value, /)\n",
      " |      Return self>=value.\n",
      " |  \n",
      " |  __getattribute__(self, name, /)\n",
      " |      Return getattr(self, name).\n",
      " |  \n",
      " |  __getitem__(...)\n",
      " |      x.__getitem__(y) <==> x[y]\n",
      " |  \n",
      " |  __gt__(self, value, /)\n",
      " |      Return self>value.\n",
      " |  \n",
      " |  __init__(self, /, *args, **kwargs)\n",
      " |      Initialize self.  See help(type(self)) for accurate signature.\n",
      " |  \n",
      " |  __ior__(self, value, /)\n",
      " |      Return self|=value.\n",
      " |  \n",
      " |  __iter__(self, /)\n",
      " |      Implement iter(self).\n",
      " |  \n",
      " |  __le__(self, value, /)\n",
      " |      Return self<=value.\n",
      " |  \n",
      " |  __len__(self, /)\n",
      " |      Return len(self).\n",
      " |  \n",
      " |  __lt__(self, value, /)\n",
      " |      Return self<value.\n",
      " |  \n",
      " |  __ne__(self, value, /)\n",
      " |      Return self!=value.\n",
      " |  \n",
      " |  __or__(self, value, /)\n",
      " |      Return self|value.\n",
      " |  \n",
      " |  __repr__(self, /)\n",
      " |      Return repr(self).\n",
      " |  \n",
      " |  __reversed__(self, /)\n",
      " |      Return a reverse iterator over the dict keys.\n",
      " |  \n",
      " |  __ror__(self, value, /)\n",
      " |      Return value|self.\n",
      " |  \n",
      " |  __setitem__(self, key, value, /)\n",
      " |      Set self[key] to value.\n",
      " |  \n",
      " |  __sizeof__(...)\n",
      " |      D.__sizeof__() -> size of D in memory, in bytes\n",
      " |  \n",
      " |  clear(...)\n",
      " |      D.clear() -> None.  Remove all items from D.\n",
      " |  \n",
      " |  copy(...)\n",
      " |      D.copy() -> a shallow copy of D\n",
      " |  \n",
      " |  get(self, key, default=None, /)\n",
      " |      Return the value for key if key is in the dictionary, else default.\n",
      " |  \n",
      " |  items(...)\n",
      " |      D.items() -> a set-like object providing a view on D's items\n",
      " |  \n",
      " |  keys(...)\n",
      " |      D.keys() -> a set-like object providing a view on D's keys\n",
      " |  \n",
      " |  pop(...)\n",
      " |      D.pop(k[,d]) -> v, remove specified key and return the corresponding value.\n",
      " |      \n",
      " |      If the key is not found, return the default if given; otherwise,\n",
      " |      raise a KeyError.\n",
      " |  \n",
      " |  popitem(self, /)\n",
      " |      Remove and return a (key, value) pair as a 2-tuple.\n",
      " |      \n",
      " |      Pairs are returned in LIFO (last-in, first-out) order.\n",
      " |      Raises KeyError if the dict is empty.\n",
      " |  \n",
      " |  setdefault(self, key, default=None, /)\n",
      " |      Insert key with a value of default if key is not in the dictionary.\n",
      " |      \n",
      " |      Return the value for key if key is in the dictionary, else default.\n",
      " |  \n",
      " |  update(...)\n",
      " |      D.update([E, ]**F) -> None.  Update D from dict/iterable E and F.\n",
      " |      If E is present and has a .keys() method, then does:  for k in E: D[k] = E[k]\n",
      " |      If E is present and lacks a .keys() method, then does:  for k, v in E: D[k] = v\n",
      " |      In either case, this is followed by: for k in F:  D[k] = F[k]\n",
      " |  \n",
      " |  values(...)\n",
      " |      D.values() -> an object providing a view on D's values\n",
      " |  \n",
      " |  ----------------------------------------------------------------------\n",
      " |  Class methods defined here:\n",
      " |  \n",
      " |  __class_getitem__(...) from builtins.type\n",
      " |      See PEP 585\n",
      " |  \n",
      " |  fromkeys(iterable, value=None, /) from builtins.type\n",
      " |      Create a new dictionary with keys from iterable and values set to value.\n",
      " |  \n",
      " |  ----------------------------------------------------------------------\n",
      " |  Static methods defined here:\n",
      " |  \n",
      " |  __new__(*args, **kwargs) from builtins.type\n",
      " |      Create and return a new object.  See help(type) for accurate signature.\n",
      " |  \n",
      " |  ----------------------------------------------------------------------\n",
      " |  Data and other attributes defined here:\n",
      " |  \n",
      " |  __hash__ = None\n",
      "\n"
     ]
    }
   ],
   "source": [
    "help(dict)"
   ]
  },
  {
   "cell_type": "code",
   "execution_count": 17,
   "id": "65a0a098",
   "metadata": {},
   "outputs": [
    {
     "name": "stdout",
     "output_type": "stream",
     "text": [
      "{}\n"
     ]
    }
   ],
   "source": [
    "person={\n",
    "    'id':1,\n",
    "    'name':'ram',\n",
    "    'mobile':932423432,\n",
    "    'address':'ktm',\n",
    "    'salary':234234.2343\n",
    "}\n",
    "person.clear()\n",
    "print(person)"
   ]
  },
  {
   "cell_type": "code",
   "execution_count": 18,
   "id": "b2bdfa20",
   "metadata": {},
   "outputs": [
    {
     "name": "stdout",
     "output_type": "stream",
     "text": [
      "{'id': 1, 'name': 'ram', 'mobile': 932423432, 'address': 'ktm', 'salary': 234234.2343, 'age': 17}\n",
      "{'id': 1, 'name': 'ram', 'mobile': 932423432, 'address': 'ktm', 'salary': 234234.2343}\n"
     ]
    }
   ],
   "source": [
    "person={\n",
    "    'id':1,\n",
    "    'name':'ram',\n",
    "    'mobile':932423432,\n",
    "    'address':'ktm',\n",
    "    'salary':234234.2343\n",
    "}\n",
    "y=person.copy()\n",
    "y['age']=17\n",
    "print(y)\n",
    "print(person)"
   ]
  },
  {
   "cell_type": "code",
   "execution_count": 20,
   "id": "5c386d96",
   "metadata": {},
   "outputs": [
    {
     "ename": "KeyError",
     "evalue": "'email'",
     "output_type": "error",
     "traceback": [
      "\u001b[1;31m---------------------------------------------------------------------------\u001b[0m",
      "\u001b[1;31mKeyError\u001b[0m                                  Traceback (most recent call last)",
      "Cell \u001b[1;32mIn[20], line 8\u001b[0m\n\u001b[0;32m      1\u001b[0m person\u001b[38;5;241m=\u001b[39m{\n\u001b[0;32m      2\u001b[0m     \u001b[38;5;124m'\u001b[39m\u001b[38;5;124mid\u001b[39m\u001b[38;5;124m'\u001b[39m:\u001b[38;5;241m1\u001b[39m,\n\u001b[0;32m      3\u001b[0m     \u001b[38;5;124m'\u001b[39m\u001b[38;5;124mname\u001b[39m\u001b[38;5;124m'\u001b[39m:\u001b[38;5;124m'\u001b[39m\u001b[38;5;124mram\u001b[39m\u001b[38;5;124m'\u001b[39m,\n\u001b[1;32m   (...)\u001b[0m\n\u001b[0;32m      6\u001b[0m     \u001b[38;5;124m'\u001b[39m\u001b[38;5;124msalary\u001b[39m\u001b[38;5;124m'\u001b[39m:\u001b[38;5;241m234234.2343\u001b[39m\n\u001b[0;32m      7\u001b[0m }\n\u001b[1;32m----> 8\u001b[0m \u001b[38;5;28mprint\u001b[39m((\u001b[43mperson\u001b[49m\u001b[43m[\u001b[49m\u001b[38;5;124;43m'\u001b[39;49m\u001b[38;5;124;43memail\u001b[39;49m\u001b[38;5;124;43m'\u001b[39;49m\u001b[43m]\u001b[49m))\n",
      "\u001b[1;31mKeyError\u001b[0m: 'email'"
     ]
    }
   ],
   "source": [
    "person={\n",
    "    'id':1,\n",
    "    'name':'ram',\n",
    "    'mobile':932423432,\n",
    "    'address':'ktm',\n",
    "    'salary':234234.2343\n",
    "}\n",
    "print((person['email']))"
   ]
  },
  {
   "cell_type": "code",
   "execution_count": 22,
   "id": "75586d52",
   "metadata": {},
   "outputs": [
    {
     "name": "stdout",
     "output_type": "stream",
     "text": [
      "None\n",
      "None\n"
     ]
    }
   ],
   "source": [
    "person={\n",
    "    'id':1,\n",
    "    'name':'ram',\n",
    "    'mobile':932423432,\n",
    "    'address':'ktm',\n",
    "    'salary':234234.2343\n",
    "}\n",
    "print(person.get('email'))\n",
    "print(person.get('email',None)) #or\n"
   ]
  },
  {
   "cell_type": "code",
   "execution_count": 23,
   "id": "2d35abfe",
   "metadata": {},
   "outputs": [
    {
     "name": "stdout",
     "output_type": "stream",
     "text": [
      "ram@gmail.com\n",
      "{'id': 1, 'name': 'ram', 'mobile': 932423432, 'address': 'ktm', 'salary': 234234.2343}\n"
     ]
    }
   ],
   "source": [
    "person={\n",
    "    'id':1,\n",
    "    'name':'ram',\n",
    "    'mobile':932423432,\n",
    "    'address':'ktm',\n",
    "    'salary':234234.2343\n",
    "}\n",
    "print(person.get('email','ram@gmail.com'))\n",
    "print(person)"
   ]
  },
  {
   "cell_type": "code",
   "execution_count": 24,
   "id": "10808bd4",
   "metadata": {},
   "outputs": [
    {
     "name": "stdout",
     "output_type": "stream",
     "text": [
      "dict_items([('id', 1), ('name', 'ram'), ('mobile', 932423432), ('address', 'ktm'), ('salary', 234234.2343)])\n"
     ]
    }
   ],
   "source": [
    "person={\n",
    "    'id':1,\n",
    "    'name':'ram',\n",
    "    'mobile':932423432,\n",
    "    'address':'ktm',\n",
    "    'salary':234234.2343\n",
    "}\n",
    "print(person.items())"
   ]
  },
  {
   "cell_type": "code",
   "execution_count": 25,
   "id": "e46dff2c",
   "metadata": {},
   "outputs": [
    {
     "name": "stdout",
     "output_type": "stream",
     "text": [
      "dict_keys(['id', 'name', 'mobile', 'address', 'salary'])\n"
     ]
    }
   ],
   "source": [
    "person={\n",
    "    'id':1,\n",
    "    'name':'ram',\n",
    "    'mobile':932423432,\n",
    "    'address':'ktm',\n",
    "    'salary':234234.2343\n",
    "}\n",
    "print(person.keys())\n"
   ]
  },
  {
   "cell_type": "code",
   "execution_count": 26,
   "id": "22e309e1",
   "metadata": {},
   "outputs": [
    {
     "name": "stdout",
     "output_type": "stream",
     "text": [
      "dict_values([1, 'ram', 932423432, 'ktm', 234234.2343])\n"
     ]
    }
   ],
   "source": [
    "person={\n",
    "    'id':1,\n",
    "    'name':'ram',\n",
    "    'mobile':932423432,\n",
    "    'address':'ktm',\n",
    "    'salary':234234.2343\n",
    "}\n",
    "print(person.values())"
   ]
  },
  {
   "cell_type": "code",
   "execution_count": 27,
   "id": "65f080ae",
   "metadata": {},
   "outputs": [
    {
     "name": "stdout",
     "output_type": "stream",
     "text": [
      "932423432\n",
      "{'id': 1, 'name': 'ram', 'address': 'ktm', 'salary': 234234.2343}\n"
     ]
    }
   ],
   "source": [
    "person={\n",
    "    'id':1,\n",
    "    'name':'ram',\n",
    "    'mobile':932423432,\n",
    "    'address':'ktm',\n",
    "    'salary':234234.2343\n",
    "}\n",
    "print(person.pop('mobile'))\n",
    "print(person)"
   ]
  },
  {
   "cell_type": "code",
   "execution_count": 29,
   "id": "ee46100f",
   "metadata": {},
   "outputs": [
    {
     "ename": "KeyError",
     "evalue": "'phone'",
     "output_type": "error",
     "traceback": [
      "\u001b[1;31m---------------------------------------------------------------------------\u001b[0m",
      "\u001b[1;31mKeyError\u001b[0m                                  Traceback (most recent call last)",
      "Cell \u001b[1;32mIn[29], line 8\u001b[0m\n\u001b[0;32m      1\u001b[0m person\u001b[38;5;241m=\u001b[39m{\n\u001b[0;32m      2\u001b[0m     \u001b[38;5;124m'\u001b[39m\u001b[38;5;124mid\u001b[39m\u001b[38;5;124m'\u001b[39m:\u001b[38;5;241m1\u001b[39m,\n\u001b[0;32m      3\u001b[0m     \u001b[38;5;124m'\u001b[39m\u001b[38;5;124mname\u001b[39m\u001b[38;5;124m'\u001b[39m:\u001b[38;5;124m'\u001b[39m\u001b[38;5;124mram\u001b[39m\u001b[38;5;124m'\u001b[39m,\n\u001b[1;32m   (...)\u001b[0m\n\u001b[0;32m      6\u001b[0m     \u001b[38;5;124m'\u001b[39m\u001b[38;5;124msalary\u001b[39m\u001b[38;5;124m'\u001b[39m:\u001b[38;5;241m234234.2343\u001b[39m\n\u001b[0;32m      7\u001b[0m }\n\u001b[1;32m----> 8\u001b[0m \u001b[38;5;28mprint\u001b[39m(\u001b[43mperson\u001b[49m\u001b[38;5;241;43m.\u001b[39;49m\u001b[43mpop\u001b[49m\u001b[43m(\u001b[49m\u001b[38;5;124;43m'\u001b[39;49m\u001b[38;5;124;43mphone\u001b[39;49m\u001b[38;5;124;43m'\u001b[39;49m\u001b[43m)\u001b[49m)\n\u001b[0;32m      9\u001b[0m \u001b[38;5;28mprint\u001b[39m(person)\n",
      "\u001b[1;31mKeyError\u001b[0m: 'phone'"
     ]
    }
   ],
   "source": [
    "person={\n",
    "    'id':1,\n",
    "    'name':'ram',\n",
    "    'mobile':932423432,\n",
    "    'address':'ktm',\n",
    "    'salary':234234.2343\n",
    "}\n",
    "print(person.pop('phone'))\n",
    "print(person)"
   ]
  },
  {
   "cell_type": "code",
   "execution_count": 30,
   "id": "49140d88",
   "metadata": {},
   "outputs": [
    {
     "name": "stdout",
     "output_type": "stream",
     "text": [
      "None\n",
      "{'id': 1, 'name': 'ram', 'mobile': 932423432, 'address': 'ktm', 'salary': 234234.2343}\n"
     ]
    }
   ],
   "source": [
    "person={\n",
    "    'id':1,\n",
    "    'name':'ram',\n",
    "    'mobile':932423432,\n",
    "    'address':'ktm',\n",
    "    'salary':234234.2343\n",
    "}\n",
    "print(person.pop('phone',None))\n",
    "print(person)"
   ]
  },
  {
   "cell_type": "code",
   "execution_count": 31,
   "id": "a2c52ddb",
   "metadata": {},
   "outputs": [
    {
     "name": "stdout",
     "output_type": "stream",
     "text": [
      "0123124774\n",
      "{'id': 1, 'name': 'ram', 'mobile': 932423432, 'address': 'ktm', 'salary': 234234.2343}\n"
     ]
    }
   ],
   "source": [
    "person={\n",
    "    'id':1,\n",
    "    'name':'ram',\n",
    "    'mobile':932423432,\n",
    "    'address':'ktm',\n",
    "    'salary':234234.2343\n",
    "}\n",
    "print(person.pop('phone','0123124774'))\n",
    "print(person)"
   ]
  },
  {
   "cell_type": "code",
   "execution_count": 32,
   "id": "67cb5036",
   "metadata": {},
   "outputs": [
    {
     "name": "stdout",
     "output_type": "stream",
     "text": [
      "('salary', 234234.2343)\n",
      "{'id': 1, 'name': 'ram', 'mobile': 932423432, 'address': 'ktm'}\n"
     ]
    }
   ],
   "source": [
    "person={\n",
    "    'id':1,\n",
    "    'name':'ram',\n",
    "    'mobile':932423432,\n",
    "    'address':'ktm',\n",
    "    'salary':234234.2343\n",
    "}\n",
    "print(person.popitem())\n",
    "print(person)"
   ]
  },
  {
   "cell_type": "code",
   "execution_count": 33,
   "id": "117ddba6",
   "metadata": {},
   "outputs": [
    {
     "name": "stdout",
     "output_type": "stream",
     "text": [
      "ram@gmail.com\n",
      "{'id': 1, 'name': 'ram', 'mobile': 932423432, 'address': 'ktm', 'salary': 234234.2343}\n"
     ]
    }
   ],
   "source": [
    "person={\n",
    "    'id':1,\n",
    "    'name':'ram',\n",
    "    'mobile':932423432,\n",
    "    'address':'ktm',\n",
    "    'salary':234234.2343\n",
    "}\n",
    "print(person.get('email','ram@gmail.com'))\n",
    "print(person)"
   ]
  },
  {
   "cell_type": "code",
   "execution_count": 34,
   "id": "66cf0433",
   "metadata": {},
   "outputs": [
    {
     "name": "stdout",
     "output_type": "stream",
     "text": [
      "ram@gmail.com\n",
      "{'id': 1, 'name': 'ram', 'mobile': 932423432, 'address': 'ktm', 'salary': 234234.2343, 'email': 'ram@gmail.com'}\n"
     ]
    }
   ],
   "source": [
    "person={\n",
    "    'id':1,\n",
    "    'name':'ram',\n",
    "    'mobile':932423432,\n",
    "    'address':'ktm',\n",
    "    'salary':234234.2343\n",
    "}\n",
    "print(person.setdefault('email','ram@gmail.com'))\n",
    "print(person)"
   ]
  },
  {
   "cell_type": "code",
   "execution_count": 36,
   "id": "387994d3",
   "metadata": {},
   "outputs": [
    {
     "name": "stdout",
     "output_type": "stream",
     "text": [
      "hello@gmail.com\n",
      "{'id': 1, 'name': 'ram', 'mobile': 932423432, 'address': 'ktm', 'salary': 234234.2343, 'email': 'hello@gmail.com'}\n"
     ]
    }
   ],
   "source": [
    "person={\n",
    "    'id':1,\n",
    "    'name':'ram',\n",
    "    'mobile':932423432,\n",
    "    'address':'ktm',\n",
    "    'salary':234234.2343,\n",
    "    'email':'hello@gmail.com'\n",
    "}\n",
    "print(person.setdefault('email','ram@gmail.com'))\n",
    "print(person)"
   ]
  },
  {
   "cell_type": "code",
   "execution_count": null,
   "id": "208acff7",
   "metadata": {},
   "outputs": [],
   "source": []
  }
 ],
 "metadata": {
  "kernelspec": {
   "display_name": "Python 3 (ipykernel)",
   "language": "python",
   "name": "python3"
  },
  "language_info": {
   "codemirror_mode": {
    "name": "ipython",
    "version": 3
   },
   "file_extension": ".py",
   "mimetype": "text/x-python",
   "name": "python",
   "nbconvert_exporter": "python",
   "pygments_lexer": "ipython3",
   "version": "3.11.2"
  }
 },
 "nbformat": 4,
 "nbformat_minor": 5
}
