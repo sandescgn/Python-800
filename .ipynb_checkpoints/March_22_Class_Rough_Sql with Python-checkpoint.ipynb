{
 "cells": [
  {
   "cell_type": "code",
   "execution_count": 1,
   "id": "ecb4f716",
   "metadata": {},
   "outputs": [],
   "source": [
    "import sqlite3\n",
    "con=sqlite3.connect('students.db')\n",
    "cur=con.cursor()"
   ]
  },
  {
   "cell_type": "code",
   "execution_count": 2,
   "id": "96e2bbf9",
   "metadata": {},
   "outputs": [],
   "source": [
    "students=[\n",
    "(5,'hari bahadur','lalitpur','ncit',23,'m','SE','PU','9846448426','hari@gmail.com'),\n",
    "(6,'madan bahadur','kathmandu','british college',24,'m','UK','BIT','9846448926','madan@gmail.com'),\n",
    "(7,'maya devi','lalitpur','ncit',23,'m','SE','PU','9846448726','maya@gmail.com')\n",
    "]"
   ]
  },
  {
   "cell_type": "code",
   "execution_count": null,
   "id": "c0e1e8cd",
   "metadata": {},
   "outputs": [],
   "source": [
    "INSERT_STUDENT_QUERY =\"\"\"\n",
    "\n",
    "insert into student \n",
    "('id','name','address','college','age','gender','faculty','university','contact','email')\n",
    "values\n",
    "(?,?,?,?,?,?,?,?,?,?);\n",
    "\n",
    "\"\"\"\n",
    "cur.executemany(INSERT_STUDENT_QUERY,students)"
   ]
  },
  {
   "cell_type": "code",
   "execution_count": 13,
   "id": "89e32f7c",
   "metadata": {},
   "outputs": [],
   "source": [
    "import sqlite3\n",
    "con=sqlite3.connect('students.db')\n",
    "cur=con.cursor()"
   ]
  },
  {
   "cell_type": "code",
   "execution_count": 14,
   "id": "34f911be",
   "metadata": {},
   "outputs": [
    {
     "ename": "OperationalError",
     "evalue": "no such table: student",
     "output_type": "error",
     "traceback": [
      "\u001b[1;31m---------------------------------------------------------------------------\u001b[0m",
      "\u001b[1;31mOperationalError\u001b[0m                          Traceback (most recent call last)",
      "Cell \u001b[1;32mIn[14], line 12\u001b[0m\n\u001b[0;32m      1\u001b[0m student\u001b[38;5;241m=\u001b[39m(\u001b[38;5;241m8\u001b[39m,\u001b[38;5;124m'\u001b[39m\u001b[38;5;124mSandesh Chaulagain\u001b[39m\u001b[38;5;124m'\u001b[39m,\u001b[38;5;124m'\u001b[39m\u001b[38;5;124mBhaktapur\u001b[39m\u001b[38;5;124m'\u001b[39m,\u001b[38;5;124m'\u001b[39m\u001b[38;5;124mWRC\u001b[39m\u001b[38;5;124m'\u001b[39m,\u001b[38;5;241m23\u001b[39m,\u001b[38;5;124m'\u001b[39m\u001b[38;5;124mm\u001b[39m\u001b[38;5;124m'\u001b[39m,\u001b[38;5;124m'\u001b[39m\u001b[38;5;124mSE\u001b[39m\u001b[38;5;124m'\u001b[39m,\u001b[38;5;124m'\u001b[39m\u001b[38;5;124mTU\u001b[39m\u001b[38;5;124m'\u001b[39m,\u001b[38;5;124m'\u001b[39m\u001b[38;5;124m9846448426\u001b[39m\u001b[38;5;124m'\u001b[39m,\u001b[38;5;124m'\u001b[39m\u001b[38;5;124mSandes.cgn@gmail.com\u001b[39m\u001b[38;5;124m'\u001b[39m)\n\u001b[0;32m      3\u001b[0m INSERT_STUDENT_QUERY \u001b[38;5;241m=\u001b[39m\u001b[38;5;124m\"\"\"\u001b[39m\n\u001b[0;32m      4\u001b[0m \n\u001b[0;32m      5\u001b[0m \u001b[38;5;124minsert into student \u001b[39m\n\u001b[1;32m   (...)\u001b[0m\n\u001b[0;32m      9\u001b[0m \n\u001b[0;32m     10\u001b[0m \u001b[38;5;124m\"\"\"\u001b[39m\n\u001b[1;32m---> 12\u001b[0m \u001b[43mcur\u001b[49m\u001b[38;5;241;43m.\u001b[39;49m\u001b[43mexecute\u001b[49m\u001b[43m(\u001b[49m\u001b[43mINSERT_STUDENT_QUERY\u001b[49m\u001b[43m,\u001b[49m\u001b[43mstudent\u001b[49m\u001b[43m)\u001b[49m\n",
      "\u001b[1;31mOperationalError\u001b[0m: no such table: student"
     ]
    }
   ],
   "source": [
    "student=(8,'Sandesh Chaulagain','Bhaktapur','WRC',23,'m','SE','TU','9846448426','Sandes.cgn@gmail.com')\n",
    "    \n",
    "INSERT_STUDENT_QUERY =\"\"\"\n",
    "\n",
    "insert into student \n",
    "('id','name','address','college','age','gender','faculty','university','contact','email')\n",
    "values\n",
    "(?,?,?,?,?,?,?,?,?,?);\n",
    "\n",
    "\"\"\"\n",
    "\n",
    "cur.execute(INSERT_STUDENT_QUERY,student)"
   ]
  },
  {
   "cell_type": "code",
   "execution_count": null,
   "id": "f5f99936",
   "metadata": {},
   "outputs": [],
   "source": []
  },
  {
   "cell_type": "code",
   "execution_count": null,
   "id": "696e66b5",
   "metadata": {},
   "outputs": [],
   "source": []
  }
 ],
 "metadata": {
  "kernelspec": {
   "display_name": "Python 3 (ipykernel)",
   "language": "python",
   "name": "python3"
  },
  "language_info": {
   "codemirror_mode": {
    "name": "ipython",
    "version": 3
   },
   "file_extension": ".py",
   "mimetype": "text/x-python",
   "name": "python",
   "nbconvert_exporter": "python",
   "pygments_lexer": "ipython3",
   "version": "3.11.2"
  }
 },
 "nbformat": 4,
 "nbformat_minor": 5
}
