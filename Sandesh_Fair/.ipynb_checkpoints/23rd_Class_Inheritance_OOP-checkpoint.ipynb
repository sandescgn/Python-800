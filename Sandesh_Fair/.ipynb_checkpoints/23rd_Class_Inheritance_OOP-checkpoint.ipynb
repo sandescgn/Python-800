{
 "cells": [
  {
   "cell_type": "code",
   "execution_count": 1,
   "id": "444c5c50",
   "metadata": {},
   "outputs": [],
   "source": [
    "class Person:\n",
    "    # special methods / double underscore / dunder method\n",
    "    # constructor => initializer\n",
    "    def __init__(self, name, age, address):\n",
    "        self.name = name\n",
    "        self.age = age\n",
    "        self.address = address\n",
    "    \n",
    "    def walk(self):\n",
    "        print(\"Person is walking\")\n",
    "    \n",
    "    def eat(self):\n",
    "        print(\"Person is eating\")\n",
    "    \n",
    "    def sleep(self):\n",
    "        print(\"Person is sleeping\")"
   ]
  },
  {
   "cell_type": "code",
   "execution_count": 2,
   "id": "b77ed0a8",
   "metadata": {},
   "outputs": [],
   "source": [
    "class Student:\n",
    "    def __init__(self,name,age,address,college,faculty,roll_no):\n",
    "        self.name=name\n",
    "        self.age=age\n",
    "        self.address=address\n",
    "        self.college=college\n",
    "        self.faculty=faculty\n",
    "        self.roll_no=roll_no\n",
    "        self.subjects=[]\n",
    "        \n",
    "    def learn(self):\n",
    "        print(f'{self.name} is learning:{self.subjects}')\n",
    "        \n",
    "    def add_subject(self,subject):\n",
    "        self.subjects.append(subject)\n",
    "        \n",
    "    def walk(self):\n",
    "        print(\"Person is walking\")\n",
    "    \n",
    "    def eat(self):\n",
    "        print(\"Person is eating\")\n",
    "    \n",
    "    def sleep(self):\n",
    "        print(\"Person is sleeping\")"
   ]
  },
  {
   "cell_type": "code",
   "execution_count": null,
   "id": "f5b8e1b0",
   "metadata": {},
   "outputs": [],
   "source": [
    "#Class को main काम code कहिल्यै पनि repeat गर्नु हुँदैन भन्ने नै हो।\n",
    "#Class ko main principle => DRY(Do Not Repeat Yourself)"
   ]
  },
  {
   "cell_type": "code",
   "execution_count": 3,
   "id": "e843bf42",
   "metadata": {},
   "outputs": [],
   "source": [
    "class Person: #Base class or Parent class\n",
    "    # special methods / double underscore / dunder method\n",
    "    # constructor => initializer\n",
    "    def __init__(self, name, age, address):\n",
    "        self.name = name\n",
    "        self.age = age\n",
    "        self.address = address\n",
    "    \n",
    "    def walk(self):\n",
    "        print(\"Person is walking\")\n",
    "    \n",
    "    def eat(self):\n",
    "        print(\"Person is eating\")\n",
    "    \n",
    "    def sleep(self):\n",
    "        print(\"Person is sleeping\")"
   ]
  },
  {
   "cell_type": "code",
   "execution_count": 4,
   "id": "7b543484",
   "metadata": {},
   "outputs": [],
   "source": [
    "class Student(Person): #Derived class /child class\n",
    "    pass"
   ]
  },
  {
   "cell_type": "code",
   "execution_count": 5,
   "id": "1a17d551",
   "metadata": {},
   "outputs": [
    {
     "name": "stdout",
     "output_type": "stream",
     "text": [
      "Person is walking\n"
     ]
    }
   ],
   "source": [
    "s1=Student('ram',22,'ktm')\n",
    "s1.walk()"
   ]
  },
  {
   "cell_type": "code",
   "execution_count": 6,
   "id": "53f1f8b3",
   "metadata": {},
   "outputs": [
    {
     "name": "stdout",
     "output_type": "stream",
     "text": [
      "Person is sleeping\n"
     ]
    }
   ],
   "source": [
    "s1.sleep()"
   ]
  },
  {
   "cell_type": "code",
   "execution_count": 7,
   "id": "dd2c17db",
   "metadata": {},
   "outputs": [],
   "source": [
    "class Student(Person): #Derived class /child class\n",
    "    def __init__(self,name,age,address,college,faculty,roll_no):\n",
    "        self.name=name\n",
    "        self.age=age\n",
    "        self.address=address\n",
    "        self.college=college\n",
    "        self.faculty=faculty\n",
    "        self.roll_no=roll_no\n",
    "        self.subjects=[]\n",
    "    def learn(self):\n",
    "        print(f'{self.name} is learning:{self.subjects}')\n",
    "        \n",
    "    def add_subject(self,subject):\n",
    "        self.subjects.append(subject)"
   ]
  },
  {
   "cell_type": "code",
   "execution_count": 8,
   "id": "55a9eb5a",
   "metadata": {},
   "outputs": [
    {
     "name": "stdout",
     "output_type": "stream",
     "text": [
      "Person is walking\n"
     ]
    }
   ],
   "source": [
    "s1=Student('Ram',22,'ktm','NCIT','CSIT',1)\n",
    "s1.walk()"
   ]
  },
  {
   "cell_type": "code",
   "execution_count": 9,
   "id": "1f320fb6",
   "metadata": {},
   "outputs": [
    {
     "name": "stdout",
     "output_type": "stream",
     "text": [
      "Ram is learning:[]\n"
     ]
    }
   ],
   "source": [
    "s1.learn()"
   ]
  },
  {
   "cell_type": "code",
   "execution_count": 12,
   "id": "5c0db308",
   "metadata": {},
   "outputs": [
    {
     "name": "stdout",
     "output_type": "stream",
     "text": [
      "Person is walking\n",
      "Ram\n"
     ]
    }
   ],
   "source": [
    "class Person: #Base class or Parent class\n",
    "    # special methods / double underscore / dunder method\n",
    "    # constructor => initializer\n",
    "    def __init__(self, name, age, address):\n",
    "        self.name = name\n",
    "        self.age = age\n",
    "        self.address = address\n",
    "    \n",
    "    def walk(self):\n",
    "        print(\"Person is walking\")\n",
    "    \n",
    "    def eat(self):\n",
    "        print(\"Person is eating\")\n",
    "    \n",
    "    def sleep(self):\n",
    "        print(\"Person is sleeping\")\n",
    "        \n",
    "class Student(Person): #Derived class /child class\n",
    "    def __init__(self,name,age,address,college,faculty,roll_no):\n",
    "        super().__init__(name,age,address) #Calling person __init__\n",
    "        \n",
    "        self.college=college\n",
    "        self.faculty=faculty\n",
    "        self.roll_no=roll_no\n",
    "        self.subjects=[]\n",
    "    def learn(self):\n",
    "        print(f'{self.name} is learning:{self.subjects}')\n",
    "        \n",
    "    def add_subject(self,subject):\n",
    "        self.subjects.append(subject)\n",
    "        \n",
    "s1=Student('Ram',22,'ktm','NCIT','CSIT',1)\n",
    "s1.walk()\n",
    "print(s1.name)"
   ]
  },
  {
   "cell_type": "code",
   "execution_count": 14,
   "id": "3d9df802",
   "metadata": {},
   "outputs": [
    {
     "name": "stdout",
     "output_type": "stream",
     "text": [
      "Person is walking\n",
      "Ram\n",
      "Name:Ram\n",
      "Age:22\n",
      "Address:ktm\n"
     ]
    }
   ],
   "source": [
    "class Person: #Base class or Parent class\n",
    "    # special methods / double underscore / dunder method\n",
    "    # constructor => initializer\n",
    "    def __init__(self, name, age, address):\n",
    "        self.name = name\n",
    "        self.age = age\n",
    "        self.address = address\n",
    "    \n",
    "    def walk(self):\n",
    "        print(\"Person is walking\")\n",
    "    \n",
    "    def eat(self):\n",
    "        print(\"Person is eating\")\n",
    "    \n",
    "    def sleep(self):\n",
    "        print(\"Person is sleeping\")\n",
    "        \n",
    "    def info(self):\n",
    "        print(f'Name:{self.name}')\n",
    "        print(f'Age:{self.age}')\n",
    "        print(f'Address:{self.address}')\n",
    "        \n",
    "class Student(Person): #Derived class /child class\n",
    "    def __init__(self,name,age,address,college,faculty,roll_no):\n",
    "        super().__init__(name,age,address) #Calling person __init__\n",
    "        \n",
    "        self.college=college\n",
    "        self.faculty=faculty\n",
    "        self.roll_no=roll_no\n",
    "        self.subjects=[]\n",
    "    def learn(self):\n",
    "        print(f'{self.name} is learning:{self.subjects}')\n",
    "        \n",
    "    def add_subject(self,subject):\n",
    "        self.subjects.append(subject)\n",
    "        \n",
    "s1=Student('Ram',22,'ktm','NCIT','CSIT',1)\n",
    "s1.walk()\n",
    "print(s1.name)\n",
    "s1.info()"
   ]
  },
  {
   "cell_type": "code",
   "execution_count": 17,
   "id": "2011ae3a",
   "metadata": {},
   "outputs": [
    {
     "name": "stdout",
     "output_type": "stream",
     "text": [
      "Person is walking\n",
      "Ram\n",
      "Name:Ram\n",
      "Age:22\n",
      "Address:ktm\n",
      "College:NCIT\n",
      "Faculty:CSIT\n",
      "Roll No:1\n",
      "Subjects:[]\n"
     ]
    }
   ],
   "source": [
    "class Person: #Base class or Parent class\n",
    "    # special methods / double underscore / dunder method\n",
    "    # constructor => initializer\n",
    "    def __init__(self, name, age, address):\n",
    "        self.name = name\n",
    "        self.age = age\n",
    "        self.address = address\n",
    "    \n",
    "    def walk(self):\n",
    "        print(\"Person is walking\")\n",
    "    \n",
    "    def eat(self):\n",
    "        print(\"Person is eating\")\n",
    "    \n",
    "    def sleep(self):\n",
    "        print(\"Person is sleeping\")\n",
    "        \n",
    "    def info(self):\n",
    "        print(f'Name:{self.name}')\n",
    "        print(f'Age:{self.age}')\n",
    "        print(f'Address:{self.address}')\n",
    "        \n",
    "class Student(Person): #Derived class /child class\n",
    "     #method override \n",
    "    def __init__(self,name,age,address,college,faculty,roll_no):\n",
    "        super().__init__(name,age,address) #Calling person __init__\n",
    "        \n",
    "        self.college=college\n",
    "        self.faculty=faculty\n",
    "        self.roll_no=roll_no\n",
    "        self.subjects=[]\n",
    "    def learn(self):\n",
    "        print(f'{self.name} is learning:{self.subjects}')\n",
    "        \n",
    "    def add_subject(self,subject):\n",
    "        self.subjects.append(subject)\n",
    "        \n",
    "     #method override   \n",
    "    def info(self):\n",
    "        super().info() # calling parent's info method\n",
    "        print(f'College:{self.college}')\n",
    "        print(f'Faculty:{self.faculty}')\n",
    "        print(f'Roll No:{self.roll_no}')\n",
    "        print(f'Subjects:{self.subjects}')\n",
    "        \n",
    "        \n",
    "s1=Student('Ram',22,'ktm','NCIT','CSIT',1)\n",
    "s1.walk()\n",
    "print(s1.name)\n",
    "s1.info()"
   ]
  },
  {
   "cell_type": "code",
   "execution_count": 18,
   "id": "f682bc31",
   "metadata": {},
   "outputs": [],
   "source": [
    "class Rectangle:\n",
    "     # instance => object\n",
    "    def __init__(self,length,breadth):\n",
    "        self.l=length\n",
    "        self.b=breadth\n",
    "    def area(self):\n",
    "        return self.l*self.b\n",
    "    def perimeter(self):\n",
    "        return 2*(self.l+self.b)"
   ]
  },
  {
   "cell_type": "code",
   "execution_count": 20,
   "id": "6e397b1f",
   "metadata": {},
   "outputs": [
    {
     "name": "stdout",
     "output_type": "stream",
     "text": [
      "50\n",
      "30\n"
     ]
    }
   ],
   "source": [
    "r1=Rectangle(5,10)\n",
    "print(r1.area())\n",
    "print(r1.perimeter())"
   ]
  },
  {
   "cell_type": "code",
   "execution_count": 21,
   "id": "3bdccd84",
   "metadata": {},
   "outputs": [],
   "source": [
    "from math import pi\n",
    "class Circle:\n",
    "    # self => instance => object\n",
    "    def __init__(self,radius):\n",
    "        self.r=radius\n",
    "        \n",
    "    def area(self):\n",
    "        return pi*self.r**2\n",
    "    def perimeter(self):\n",
    "        return 2*pi*self.r\n",
    "    "
   ]
  },
  {
   "cell_type": "code",
   "execution_count": 23,
   "id": "f7caf2e2",
   "metadata": {},
   "outputs": [
    {
     "name": "stdout",
     "output_type": "stream",
     "text": [
      "78.53981633974483\n",
      "31.41592653589793\n"
     ]
    }
   ],
   "source": [
    "c1=Circle(radius=5)\n",
    "print(c1.area())\n",
    "print(c1.perimeter())"
   ]
  },
  {
   "cell_type": "code",
   "execution_count": 24,
   "id": "f3fa7892",
   "metadata": {},
   "outputs": [
    {
     "name": "stdout",
     "output_type": "stream",
     "text": [
      "78.53981633974483\n",
      "31.41592653589793\n"
     ]
    }
   ],
   "source": [
    "from math import pi\n",
    "\n",
    "class Circle:\n",
    "    # self => instance => object\n",
    "    def __init__(x, radius):\n",
    "        x.r = radius\n",
    "        \n",
    "    def area(x):\n",
    "        return pi * x.r ** 2\n",
    "    \n",
    "    def perimeter(x):\n",
    "        return 2 * pi * x.r\n",
    "    \n",
    "c1 = Circle(radius=5)\n",
    "print(c1.area())\n",
    "print(c1.perimeter())"
   ]
  },
  {
   "cell_type": "code",
   "execution_count": 25,
   "id": "369e1aa7",
   "metadata": {},
   "outputs": [
    {
     "name": "stdout",
     "output_type": "stream",
     "text": [
      "<__main__.Circle object at 0x000002287CE03D90> inside init\n",
      "<__main__.Circle object at 0x000002287CE03D90> outside init\n"
     ]
    }
   ],
   "source": [
    "from math import pi\n",
    "class Circle:\n",
    "    # self => instance => object\n",
    "    def __init__(self,radius):\n",
    "        print(self, \"inside init\")\n",
    "        self.r=radius\n",
    "        \n",
    "    def area(self):\n",
    "        return pi*self.r**2\n",
    "    def perimeter(self):\n",
    "        return 2*pi*self.r\n",
    "\n",
    "c1 = Circle(radius=5) # object instantiate\n",
    "print(c1, \"outside init\")"
   ]
  },
  {
   "cell_type": "code",
   "execution_count": 26,
   "id": "895dd742",
   "metadata": {},
   "outputs": [
    {
     "data": {
      "text/plain": [
       "153.93804002589985"
      ]
     },
     "execution_count": 26,
     "metadata": {},
     "output_type": "execute_result"
    }
   ],
   "source": [
    "from math import pi\n",
    "class Circle:\n",
    "    # self => instance => object\n",
    "    def __init__(self,radius): #first parameter is always object\n",
    "        self.r=radius\n",
    "        \n",
    "    def area(self):\n",
    "        return pi*self.r**2\n",
    "c1=Circle(7)\n",
    "c1.area()"
   ]
  },
  {
   "cell_type": "code",
   "execution_count": 27,
   "id": "e323da6b",
   "metadata": {},
   "outputs": [
    {
     "data": {
      "text/plain": [
       "153.93804002589985"
      ]
     },
     "execution_count": 27,
     "metadata": {},
     "output_type": "execute_result"
    }
   ],
   "source": [
    "from math import pi\n",
    "class Circle:\n",
    "    # self => instance => object\n",
    "    def __init__(self,radius): #first parameter is always object\n",
    "        self.r=radius\n",
    "        \n",
    "    def area(self):\n",
    "        return pi*self.r**2\n",
    "c1=Circle(7)\n",
    "#c1.area()\n",
    "Circle.area(c1) #c1 is object"
   ]
  },
  {
   "cell_type": "code",
   "execution_count": 28,
   "id": "c0b07598",
   "metadata": {},
   "outputs": [
    {
     "ename": "TypeError",
     "evalue": "Circle.area() takes 0 positional arguments but 1 was given",
     "output_type": "error",
     "traceback": [
      "\u001b[1;31m---------------------------------------------------------------------------\u001b[0m",
      "\u001b[1;31mTypeError\u001b[0m                                 Traceback (most recent call last)",
      "Cell \u001b[1;32mIn[28], line 12\u001b[0m\n\u001b[0;32m      9\u001b[0m         \u001b[38;5;28;01mreturn\u001b[39;00m pi \u001b[38;5;241m*\u001b[39m \u001b[38;5;28mself\u001b[39m\u001b[38;5;241m.\u001b[39mr \u001b[38;5;241m*\u001b[39m\u001b[38;5;241m*\u001b[39m \u001b[38;5;241m2\u001b[39m\n\u001b[0;32m     11\u001b[0m c1 \u001b[38;5;241m=\u001b[39m Circle(\u001b[38;5;241m7\u001b[39m)\n\u001b[1;32m---> 12\u001b[0m \u001b[43mc1\u001b[49m\u001b[38;5;241;43m.\u001b[39;49m\u001b[43marea\u001b[49m\u001b[43m(\u001b[49m\u001b[43m)\u001b[49m\n\u001b[0;32m     14\u001b[0m \u001b[38;5;66;03m# Circle.area(c1) # c1 is object\u001b[39;00m\n",
      "\u001b[1;31mTypeError\u001b[0m: Circle.area() takes 0 positional arguments but 1 was given"
     ]
    }
   ],
   "source": [
    "from math import pi\n",
    "\n",
    "class Circle:\n",
    "    # self => instance => object\n",
    "    def __init__(self, radius): # first parameter is always object\n",
    "        self.r = radius\n",
    "        \n",
    "    def area():\n",
    "        return pi * self.r ** 2\n",
    "\n",
    "c1 = Circle(7)\n",
    "c1.area()\n",
    "\n",
    "# Circle.area(c1) # c1 is object"
   ]
  },
  {
   "cell_type": "code",
   "execution_count": 29,
   "id": "00abb9db",
   "metadata": {},
   "outputs": [
    {
     "ename": "TypeError",
     "evalue": "hello() missing 1 required positional argument: 'a'",
     "output_type": "error",
     "traceback": [
      "\u001b[1;31m---------------------------------------------------------------------------\u001b[0m",
      "\u001b[1;31mTypeError\u001b[0m                                 Traceback (most recent call last)",
      "Cell \u001b[1;32mIn[29], line 5\u001b[0m\n\u001b[0;32m      1\u001b[0m \u001b[38;5;28;01mdef\u001b[39;00m \u001b[38;5;21mhello\u001b[39m(a):\n\u001b[0;32m      2\u001b[0m     \u001b[38;5;28;01mpass\u001b[39;00m\n\u001b[1;32m----> 5\u001b[0m \u001b[43mhello\u001b[49m\u001b[43m(\u001b[49m\u001b[43m)\u001b[49m\n",
      "\u001b[1;31mTypeError\u001b[0m: hello() missing 1 required positional argument: 'a'"
     ]
    }
   ],
   "source": [
    "def hello(a):\n",
    "    pass\n",
    "\n",
    "\n",
    "hello()"
   ]
  },
  {
   "cell_type": "code",
   "execution_count": null,
   "id": "df27c101",
   "metadata": {},
   "outputs": [],
   "source": [
    "#If parents requirement should be in child then in that case inheritance is used."
   ]
  },
  {
   "cell_type": "code",
   "execution_count": 30,
   "id": "ead5d697",
   "metadata": {},
   "outputs": [
    {
     "name": "stdout",
     "output_type": "stream",
     "text": [
      "Person is walking\n",
      "ram\n",
      "Name: ram\n",
      "Age: 22\n",
      "Address: ktm\n",
      "College: ncit\n",
      "Faculty: IT\n",
      "Roll No: 1\n",
      "Subjects: []\n"
     ]
    }
   ],
   "source": [
    "class Person: # Base Class / Parent Class\n",
    "    # special methods / double underscore / dunder method\n",
    "    # constructor => initializer\n",
    "    def __init__(self, name, age, address):\n",
    "        self.name = name\n",
    "        self.age = age\n",
    "        self.address = address\n",
    "    \n",
    "    def walk(self):\n",
    "        print(\"Person is walking\")\n",
    "    \n",
    "    def eat(self):\n",
    "        print(\"Person is eating\")\n",
    "    \n",
    "    def sleep(self):\n",
    "        print(\"Person is sleeping\")\n",
    "        \n",
    "    def info(self):\n",
    "        print(f\"Name: {self.name}\")\n",
    "        print(f\"Age: {self.age}\")\n",
    "        print(f\"Address: {self.address}\")\n",
    "        \n",
    "class Student(Person): # Derived Class / Child Class\n",
    "    # method override\n",
    "    def __init__(self, name, age, address, college, faculty, roll_no):\n",
    "        super().__init__(name, age, address) # calling Person __init__\n",
    "        self.college = college\n",
    "        self.faculty = faculty\n",
    "        self.roll_no = roll_no\n",
    "        self.subjects = []\n",
    "        \n",
    "    def learn(self):\n",
    "        print(f\"{self.name} is learning: {self.subjects}\")\n",
    "        \n",
    "    def add_subject(self, subject):\n",
    "        self.subjects.append(subject)\n",
    "    \n",
    "    # method override\n",
    "    def info(self):\n",
    "        super().info() # calling parent's info method\n",
    "        print(f\"College: {self.college}\")\n",
    "        print(f\"Faculty: {self.faculty}\")\n",
    "        print(f\"Roll No: {self.roll_no}\")\n",
    "        print(f\"Subjects: {self.subjects}\")\n",
    "        \n",
    "        \n",
    "s1 = Student('ram', 22, 'ktm', 'ncit', 'IT', 1)\n",
    "s1.walk()\n",
    "print(s1.name)\n",
    "s1.info()"
   ]
  },
  {
   "cell_type": "code",
   "execution_count": 31,
   "id": "be480adc",
   "metadata": {},
   "outputs": [],
   "source": [
    "class Person:\n",
    "    pass\n",
    "\n",
    "\n",
    "class Student(Person):\n",
    "    pass\n",
    "\n",
    "# Single Inheritance"
   ]
  },
  {
   "cell_type": "code",
   "execution_count": 32,
   "id": "b4078d41",
   "metadata": {},
   "outputs": [
    {
     "name": "stdout",
     "output_type": "stream",
     "text": [
      "Person is sleeping\n"
     ]
    }
   ],
   "source": [
    "class Person: # Base Class / Parent Class\n",
    "    # special methods / double underscore / dunder method\n",
    "    # constructor => initializer\n",
    "    def __init__(self, name, age, address):\n",
    "        self.name = name\n",
    "        self.age = age\n",
    "        self.address = address\n",
    "    \n",
    "    def walk(self):\n",
    "        print(\"Person is walking\")\n",
    "    \n",
    "    def eat(self):\n",
    "        print(\"Person is eating\")\n",
    "    \n",
    "    def sleep(self):\n",
    "        print(\"Person is sleeping\")\n",
    "        \n",
    "    def info(self):\n",
    "        print(f\"Name: {self.name}\")\n",
    "        print(f\"Age: {self.age}\")\n",
    "        print(f\"Address: {self.address}\")\n",
    "        \n",
    "p1 = Person('ram', 22, 'ktm')\n",
    "p1.sleep()"
   ]
  },
  {
   "cell_type": "code",
   "execution_count": 33,
   "id": "7df13a6c",
   "metadata": {},
   "outputs": [
    {
     "name": "stdout",
     "output_type": "stream",
     "text": [
      "Person is walking\n",
      "ram\n",
      "Name: ram\n",
      "Age: 22\n",
      "Address: ktm\n",
      "College: ncit\n",
      "Faculty: IT\n",
      "Employee ID: 1\n",
      "Subjects: []\n"
     ]
    }
   ],
   "source": [
    "class Person: # Base Class / Parent Class\n",
    "    # special methods / double underscore / dunder method\n",
    "    # constructor => initializer\n",
    "    def __init__(self, name, age, address):\n",
    "        self.name = name\n",
    "        self.age = age\n",
    "        self.address = address\n",
    "    \n",
    "    def walk(self):\n",
    "        print(\"Person is walking\")\n",
    "    \n",
    "    def eat(self):\n",
    "        print(\"Person is eating\")\n",
    "    \n",
    "    def sleep(self):\n",
    "        print(\"Person is sleeping\")\n",
    "        \n",
    "    def info(self):\n",
    "        print(f\"Name: {self.name}\")\n",
    "        print(f\"Age: {self.age}\")\n",
    "        print(f\"Address: {self.address}\")\n",
    "        \n",
    "        \n",
    "class Teacher(Person): # Derived Class / Child Class\n",
    "    # method override\n",
    "    def __init__(self, name, age, address, college, faculty, emp_id):\n",
    "        super().__init__(name, age, address) # calling Person __init__\n",
    "        self.college = college\n",
    "        self.faculty = faculty\n",
    "        self.emp_id = emp_id\n",
    "        self.subjects = []\n",
    "        \n",
    "    def learn(self):\n",
    "        print(f\"{self.name} is learning: {self.subjects}\")\n",
    "        \n",
    "        \n",
    "    def add_subject(self, subject):\n",
    "        self.subjects.append(subject)\n",
    "    \n",
    "    # method override\n",
    "    def info(self):\n",
    "        super().info() # calling parent's info method\n",
    "        print(f\"College: {self.college}\")\n",
    "        print(f\"Faculty: {self.faculty}\")\n",
    "        print(f\"Employee ID: {self.emp_id}\")\n",
    "        print(f\"Subjects: {self.subjects}\")\n",
    "        \n",
    "        \n",
    "s1 = Teacher('ram', 22, 'ktm', 'ncit', 'IT', 1)\n",
    "s1.walk()\n",
    "print(s1.name)\n",
    "s1.info()"
   ]
  },
  {
   "cell_type": "code",
   "execution_count": 34,
   "id": "3527b08e",
   "metadata": {},
   "outputs": [],
   "source": [
    "class Person:\n",
    "    pass\n",
    "\n",
    "class Teacher(Person):\n",
    "    pass"
   ]
  },
  {
   "cell_type": "code",
   "execution_count": 35,
   "id": "cbc0d94f",
   "metadata": {},
   "outputs": [
    {
     "name": "stdout",
     "output_type": "stream",
     "text": [
      "Inside Vehicle class\n",
      "Inside Car class\n"
     ]
    }
   ],
   "source": [
    "# Base class\n",
    "class Vehicle:\n",
    "    def vehicle_info(self):\n",
    "        print('Inside Vehicle class')\n",
    "\n",
    "# Child class\n",
    "class Car(Vehicle):\n",
    "    def car_info(self):\n",
    "        print('Inside Car class')\n",
    "\n",
    "# Create object of Car\n",
    "car = Car()\n",
    "\n",
    "# access Vehicle's info using car object\n",
    "car.vehicle_info()\n",
    "car.car_info()"
   ]
  },
  {
   "cell_type": "code",
   "execution_count": 36,
   "id": "d5970915",
   "metadata": {},
   "outputs": [],
   "source": [
    "class Person:\n",
    "    pass\n",
    "\n",
    "# Multiple Inherietnace\n",
    "class Student(Person):\n",
    "    pass\n",
    "\n",
    "\n",
    "class Teacher(Person):\n",
    "    pass\n",
    "\n",
    "\n",
    "class Employee(Person):\n",
    "    pass"
   ]
  },
  {
   "cell_type": "code",
   "execution_count": 37,
   "id": "901d5ffe",
   "metadata": {},
   "outputs": [
    {
     "name": "stdout",
     "output_type": "stream",
     "text": [
      "Inside Person class\n",
      "Name: Jessa Age: 28\n",
      "Inside Company class\n",
      "Name: Google location: Atlanta\n",
      "Inside Employee class\n",
      "Salary: 12000 Skill: Machine Learning\n"
     ]
    }
   ],
   "source": [
    "# Parent class 1\n",
    "class Person:\n",
    "    def person_info(self, name, age):\n",
    "        print('Inside Person class')\n",
    "        print('Name:', name, 'Age:', age)\n",
    "\n",
    "# Parent class 2\n",
    "class Company:\n",
    "    def company_info(self, company_name, location):\n",
    "        print('Inside Company class')\n",
    "        print('Name:', company_name, 'location:', location)\n",
    "\n",
    "# Multiple Inheritance\n",
    "# Child class\n",
    "class Employee(Person, Company): # Multiple classes\n",
    "    def employee_info(self, salary, skill):\n",
    "        print('Inside Employee class')\n",
    "        print('Salary:', salary, 'Skill:', skill)\n",
    "\n",
    "# Create object of Employee\n",
    "emp = Employee()\n",
    "\n",
    "# access data\n",
    "emp.person_info('Jessa', 28)\n",
    "emp.company_info('Google', 'Atlanta')\n",
    "emp.employee_info(12000, 'Machine Learning')"
   ]
  },
  {
   "cell_type": "code",
   "execution_count": 38,
   "id": "91a4b54d",
   "metadata": {},
   "outputs": [],
   "source": [
    "class Father:\n",
    "    pass\n",
    "\n",
    "\n",
    "class Mother:\n",
    "    pass\n",
    "\n",
    "\n",
    "class Child(Father, Mother):\n",
    "    pass"
   ]
  }
 ],
 "metadata": {
  "kernelspec": {
   "display_name": "Python 3 (ipykernel)",
   "language": "python",
   "name": "python3"
  },
  "language_info": {
   "codemirror_mode": {
    "name": "ipython",
    "version": 3
   },
   "file_extension": ".py",
   "mimetype": "text/x-python",
   "name": "python",
   "nbconvert_exporter": "python",
   "pygments_lexer": "ipython3",
   "version": "3.11.2"
  }
 },
 "nbformat": 4,
 "nbformat_minor": 5
}
