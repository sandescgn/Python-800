{
 "cells": [
  {
   "cell_type": "code",
   "execution_count": 2,
   "id": "7636c799",
   "metadata": {},
   "outputs": [
    {
     "name": "stdout",
     "output_type": "stream",
     "text": [
      "1\n",
      "2\n",
      "4\n",
      "8\n",
      "16\n"
     ]
    }
   ],
   "source": [
    "class PowTwo:\n",
    "    \"class to implement an iterator of powers of two\"\n",
    "    def __init__(self,n=0):\n",
    "        self.n=n\n",
    "    def __iter__(self):\n",
    "        self.i=0\n",
    "        return self\n",
    "    def __next__(self):\n",
    "        if self.i<=self.n:\n",
    "            result=2**self.i\n",
    "            self.i+=1\n",
    "            return result\n",
    "        else:\n",
    "            raise StopIteration\n",
    "            \n",
    "#create an object\n",
    "numbers=PowTwo(4)\n",
    "\n",
    "#create an iterable from the object\n",
    "pow=iter(numbers)\n",
    "\n",
    "for i in pow:\n",
    "    print(i)\n",
    "    "
   ]
  },
  {
   "cell_type": "code",
   "execution_count": 3,
   "id": "c7dd2e46",
   "metadata": {},
   "outputs": [],
   "source": [
    "#Higher order Function\n",
    "def hello(fn):\n",
    "    x=fn()\n",
    "    return x"
   ]
  },
  {
   "cell_type": "code",
   "execution_count": 6,
   "id": "b8360e5e",
   "metadata": {},
   "outputs": [],
   "source": [
    "def hi():\n",
    "    return 'hi'"
   ]
  },
  {
   "cell_type": "code",
   "execution_count": 8,
   "id": "ae1ab1a7",
   "metadata": {},
   "outputs": [
    {
     "data": {
      "text/plain": [
       "'hi'"
      ]
     },
     "execution_count": 8,
     "metadata": {},
     "output_type": "execute_result"
    }
   ],
   "source": [
    "hello(hi)"
   ]
  },
  {
   "cell_type": "code",
   "execution_count": 9,
   "id": "bae45c22",
   "metadata": {},
   "outputs": [],
   "source": [
    "def higher_order_fun(fn,it):\n",
    "    x=fn(it)\n",
    "    return x"
   ]
  },
  {
   "cell_type": "code",
   "execution_count": 12,
   "id": "a4c3238e",
   "metadata": {},
   "outputs": [],
   "source": [
    "def addition(it):\n",
    "    sum=0\n",
    "    for i in it:\n",
    "        sum+=i\n",
    "    return sum"
   ]
  },
  {
   "cell_type": "code",
   "execution_count": 13,
   "id": "bd20a82b",
   "metadata": {},
   "outputs": [
    {
     "data": {
      "text/plain": [
       "21"
      ]
     },
     "execution_count": 13,
     "metadata": {},
     "output_type": "execute_result"
    }
   ],
   "source": [
    "higher_order_fun(addition,[1,2,3,4,5,6])"
   ]
  },
  {
   "cell_type": "code",
   "execution_count": null,
   "id": "1b2c62c4",
   "metadata": {},
   "outputs": [],
   "source": [
    "#filter(fn,iterable)\n",
    "#map(fn,iterable)"
   ]
  },
  {
   "cell_type": "code",
   "execution_count": 14,
   "id": "7565c046",
   "metadata": {},
   "outputs": [],
   "source": [
    "def outer():\n",
    "    x=1\n",
    "    print(x)"
   ]
  },
  {
   "cell_type": "code",
   "execution_count": 15,
   "id": "1cd3c1f1",
   "metadata": {},
   "outputs": [
    {
     "name": "stdout",
     "output_type": "stream",
     "text": [
      "1\n"
     ]
    }
   ],
   "source": [
    "outer()"
   ]
  },
  {
   "cell_type": "code",
   "execution_count": 16,
   "id": "f5ea9c33",
   "metadata": {},
   "outputs": [],
   "source": [
    "def outer():\n",
    "    x=1 #local => outer function\n",
    "    def inner():\n",
    "        print(x)#non local scope\n",
    "    inner()"
   ]
  },
  {
   "cell_type": "code",
   "execution_count": 17,
   "id": "aa4a748c",
   "metadata": {},
   "outputs": [
    {
     "name": "stdout",
     "output_type": "stream",
     "text": [
      "1\n"
     ]
    }
   ],
   "source": [
    "outer()"
   ]
  },
  {
   "cell_type": "code",
   "execution_count": 18,
   "id": "a15f3e33",
   "metadata": {},
   "outputs": [],
   "source": [
    "def outer():\n",
    "    x=1 #local => outer function\n",
    "    def inner():\n",
    "        return x#non local scope\n",
    "    inner()"
   ]
  },
  {
   "cell_type": "code",
   "execution_count": 19,
   "id": "3492ac83",
   "metadata": {},
   "outputs": [],
   "source": [
    "outer()"
   ]
  },
  {
   "cell_type": "code",
   "execution_count": 22,
   "id": "6db56a1d",
   "metadata": {},
   "outputs": [],
   "source": [
    "def outer():\n",
    "    x=1 #local => outer function\n",
    "    def inner():\n",
    "        return x #non local scope\n",
    "    return inner() #returning the output of inner function"
   ]
  },
  {
   "cell_type": "code",
   "execution_count": 23,
   "id": "5be667db",
   "metadata": {},
   "outputs": [
    {
     "data": {
      "text/plain": [
       "1"
      ]
     },
     "execution_count": 23,
     "metadata": {},
     "output_type": "execute_result"
    }
   ],
   "source": [
    "outer()"
   ]
  },
  {
   "cell_type": "code",
   "execution_count": 24,
   "id": "4aee8fc2",
   "metadata": {},
   "outputs": [],
   "source": [
    "def outer():\n",
    "    #closure\n",
    "    x=1 #local => outer function\n",
    "    def inner():\n",
    "        return x #non local scope\n",
    "    return inner#returning the inner function"
   ]
  },
  {
   "cell_type": "code",
   "execution_count": 25,
   "id": "928f5ca4",
   "metadata": {},
   "outputs": [
    {
     "data": {
      "text/plain": [
       "1"
      ]
     },
     "execution_count": 25,
     "metadata": {},
     "output_type": "execute_result"
    }
   ],
   "source": [
    "outer()()"
   ]
  },
  {
   "cell_type": "code",
   "execution_count": 26,
   "id": "48afc75e",
   "metadata": {},
   "outputs": [],
   "source": [
    "def outer():\n",
    "    #closure\n",
    "    x=1 #local => outer function\n",
    "    def inner():\n",
    "        return x #non local scope\n",
    "    return inner#returning the inner function"
   ]
  },
  {
   "cell_type": "code",
   "execution_count": 27,
   "id": "1e52e6c0",
   "metadata": {},
   "outputs": [],
   "source": [
    "x=outer()"
   ]
  },
  {
   "cell_type": "code",
   "execution_count": 28,
   "id": "5369e337",
   "metadata": {},
   "outputs": [
    {
     "data": {
      "text/plain": [
       "1"
      ]
     },
     "execution_count": 28,
     "metadata": {},
     "output_type": "execute_result"
    }
   ],
   "source": [
    "x()"
   ]
  },
  {
   "cell_type": "code",
   "execution_count": 29,
   "id": "d5df89e1",
   "metadata": {},
   "outputs": [],
   "source": [
    "del outer"
   ]
  },
  {
   "cell_type": "code",
   "execution_count": 30,
   "id": "41b2c7d1",
   "metadata": {},
   "outputs": [
    {
     "data": {
      "text/plain": [
       "1"
      ]
     },
     "execution_count": 30,
     "metadata": {},
     "output_type": "execute_result"
    }
   ],
   "source": [
    "x()"
   ]
  },
  {
   "cell_type": "code",
   "execution_count": 31,
   "id": "bd78364f",
   "metadata": {},
   "outputs": [],
   "source": [
    "def outer():\n",
    "    #closure\n",
    "    x=1 #local => outer function\n",
    "    def inner():\n",
    "        print('**********')\n",
    "        return x #non local scope\n",
    "    return inner#returning the inner function"
   ]
  },
  {
   "cell_type": "code",
   "execution_count": 32,
   "id": "9d07084c",
   "metadata": {},
   "outputs": [],
   "source": [
    "x=outer()"
   ]
  },
  {
   "cell_type": "code",
   "execution_count": 33,
   "id": "5f3d6197",
   "metadata": {},
   "outputs": [
    {
     "name": "stdout",
     "output_type": "stream",
     "text": [
      "**********\n"
     ]
    },
    {
     "data": {
      "text/plain": [
       "1"
      ]
     },
     "execution_count": 33,
     "metadata": {},
     "output_type": "execute_result"
    }
   ],
   "source": [
    "x()"
   ]
  },
  {
   "cell_type": "code",
   "execution_count": 35,
   "id": "a8b3497a",
   "metadata": {},
   "outputs": [],
   "source": [
    "def outer():\n",
    "    #closure\n",
    "    x=1 #local => outer function\n",
    "    def inner():\n",
    "        print('**********')\n",
    "        print(x) \n",
    "        print('********')#non local scope\n",
    "    return inner#returning the inner function"
   ]
  },
  {
   "cell_type": "code",
   "execution_count": null,
   "id": "b48d7cf4",
   "metadata": {},
   "outputs": [],
   "source": []
  },
  {
   "cell_type": "code",
   "execution_count": 37,
   "id": "94de5c97",
   "metadata": {},
   "outputs": [
    {
     "name": "stdout",
     "output_type": "stream",
     "text": [
      "**********\n",
      "1\n",
      "********\n"
     ]
    }
   ],
   "source": [
    "x=outer()()"
   ]
  },
  {
   "cell_type": "code",
   "execution_count": 38,
   "id": "6df7a9fa",
   "metadata": {},
   "outputs": [],
   "source": [
    "def hello():\n",
    "    return 'hello'"
   ]
  },
  {
   "cell_type": "code",
   "execution_count": 39,
   "id": "a060a21a",
   "metadata": {},
   "outputs": [],
   "source": [
    "def outer(fn):\n",
    "    def inner():\n",
    "        x=fn()\n",
    "        print(x)\n",
    "    return inner"
   ]
  },
  {
   "cell_type": "code",
   "execution_count": 40,
   "id": "35fa80c7",
   "metadata": {},
   "outputs": [
    {
     "name": "stdout",
     "output_type": "stream",
     "text": [
      "hello\n"
     ]
    }
   ],
   "source": [
    "o=outer(hello)()"
   ]
  },
  {
   "cell_type": "code",
   "execution_count": 41,
   "id": "050a7ae6",
   "metadata": {},
   "outputs": [],
   "source": [
    "def outer(fn):\n",
    "    def inner():\n",
    "        print('********')\n",
    "        x=fn()\n",
    "        print(x)\n",
    "        print('*******')\n",
    "    return inner"
   ]
  },
  {
   "cell_type": "code",
   "execution_count": 42,
   "id": "1e81d688",
   "metadata": {},
   "outputs": [
    {
     "name": "stdout",
     "output_type": "stream",
     "text": [
      "********\n",
      "hello\n",
      "*******\n"
     ]
    }
   ],
   "source": [
    "o=outer(hello)()"
   ]
  },
  {
   "cell_type": "code",
   "execution_count": 43,
   "id": "b741fb6f",
   "metadata": {},
   "outputs": [
    {
     "name": "stdout",
     "output_type": "stream",
     "text": [
      "2\n"
     ]
    }
   ],
   "source": [
    "x=1\n",
    "x=x+1\n",
    "print(x)"
   ]
  },
  {
   "cell_type": "code",
   "execution_count": 44,
   "id": "33d0ed6c",
   "metadata": {},
   "outputs": [
    {
     "name": "stdout",
     "output_type": "stream",
     "text": [
      "********\n",
      "hello\n",
      "*******\n"
     ]
    }
   ],
   "source": [
    "def hello():\n",
    "    return 'hello'\n",
    "def outer(fn):\n",
    "    def inner():\n",
    "        print('********')\n",
    "        x=fn()\n",
    "        print(x)\n",
    "        print('*******')\n",
    "    return inner\n",
    "hello=outer(hello) #decorator\n",
    "hello()"
   ]
  },
  {
   "cell_type": "code",
   "execution_count": 45,
   "id": "5fbb8127",
   "metadata": {},
   "outputs": [
    {
     "name": "stdout",
     "output_type": "stream",
     "text": [
      "********\n",
      "hello\n",
      "*******\n"
     ]
    }
   ],
   "source": [
    "def hello():\n",
    "    return 'hello'\n",
    "def outer(fn):\n",
    "    def inner():\n",
    "        print('********')\n",
    "        x=fn()\n",
    "        print(x)\n",
    "        print('*******')\n",
    "    return inner\n",
    "#hello=outer(hello)#decorator\n",
    "@outer\n",
    "def hello():\n",
    "    return 'hello'\n",
    "hello()"
   ]
  },
  {
   "cell_type": "code",
   "execution_count": 46,
   "id": "64c9bd5f",
   "metadata": {},
   "outputs": [
    {
     "name": "stdout",
     "output_type": "stream",
     "text": [
      "********\n",
      "hello\n",
      "*******\n"
     ]
    }
   ],
   "source": [
    "hello()"
   ]
  },
  {
   "cell_type": "code",
   "execution_count": 47,
   "id": "d6b16c1b",
   "metadata": {},
   "outputs": [],
   "source": [
    "@outer\n",
    "def full_name():\n",
    "    return 'My Name is Sandesh'"
   ]
  },
  {
   "cell_type": "code",
   "execution_count": 48,
   "id": "0089cd35",
   "metadata": {},
   "outputs": [
    {
     "name": "stdout",
     "output_type": "stream",
     "text": [
      "********\n",
      "My Name is Sandesh\n",
      "*******\n"
     ]
    }
   ],
   "source": [
    "full_name()"
   ]
  },
  {
   "cell_type": "code",
   "execution_count": null,
   "id": "10352a89",
   "metadata": {},
   "outputs": [],
   "source": []
  }
 ],
 "metadata": {
  "kernelspec": {
   "display_name": "Python 3 (ipykernel)",
   "language": "python",
   "name": "python3"
  },
  "language_info": {
   "codemirror_mode": {
    "name": "ipython",
    "version": 3
   },
   "file_extension": ".py",
   "mimetype": "text/x-python",
   "name": "python",
   "nbconvert_exporter": "python",
   "pygments_lexer": "ipython3",
   "version": "3.11.2"
  }
 },
 "nbformat": 4,
 "nbformat_minor": 5
}
