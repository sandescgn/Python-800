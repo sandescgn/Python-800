{
 "cells": [
  {
   "cell_type": "code",
   "execution_count": 1,
   "id": "328e253e",
   "metadata": {},
   "outputs": [
    {
     "name": "stdout",
     "output_type": "stream",
     "text": [
      "{1, 2, 3, 34.5, 4, 'hello', 5, 6}\n"
     ]
    }
   ],
   "source": [
    "# order is not maintained in set\n",
    "# removes duplicate items\n",
    "x = {1, 'hello', 34.5, 2,3, 4,5,6,1,2,3,4}\n",
    "print(x)"
   ]
  },
  {
   "cell_type": "code",
   "execution_count": 2,
   "id": "ed26fc02",
   "metadata": {},
   "outputs": [
    {
     "ename": "TypeError",
     "evalue": "unhashable type: 'list'",
     "output_type": "error",
     "traceback": [
      "\u001b[1;31m---------------------------------------------------------------------------\u001b[0m",
      "\u001b[1;31mTypeError\u001b[0m                                 Traceback (most recent call last)",
      "Cell \u001b[1;32mIn[2], line 2\u001b[0m\n\u001b[0;32m      1\u001b[0m \u001b[38;5;66;03m# cannot store mutable datatype => non-hashable\u001b[39;00m\n\u001b[1;32m----> 2\u001b[0m x \u001b[38;5;241m=\u001b[39m {\u001b[38;5;241m1\u001b[39m, \u001b[38;5;124m'\u001b[39m\u001b[38;5;124mhello\u001b[39m\u001b[38;5;124m'\u001b[39m, \u001b[38;5;241m34.5\u001b[39m, \u001b[38;5;241m2\u001b[39m,\u001b[38;5;241m3\u001b[39m, \u001b[38;5;241m4\u001b[39m,\u001b[38;5;241m5\u001b[39m,\u001b[38;5;241m6\u001b[39m,\u001b[38;5;241m1\u001b[39m,\u001b[38;5;241m2\u001b[39m,\u001b[38;5;241m3\u001b[39m,\u001b[38;5;241m4\u001b[39m,[\u001b[38;5;241m1\u001b[39m,\u001b[38;5;241m2\u001b[39m,\u001b[38;5;241m3\u001b[39m]}\n\u001b[0;32m      3\u001b[0m \u001b[38;5;28mprint\u001b[39m(x)\n",
      "\u001b[1;31mTypeError\u001b[0m: unhashable type: 'list'"
     ]
    }
   ],
   "source": [
    "# cannot store mutable datatype => non-hashable\n",
    "x = {1, 'hello', 34.5, 2,3, 4,5,6,1,2,3,4,[1,2,3]}\n",
    "print(x)"
   ]
  },
  {
   "cell_type": "code",
   "execution_count": 3,
   "id": "3ca10708",
   "metadata": {},
   "outputs": [
    {
     "name": "stdout",
     "output_type": "stream",
     "text": [
      "{1, 2, 3, 34.5, 4, 'hello', 5, 6, (1, 2, 30)}\n"
     ]
    }
   ],
   "source": [
    "x = {1, 'hello', 34.5, 2,3, 4,5,6,1,2,3,4,(1,2,30)} #Store immutable datatypes\n",
    "print(x)"
   ]
  },
  {
   "cell_type": "code",
   "execution_count": 4,
   "id": "4e588d02",
   "metadata": {},
   "outputs": [
    {
     "ename": "TypeError",
     "evalue": "'set' object is not subscriptable",
     "output_type": "error",
     "traceback": [
      "\u001b[1;31m---------------------------------------------------------------------------\u001b[0m",
      "\u001b[1;31mTypeError\u001b[0m                                 Traceback (most recent call last)",
      "Cell \u001b[1;32mIn[4], line 1\u001b[0m\n\u001b[1;32m----> 1\u001b[0m \u001b[38;5;28mprint\u001b[39m(\u001b[43mx\u001b[49m\u001b[43m[\u001b[49m\u001b[38;5;241;43m0\u001b[39;49m\u001b[43m]\u001b[49m) \u001b[38;5;66;03m# cannot access from index\u001b[39;00m\n",
      "\u001b[1;31mTypeError\u001b[0m: 'set' object is not subscriptable"
     ]
    }
   ],
   "source": [
    "print(x[0]) # cannot access from index"
   ]
  },
  {
   "cell_type": "code",
   "execution_count": 5,
   "id": "40d257ae",
   "metadata": {},
   "outputs": [
    {
     "name": "stdout",
     "output_type": "stream",
     "text": [
      "<class 'set'>\n"
     ]
    }
   ],
   "source": [
    "x = set()\n",
    "\n",
    "print(type(x))"
   ]
  },
  {
   "cell_type": "code",
   "execution_count": 6,
   "id": "b893bd25",
   "metadata": {},
   "outputs": [
    {
     "name": "stdout",
     "output_type": "stream",
     "text": [
      "{1, 2, 3, 34.5, 4, 'hello', 5, 6, 7, (1, 2, 30)}\n"
     ]
    }
   ],
   "source": [
    "x = {1, 'hello', 34.5, 2,3, 4,5,6,1,2,3,4,(1,2,30)}\n",
    "\n",
    "x.add(7) # only one item \n",
    "\n",
    "print(x)"
   ]
  },
  {
   "cell_type": "code",
   "execution_count": 7,
   "id": "df9c696d",
   "metadata": {},
   "outputs": [
    {
     "name": "stdout",
     "output_type": "stream",
     "text": [
      "{1, 2, 3, 34.5, 4, 'hello', 5, 6, 234, 45, (1, 2, 30)}\n"
     ]
    }
   ],
   "source": [
    "x = {1, 'hello', 34.5, 2,3, 4,5,6,1,2,3,4,(1,2,30)}\n",
    "\n",
    "x.update([1,2,3,4,45,234,234,]) # multiple items\n",
    "print(x)"
   ]
  },
  {
   "cell_type": "code",
   "execution_count": 2,
   "id": "5b4b654f",
   "metadata": {},
   "outputs": [
    {
     "name": "stdout",
     "output_type": "stream",
     "text": [
      "{1, 2, 3, 34.5, 4, 5, 6, 34, 234, 12, 45, 'hello', (1, 2, 30)}\n"
     ]
    }
   ],
   "source": [
    "x = {1, 'hello', 34.5, 2,3, 4,5,6,1,2,3,4,(1,2,30)}\n",
    "\n",
    "x.update([1,2,3,4,45,234,234,], (1,2,3,4), {4,12,34}) # multiple items\n",
    "print(x)"
   ]
  },
  {
   "cell_type": "code",
   "execution_count": 1,
   "id": "7c4279de",
   "metadata": {},
   "outputs": [
    {
     "name": "stdout",
     "output_type": "stream",
     "text": [
      "Help on method_descriptor:\n",
      "\n",
      "update(...)\n",
      "    Update a set with the union of itself and others.\n",
      "\n"
     ]
    }
   ],
   "source": [
    "help(set.update)"
   ]
  },
  {
   "cell_type": "code",
   "execution_count": 3,
   "id": "b2adac28",
   "metadata": {},
   "outputs": [
    {
     "name": "stdout",
     "output_type": "stream",
     "text": [
      "{2, 3, 34.5, 4, 5, 6, 'hello', (1, 2, 30)}\n"
     ]
    }
   ],
   "source": [
    "x = {1, 'hello', 34.5, 2,3, 4,5,6,1,2,3,4,(1,2,30)}\n",
    "\n",
    "x.remove(1)\n",
    "\n",
    "print(x)"
   ]
  },
  {
   "cell_type": "code",
   "execution_count": 4,
   "id": "64511ecb",
   "metadata": {},
   "outputs": [
    {
     "ename": "KeyError",
     "evalue": "11",
     "output_type": "error",
     "traceback": [
      "\u001b[1;31m---------------------------------------------------------------------------\u001b[0m",
      "\u001b[1;31mKeyError\u001b[0m                                  Traceback (most recent call last)",
      "Cell \u001b[1;32mIn[4], line 3\u001b[0m\n\u001b[0;32m      1\u001b[0m x \u001b[38;5;241m=\u001b[39m {\u001b[38;5;241m1\u001b[39m, \u001b[38;5;124m'\u001b[39m\u001b[38;5;124mhello\u001b[39m\u001b[38;5;124m'\u001b[39m, \u001b[38;5;241m34.5\u001b[39m, \u001b[38;5;241m2\u001b[39m,\u001b[38;5;241m3\u001b[39m, \u001b[38;5;241m4\u001b[39m,\u001b[38;5;241m5\u001b[39m,\u001b[38;5;241m6\u001b[39m,\u001b[38;5;241m1\u001b[39m,\u001b[38;5;241m2\u001b[39m,\u001b[38;5;241m3\u001b[39m,\u001b[38;5;241m4\u001b[39m,(\u001b[38;5;241m1\u001b[39m,\u001b[38;5;241m2\u001b[39m,\u001b[38;5;241m30\u001b[39m)}\n\u001b[1;32m----> 3\u001b[0m \u001b[43mx\u001b[49m\u001b[38;5;241;43m.\u001b[39;49m\u001b[43mremove\u001b[49m\u001b[43m(\u001b[49m\u001b[38;5;241;43m11\u001b[39;49m\u001b[43m)\u001b[49m\n\u001b[0;32m      5\u001b[0m \u001b[38;5;28mprint\u001b[39m(x)\n",
      "\u001b[1;31mKeyError\u001b[0m: 11"
     ]
    }
   ],
   "source": [
    "x = {1, 'hello', 34.5, 2,3, 4,5,6,1,2,3,4,(1,2,30)}\n",
    "\n",
    "x.remove(11)\n",
    "\n",
    "print(x)"
   ]
  },
  {
   "cell_type": "code",
   "execution_count": 5,
   "id": "bd4e0832",
   "metadata": {},
   "outputs": [
    {
     "name": "stdout",
     "output_type": "stream",
     "text": [
      "{2, 3, 34.5, 4, 5, 6, 'hello', (1, 2, 30)}\n"
     ]
    }
   ],
   "source": [
    "x = {1, 'hello', 34.5, 2,3, 4,5,6,1,2,3,4,(1,2,30)}\n",
    "\n",
    "x.discard(1)\n",
    "\n",
    "print(x)"
   ]
  },
  {
   "cell_type": "code",
   "execution_count": 6,
   "id": "d1de815d",
   "metadata": {},
   "outputs": [
    {
     "name": "stdout",
     "output_type": "stream",
     "text": [
      "{1, 2, 3, 34.5, 4, 5, 6, 'hello', (1, 2, 30)}\n"
     ]
    }
   ],
   "source": [
    "x = {1, 'hello', 34.5, 2,3, 4,5,6,1,2,3,4,(1,2,30)}\n",
    "\n",
    "x.discard(11) #it doesnot show error if there is no data in list of removing\n",
    "\n",
    "print(x)"
   ]
  },
  {
   "cell_type": "code",
   "execution_count": 9,
   "id": "3bed99f3",
   "metadata": {},
   "outputs": [
    {
     "name": "stdout",
     "output_type": "stream",
     "text": [
      "Help on built-in function pop:\n",
      "\n",
      "pop(...) method of builtins.set instance\n",
      "    Remove and return an arbitrary set element.\n",
      "    Raises KeyError if the set is empty.\n",
      "\n"
     ]
    }
   ],
   "source": [
    "help(x.pop)"
   ]
  },
  {
   "cell_type": "code",
   "execution_count": 7,
   "id": "ba2d3014",
   "metadata": {},
   "outputs": [
    {
     "name": "stdout",
     "output_type": "stream",
     "text": [
      "{2, 3, 34.5, 4, 5, 6, 'hello', (1, 2, 30)}\n"
     ]
    }
   ],
   "source": [
    "x = {1, 'hello', 34.5, 2,3, 4,5,6,1,2,3,4,(1,2,30)}\n",
    "\n",
    "x.pop()\n",
    "\n",
    "print(x)"
   ]
  },
  {
   "cell_type": "code",
   "execution_count": 10,
   "id": "108ecc88",
   "metadata": {},
   "outputs": [
    {
     "ename": "KeyError",
     "evalue": "'pop from an empty set'",
     "output_type": "error",
     "traceback": [
      "\u001b[1;31m---------------------------------------------------------------------------\u001b[0m",
      "\u001b[1;31mKeyError\u001b[0m                                  Traceback (most recent call last)",
      "Cell \u001b[1;32mIn[10], line 3\u001b[0m\n\u001b[0;32m      1\u001b[0m x \u001b[38;5;241m=\u001b[39m \u001b[38;5;28mset\u001b[39m()\n\u001b[1;32m----> 3\u001b[0m \u001b[43mx\u001b[49m\u001b[38;5;241;43m.\u001b[39;49m\u001b[43mpop\u001b[49m\u001b[43m(\u001b[49m\u001b[43m)\u001b[49m\n",
      "\u001b[1;31mKeyError\u001b[0m: 'pop from an empty set'"
     ]
    }
   ],
   "source": [
    "x = set()\n",
    "\n",
    "x.pop()"
   ]
  },
  {
   "cell_type": "code",
   "execution_count": 11,
   "id": "5061e99d",
   "metadata": {},
   "outputs": [
    {
     "name": "stdout",
     "output_type": "stream",
     "text": [
      "set()\n"
     ]
    }
   ],
   "source": [
    "x = {1, 'hello', 34.5, 2,3, 4,5,6,1,2,3,4,(1,2,30)}\n",
    "\n",
    "x.clear()\n",
    "\n",
    "print(x)"
   ]
  },
  {
   "cell_type": "code",
   "execution_count": 13,
   "id": "80dc7d68",
   "metadata": {},
   "outputs": [
    {
     "name": "stdout",
     "output_type": "stream",
     "text": [
      "2872637716768\n",
      "{'gita', 'sita', 'ram', 'hari', 'shyam'}\n"
     ]
    }
   ],
   "source": [
    "tea = {'ram', 'shyam', 'gita'}\n",
    "coffee = {'sita', 'hari'}\n",
    "\n",
    "tea_or_coffee = tea |coffee # union\n",
    "print(id(tea_or_coffee))\n",
    "\n",
    "print(tea_or_coffee)"
   ]
  },
  {
   "cell_type": "code",
   "execution_count": 15,
   "id": "9805970e",
   "metadata": {},
   "outputs": [
    {
     "name": "stdout",
     "output_type": "stream",
     "text": [
      "2872637717888\n",
      "{'gita', 'sita', 'ram', 'hari', 'shyam'}\n"
     ]
    }
   ],
   "source": [
    "#or\n",
    "tea = {'ram', 'shyam', 'gita'}\n",
    "coffee = {'sita', 'hari'}\n",
    "\n",
    "tea_or_coffee = tea.union(coffee) # union\n",
    "print(id(tea_or_coffee))\n",
    "\n",
    "print(tea_or_coffee)"
   ]
  },
  {
   "cell_type": "code",
   "execution_count": 16,
   "id": "d85884e1",
   "metadata": {},
   "outputs": [
    {
     "name": "stdout",
     "output_type": "stream",
     "text": [
      "2872637718112\n",
      "{'ram'}\n"
     ]
    }
   ],
   "source": [
    "tea = {'ram', 'shyam', 'gita'}\n",
    "coffee = {'sita', 'hari','ram'}\n",
    "\n",
    "tea_and_coffee = tea & coffee # intersection\n",
    "print(id(tea_and_coffee))\n",
    "\n",
    "print(tea_and_coffee)"
   ]
  },
  {
   "cell_type": "code",
   "execution_count": 17,
   "id": "560136f9",
   "metadata": {},
   "outputs": [
    {
     "name": "stdout",
     "output_type": "stream",
     "text": [
      "2872637717216\n",
      "{'ram'}\n"
     ]
    }
   ],
   "source": [
    "#or\n",
    "tea = {'ram', 'shyam', 'gita'}\n",
    "coffee = {'sita', 'hari','ram'}\n",
    "\n",
    "tea_and_coffee = tea.intersection(coffee) # intersection\n",
    "print(id(tea_and_coffee))\n",
    "\n",
    "print(tea_and_coffee)"
   ]
  },
  {
   "cell_type": "code",
   "execution_count": 18,
   "id": "1148ba9f",
   "metadata": {},
   "outputs": [
    {
     "name": "stdout",
     "output_type": "stream",
     "text": [
      "2872637716992\n",
      "{'shyam', 'gita'}\n"
     ]
    }
   ],
   "source": [
    "tea = {'ram', 'shyam', 'gita'}\n",
    "coffee = {'sita', 'hari','ram'}\n",
    "\n",
    "tea_only = tea-coffee # difference\n",
    "print(id(tea_only))\n",
    "\n",
    "print(tea_only)"
   ]
  },
  {
   "cell_type": "code",
   "execution_count": 20,
   "id": "c1fa284d",
   "metadata": {},
   "outputs": [
    {
     "name": "stdout",
     "output_type": "stream",
     "text": [
      "2872637713184\n",
      "{'shyam', 'gita'}\n"
     ]
    }
   ],
   "source": [
    "tea = {'ram', 'shyam', 'gita'}\n",
    "coffee = {'sita', 'hari','ram'}\n",
    "\n",
    "tea_only = tea.difference(coffee) # difference\n",
    "print(id(tea_only))\n",
    "\n",
    "print(tea_only)"
   ]
  },
  {
   "cell_type": "code",
   "execution_count": 19,
   "id": "c8790092",
   "metadata": {},
   "outputs": [
    {
     "name": "stdout",
     "output_type": "stream",
     "text": [
      "2872637718112\n",
      "{'hari', 'sita'}\n"
     ]
    }
   ],
   "source": [
    "#or\n",
    "tea = {'ram', 'shyam', 'gita'}\n",
    "coffee = {'sita', 'hari','ram'}\n",
    "\n",
    "coffee_only =coffee-tea # difference\n",
    "print(id(coffee_only))\n",
    "\n",
    "print(coffee_only)"
   ]
  },
  {
   "cell_type": "code",
   "execution_count": 21,
   "id": "fc8fbb33",
   "metadata": {},
   "outputs": [
    {
     "name": "stdout",
     "output_type": "stream",
     "text": [
      "{'shyam', 'gita', 'hari', 'sita'}\n"
     ]
    }
   ],
   "source": [
    "#symmetric difference\n",
    "tea = {'ram', 'shyam', 'gita'}\n",
    "coffee = {'sita', 'hari','ram'}\n",
    "\n",
    "tea_only_and_coffee_only = tea^coffee # symmetric difference\n",
    "\n",
    "print(tea_only_and_coffee_only)"
   ]
  },
  {
   "cell_type": "code",
   "execution_count": 22,
   "id": "ba25f032",
   "metadata": {},
   "outputs": [
    {
     "name": "stdout",
     "output_type": "stream",
     "text": [
      "{'shyam', 'gita', 'hari', 'sita'}\n"
     ]
    }
   ],
   "source": [
    "#symmetric difference\n",
    "tea = {'ram', 'shyam', 'gita'}\n",
    "coffee = {'sita', 'hari','ram'}\n",
    "\n",
    "tea_only_and_coffee_only = tea.symmetric_difference(coffee) # symmetric difference\n",
    "\n",
    "print(tea_only_and_coffee_only)"
   ]
  },
  {
   "cell_type": "code",
   "execution_count": 23,
   "id": "aac1c322",
   "metadata": {},
   "outputs": [
    {
     "data": {
      "text/plain": [
       "True"
      ]
     },
     "execution_count": 23,
     "metadata": {},
     "output_type": "execute_result"
    }
   ],
   "source": [
    "tea = {'ram', 'shyam', 'gita'}\n",
    "coffee = {'sita', 'hari','ram'}\n",
    "'ram' in tea"
   ]
  },
  {
   "cell_type": "code",
   "execution_count": 24,
   "id": "214d9863",
   "metadata": {},
   "outputs": [
    {
     "name": "stdout",
     "output_type": "stream",
     "text": [
      "ram\n",
      "gita\n",
      "shyam\n"
     ]
    }
   ],
   "source": [
    "for t in tea:\n",
    "    print(t)"
   ]
  },
  {
   "cell_type": "code",
   "execution_count": 25,
   "id": "68733c2e",
   "metadata": {},
   "outputs": [
    {
     "name": "stdout",
     "output_type": "stream",
     "text": [
      "ram\n",
      "hari\n",
      "sita\n"
     ]
    }
   ],
   "source": [
    "for c in coffee:\n",
    "    print(c)"
   ]
  },
  {
   "cell_type": "code",
   "execution_count": 26,
   "id": "0420ce13",
   "metadata": {},
   "outputs": [
    {
     "name": "stdout",
     "output_type": "stream",
     "text": [
      "<class 'frozenset'>\n"
     ]
    }
   ],
   "source": [
    "#if set is needded in immutable then use frozenset([iterable])\n",
    "x=frozenset({'ram', 'shyam', 'gita'}) #immutable\n",
    "print(type(x))"
   ]
  },
  {
   "cell_type": "code",
   "execution_count": 27,
   "id": "42617a85",
   "metadata": {},
   "outputs": [
    {
     "ename": "AttributeError",
     "evalue": "'frozenset' object has no attribute 'pop'",
     "output_type": "error",
     "traceback": [
      "\u001b[1;31m---------------------------------------------------------------------------\u001b[0m",
      "\u001b[1;31mAttributeError\u001b[0m                            Traceback (most recent call last)",
      "Cell \u001b[1;32mIn[27], line 1\u001b[0m\n\u001b[1;32m----> 1\u001b[0m \u001b[43mx\u001b[49m\u001b[38;5;241;43m.\u001b[39;49m\u001b[43mpop\u001b[49m()\n",
      "\u001b[1;31mAttributeError\u001b[0m: 'frozenset' object has no attribute 'pop'"
     ]
    }
   ],
   "source": [
    "x.pop()"
   ]
  },
  {
   "cell_type": "code",
   "execution_count": null,
   "id": "b7c8d9de",
   "metadata": {},
   "outputs": [],
   "source": [
    "#Set finished"
   ]
  }
 ],
 "metadata": {
  "kernelspec": {
   "display_name": "Python 3 (ipykernel)",
   "language": "python",
   "name": "python3"
  },
  "language_info": {
   "codemirror_mode": {
    "name": "ipython",
    "version": 3
   },
   "file_extension": ".py",
   "mimetype": "text/x-python",
   "name": "python",
   "nbconvert_exporter": "python",
   "pygments_lexer": "ipython3",
   "version": "3.11.2"
  }
 },
 "nbformat": 4,
 "nbformat_minor": 5
}
