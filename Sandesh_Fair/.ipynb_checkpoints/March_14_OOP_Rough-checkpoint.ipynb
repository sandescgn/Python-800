{
 "cells": [
  {
   "cell_type": "code",
   "execution_count": 3,
   "id": "7c653199",
   "metadata": {},
   "outputs": [
    {
     "name": "stdout",
     "output_type": "stream",
     "text": [
      "56\n",
      "30\n"
     ]
    }
   ],
   "source": [
    "class Rectangle:\n",
    "    #instance => object\n",
    "    #attribute should always be private\n",
    "    #method should always be public\n",
    "    def __init__(self,length,breadth):\n",
    "        self.__l=length\n",
    "        self.__b=breadth\n",
    "        \n",
    "    def area(self):\n",
    "        return self.__l*self.__b\n",
    "    def perimeter(self):\n",
    "        return 2*(self.__l+self.__b)\n",
    "    def length_getter(self):\n",
    "        return self.__l\n",
    "    def length_setter(self,length):\n",
    "        if not isinstance(length,(float,int)):\n",
    "            raise ValueError('Invalid datatype')\n",
    "        if length<1:\n",
    "                raise Exception('value cannot be less than 1.') #Custom Exception\n",
    "        self.__l=length\n",
    "r1=Rectangle(7,8)\n",
    "print(r1.area())\n",
    "print(r1.perimeter())"
   ]
  },
  {
   "cell_type": "code",
   "execution_count": 4,
   "id": "13f80e44",
   "metadata": {},
   "outputs": [
    {
     "ename": "ValueError",
     "evalue": "Invalid datatype",
     "output_type": "error",
     "traceback": [
      "\u001b[1;31m---------------------------------------------------------------------------\u001b[0m",
      "\u001b[1;31mValueError\u001b[0m                                Traceback (most recent call last)",
      "Cell \u001b[1;32mIn[4], line 1\u001b[0m\n\u001b[1;32m----> 1\u001b[0m \u001b[43mr1\u001b[49m\u001b[38;5;241;43m.\u001b[39;49m\u001b[43mlength_setter\u001b[49m\u001b[43m(\u001b[49m\u001b[38;5;124;43m'\u001b[39;49m\u001b[38;5;124;43mxyz\u001b[39;49m\u001b[38;5;124;43m'\u001b[39;49m\u001b[43m)\u001b[49m\n\u001b[0;32m      2\u001b[0m r1\u001b[38;5;241m.\u001b[39marea()\n",
      "Cell \u001b[1;32mIn[3], line 17\u001b[0m, in \u001b[0;36mRectangle.length_setter\u001b[1;34m(self, length)\u001b[0m\n\u001b[0;32m     15\u001b[0m \u001b[38;5;28;01mdef\u001b[39;00m \u001b[38;5;21mlength_setter\u001b[39m(\u001b[38;5;28mself\u001b[39m,length):\n\u001b[0;32m     16\u001b[0m     \u001b[38;5;28;01mif\u001b[39;00m \u001b[38;5;129;01mnot\u001b[39;00m \u001b[38;5;28misinstance\u001b[39m(length,(\u001b[38;5;28mfloat\u001b[39m,\u001b[38;5;28mint\u001b[39m)):\n\u001b[1;32m---> 17\u001b[0m         \u001b[38;5;28;01mraise\u001b[39;00m \u001b[38;5;167;01mValueError\u001b[39;00m(\u001b[38;5;124m'\u001b[39m\u001b[38;5;124mInvalid datatype\u001b[39m\u001b[38;5;124m'\u001b[39m)\n\u001b[0;32m     18\u001b[0m     \u001b[38;5;28;01mif\u001b[39;00m length\u001b[38;5;241m<\u001b[39m\u001b[38;5;241m1\u001b[39m:\n\u001b[0;32m     19\u001b[0m             \u001b[38;5;28;01mraise\u001b[39;00m \u001b[38;5;167;01mException\u001b[39;00m(\u001b[38;5;124m'\u001b[39m\u001b[38;5;124mvalue cannot be less than 1.\u001b[39m\u001b[38;5;124m'\u001b[39m) \u001b[38;5;66;03m#Custom Exception\u001b[39;00m\n",
      "\u001b[1;31mValueError\u001b[0m: Invalid datatype"
     ]
    }
   ],
   "source": [
    "r1.length_setter('xyz')\n",
    "r1.area()"
   ]
  },
  {
   "cell_type": "code",
   "execution_count": 11,
   "id": "8b3f41a9",
   "metadata": {},
   "outputs": [
    {
     "name": "stdout",
     "output_type": "stream",
     "text": [
      "56\n",
      "30\n"
     ]
    }
   ],
   "source": [
    "class RectangleException(Exception):\n",
    "    pass\n",
    "class Rectangle:                         \n",
    "    #instance => object\n",
    "    #attribute should always be private\n",
    "    #method should always be public\n",
    "    def __init__(self,length,breadth):\n",
    "        self.__l=length\n",
    "        self.__b=breadth\n",
    "        \n",
    "    def area(self):\n",
    "        return self.__l*self.__b\n",
    "    def perimeter(self):\n",
    "        return 2*(self.__l+self.__b)\n",
    "    def length_getter(self):\n",
    "        return self.__l\n",
    "    def length_setter(self,length):\n",
    "        if not isinstance(length,(float,int)):\n",
    "            raise ValueError('Invalid datatype')\n",
    "        if length<1:\n",
    "                raise Exception('value cannot be less than 1.') #Custom Exception\n",
    "        self.__l=length\n",
    "    def breadth_getter(self):\n",
    "        return self.__b\n",
    "    def breadth_setter(self,breadth):\n",
    "        if not isinstance(breadth,(float,int)):\n",
    "            raise ValueError('Invalid datatype')\n",
    "        if breadth<1:\n",
    "                raise Exception('value cannot be less than 1.') #Custom Exception\n",
    "        self.__b=breadth\n",
    "r1=Rectangle(7,8)\n",
    "print(r1.area())\n",
    "print(r1.perimeter())"
   ]
  },
  {
   "cell_type": "code",
   "execution_count": 12,
   "id": "78744032",
   "metadata": {},
   "outputs": [
    {
     "ename": "ValueError",
     "evalue": "Invalid datatype",
     "output_type": "error",
     "traceback": [
      "\u001b[1;31m---------------------------------------------------------------------------\u001b[0m",
      "\u001b[1;31mValueError\u001b[0m                                Traceback (most recent call last)",
      "Cell \u001b[1;32mIn[12], line 1\u001b[0m\n\u001b[1;32m----> 1\u001b[0m \u001b[43mr1\u001b[49m\u001b[38;5;241;43m.\u001b[39;49m\u001b[43mbreadth_setter\u001b[49m\u001b[43m(\u001b[49m\u001b[38;5;124;43m'\u001b[39;49m\u001b[38;5;124;43mxyz\u001b[39;49m\u001b[38;5;124;43m'\u001b[39;49m\u001b[43m)\u001b[49m\n\u001b[0;32m      2\u001b[0m r1\u001b[38;5;241m.\u001b[39marea()\n",
      "Cell \u001b[1;32mIn[11], line 27\u001b[0m, in \u001b[0;36mRectangle.breadth_setter\u001b[1;34m(self, breadth)\u001b[0m\n\u001b[0;32m     25\u001b[0m \u001b[38;5;28;01mdef\u001b[39;00m \u001b[38;5;21mbreadth_setter\u001b[39m(\u001b[38;5;28mself\u001b[39m,breadth):\n\u001b[0;32m     26\u001b[0m     \u001b[38;5;28;01mif\u001b[39;00m \u001b[38;5;129;01mnot\u001b[39;00m \u001b[38;5;28misinstance\u001b[39m(breadth,(\u001b[38;5;28mfloat\u001b[39m,\u001b[38;5;28mint\u001b[39m)):\n\u001b[1;32m---> 27\u001b[0m         \u001b[38;5;28;01mraise\u001b[39;00m \u001b[38;5;167;01mValueError\u001b[39;00m(\u001b[38;5;124m'\u001b[39m\u001b[38;5;124mInvalid datatype\u001b[39m\u001b[38;5;124m'\u001b[39m)\n\u001b[0;32m     28\u001b[0m     \u001b[38;5;28;01mif\u001b[39;00m breadth\u001b[38;5;241m<\u001b[39m\u001b[38;5;241m1\u001b[39m:\n\u001b[0;32m     29\u001b[0m             \u001b[38;5;28;01mraise\u001b[39;00m \u001b[38;5;167;01mException\u001b[39;00m(\u001b[38;5;124m'\u001b[39m\u001b[38;5;124mvalue cannot be less than 1.\u001b[39m\u001b[38;5;124m'\u001b[39m) \u001b[38;5;66;03m#Custom Exception\u001b[39;00m\n",
      "\u001b[1;31mValueError\u001b[0m: Invalid datatype"
     ]
    }
   ],
   "source": [
    "r1.breadth_setter('xyz')\n",
    "r1.area()"
   ]
  },
  {
   "cell_type": "code",
   "execution_count": 13,
   "id": "2bb5e09b",
   "metadata": {},
   "outputs": [
    {
     "name": "stdout",
     "output_type": "stream",
     "text": [
      "56\n",
      "30\n"
     ]
    }
   ],
   "source": [
    "class RectangleException(Exception):\n",
    "    pass\n",
    "class Rectangle:                         \n",
    "    #instance => object\n",
    "    #attribute should always be private\n",
    "    #method should always be public\n",
    "    def __init__(self,length,breadth):\n",
    "        self.__l=length\n",
    "        self.__b=breadth\n",
    "        \n",
    "    def area(self):\n",
    "        return self.__l*self.__b\n",
    "    def perimeter(self):\n",
    "        return 2*(self.__l+self.__b)\n",
    "    def length_getter(self):\n",
    "        return self.__l\n",
    "    def __validation(self,value):#private method\n",
    "        if not isinstance(value,(float,int)):\n",
    "            raise RectangleException('Invalid datatype')\n",
    "            if value<1:\n",
    "                raise Exception('value cannot be less than 1.') #Custom Exception\n",
    "            \n",
    "    def length_setter(self,length):\n",
    "        if not isinstance(length,(float,int)):\n",
    "            raise ValueError('Invalid datatype')\n",
    "        if value<1:\n",
    "                raise Exception('value cannot be less than 1.') #Custom Exception\n",
    "        self.__l=length\n",
    "    def breadth_getter(self):\n",
    "        return self.__b\n",
    "    def breadth_setter(self,breadth):\n",
    "        if not isinstance(breadth,(float,int)):\n",
    "            raise ValueError('Invalid datatype')\n",
    "        if breadth<1:\n",
    "                raise Exception('value cannot be less than 1.') #Custom Exception\n",
    "        self.__b=breadth\n",
    "r1=Rectangle(7,8)\n",
    "print(r1.area())\n",
    "print(r1.perimeter())"
   ]
  },
  {
   "cell_type": "code",
   "execution_count": 15,
   "id": "74fe5594",
   "metadata": {},
   "outputs": [],
   "source": [
    "class Point:\n",
    "    def __init__(self,x,y):\n",
    "        self.x=x\n",
    "        self.y=y\n",
    "        "
   ]
  },
  {
   "cell_type": "code",
   "execution_count": 17,
   "id": "4d2a83dc",
   "metadata": {},
   "outputs": [],
   "source": [
    "p1=Point(2,2)\n",
    "p2=Point(1,1)"
   ]
  },
  {
   "cell_type": "code",
   "execution_count": 18,
   "id": "730a8476",
   "metadata": {},
   "outputs": [
    {
     "ename": "TypeError",
     "evalue": "'<' not supported between instances of 'Point' and 'Point'",
     "output_type": "error",
     "traceback": [
      "\u001b[1;31m---------------------------------------------------------------------------\u001b[0m",
      "\u001b[1;31mTypeError\u001b[0m                                 Traceback (most recent call last)",
      "Cell \u001b[1;32mIn[18], line 1\u001b[0m\n\u001b[1;32m----> 1\u001b[0m \u001b[43mp1\u001b[49m\u001b[38;5;241;43m<\u001b[39;49m\u001b[43mp2\u001b[49m\n",
      "\u001b[1;31mTypeError\u001b[0m: '<' not supported between instances of 'Point' and 'Point'"
     ]
    }
   ],
   "source": [
    "p1<p2"
   ]
  },
  {
   "cell_type": "code",
   "execution_count": 19,
   "id": "4fd09417",
   "metadata": {},
   "outputs": [
    {
     "name": "stdout",
     "output_type": "stream",
     "text": [
      "<__main__.Point object at 0x00000275CBE6EBD0>\n"
     ]
    }
   ],
   "source": [
    "print(p1) #point(2,2)"
   ]
  },
  {
   "cell_type": "code",
   "execution_count": 20,
   "id": "9624a229",
   "metadata": {},
   "outputs": [],
   "source": [
    "class Point:\n",
    "    def __init__(self,x,y):\n",
    "        self.x=x\n",
    "        self.y=y\n",
    "    def __str__(self):\n",
    "        return f'Point({self.x},{self.y})'"
   ]
  },
  {
   "cell_type": "code",
   "execution_count": 21,
   "id": "c9a04bf5",
   "metadata": {},
   "outputs": [
    {
     "name": "stdout",
     "output_type": "stream",
     "text": [
      "Point(1,1)\n"
     ]
    }
   ],
   "source": [
    "p1=Point(1,1)\n",
    "p2=Point(2,2)\n",
    "print(str(p1))"
   ]
  },
  {
   "cell_type": "code",
   "execution_count": 22,
   "id": "0a012188",
   "metadata": {},
   "outputs": [],
   "source": [
    "class Point:\n",
    "    def __init__(self,x,y):\n",
    "        self.x=x\n",
    "        self.y=y\n",
    "    def __str__(self): #user friendly\n",
    "        return f'Point({self.x},{self.y})'\n",
    "    def __repr__(self): #developer friendly\n",
    "        return f'Point({self.x},{self.y})'"
   ]
  },
  {
   "cell_type": "code",
   "execution_count": 23,
   "id": "b9cc5816",
   "metadata": {},
   "outputs": [
    {
     "data": {
      "text/plain": [
       "str"
      ]
     },
     "execution_count": 23,
     "metadata": {},
     "output_type": "execute_result"
    }
   ],
   "source": [
    "p1=Point(1,1)\n",
    "p2=Point(2,2)\n",
    "type(str(p1))"
   ]
  },
  {
   "cell_type": "code",
   "execution_count": 24,
   "id": "f39ef430",
   "metadata": {},
   "outputs": [
    {
     "data": {
      "text/plain": [
       "'hello'"
      ]
     },
     "execution_count": 24,
     "metadata": {},
     "output_type": "execute_result"
    }
   ],
   "source": [
    "x='hello'\n",
    "str(x)\n"
   ]
  },
  {
   "cell_type": "code",
   "execution_count": 25,
   "id": "fb5cc6a0",
   "metadata": {},
   "outputs": [],
   "source": [
    "class Point:\n",
    "    def __init__(self,x,y):\n",
    "        self.x=x\n",
    "        self.y=y\n",
    "    def __str__(self): #user friendly\n",
    "        return f'Point({self.x},{self.y})'\n",
    "    def __repr__(self): #developer friendly\n",
    "        return f'Point({self.x},{self.y})'"
   ]
  },
  {
   "cell_type": "code",
   "execution_count": 26,
   "id": "8cdf48e7",
   "metadata": {},
   "outputs": [],
   "source": [
    "p1=Point(1,1)\n",
    "p2=Point(2,2)"
   ]
  },
  {
   "cell_type": "code",
   "execution_count": 27,
   "id": "417ebe85",
   "metadata": {},
   "outputs": [
    {
     "ename": "TypeError",
     "evalue": "unsupported operand type(s) for +: 'Point' and 'Point'",
     "output_type": "error",
     "traceback": [
      "\u001b[1;31m---------------------------------------------------------------------------\u001b[0m",
      "\u001b[1;31mTypeError\u001b[0m                                 Traceback (most recent call last)",
      "Cell \u001b[1;32mIn[27], line 1\u001b[0m\n\u001b[1;32m----> 1\u001b[0m \u001b[43mp1\u001b[49m\u001b[38;5;241;43m+\u001b[39;49m\u001b[43mp2\u001b[49m\n",
      "\u001b[1;31mTypeError\u001b[0m: unsupported operand type(s) for +: 'Point' and 'Point'"
     ]
    }
   ],
   "source": [
    "p1+p2 #add(p1,p2)"
   ]
  },
  {
   "cell_type": "code",
   "execution_count": 32,
   "id": "dc9c3886",
   "metadata": {},
   "outputs": [],
   "source": [
    "class Point:\n",
    "    def __init__(self,x,y):\n",
    "        self.x=x\n",
    "        self.y=y\n",
    "    def __str__(self): #user friendly\n",
    "        return f'Point({self.x},{self.y})'\n",
    "    def __repr__(self): #developer friendly\n",
    "        return f'Point({self.x},{self.y})'\n",
    "    def __add__(self,other):\n",
    "        total_x=self.x+other.x\n",
    "        total_y=self.y+other.y\n",
    "        return Point(total_x,total_y)"
   ]
  },
  {
   "cell_type": "code",
   "execution_count": 33,
   "id": "ca8f0cee",
   "metadata": {},
   "outputs": [
    {
     "data": {
      "text/plain": [
       "Point(3,3)"
      ]
     },
     "execution_count": 33,
     "metadata": {},
     "output_type": "execute_result"
    }
   ],
   "source": [
    "p1=Point(1,1)\n",
    "p2=Point(2,2)\n",
    "\n",
    "p1+p2 #add(p1,p2)"
   ]
  },
  {
   "cell_type": "code",
   "execution_count": 34,
   "id": "d3600f28",
   "metadata": {},
   "outputs": [
    {
     "ename": "TypeError",
     "evalue": "unsupported operand type(s) for -: 'Point' and 'Point'",
     "output_type": "error",
     "traceback": [
      "\u001b[1;31m---------------------------------------------------------------------------\u001b[0m",
      "\u001b[1;31mTypeError\u001b[0m                                 Traceback (most recent call last)",
      "Cell \u001b[1;32mIn[34], line 4\u001b[0m\n\u001b[0;32m      1\u001b[0m p1\u001b[38;5;241m=\u001b[39mPoint(\u001b[38;5;241m1\u001b[39m,\u001b[38;5;241m1\u001b[39m)\n\u001b[0;32m      2\u001b[0m p2\u001b[38;5;241m=\u001b[39mPoint(\u001b[38;5;241m2\u001b[39m,\u001b[38;5;241m2\u001b[39m)\n\u001b[1;32m----> 4\u001b[0m \u001b[43mp1\u001b[49m\u001b[38;5;241;43m-\u001b[39;49m\u001b[43mp2\u001b[49m \u001b[38;5;66;03m#add(p1,p2)\u001b[39;00m\n",
      "\u001b[1;31mTypeError\u001b[0m: unsupported operand type(s) for -: 'Point' and 'Point'"
     ]
    }
   ],
   "source": [
    "p1=Point(1,1)\n",
    "p2=Point(2,2)\n",
    "\n",
    "p1-p2 #add(p1,p2)"
   ]
  },
  {
   "cell_type": "code",
   "execution_count": 35,
   "id": "fea9a2c0",
   "metadata": {},
   "outputs": [],
   "source": [
    "class Point:\n",
    "    def __init__(self,x,y):\n",
    "        self.x=x\n",
    "        self.y=y\n",
    "    def __str__(self): #user friendly\n",
    "        return f'Point({self.x},{self.y})'\n",
    "    def __repr__(self): #developer friendly\n",
    "        return f'Point({self.x},{self.y})'\n",
    "    def __sub__(self,other):\n",
    "        total_x=self.x-other.x\n",
    "        total_y=self.y-other.y\n",
    "        return Point(total_x,total_y)"
   ]
  },
  {
   "cell_type": "code",
   "execution_count": 36,
   "id": "738760b0",
   "metadata": {},
   "outputs": [
    {
     "data": {
      "text/plain": [
       "Point(-1,-1)"
      ]
     },
     "execution_count": 36,
     "metadata": {},
     "output_type": "execute_result"
    }
   ],
   "source": [
    "p1=Point(1,1)\n",
    "p2=Point(2,2)\n",
    "\n",
    "p1-p2 #sub(p1,p2)"
   ]
  },
  {
   "cell_type": "code",
   "execution_count": 37,
   "id": "eed3941f",
   "metadata": {},
   "outputs": [
    {
     "ename": "TypeError",
     "evalue": "'<' not supported between instances of 'Point' and 'Point'",
     "output_type": "error",
     "traceback": [
      "\u001b[1;31m---------------------------------------------------------------------------\u001b[0m",
      "\u001b[1;31mTypeError\u001b[0m                                 Traceback (most recent call last)",
      "Cell \u001b[1;32mIn[37], line 4\u001b[0m\n\u001b[0;32m      1\u001b[0m p1\u001b[38;5;241m=\u001b[39mPoint(\u001b[38;5;241m1\u001b[39m,\u001b[38;5;241m1\u001b[39m)\n\u001b[0;32m      2\u001b[0m p2\u001b[38;5;241m=\u001b[39mPoint(\u001b[38;5;241m2\u001b[39m,\u001b[38;5;241m2\u001b[39m)\n\u001b[1;32m----> 4\u001b[0m \u001b[43mp1\u001b[49m\u001b[38;5;241;43m<\u001b[39;49m\u001b[43mp2\u001b[49m \u001b[38;5;66;03m#lt(p1,p2)\u001b[39;00m\n",
      "\u001b[1;31mTypeError\u001b[0m: '<' not supported between instances of 'Point' and 'Point'"
     ]
    }
   ],
   "source": [
    "p1=Point(1,1)\n",
    "p2=Point(2,2)\n",
    "\n",
    "p1<p2 #lt(p1,p2)"
   ]
  },
  {
   "cell_type": "code",
   "execution_count": 38,
   "id": "3bcbf441",
   "metadata": {},
   "outputs": [],
   "source": [
    "from math import sqrt\n",
    "class Point:\n",
    "    def __init__(self,x,y):\n",
    "        self.x=x\n",
    "        self.y=y\n",
    "    def __str__(self): #user friendly\n",
    "        return f'Point({self.x},{self.y})'\n",
    "    def __repr__(self): #developer friendly\n",
    "        return f'Point({self.x},{self.y})'\n",
    "    def __sub__(self,other):\n",
    "        total_x=self.x-other.x\n",
    "        total_y=self.y-other.y\n",
    "        return Point(total_x,total_y)\n",
    "    def __lt__(self,other):\n",
    "        self_distance=sqrt(self.x**2+self.y**2)\n",
    "        other_distance=sqrt(other.x**2+other.y**2)\n",
    "        if self_distance<other_distance:\n",
    "            return True\n",
    "        else:\n",
    "            return False"
   ]
  },
  {
   "cell_type": "code",
   "execution_count": 39,
   "id": "e21870ac",
   "metadata": {},
   "outputs": [
    {
     "data": {
      "text/plain": [
       "True"
      ]
     },
     "execution_count": 39,
     "metadata": {},
     "output_type": "execute_result"
    }
   ],
   "source": [
    "p1=Point(1,1)\n",
    "p2=Point(2,2)\n",
    "\n",
    "p1<p2 #lt(p1,p2)"
   ]
  },
  {
   "cell_type": "code",
   "execution_count": 40,
   "id": "9d3d5552",
   "metadata": {},
   "outputs": [
    {
     "data": {
      "text/plain": [
       "False"
      ]
     },
     "execution_count": 40,
     "metadata": {},
     "output_type": "execute_result"
    }
   ],
   "source": [
    "p1=Point(5,5)\n",
    "p2=Point(2,2)\n",
    "p1<p2 #lt(p1,p2)"
   ]
  },
  {
   "cell_type": "code",
   "execution_count": 55,
   "id": "7b0e5025",
   "metadata": {},
   "outputs": [],
   "source": [
    "from math import sqrt\n",
    "class Point:\n",
    "    def __init__(self,x,y):\n",
    "        self.x=x\n",
    "        self.y=y\n",
    "    def __str__(self): #user friendly\n",
    "        return f'Point({self.x},{self.y})'\n",
    "    def __repr__(self): #developer friendly\n",
    "        return f'Point({self.x},{self.y})'\n",
    "    def __sub__(self,other):\n",
    "        total_x=self.x-other.x\n",
    "        total_y=self.y-other.y\n",
    "        return Point(total_x,total_y)\n",
    "    def __gt__(self,other):\n",
    "        self_distance=sqrt(self.x**2+self.y**2)\n",
    "        other_distance=sqrt(other.x**2+other.y**2)\n",
    "        if self_distance>other_distance:\n",
    "            return True\n",
    "        else:\n",
    "            return False"
   ]
  },
  {
   "cell_type": "code",
   "execution_count": 56,
   "id": "e2ae1b47",
   "metadata": {},
   "outputs": [
    {
     "data": {
      "text/plain": [
       "False"
      ]
     },
     "execution_count": 56,
     "metadata": {},
     "output_type": "execute_result"
    }
   ],
   "source": [
    "p1=Point(1,1)\n",
    "p2=Point(2,2)\n",
    "\n",
    "p1>p2 #gt(p1,p2)"
   ]
  },
  {
   "cell_type": "code",
   "execution_count": 57,
   "id": "6c277958",
   "metadata": {},
   "outputs": [
    {
     "data": {
      "text/plain": [
       "True"
      ]
     },
     "execution_count": 57,
     "metadata": {},
     "output_type": "execute_result"
    }
   ],
   "source": [
    "p1=Point(5,5)\n",
    "p2=Point(2,2)\n",
    "p1>p2 #gt(p1,p2)"
   ]
  },
  {
   "cell_type": "code",
   "execution_count": 50,
   "id": "ac367132",
   "metadata": {},
   "outputs": [],
   "source": [
    "from math import sqrt\n",
    "class Point:\n",
    "    def __init__(self,x,y):\n",
    "        self.x=x\n",
    "        self.y=y\n",
    "    def __str__(self): #user friendly\n",
    "        return f'Point({self.x},{self.y})'\n",
    "    def __repr__(self): #developer friendly\n",
    "        return f'Point({self.x},{self.y})'\n",
    "    def __sub__(self,other):\n",
    "        total_x=self.x-other.x\n",
    "        total_y=self.y-other.y\n",
    "        return Point(total_x,total_y)\n",
    "    def __eq__(self,other):\n",
    "        self_distance=sqrt(self.x**2+self.y**2)\n",
    "        other_distance=sqrt(other.x**2+other.y**2)\n",
    "        if self_distance==other_distance:\n",
    "            return True\n",
    "        else:\n",
    "            return False"
   ]
  },
  {
   "cell_type": "code",
   "execution_count": 51,
   "id": "d9789722",
   "metadata": {},
   "outputs": [
    {
     "data": {
      "text/plain": [
       "False"
      ]
     },
     "execution_count": 51,
     "metadata": {},
     "output_type": "execute_result"
    }
   ],
   "source": [
    "p1=Point(1,1)\n",
    "p2=Point(2,2)\n",
    "\n",
    "p1==p2 #eq(p1,p2)"
   ]
  },
  {
   "cell_type": "code",
   "execution_count": 52,
   "id": "960ea0a8",
   "metadata": {},
   "outputs": [
    {
     "data": {
      "text/plain": [
       "True"
      ]
     },
     "execution_count": 52,
     "metadata": {},
     "output_type": "execute_result"
    }
   ],
   "source": [
    "p1=Point(5,5)\n",
    "p2=Point(5,5)\n",
    "p1==p2 #eq(p1,p2)"
   ]
  },
  {
   "cell_type": "code",
   "execution_count": null,
   "id": "bcdfe0e8",
   "metadata": {},
   "outputs": [],
   "source": []
  }
 ],
 "metadata": {
  "kernelspec": {
   "display_name": "Python 3 (ipykernel)",
   "language": "python",
   "name": "python3"
  },
  "language_info": {
   "codemirror_mode": {
    "name": "ipython",
    "version": 3
   },
   "file_extension": ".py",
   "mimetype": "text/x-python",
   "name": "python",
   "nbconvert_exporter": "python",
   "pygments_lexer": "ipython3",
   "version": "3.11.2"
  }
 },
 "nbformat": 4,
 "nbformat_minor": 5
}
