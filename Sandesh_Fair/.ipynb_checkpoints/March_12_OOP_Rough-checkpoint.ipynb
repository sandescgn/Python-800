{
 "cells": [
  {
   "cell_type": "code",
   "execution_count": null,
   "id": "b426eeb9",
   "metadata": {},
   "outputs": [],
   "source": [
    "class Student:\n",
    "    def __init__(self,name,age,college,faculty,grade,section,roll_no):\n",
    "        self.name=name\n",
    "        self.age=age\n",
    "        self.college=college\n",
    "        self.faculty=faculty\n",
    "        self.grade=grade\n",
    "        self.section=section\n",
    "        self.rollno=roll_no\n",
    "        self.subjects=[]\n",
    "    def learn(self):\n",
    "        print(f'{self.name} is learning:{self.subjects}')\n",
    "        def add_subject(self,subject):\n",
    "        self_subjects.append(subject)"
   ]
  },
  {
   "cell_type": "code",
   "execution_count": null,
   "id": "6116d4e3",
   "metadata": {},
   "outputs": [],
   "source": [
    "#DRY=Donnot Repeat Yourself=>principle of class\n"
   ]
  },
  {
   "cell_type": "code",
   "execution_count": 1,
   "id": "b937ee3a",
   "metadata": {},
   "outputs": [],
   "source": [
    "class Person:\n",
    "    #special methods/double underscore/dunder method\n",
    "    #constructor=>initializer\n",
    "    def __init__(self,name,age,address):\n",
    "        self.name=name\n",
    "        self.age=age\n",
    "        self.address=address\n",
    "    def walk(self):\n",
    "        print('Person is walking')\n",
    "    def eat(self):\n",
    "        print('Person is eating')\n",
    "    def sleep(self):\n",
    "       print('Person is sleeping')"
   ]
  },
  {
   "cell_type": "code",
   "execution_count": 3,
   "id": "3657d196",
   "metadata": {},
   "outputs": [],
   "source": [
    "class Student(Person): #derived class/child class\n",
    "    pass"
   ]
  },
  {
   "cell_type": "code",
   "execution_count": 4,
   "id": "1ffd029e",
   "metadata": {},
   "outputs": [
    {
     "name": "stdout",
     "output_type": "stream",
     "text": [
      "Person is walking\n"
     ]
    }
   ],
   "source": [
    "s1=Student('ram',22,'ktm')\n",
    "s1.walk()"
   ]
  },
  {
   "cell_type": "code",
   "execution_count": 5,
   "id": "d5a0b8c1",
   "metadata": {},
   "outputs": [
    {
     "name": "stdout",
     "output_type": "stream",
     "text": [
      "Person is sleeping\n"
     ]
    }
   ],
   "source": [
    "s1.sleep()"
   ]
  },
  {
   "cell_type": "code",
   "execution_count": 6,
   "id": "e5d26074",
   "metadata": {},
   "outputs": [],
   "source": [
    "class Student(Person): #derived class/child class\n",
    "    def __init__(self,name,age,college,faculty,grade,section,roll_no):\n",
    "        self.name=name\n",
    "        self.age=age\n",
    "        self.college=college\n",
    "        self.faculty=faculty\n",
    "        self.grade=grade\n",
    "        self.section=section\n",
    "        self.rollno=roll_no\n",
    "        self.subjects=[]\n",
    "    def learn(self):\n",
    "        print(f'{self.name} is learning:{self.subjects}')\n",
    "    def add_subject(self,subject):\n",
    "        self.subjects.append(subject)"
   ]
  },
  {
   "cell_type": "code",
   "execution_count": 9,
   "id": "60d4d6e6",
   "metadata": {},
   "outputs": [
    {
     "name": "stdout",
     "output_type": "stream",
     "text": [
      "Person is walking\n"
     ]
    }
   ],
   "source": [
    "s1=Student('ram',22,'ncit','science',12,'A',1)\n",
    "s1.walk()"
   ]
  },
  {
   "cell_type": "code",
   "execution_count": 10,
   "id": "481eef22",
   "metadata": {},
   "outputs": [
    {
     "name": "stdout",
     "output_type": "stream",
     "text": [
      "ram is learning:[]\n"
     ]
    }
   ],
   "source": [
    "s1.learn()"
   ]
  },
  {
   "cell_type": "code",
   "execution_count": 17,
   "id": "ce27e800",
   "metadata": {},
   "outputs": [
    {
     "name": "stdout",
     "output_type": "stream",
     "text": [
      "Person is walking\n",
      "ram\n"
     ]
    }
   ],
   "source": [
    "class Person:\n",
    "    #special methods/double underscore/dunder method\n",
    "    #constructor=>initializer\n",
    "    def __init__(self,name,age,address):\n",
    "        self.name=name\n",
    "        self.age=age\n",
    "        self.address=address\n",
    "    def walk(self):\n",
    "        print('Person is walking')\n",
    "    def eat(self):\n",
    "        print('Person is eating')\n",
    "    def sleep(self):\n",
    "        print('Person is sleeping')\n",
    "\n",
    "class Student(Person): #derived class/child class\n",
    "    def __init__(self,name,age,address,college,faculty,grade,section,roll_no):\n",
    "        super().__init__(name,age,address) #calling Person__init__\n",
    "        self.college=college\n",
    "        self.faculty=faculty\n",
    "        self.grade= grade\n",
    "        self.section = section\n",
    "        self.rollno=roll_no\n",
    "        self.subjects=[]\n",
    "    def learn(self):\n",
    "        print(f'{self.name} is learning:{self.subjects}')\n",
    "    def add_subject(self,subject):\n",
    "        self.subjects.append(subject)\n",
    "s1=Student('ram',22,'ktm','ncit','science',12,'A',1)\n",
    "s1.walk()\n",
    "print(s1.name)"
   ]
  },
  {
   "cell_type": "code",
   "execution_count": 21,
   "id": "d783c535",
   "metadata": {},
   "outputs": [
    {
     "name": "stdout",
     "output_type": "stream",
     "text": [
      "Person is walking\n",
      "ram\n",
      "Name:ram\n",
      "Age:22\n",
      "Address:ktm\n",
      "College:ncit\n",
      "Faculty:science\n",
      "Roll No:1\n",
      "Subjects:[]\n"
     ]
    }
   ],
   "source": [
    "class Person:\n",
    "    #special methods/double underscore/dunder method\n",
    "    #constructor=>initializer\n",
    "    \n",
    "    def __init__(self,name,age,address):\n",
    "        self.name=name\n",
    "        self.age=age\n",
    "        self.address=address\n",
    "    def walk(self):\n",
    "        print('Person is walking')\n",
    "        \n",
    "    def eat(self):\n",
    "        print('Person is eating')\n",
    "        \n",
    "    def sleep(self):\n",
    "        print('Person is sleeping')\n",
    "        \n",
    "    def info(self):\n",
    "        print(f\"Name:{self.name}\")\n",
    "        print(f\"Age:{self.age}\")\n",
    "        print(f\"Address:{self.address}\")\n",
    " #method override\n",
    "class Student(Person): #derived class/child class\n",
    "    def __init__(self,name,age,address,college,faculty,grade,section,roll_no):\n",
    "        super().__init__(name,age,address) #calling Person__init__\n",
    "        self.college=college\n",
    "        self.faculty=faculty\n",
    "        self.grade= grade\n",
    "        self.section = section\n",
    "        self.roll_no=roll_no\n",
    "        self.subjects=[]\n",
    "    def learn(self):\n",
    "        print(f'{self.name} is learning:{self.subjects}')\n",
    "    def add_subject(self,subject):\n",
    "        self.subjects.append(subject)\n",
    "        #method override\n",
    "    def info(self):\n",
    "        super().info() #calling parent's info method\n",
    "        print(f\"College:{self.college}\")\n",
    "        print(f\"Faculty:{self.faculty}\")\n",
    "        print(f\"Roll No:{self.roll_no}\")\n",
    "        print(f\"Subjects:{self.subjects}\")\n",
    "        \n",
    "s1=Student('ram',22,'ktm','ncit','science',12,'A',1)\n",
    "s1.walk()\n",
    "print(s1.name)\n",
    "s1.info()"
   ]
  },
  {
   "cell_type": "code",
   "execution_count": 24,
   "id": "b5200892",
   "metadata": {},
   "outputs": [
    {
     "name": "stdout",
     "output_type": "stream",
     "text": [
      "50\n",
      "30\n"
     ]
    }
   ],
   "source": [
    "class Rectangle:\n",
    "    def __init__(self,length,breadth):\n",
    "        self.l=length\n",
    "        self.b=breadth\n",
    "        \n",
    "    def area(self):\n",
    "        return self.l*self.b\n",
    "    def perimeter(self):\n",
    "        return 2*(self.l+self.b)\n",
    "r1=Rectangle(5,10)\n",
    "print(r1.area())\n",
    "print(r1.perimeter())"
   ]
  },
  {
   "cell_type": "code",
   "execution_count": 25,
   "id": "213598e5",
   "metadata": {},
   "outputs": [
    {
     "name": "stdout",
     "output_type": "stream",
     "text": [
      "78.53981633974483\n",
      "31.41592653589793\n"
     ]
    }
   ],
   "source": [
    "from math import pi\n",
    "class Circle:  #self=>instance=>object\n",
    "    def __init__(self,radius):\n",
    "        self.r=radius  \n",
    "    def area(self):\n",
    "        return pi* self.r**2\n",
    "    def perimeter(self):\n",
    "        return 2*pi*self.r\n",
    "c1=Circle(radius=5)\n",
    "print(c1.area())\n",
    "print(c1.perimeter())"
   ]
  },
  {
   "cell_type": "code",
   "execution_count": 26,
   "id": "d1d83dee",
   "metadata": {},
   "outputs": [
    {
     "name": "stdout",
     "output_type": "stream",
     "text": [
      "78.53981633974483\n",
      "31.41592653589793\n"
     ]
    }
   ],
   "source": [
    "from math import pi\n",
    "class Circle:  #self(x)=>instance=>object\n",
    "    def __init__(x,radius):\n",
    "        x.r=radius  \n",
    "    def area(x):\n",
    "        return pi* x.r**2\n",
    "    def perimeter(x):\n",
    "        return 2*pi*x.r\n",
    "c1=Circle(radius=5)\n",
    "print(c1.area())\n",
    "print(c1.perimeter())"
   ]
  },
  {
   "cell_type": "code",
   "execution_count": 27,
   "id": "fff80d21",
   "metadata": {},
   "outputs": [
    {
     "name": "stdout",
     "output_type": "stream",
     "text": [
      "<__main__.Circle object at 0x0000029B823A2110> inside init\n",
      "<__main__.Circle object at 0x0000029B823A2110> outside init\n"
     ]
    }
   ],
   "source": [
    "from math import pi\n",
    "class Circle:  #self=>instance=>object\n",
    "    def __init__(self,radius):\n",
    "        print(self,'inside init')\n",
    "        self.r=radius  \n",
    "    \n",
    "c1=Circle(radius=5) #object instantiate\n",
    "print(c1,'outside init')"
   ]
  },
  {
   "cell_type": "code",
   "execution_count": 28,
   "id": "cbe5fd21",
   "metadata": {},
   "outputs": [
    {
     "data": {
      "text/plain": [
       "153.93804002589985"
      ]
     },
     "execution_count": 28,
     "metadata": {},
     "output_type": "execute_result"
    }
   ],
   "source": [
    "from math import pi\n",
    "class Circle:  \n",
    "    #self=>instance=>object\n",
    "    def __init__(self,radius): #first parametre is always object\n",
    "        self.r=radius  \n",
    "    def area(self):\n",
    "        return pi* self.r**2\n",
    "    def perimeter(self):\n",
    "        return 2*pi*self.r\n",
    "c1=Circle(7)\n",
    "Circle.area(c1) #c1 is object\n"
   ]
  },
  {
   "cell_type": "code",
   "execution_count": 29,
   "id": "a8d062e7",
   "metadata": {},
   "outputs": [],
   "source": [
    "#inheritence\n",
    "class Person:\n",
    "    pass\n",
    "class Student(Person):\n",
    "    pass\n",
    "#Single Inheritence"
   ]
  },
  {
   "cell_type": "code",
   "execution_count": 30,
   "id": "be6d6e88",
   "metadata": {},
   "outputs": [],
   "source": [
    "class Teacher:\n",
    "    pass\n",
    "class Person(Teacher):\n",
    "    pass"
   ]
  },
  {
   "cell_type": "code",
   "execution_count": null,
   "id": "0a656077",
   "metadata": {},
   "outputs": [],
   "source": [
    "class Teacher(Person):\n",
    "    def __init__(self,name,age,address, college,faculty,emp_id):\n",
    "        self.name=name\n",
    "        self.age=age\n",
    "        self.address=address\n",
    "        self.college=college\n",
    "        self.faculty=faculty\n",
    "        self.emp_id=emp_id\n",
    "        self.subjects=[]\n",
    "        "
   ]
  },
  {
   "cell_type": "code",
   "execution_count": null,
   "id": "35a5c854",
   "metadata": {},
   "outputs": [],
   "source": [
    "class Person:\n",
    "    def person_info(self,name,age):\n",
    "        print('Inside Person Class')\n",
    "        print ('Name:',name,'Age:',age)\n",
    "        \n",
    "class Company:\n",
    "    def company_info(self,company_name,location):\n",
    "        print('Inside Company Class')\n",
    "        print ('Name:',company_name,'Location:',location)\n",
    "        \n",
    "class Employee:\n",
    "    def employee_info(self,salary,skill):\n",
    "        print('Inside Employee Class')\n",
    "        print ('Salary:',salary,'Skill:',skill)\n",
    "        \n",
    "emp=Employee()\n",
    "\n",
    "emp.person_info('Jessa',28)\n",
    "emp.company_info('Google','Atlanta')\n",
    "emp.employee_info(12000,'Machine Learning')\n",
    "\n",
    "\n",
    "        \n",
    "        "
   ]
  }
 ],
 "metadata": {
  "kernelspec": {
   "display_name": "Python 3 (ipykernel)",
   "language": "python",
   "name": "python3"
  },
  "language_info": {
   "codemirror_mode": {
    "name": "ipython",
    "version": 3
   },
   "file_extension": ".py",
   "mimetype": "text/x-python",
   "name": "python",
   "nbconvert_exporter": "python",
   "pygments_lexer": "ipython3",
   "version": "3.11.2"
  }
 },
 "nbformat": 4,
 "nbformat_minor": 5
}
