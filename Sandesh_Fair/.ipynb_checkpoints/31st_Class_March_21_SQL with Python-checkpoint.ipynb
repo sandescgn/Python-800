{
 "cells": [
  {
   "cell_type": "code",
   "execution_count": 2,
   "id": "7cc0f927",
   "metadata": {},
   "outputs": [],
   "source": [
    "import sqlite3"
   ]
  },
  {
   "cell_type": "code",
   "execution_count": 3,
   "id": "90ab07f7",
   "metadata": {},
   "outputs": [],
   "source": [
    "con=sqlite3.connect('students.db')"
   ]
  },
  {
   "cell_type": "code",
   "execution_count": 4,
   "id": "cb936175",
   "metadata": {},
   "outputs": [],
   "source": [
    "cur=con.cursor()"
   ]
  },
  {
   "cell_type": "code",
   "execution_count": 5,
   "id": "5b07ce16",
   "metadata": {},
   "outputs": [
    {
     "ename": "OperationalError",
     "evalue": "table student already exists",
     "output_type": "error",
     "traceback": [
      "\u001b[1;31m---------------------------------------------------------------------------\u001b[0m",
      "\u001b[1;31mOperationalError\u001b[0m                          Traceback (most recent call last)",
      "Cell \u001b[1;32mIn[5], line 13\u001b[0m\n\u001b[0;32m      1\u001b[0m CREATE_TABLE_QUERY\u001b[38;5;241m=\u001b[39m\u001b[38;5;124m\"\"\"\u001b[39m\n\u001b[0;32m      2\u001b[0m \u001b[38;5;124mcreate table student(\u001b[39m\n\u001b[0;32m      3\u001b[0m \u001b[38;5;124mid int primary key,\u001b[39m\n\u001b[1;32m   (...)\u001b[0m\n\u001b[0;32m     11\u001b[0m \u001b[38;5;124m);\u001b[39m\n\u001b[0;32m     12\u001b[0m \u001b[38;5;124m\"\"\"\u001b[39m\n\u001b[1;32m---> 13\u001b[0m \u001b[43mcur\u001b[49m\u001b[38;5;241;43m.\u001b[39;49m\u001b[43mexecute\u001b[49m\u001b[43m(\u001b[49m\u001b[43mCREATE_TABLE_QUERY\u001b[49m\u001b[43m)\u001b[49m\n",
      "\u001b[1;31mOperationalError\u001b[0m: table student already exists"
     ]
    }
   ],
   "source": [
    "CREATE_TABLE_QUERY=\"\"\"\n",
    "create table student(\n",
    "id int primary key,\n",
    "name varchar not null,\n",
    "address varchar not null,\n",
    "college varchar not null,\n",
    "age int not null,\n",
    "gender varchar(1) not null,\n",
    "faculty varchar not null\n",
    "\n",
    ");\n",
    "\"\"\"\n",
    "cur.execute(CREATE_TABLE_QUERY)"
   ]
  },
  {
   "cell_type": "code",
   "execution_count": 6,
   "id": "55501858",
   "metadata": {},
   "outputs": [
    {
     "ename": "IntegrityError",
     "evalue": "UNIQUE constraint failed: student.id",
     "output_type": "error",
     "traceback": [
      "\u001b[1;31m---------------------------------------------------------------------------\u001b[0m",
      "\u001b[1;31mIntegrityError\u001b[0m                            Traceback (most recent call last)",
      "Cell \u001b[1;32mIn[6], line 10\u001b[0m\n\u001b[0;32m      1\u001b[0m INSERT_RECORDS\u001b[38;5;241m=\u001b[39m\u001b[38;5;124m\"\"\"\u001b[39m\n\u001b[0;32m      2\u001b[0m \u001b[38;5;124minsert into student \u001b[39m\n\u001b[0;32m      3\u001b[0m \u001b[38;5;124m(\u001b[39m\u001b[38;5;124m'\u001b[39m\u001b[38;5;124mid\u001b[39m\u001b[38;5;124m'\u001b[39m\u001b[38;5;124m,\u001b[39m\u001b[38;5;124m'\u001b[39m\u001b[38;5;124mname\u001b[39m\u001b[38;5;124m'\u001b[39m\u001b[38;5;124m,\u001b[39m\u001b[38;5;124m'\u001b[39m\u001b[38;5;124maddress\u001b[39m\u001b[38;5;124m'\u001b[39m\u001b[38;5;124m,\u001b[39m\u001b[38;5;124m'\u001b[39m\u001b[38;5;124mcollege\u001b[39m\u001b[38;5;124m'\u001b[39m\u001b[38;5;124m,\u001b[39m\u001b[38;5;124m'\u001b[39m\u001b[38;5;124mage\u001b[39m\u001b[38;5;124m'\u001b[39m\u001b[38;5;124m,\u001b[39m\u001b[38;5;124m'\u001b[39m\u001b[38;5;124mgender\u001b[39m\u001b[38;5;124m'\u001b[39m\u001b[38;5;124m,\u001b[39m\u001b[38;5;124m'\u001b[39m\u001b[38;5;124mfaculty\u001b[39m\u001b[38;5;124m'\u001b[39m\u001b[38;5;124m)\u001b[39m\n\u001b[1;32m   (...)\u001b[0m\n\u001b[0;32m      8\u001b[0m \u001b[38;5;124m(4,\u001b[39m\u001b[38;5;124m'\u001b[39m\u001b[38;5;124msita\u001b[39m\u001b[38;5;124m'\u001b[39m\u001b[38;5;124m,\u001b[39m\u001b[38;5;124m'\u001b[39m\u001b[38;5;124mkathmandu\u001b[39m\u001b[38;5;124m'\u001b[39m\u001b[38;5;124m,\u001b[39m\u001b[38;5;124m'\u001b[39m\u001b[38;5;124mioe pulchowk\u001b[39m\u001b[38;5;124m'\u001b[39m\u001b[38;5;124m,24,\u001b[39m\u001b[38;5;124m'\u001b[39m\u001b[38;5;124mf\u001b[39m\u001b[38;5;124m'\u001b[39m\u001b[38;5;124m,\u001b[39m\u001b[38;5;124m'\u001b[39m\u001b[38;5;124mce\u001b[39m\u001b[38;5;124m'\u001b[39m\u001b[38;5;124m);\u001b[39m\n\u001b[0;32m      9\u001b[0m \u001b[38;5;124m\"\"\"\u001b[39m\n\u001b[1;32m---> 10\u001b[0m \u001b[43mcur\u001b[49m\u001b[38;5;241;43m.\u001b[39;49m\u001b[43mexecute\u001b[49m\u001b[43m(\u001b[49m\u001b[43mINSERT_RECORDS\u001b[49m\u001b[43m)\u001b[49m\n",
      "\u001b[1;31mIntegrityError\u001b[0m: UNIQUE constraint failed: student.id"
     ]
    }
   ],
   "source": [
    "INSERT_RECORDS=\"\"\"\n",
    "insert into student \n",
    "('id','name','address','college','age','gender','faculty')\n",
    "values\n",
    "(1,'ram','kathmandu','ncit',18,'m','IT'),\n",
    "(2,'shyam','lalitpur','islington',20,'m','CSIT'),\n",
    "(3,'gita','pokhara','ncit',21,'f','SE'),\n",
    "(4,'sita','kathmandu','ioe pulchowk',24,'f','ce');\n",
    "\"\"\"\n",
    "cur.execute(INSERT_RECORDS)"
   ]
  },
  {
   "cell_type": "code",
   "execution_count": 7,
   "id": "d0b6bc5c",
   "metadata": {},
   "outputs": [],
   "source": [
    "con.commit()"
   ]
  },
  {
   "cell_type": "code",
   "execution_count": 8,
   "id": "29e47707",
   "metadata": {},
   "outputs": [
    {
     "name": "stdout",
     "output_type": "stream",
     "text": [
      "(1, 'ram', 'kathmandu', 'ncit', 18, 'm', 'IT', 'TU', '9846448426', 'ram@gmail.com')\n",
      "(2, 'shyam', 'lalitpur', 'islington', 20, 'm', 'CSIT', 'TU', '9846448426', 'shyam@gmail.com')\n",
      "(3, 'gita', 'lalitpur', 'ncit', 21, 'f', 'SE', 'TU', '98464788426', 'gita@gmail.com')\n",
      "(4, 'sita', 'kathmandu', 'ioe pulchowk', 24, 'f', 'ce', 'TU', '98464788426', 'sita@gmail.com')\n",
      "(5, 'hari bahadur', 'lalitpur', 'ncit', 23, 'm', 'SE', 'PU', '9846448426', 'hari@gmail.com')\n",
      "(6, 'madan bahadur', 'kathmandu', 'british college', 24, 'm', 'UK', 'BIT', '9846448926', 'madan@gmail.com')\n",
      "(7, 'maya devi', 'lalitpur', 'ncit', 23, 'm', 'SE', 'PU', '9846448726', 'maya@gmail.com')\n"
     ]
    }
   ],
   "source": [
    "all_student=cur.execute(\"SELECT*FROM student;\")\n",
    "for student in all_student:\n",
    "    print(student)"
   ]
  },
  {
   "cell_type": "code",
   "execution_count": 12,
   "id": "54256d24",
   "metadata": {},
   "outputs": [
    {
     "name": "stdout",
     "output_type": "stream",
     "text": [
      "('ram', 'kathmandu')\n",
      "('shyam', 'lalitpur')\n",
      "('gita', 'pokhara')\n",
      "('sita', 'kathmandu')\n"
     ]
    }
   ],
   "source": [
    "all_student=cur.execute(\"SELECT name, address FROM student;\")\n",
    "for student in all_student:\n",
    "    print(student)"
   ]
  },
  {
   "cell_type": "code",
   "execution_count": 13,
   "id": "0d734141",
   "metadata": {},
   "outputs": [
    {
     "data": {
      "text/plain": [
       "<sqlite3.Cursor at 0x1a62f545ec0>"
      ]
     },
     "execution_count": 13,
     "metadata": {},
     "output_type": "execute_result"
    }
   ],
   "source": [
    "cur.execute(\"UPDATE student set address='lalitpur' WHERE id=3;\")"
   ]
  },
  {
   "cell_type": "code",
   "execution_count": 14,
   "id": "e1247aad",
   "metadata": {},
   "outputs": [
    {
     "name": "stdout",
     "output_type": "stream",
     "text": [
      "(1, 'ram', 'kathmandu', 'ncit', 18, 'm', 'IT')\n",
      "(2, 'shyam', 'lalitpur', 'islington', 20, 'm', 'CSIT')\n",
      "(3, 'gita', 'lalitpur', 'ncit', 21, 'f', 'SE')\n",
      "(4, 'sita', 'kathmandu', 'ioe pulchowk', 24, 'f', 'ce')\n"
     ]
    }
   ],
   "source": [
    "all_student=cur.execute(\"SELECT*FROM student;\")\n",
    "for student in all_student:\n",
    "    print(student)"
   ]
  },
  {
   "cell_type": "code",
   "execution_count": 15,
   "id": "ccc08221",
   "metadata": {},
   "outputs": [
    {
     "data": {
      "text/plain": [
       "<sqlite3.Cursor at 0x1a62f545ec0>"
      ]
     },
     "execution_count": 15,
     "metadata": {},
     "output_type": "execute_result"
    }
   ],
   "source": [
    "cur.execute(\"ALTER table student add university default 'TU';\")\n",
    "cur.execute(\"ALTER table student add contact varchar(20);\")\n",
    "cur.execute(\"ALTER table student add email varchar(20);\")\n"
   ]
  },
  {
   "cell_type": "code",
   "execution_count": 16,
   "id": "6a79e02e",
   "metadata": {},
   "outputs": [
    {
     "data": {
      "text/plain": [
       "<sqlite3.Cursor at 0x1a62f545ec0>"
      ]
     },
     "execution_count": 16,
     "metadata": {},
     "output_type": "execute_result"
    }
   ],
   "source": [
    "cur.execute(\"\"\"\n",
    "UPDATE student set contact='9846448426', email ='ram@gmail.com' \n",
    "WHERE id=1;\n",
    "\"\"\")"
   ]
  },
  {
   "cell_type": "code",
   "execution_count": 17,
   "id": "ef3c9210",
   "metadata": {},
   "outputs": [
    {
     "data": {
      "text/plain": [
       "<sqlite3.Cursor at 0x1a62f545ec0>"
      ]
     },
     "execution_count": 17,
     "metadata": {},
     "output_type": "execute_result"
    }
   ],
   "source": [
    "cur.execute(\"\"\"\n",
    "UPDATE student set contact='9846449626', email ='shyam@gmail.com' \n",
    "WHERE id=2;\n",
    "\"\"\")"
   ]
  },
  {
   "cell_type": "code",
   "execution_count": 18,
   "id": "378b2aaa",
   "metadata": {},
   "outputs": [
    {
     "data": {
      "text/plain": [
       "<sqlite3.Cursor at 0x1a62f545ec0>"
      ]
     },
     "execution_count": 18,
     "metadata": {},
     "output_type": "execute_result"
    }
   ],
   "source": [
    "cur.execute(\"\"\"\n",
    "UPDATE student set contact='98464788426', email ='gita@gmail.com' \n",
    "WHERE id=3;\n",
    "\"\"\")"
   ]
  },
  {
   "cell_type": "code",
   "execution_count": 19,
   "id": "199e59e2",
   "metadata": {},
   "outputs": [
    {
     "data": {
      "text/plain": [
       "<sqlite3.Cursor at 0x1a62f545ec0>"
      ]
     },
     "execution_count": 19,
     "metadata": {},
     "output_type": "execute_result"
    }
   ],
   "source": [
    "cur.execute(\"\"\"\n",
    "UPDATE student set contact='98464788526', email ='sita@gmail.com' \n",
    "WHERE id=4;\n",
    "\"\"\")"
   ]
  },
  {
   "cell_type": "code",
   "execution_count": 20,
   "id": "3c2e981a",
   "metadata": {},
   "outputs": [
    {
     "name": "stdout",
     "output_type": "stream",
     "text": [
      "(1, 'ram', 'kathmandu', 'ncit', 18, 'm', 'IT', 'TU', '9846448426', 'ram@gmail.com')\n",
      "(2, 'shyam', 'lalitpur', 'islington', 20, 'm', 'CSIT', 'TU', '9846448426', 'shyam@gmail.com')\n",
      "(3, 'gita', 'lalitpur', 'ncit', 21, 'f', 'SE', 'TU', '98464788426', 'gita@gmail.com')\n",
      "(4, 'sita', 'kathmandu', 'ioe pulchowk', 24, 'f', 'ce', 'TU', '98464788426', 'sita@gmail.com')\n"
     ]
    }
   ],
   "source": [
    "all_student=cur.execute(\"SELECT*FROM student;\")\n",
    "for student in all_student:\n",
    "    print(student)"
   ]
  },
  {
   "cell_type": "code",
   "execution_count": 22,
   "id": "a9a453ba",
   "metadata": {},
   "outputs": [
    {
     "name": "stdout",
     "output_type": "stream",
     "text": [
      "Enter the address:kathmandu\n",
      "(1, 'ram', 'kathmandu', 'ncit', 18, 'm', 'IT', 'TU', '9846448426', 'ram@gmail.com')\n",
      "(4, 'sita', 'kathmandu', 'ioe pulchowk', 24, 'f', 'ce', 'TU', '98464788426', 'sita@gmail.com')\n"
     ]
    }
   ],
   "source": [
    "address=input(\"Enter the address:\")\n",
    "\n",
    "all_student=cur.execute(f\"SELECT*FROM student \\\n",
    "where address='{address}';\")\n",
    "for student in all_student:\n",
    "    print(student)"
   ]
  },
  {
   "cell_type": "code",
   "execution_count": 26,
   "id": "57668b5b",
   "metadata": {},
   "outputs": [
    {
     "name": "stdout",
     "output_type": "stream",
     "text": [
      "Enter the address:lalitpur' or address= 'kathmandu ​\n",
      "(2, 'shyam', 'lalitpur', 'islington', 20, 'm', 'CSIT', 'TU', '9846448426', 'shyam@gmail.com')\n",
      "(3, 'gita', 'lalitpur', 'ncit', 21, 'f', 'SE', 'TU', '98464788426', 'gita@gmail.com')\n"
     ]
    }
   ],
   "source": [
    "address=input(\"Enter the address:\")\n",
    "\n",
    "all_student=cur.execute(f\"SELECT*FROM student \\\n",
    "where address='{address}';\")\n",
    "for student in all_student:\n",
    "    print(student)"
   ]
  },
  {
   "cell_type": "code",
   "execution_count": null,
   "id": "9a59f399",
   "metadata": {},
   "outputs": [],
   "source": [
    "#SELECT*FROM student where address='{address='lalitpur' or address= 'kathmandu}';\""
   ]
  },
  {
   "cell_type": "code",
   "execution_count": 30,
   "id": "e105b643",
   "metadata": {},
   "outputs": [
    {
     "name": "stdout",
     "output_type": "stream",
     "text": [
      "Enter the address:lalitpur' or address= 'kathmandu ​\n"
     ]
    }
   ],
   "source": [
    "address=input(\"Enter the address:\")\n",
    "\n",
    "all_student=cur.execute(f\"SELECT*FROM student \\\n",
    "where address=?;\",(address,))\n",
    "for student in all_student:\n",
    "    print(student)"
   ]
  },
  {
   "cell_type": "code",
   "execution_count": 41,
   "id": "5317cb14",
   "metadata": {},
   "outputs": [],
   "source": [
    "students=[\n",
    "(5,'hari bahadur','lalitpur','ncit',23,'m','SE','PU','9846448426','hari@gmail.com'),\n",
    "(6,'madan bahadur','kathmandu','british college',24,'m','UK','BIT','9846448926','madan@gmail.com'),\n",
    "(7,'maya devi','lalitpur','ncit',23,'m','SE','PU','9846448726','maya@gmail.com')\n",
    "]"
   ]
  },
  {
   "cell_type": "code",
   "execution_count": null,
   "id": "b1559ccd",
   "metadata": {},
   "outputs": [],
   "source": [
    "cur.executemany(st)"
   ]
  },
  {
   "cell_type": "code",
   "execution_count": 42,
   "id": "8061d6c6",
   "metadata": {},
   "outputs": [
    {
     "data": {
      "text/plain": [
       "<sqlite3.Cursor at 0x1a62f545ec0>"
      ]
     },
     "execution_count": 42,
     "metadata": {},
     "output_type": "execute_result"
    }
   ],
   "source": [
    "INSERT_STUDENT_QUERY =\"\"\"\n",
    "\n",
    "insert into student \n",
    "('id','name','address','college','age','gender','faculty','university','contact','email')\n",
    "values\n",
    "(?,?,?,?,?,?,?,?,?,?);\n",
    "\n",
    "\"\"\"\n",
    "cur.executemany(INSERT_STUDENT_QUERY,students)"
   ]
  },
  {
   "cell_type": "code",
   "execution_count": 43,
   "id": "06785243",
   "metadata": {},
   "outputs": [],
   "source": [
    "con.commit()"
   ]
  },
  {
   "cell_type": "code",
   "execution_count": 9,
   "id": "c5c3f89b",
   "metadata": {},
   "outputs": [],
   "source": [
    "import sqlite3\n",
    "con=sqlite3.connect('students.db')\n",
    "cur=con.cursor()"
   ]
  },
  {
   "cell_type": "code",
   "execution_count": 10,
   "id": "a42fe842",
   "metadata": {},
   "outputs": [
    {
     "data": {
      "text/plain": [
       "<sqlite3.Cursor at 0x282cbd5d540>"
      ]
     },
     "execution_count": 10,
     "metadata": {},
     "output_type": "execute_result"
    }
   ],
   "source": [
    "student= (8,'Sandesh Chaulagain','Bhaktapur','WRC',23,'m','SE','TU','9846448426','Sandes.cgn@gmail.com')\n",
    "    \n",
    "INSERT_STUDENT_QUERY =\"\"\"\n",
    "\n",
    "insert into student \n",
    "('id','name','address','college','age','gender','faculty','university','contact','email')\n",
    "values\n",
    "(?,?,?,?,?,?,?,?,?,?);\n",
    "\n",
    "\"\"\"\n",
    "\n",
    "cur.execute(INSERT_STUDENT_QUERY,student)"
   ]
  },
  {
   "cell_type": "code",
   "execution_count": 11,
   "id": "dce1843f",
   "metadata": {},
   "outputs": [],
   "source": [
    "con.commit()"
   ]
  },
  {
   "cell_type": "code",
   "execution_count": null,
   "id": "0b39444b",
   "metadata": {},
   "outputs": [],
   "source": []
  }
 ],
 "metadata": {
  "kernelspec": {
   "display_name": "Python 3 (ipykernel)",
   "language": "python",
   "name": "python3"
  },
  "language_info": {
   "codemirror_mode": {
    "name": "ipython",
    "version": 3
   },
   "file_extension": ".py",
   "mimetype": "text/x-python",
   "name": "python",
   "nbconvert_exporter": "python",
   "pygments_lexer": "ipython3",
   "version": "3.11.2"
  }
 },
 "nbformat": 4,
 "nbformat_minor": 5
}
