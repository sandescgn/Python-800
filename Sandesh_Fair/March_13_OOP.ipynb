{
 "cells": [
  {
   "cell_type": "code",
   "execution_count": 1,
   "id": "1e457706",
   "metadata": {},
   "outputs": [],
   "source": [
    "#Multilevel Inheritance\n",
    "class GrandParent:\n",
    "    pass\n",
    "class Parent(GrandParent):\n",
    "    pass\n",
    "class Child(Parent):\n",
    "    pass"
   ]
  },
  {
   "cell_type": "code",
   "execution_count": null,
   "id": "7f8ed9ca",
   "metadata": {},
   "outputs": [],
   "source": [
    "class Person:\n",
    "    pass\n",
    "class Student(Person):\n",
    "    pass\n",
    "class Bachelor"
   ]
  },
  {
   "cell_type": "code",
   "execution_count": 2,
   "id": "b8a19135",
   "metadata": {},
   "outputs": [],
   "source": [
    "class Person:\n",
    "    #special methods/double underscore/dunder method\n",
    "    #constructor=>initializer\n",
    "    \n",
    "    def __init__(self,name,age,address):\n",
    "        self.name=name\n",
    "        self.age=age\n",
    "        self.address=address\n",
    "    def walk(self):\n",
    "        print('Person is walking')\n",
    "        \n",
    "    def eat(self):\n",
    "        print('Person is eating')\n",
    "        \n",
    "    def sleep(self):\n",
    "        print('Person is sleeping')\n",
    "        \n",
    "    def info(self):\n",
    "        print(f\"Name:{self.name}\")\n",
    "        print(f\"Age:{self.age}\")\n",
    "        print(f\"Address:{self.address}\")\n",
    " #method override\n",
    "class Student(Person): #derived class/child class\n",
    "    def __init__(self,name,age,address,college,faculty,grade,section,roll_no):\n",
    "        super().__init__(name,age,address) #calling Person__init__\n",
    "        self.college=college\n",
    "        self.faculty=faculty\n",
    "        self.grade= grade\n",
    "        self.section = section\n",
    "        self.roll_no=roll_no\n",
    "        self.subjects=[]\n",
    "    def learn(self):\n",
    "        print(f'{self.name} is learning:{self.subjects}')\n",
    "    def add_subject(self,subject):\n",
    "        self.subjects.append(subject)\n",
    "        #method override\n",
    "    def info(self):\n",
    "        super().info() #calling parent's info method\n",
    "        print(f\"College:{self.college}\")\n",
    "        print(f\"Faculty:{self.faculty}\")\n",
    "        print(f\"Roll No:{self.roll_no}\")\n",
    "        print(f\"Subjects:{self.subjects}\")\n",
    "class BachelorStudents(Student):\n",
    "    def __init__(self,name,age,address,college,faculty,roll_no,university='TU'):\n",
    "        super().__init__(name,age,address,college,faculty,roll_no)\n",
    "        self.university=university\n",
    "        self.subjects=[]\n",
    "    def info(self):\n",
    "        super().info() # calling parent's info method\n",
    "        print(f\"University:{self.university}\")"
   ]
  },
  {
   "cell_type": "code",
   "execution_count": null,
   "id": "a4f6c43a",
   "metadata": {},
   "outputs": [],
   "source": [
    "b1=BachelorStudents"
   ]
  },
  {
   "cell_type": "code",
   "execution_count": null,
   "id": "6ee11abb",
   "metadata": {},
   "outputs": [],
   "source": []
  },
  {
   "cell_type": "code",
   "execution_count": 3,
   "id": "703dea70",
   "metadata": {},
   "outputs": [],
   "source": [
    "class Person:\n",
    "    pass\n",
    "#Hierarchical Inheritance\n",
    "class Student(Person):\n",
    "    pass\n",
    "class Teacher(Person):\n",
    "    pass\n",
    "class Employee(Person):\n",
    "    pass"
   ]
  },
  {
   "cell_type": "code",
   "execution_count": 4,
   "id": "06f8e0bf",
   "metadata": {},
   "outputs": [
    {
     "name": "stdout",
     "output_type": "stream",
     "text": [
      "This is Vehicle\n",
      "Car name is: BMW\n",
      "This is Vehicle\n",
      "Truck name is: Ford\n"
     ]
    }
   ],
   "source": [
    "class Vehicle:\n",
    "    def info(self):\n",
    "        print(\"This is Vehicle\")\n",
    "\n",
    "class Car(Vehicle):\n",
    "    def car_info(self, name):\n",
    "        print(\"Car name is:\", name)\n",
    "\n",
    "class Truck(Vehicle):\n",
    "    def truck_info(self, name):\n",
    "        print(\"Truck name is:\", name)\n",
    "\n",
    "obj1 = Car()\n",
    "obj1.info()\n",
    "obj1.car_info('BMW')\n",
    "\n",
    "obj2 = Truck()\n",
    "obj2.info()\n",
    "obj2.truck_info('Ford')"
   ]
  },
  {
   "cell_type": "code",
   "execution_count": null,
   "id": "f728ea88",
   "metadata": {},
   "outputs": [],
   "source": [
    "#https://pynative.com/python-inheritance/"
   ]
  },
  {
   "cell_type": "code",
   "execution_count": 5,
   "id": "62e6f50c",
   "metadata": {},
   "outputs": [
    {
     "name": "stdout",
     "output_type": "stream",
     "text": [
      "Inside Vehicle class\n",
      "Inside Car class\n",
      "Inside SportsCar class\n"
     ]
    }
   ],
   "source": [
    "#Hybrid Inheritance\n",
    "class Vehicle:\n",
    "    def vehicle_info(self):\n",
    "        print(\"Inside Vehicle class\")\n",
    "\n",
    "class Car(Vehicle):\n",
    "    def car_info(self):\n",
    "        print(\"Inside Car class\")\n",
    "\n",
    "class Truck(Vehicle):\n",
    "    def truck_info(self):\n",
    "        print(\"Inside Truck class\")\n",
    "\n",
    "# Sports Car can inherits properties of Vehicle and Car\n",
    "class SportsCar(Car, Vehicle):\n",
    "    def sports_car_info(self):\n",
    "        print(\"Inside SportsCar class\")\n",
    "\n",
    "# create object\n",
    "s_car = SportsCar()\n",
    "\n",
    "s_car.vehicle_info()\n",
    "s_car.car_info()\n",
    "s_car.sports_car_info()"
   ]
  },
  {
   "cell_type": "code",
   "execution_count": 8,
   "id": "a2db6c0f",
   "metadata": {},
   "outputs": [],
   "source": [
    "class MyClass:\n",
    "    a=1 #attribute of class => can be accessed by object also\n",
    "    b=2\n",
    "    def __init__(self,x,y):\n",
    "        self.x=x #attribute of object => cannot be accessed by class\n",
    "        self.y=y"
   ]
  },
  {
   "cell_type": "code",
   "execution_count": 9,
   "id": "e9fa1266",
   "metadata": {},
   "outputs": [],
   "source": [
    "m=MyClass(x=5,y=7)"
   ]
  },
  {
   "cell_type": "code",
   "execution_count": 10,
   "id": "c2deae40",
   "metadata": {},
   "outputs": [
    {
     "data": {
      "text/plain": [
       "5"
      ]
     },
     "execution_count": 10,
     "metadata": {},
     "output_type": "execute_result"
    }
   ],
   "source": [
    "m.x"
   ]
  },
  {
   "cell_type": "code",
   "execution_count": 11,
   "id": "5583ff71",
   "metadata": {},
   "outputs": [
    {
     "data": {
      "text/plain": [
       "7"
      ]
     },
     "execution_count": 11,
     "metadata": {},
     "output_type": "execute_result"
    }
   ],
   "source": [
    "m.y"
   ]
  },
  {
   "cell_type": "code",
   "execution_count": 12,
   "id": "14723849",
   "metadata": {},
   "outputs": [
    {
     "data": {
      "text/plain": [
       "1"
      ]
     },
     "execution_count": 12,
     "metadata": {},
     "output_type": "execute_result"
    }
   ],
   "source": [
    "m.a"
   ]
  },
  {
   "cell_type": "code",
   "execution_count": 13,
   "id": "a8936e78",
   "metadata": {},
   "outputs": [
    {
     "data": {
      "text/plain": [
       "2"
      ]
     },
     "execution_count": 13,
     "metadata": {},
     "output_type": "execute_result"
    }
   ],
   "source": [
    "m.b"
   ]
  },
  {
   "cell_type": "code",
   "execution_count": 14,
   "id": "b3caba64",
   "metadata": {},
   "outputs": [
    {
     "data": {
      "text/plain": [
       "1"
      ]
     },
     "execution_count": 14,
     "metadata": {},
     "output_type": "execute_result"
    }
   ],
   "source": [
    "MyClass.a"
   ]
  },
  {
   "cell_type": "code",
   "execution_count": 15,
   "id": "fec84959",
   "metadata": {},
   "outputs": [
    {
     "data": {
      "text/plain": [
       "2"
      ]
     },
     "execution_count": 15,
     "metadata": {},
     "output_type": "execute_result"
    }
   ],
   "source": [
    "MyClass.b"
   ]
  },
  {
   "cell_type": "code",
   "execution_count": null,
   "id": "1afbd83c",
   "metadata": {},
   "outputs": [],
   "source": []
  },
  {
   "cell_type": "code",
   "execution_count": 16,
   "id": "86a6e16c",
   "metadata": {},
   "outputs": [
    {
     "name": "stdout",
     "output_type": "stream",
     "text": [
      "50\n",
      "30\n"
     ]
    }
   ],
   "source": [
    "class Rectangle:\n",
    "    def __init__(self,length,breadth):\n",
    "        self.l=length\n",
    "        self.b=breadth\n",
    "        \n",
    "    def area(self):\n",
    "        return self.l*self.b\n",
    "    def perimeter(self):\n",
    "        return 2*(self.l+self.b)\n",
    "r1=Rectangle(5,10)\n",
    "print(r1.area())\n",
    "print(r1.perimeter())"
   ]
  },
  {
   "cell_type": "code",
   "execution_count": 18,
   "id": "d4ab8dee",
   "metadata": {},
   "outputs": [
    {
     "name": "stdout",
     "output_type": "stream",
     "text": [
      "56\n",
      "30\n"
     ]
    }
   ],
   "source": [
    "class Rectangle:\n",
    "    #instance => object\n",
    "    #attribute should always be private\n",
    "    #method should always be public\n",
    "    def __init__(self,length,breadth):\n",
    "        self.__l=length\n",
    "        self.__b=breadth\n",
    "        \n",
    "    def area(self):\n",
    "        return self.__l*self.__b\n",
    "    def perimeter(self):\n",
    "        return 2*(self.__l+self.__b)\n",
    "r1=Rectangle(7,8)\n",
    "print(r1.area())\n",
    "print(r1.perimeter())"
   ]
  },
  {
   "cell_type": "code",
   "execution_count": 21,
   "id": "d1779589",
   "metadata": {},
   "outputs": [
    {
     "name": "stdout",
     "output_type": "stream",
     "text": [
      "56\n",
      "30\n"
     ]
    }
   ],
   "source": [
    "class Rectangle:\n",
    "    def __init__(self,length,breadth):\n",
    "        self.l=length\n",
    "        self.b=breadth\n",
    "        \n",
    "    def area(self):\n",
    "        return self.l*self.b\n",
    "    def perimeter(self):\n",
    "        return 2*(self.l+self.b)\n",
    "r1=Rectangle(7,8)\n",
    "print(r1.area())\n",
    "print(r1.perimeter())"
   ]
  },
  {
   "cell_type": "code",
   "execution_count": 23,
   "id": "becb2937",
   "metadata": {},
   "outputs": [
    {
     "data": {
      "text/plain": [
       "7"
      ]
     },
     "execution_count": 23,
     "metadata": {},
     "output_type": "execute_result"
    }
   ],
   "source": [
    "r1.l"
   ]
  },
  {
   "cell_type": "code",
   "execution_count": 24,
   "id": "5310dced",
   "metadata": {},
   "outputs": [],
   "source": [
    "r1.l='xuynz'"
   ]
  },
  {
   "cell_type": "code",
   "execution_count": 25,
   "id": "ae40bf99",
   "metadata": {},
   "outputs": [
    {
     "data": {
      "text/plain": [
       "'xuynzxuynzxuynzxuynzxuynzxuynzxuynzxuynz'"
      ]
     },
     "execution_count": 25,
     "metadata": {},
     "output_type": "execute_result"
    }
   ],
   "source": [
    "r1.area()"
   ]
  },
  {
   "cell_type": "code",
   "execution_count": 26,
   "id": "1307be19",
   "metadata": {},
   "outputs": [
    {
     "name": "stdout",
     "output_type": "stream",
     "text": [
      "56\n",
      "30\n"
     ]
    }
   ],
   "source": [
    "class Rectangle:\n",
    "    #instance => object\n",
    "    #attribute should always be private\n",
    "    #method should always be public\n",
    "    def __init__(self,length,breadth):\n",
    "        self.__l=length\n",
    "        self.__b=breadth\n",
    "        \n",
    "    def area(self):\n",
    "        return self.__l*self.__b\n",
    "    def perimeter(self):\n",
    "        return 2*(self.__l+self.__b)\n",
    "r1=Rectangle(7,8)\n",
    "print(r1.area())\n",
    "print(r1.perimeter())"
   ]
  },
  {
   "cell_type": "code",
   "execution_count": null,
   "id": "700e6721",
   "metadata": {},
   "outputs": [],
   "source": []
  },
  {
   "cell_type": "code",
   "execution_count": 28,
   "id": "6e66f073",
   "metadata": {},
   "outputs": [
    {
     "name": "stdout",
     "output_type": "stream",
     "text": [
      "56\n",
      "30\n"
     ]
    }
   ],
   "source": [
    "class Rectangle:\n",
    "    #instance => object\n",
    "    #attribute should always be private\n",
    "    #method should always be public\n",
    "    def __init__(self,length,breadth):\n",
    "        self.__l=length\n",
    "        self.__b=breadth\n",
    "        \n",
    "    def area(self):\n",
    "        return self.__l*self.__b\n",
    "    def perimeter(self):\n",
    "        return 2*(self.__l+self.__b)\n",
    "    def length_getter(self):\n",
    "        return self.__l\n",
    "    \n",
    "r1=Rectangle(7,8)\n",
    "print(r1.area())\n",
    "print(r1.perimeter())"
   ]
  },
  {
   "cell_type": "code",
   "execution_count": 29,
   "id": "3f98dbe3",
   "metadata": {},
   "outputs": [
    {
     "data": {
      "text/plain": [
       "7"
      ]
     },
     "execution_count": 29,
     "metadata": {},
     "output_type": "execute_result"
    }
   ],
   "source": [
    "r1.length_getter()"
   ]
  },
  {
   "cell_type": "code",
   "execution_count": 30,
   "id": "89b1b5ac",
   "metadata": {},
   "outputs": [
    {
     "data": {
      "text/plain": [
       "56"
      ]
     },
     "execution_count": 30,
     "metadata": {},
     "output_type": "execute_result"
    }
   ],
   "source": [
    "r1.__l='hello'\n",
    "r1.area()"
   ]
  },
  {
   "cell_type": "code",
   "execution_count": 31,
   "id": "7b515293",
   "metadata": {},
   "outputs": [
    {
     "name": "stdout",
     "output_type": "stream",
     "text": [
      "56\n",
      "30\n"
     ]
    }
   ],
   "source": [
    "class Rectangle:\n",
    "    #instance => object\n",
    "    #attribute should always be private\n",
    "    #method should always be public\n",
    "    def __init__(self,length,breadth):\n",
    "        self.__l=length\n",
    "        self.__b=breadth\n",
    "        \n",
    "    def area(self):\n",
    "        return self.__l*self.__b\n",
    "    def perimeter(self):\n",
    "        return 2*(self.__l+self.__b)\n",
    "    def length_getter(self):\n",
    "        return self.__l\n",
    "    def length_setter(self,length):\n",
    "        self.__l=length\n",
    "r1=Rectangle(7,8)\n",
    "print(r1.area())\n",
    "print(r1.perimeter())"
   ]
  },
  {
   "cell_type": "code",
   "execution_count": 32,
   "id": "9ae07bf8",
   "metadata": {},
   "outputs": [
    {
     "data": {
      "text/plain": [
       "7"
      ]
     },
     "execution_count": 32,
     "metadata": {},
     "output_type": "execute_result"
    }
   ],
   "source": [
    "r1.length_getter()"
   ]
  },
  {
   "cell_type": "code",
   "execution_count": 33,
   "id": "4f50c157",
   "metadata": {},
   "outputs": [],
   "source": [
    "r1.length_setter(10)"
   ]
  },
  {
   "cell_type": "code",
   "execution_count": 34,
   "id": "e1cdddc2",
   "metadata": {},
   "outputs": [
    {
     "data": {
      "text/plain": [
       "80"
      ]
     },
     "execution_count": 34,
     "metadata": {},
     "output_type": "execute_result"
    }
   ],
   "source": [
    "r1.area()"
   ]
  },
  {
   "cell_type": "code",
   "execution_count": 37,
   "id": "6f4c7510",
   "metadata": {},
   "outputs": [
    {
     "data": {
      "text/plain": [
       "-80"
      ]
     },
     "execution_count": 37,
     "metadata": {},
     "output_type": "execute_result"
    }
   ],
   "source": [
    "r1.length_setter(-10)\n",
    "r1.area()"
   ]
  },
  {
   "cell_type": "code",
   "execution_count": null,
   "id": "a47a4b9a",
   "metadata": {},
   "outputs": [],
   "source": []
  }
 ],
 "metadata": {
  "kernelspec": {
   "display_name": "Python 3 (ipykernel)",
   "language": "python",
   "name": "python3"
  },
  "language_info": {
   "codemirror_mode": {
    "name": "ipython",
    "version": 3
   },
   "file_extension": ".py",
   "mimetype": "text/x-python",
   "name": "python",
   "nbconvert_exporter": "python",
   "pygments_lexer": "ipython3",
   "version": "3.11.2"
  }
 },
 "nbformat": 4,
 "nbformat_minor": 5
}
