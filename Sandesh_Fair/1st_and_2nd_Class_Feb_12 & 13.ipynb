{
 "cells": [
  {
   "cell_type": "code",
   "execution_count": 1,
   "id": "269ddfa5",
   "metadata": {},
   "outputs": [
    {
     "name": "stdout",
     "output_type": "stream",
     "text": [
      "3\n"
     ]
    }
   ],
   "source": [
    "x= 1 #variable => number => integer datatype/datastructure\n",
    "y= 2 #variable => number => integer datatype/datastructure\n",
    "\n",
    "sum= x+y #variable => addition\n",
    "print(sum)"
   ]
  },
  {
   "cell_type": "code",
   "execution_count": 2,
   "id": "1bda630e",
   "metadata": {},
   "outputs": [
    {
     "name": "stdout",
     "output_type": "stream",
     "text": [
      "SandeshChaulagain\n"
     ]
    }
   ],
   "source": [
    "first_name='Sandesh' #string data type\n",
    "last_name= 'Chaulagain'#string data type\n",
    "full_name= first_name+last_name #Concatenation\n",
    "print(full_name)"
   ]
  },
  {
   "cell_type": "code",
   "execution_count": 3,
   "id": "0452c102",
   "metadata": {},
   "outputs": [
    {
     "ename": "SyntaxError",
     "evalue": "invalid syntax (783374512.py, line 2)",
     "output_type": "error",
     "traceback": [
      "\u001b[1;36m  Cell \u001b[1;32mIn[3], line 2\u001b[1;36m\u001b[0m\n\u001b[1;33m    if= '1'\u001b[0m\n\u001b[1;37m      ^\u001b[0m\n\u001b[1;31mSyntaxError\u001b[0m\u001b[1;31m:\u001b[0m invalid syntax\n"
     ]
    }
   ],
   "source": [
    "#rough   #This does not give output as it is used by python itself \n",
    "#cannot use a keyword as a variable name, function name or any other identifier\n",
    "# define the syntax and structure\n",
    "#case sensitive\n",
    "# 35 keywords\n",
    "if= '1'\n",
    "yield='2'"
   ]
  },
  {
   "cell_type": "code",
   "execution_count": 4,
   "id": "b4fd7a8f",
   "metadata": {},
   "outputs": [
    {
     "ename": "NameError",
     "evalue": "name 'X' is not defined",
     "output_type": "error",
     "traceback": [
      "\u001b[1;31m---------------------------------------------------------------------------\u001b[0m",
      "\u001b[1;31mNameError\u001b[0m                                 Traceback (most recent call last)",
      "Cell \u001b[1;32mIn[4], line 2\u001b[0m\n\u001b[0;32m      1\u001b[0m x\u001b[38;5;241m=\u001b[39m\u001b[38;5;241m1\u001b[39m\n\u001b[1;32m----> 2\u001b[0m \u001b[38;5;28mprint\u001b[39m(\u001b[43mX\u001b[49m)\n",
      "\u001b[1;31mNameError\u001b[0m: name 'X' is not defined"
     ]
    }
   ],
   "source": [
    "x=1 #Python variables are case sensitive\n",
    "print(X) #case sensitive"
   ]
  },
  {
   "cell_type": "code",
   "execution_count": 7,
   "id": "bfd2a6fc",
   "metadata": {},
   "outputs": [
    {
     "ename": "SyntaxError",
     "evalue": "invalid decimal literal (3019549716.py, line 3)",
     "output_type": "error",
     "traceback": [
      "\u001b[1;36m  Cell \u001b[1;32mIn[7], line 3\u001b[1;36m\u001b[0m\n\u001b[1;33m    22x= 'sandesh'\u001b[0m\n\u001b[1;37m     ^\u001b[0m\n\u001b[1;31mSyntaxError\u001b[0m\u001b[1;31m:\u001b[0m invalid decimal literal\n"
     ]
    }
   ],
   "source": [
    "# identifiers canot start with digits\n",
    "\n",
    "22x= 'sandesh'"
   ]
  },
  {
   "cell_type": "code",
   "execution_count": 6,
   "id": "fca9179a",
   "metadata": {},
   "outputs": [
    {
     "ename": "SyntaxError",
     "evalue": "invalid syntax (3425727918.py, line 2)",
     "output_type": "error",
     "traceback": [
      "\u001b[1;36m  Cell \u001b[1;32mIn[6], line 2\u001b[1;36m\u001b[0m\n\u001b[1;33m    if= '1'\u001b[0m\n\u001b[1;37m      ^\u001b[0m\n\u001b[1;31mSyntaxError\u001b[0m\u001b[1;31m:\u001b[0m invalid syntax\n"
     ]
    }
   ],
   "source": [
    "#Keywords cannot be used as an identifiers.\n",
    "if= '1'\n",
    "yield='2'"
   ]
  },
  {
   "cell_type": "code",
   "execution_count": 9,
   "id": "bdf3894b",
   "metadata": {},
   "outputs": [
    {
     "ename": "SyntaxError",
     "evalue": "invalid syntax (611185591.py, line 1)",
     "output_type": "error",
     "traceback": [
      "\u001b[1;36m  Cell \u001b[1;32mIn[9], line 1\u001b[1;36m\u001b[0m\n\u001b[1;33m    first name='Sandesh'\u001b[0m\n\u001b[1;37m          ^\u001b[0m\n\u001b[1;31mSyntaxError\u001b[0m\u001b[1;31m:\u001b[0m invalid syntax\n"
     ]
    }
   ],
   "source": [
    "first name='Sandesh' #Space is special symbol so cannot be used\n"
   ]
  },
  {
   "cell_type": "code",
   "execution_count": 10,
   "id": "16794eb8",
   "metadata": {},
   "outputs": [],
   "source": [
    "Sandesh_Chaulagain35h='hello' #Valid"
   ]
  },
  {
   "cell_type": "code",
   "execution_count": 11,
   "id": "2444cb37",
   "metadata": {},
   "outputs": [],
   "source": [
    "_hello_world='hello' #valid starts with underscore"
   ]
  },
  {
   "cell_type": "code",
   "execution_count": 12,
   "id": "a9f85bd7",
   "metadata": {},
   "outputs": [
    {
     "ename": "SyntaxError",
     "evalue": "invalid syntax (2720554057.py, line 1)",
     "output_type": "error",
     "traceback": [
      "\u001b[1;36m  Cell \u001b[1;32mIn[12], line 1\u001b[1;36m\u001b[0m\n\u001b[1;33m    he!23=32\u001b[0m\n\u001b[1;37m      ^\u001b[0m\n\u001b[1;31mSyntaxError\u001b[0m\u001b[1;31m:\u001b[0m invalid syntax\n"
     ]
    }
   ],
   "source": [
    "he!23=32 #Invalid Starts with special symbols"
   ]
  },
  {
   "cell_type": "code",
   "execution_count": 13,
   "id": "ed04145a",
   "metadata": {},
   "outputs": [],
   "source": [
    "HELLO_WORLD='32' #valid Python statement"
   ]
  },
  {
   "cell_type": "code",
   "execution_count": 15,
   "id": "8e4aa542",
   "metadata": {},
   "outputs": [
    {
     "name": "stdout",
     "output_type": "stream",
     "text": [
      "180\n"
     ]
    }
   ],
   "source": [
    "x=1+3+3+5+8+1+3+3+5+8+1+3+3+5+8+1+3+3+5+8+\\   #Use of \\\n",
    "1+3+3+5+8+1+3+3+5+8+1+3+3+5+8+\\\n",
    "1+3+3+5+8+1+3+3+5+8\n",
    "print(x)"
   ]
  },
  {
   "cell_type": "code",
   "execution_count": 16,
   "id": "1ab2ed95",
   "metadata": {},
   "outputs": [
    {
     "name": "stdout",
     "output_type": "stream",
     "text": [
      "180\n"
     ]
    }
   ],
   "source": [
    "x=(1+3+3+5+8+1+3+3+5+8+   #Use of ()\n",
    "   1+3+3+5+8+1+3+3+5+8+\n",
    "   1+3+3+5+8+1+3+3+5+8+\n",
    "   1+3+3+5+8+1+3+3+5+8+1+3+3+5+8)\n",
    "print(x)"
   ]
  },
  {
   "cell_type": "code",
   "execution_count": 17,
   "id": "887f2305",
   "metadata": {},
   "outputs": [
    {
     "name": "stdout",
     "output_type": "stream",
     "text": [
      "Unauthorized\n"
     ]
    }
   ],
   "source": [
    "age= 17 # In Python indentation used (in if,if else,loop indentation used like :, 4 spaces(tabs))\n",
    "if age<18:\n",
    "    print('Unauthorized') #indentation (1 tab takes 4 spaces)"
   ]
  },
  {
   "cell_type": "code",
   "execution_count": 18,
   "id": "062cc7db",
   "metadata": {},
   "outputs": [
    {
     "ename": "IndentationError",
     "evalue": "expected an indented block after 'if' statement on line 2 (1818584004.py, line 3)",
     "output_type": "error",
     "traceback": [
      "\u001b[1;36m  Cell \u001b[1;32mIn[18], line 3\u001b[1;36m\u001b[0m\n\u001b[1;33m    print('Unauthorized') #indentation Wrong (1 tab takes 4 spaces)\u001b[0m\n\u001b[1;37m    ^\u001b[0m\n\u001b[1;31mIndentationError\u001b[0m\u001b[1;31m:\u001b[0m expected an indented block after 'if' statement on line 2\n"
     ]
    }
   ],
   "source": [
    "age= 17 # In Python indentation used (in if,if else,loop indentation used like :, 4 spaces(tabs))\n",
    "if age<18:\n",
    "print('Unauthorized') #indentation Wrong (1 tab takes 4 spaces)"
   ]
  },
  {
   "cell_type": "code",
   "execution_count": 23,
   "id": "8217ff46",
   "metadata": {},
   "outputs": [
    {
     "name": "stdout",
     "output_type": "stream",
     "text": [
      "Hello World\n"
     ]
    }
   ],
   "source": [
    "def hello_world():\n",
    "    \"\"\"This function prints hello world\"\"\"\n",
    "    print('Hello World')\n",
    "hello_world() #Functions should be called always.\n"
   ]
  },
  {
   "cell_type": "code",
   "execution_count": null,
   "id": "d37bebf9",
   "metadata": {},
   "outputs": [],
   "source": [
    "def hello_world():\n",
    "    #Python Docstrings example =>Comment =>it does not compile\n",
    "    \"\"\"This function prints hello world\"\"\" #Docstrings =>Documentation string(But python keeps in memory)=>it will compile \n",
    "    print('Hello World')\n",
    "hello_world()"
   ]
  },
  {
   "cell_type": "code",
   "execution_count": 25,
   "id": "e5220345",
   "metadata": {},
   "outputs": [
    {
     "name": "stdout",
     "output_type": "stream",
     "text": [
      "Help on function hello_world in module __main__:\n",
      "\n",
      "hello_world()\n",
      "    This function prints hello world\n",
      "\n"
     ]
    }
   ],
   "source": [
    "help(hello_world)"
   ]
  },
  {
   "cell_type": "code",
   "execution_count": null,
   "id": "7dc7ac69",
   "metadata": {},
   "outputs": [],
   "source": [
    "# country='Nepal' #string\n",
    "number= 1  #integer\n",
    "f_number=1.5 #float\n",
    "c_number= 1+6j #complex\n",
    "x,y,z= 1,2.5, 'python'\n",
    "a=b=c='test'"
   ]
  },
  {
   "cell_type": "code",
   "execution_count": null,
   "id": "5c69502f",
   "metadata": {},
   "outputs": [],
   "source": [
    "x=1\n",
    "y=2\n",
    "z=4"
   ]
  },
  {
   "cell_type": "code",
   "execution_count": 26,
   "id": "524a47ea",
   "metadata": {},
   "outputs": [],
   "source": [
    "x,y,z=1,2,4"
   ]
  },
  {
   "cell_type": "code",
   "execution_count": 27,
   "id": "667f1784",
   "metadata": {},
   "outputs": [
    {
     "name": "stdout",
     "output_type": "stream",
     "text": [
      "1 2 4\n"
     ]
    }
   ],
   "source": [
    "print(x,y,z)"
   ]
  },
  {
   "cell_type": "code",
   "execution_count": 28,
   "id": "7868f7cc",
   "metadata": {},
   "outputs": [
    {
     "name": "stdout",
     "output_type": "stream",
     "text": [
      "1 2 4\n"
     ]
    }
   ],
   "source": [
    "x=1;y=2;z=4\n",
    "print(x,y,z)"
   ]
  },
  {
   "cell_type": "code",
   "execution_count": null,
   "id": "a43a55f0",
   "metadata": {},
   "outputs": [],
   "source": [
    "a=2\n",
    "b=2\n",
    "c=2"
   ]
  },
  {
   "cell_type": "code",
   "execution_count": 29,
   "id": "983e0c43",
   "metadata": {},
   "outputs": [],
   "source": [
    "a=b=c=2"
   ]
  },
  {
   "cell_type": "code",
   "execution_count": null,
   "id": "f843742d",
   "metadata": {},
   "outputs": [],
   "source": [
    "gravity=9.8 #Variable"
   ]
  },
  {
   "cell_type": "code",
   "execution_count": 31,
   "id": "ffbbea74",
   "metadata": {},
   "outputs": [],
   "source": [
    "GRAVITY=9.8 #Constants\n",
    "PI=3.14 #Constants"
   ]
  },
  {
   "cell_type": "code",
   "execution_count": 32,
   "id": "c261cf61",
   "metadata": {},
   "outputs": [
    {
     "name": "stdout",
     "output_type": "stream",
     "text": [
      "9.8\n"
     ]
    }
   ],
   "source": [
    "GRAVITY=9.8\n",
    "print(GRAVITY)"
   ]
  },
  {
   "cell_type": "code",
   "execution_count": 33,
   "id": "61d1e09a",
   "metadata": {},
   "outputs": [
    {
     "name": "stdout",
     "output_type": "stream",
     "text": [
      "hello\n"
     ]
    }
   ],
   "source": [
    "GRAVITY='hello'  #Dynamically Typed Language\n",
    "print(GRAVITY)"
   ]
  },
  {
   "cell_type": "code",
   "execution_count": null,
   "id": "74748350",
   "metadata": {},
   "outputs": [],
   "source": [
    "float_gravity=9.8"
   ]
  },
  {
   "cell_type": "code",
   "execution_count": null,
   "id": "cf5f5a6b",
   "metadata": {},
   "outputs": [],
   "source": [
    "#c,c++,java =>compilled/Statically typed language\n",
    "float gravity=9.8 #statically typed\n",
    "print(gravity)"
   ]
  },
  {
   "cell_type": "code",
   "execution_count": 35,
   "id": "04697dd1",
   "metadata": {},
   "outputs": [
    {
     "name": "stdout",
     "output_type": "stream",
     "text": [
      "9.8\n"
     ]
    }
   ],
   "source": [
    "affgsghthythtyhtyjty=9.8\n",
    "print(affgsghthythtyhtyjty)"
   ]
  },
  {
   "cell_type": "code",
   "execution_count": null,
   "id": "dd6d138f",
   "metadata": {},
   "outputs": [],
   "source": [
    "gravity=9.8 #write variables name in your clarification.\n",
    "gravity_of_earth=9.8\n",
    "g=9.8"
   ]
  },
  {
   "cell_type": "code",
   "execution_count": null,
   "id": "5ae11adb",
   "metadata": {},
   "outputs": [],
   "source": [
    "#variable,function name =>lower_case\n",
    "#class name => PascalCase"
   ]
  },
  {
   "cell_type": "code",
   "execution_count": 40,
   "id": "f3426e84",
   "metadata": {},
   "outputs": [
    {
     "name": "stdout",
     "output_type": "stream",
     "text": [
      "10.5\n",
      "150.0\n",
      "<class 'float'>\n"
     ]
    }
   ],
   "source": [
    "#Literals\n",
    "#float_Literals\n",
    "float_1=10.5\n",
    "float_2=1.5e2\n",
    "print(float_1)\n",
    "print(float_2)\n",
    "print(type(float_1))"
   ]
  },
  {
   "cell_type": "code",
   "execution_count": 41,
   "id": "f9845773",
   "metadata": {},
   "outputs": [
    {
     "name": "stdout",
     "output_type": "stream",
     "text": [
      "3.14j\n",
      "<class 'complex'>\n"
     ]
    }
   ],
   "source": [
    "x=3.14j  #Complex literal\n",
    "print(x)\n",
    "print(type(x))"
   ]
  },
  {
   "cell_type": "code",
   "execution_count": 42,
   "id": "93f98349",
   "metadata": {},
   "outputs": [
    {
     "name": "stdout",
     "output_type": "stream",
     "text": [
      "<class 'int'>\n"
     ]
    }
   ],
   "source": [
    "x=1\n",
    "print(type(x))"
   ]
  },
  {
   "cell_type": "code",
   "execution_count": null,
   "id": "ec2b29a8",
   "metadata": {},
   "outputs": [],
   "source": [
    "#Numeric Literals\n",
    "a= 0b1010 #Binary Literals => 2 digits => 0,1\n",
    "b=100 #Decimal Literal => 10 digits => 0-9\n",
    "c=0o310 #Octal Literal => 8 digits => 0-7\n",
    "d= 0x12cd #Hexadecimal Literal => 16 digits => 0-9 a-f"
   ]
  },
  {
   "cell_type": "code",
   "execution_count": null,
   "id": "a65b6a68",
   "metadata": {},
   "outputs": [],
   "source": [
    "#In Numeric literals the output will always be in decimal form"
   ]
  },
  {
   "cell_type": "code",
   "execution_count": null,
   "id": "e96b9553",
   "metadata": {},
   "outputs": [],
   "source": [
    "#String literals Examples\n",
    "string='This is python'\n",
    "char='c'"
   ]
  },
  {
   "cell_type": "code",
   "execution_count": 43,
   "id": "43ddeeed",
   "metadata": {},
   "outputs": [
    {
     "name": "stdout",
     "output_type": "stream",
     "text": [
      "nepal is beautiful\n",
      "<class 'str'>\n"
     ]
    }
   ],
   "source": [
    "x= 'nepal is beautiful'\n",
    "print(x)\n",
    "print(type(x))"
   ]
  },
  {
   "cell_type": "code",
   "execution_count": 44,
   "id": "3e312928",
   "metadata": {},
   "outputs": [
    {
     "name": "stdout",
     "output_type": "stream",
     "text": [
      "nepal is beautiful\n",
      "<class 'str'>\n"
     ]
    }
   ],
   "source": [
    "x= \"nepal is beautiful\"\n",
    "print(x)\n",
    "print(type(x))"
   ]
  },
  {
   "cell_type": "code",
   "execution_count": 45,
   "id": "523c4eb2",
   "metadata": {},
   "outputs": [
    {
     "name": "stdout",
     "output_type": "stream",
     "text": [
      "'dog' is a animal\n"
     ]
    }
   ],
   "source": [
    "x=\"'dog' is a animal\"  # single,double &triple quotation used method\n",
    "print(x)"
   ]
  },
  {
   "cell_type": "code",
   "execution_count": 46,
   "id": "44d1526e",
   "metadata": {},
   "outputs": [],
   "source": [
    "x=\" dog's a animal\""
   ]
  },
  {
   "cell_type": "code",
   "execution_count": 47,
   "id": "096718b5",
   "metadata": {},
   "outputs": [],
   "source": [
    "x= 'dog \"the animal\"'"
   ]
  },
  {
   "cell_type": "code",
   "execution_count": 49,
   "id": "25764e3d",
   "metadata": {},
   "outputs": [
    {
     "name": "stdout",
     "output_type": "stream",
     "text": [
      "dog's animal dog \"the dog\" animal \n"
     ]
    }
   ],
   "source": [
    "x=\"\"\"dog's animal dog \"the dog\" animal \"\"\"  \n",
    "print(x)"
   ]
  },
  {
   "cell_type": "code",
   "execution_count": 50,
   "id": "8c3abfd1",
   "metadata": {},
   "outputs": [
    {
     "name": "stdout",
     "output_type": "stream",
     "text": [
      "dog's animal dog \"the dog\" animal \n"
     ]
    }
   ],
   "source": [
    "x='''dog's animal dog \"the dog\" animal '''\n",
    "print(x)"
   ]
  },
  {
   "cell_type": "code",
   "execution_count": 51,
   "id": "0999417b",
   "metadata": {},
   "outputs": [
    {
     "name": "stdout",
     "output_type": "stream",
     "text": [
      "Nepal is a beautiful country.\n",
      "\n",
      "hello world\n"
     ]
    }
   ],
   "source": [
    "#in multiline string triple quotation used\n",
    "x= \"\"\"Nepal is a beautiful country.    \n",
    "\n",
    "hello world\"\"\"\n",
    "print(x)"
   ]
  },
  {
   "cell_type": "code",
   "execution_count": 52,
   "id": "057aa995",
   "metadata": {},
   "outputs": [
    {
     "name": "stdout",
     "output_type": "stream",
     "text": [
      "Ünicöde\n"
     ]
    }
   ],
   "source": [
    "#ascii => unicode\n",
    "unicode= u\"\\u00dcnic\\u00f6de\"\n",
    "print(unicode)"
   ]
  },
  {
   "cell_type": "code",
   "execution_count": 53,
   "id": "5f7bce7e",
   "metadata": {},
   "outputs": [],
   "source": [
    "#Boolean Literal\n",
    "x= True\n",
    "y=False"
   ]
  },
  {
   "cell_type": "code",
   "execution_count": 54,
   "id": "841667c3",
   "metadata": {},
   "outputs": [
    {
     "name": "stdout",
     "output_type": "stream",
     "text": [
      "None\n",
      "<class 'NoneType'>\n"
     ]
    }
   ],
   "source": [
    "food=None\n",
    "print(food)\n",
    "print(type(food))\n"
   ]
  },
  {
   "cell_type": "code",
   "execution_count": 55,
   "id": "9d843327",
   "metadata": {},
   "outputs": [
    {
     "name": "stdout",
     "output_type": "stream",
     "text": [
      "['apple', 'mango', 'orange']\n"
     ]
    }
   ],
   "source": [
    "#Literal Collections\n",
    "#List,tuple,Dictionary & Set literals\n",
    "fruits=['apple','mango','orange'] #List\n",
    "numbers= (1,2,3) #tuple\n",
    "alphabets= {'a':'apple','b':'ball','c':'cat'} #Dictionary\n",
    "vowels= {'a','e','i','o','u'} #set\n",
    "print(fruits)"
   ]
  },
  {
   "cell_type": "code",
   "execution_count": 56,
   "id": "e9d68521",
   "metadata": {},
   "outputs": [
    {
     "name": "stdout",
     "output_type": "stream",
     "text": [
      "['apple', 'banana', 'orange']\n",
      "<class 'list'>\n"
     ]
    }
   ],
   "source": [
    "fruits=['apple','banana','orange'] #list\n",
    "print(fruits)\n",
    "print(type(fruits))"
   ]
  },
  {
   "cell_type": "code",
   "execution_count": 57,
   "id": "232f91c5",
   "metadata": {},
   "outputs": [
    {
     "name": "stdout",
     "output_type": "stream",
     "text": [
      "('apple', 'banana', 'orange')\n",
      "<class 'tuple'>\n"
     ]
    }
   ],
   "source": [
    "fruits=('apple','banana','orange') #tuple\n",
    "print(fruits)\n",
    "print(type(fruits))"
   ]
  },
  {
   "cell_type": "code",
   "execution_count": 58,
   "id": "bc375e1e",
   "metadata": {},
   "outputs": [
    {
     "name": "stdout",
     "output_type": "stream",
     "text": [
      "{'orange', 'banana', 'apple'}\n",
      "<class 'set'>\n"
     ]
    }
   ],
   "source": [
    "fruits={'apple','banana','orange'}  #set\n",
    "print(fruits)\n",
    "print(type(fruits))"
   ]
  },
  {
   "cell_type": "code",
   "execution_count": 60,
   "id": "ef54148d",
   "metadata": {},
   "outputs": [
    {
     "name": "stdout",
     "output_type": "stream",
     "text": [
      "{'Name': 'Sandesh', 'address': 'Bhaktapur', 'Phone Number': 9846448426}\n",
      "<class 'dict'>\n"
     ]
    }
   ],
   "source": [
    "#Dictionary (Left one is key right one is value separated by colon)\n",
    "person={\n",
    "    'Name':'Sandesh',\n",
    "    'address': 'Bhaktapur',\n",
    "    'Phone Number':9846448426\n",
    "}\n",
    "print(person)\n",
    "print(type(person))"
   ]
  },
  {
   "cell_type": "code",
   "execution_count": 61,
   "id": "4b3af684",
   "metadata": {},
   "outputs": [
    {
     "name": "stdout",
     "output_type": "stream",
     "text": [
      "5.0\n"
     ]
    }
   ],
   "source": [
    "# Type Conversion\n",
    "x=5 #int\n",
    "print(float(x))\n"
   ]
  },
  {
   "cell_type": "code",
   "execution_count": 62,
   "id": "0dcb9fe1",
   "metadata": {},
   "outputs": [
    {
     "name": "stdout",
     "output_type": "stream",
     "text": [
      "4\n"
     ]
    }
   ],
   "source": [
    "x=4.5 #float\n",
    "print(int(x))"
   ]
  },
  {
   "cell_type": "code",
   "execution_count": 64,
   "id": "0b58845a",
   "metadata": {},
   "outputs": [
    {
     "name": "stdout",
     "output_type": "stream",
     "text": [
      "4 <class 'str'>\n"
     ]
    }
   ],
   "source": [
    "x=4 #int\n",
    "y=str(x)\n",
    "print(y,type(y))"
   ]
  },
  {
   "cell_type": "code",
   "execution_count": 65,
   "id": "b0e7cd86",
   "metadata": {},
   "outputs": [
    {
     "data": {
      "text/plain": [
       "10"
      ]
     },
     "execution_count": 65,
     "metadata": {},
     "output_type": "execute_result"
    }
   ],
   "source": [
    "int(10.6)"
   ]
  },
  {
   "cell_type": "code",
   "execution_count": 66,
   "id": "eec77136",
   "metadata": {},
   "outputs": [
    {
     "data": {
      "text/plain": [
       "10.0"
      ]
     },
     "execution_count": 66,
     "metadata": {},
     "output_type": "execute_result"
    }
   ],
   "source": [
    "float(10)"
   ]
  },
  {
   "cell_type": "code",
   "execution_count": 67,
   "id": "5f94658d",
   "metadata": {},
   "outputs": [
    {
     "data": {
      "text/plain": [
       "-10"
      ]
     },
     "execution_count": 67,
     "metadata": {},
     "output_type": "execute_result"
    }
   ],
   "source": [
    "int(-10.6)"
   ]
  },
  {
   "cell_type": "code",
   "execution_count": 68,
   "id": "cfd63ccc",
   "metadata": {},
   "outputs": [
    {
     "data": {
      "text/plain": [
       "2.5"
      ]
     },
     "execution_count": 68,
     "metadata": {},
     "output_type": "execute_result"
    }
   ],
   "source": [
    "float('2.5')"
   ]
  },
  {
   "cell_type": "code",
   "execution_count": 69,
   "id": "e5ddab04",
   "metadata": {},
   "outputs": [
    {
     "data": {
      "text/plain": [
       "'25'"
      ]
     },
     "execution_count": 69,
     "metadata": {},
     "output_type": "execute_result"
    }
   ],
   "source": [
    "str(25)"
   ]
  },
  {
   "cell_type": "code",
   "execution_count": 70,
   "id": "a2b4aef0",
   "metadata": {},
   "outputs": [
    {
     "ename": "ValueError",
     "evalue": "invalid literal for int() with base 10: '1p'",
     "output_type": "error",
     "traceback": [
      "\u001b[1;31m---------------------------------------------------------------------------\u001b[0m",
      "\u001b[1;31mValueError\u001b[0m                                Traceback (most recent call last)",
      "Cell \u001b[1;32mIn[70], line 1\u001b[0m\n\u001b[1;32m----> 1\u001b[0m \u001b[38;5;28;43mint\u001b[39;49m\u001b[43m(\u001b[49m\u001b[38;5;124;43m'\u001b[39;49m\u001b[38;5;124;43m1p\u001b[39;49m\u001b[38;5;124;43m'\u001b[39;49m\u001b[43m)\u001b[49m\n",
      "\u001b[1;31mValueError\u001b[0m: invalid literal for int() with base 10: '1p'"
     ]
    }
   ],
   "source": [
    "int('1p')"
   ]
  },
  {
   "cell_type": "code",
   "execution_count": 71,
   "id": "c5109003",
   "metadata": {},
   "outputs": [
    {
     "name": "stdout",
     "output_type": "stream",
     "text": [
      "35\n"
     ]
    }
   ],
   "source": [
    "x='35'\n",
    "print(int(x))"
   ]
  },
  {
   "cell_type": "code",
   "execution_count": 72,
   "id": "0e93168f",
   "metadata": {},
   "outputs": [
    {
     "ename": "ValueError",
     "evalue": "invalid literal for int() with base 10: '35p'",
     "output_type": "error",
     "traceback": [
      "\u001b[1;31m---------------------------------------------------------------------------\u001b[0m",
      "\u001b[1;31mValueError\u001b[0m                                Traceback (most recent call last)",
      "Cell \u001b[1;32mIn[72], line 2\u001b[0m\n\u001b[0;32m      1\u001b[0m x\u001b[38;5;241m=\u001b[39m\u001b[38;5;124m'\u001b[39m\u001b[38;5;124m35p\u001b[39m\u001b[38;5;124m'\u001b[39m\n\u001b[1;32m----> 2\u001b[0m \u001b[38;5;28mprint\u001b[39m(\u001b[38;5;28;43mint\u001b[39;49m\u001b[43m(\u001b[49m\u001b[43mx\u001b[49m\u001b[43m)\u001b[49m)\n",
      "\u001b[1;31mValueError\u001b[0m: invalid literal for int() with base 10: '35p'"
     ]
    }
   ],
   "source": [
    "x='35p'\n",
    "print(int(x))"
   ]
  },
  {
   "cell_type": "code",
   "execution_count": 74,
   "id": "3bccda94",
   "metadata": {},
   "outputs": [
    {
     "name": "stdout",
     "output_type": "stream",
     "text": [
      "['h', 'i', ' ', 'h', 'e', 'l', 'l', 'o']\n"
     ]
    }
   ],
   "source": [
    "hello='hi hello'\n",
    "print(list(hello))"
   ]
  },
  {
   "cell_type": "code",
   "execution_count": 75,
   "id": "146983e9",
   "metadata": {},
   "outputs": [
    {
     "name": "stdout",
     "output_type": "stream",
     "text": [
      "{'h', 'l', 'o', ' ', 'i', 'e'}\n"
     ]
    }
   ],
   "source": [
    "hello='hi hello'\n",
    "print(set(hello))"
   ]
  },
  {
   "cell_type": "code",
   "execution_count": 76,
   "id": "00d24d85",
   "metadata": {},
   "outputs": [
    {
     "name": "stdout",
     "output_type": "stream",
     "text": [
      "('h', 'i', ' ', 'h', 'e', 'l', 'l', 'o')\n"
     ]
    }
   ],
   "source": [
    "hello='hi hello'\n",
    "print(tuple(hello))"
   ]
  },
  {
   "cell_type": "code",
   "execution_count": 78,
   "id": "8ac4f608",
   "metadata": {},
   "outputs": [
    {
     "data": {
      "text/plain": [
       "{1: 2, 3: 4}"
      ]
     },
     "execution_count": 78,
     "metadata": {},
     "output_type": "execute_result"
    }
   ],
   "source": [
    "dict([[1,2],[3,4]])"
   ]
  },
  {
   "cell_type": "code",
   "execution_count": 79,
   "id": "bf38bde6",
   "metadata": {},
   "outputs": [
    {
     "data": {
      "text/plain": [
       "{3: 26, 4: 44}"
      ]
     },
     "execution_count": 79,
     "metadata": {},
     "output_type": "execute_result"
    }
   ],
   "source": [
    "dict([(3,26),(4,44)])"
   ]
  }
 ],
 "metadata": {
  "kernelspec": {
   "display_name": "Python 3 (ipykernel)",
   "language": "python",
   "name": "python3"
  },
  "language_info": {
   "codemirror_mode": {
    "name": "ipython",
    "version": 3
   },
   "file_extension": ".py",
   "mimetype": "text/x-python",
   "name": "python",
   "nbconvert_exporter": "python",
   "pygments_lexer": "ipython3",
   "version": "3.11.2"
  }
 },
 "nbformat": 4,
 "nbformat_minor": 5
}
