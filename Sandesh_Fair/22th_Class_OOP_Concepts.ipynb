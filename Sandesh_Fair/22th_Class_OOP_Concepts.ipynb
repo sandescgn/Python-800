{
 "cells": [
  {
   "cell_type": "code",
   "execution_count": 1,
   "id": "5819ca5b",
   "metadata": {},
   "outputs": [],
   "source": [
    "class Person: #PascalCase\n",
    "    pass"
   ]
  },
  {
   "cell_type": "code",
   "execution_count": 2,
   "id": "b3ea4ad8",
   "metadata": {},
   "outputs": [
    {
     "name": "stdout",
     "output_type": "stream",
     "text": [
      "<class 'type'>\n"
     ]
    }
   ],
   "source": [
    "print(type(Person))"
   ]
  },
  {
   "cell_type": "code",
   "execution_count": null,
   "id": "36cc99ce",
   "metadata": {},
   "outputs": [],
   "source": [
    "#to calculate todays date\n",
    "def today_date():\n",
    "    pass\n",
    "def current_year():\n",
    "    pass\n",
    "def current_date():\n",
    "    pass\n",
    "def current_month():\n",
    "    pass\n",
    "def current_time():\n",
    "    pass\n"
   ]
  },
  {
   "cell_type": "code",
   "execution_count": 3,
   "id": "e8e389bd",
   "metadata": {},
   "outputs": [],
   "source": [
    "class DateTime: #class => PascalCase\n",
    "    def today_date(): #Function => lower_case/snake_case\n",
    "        pass\n",
    "    def current_year():\n",
    "        pass\n",
    "    def current_date():\n",
    "        pass\n",
    "    def current_month():\n",
    "        pass\n",
    "    def current_time():\n",
    "        pass    "
   ]
  },
  {
   "cell_type": "code",
   "execution_count": 5,
   "id": "e7cac6b2",
   "metadata": {},
   "outputs": [],
   "source": [
    "class House:  #Class => blueprint\n",
    "    #attributes/properties(inside of class) => But outside of class(variables,data) \n",
    "    no_of_rooms=4\n",
    "    no_of_stories=3\n",
    "    no_of_windows=15\n",
    "    #methods/actions/behaviour(inside of class) => but outside of class it is functions.\n",
    "    def total_area():\n",
    "        pass\n",
    "    def total_cost():\n",
    "        pass\n",
    "    "
   ]
  },
  {
   "cell_type": "code",
   "execution_count": 6,
   "id": "91f3dd64",
   "metadata": {},
   "outputs": [],
   "source": [
    "h1=House() #object "
   ]
  },
  {
   "cell_type": "code",
   "execution_count": 7,
   "id": "7548d620",
   "metadata": {},
   "outputs": [],
   "source": [
    "h2=House() #object "
   ]
  },
  {
   "cell_type": "code",
   "execution_count": 8,
   "id": "7bda7702",
   "metadata": {},
   "outputs": [
    {
     "name": "stdout",
     "output_type": "stream",
     "text": [
      "<class '__main__.House'>\n"
     ]
    }
   ],
   "source": [
    "print(type(h2))"
   ]
  },
  {
   "cell_type": "code",
   "execution_count": 9,
   "id": "36459749",
   "metadata": {},
   "outputs": [],
   "source": [
    "class Person:\n",
    "    name='ram'\n",
    "    age=22\n",
    "    address='ktm'\n",
    "    def walk():\n",
    "        pass\n",
    "    def eat():\n",
    "        pass\n",
    "    def sleep():\n",
    "        pass"
   ]
  },
  {
   "cell_type": "code",
   "execution_count": 10,
   "id": "996e8bca",
   "metadata": {},
   "outputs": [],
   "source": [
    "p1=Person()"
   ]
  },
  {
   "cell_type": "code",
   "execution_count": 11,
   "id": "a27444c6",
   "metadata": {},
   "outputs": [
    {
     "name": "stdout",
     "output_type": "stream",
     "text": [
      "ram 22 ktm\n"
     ]
    }
   ],
   "source": [
    "print(p1.name,p1.age,p1.address)"
   ]
  },
  {
   "cell_type": "code",
   "execution_count": 12,
   "id": "647293b6",
   "metadata": {},
   "outputs": [],
   "source": [
    "p2=Person()"
   ]
  },
  {
   "cell_type": "code",
   "execution_count": 13,
   "id": "de38f1f1",
   "metadata": {},
   "outputs": [
    {
     "name": "stdout",
     "output_type": "stream",
     "text": [
      "ram 22 ktm\n"
     ]
    }
   ],
   "source": [
    "print(p2.name,p2.age,p2.address)"
   ]
  },
  {
   "cell_type": "code",
   "execution_count": 17,
   "id": "bcbe87a1",
   "metadata": {},
   "outputs": [
    {
     "name": "stdout",
     "output_type": "stream",
     "text": [
      "ram 22 ktm\n"
     ]
    }
   ],
   "source": [
    "def person(name,age,address): #In case of functions\n",
    "    print(name,age,address)\n",
    "person('ram',22,'ktm')"
   ]
  },
  {
   "cell_type": "code",
   "execution_count": 18,
   "id": "80647810",
   "metadata": {},
   "outputs": [
    {
     "ename": "NameError",
     "evalue": "name 'name' is not defined",
     "output_type": "error",
     "traceback": [
      "\u001b[1;31m---------------------------------------------------------------------------\u001b[0m",
      "\u001b[1;31mNameError\u001b[0m                                 Traceback (most recent call last)",
      "Cell \u001b[1;32mIn[18], line 1\u001b[0m\n\u001b[1;32m----> 1\u001b[0m \u001b[38;5;28;01mclass\u001b[39;00m \u001b[38;5;21;01mPerson\u001b[39;00m(\u001b[43mname\u001b[49m, age, address):\n\u001b[0;32m      2\u001b[0m     name \u001b[38;5;241m=\u001b[39m \u001b[38;5;124m\"\u001b[39m\u001b[38;5;124mram\u001b[39m\u001b[38;5;124m\"\u001b[39m\n\u001b[0;32m      3\u001b[0m     age \u001b[38;5;241m=\u001b[39m \u001b[38;5;241m22\u001b[39m\n",
      "\u001b[1;31mNameError\u001b[0m: name 'name' is not defined"
     ]
    }
   ],
   "source": [
    "class Person(name, age, address):\n",
    "    name = \"ram\"\n",
    "    age = 22\n",
    "    address = 'ktm'\n",
    "    \n",
    "    def walk():\n",
    "        pass\n",
    "    \n",
    "    def eat():\n",
    "        pass\n",
    "    \n",
    "    def sleep():\n",
    "        pass"
   ]
  },
  {
   "cell_type": "code",
   "execution_count": 19,
   "id": "b3ca3390",
   "metadata": {},
   "outputs": [],
   "source": [
    "class Person:  #So in case of class we should use init functions\n",
    "    #Special methods/double underscore/dunder method\n",
    "    # constructor => initializer\n",
    "    def __init__(self,name,age,address): # To make dynamic => first attribute is always self\n",
    "        self.name=name\n",
    "        self.age=age\n",
    "        self.address=address\n",
    "    def walk():\n",
    "        pass\n",
    "    def eat():\n",
    "        pass\n",
    "    def sleep():\n",
    "        pass"
   ]
  },
  {
   "cell_type": "code",
   "execution_count": 20,
   "id": "7cb08ac4",
   "metadata": {},
   "outputs": [
    {
     "ename": "TypeError",
     "evalue": "Person.__init__() missing 3 required positional arguments: 'name', 'age', and 'address'",
     "output_type": "error",
     "traceback": [
      "\u001b[1;31m---------------------------------------------------------------------------\u001b[0m",
      "\u001b[1;31mTypeError\u001b[0m                                 Traceback (most recent call last)",
      "Cell \u001b[1;32mIn[20], line 1\u001b[0m\n\u001b[1;32m----> 1\u001b[0m p1\u001b[38;5;241m=\u001b[39m\u001b[43mPerson\u001b[49m\u001b[43m(\u001b[49m\u001b[43m)\u001b[49m\n",
      "\u001b[1;31mTypeError\u001b[0m: Person.__init__() missing 3 required positional arguments: 'name', 'age', and 'address'"
     ]
    }
   ],
   "source": [
    "p1=Person()"
   ]
  },
  {
   "cell_type": "code",
   "execution_count": 21,
   "id": "19c14f56",
   "metadata": {},
   "outputs": [],
   "source": [
    "p1=Person('Ram',22,'ktm')"
   ]
  },
  {
   "cell_type": "code",
   "execution_count": 23,
   "id": "8519ee97",
   "metadata": {},
   "outputs": [
    {
     "name": "stdout",
     "output_type": "stream",
     "text": [
      "Ram 22 ktm\n"
     ]
    }
   ],
   "source": [
    "print(p1.name,p1.age,p1.address)"
   ]
  },
  {
   "cell_type": "code",
   "execution_count": 24,
   "id": "02a575ed",
   "metadata": {},
   "outputs": [
    {
     "name": "stdout",
     "output_type": "stream",
     "text": [
      "Shyam 24 Ltr\n"
     ]
    }
   ],
   "source": [
    "p2=Person('Shyam',24,'Ltr')\n",
    "print(p2.name,p2.age,p2.address)\n",
    "          "
   ]
  },
  {
   "cell_type": "code",
   "execution_count": 29,
   "id": "2801d773",
   "metadata": {},
   "outputs": [],
   "source": [
    "class Person:  #So in case of class we should use init functions\n",
    "    #Special methods/double underscore/dunder method\n",
    "    # constructor => initializer\n",
    "    def __init__(self,name,age,address): # To make dynamic => first attribute is always self\n",
    "        self.name=name\n",
    "        self.age=age\n",
    "        self.address=address\n",
    "    def walk(self):\n",
    "        print('Person is walking')\n",
    "    def eat(self):\n",
    "        print('Person is eating')\n",
    "    def sleep(self):\n",
    "        print('Person is sleeping')"
   ]
  },
  {
   "cell_type": "code",
   "execution_count": 31,
   "id": "29136a6f",
   "metadata": {},
   "outputs": [
    {
     "name": "stdout",
     "output_type": "stream",
     "text": [
      "Ram 22 ktm\n"
     ]
    }
   ],
   "source": [
    "p1=Person('Ram',22,'ktm') #object initialization\n",
    "print(p1.name,p1.age,p1.address)"
   ]
  },
  {
   "cell_type": "code",
   "execution_count": 32,
   "id": "ebfa0970",
   "metadata": {},
   "outputs": [
    {
     "name": "stdout",
     "output_type": "stream",
     "text": [
      "Shyam 32 Ltr\n"
     ]
    }
   ],
   "source": [
    "p2=Person('Shyam',32,'Ltr')\n",
    "print(p2.name,p2.age,p2.address)\n",
    "          "
   ]
  },
  {
   "cell_type": "code",
   "execution_count": 33,
   "id": "1f5d5a0b",
   "metadata": {},
   "outputs": [
    {
     "name": "stdout",
     "output_type": "stream",
     "text": [
      "Person is walking\n",
      "Person is eating\n",
      "Person is sleeping\n"
     ]
    }
   ],
   "source": [
    "p1.walk()\n",
    "p1.eat()\n",
    "p1.sleep()"
   ]
  },
  {
   "cell_type": "code",
   "execution_count": 37,
   "id": "6e655592",
   "metadata": {},
   "outputs": [],
   "source": [
    "class Student:\n",
    "    def __init__(self,name,age,address,college,faculty,roll_no):\n",
    "        self.name=name\n",
    "        self.age=age\n",
    "        self.address=address\n",
    "        self.college=college\n",
    "        self.faculty=faculty\n",
    "        self.roll_no=roll_no\n",
    "        self.subjects=[]\n",
    "        \n",
    "    def learn(self):\n",
    "        print(f'{self.name} is learning:{self.subjects}')"
   ]
  },
  {
   "cell_type": "code",
   "execution_count": 38,
   "id": "25b0c4ee",
   "metadata": {},
   "outputs": [
    {
     "name": "stdout",
     "output_type": "stream",
     "text": [
      "Ram is learning:[]\n"
     ]
    }
   ],
   "source": [
    "s1=Student('Ram',22,'ktm','NCIT','CSIT',22)\n",
    "s1.learn()"
   ]
  },
  {
   "cell_type": "code",
   "execution_count": 54,
   "id": "9a360360",
   "metadata": {},
   "outputs": [],
   "source": [
    "class Student:\n",
    "    def __init__(self,name,age,address,college,faculty,roll_no):\n",
    "        self.name=name\n",
    "        self.age=age\n",
    "        self.address=address\n",
    "        self.college=college\n",
    "        self.faculty=faculty\n",
    "        self.roll_no=roll_no\n",
    "        self.subjects=[]\n",
    "        \n",
    "    def learn(self):\n",
    "        print(f'{self.name} is learning:{self.subjects}')\n",
    "        \n",
    "    def add_subject(self,subject):\n",
    "        self.subjects.append(subject)"
   ]
  },
  {
   "cell_type": "code",
   "execution_count": 55,
   "id": "67b689e6",
   "metadata": {},
   "outputs": [
    {
     "name": "stdout",
     "output_type": "stream",
     "text": [
      "Ram is learning:[]\n"
     ]
    }
   ],
   "source": [
    "s1=Student('Ram',22,'ktm','NCIT','CSIT',22)\n",
    "s1.learn()"
   ]
  },
  {
   "cell_type": "code",
   "execution_count": 56,
   "id": "dc0206da",
   "metadata": {},
   "outputs": [
    {
     "name": "stdout",
     "output_type": "stream",
     "text": [
      "Ram is learning:['Python']\n"
     ]
    }
   ],
   "source": [
    "s1.add_subject('Python')\n",
    "s1.learn()"
   ]
  },
  {
   "cell_type": "code",
   "execution_count": 57,
   "id": "e79ff488",
   "metadata": {},
   "outputs": [
    {
     "name": "stdout",
     "output_type": "stream",
     "text": [
      "Ram is learning:['Python', 'Django']\n"
     ]
    }
   ],
   "source": [
    "s1.add_subject('Django')\n",
    "s1.learn()"
   ]
  },
  {
   "cell_type": "code",
   "execution_count": 58,
   "id": "b67143df",
   "metadata": {},
   "outputs": [
    {
     "name": "stdout",
     "output_type": "stream",
     "text": [
      "Ram is learning:['Python', 'Django', 'HTML']\n"
     ]
    }
   ],
   "source": [
    "s1.add_subject('HTML')\n",
    "s1.learn()"
   ]
  }
 ],
 "metadata": {
  "kernelspec": {
   "display_name": "Python 3 (ipykernel)",
   "language": "python",
   "name": "python3"
  },
  "language_info": {
   "codemirror_mode": {
    "name": "ipython",
    "version": 3
   },
   "file_extension": ".py",
   "mimetype": "text/x-python",
   "name": "python",
   "nbconvert_exporter": "python",
   "pygments_lexer": "ipython3",
   "version": "3.11.2"
  }
 },
 "nbformat": 4,
 "nbformat_minor": 5
}
