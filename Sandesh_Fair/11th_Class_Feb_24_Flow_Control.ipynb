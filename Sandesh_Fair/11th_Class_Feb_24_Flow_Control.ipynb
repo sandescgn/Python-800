{
 "cells": [
  {
   "cell_type": "code",
   "execution_count": 2,
   "id": "fa48b69d",
   "metadata": {},
   "outputs": [],
   "source": [
    "age = 18\n",
    "\n",
    "if age > 18:\n",
    "    print(\"You are authorized.\")\n"
   ]
  },
  {
   "cell_type": "code",
   "execution_count": 3,
   "id": "2b943281",
   "metadata": {},
   "outputs": [
    {
     "name": "stdout",
     "output_type": "stream",
     "text": [
      "You are authorized.\n"
     ]
    }
   ],
   "source": [
    "age = 18\n",
    "\n",
    "if age >= 18:\n",
    "    print(\"You are authorized.\")\n"
   ]
  },
  {
   "cell_type": "code",
   "execution_count": 5,
   "id": "2ea9986d",
   "metadata": {},
   "outputs": [
    {
     "name": "stdout",
     "output_type": "stream",
     "text": [
      "Enter the marks: 40\n",
      "Pass\n"
     ]
    }
   ],
   "source": [
    "mark = int(input(\"Enter the marks: \"))\n",
    "\n",
    "if mark >= 40:\n",
    "    print(\"Pass\")\n",
    "    \n",
    "if mark < 40:\n",
    "    print(\"Fail\")"
   ]
  },
  {
   "cell_type": "code",
   "execution_count": 6,
   "id": "b7e3891b",
   "metadata": {},
   "outputs": [
    {
     "name": "stdout",
     "output_type": "stream",
     "text": [
      "y is greater than x\n"
     ]
    }
   ],
   "source": [
    "x = 4\n",
    "y = 5\n",
    "\n",
    "if x > y:\n",
    "    print(\"x is greater than y\")\n",
    "    \n",
    "if y > x:\n",
    "    print(\"y is greater than x\")"
   ]
  },
  {
   "cell_type": "code",
   "execution_count": 7,
   "id": "0f1dc820",
   "metadata": {},
   "outputs": [
    {
     "name": "stdout",
     "output_type": "stream",
     "text": [
      "Welcome to python course.\n"
     ]
    }
   ],
   "source": [
    "age = 18\n",
    "\n",
    "if age > 18:\n",
    "    print(\"You are authorized.\")\n",
    "\n",
    "print(\"Welcome to python course.\")"
   ]
  },
  {
   "cell_type": "code",
   "execution_count": 8,
   "id": "f344d1be",
   "metadata": {},
   "outputs": [],
   "source": [
    "age = 18\n",
    "\n",
    "if age > 18:\n",
    "    print(\"You are authorized.\")\n",
    "    print(\"Welcome to python course.\")"
   ]
  },
  {
   "cell_type": "code",
   "execution_count": 9,
   "id": "5a1b5068",
   "metadata": {},
   "outputs": [
    {
     "name": "stdout",
     "output_type": "stream",
     "text": [
      "Enter the marks: 39\n",
      "Fail\n"
     ]
    }
   ],
   "source": [
    "mark = int(input(\"Enter the marks: \"))\n",
    "\n",
    "if mark >= 40:\n",
    "    print(\"Pass\")\n",
    "    \n",
    "if mark < 40:\n",
    "    print(\"Fail\")"
   ]
  },
  {
   "cell_type": "code",
   "execution_count": 10,
   "id": "7646dc91",
   "metadata": {},
   "outputs": [
    {
     "name": "stdout",
     "output_type": "stream",
     "text": [
      "Enter the marks: 35\n",
      "Fail\n"
     ]
    }
   ],
   "source": [
    "mark = int(input(\"Enter the marks: \"))\n",
    "\n",
    "if mark >= 40:\n",
    "    print(\"Pass\")\n",
    "else:\n",
    "    print(\"Fail\")"
   ]
  },
  {
   "cell_type": "code",
   "execution_count": 11,
   "id": "d8da0d3a",
   "metadata": {},
   "outputs": [
    {
     "name": "stdout",
     "output_type": "stream",
     "text": [
      "y is greater than x\n"
     ]
    }
   ],
   "source": [
    "x = 4\n",
    "y = 5\n",
    "\n",
    "if x > y:\n",
    "    print(\"x is greater than y\")    \n",
    "else:\n",
    "    print(\"y is greater than x\")"
   ]
  },
  {
   "cell_type": "code",
   "execution_count": 12,
   "id": "7cdc3a16",
   "metadata": {},
   "outputs": [
    {
     "name": "stdout",
     "output_type": "stream",
     "text": [
      "x is equal to y\n"
     ]
    }
   ],
   "source": [
    "x = 5\n",
    "y = 5\n",
    "\n",
    "if x > y:\n",
    "    print(\"x is greater than y\")    \n",
    "elif y > x:\n",
    "    print(\"y is greater than x\")\n",
    "else:\n",
    "    print(\"x is equal to y\")"
   ]
  },
  {
   "cell_type": "code",
   "execution_count": 13,
   "id": "97d335a8",
   "metadata": {},
   "outputs": [
    {
     "name": "stdout",
     "output_type": "stream",
     "text": [
      "y is largest: 7\n"
     ]
    }
   ],
   "source": [
    "x = 3\n",
    "y = 7\n",
    "z = 2\n",
    "\n",
    "if x > y and x > z:\n",
    "    print(f\"x is largest: {x}\")\n",
    "\n",
    "elif y > x and y > z: # True and True => True\n",
    "    print(f\"y is largest: {y}\")\n",
    "    \n",
    "else:\n",
    "    print(f\"z is largest: {z}\")"
   ]
  },
  {
   "cell_type": "code",
   "execution_count": 14,
   "id": "f79ec8f0",
   "metadata": {},
   "outputs": [
    {
     "data": {
      "text/plain": [
       "False"
      ]
     },
     "execution_count": 14,
     "metadata": {},
     "output_type": "execute_result"
    }
   ],
   "source": [
    "False & False"
   ]
  },
  {
   "cell_type": "code",
   "execution_count": 15,
   "id": "8b41e8c3",
   "metadata": {},
   "outputs": [
    {
     "data": {
      "text/plain": [
       "False"
      ]
     },
     "execution_count": 15,
     "metadata": {},
     "output_type": "execute_result"
    }
   ],
   "source": [
    "False|False"
   ]
  },
  {
   "cell_type": "code",
   "execution_count": 16,
   "id": "4bb6a359",
   "metadata": {},
   "outputs": [
    {
     "data": {
      "text/plain": [
       "True"
      ]
     },
     "execution_count": 16,
     "metadata": {},
     "output_type": "execute_result"
    }
   ],
   "source": [
    "False|True"
   ]
  },
  {
   "cell_type": "code",
   "execution_count": 17,
   "id": "8602dd04",
   "metadata": {},
   "outputs": [
    {
     "name": "stdout",
     "output_type": "stream",
     "text": [
      "y is largest: 7\n"
     ]
    }
   ],
   "source": [
    "x = 3\n",
    "y = 7\n",
    "z = 2\n",
    "\n",
    "if x > y and x > z:\n",
    "    print(f\"x is largest: {x}\")\n",
    "\n",
    "if y > x and y > z:\n",
    "    print(f\"y is largest: {y}\")\n",
    "    \n",
    "if z > x and z > y:\n",
    "    print(f\"z is largest: {z}\")"
   ]
  },
  {
   "cell_type": "code",
   "execution_count": 18,
   "id": "30884ebf",
   "metadata": {},
   "outputs": [
    {
     "name": "stdout",
     "output_type": "stream",
     "text": [
      "hello 1\n"
     ]
    }
   ],
   "source": [
    "if True:\n",
    "    print(\"hello 1\")\n",
    "    \n",
    "elif True:\n",
    "    print(\"hello 2\")\n",
    "    \n",
    "elif True:\n",
    "    print(\"hello 3\")\n",
    "    \n",
    "else:\n",
    "    print(\"hello 4\")"
   ]
  },
  {
   "cell_type": "code",
   "execution_count": 19,
   "id": "26d5a037",
   "metadata": {},
   "outputs": [
    {
     "name": "stdout",
     "output_type": "stream",
     "text": [
      "hello 1\n",
      "hello 2\n",
      "hello 3\n",
      "hello 4\n"
     ]
    }
   ],
   "source": [
    "if True:\n",
    "    print(\"hello 1\")\n",
    "    \n",
    "if True:\n",
    "    print(\"hello 2\")\n",
    "    \n",
    "if True:\n",
    "    print(\"hello 3\")\n",
    "    \n",
    "if True:\n",
    "    print(\"hello 4\")"
   ]
  },
  {
   "cell_type": "code",
   "execution_count": 21,
   "id": "b828f46f",
   "metadata": {},
   "outputs": [
    {
     "name": "stdout",
     "output_type": "stream",
     "text": [
      "Enter the username: admin\n",
      "Enter the password: password\n",
      "Cannto log in.\n"
     ]
    }
   ],
   "source": [
    "# username = 'admin'\n",
    "# password = 'admin'\n",
    "\n",
    "username = input(\"Enter the username: \")\n",
    "password = input(\"Enter the password: \")\n",
    "\n",
    "if username == 'admin' and password == 'admin':\n",
    "    print(\"Successfully logged in.\")\n",
    "else:\n",
    "    print(\"Cannto log in.\")"
   ]
  },
  {
   "cell_type": "code",
   "execution_count": 23,
   "id": "413b077a",
   "metadata": {},
   "outputs": [
    {
     "name": "stdout",
     "output_type": "stream",
     "text": [
      "enter username: admin\n",
      "enter password: admin\n",
      "enter role: admin\n",
      "Successfully logged in\n"
     ]
    }
   ],
   "source": [
    "username = input(\"enter username: \") # admin\n",
    "password = input(\"enter password: \") # admin\n",
    "role = input(\"enter role: \") # superadmin\n",
    "\n",
    "if username == 'admin' and password == 'admin':\n",
    "    print(\"Successfully logged in\")\n",
    "    \n",
    "elif role == \"superadmin\":\n",
    "    print(\"Successfully logged in\")\n",
    "    \n",
    "else:\n",
    "    print(\"Cannot log in.\")"
   ]
  },
  {
   "cell_type": "code",
   "execution_count": 28,
   "id": "a2f6adeb",
   "metadata": {},
   "outputs": [
    {
     "name": "stdout",
     "output_type": "stream",
     "text": [
      "enter username: admin\n",
      "enter password: dkhh\n",
      "Enter the role: superadmin\n",
      "Welcome admin.\n"
     ]
    }
   ],
   "source": [
    "username = input(\"enter username: \") # admin\n",
    "password = input(\"enter password: \") # admin\n",
    "\n",
    "if username == 'admin' and password == 'admin':\n",
    "    print(\"Successfully logged in\")\n",
    "    \n",
    "else:\n",
    "    role = input(\"Enter the role: \")\n",
    "    if role == \"superadmin\": #nested if else\n",
    "        print(\"Welcome admin.\")\n",
    "    else:\n",
    "        print(\"Cannot log in.\")"
   ]
  },
  {
   "cell_type": "code",
   "execution_count": 26,
   "id": "8fc48b92",
   "metadata": {},
   "outputs": [
    {
     "name": "stdout",
     "output_type": "stream",
     "text": [
      "enter username: admin\n",
      "enter password: njin\n",
      "Do you want to access through role ? Type y or yes to continue: y\n",
      "Enter the role: admin\n",
      "Cannot log in.\n"
     ]
    }
   ],
   "source": [
    "username = input(\"enter username: \") # admin\n",
    "password = input(\"enter password: \") # admin\n",
    "\n",
    "if username == 'admin' and password == 'admin':\n",
    "    print(\"Successfully logged in\")\n",
    "    \n",
    "else:\n",
    "    confirmation = input(\"Do you want to access through role ? \\\n",
    "Type y or yes to continue: \")\n",
    "    \n",
    "    if confirmation in ('y', 'yes'):    \n",
    "        role = input(\"Enter the role: \")\n",
    "        if role == \"superadmin\": #nested if-else\n",
    "            print(\"Welcome admin.\")\n",
    "        else:\n",
    "            print(\"Cannot log in.\")"
   ]
  },
  {
   "cell_type": "code",
   "execution_count": 27,
   "id": "c9a8da59",
   "metadata": {},
   "outputs": [
    {
     "data": {
      "text/plain": [
       "True"
      ]
     },
     "execution_count": 27,
     "metadata": {},
     "output_type": "execute_result"
    }
   ],
   "source": [
    "'y' in ('y' , 'yes')"
   ]
  },
  {
   "cell_type": "code",
   "execution_count": null,
   "id": "5454dd64",
   "metadata": {},
   "outputs": [],
   "source": [
    ">= 80 => distinction\n",
    "60-80 => first division\n",
    "50-60 => second division\n",
    "35-50 => third division\n",
    "< 35 => fail"
   ]
  },
  {
   "cell_type": "code",
   "execution_count": null,
   "id": "e2c0daa4",
   "metadata": {},
   "outputs": [],
   "source": []
  }
 ],
 "metadata": {
  "kernelspec": {
   "display_name": "Python 3 (ipykernel)",
   "language": "python",
   "name": "python3"
  },
  "language_info": {
   "codemirror_mode": {
    "name": "ipython",
    "version": 3
   },
   "file_extension": ".py",
   "mimetype": "text/x-python",
   "name": "python",
   "nbconvert_exporter": "python",
   "pygments_lexer": "ipython3",
   "version": "3.11.2"
  }
 },
 "nbformat": 4,
 "nbformat_minor": 5
}
