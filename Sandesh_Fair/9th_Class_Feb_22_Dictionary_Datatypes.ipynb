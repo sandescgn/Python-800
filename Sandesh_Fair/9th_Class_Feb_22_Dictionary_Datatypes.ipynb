{
 "cells": [
  {
   "cell_type": "code",
   "execution_count": 1,
   "id": "f91e819b",
   "metadata": {},
   "outputs": [],
   "source": [
    "person = (1, 'ram', 932423432, 'ktm', 234234.2343)"
   ]
  },
  {
   "cell_type": "code",
   "execution_count": null,
   "id": "c9b7bcad",
   "metadata": {},
   "outputs": [],
   "source": [
    "#Dictionary"
   ]
  },
  {
   "cell_type": "code",
   "execution_count": 3,
   "id": "48a15965",
   "metadata": {},
   "outputs": [
    {
     "name": "stdout",
     "output_type": "stream",
     "text": [
      "{'id': 1, 'name': 'Sandesh', 'mobile': 9846448426, 'address': 'Bhaktapur', 'Salary': 23423.2342}\n"
     ]
    }
   ],
   "source": [
    "#record=>object=>dictionary\n",
    "#Dictionary always be in key:value pair\n",
    "# order is maintain in dictionary >= 3.6 version\n",
    "person={\n",
    "    \"id\":1,\n",
    "    \"name\":\"Sandesh\",\n",
    "    'mobile':9846448426,\n",
    "    'address':'Bhaktapur',\n",
    "    'Salary':23423.2342\n",
    "}\n",
    "print(person)"
   ]
  },
  {
   "cell_type": "code",
   "execution_count": 4,
   "id": "67c5f281",
   "metadata": {},
   "outputs": [
    {
     "ename": "TypeError",
     "evalue": "unhashable type: 'list'",
     "output_type": "error",
     "traceback": [
      "\u001b[1;31m---------------------------------------------------------------------------\u001b[0m",
      "\u001b[1;31mTypeError\u001b[0m                                 Traceback (most recent call last)",
      "Cell \u001b[1;32mIn[4], line 2\u001b[0m\n\u001b[0;32m      1\u001b[0m \u001b[38;5;66;03m#immutable datatype =>hashable object\u001b[39;00m\n\u001b[1;32m----> 2\u001b[0m x \u001b[38;5;241m=\u001b[39m {[\u001b[38;5;241m12\u001b[39m,\u001b[38;5;241m2\u001b[39m]:\u001b[38;5;241m45\u001b[39m}\n",
      "\u001b[1;31mTypeError\u001b[0m: unhashable type: 'list'"
     ]
    }
   ],
   "source": [
    "#immutable datatype =>hashable object\n",
    "x = {[12,2]:45}\n"
   ]
  },
  {
   "cell_type": "code",
   "execution_count": 5,
   "id": "3ccfbab6",
   "metadata": {},
   "outputs": [],
   "source": [
    "x = {(12,2):45}"
   ]
  },
  {
   "cell_type": "code",
   "execution_count": 6,
   "id": "012e10d7",
   "metadata": {},
   "outputs": [
    {
     "name": "stdout",
     "output_type": "stream",
     "text": [
      "{1: 'hello', 2: 'hi', 3: 'bye'}\n",
      "<class 'dict'>\n"
     ]
    }
   ],
   "source": [
    "x = {1:'hello', 2:'hi', 3:'bye'}\n",
    "print(x)\n",
    "print(type(x))"
   ]
  },
  {
   "cell_type": "code",
   "execution_count": 8,
   "id": "6b337cf3",
   "metadata": {},
   "outputs": [
    {
     "name": "stdout",
     "output_type": "stream",
     "text": [
      "Sandesh\n",
      "Bhaktapur\n"
     ]
    }
   ],
   "source": [
    "person={\n",
    "    \"id\":1,\n",
    "    \"name\":\"Sandesh\",\n",
    "    'mobile':9846448426,\n",
    "    'address':'Bhaktapur',\n",
    "    'Salary':23423.2342\n",
    "}\n",
    "print(person['name'])\n",
    "print(person['address'])"
   ]
  },
  {
   "cell_type": "code",
   "execution_count": 9,
   "id": "97e81274",
   "metadata": {},
   "outputs": [
    {
     "ename": "KeyError",
     "evalue": "'email'",
     "output_type": "error",
     "traceback": [
      "\u001b[1;31m---------------------------------------------------------------------------\u001b[0m",
      "\u001b[1;31mKeyError\u001b[0m                                  Traceback (most recent call last)",
      "Cell \u001b[1;32mIn[9], line 1\u001b[0m\n\u001b[1;32m----> 1\u001b[0m \u001b[38;5;28mprint\u001b[39m(\u001b[43mperson\u001b[49m\u001b[43m[\u001b[49m\u001b[38;5;124;43m'\u001b[39;49m\u001b[38;5;124;43memail\u001b[39;49m\u001b[38;5;124;43m'\u001b[39;49m\u001b[43m]\u001b[49m)\n",
      "\u001b[1;31mKeyError\u001b[0m: 'email'"
     ]
    }
   ],
   "source": [
    "print(person['email'])"
   ]
  },
  {
   "cell_type": "code",
   "execution_count": 10,
   "id": "acc13571",
   "metadata": {},
   "outputs": [
    {
     "name": "stdout",
     "output_type": "stream",
     "text": [
      "{'id': 1, 'name': 'Sandesh', 'mobile': 9846448426, 'address': 'Bhaktapur', 'Salary': 23423.2342, 'email': 'sandes.cgn@gmail.com'}\n"
     ]
    }
   ],
   "source": [
    "person = {\n",
    "    \"id\":1,\n",
    "    \"name\":\"Sandesh\",\n",
    "    'mobile':9846448426,\n",
    "    'address':'Bhaktapur',\n",
    "    'Salary':23423.2342\n",
    "}\n",
    "\n",
    "person['email'] ='sandes.cgn@gmail.com'\n",
    "\n",
    "print(person)"
   ]
  },
  {
   "cell_type": "code",
   "execution_count": 12,
   "id": "8261d6b0",
   "metadata": {},
   "outputs": [
    {
     "name": "stdout",
     "output_type": "stream",
     "text": [
      "hello\n"
     ]
    }
   ],
   "source": [
    "person = {\n",
    "    \"id\":1,\n",
    "    \"name\":\"Sandesh\",\n",
    "    'mobile':9846448426,\n",
    "    'address':'Bhaktapur',\n",
    "    'Salary':23423.2342,\n",
    "    (1,2):'hello'\n",
    "}\n",
    "print(person[(1,2)])"
   ]
  },
  {
   "cell_type": "code",
   "execution_count": 13,
   "id": "8f4cf6cc",
   "metadata": {},
   "outputs": [
    {
     "name": "stdout",
     "output_type": "stream",
     "text": [
      "{'id': 1, 'name': 'kishor', 'mobile': 9846448426, 'address': 'Bhaktapur', 'Salary': 23423.2342}\n"
     ]
    }
   ],
   "source": [
    "person = {\n",
    "    \"id\":1,\n",
    "    \"name\":\"Sandesh\",\n",
    "    'mobile':9846448426,\n",
    "    'address':'Bhaktapur',\n",
    "    'Salary':23423.2342,\n",
    "    'name':'kishor'\n",
    "}\n",
    "print(person)"
   ]
  },
  {
   "cell_type": "code",
   "execution_count": 15,
   "id": "23a8c02a",
   "metadata": {},
   "outputs": [
    {
     "name": "stdout",
     "output_type": "stream",
     "text": [
      "{'id': 1, 'name': 'Sandesh', 'mobile': 9846448426, 'Salary': 23423.2342, 'age': 22, 'address': 'duwakot'}\n"
     ]
    }
   ],
   "source": [
    "person = {\n",
    "    \"id\":1,\n",
    "    \"name\":\"Sandesh\",\n",
    "    'mobile':9846448426,\n",
    "    'address':'Bhaktapur',\n",
    "    'Salary':23423.2342\n",
    "}\n",
    "del person['address']\n",
    "person['age']=22\n",
    "person['address']='duwakot'\n",
    "print(person)"
   ]
  },
  {
   "cell_type": "code",
   "execution_count": 16,
   "id": "457b299d",
   "metadata": {},
   "outputs": [
    {
     "name": "stdout",
     "output_type": "stream",
     "text": [
      "Help on class dict in module builtins:\n",
      "\n",
      "class dict(object)\n",
      " |  dict() -> new empty dictionary\n",
      " |  dict(mapping) -> new dictionary initialized from a mapping object's\n",
      " |      (key, value) pairs\n",
      " |  dict(iterable) -> new dictionary initialized as if via:\n",
      " |      d = {}\n",
      " |      for k, v in iterable:\n",
      " |          d[k] = v\n",
      " |  dict(**kwargs) -> new dictionary initialized with the name=value pairs\n",
      " |      in the keyword argument list.  For example:  dict(one=1, two=2)\n",
      " |  \n",
      " |  Built-in subclasses:\n",
      " |      StgDict\n",
      " |  \n",
      " |  Methods defined here:\n",
      " |  \n",
      " |  __contains__(self, key, /)\n",
      " |      True if the dictionary has the specified key, else False.\n",
      " |  \n",
      " |  __delitem__(self, key, /)\n",
      " |      Delete self[key].\n",
      " |  \n",
      " |  __eq__(self, value, /)\n",
      " |      Return self==value.\n",
      " |  \n",
      " |  __ge__(self, value, /)\n",
      " |      Return self>=value.\n",
      " |  \n",
      " |  __getattribute__(self, name, /)\n",
      " |      Return getattr(self, name).\n",
      " |  \n",
      " |  __getitem__(...)\n",
      " |      x.__getitem__(y) <==> x[y]\n",
      " |  \n",
      " |  __gt__(self, value, /)\n",
      " |      Return self>value.\n",
      " |  \n",
      " |  __init__(self, /, *args, **kwargs)\n",
      " |      Initialize self.  See help(type(self)) for accurate signature.\n",
      " |  \n",
      " |  __ior__(self, value, /)\n",
      " |      Return self|=value.\n",
      " |  \n",
      " |  __iter__(self, /)\n",
      " |      Implement iter(self).\n",
      " |  \n",
      " |  __le__(self, value, /)\n",
      " |      Return self<=value.\n",
      " |  \n",
      " |  __len__(self, /)\n",
      " |      Return len(self).\n",
      " |  \n",
      " |  __lt__(self, value, /)\n",
      " |      Return self<value.\n",
      " |  \n",
      " |  __ne__(self, value, /)\n",
      " |      Return self!=value.\n",
      " |  \n",
      " |  __or__(self, value, /)\n",
      " |      Return self|value.\n",
      " |  \n",
      " |  __repr__(self, /)\n",
      " |      Return repr(self).\n",
      " |  \n",
      " |  __reversed__(self, /)\n",
      " |      Return a reverse iterator over the dict keys.\n",
      " |  \n",
      " |  __ror__(self, value, /)\n",
      " |      Return value|self.\n",
      " |  \n",
      " |  __setitem__(self, key, value, /)\n",
      " |      Set self[key] to value.\n",
      " |  \n",
      " |  __sizeof__(...)\n",
      " |      D.__sizeof__() -> size of D in memory, in bytes\n",
      " |  \n",
      " |  clear(...)\n",
      " |      D.clear() -> None.  Remove all items from D.\n",
      " |  \n",
      " |  copy(...)\n",
      " |      D.copy() -> a shallow copy of D\n",
      " |  \n",
      " |  get(self, key, default=None, /)\n",
      " |      Return the value for key if key is in the dictionary, else default.\n",
      " |  \n",
      " |  items(...)\n",
      " |      D.items() -> a set-like object providing a view on D's items\n",
      " |  \n",
      " |  keys(...)\n",
      " |      D.keys() -> a set-like object providing a view on D's keys\n",
      " |  \n",
      " |  pop(...)\n",
      " |      D.pop(k[,d]) -> v, remove specified key and return the corresponding value.\n",
      " |      \n",
      " |      If the key is not found, return the default if given; otherwise,\n",
      " |      raise a KeyError.\n",
      " |  \n",
      " |  popitem(self, /)\n",
      " |      Remove and return a (key, value) pair as a 2-tuple.\n",
      " |      \n",
      " |      Pairs are returned in LIFO (last-in, first-out) order.\n",
      " |      Raises KeyError if the dict is empty.\n",
      " |  \n",
      " |  setdefault(self, key, default=None, /)\n",
      " |      Insert key with a value of default if key is not in the dictionary.\n",
      " |      \n",
      " |      Return the value for key if key is in the dictionary, else default.\n",
      " |  \n",
      " |  update(...)\n",
      " |      D.update([E, ]**F) -> None.  Update D from dict/iterable E and F.\n",
      " |      If E is present and has a .keys() method, then does:  for k in E: D[k] = E[k]\n",
      " |      If E is present and lacks a .keys() method, then does:  for k, v in E: D[k] = v\n",
      " |      In either case, this is followed by: for k in F:  D[k] = F[k]\n",
      " |  \n",
      " |  values(...)\n",
      " |      D.values() -> an object providing a view on D's values\n",
      " |  \n",
      " |  ----------------------------------------------------------------------\n",
      " |  Class methods defined here:\n",
      " |  \n",
      " |  __class_getitem__(...) from builtins.type\n",
      " |      See PEP 585\n",
      " |  \n",
      " |  fromkeys(iterable, value=None, /) from builtins.type\n",
      " |      Create a new dictionary with keys from iterable and values set to value.\n",
      " |  \n",
      " |  ----------------------------------------------------------------------\n",
      " |  Static methods defined here:\n",
      " |  \n",
      " |  __new__(*args, **kwargs) from builtins.type\n",
      " |      Create and return a new object.  See help(type) for accurate signature.\n",
      " |  \n",
      " |  ----------------------------------------------------------------------\n",
      " |  Data and other attributes defined here:\n",
      " |  \n",
      " |  __hash__ = None\n",
      "\n"
     ]
    }
   ],
   "source": [
    "help(dict)"
   ]
  },
  {
   "cell_type": "code",
   "execution_count": 17,
   "id": "46a51909",
   "metadata": {},
   "outputs": [
    {
     "name": "stdout",
     "output_type": "stream",
     "text": [
      "{}\n"
     ]
    }
   ],
   "source": [
    "person = {\n",
    "    \"id\":1,\n",
    "    \"name\":\"Sandesh\",\n",
    "    'mobile':9846448426,\n",
    "    'address':'Bhaktapur',\n",
    "    'Salary':23423.2342\n",
    "}\n",
    "person.clear()\n",
    "print(person)"
   ]
  },
  {
   "cell_type": "code",
   "execution_count": 19,
   "id": "d41dd6d1",
   "metadata": {},
   "outputs": [
    {
     "name": "stdout",
     "output_type": "stream",
     "text": [
      "2361374558464\n",
      "2361374558464\n",
      "{'id': 1, 'name': 'Sandesh', 'mobile': 9846448426, 'address': 'Bhaktapur', 'Salary': 23423.2342, 'age': 17}\n",
      "{'id': 1, 'name': 'Sandesh', 'mobile': 9846448426, 'address': 'Bhaktapur', 'Salary': 23423.2342, 'age': 17}\n"
     ]
    }
   ],
   "source": [
    "person = {\n",
    "    \"id\":1,\n",
    "    \"name\":\"Sandesh\",\n",
    "    'mobile':9846448426,\n",
    "    'address':'Bhaktapur',\n",
    "    'Salary':23423.2342\n",
    "}\n",
    "print(id(person))\n",
    "y=person\n",
    "print(id(y))\n",
    "y['age']=17\n",
    "print(y)\n",
    "print(person)"
   ]
  },
  {
   "cell_type": "code",
   "execution_count": 20,
   "id": "1580e6db",
   "metadata": {},
   "outputs": [
    {
     "name": "stdout",
     "output_type": "stream",
     "text": [
      "2361374571392\n",
      "2361374750976\n",
      "{'id': 1, 'name': 'Sandesh', 'mobile': 9846448426, 'address': 'Bhaktapur', 'Salary': 23423.2342, 'age': 17}\n",
      "{'id': 1, 'name': 'Sandesh', 'mobile': 9846448426, 'address': 'Bhaktapur', 'Salary': 23423.2342}\n"
     ]
    }
   ],
   "source": [
    "person = {\n",
    "    \"id\":1,\n",
    "    \"name\":\"Sandesh\",\n",
    "    'mobile':9846448426,\n",
    "    'address':'Bhaktapur',\n",
    "    'Salary':23423.2342\n",
    "}\n",
    "print(id(person))\n",
    "y=person.copy()\n",
    "print(id(y))\n",
    "y['age']=17\n",
    "print(y)\n",
    "print(person)"
   ]
  },
  {
   "cell_type": "code",
   "execution_count": 21,
   "id": "1b7cc263",
   "metadata": {},
   "outputs": [
    {
     "ename": "KeyError",
     "evalue": "'email'",
     "output_type": "error",
     "traceback": [
      "\u001b[1;31m---------------------------------------------------------------------------\u001b[0m",
      "\u001b[1;31mKeyError\u001b[0m                                  Traceback (most recent call last)",
      "Cell \u001b[1;32mIn[21], line 8\u001b[0m\n\u001b[0;32m      1\u001b[0m person \u001b[38;5;241m=\u001b[39m {\n\u001b[0;32m      2\u001b[0m     \u001b[38;5;124m\"\u001b[39m\u001b[38;5;124mid\u001b[39m\u001b[38;5;124m\"\u001b[39m:\u001b[38;5;241m1\u001b[39m,\n\u001b[0;32m      3\u001b[0m     \u001b[38;5;124m\"\u001b[39m\u001b[38;5;124mname\u001b[39m\u001b[38;5;124m\"\u001b[39m:\u001b[38;5;124m\"\u001b[39m\u001b[38;5;124mSandesh\u001b[39m\u001b[38;5;124m\"\u001b[39m,\n\u001b[1;32m   (...)\u001b[0m\n\u001b[0;32m      6\u001b[0m     \u001b[38;5;124m'\u001b[39m\u001b[38;5;124mSalary\u001b[39m\u001b[38;5;124m'\u001b[39m:\u001b[38;5;241m23423.2342\u001b[39m\n\u001b[0;32m      7\u001b[0m }\n\u001b[1;32m----> 8\u001b[0m \u001b[38;5;28mprint\u001b[39m(\u001b[43mperson\u001b[49m\u001b[43m[\u001b[49m\u001b[38;5;124;43m'\u001b[39;49m\u001b[38;5;124;43memail\u001b[39;49m\u001b[38;5;124;43m'\u001b[39;49m\u001b[43m]\u001b[49m)\n",
      "\u001b[1;31mKeyError\u001b[0m: 'email'"
     ]
    }
   ],
   "source": [
    "person = {\n",
    "    \"id\":1,\n",
    "    \"name\":\"Sandesh\",\n",
    "    'mobile':9846448426,\n",
    "    'address':'Bhaktapur',\n",
    "    'Salary':23423.2342\n",
    "}\n",
    "print(person['email'])"
   ]
  },
  {
   "cell_type": "code",
   "execution_count": 22,
   "id": "4e6fa375",
   "metadata": {},
   "outputs": [
    {
     "name": "stdout",
     "output_type": "stream",
     "text": [
      "None\n"
     ]
    }
   ],
   "source": [
    "person = {\n",
    "    \"id\":1,\n",
    "    \"name\":\"Sandesh\",\n",
    "    'mobile':9846448426,\n",
    "    'address':'Bhaktapur',\n",
    "    'Salary':23423.2342\n",
    "}\n",
    "print(person.get('email')) #To avoid from error"
   ]
  },
  {
   "cell_type": "code",
   "execution_count": 23,
   "id": "2badbb73",
   "metadata": {},
   "outputs": [
    {
     "name": "stdout",
     "output_type": "stream",
     "text": [
      "None\n"
     ]
    }
   ],
   "source": [
    "person = {\n",
    "    \"id\":1,\n",
    "    \"name\":\"Sandesh\",\n",
    "    'mobile':9846448426,\n",
    "    'address':'Bhaktapur',\n",
    "    'Salary':23423.2342\n",
    "}\n",
    "print(person.get('email',None))"
   ]
  },
  {
   "cell_type": "code",
   "execution_count": 25,
   "id": "81406e20",
   "metadata": {},
   "outputs": [
    {
     "name": "stdout",
     "output_type": "stream",
     "text": [
      "sandes.cgn@gmail.com\n",
      "{'id': 1, 'name': 'Sandesh', 'mobile': 9846448426, 'address': 'Bhaktapur', 'Salary': 23423.2342}\n"
     ]
    }
   ],
   "source": [
    "person = {\n",
    "    \"id\":1,\n",
    "    \"name\":\"Sandesh\",\n",
    "    'mobile':9846448426,\n",
    "    'address':'Bhaktapur',\n",
    "    'Salary':23423.2342\n",
    "}\n",
    "print(person.get('email','sandes.cgn@gmail.com'))\n",
    "print(person)"
   ]
  },
  {
   "cell_type": "code",
   "execution_count": 26,
   "id": "9aea712d",
   "metadata": {},
   "outputs": [
    {
     "name": "stdout",
     "output_type": "stream",
     "text": [
      "Help on class dict in module builtins:\n",
      "\n",
      "class dict(object)\n",
      " |  dict() -> new empty dictionary\n",
      " |  dict(mapping) -> new dictionary initialized from a mapping object's\n",
      " |      (key, value) pairs\n",
      " |  dict(iterable) -> new dictionary initialized as if via:\n",
      " |      d = {}\n",
      " |      for k, v in iterable:\n",
      " |          d[k] = v\n",
      " |  dict(**kwargs) -> new dictionary initialized with the name=value pairs\n",
      " |      in the keyword argument list.  For example:  dict(one=1, two=2)\n",
      " |  \n",
      " |  Built-in subclasses:\n",
      " |      StgDict\n",
      " |  \n",
      " |  Methods defined here:\n",
      " |  \n",
      " |  __contains__(self, key, /)\n",
      " |      True if the dictionary has the specified key, else False.\n",
      " |  \n",
      " |  __delitem__(self, key, /)\n",
      " |      Delete self[key].\n",
      " |  \n",
      " |  __eq__(self, value, /)\n",
      " |      Return self==value.\n",
      " |  \n",
      " |  __ge__(self, value, /)\n",
      " |      Return self>=value.\n",
      " |  \n",
      " |  __getattribute__(self, name, /)\n",
      " |      Return getattr(self, name).\n",
      " |  \n",
      " |  __getitem__(...)\n",
      " |      x.__getitem__(y) <==> x[y]\n",
      " |  \n",
      " |  __gt__(self, value, /)\n",
      " |      Return self>value.\n",
      " |  \n",
      " |  __init__(self, /, *args, **kwargs)\n",
      " |      Initialize self.  See help(type(self)) for accurate signature.\n",
      " |  \n",
      " |  __ior__(self, value, /)\n",
      " |      Return self|=value.\n",
      " |  \n",
      " |  __iter__(self, /)\n",
      " |      Implement iter(self).\n",
      " |  \n",
      " |  __le__(self, value, /)\n",
      " |      Return self<=value.\n",
      " |  \n",
      " |  __len__(self, /)\n",
      " |      Return len(self).\n",
      " |  \n",
      " |  __lt__(self, value, /)\n",
      " |      Return self<value.\n",
      " |  \n",
      " |  __ne__(self, value, /)\n",
      " |      Return self!=value.\n",
      " |  \n",
      " |  __or__(self, value, /)\n",
      " |      Return self|value.\n",
      " |  \n",
      " |  __repr__(self, /)\n",
      " |      Return repr(self).\n",
      " |  \n",
      " |  __reversed__(self, /)\n",
      " |      Return a reverse iterator over the dict keys.\n",
      " |  \n",
      " |  __ror__(self, value, /)\n",
      " |      Return value|self.\n",
      " |  \n",
      " |  __setitem__(self, key, value, /)\n",
      " |      Set self[key] to value.\n",
      " |  \n",
      " |  __sizeof__(...)\n",
      " |      D.__sizeof__() -> size of D in memory, in bytes\n",
      " |  \n",
      " |  clear(...)\n",
      " |      D.clear() -> None.  Remove all items from D.\n",
      " |  \n",
      " |  copy(...)\n",
      " |      D.copy() -> a shallow copy of D\n",
      " |  \n",
      " |  get(self, key, default=None, /)\n",
      " |      Return the value for key if key is in the dictionary, else default.\n",
      " |  \n",
      " |  items(...)\n",
      " |      D.items() -> a set-like object providing a view on D's items\n",
      " |  \n",
      " |  keys(...)\n",
      " |      D.keys() -> a set-like object providing a view on D's keys\n",
      " |  \n",
      " |  pop(...)\n",
      " |      D.pop(k[,d]) -> v, remove specified key and return the corresponding value.\n",
      " |      \n",
      " |      If the key is not found, return the default if given; otherwise,\n",
      " |      raise a KeyError.\n",
      " |  \n",
      " |  popitem(self, /)\n",
      " |      Remove and return a (key, value) pair as a 2-tuple.\n",
      " |      \n",
      " |      Pairs are returned in LIFO (last-in, first-out) order.\n",
      " |      Raises KeyError if the dict is empty.\n",
      " |  \n",
      " |  setdefault(self, key, default=None, /)\n",
      " |      Insert key with a value of default if key is not in the dictionary.\n",
      " |      \n",
      " |      Return the value for key if key is in the dictionary, else default.\n",
      " |  \n",
      " |  update(...)\n",
      " |      D.update([E, ]**F) -> None.  Update D from dict/iterable E and F.\n",
      " |      If E is present and has a .keys() method, then does:  for k in E: D[k] = E[k]\n",
      " |      If E is present and lacks a .keys() method, then does:  for k, v in E: D[k] = v\n",
      " |      In either case, this is followed by: for k in F:  D[k] = F[k]\n",
      " |  \n",
      " |  values(...)\n",
      " |      D.values() -> an object providing a view on D's values\n",
      " |  \n",
      " |  ----------------------------------------------------------------------\n",
      " |  Class methods defined here:\n",
      " |  \n",
      " |  __class_getitem__(...) from builtins.type\n",
      " |      See PEP 585\n",
      " |  \n",
      " |  fromkeys(iterable, value=None, /) from builtins.type\n",
      " |      Create a new dictionary with keys from iterable and values set to value.\n",
      " |  \n",
      " |  ----------------------------------------------------------------------\n",
      " |  Static methods defined here:\n",
      " |  \n",
      " |  __new__(*args, **kwargs) from builtins.type\n",
      " |      Create and return a new object.  See help(type) for accurate signature.\n",
      " |  \n",
      " |  ----------------------------------------------------------------------\n",
      " |  Data and other attributes defined here:\n",
      " |  \n",
      " |  __hash__ = None\n",
      "\n"
     ]
    }
   ],
   "source": [
    "help(dict)"
   ]
  },
  {
   "cell_type": "code",
   "execution_count": 27,
   "id": "573fcc73",
   "metadata": {},
   "outputs": [
    {
     "name": "stdout",
     "output_type": "stream",
     "text": [
      "dict_items([('id', 1), ('name', 'Sandesh'), ('mobile', 9846448426), ('address', 'Bhaktapur'), ('Salary', 23423.2342)])\n"
     ]
    }
   ],
   "source": [
    "person = {\n",
    "    \"id\":1,\n",
    "    \"name\":\"Sandesh\",\n",
    "    'mobile':9846448426,\n",
    "    'address':'Bhaktapur',\n",
    "    'Salary':23423.2342\n",
    "}\n",
    "print(person.items())"
   ]
  },
  {
   "cell_type": "code",
   "execution_count": 28,
   "id": "46261a80",
   "metadata": {},
   "outputs": [
    {
     "name": "stdout",
     "output_type": "stream",
     "text": [
      "dict_keys(['id', 'name', 'mobile', 'address', 'Salary'])\n"
     ]
    }
   ],
   "source": [
    "person = {\n",
    "    \"id\":1,\n",
    "    \"name\":\"Sandesh\",\n",
    "    'mobile':9846448426,\n",
    "    'address':'Bhaktapur',\n",
    "    'Salary':23423.2342\n",
    "}\n",
    "print(person.keys())"
   ]
  },
  {
   "cell_type": "code",
   "execution_count": 29,
   "id": "5f5f2531",
   "metadata": {},
   "outputs": [
    {
     "name": "stdout",
     "output_type": "stream",
     "text": [
      "dict_values([1, 'Sandesh', 9846448426, 'Bhaktapur', 23423.2342])\n"
     ]
    }
   ],
   "source": [
    "person = {\n",
    "    \"id\":1,\n",
    "    \"name\":\"Sandesh\",\n",
    "    'mobile':9846448426,\n",
    "    'address':'Bhaktapur',\n",
    "    'Salary':23423.2342\n",
    "}\n",
    "print(person.values())"
   ]
  },
  {
   "cell_type": "code",
   "execution_count": 32,
   "id": "f39ecf38",
   "metadata": {},
   "outputs": [
    {
     "name": "stdout",
     "output_type": "stream",
     "text": [
      "9846448426\n",
      "{'id': 1, 'name': 'Sandesh', 'address': 'Bhaktapur', 'Salary': 23423.2342}\n"
     ]
    }
   ],
   "source": [
    "person = {\n",
    "    \"id\":1,\n",
    "    \"name\":\"Sandesh\",\n",
    "    'mobile':9846448426,\n",
    "    'address':'Bhaktapur',\n",
    "    'Salary':23423.2342\n",
    "}\n",
    "print(person.pop('mobile'))\n",
    "print(person)"
   ]
  },
  {
   "cell_type": "code",
   "execution_count": 33,
   "id": "5a68cde2",
   "metadata": {},
   "outputs": [
    {
     "ename": "KeyError",
     "evalue": "'phone'",
     "output_type": "error",
     "traceback": [
      "\u001b[1;31m---------------------------------------------------------------------------\u001b[0m",
      "\u001b[1;31mKeyError\u001b[0m                                  Traceback (most recent call last)",
      "Cell \u001b[1;32mIn[33], line 8\u001b[0m\n\u001b[0;32m      1\u001b[0m person \u001b[38;5;241m=\u001b[39m {\n\u001b[0;32m      2\u001b[0m     \u001b[38;5;124m\"\u001b[39m\u001b[38;5;124mid\u001b[39m\u001b[38;5;124m\"\u001b[39m:\u001b[38;5;241m1\u001b[39m,\n\u001b[0;32m      3\u001b[0m     \u001b[38;5;124m\"\u001b[39m\u001b[38;5;124mname\u001b[39m\u001b[38;5;124m\"\u001b[39m:\u001b[38;5;124m\"\u001b[39m\u001b[38;5;124mSandesh\u001b[39m\u001b[38;5;124m\"\u001b[39m,\n\u001b[1;32m   (...)\u001b[0m\n\u001b[0;32m      6\u001b[0m     \u001b[38;5;124m'\u001b[39m\u001b[38;5;124mSalary\u001b[39m\u001b[38;5;124m'\u001b[39m:\u001b[38;5;241m23423.2342\u001b[39m\n\u001b[0;32m      7\u001b[0m }\n\u001b[1;32m----> 8\u001b[0m \u001b[38;5;28mprint\u001b[39m(\u001b[43mperson\u001b[49m\u001b[38;5;241;43m.\u001b[39;49m\u001b[43mpop\u001b[49m\u001b[43m(\u001b[49m\u001b[38;5;124;43m'\u001b[39;49m\u001b[38;5;124;43mphone\u001b[39;49m\u001b[38;5;124;43m'\u001b[39;49m\u001b[43m)\u001b[49m)\n\u001b[0;32m      9\u001b[0m \u001b[38;5;28mprint\u001b[39m(person)\n",
      "\u001b[1;31mKeyError\u001b[0m: 'phone'"
     ]
    }
   ],
   "source": [
    "person = {\n",
    "    \"id\":1,\n",
    "    \"name\":\"Sandesh\",\n",
    "    'mobile':9846448426,\n",
    "    'address':'Bhaktapur',\n",
    "    'Salary':23423.2342\n",
    "}\n",
    "print(person.pop('phone'))\n",
    "print(person)"
   ]
  },
  {
   "cell_type": "code",
   "execution_count": 34,
   "id": "1548af0b",
   "metadata": {},
   "outputs": [
    {
     "name": "stdout",
     "output_type": "stream",
     "text": [
      "None\n",
      "{'id': 1, 'name': 'Sandesh', 'mobile': 9846448426, 'address': 'Bhaktapur', 'Salary': 23423.2342}\n"
     ]
    }
   ],
   "source": [
    "person = {\n",
    "    \"id\":1,\n",
    "    \"name\":\"Sandesh\",\n",
    "    'mobile':9846448426,\n",
    "    'address':'Bhaktapur',\n",
    "    'Salary':23423.2342\n",
    "}\n",
    "print(person.pop('phone',None))\n",
    "print(person)"
   ]
  },
  {
   "cell_type": "code",
   "execution_count": 35,
   "id": "96b11177",
   "metadata": {},
   "outputs": [
    {
     "name": "stdout",
     "output_type": "stream",
     "text": [
      "9841550922\n",
      "{'id': 1, 'name': 'Sandesh', 'mobile': 9846448426, 'address': 'Bhaktapur', 'Salary': 23423.2342}\n"
     ]
    }
   ],
   "source": [
    "person = {\n",
    "    \"id\":1,\n",
    "    \"name\":\"Sandesh\",\n",
    "    'mobile':9846448426,\n",
    "    'address':'Bhaktapur',\n",
    "    'Salary':23423.2342\n",
    "}\n",
    "print(person.pop('phone',9841550922))\n",
    "print(person)"
   ]
  },
  {
   "cell_type": "code",
   "execution_count": 37,
   "id": "1a573ef0",
   "metadata": {},
   "outputs": [
    {
     "name": "stdout",
     "output_type": "stream",
     "text": [
      "('Salary', 23423.2342)\n",
      "{'id': 1, 'name': 'Sandesh', 'mobile': 9846448426, 'address': 'Bhaktapur'}\n"
     ]
    }
   ],
   "source": [
    "person = {\n",
    "    \"id\":1,\n",
    "    \"name\":\"Sandesh\",\n",
    "    'mobile':9846448426,\n",
    "    'address':'Bhaktapur',\n",
    "    'Salary':23423.2342\n",
    "}\n",
    "print(person.popitem())\n",
    "print(person)"
   ]
  },
  {
   "cell_type": "code",
   "execution_count": 38,
   "id": "135d9bca",
   "metadata": {},
   "outputs": [
    {
     "name": "stdout",
     "output_type": "stream",
     "text": [
      "sandes.cgn@gmail.com\n",
      "{'id': 1, 'name': 'Sandesh', 'mobile': 9846448426, 'address': 'Bhaktapur', 'Salary': 23423.2342}\n"
     ]
    }
   ],
   "source": [
    "person = {\n",
    "    \"id\":1,\n",
    "    \"name\":\"Sandesh\",\n",
    "    'mobile':9846448426,\n",
    "    'address':'Bhaktapur',\n",
    "    'Salary':23423.2342\n",
    "}\n",
    "print(person.get('email','sandes.cgn@gmail.com'))\n",
    "print(person)"
   ]
  },
  {
   "cell_type": "code",
   "execution_count": 39,
   "id": "0e6c7cbf",
   "metadata": {},
   "outputs": [
    {
     "name": "stdout",
     "output_type": "stream",
     "text": [
      "sandes.cgn@gmail.com\n",
      "{'id': 1, 'name': 'Sandesh', 'mobile': 9846448426, 'address': 'Bhaktapur', 'Salary': 23423.2342, 'email': 'sandes.cgn@gmail.com'}\n"
     ]
    }
   ],
   "source": [
    "person = {\n",
    "    \"id\":1,\n",
    "    \"name\":\"Sandesh\",\n",
    "    'mobile':9846448426,\n",
    "    'address':'Bhaktapur',\n",
    "    'Salary':23423.2342\n",
    "}\n",
    "print(person.setdefault('email','sandes.cgn@gmail.com')) #setdefault sets the data in the dictionary.\n",
    "print(person)"
   ]
  },
  {
   "cell_type": "code",
   "execution_count": 42,
   "id": "7104d6af",
   "metadata": {},
   "outputs": [
    {
     "name": "stdout",
     "output_type": "stream",
     "text": [
      "sandes.cgn@gmail.com\n",
      "{'id': 1, 'name': 'Sandesh', 'mobile': 9846448426, 'address': 'Bhaktapur', 'Salary': 23423.2342, 'email': 'sandes.cgn@gmail.com'}\n"
     ]
    }
   ],
   "source": [
    "person = {\n",
    "    \"id\":1,\n",
    "    \"name\":\"Sandesh\",\n",
    "    'mobile':9846448426,\n",
    "    'address':'Bhaktapur',\n",
    "    'Salary':23423.2342,\n",
    "    'email': 'sandes.cgn@gmail.com'\n",
    "}\n",
    "print(person.setdefault('email','hello@gmail.com')) #setdefault only adds the data if there is not any values.\n",
    "print(person)"
   ]
  },
  {
   "cell_type": "code",
   "execution_count": 43,
   "id": "08f6e4fc",
   "metadata": {},
   "outputs": [
    {
     "name": "stdout",
     "output_type": "stream",
     "text": [
      "Help on class dict in module builtins:\n",
      "\n",
      "class dict(object)\n",
      " |  dict() -> new empty dictionary\n",
      " |  dict(mapping) -> new dictionary initialized from a mapping object's\n",
      " |      (key, value) pairs\n",
      " |  dict(iterable) -> new dictionary initialized as if via:\n",
      " |      d = {}\n",
      " |      for k, v in iterable:\n",
      " |          d[k] = v\n",
      " |  dict(**kwargs) -> new dictionary initialized with the name=value pairs\n",
      " |      in the keyword argument list.  For example:  dict(one=1, two=2)\n",
      " |  \n",
      " |  Built-in subclasses:\n",
      " |      StgDict\n",
      " |  \n",
      " |  Methods defined here:\n",
      " |  \n",
      " |  __contains__(self, key, /)\n",
      " |      True if the dictionary has the specified key, else False.\n",
      " |  \n",
      " |  __delitem__(self, key, /)\n",
      " |      Delete self[key].\n",
      " |  \n",
      " |  __eq__(self, value, /)\n",
      " |      Return self==value.\n",
      " |  \n",
      " |  __ge__(self, value, /)\n",
      " |      Return self>=value.\n",
      " |  \n",
      " |  __getattribute__(self, name, /)\n",
      " |      Return getattr(self, name).\n",
      " |  \n",
      " |  __getitem__(...)\n",
      " |      x.__getitem__(y) <==> x[y]\n",
      " |  \n",
      " |  __gt__(self, value, /)\n",
      " |      Return self>value.\n",
      " |  \n",
      " |  __init__(self, /, *args, **kwargs)\n",
      " |      Initialize self.  See help(type(self)) for accurate signature.\n",
      " |  \n",
      " |  __ior__(self, value, /)\n",
      " |      Return self|=value.\n",
      " |  \n",
      " |  __iter__(self, /)\n",
      " |      Implement iter(self).\n",
      " |  \n",
      " |  __le__(self, value, /)\n",
      " |      Return self<=value.\n",
      " |  \n",
      " |  __len__(self, /)\n",
      " |      Return len(self).\n",
      " |  \n",
      " |  __lt__(self, value, /)\n",
      " |      Return self<value.\n",
      " |  \n",
      " |  __ne__(self, value, /)\n",
      " |      Return self!=value.\n",
      " |  \n",
      " |  __or__(self, value, /)\n",
      " |      Return self|value.\n",
      " |  \n",
      " |  __repr__(self, /)\n",
      " |      Return repr(self).\n",
      " |  \n",
      " |  __reversed__(self, /)\n",
      " |      Return a reverse iterator over the dict keys.\n",
      " |  \n",
      " |  __ror__(self, value, /)\n",
      " |      Return value|self.\n",
      " |  \n",
      " |  __setitem__(self, key, value, /)\n",
      " |      Set self[key] to value.\n",
      " |  \n",
      " |  __sizeof__(...)\n",
      " |      D.__sizeof__() -> size of D in memory, in bytes\n",
      " |  \n",
      " |  clear(...)\n",
      " |      D.clear() -> None.  Remove all items from D.\n",
      " |  \n",
      " |  copy(...)\n",
      " |      D.copy() -> a shallow copy of D\n",
      " |  \n",
      " |  get(self, key, default=None, /)\n",
      " |      Return the value for key if key is in the dictionary, else default.\n",
      " |  \n",
      " |  items(...)\n",
      " |      D.items() -> a set-like object providing a view on D's items\n",
      " |  \n",
      " |  keys(...)\n",
      " |      D.keys() -> a set-like object providing a view on D's keys\n",
      " |  \n",
      " |  pop(...)\n",
      " |      D.pop(k[,d]) -> v, remove specified key and return the corresponding value.\n",
      " |      \n",
      " |      If the key is not found, return the default if given; otherwise,\n",
      " |      raise a KeyError.\n",
      " |  \n",
      " |  popitem(self, /)\n",
      " |      Remove and return a (key, value) pair as a 2-tuple.\n",
      " |      \n",
      " |      Pairs are returned in LIFO (last-in, first-out) order.\n",
      " |      Raises KeyError if the dict is empty.\n",
      " |  \n",
      " |  setdefault(self, key, default=None, /)\n",
      " |      Insert key with a value of default if key is not in the dictionary.\n",
      " |      \n",
      " |      Return the value for key if key is in the dictionary, else default.\n",
      " |  \n",
      " |  update(...)\n",
      " |      D.update([E, ]**F) -> None.  Update D from dict/iterable E and F.\n",
      " |      If E is present and has a .keys() method, then does:  for k in E: D[k] = E[k]\n",
      " |      If E is present and lacks a .keys() method, then does:  for k, v in E: D[k] = v\n",
      " |      In either case, this is followed by: for k in F:  D[k] = F[k]\n",
      " |  \n",
      " |  values(...)\n",
      " |      D.values() -> an object providing a view on D's values\n",
      " |  \n",
      " |  ----------------------------------------------------------------------\n",
      " |  Class methods defined here:\n",
      " |  \n",
      " |  __class_getitem__(...) from builtins.type\n",
      " |      See PEP 585\n",
      " |  \n",
      " |  fromkeys(iterable, value=None, /) from builtins.type\n",
      " |      Create a new dictionary with keys from iterable and values set to value.\n",
      " |  \n",
      " |  ----------------------------------------------------------------------\n",
      " |  Static methods defined here:\n",
      " |  \n",
      " |  __new__(*args, **kwargs) from builtins.type\n",
      " |      Create and return a new object.  See help(type) for accurate signature.\n",
      " |  \n",
      " |  ----------------------------------------------------------------------\n",
      " |  Data and other attributes defined here:\n",
      " |  \n",
      " |  __hash__ = None\n",
      "\n"
     ]
    }
   ],
   "source": [
    "help(dict)"
   ]
  },
  {
   "cell_type": "code",
   "execution_count": 44,
   "id": "4cee7b95",
   "metadata": {},
   "outputs": [
    {
     "name": "stdout",
     "output_type": "stream",
     "text": [
      "{'id': 1, 'name': 'Sandesh', 'mobile': 9846448426, 'address': 'Bhaktapur', 'Salary': 23423.2342, 'email': 'sandes.cgn@gmail.com', 'phone': 9841550922, 'hello': 'hello'}\n"
     ]
    }
   ],
   "source": [
    "person = {\n",
    "    \"id\":1,\n",
    "    \"name\":\"Sandesh\",\n",
    "    'mobile':9846448426,\n",
    "    'address':'Bhaktapur',\n",
    "    'Salary':23423.2342,\n",
    "    'email': 'sandes.cgn@gmail.com'\n",
    "}\n",
    "person['phone']=9841550922\n",
    "person['hello']='hello'\n",
    "print(person)"
   ]
  },
  {
   "cell_type": "code",
   "execution_count": 45,
   "id": "63dd66cd",
   "metadata": {},
   "outputs": [
    {
     "data": {
      "text/plain": [
       "{'id': 1,\n",
       " 'name': 'Sandesh',\n",
       " 'mobile': 9846448426,\n",
       " 'address': 'Bhaktapur',\n",
       " 'Salary': 23423.2342,\n",
       " 'email': 'sandes.cgn@gmail.com',\n",
       " 'phone': 9841550922,\n",
       " 'hello': 'hello'}"
      ]
     },
     "execution_count": 45,
     "metadata": {},
     "output_type": "execute_result"
    }
   ],
   "source": [
    "person = {\n",
    "    \"id\":1,\n",
    "    \"name\":\"Sandesh\",\n",
    "    'mobile':9846448426,\n",
    "    'address':'Bhaktapur',\n",
    "    'Salary':23423.2342,\n",
    "    'email': 'sandes.cgn@gmail.com'\n",
    "}\n",
    "person['phone']=9841550922\n",
    "person['hello']='hello'\n",
    "person"
   ]
  },
  {
   "cell_type": "code",
   "execution_count": 47,
   "id": "55e6e56f",
   "metadata": {},
   "outputs": [
    {
     "data": {
      "text/plain": [
       "{'id': 1,\n",
       " 'name': 'Sandesh',\n",
       " 'mobile': 9846448426,\n",
       " 'address': 'Bhaktapur',\n",
       " 'Salary': 23423.2342,\n",
       " 'email': 'sandes.cgn@gmail.com',\n",
       " 'phone': 9841550922,\n",
       " 'hello': 'hello'}"
      ]
     },
     "execution_count": 47,
     "metadata": {},
     "output_type": "execute_result"
    }
   ],
   "source": [
    "person = {\n",
    "    \"id\":1,\n",
    "    \"name\":\"Sandesh\",\n",
    "    'mobile':9846448426,\n",
    "    'address':'Bhaktapur',\n",
    "    'Salary':23423.2342,\n",
    "    'email': 'sandes.cgn@gmail.com'\n",
    "}\n",
    "person.update({'phone':9841550922,'hello':'hello'}) #Update keys & values in dictionary\n",
    "person"
   ]
  },
  {
   "cell_type": "code",
   "execution_count": 48,
   "id": "f4aaa494",
   "metadata": {},
   "outputs": [
    {
     "data": {
      "text/plain": [
       "dict_values([1, 'Sandesh', 9846448426, 'Bhaktapur', 23423.2342, 'sandes.cgn@gmail.com', 9841550922, 'hello'])"
      ]
     },
     "execution_count": 48,
     "metadata": {},
     "output_type": "execute_result"
    }
   ],
   "source": [
    "person.values()"
   ]
  },
  {
   "cell_type": "code",
   "execution_count": 49,
   "id": "0828abf8",
   "metadata": {},
   "outputs": [
    {
     "data": {
      "text/plain": [
       "dict_keys(['id', 'name', 'mobile', 'address', 'Salary', 'email', 'phone', 'hello'])"
      ]
     },
     "execution_count": 49,
     "metadata": {},
     "output_type": "execute_result"
    }
   ],
   "source": [
    "person.keys()"
   ]
  },
  {
   "cell_type": "code",
   "execution_count": 50,
   "id": "183f2b92",
   "metadata": {},
   "outputs": [
    {
     "data": {
      "text/plain": [
       "False"
      ]
     },
     "execution_count": 50,
     "metadata": {},
     "output_type": "execute_result"
    }
   ],
   "source": [
    "person = {\n",
    "    \"id\":1,\n",
    "    \"name\":\"Sandesh\",\n",
    "    'mobile':9846448426,\n",
    "    'address':'Bhaktapur',\n",
    "    'Salary':23423.2342,\n",
    "    'email': 'sandes.cgn@gmail.com'\n",
    "}\n",
    "#in operator=>membership operator\n",
    "'hello' in person #looks in keys,not in values."
   ]
  },
  {
   "cell_type": "code",
   "execution_count": 51,
   "id": "23565e8e",
   "metadata": {},
   "outputs": [
    {
     "data": {
      "text/plain": [
       "True"
      ]
     },
     "execution_count": 51,
     "metadata": {},
     "output_type": "execute_result"
    }
   ],
   "source": [
    "'mobile' in person"
   ]
  },
  {
   "cell_type": "code",
   "execution_count": 52,
   "id": "295c3780",
   "metadata": {},
   "outputs": [
    {
     "name": "stdout",
     "output_type": "stream",
     "text": [
      "id\n",
      "name\n",
      "mobile\n",
      "address\n",
      "Salary\n",
      "email\n"
     ]
    }
   ],
   "source": [
    "person = {\n",
    "    \"id\":1,\n",
    "    \"name\":\"Sandesh\",\n",
    "    'mobile':9846448426,\n",
    "    'address':'Bhaktapur',\n",
    "    'Salary':23423.2342,\n",
    "    'email': 'sandes.cgn@gmail.com'\n",
    "}\n",
    "for i in person: #loops in keys not in values.\n",
    "    print(i)"
   ]
  },
  {
   "cell_type": "code",
   "execution_count": 53,
   "id": "f716af75",
   "metadata": {},
   "outputs": [
    {
     "name": "stdout",
     "output_type": "stream",
     "text": [
      "id\n",
      "name\n",
      "mobile\n",
      "address\n",
      "Salary\n",
      "email\n"
     ]
    }
   ],
   "source": [
    "for i in person.keys(): #loops in keys.\n",
    "    print(i)"
   ]
  },
  {
   "cell_type": "code",
   "execution_count": 54,
   "id": "4636e123",
   "metadata": {},
   "outputs": [
    {
     "name": "stdout",
     "output_type": "stream",
     "text": [
      "1\n",
      "Sandesh\n",
      "9846448426\n",
      "Bhaktapur\n",
      "23423.2342\n",
      "sandes.cgn@gmail.com\n"
     ]
    }
   ],
   "source": [
    "for i in person.values(): #loops in values.\n",
    "    print(i)"
   ]
  },
  {
   "cell_type": "code",
   "execution_count": 55,
   "id": "9a35d918",
   "metadata": {},
   "outputs": [
    {
     "data": {
      "text/plain": [
       "dict_items([('id', 1), ('name', 'Sandesh'), ('mobile', 9846448426), ('address', 'Bhaktapur'), ('Salary', 23423.2342), ('email', 'sandes.cgn@gmail.com')])"
      ]
     },
     "execution_count": 55,
     "metadata": {},
     "output_type": "execute_result"
    }
   ],
   "source": [
    "person.items()"
   ]
  },
  {
   "cell_type": "code",
   "execution_count": 56,
   "id": "62051d09",
   "metadata": {},
   "outputs": [
    {
     "name": "stdout",
     "output_type": "stream",
     "text": [
      "('id', 1)\n",
      "('name', 'Sandesh')\n",
      "('mobile', 9846448426)\n",
      "('address', 'Bhaktapur')\n",
      "('Salary', 23423.2342)\n",
      "('email', 'sandes.cgn@gmail.com')\n"
     ]
    }
   ],
   "source": [
    "for i in person.items(): #loops on keys & values.\n",
    "    print(i)"
   ]
  },
  {
   "cell_type": "code",
   "execution_count": 57,
   "id": "51a173c7",
   "metadata": {},
   "outputs": [
    {
     "name": "stdout",
     "output_type": "stream",
     "text": [
      "<class 'dict'>\n"
     ]
    }
   ],
   "source": [
    "x={}\n",
    "print(type(x))"
   ]
  },
  {
   "cell_type": "code",
   "execution_count": 58,
   "id": "44673427",
   "metadata": {},
   "outputs": [
    {
     "name": "stdout",
     "output_type": "stream",
     "text": [
      "<class 'dict'>\n"
     ]
    }
   ],
   "source": [
    "x=dict()\n",
    "print(type(x))"
   ]
  },
  {
   "cell_type": "code",
   "execution_count": null,
   "id": "43066499",
   "metadata": {},
   "outputs": [],
   "source": [
    "#Dictionary Finished"
   ]
  }
 ],
 "metadata": {
  "kernelspec": {
   "display_name": "Python 3 (ipykernel)",
   "language": "python",
   "name": "python3"
  },
  "language_info": {
   "codemirror_mode": {
    "name": "ipython",
    "version": 3
   },
   "file_extension": ".py",
   "mimetype": "text/x-python",
   "name": "python",
   "nbconvert_exporter": "python",
   "pygments_lexer": "ipython3",
   "version": "3.11.2"
  }
 },
 "nbformat": 4,
 "nbformat_minor": 5
}
