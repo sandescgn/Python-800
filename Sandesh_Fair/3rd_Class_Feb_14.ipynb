{
 "cells": [
  {
   "cell_type": "code",
   "execution_count": 1,
   "id": "42182288",
   "metadata": {},
   "outputs": [
    {
     "name": "stdout",
     "output_type": "stream",
     "text": [
      "3\n"
     ]
    }
   ],
   "source": [
    "x= 1 #variable => number => integer datatype/datastructure\n",
    "y= 2 #variable => number => integer datatype/datastructure\n",
    "\n",
    "sum= x+y #variable => addition\n",
    "print(sum)"
   ]
  },
  {
   "cell_type": "code",
   "execution_count": 2,
   "id": "44292a88",
   "metadata": {},
   "outputs": [],
   "source": [
    "#python -m jupyter notebook"
   ]
  },
  {
   "cell_type": "code",
   "execution_count": 3,
   "id": "e9317ef4",
   "metadata": {},
   "outputs": [
    {
     "name": "stdout",
     "output_type": "stream",
     "text": [
      "hello world\n"
     ]
    }
   ],
   "source": [
    "#\n",
    "#python input/output\n",
    "print('hello world')"
   ]
  },
  {
   "cell_type": "code",
   "execution_count": 4,
   "id": "53b3de7a",
   "metadata": {},
   "outputs": [
    {
     "name": "stdout",
     "output_type": "stream",
     "text": [
      "My Name is Sandesh\n"
     ]
    }
   ],
   "source": [
    "name='Sandesh'\n",
    "print('My Name is',name)"
   ]
  },
  {
   "cell_type": "code",
   "execution_count": 6,
   "id": "7125c77e",
   "metadata": {},
   "outputs": [
    {
     "name": "stdout",
     "output_type": "stream",
     "text": [
      "The sum of {num1} and {num2} is {sum}\n"
     ]
    }
   ],
   "source": [
    "num1=10\n",
    "num2=20\n",
    "sum=num1+num2\n",
    "print('The sum of {num1} and {num2} is {sum}')"
   ]
  },
  {
   "cell_type": "code",
   "execution_count": 7,
   "id": "e3aa9b65",
   "metadata": {},
   "outputs": [
    {
     "name": "stdout",
     "output_type": "stream",
     "text": [
      "The sum of 10 and 20 is 30\n"
     ]
    }
   ],
   "source": [
    "num1=10 #to print numric value or to show value use f-string method\n",
    "num2=20\n",
    "sum=num1+num2\n",
    "print(f'The sum of {num1} and {num2} is {sum}')  #f-string =>string interpolation"
   ]
  },
  {
   "cell_type": "code",
   "execution_count": 8,
   "id": "0fa327b6",
   "metadata": {},
   "outputs": [
    {
     "name": "stdout",
     "output_type": "stream",
     "text": [
      "My name is {first_name} {last_name}\n"
     ]
    }
   ],
   "source": [
    "first_name='Sandesh' #string data type\n",
    "last_name= 'Chaulagain'#string data type\n",
    "\n",
    "print('My name is {first_name} {last_name}')"
   ]
  },
  {
   "cell_type": "code",
   "execution_count": 9,
   "id": "2272de33",
   "metadata": {},
   "outputs": [
    {
     "name": "stdout",
     "output_type": "stream",
     "text": [
      "My name is Sandesh Chaulagain\n"
     ]
    }
   ],
   "source": [
    "first_name='Sandesh' #string data type\n",
    "last_name= 'Chaulagain'#string data type\n",
    "\n",
    "print(f'My name is {first_name} {last_name}') #f-string =>string interpolation "
   ]
  },
  {
   "cell_type": "code",
   "execution_count": 10,
   "id": "fe8f49c7",
   "metadata": {},
   "outputs": [
    {
     "name": "stdout",
     "output_type": "stream",
     "text": [
      "1 2 3 4 5 6 hello\n"
     ]
    }
   ],
   "source": [
    "print(1,2,3,4,5,6,'hello')"
   ]
  },
  {
   "cell_type": "code",
   "execution_count": 11,
   "id": "6347df48",
   "metadata": {},
   "outputs": [
    {
     "name": "stdout",
     "output_type": "stream",
     "text": [
      "Help on built-in function print in module builtins:\n",
      "\n",
      "print(*args, sep=' ', end='\\n', file=None, flush=False)\n",
      "    Prints the values to a stream, or to sys.stdout by default.\n",
      "    \n",
      "    sep\n",
      "      string inserted between values, default a space.\n",
      "    end\n",
      "      string appended after the last value, default a newline.\n",
      "    file\n",
      "      a file-like object (stream); defaults to the current sys.stdout.\n",
      "    flush\n",
      "      whether to forcibly flush the stream.\n",
      "\n"
     ]
    }
   ],
   "source": [
    "help(print)"
   ]
  },
  {
   "cell_type": "code",
   "execution_count": 13,
   "id": "9d1195ec",
   "metadata": {},
   "outputs": [
    {
     "name": "stdout",
     "output_type": "stream",
     "text": [
      "1#2#3#4#5#6#hello\n",
      "1#2#3#4#5#6#hello\n",
      "1#2#3#4#5#6#hello\n",
      "1#2#3#4#5#6#hello\n"
     ]
    }
   ],
   "source": [
    "print(1,2,3,4,5,6,'hello',sep='#')\n",
    "print(1,2,3,4,5,6,'hello',sep='#')\n",
    "print(1,2,3,4,5,6,'hello',sep='#')\n",
    "print(1,2,3,4,5,6,'hello',sep='#')"
   ]
  },
  {
   "cell_type": "code",
   "execution_count": 16,
   "id": "60089a10",
   "metadata": {},
   "outputs": [
    {
     "name": "stdout",
     "output_type": "stream",
     "text": [
      "hello my name is sandesh.\n",
      "I am from ktm.\n"
     ]
    }
   ],
   "source": [
    "x='hello my name is sandesh.\\nI am from ktm.'\n",
    "print(x)"
   ]
  },
  {
   "cell_type": "code",
   "execution_count": 17,
   "id": "3a73471b",
   "metadata": {},
   "outputs": [
    {
     "name": "stdout",
     "output_type": "stream",
     "text": [
      "1#2#3#4#5#6#hello\n",
      "1#2#3#4#5#6#hello\n",
      "1#2#3#4#5#6#hello\n",
      "1#2#3#4#5#6#hello\n"
     ]
    }
   ],
   "source": [
    "print(1,2,3,4,5,6,'hello',sep='#',end='\\n') #By default there is end='\\n'\n",
    "print(1,2,3,4,5,6,'hello',sep='#',end='\\n')\n",
    "print(1,2,3,4,5,6,'hello',sep='#')\n",
    "print(1,2,3,4,5,6,'hello',sep='#')"
   ]
  },
  {
   "cell_type": "code",
   "execution_count": 19,
   "id": "96dba150",
   "metadata": {},
   "outputs": [
    {
     "name": "stdout",
     "output_type": "stream",
     "text": [
      "1#2#3#4#5#6#hello\n",
      "1#2#3#4#5#6#hello 1#2#3#4#5#6#hello\n",
      "1#2#3#4#5#6#hello\n"
     ]
    }
   ],
   "source": [
    "print(1,2,3,4,5,6,'hello',sep='#',end='\\n') #By default there is end='\\n'\n",
    "print(1,2,3,4,5,6,'hello',sep='#',end=' ')\n",
    "print(1,2,3,4,5,6,'hello',sep='#')\n",
    "print(1,2,3,4,5,6,'hello',sep='#')"
   ]
  },
  {
   "cell_type": "code",
   "execution_count": 23,
   "id": "a33f6e40",
   "metadata": {},
   "outputs": [
    {
     "name": "stdout",
     "output_type": "stream",
     "text": [
      "1#2#3#4#5#6#hello => 1#2#3#4#5#6#hello\n"
     ]
    }
   ],
   "source": [
    "print(1,2,3,4,5,6,'hello',sep='#',end=' => ') #By default there is end='\\n'\n",
    "print(1,2,3,4,5,6,'hello',sep='#')"
   ]
  },
  {
   "cell_type": "code",
   "execution_count": 24,
   "id": "ea17186b",
   "metadata": {},
   "outputs": [
    {
     "name": "stdout",
     "output_type": "stream",
     "text": [
      "1#2#3#4#5#6#hello\t1#2#3#4#5#6#hello\n"
     ]
    }
   ],
   "source": [
    "print(1,2,3,4,5,6, 'hello', sep='#', end='\\t')\n",
    "print(1,2,3,4,5,6, 'hello', sep='#')"
   ]
  },
  {
   "cell_type": "code",
   "execution_count": 27,
   "id": "8b1682c4",
   "metadata": {},
   "outputs": [
    {
     "name": "stdout",
     "output_type": "stream",
     "text": [
      "My name is sandesh chaulagain\n"
     ]
    }
   ],
   "source": [
    "first_name = \"sandesh\"   #use this one\n",
    "last_name = \"chaulagain\"\n",
    "\n",
    "print(f\"My name is {first_name} {last_name}\")"
   ]
  },
  {
   "cell_type": "code",
   "execution_count": 26,
   "id": "f9995e77",
   "metadata": {},
   "outputs": [
    {
     "name": "stdout",
     "output_type": "stream",
     "text": [
      "My name is Sandesh Chaulagain\n"
     ]
    }
   ],
   "source": [
    "first_name='Sandesh' #string data type\n",
    "last_name= 'Chaulagain'#string data type\n",
    "print('My name is {first_name} {last_name}'.format(first_name=first_name,\n",
    "     last_name=last_name))"
   ]
  },
  {
   "cell_type": "code",
   "execution_count": 28,
   "id": "8a864b0b",
   "metadata": {},
   "outputs": [
    {
     "name": "stdout",
     "output_type": "stream",
     "text": [
      "My name is Sandesh Chaulagain\n"
     ]
    }
   ],
   "source": [
    "first_name='Sandesh' \n",
    "last_name= 'Chaulagain'\n",
    "print('My name is {x} {y}'.format(x=first_name,\n",
    "     y=last_name))"
   ]
  },
  {
   "cell_type": "code",
   "execution_count": 30,
   "id": "baf9f5e3",
   "metadata": {},
   "outputs": [
    {
     "name": "stdout",
     "output_type": "stream",
     "text": [
      "My name is Sandesh Chaulagain\n"
     ]
    }
   ],
   "source": [
    "first_name='Sandesh' \n",
    "last_name= 'Chaulagain'\n",
    "print('My name is {} {}'.format(first_name,\n",
    "     last_name))"
   ]
  },
  {
   "cell_type": "code",
   "execution_count": 31,
   "id": "14521f8b",
   "metadata": {},
   "outputs": [
    {
     "name": "stdout",
     "output_type": "stream",
     "text": [
      "enter first name:Sandesh\n",
      "enter last name:Chaulagain\n",
      "My name is Sandesh Chaulagain\n"
     ]
    }
   ],
   "source": [
    "first_name=input('enter first name:')\n",
    "last_name= input('enter last name:')\n",
    "print(f'My name is {first_name} {last_name}'.format(first_name,\n",
    "     last_name)) #f-string=> string interpolation"
   ]
  },
  {
   "cell_type": "code",
   "execution_count": 34,
   "id": "ab4edc6c",
   "metadata": {},
   "outputs": [
    {
     "name": "stdout",
     "output_type": "stream",
     "text": [
      "Enter first number:3\n",
      "Enter last number:4\n",
      "The sum of 3 and 4 is 34\n"
     ]
    }
   ],
   "source": [
    "num1=input('Enter first number:')\n",
    "num2=input('Enter last number:')\n",
    "sum=num1+num2\n",
    "print(f'The sum of {num1} and {num2} is {sum}')"
   ]
  },
  {
   "cell_type": "code",
   "execution_count": 35,
   "id": "13f3ced6",
   "metadata": {},
   "outputs": [
    {
     "name": "stdout",
     "output_type": "stream",
     "text": [
      "Enter first number:3\n",
      "Enter last number:4\n",
      "The sum of 3 and 4 is 7\n"
     ]
    }
   ],
   "source": [
    "num1=int(input('Enter first number:'))\n",
    "num2=int(input('Enter last number:'))\n",
    "sum=num1+num2\n",
    "print(f'The sum of {num1} and {num2} is {sum}')"
   ]
  },
  {
   "cell_type": "code",
   "execution_count": 42,
   "id": "a7c6bfbb",
   "metadata": {},
   "outputs": [
    {
     "name": "stdout",
     "output_type": "stream",
     "text": [
      "Enter the Principle:400000\n",
      "Enter the Time:10\n",
      "Enter the rate:5\n",
      "The SI is:200000.0\n"
     ]
    }
   ],
   "source": [
    "#to find simple interest\n",
    "p=float(input('Enter the Principle:'))\n",
    "t=float(input('Enter the Time:'))\n",
    "r=float(input('Enter the rate:'))\n",
    "i=(p*t*r)/100\n",
    "print(f'The SI is:{i}')\n",
    "        "
   ]
  },
  {
   "cell_type": "code",
   "execution_count": 44,
   "id": "7ed3b7e1",
   "metadata": {},
   "outputs": [
    {
     "name": "stdout",
     "output_type": "stream",
     "text": [
      "Enter number: 55\n",
      "The number is:55\n",
      "Output number in octal format : 67\n",
      "Output number in binary format: 110111\n",
      "Output number in hexadecimal format: 37\n"
     ]
    }
   ],
   "source": [
    "number = int(input(\"Enter number: \"))   #Formatting method\n",
    "\n",
    "# 'd' is for integer number formatting\n",
    "print(\"The number is:{:d}\".format(number))\n",
    "\n",
    "# 'o' is for octal number formatting, binary and hexadecimal format\n",
    "print('Output number in octal format : {:o}'.format(number))\n",
    "\n",
    "# 'b' is for binary number formatting\n",
    "print('Output number in binary format: {:b}'.format(number))\n",
    "\n",
    "# 'x' is for hexadecimal format\n",
    "print('Output number in hexadecimal format: {:x}'.format(number))"
   ]
  },
  {
   "cell_type": "code",
   "execution_count": 45,
   "id": "3a543362",
   "metadata": {},
   "outputs": [
    {
     "name": "stdout",
     "output_type": "stream",
     "text": [
      "The sum of 2 and 1 is 3\n"
     ]
    }
   ],
   "source": [
    "x = 1\n",
    "y = 2\n",
    "\n",
    "sum = x + y\n",
    "\n",
    "print(\"The sum of {0} and {1} is {2}\".format(y,x,sum)) #here 0,1,2 are just index number"
   ]
  },
  {
   "cell_type": "code",
   "execution_count": 46,
   "id": "713d3dfa",
   "metadata": {},
   "outputs": [
    {
     "name": "stdout",
     "output_type": "stream",
     "text": [
      "Enter number: 55\n",
      "The number is:55\n",
      "Output number in octal format : 67\n",
      "Output number in binary format: 110111\n",
      "Output number in hexadecimal format: 37\n"
     ]
    }
   ],
   "source": [
    "number = int(input(\"Enter number: \"))   #f-string method\n",
    "\n",
    "# 'd' is for integer number formatting\n",
    "print(f\"The number is:{number:d}\")\n",
    "\n",
    "# 'o' is for octal number formatting, binary and hexadecimal format\n",
    "print(f'Output number in octal format : {number:o}')\n",
    "\n",
    "# 'b' is for binary number formatting\n",
    "print(f'Output number in binary format: {number:b}')\n",
    "\n",
    "# 'x' is for hexadecimal format\n",
    "print(f'Output number in hexadecimal format: {number:x}')"
   ]
  },
  {
   "cell_type": "code",
   "execution_count": null,
   "id": "4384867f",
   "metadata": {},
   "outputs": [],
   "source": [
    "area_of_circle / perimeter  #Classwork\n",
    "area_of_rectangle / perimeter  #Homework\n",
    "area_of_square / square      #Homework"
   ]
  },
  {
   "cell_type": "code",
   "execution_count": 49,
   "id": "29759771",
   "metadata": {},
   "outputs": [
    {
     "name": "stdout",
     "output_type": "stream",
     "text": [
      "16\n",
      "64\n"
     ]
    }
   ],
   "source": [
    "x = 4\n",
    "print(x ** 2)\n",
    "print(x ** 3)"
   ]
  },
  {
   "cell_type": "code",
   "execution_count": 47,
   "id": "05033957",
   "metadata": {},
   "outputs": [
    {
     "name": "stdout",
     "output_type": "stream",
     "text": [
      "Enter the radius:5\n",
      "78.53981633974483\n"
     ]
    }
   ],
   "source": [
    "import math\n",
    "r=int(input('Enter the radius:'))\n",
    "area_of_circle=math.pi*(r**2)\n",
    "print(area_of_circle)"
   ]
  },
  {
   "cell_type": "code",
   "execution_count": 50,
   "id": "15515817",
   "metadata": {},
   "outputs": [
    {
     "name": "stdout",
     "output_type": "stream",
     "text": [
      "Enter the length:5\n",
      "Enter the breadth:6\n",
      "22\n"
     ]
    }
   ],
   "source": [
    "l=int(input('Enter the length:')) #HW\n",
    "b=int(input('Enter the breadth:'))\n",
    "perimetre_of_rectangle=2*(l+b)\n",
    "print(perimetre_of_rectangle)\n"
   ]
  },
  {
   "cell_type": "code",
   "execution_count": 51,
   "id": "bc9cb190",
   "metadata": {},
   "outputs": [
    {
     "name": "stdout",
     "output_type": "stream",
     "text": [
      "Enter the length:5\n",
      "Enter the breadth:6\n",
      "30\n"
     ]
    }
   ],
   "source": [
    "l=int(input('Enter the length:')) #HW\n",
    "b=int(input('Enter the breadth:'))\n",
    "area_of_rectangle=l*b\n",
    "print(area_of_rectangle)"
   ]
  },
  {
   "cell_type": "code",
   "execution_count": 52,
   "id": "72df18f9",
   "metadata": {},
   "outputs": [
    {
     "name": "stdout",
     "output_type": "stream",
     "text": [
      "Enter the length:5\n",
      "20\n"
     ]
    }
   ],
   "source": [
    "l=int(input('Enter the length:'))   #HW\n",
    "perimeter_of_square=4*l\n",
    "print(perimeter_of_square)"
   ]
  },
  {
   "cell_type": "code",
   "execution_count": 53,
   "id": "51d106aa",
   "metadata": {},
   "outputs": [
    {
     "name": "stdout",
     "output_type": "stream",
     "text": [
      "Enter the length:8\n",
      "64\n"
     ]
    }
   ],
   "source": [
    "l=int(input('Enter the length:'))  #HW\n",
    "area_of_square=l**2\n",
    "print(area_of_square)"
   ]
  }
 ],
 "metadata": {
  "kernelspec": {
   "display_name": "Python 3 (ipykernel)",
   "language": "python",
   "name": "python3"
  },
  "language_info": {
   "codemirror_mode": {
    "name": "ipython",
    "version": 3
   },
   "file_extension": ".py",
   "mimetype": "text/x-python",
   "name": "python",
   "nbconvert_exporter": "python",
   "pygments_lexer": "ipython3",
   "version": "3.11.2"
  }
 },
 "nbformat": 4,
 "nbformat_minor": 5
}
