{
 "cells": [
  {
   "cell_type": "code",
   "execution_count": 1,
   "id": "c4c79745",
   "metadata": {},
   "outputs": [
    {
     "name": "stdout",
     "output_type": "stream",
     "text": [
      "{'Dave': 33}\n"
     ]
    }
   ],
   "source": [
    "# Example 5: Multiple if Conditional Dictionary Comprehension\n",
    "\n",
    "original_dict = {'Allan': 36, 'Bill': 48, 'Cory': 57, 'Dave': 33}\n",
    "\n",
    "new_dict = {k: v for (k, v) in original_dict.items() if v % 2 != 0 if v < 40}\n",
    "print(new_dict)"
   ]
  },
  {
   "cell_type": "code",
   "execution_count": null,
   "id": "2b043ffd",
   "metadata": {},
   "outputs": [],
   "source": []
  }
 ],
 "metadata": {
  "kernelspec": {
   "display_name": "Python 3 (ipykernel)",
   "language": "python",
   "name": "python3"
  },
  "language_info": {
   "codemirror_mode": {
    "name": "ipython",
    "version": 3
   },
   "file_extension": ".py",
   "mimetype": "text/x-python",
   "name": "python",
   "nbconvert_exporter": "python",
   "pygments_lexer": "ipython3",
   "version": "3.11.1"
  }
 },
 "nbformat": 4,
 "nbformat_minor": 5
}
