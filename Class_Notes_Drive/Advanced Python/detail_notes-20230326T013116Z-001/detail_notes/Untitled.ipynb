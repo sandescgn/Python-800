{
 "cells": [
  {
   "cell_type": "code",
   "execution_count": 2,
   "id": "94a70933",
   "metadata": {},
   "outputs": [
    {
     "data": {
      "text/plain": [
       "'HELLO WORLD'"
      ]
     },
     "execution_count": 2,
     "metadata": {},
     "output_type": "execute_result"
    }
   ],
   "source": [
    "def to_uppercase(fn):\n",
    "    \n",
    "    def wrapper():\n",
    "        x = fn()\n",
    "        x = x.upper()\n",
    "        return x\n",
    "    \n",
    "    return wrapper  \n",
    "\n",
    "@to_uppercase\n",
    "def hello_world():\n",
    "    return \"Hello world\"\n",
    "\n",
    "hello_world()"
   ]
  },
  {
   "cell_type": "code",
   "execution_count": null,
   "id": "f20c2965",
   "metadata": {},
   "outputs": [],
   "source": []
  },
  {
   "cell_type": "code",
   "execution_count": 1,
   "id": "ece7cc49",
   "metadata": {},
   "outputs": [
    {
     "name": "stdout",
     "output_type": "stream",
     "text": [
      "122.0\n",
      "86.0\n"
     ]
    }
   ],
   "source": [
    "class Celsius:\n",
    "    def __init__(self, temperature = 0):\n",
    "        self.temperature = temperature # double underscore\n",
    "\n",
    "    def to_fahrenheit(self):\n",
    "        return (self.temperature * 1.8) + 32\n",
    "    \n",
    "    @property\n",
    "    def temperature(self): # getter\n",
    "        return self.__temperature\n",
    "    \n",
    "    @temperature.setter\n",
    "    def temperature(self, value): # setter\n",
    "        if value < -273:\n",
    "            raise ValueError(\"Temperature cannot be less than -273 degree C\")\n",
    "        self.__temperature = value\n",
    "        \n",
    "        \n",
    "c = Celsius(50)\n",
    "\n",
    "print(c.to_fahrenheit())\n",
    "\n",
    "c.temperature = 30\n",
    "print(c.to_fahrenheit())"
   ]
  },
  {
   "cell_type": "code",
   "execution_count": 2,
   "id": "0f7d8200",
   "metadata": {},
   "outputs": [
    {
     "name": "stdout",
     "output_type": "stream",
     "text": [
      "30\n"
     ]
    }
   ],
   "source": [
    "print(c.temperature)"
   ]
  },
  {
   "cell_type": "code",
   "execution_count": null,
   "id": "86a3d153",
   "metadata": {},
   "outputs": [],
   "source": []
  }
 ],
 "metadata": {
  "kernelspec": {
   "display_name": "Python 3 (ipykernel)",
   "language": "python",
   "name": "python3"
  },
  "language_info": {
   "codemirror_mode": {
    "name": "ipython",
    "version": 3
   },
   "file_extension": ".py",
   "mimetype": "text/x-python",
   "name": "python",
   "nbconvert_exporter": "python",
   "pygments_lexer": "ipython3",
   "version": "3.10.6"
  }
 },
 "nbformat": 4,
 "nbformat_minor": 5
}
