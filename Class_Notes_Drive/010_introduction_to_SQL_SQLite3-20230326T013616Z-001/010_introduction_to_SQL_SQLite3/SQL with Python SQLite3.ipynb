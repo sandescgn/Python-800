{
 "cells": [
  {
   "cell_type": "markdown",
   "id": "b4404106",
   "metadata": {},
   "source": [
    "<img src=\"../img/SQLite-Python.jpg\" alt=\"SQlite3 python\" />"
   ]
  },
  {
   "cell_type": "markdown",
   "id": "f1a12ea6",
   "metadata": {},
   "source": [
    "SQLite is a C library that provides a lightweight disk-based database that doesn’t require a separate server process and allows accessing the database using a nonstandard variant of the SQL query language. Some applications can use SQLite for internal data storage. It’s also possible to prototype an application using SQLite and then port the code to a larger database such as PostgreSQL or Oracle.\n",
    "\n",
    "The sqlite3 module was written by Gerhard Häring. It provides an SQL interface compliant with the DB-API 2.0 specification described by PEP 249, and requires SQLite 3.7.15 or newer."
   ]
  },
  {
   "cell_type": "markdown",
   "id": "6b0e8d31",
   "metadata": {},
   "source": [
    "<img src=\"../img/python-sqlite3-module-working.webp\" alt=\"sqlite3 architecture\"/>"
   ]
  },
  {
   "cell_type": "markdown",
   "id": "d3443583",
   "metadata": {},
   "source": [
    "# CREATE tables:"
   ]
  },
  {
   "cell_type": "markdown",
   "id": "a0ac52b5",
   "metadata": {},
   "source": [
    "**Summary: in this tutorial, we will show you how to create tables in the SQLite database from the Python program using the sqlite3 module.**\n",
    "\n",
    "To create a new table in an SQLite database from a Python program, you use the following steps:\n",
    "\n",
    "1. First, create a Connection object using the connect() function of the sqlite3 module.\n",
    "2. Second, create a Cursor object by calling the cursor() method of the Connection object.\n",
    "3. Third, pass the CREATE TABLE statement to the execute() method of the Cursor object and execute this method.\n",
    "\n",
    "For the demonstration, we will create two tables: projects and tasks as shown in the following database diagram:"
   ]
  },
  {
   "cell_type": "markdown",
   "id": "481c56c9",
   "metadata": {},
   "source": [
    "<img src=\"../img/Python-SQLite-Sample-Tables.png\" alt=\"schema diagram\">"
   ]
  },
  {
   "cell_type": "code",
   "execution_count": 1,
   "id": "b29fa124",
   "metadata": {},
   "outputs": [],
   "source": [
    "import sqlite3\n",
    "from sqlite3 import Error"
   ]
  },
  {
   "cell_type": "markdown",
   "id": "820a80cb",
   "metadata": {},
   "source": [
    "Let’s see how to create new tables in Python.\n",
    "\n",
    "First, create a function called create_connection() that returns a Connection object which represents an SQLite database specified by the database file parameter db_file."
   ]
  },
  {
   "cell_type": "code",
   "execution_count": 2,
   "id": "3c74b7e8",
   "metadata": {},
   "outputs": [],
   "source": [
    "def create_connection(db_file):\n",
    "    \"\"\" \n",
    "    create a database connection to the SQLite database specified by db_file\n",
    "    :param db_file: database file\n",
    "    :return: Connection object or None\n",
    "    \"\"\"\n",
    "    conn = None\n",
    "    try:\n",
    "        conn = sqlite3.connect(db_file)\n",
    "        return conn\n",
    "    except Error as e:\n",
    "        print(e)\n",
    "\n",
    "    return conn"
   ]
  },
  {
   "cell_type": "markdown",
   "id": "0e38565f",
   "metadata": {},
   "source": [
    "Second, create a function named create_table() that accepts a Connection object and an SQL statement. Inside the function, we call the execute() method of the Cursor object to execute the CREATE TABLE statement."
   ]
  },
  {
   "cell_type": "code",
   "execution_count": 3,
   "id": "f0b8a063",
   "metadata": {},
   "outputs": [],
   "source": [
    "def create_table(conn, create_table_sql):\n",
    "    \"\"\" create a table from the create_table_sql statement\n",
    "    :param conn: Connection object\n",
    "    :param create_table_sql: a CREATE TABLE statement\n",
    "    :return:\n",
    "    \"\"\"\n",
    "    try:\n",
    "        c = conn.cursor()\n",
    "        c.execute(create_table_sql)\n",
    "    except Error as e:\n",
    "        print(e)"
   ]
  },
  {
   "cell_type": "markdown",
   "id": "7e040d6e",
   "metadata": {},
   "source": [
    "Third, create a main() function to create the  projects and tasks tables."
   ]
  },
  {
   "cell_type": "code",
   "execution_count": 4,
   "id": "088d48f8",
   "metadata": {},
   "outputs": [],
   "source": [
    "def main():\n",
    "    database = r\"pythonsqlite.db\"\n",
    "\n",
    "    sql_create_projects_table = \"\"\" \n",
    "        CREATE TABLE IF NOT EXISTS projects (\n",
    "            id integer PRIMARY KEY,\n",
    "            name text NOT NULL,\n",
    "            begin_date text,\n",
    "            end_date text\n",
    "        ); \n",
    "    \"\"\"\n",
    "\n",
    "    sql_create_tasks_table = \"\"\"\n",
    "        CREATE TABLE IF NOT EXISTS tasks (\n",
    "            id integer PRIMARY KEY,\n",
    "            name text NOT NULL,\n",
    "            priority integer,\n",
    "            status_id integer NOT NULL,\n",
    "            project_id integer NOT NULL,\n",
    "            begin_date text NOT NULL,\n",
    "            end_date text NOT NULL,\n",
    "            FOREIGN KEY (project_id) REFERENCES projects (id)\n",
    "        );\n",
    "    \"\"\"\n",
    "\n",
    "    # create a database connection\n",
    "    conn = create_connection(database)\n",
    "\n",
    "    # create tables\n",
    "    if conn is not None:\n",
    "        # create projects table\n",
    "        create_table(conn, sql_create_projects_table)\n",
    "\n",
    "        # create tasks table\n",
    "        create_table(conn, sql_create_tasks_table)\n",
    "    else:\n",
    "        print(\"Error! cannot create the database connection.\")\n",
    "\n",
    "\n",
    "if __name__ == '__main__':\n",
    "    main()"
   ]
  },
  {
   "cell_type": "markdown",
   "id": "0595102a",
   "metadata": {},
   "source": [
    "Let’s verify if the program has created those tables successfully in the pythonsqlite.db database."
   ]
  },
  {
   "cell_type": "markdown",
   "id": "51faf3f6",
   "metadata": {},
   "source": [
    "# Insert values in table:"
   ]
  },
  {
   "cell_type": "markdown",
   "id": "52776609",
   "metadata": {},
   "source": [
    "**Summary: in this tutorial, you will learn how to insert rows into a table in the SQLite database from a Python program using the sqlite3 module.**\n",
    "\n",
    "To insert rows into a table in SQLite database, you use the following steps:\n",
    "\n",
    "1. First, connect to the SQLite database by creating a Connection object.\n",
    "2. Second, create a Cursor object by calling the cursor method of the Connection object.\n",
    "3. Third, execute an INSERT statement. If you want to pass arguments to the INSERT statement, you use the question mark (?) as the placeholder for each argument."
   ]
  },
  {
   "cell_type": "markdown",
   "id": "f7067eed",
   "metadata": {},
   "source": [
    "Let’s insert a new project into the projects table and some tasks into the tasks table that we created in the creating tables from a Python program tutorial.\n",
    "\n",
    "<img src=\"../img/Python-SQLite-Sample-Database.jpg\" alt=\"\">"
   ]
  },
  {
   "cell_type": "markdown",
   "id": "c7711ee2",
   "metadata": {},
   "source": [
    "Create a function to insert a new project into the projects table."
   ]
  },
  {
   "cell_type": "code",
   "execution_count": 5,
   "id": "1e1b2e76",
   "metadata": {},
   "outputs": [],
   "source": [
    "def create_project(conn, project):\n",
    "    \"\"\"\n",
    "    Create a new project into the projects table\n",
    "    :param conn:\n",
    "    :param project:\n",
    "    :return: project id\n",
    "    \"\"\"\n",
    "    sql = '''\n",
    "        INSERT INTO projects(name,begin_date,end_date)\n",
    "        VALUES(?,?,?)\n",
    "    '''\n",
    "    cur = conn.cursor()\n",
    "    cur.execute(sql, project)\n",
    "    conn.commit()\n",
    "    return cur.lastrowid"
   ]
  },
  {
   "cell_type": "markdown",
   "id": "be4d4ab4",
   "metadata": {},
   "source": [
    "In above function, we used the  lastrowid attribute of the Cursor object to get back the generated id."
   ]
  },
  {
   "cell_type": "markdown",
   "id": "3a6b495a",
   "metadata": {},
   "source": [
    "Then, create another function for inserting rows into the tasks table."
   ]
  },
  {
   "cell_type": "code",
   "execution_count": 6,
   "id": "5c197912",
   "metadata": {},
   "outputs": [],
   "source": [
    "def create_task(conn, task):\n",
    "    \"\"\"\n",
    "    Create a new task\n",
    "    :param conn:\n",
    "    :param task:\n",
    "    :return:\n",
    "    \"\"\"\n",
    "\n",
    "    sql = '''\n",
    "        INSERT INTO tasks(name,priority,status_id,project_id,begin_date,end_date)\n",
    "        VALUES(?,?,?,?,?,?)\n",
    "    '''\n",
    "    cur = conn.cursor()\n",
    "    cur.execute(sql, task)\n",
    "    conn.commit()\n",
    "    return cur.lastrowid"
   ]
  },
  {
   "cell_type": "markdown",
   "id": "79f4811a",
   "metadata": {},
   "source": [
    "After that, create the main() function that creates a new project and two tasks associated with the project."
   ]
  },
  {
   "cell_type": "code",
   "execution_count": 7,
   "id": "edcd19dd",
   "metadata": {},
   "outputs": [],
   "source": [
    "def main():\n",
    "    database = r\"pythonsqlite.db\"\n",
    "\n",
    "    # create a database connection\n",
    "    conn = create_connection(database)\n",
    "    with conn:\n",
    "        # create a new project\n",
    "        project = ('Cool App with SQLite & Python', '2015-01-01', '2015-01-30');\n",
    "        project_id = create_project(conn, project)\n",
    "\n",
    "        # tasks\n",
    "        task_1 = ('Analyze the requirements of the app', 1, 1, project_id, '2015-01-01', '2015-01-02')\n",
    "        task_2 = ('Confirm with user about the top requirements', 1, 1, project_id, '2015-01-03', '2015-01-05')\n",
    "\n",
    "        # create tasks\n",
    "        create_task(conn, task_1)\n",
    "        create_task(conn, task_2)\n",
    "\n",
    "\n",
    "if __name__ == '__main__':\n",
    "    main()"
   ]
  },
  {
   "cell_type": "markdown",
   "id": "12c8836f",
   "metadata": {},
   "source": [
    "# Update values of table: "
   ]
  },
  {
   "cell_type": "markdown",
   "id": "3cba4766",
   "metadata": {},
   "source": [
    "**Summary: in this tutorial, we will show you how to update data in the SQLite database from a Python program using the sqlite3 module.**\n",
    "\n",
    "To update data in a table from a Python program, you follow these steps:\n",
    "\n",
    "1. First, create a database connection to the SQLite database using the connect() function. Once the database connection created, you can access the database using the Connection object.\n",
    "2. Second, create a Cursor object by calling the cursor() method of the Connection object.\n",
    "3. Third, execute the UPDATE statement by calling the execute() method of the Cursor object.\n",
    "\n",
    "In this example we will update the priority, begin date, and end date of a specific task in the tasks table."
   ]
  },
  {
   "cell_type": "markdown",
   "id": "1caceacb",
   "metadata": {},
   "source": [
    "This update_task() function update a specific task:"
   ]
  },
  {
   "cell_type": "code",
   "execution_count": 8,
   "id": "1603f953",
   "metadata": {},
   "outputs": [],
   "source": [
    "def update_task(conn, task):\n",
    "    \"\"\"\n",
    "    update priority, begin_date, and end date of a task\n",
    "    :param conn:\n",
    "    :param task:\n",
    "    :return: project id\n",
    "    \"\"\"\n",
    "    sql = ''' \n",
    "        UPDATE tasks\n",
    "        SET \n",
    "            priority = ? ,\n",
    "            begin_date = ? ,\n",
    "            end_date = ?\n",
    "        WHERE id = ?\n",
    "    '''\n",
    "    cur = conn.cursor()\n",
    "    cur.execute(sql, task)\n",
    "    conn.commit()"
   ]
  },
  {
   "cell_type": "markdown",
   "id": "0fa3f0fd",
   "metadata": {},
   "source": [
    "The following main() function creates a connection to the database located in current folder  and call the update_task() function to update a task with id 2:"
   ]
  },
  {
   "cell_type": "code",
   "execution_count": 9,
   "id": "995246bb",
   "metadata": {},
   "outputs": [],
   "source": [
    "def main():\n",
    "    database = r\"pythonsqlite.db\"\n",
    "\n",
    "    # create a database connection\n",
    "    conn = create_connection(database)\n",
    "    with conn:\n",
    "        update_task(conn, (2, '2015-01-04', '2015-01-06', 2))\n",
    "\n",
    "\n",
    "if __name__ == '__main__':\n",
    "    main()"
   ]
  },
  {
   "cell_type": "markdown",
   "id": "2056920f",
   "metadata": {},
   "source": [
    "# SELECT records from table"
   ]
  },
  {
   "cell_type": "markdown",
   "id": "15131ef9",
   "metadata": {},
   "source": [
    "**Summary: in this tutorial, we will show you step by step how to query data in SQLite from Python.**\n",
    "\n",
    "To query data in an SQLite database from Python, you use these steps:\n",
    "\n",
    "1. First, establish a connection to the SQLite database by creating a Connection object.\n",
    "2. Next, create a Cursor object using the cursor method of the Connection object.\n",
    "3. Then, execute a  SELECT statement.\n",
    "4. After that, call the fetchall() method of the cursor object to fetch the data.\n",
    "5. Finally, loop the cursor and process each row individually.\n",
    "\n",
    "In the following example, we will use the tasks table created in the creating tables tutorial."
   ]
  },
  {
   "cell_type": "markdown",
   "id": "cea4fd1a",
   "metadata": {},
   "source": [
    "<img src=\"../img/Python-SQLite-Sample-Tables.png\" alt = \"table schema\"/>"
   ]
  },
  {
   "cell_type": "markdown",
   "id": "612bd63c",
   "metadata": {},
   "source": [
    "This function selects all rows from the tasks table and displays the data:"
   ]
  },
  {
   "cell_type": "code",
   "execution_count": 10,
   "id": "3b5f7d4b",
   "metadata": {},
   "outputs": [],
   "source": [
    "def select_all_tasks(conn):\n",
    "    \"\"\"\n",
    "    Query all rows in the tasks table\n",
    "    :param conn: the Connection object\n",
    "    :return:\n",
    "    \"\"\"\n",
    "    cur = conn.cursor()\n",
    "    cur.execute(\"SELECT * FROM tasks\")\n",
    "\n",
    "    rows = cur.fetchall()\n",
    "\n",
    "    for row in rows:\n",
    "        print(row)"
   ]
  },
  {
   "cell_type": "markdown",
   "id": "852d45e6",
   "metadata": {},
   "source": [
    "In the select_all_tasks() function, we created a cursor, executed the SELECT statement, and called the  fetchall() to fetch all tasks from the tasks table.\n",
    "\n",
    "This function query tasks by priority:"
   ]
  },
  {
   "cell_type": "code",
   "execution_count": 11,
   "id": "032b492f",
   "metadata": {},
   "outputs": [],
   "source": [
    "def select_task_by_priority(conn, priority):\n",
    "    \"\"\"\n",
    "    Query tasks by priority\n",
    "    :param conn: the Connection object\n",
    "    :param priority:\n",
    "    :return:\n",
    "    \"\"\"\n",
    "    cur = conn.cursor()\n",
    "    cur.execute(\"SELECT * FROM tasks WHERE priority=?\", (priority,))\n",
    "\n",
    "    rows = cur.fetchall()\n",
    "\n",
    "    for row in rows:\n",
    "        print(row)"
   ]
  },
  {
   "cell_type": "markdown",
   "id": "4285e29e",
   "metadata": {},
   "source": [
    "In the select_task_by_priority() function, we selected the tasks based on a particular priority. The question mark ( ?) in the query is the placeholder. When the cursor executed the SELECT statement, it substituted the question mark ( ?) by the priority argument. The  fetchall() method fetched all matching tasks by the priority.\n",
    "\n",
    "\n",
    "This main() function creates a connection to the database  pythonsqlite.db and calls the functions to query all rows from the tasks table and select tasks with priority 1:"
   ]
  },
  {
   "cell_type": "code",
   "execution_count": 12,
   "id": "80f0486c",
   "metadata": {},
   "outputs": [
    {
     "name": "stdout",
     "output_type": "stream",
     "text": [
      "1. Query task by priority:\n",
      "(1, 'Analyze the requirements of the app', 1, 1, 1, '2015-01-01', '2015-01-02')\n",
      "2. Query all tasks\n",
      "(1, 'Analyze the requirements of the app', 1, 1, 1, '2015-01-01', '2015-01-02')\n",
      "(2, 'Confirm with user about the top requirements', 2, 1, 1, '2015-01-04', '2015-01-06')\n"
     ]
    }
   ],
   "source": [
    "def main():\n",
    "    database = r\"pythonsqlite.db\"\n",
    "\n",
    "    # create a database connection\n",
    "    conn = create_connection(database)\n",
    "    with conn:\n",
    "        print(\"1. Query task by priority:\")\n",
    "        select_task_by_priority(conn, 1)\n",
    "\n",
    "        print(\"2. Query all tasks\")\n",
    "        select_all_tasks(conn)\n",
    "        \n",
    "if __name__ == '__main__':\n",
    "    main()"
   ]
  },
  {
   "cell_type": "markdown",
   "id": "9e6c8dca",
   "metadata": {},
   "source": [
    "# Delete record from table"
   ]
  },
  {
   "cell_type": "markdown",
   "id": "c3809faf",
   "metadata": {},
   "source": [
    "**Summary: this tutorial shows you how to delete data in the SQLite database from a Python program using the sqlite3 module.**\n",
    "\n",
    "In order to delete data in the SQLite database from a Python program, you use the following steps:\n",
    "\n",
    "1. First, establish a connection the SQLite database by creating a Connection object using the connect() function.\n",
    "2. Second, to execute a DELETE statement, you need to create a Cursor object using the cursor() method of the Connection object.\n",
    "3. Third, execute the  DELETE statement using the execute() method of the Cursor object. In case you want to pass the arguments to the statement, you use a question mark ( ?) for each argument."
   ]
  },
  {
   "cell_type": "markdown",
   "id": "b004b635",
   "metadata": {},
   "source": [
    "The following delete_task() function deletes a task in the tasks table by id."
   ]
  },
  {
   "cell_type": "code",
   "execution_count": 13,
   "id": "da97f4af",
   "metadata": {},
   "outputs": [],
   "source": [
    "def delete_task(conn, id):\n",
    "    \"\"\"\n",
    "    Delete a task by task id\n",
    "    :param conn:  Connection to the SQLite database\n",
    "    :param id: id of the task\n",
    "    :return:\n",
    "    \"\"\"\n",
    "    sql = 'DELETE FROM tasks WHERE id=?'\n",
    "    cur = conn.cursor()\n",
    "    cur.execute(sql, (id,))\n",
    "    conn.commit()"
   ]
  },
  {
   "cell_type": "markdown",
   "id": "d01fd952",
   "metadata": {},
   "source": [
    "The following delete_all_tasks() function deletes all rows in the tasks table."
   ]
  },
  {
   "cell_type": "code",
   "execution_count": 14,
   "id": "728b3890",
   "metadata": {},
   "outputs": [],
   "source": [
    "def delete_all_tasks(conn):\n",
    "    \"\"\"\n",
    "    Delete all rows in the tasks table\n",
    "    :param conn: Connection to the SQLite database\n",
    "    :return:\n",
    "    \"\"\"\n",
    "    sql = 'DELETE FROM tasks'\n",
    "    cur = conn.cursor()\n",
    "    cur.execute(sql)\n",
    "    conn.commit()"
   ]
  },
  {
   "cell_type": "markdown",
   "id": "a7867e93",
   "metadata": {},
   "source": [
    "This main() function calls the create_connection() function and the delete_task() function to delete the task with id 2 from the tasks table:"
   ]
  },
  {
   "cell_type": "code",
   "execution_count": 15,
   "id": "4bbc1096",
   "metadata": {},
   "outputs": [],
   "source": [
    "def main():\n",
    "    database = r\"pythonsqlite.db\"\n",
    "\n",
    "    # create a database connection\n",
    "    conn = create_connection(database)\n",
    "    with conn:\n",
    "        delete_task(conn, 2);\n",
    "        # delete_all_tasks(conn);\n",
    "\n",
    "\n",
    "if __name__ == '__main__':\n",
    "    main()"
   ]
  }
 ],
 "metadata": {
  "kernelspec": {
   "display_name": "Python 3 (ipykernel)",
   "language": "python",
   "name": "python3"
  },
  "language_info": {
   "codemirror_mode": {
    "name": "ipython",
    "version": 3
   },
   "file_extension": ".py",
   "mimetype": "text/x-python",
   "name": "python",
   "nbconvert_exporter": "python",
   "pygments_lexer": "ipython3",
   "version": "3.10.6"
  },
  "vscode": {
   "interpreter": {
    "hash": "6f25d5c3a0ec6cc2b1b3382b981de3847d662cebab4ce6edd3f7cc58272d6805"
   }
  }
 },
 "nbformat": 4,
 "nbformat_minor": 5
}
