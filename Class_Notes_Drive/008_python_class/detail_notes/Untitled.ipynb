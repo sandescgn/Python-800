{
 "cells": [
  {
   "cell_type": "code",
   "execution_count": 4,
   "id": "21eeb8e9",
   "metadata": {},
   "outputs": [
    {
     "name": "stdout",
     "output_type": "stream",
     "text": [
      "20\n",
      "2\n",
      "......................\n"
     ]
    },
    {
     "ename": "TypeError",
     "evalue": "'<' not supported between instances of 'str' and 'int'",
     "output_type": "error",
     "traceback": [
      "\u001b[0;31m---------------------------------------------------------------------------\u001b[0m",
      "\u001b[0;31mTypeError\u001b[0m                                 Traceback (most recent call last)",
      "Cell \u001b[0;32mIn [4], line 35\u001b[0m\n\u001b[1;32m     31\u001b[0m \u001b[38;5;28mprint\u001b[39m(r\u001b[38;5;241m.\u001b[39mlength_getter())\n\u001b[1;32m     33\u001b[0m \u001b[38;5;28mprint\u001b[39m(\u001b[38;5;124m'\u001b[39m\u001b[38;5;124m......................\u001b[39m\u001b[38;5;124m'\u001b[39m)\n\u001b[0;32m---> 35\u001b[0m \u001b[43mr\u001b[49m\u001b[38;5;241;43m.\u001b[39;49m\u001b[43mlength_setter\u001b[49m\u001b[43m(\u001b[49m\u001b[38;5;124;43m'\u001b[39;49m\u001b[38;5;124;43m4\u001b[39;49m\u001b[38;5;124;43m'\u001b[39;49m\u001b[43m)\u001b[49m\n\u001b[1;32m     36\u001b[0m \u001b[38;5;28mprint\u001b[39m(r\u001b[38;5;241m.\u001b[39marea())\n\u001b[1;32m     37\u001b[0m \u001b[38;5;28mprint\u001b[39m(r\u001b[38;5;241m.\u001b[39mlength_getter())\n",
      "Cell \u001b[0;32mIn [4], line 17\u001b[0m, in \u001b[0;36mRectange.length_setter\u001b[0;34m(self, length)\u001b[0m\n\u001b[1;32m     16\u001b[0m \u001b[38;5;28;01mdef\u001b[39;00m \u001b[38;5;21mlength_setter\u001b[39m(\u001b[38;5;28mself\u001b[39m, length): \n\u001b[0;32m---> 17\u001b[0m     \u001b[38;5;28;01mif\u001b[39;00m \u001b[43mlength\u001b[49m\u001b[43m \u001b[49m\u001b[38;5;241;43m<\u001b[39;49m\u001b[43m \u001b[49m\u001b[38;5;241;43m0\u001b[39;49m:\n\u001b[1;32m     18\u001b[0m         \u001b[38;5;28;01mraise\u001b[39;00m RectangleException(\u001b[38;5;124m\"\u001b[39m\u001b[38;5;124mCannot assign negative length.\u001b[39m\u001b[38;5;124m\"\u001b[39m)\n\u001b[1;32m     19\u001b[0m     \u001b[38;5;28mprint\u001b[39m(\u001b[38;5;28misinstance\u001b[39m(length, \u001b[38;5;28mint\u001b[39m))\n",
      "\u001b[0;31mTypeError\u001b[0m: '<' not supported between instances of 'str' and 'int'"
     ]
    }
   ],
   "source": [
    "class RectangleException(Exception):\n",
    "    pass\n",
    "\n",
    "class Rectange:\n",
    "    \n",
    "    def __init__(self, length, breadth):\n",
    "        self.__length = length # private attribute\n",
    "        self.__breadth = breadth\n",
    "    \n",
    "    def area(self): # public method\n",
    "        return self.__length * self.__breadth\n",
    "    \n",
    "    def perimeter(self):\n",
    "        return 2 * (self.__length + self.__breadth)\n",
    "    \n",
    "    def length_setter(self, length): \n",
    "        if length < 0:\n",
    "            raise RectangleException(\"Cannot assign negative length.\")\n",
    "        print(isinstance(length, int))\n",
    "        if not isinstance(length, (int, float)):\n",
    "            raise ValueError(\"Datatype error\")\n",
    "        self.__length = length\n",
    "    \n",
    "    def length_getter(self):\n",
    "        return self.__length\n",
    "        \n",
    "        \n",
    "        \n",
    "r = Rectange(2, 10)\n",
    "print(r.area())\n",
    "print(r.length_getter())\n",
    "\n",
    "print('......................')\n",
    "\n",
    "r.length_setter('4')\n",
    "print(r.area())\n",
    "print(r.length_getter())"
   ]
  },
  {
   "cell_type": "code",
   "execution_count": null,
   "id": "17183c41",
   "metadata": {},
   "outputs": [],
   "source": []
  }
 ],
 "metadata": {
  "kernelspec": {
   "display_name": "Python 3 (ipykernel)",
   "language": "python",
   "name": "python3"
  },
  "language_info": {
   "codemirror_mode": {
    "name": "ipython",
    "version": 3
   },
   "file_extension": ".py",
   "mimetype": "text/x-python",
   "name": "python",
   "nbconvert_exporter": "python",
   "pygments_lexer": "ipython3",
   "version": "3.10.6"
  }
 },
 "nbformat": 4,
 "nbformat_minor": 5
}
