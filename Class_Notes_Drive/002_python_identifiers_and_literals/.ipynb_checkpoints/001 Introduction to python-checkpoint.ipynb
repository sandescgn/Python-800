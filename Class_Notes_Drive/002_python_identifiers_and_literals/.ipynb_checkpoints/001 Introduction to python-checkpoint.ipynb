{
 "cells": [
  {
   "cell_type": "code",
   "execution_count": 1,
   "id": "a1da8ea7",
   "metadata": {},
   "outputs": [
    {
     "name": "stdout",
     "output_type": "stream",
     "text": [
      "3\n"
     ]
    }
   ],
   "source": [
    "x = 1 # variable => number => integer datatype / datastructure\n",
    "y = 2 # variable => number => integer datatype / datastructure\n",
    "\n",
    "sum = x + y # variable => addition\n",
    "\n",
    "print(sum)"
   ]
  },
  {
   "cell_type": "code",
   "execution_count": 2,
   "id": "2a95b7e9",
   "metadata": {},
   "outputs": [
    {
     "name": "stdout",
     "output_type": "stream",
     "text": [
      "rameshpradhan\n"
     ]
    }
   ],
   "source": [
    "first_name = \"ramesh\" # string data type\n",
    "last_name = \"pradhan\" # string data type\n",
    "\n",
    "full_name = first_name + last_name # concatenation\n",
    "\n",
    "print(full_name)"
   ]
  },
  {
   "cell_type": "code",
   "execution_count": 3,
   "id": "4fd64965",
   "metadata": {},
   "outputs": [
    {
     "ename": "SyntaxError",
     "evalue": "invalid syntax (3983927147.py, line 1)",
     "output_type": "error",
     "traceback": [
      "\u001b[0;36m  Cell \u001b[0;32mIn[3], line 1\u001b[0;36m\u001b[0m\n\u001b[0;31m    if = '1'\u001b[0m\n\u001b[0m       ^\u001b[0m\n\u001b[0;31mSyntaxError\u001b[0m\u001b[0;31m:\u001b[0m invalid syntax\n"
     ]
    }
   ],
   "source": [
    "if = '1'\n",
    "yield = 2"
   ]
  },
  {
   "cell_type": "code",
   "execution_count": 4,
   "id": "43e3acdc",
   "metadata": {},
   "outputs": [
    {
     "ename": "NameError",
     "evalue": "name 'X' is not defined",
     "output_type": "error",
     "traceback": [
      "\u001b[0;31m---------------------------------------------------------------------------\u001b[0m",
      "\u001b[0;31mNameError\u001b[0m                                 Traceback (most recent call last)",
      "Cell \u001b[0;32mIn[4], line 3\u001b[0m\n\u001b[1;32m      1\u001b[0m x \u001b[38;5;241m=\u001b[39m \u001b[38;5;241m1\u001b[39m\n\u001b[0;32m----> 3\u001b[0m \u001b[38;5;28mprint\u001b[39m(\u001b[43mX\u001b[49m)\n",
      "\u001b[0;31mNameError\u001b[0m: name 'X' is not defined"
     ]
    }
   ],
   "source": [
    "x = 1\n",
    "\n",
    "print(X) # case sensitive"
   ]
  },
  {
   "cell_type": "code",
   "execution_count": 5,
   "id": "42398e16",
   "metadata": {},
   "outputs": [
    {
     "ename": "SyntaxError",
     "evalue": "invalid decimal literal (1861348455.py, line 1)",
     "output_type": "error",
     "traceback": [
      "\u001b[0;36m  Cell \u001b[0;32mIn[5], line 1\u001b[0;36m\u001b[0m\n\u001b[0;31m    22x = 'ramesh'\u001b[0m\n\u001b[0m     ^\u001b[0m\n\u001b[0;31mSyntaxError\u001b[0m\u001b[0;31m:\u001b[0m invalid decimal literal\n"
     ]
    }
   ],
   "source": [
    "22x = 'ramesh'"
   ]
  },
  {
   "cell_type": "code",
   "execution_count": 6,
   "id": "2605cfb3",
   "metadata": {},
   "outputs": [
    {
     "ename": "SyntaxError",
     "evalue": "invalid syntax (1564582141.py, line 1)",
     "output_type": "error",
     "traceback": [
      "\u001b[0;36m  Cell \u001b[0;32mIn[6], line 1\u001b[0;36m\u001b[0m\n\u001b[0;31m    first name = \"ramesh\" # string data type\u001b[0m\n\u001b[0m          ^\u001b[0m\n\u001b[0;31mSyntaxError\u001b[0m\u001b[0;31m:\u001b[0m invalid syntax\n"
     ]
    }
   ],
   "source": [
    "first name = \"ramesh\" # string data type\n"
   ]
  },
  {
   "cell_type": "code",
   "execution_count": 7,
   "id": "746d4fe0",
   "metadata": {},
   "outputs": [],
   "source": [
    "Ramesh_Pradha12h = 'hello9'"
   ]
  },
  {
   "cell_type": "code",
   "execution_count": 8,
   "id": "c0ab8dca",
   "metadata": {},
   "outputs": [],
   "source": [
    "__Helo_world = 'h'"
   ]
  },
  {
   "cell_type": "code",
   "execution_count": 9,
   "id": "2ccb6a77",
   "metadata": {},
   "outputs": [
    {
     "ename": "SyntaxError",
     "evalue": "invalid syntax (2750018845.py, line 1)",
     "output_type": "error",
     "traceback": [
      "\u001b[0;36m  Cell \u001b[0;32mIn[9], line 1\u001b[0;36m\u001b[0m\n\u001b[0;31m    he!23 = 32\u001b[0m\n\u001b[0m      ^\u001b[0m\n\u001b[0;31mSyntaxError\u001b[0m\u001b[0;31m:\u001b[0m invalid syntax\n"
     ]
    }
   ],
   "source": [
    "he!23 = 32"
   ]
  },
  {
   "cell_type": "code",
   "execution_count": 11,
   "id": "af989e77",
   "metadata": {},
   "outputs": [],
   "source": [
    "HELLO_RODL='32'"
   ]
  },
  {
   "cell_type": "code",
   "execution_count": 14,
   "id": "6fc19d2e",
   "metadata": {},
   "outputs": [],
   "source": [
    "x = 1+3+3+5+8+1+3+3+5+8+1+3+3+5+8+1+\\\n",
    "3+3+5+8+1+3+3+5+8+1+3+3+5+8+1+3+3+5+\\\n",
    "8+1+3+3+5+8+1+3+3+5+8"
   ]
  },
  {
   "cell_type": "code",
   "execution_count": 15,
   "id": "5abd1379",
   "metadata": {},
   "outputs": [
    {
     "name": "stdout",
     "output_type": "stream",
     "text": [
      "180\n"
     ]
    }
   ],
   "source": [
    "print(x)"
   ]
  },
  {
   "cell_type": "code",
   "execution_count": 16,
   "id": "ad8000e4",
   "metadata": {},
   "outputs": [
    {
     "name": "stdout",
     "output_type": "stream",
     "text": [
      "180\n"
     ]
    }
   ],
   "source": [
    "x = (1+3+3+5+8+1+3+3+5+8+1+3+3+5+8+1+\n",
    "     3+3+5+8+1+3+3+5+8+1+3+3+5+8+1+3+3+5+\n",
    "     8+1+3+3+5+8+1+3+3+5+8)\n",
    "print(x)"
   ]
  },
  {
   "cell_type": "code",
   "execution_count": 17,
   "id": "fb879c61",
   "metadata": {},
   "outputs": [
    {
     "name": "stdout",
     "output_type": "stream",
     "text": [
      "Unauthorized\n"
     ]
    }
   ],
   "source": [
    "age = 17\n",
    "\n",
    "if age < 18:\n",
    "    print(\"Unauthorized\") # tab => 4 spaces"
   ]
  },
  {
   "cell_type": "code",
   "execution_count": 18,
   "id": "d406c093",
   "metadata": {},
   "outputs": [
    {
     "ename": "IndentationError",
     "evalue": "expected an indented block after 'if' statement on line 3 (1386160923.py, line 4)",
     "output_type": "error",
     "traceback": [
      "\u001b[0;36m  Cell \u001b[0;32mIn[18], line 4\u001b[0;36m\u001b[0m\n\u001b[0;31m    print(\"Unauthorized\") # tab => 4 spaces\u001b[0m\n\u001b[0m    ^\u001b[0m\n\u001b[0;31mIndentationError\u001b[0m\u001b[0;31m:\u001b[0m expected an indented block after 'if' statement on line 3\n"
     ]
    }
   ],
   "source": [
    "age = 17\n",
    "\n",
    "if age < 18:\n",
    "print(\"Unauthorized\") # tab => 4 spaces"
   ]
  },
  {
   "cell_type": "code",
   "execution_count": 25,
   "id": "18173056",
   "metadata": {},
   "outputs": [],
   "source": [
    "def hello_world():\n",
    "    \"\"\"This function prints hello world...\"\"\" # docstring => documentation string\n",
    "    # hellow ordl 2132k4h23h4kjesfhakjsdhfkj # => comment\n",
    "    print(\"Hello world\")"
   ]
  },
  {
   "cell_type": "code",
   "execution_count": 26,
   "id": "af857f54",
   "metadata": {},
   "outputs": [
    {
     "name": "stdout",
     "output_type": "stream",
     "text": [
      "Hello world\n"
     ]
    }
   ],
   "source": [
    "hello_world()"
   ]
  },
  {
   "cell_type": "code",
   "execution_count": 27,
   "id": "cf5b5838",
   "metadata": {},
   "outputs": [
    {
     "name": "stdout",
     "output_type": "stream",
     "text": [
      "Help on function hello_world in module __main__:\n",
      "\n",
      "hello_world()\n",
      "    This function prints hello world...\n",
      "\n"
     ]
    }
   ],
   "source": [
    "help(hello_world)"
   ]
  },
  {
   "cell_type": "code",
   "execution_count": 28,
   "id": "4207ab8e",
   "metadata": {},
   "outputs": [],
   "source": [
    "x =1\n",
    "y= 2\n",
    "z = 4"
   ]
  },
  {
   "cell_type": "code",
   "execution_count": 29,
   "id": "d6a99bee",
   "metadata": {},
   "outputs": [],
   "source": [
    "x, y, z = 1,2,4"
   ]
  },
  {
   "cell_type": "code",
   "execution_count": 30,
   "id": "76237add",
   "metadata": {},
   "outputs": [
    {
     "name": "stdout",
     "output_type": "stream",
     "text": [
      "1 2 4\n"
     ]
    }
   ],
   "source": [
    "print(x,y,z)"
   ]
  },
  {
   "cell_type": "code",
   "execution_count": 31,
   "id": "4722efbc",
   "metadata": {},
   "outputs": [
    {
     "name": "stdout",
     "output_type": "stream",
     "text": [
      "1 2 4\n"
     ]
    }
   ],
   "source": [
    "x =1;y= 2;z = 4\n",
    "print(x,y,z)"
   ]
  },
  {
   "cell_type": "code",
   "execution_count": 32,
   "id": "ea3badb9",
   "metadata": {},
   "outputs": [],
   "source": [
    "a=2\n",
    "b=2\n",
    "c=2"
   ]
  },
  {
   "cell_type": "code",
   "execution_count": 33,
   "id": "6120d03e",
   "metadata": {},
   "outputs": [],
   "source": [
    "a=b=c=2"
   ]
  },
  {
   "cell_type": "code",
   "execution_count": 34,
   "id": "17e8ac92",
   "metadata": {},
   "outputs": [],
   "source": [
    "gravity = 9.8 # varaible"
   ]
  },
  {
   "cell_type": "code",
   "execution_count": 35,
   "id": "6e512ccf",
   "metadata": {},
   "outputs": [],
   "source": [
    "GRAVITY = 9.8 # constant\n",
    "PI = 3.14 # constant"
   ]
  },
  {
   "cell_type": "code",
   "execution_count": 36,
   "id": "8cb84d51",
   "metadata": {},
   "outputs": [],
   "source": [
    "GRAVITY =9.8"
   ]
  },
  {
   "cell_type": "code",
   "execution_count": 37,
   "id": "3bcfbb60",
   "metadata": {},
   "outputs": [
    {
     "name": "stdout",
     "output_type": "stream",
     "text": [
      "9.8\n"
     ]
    }
   ],
   "source": [
    "print(GRAVITY)"
   ]
  },
  {
   "cell_type": "code",
   "execution_count": 38,
   "id": "97e4286f",
   "metadata": {},
   "outputs": [],
   "source": [
    "GRAVITY = 'hello' # dynamically typed language"
   ]
  },
  {
   "cell_type": "code",
   "execution_count": 39,
   "id": "10a91bbf",
   "metadata": {},
   "outputs": [
    {
     "name": "stdout",
     "output_type": "stream",
     "text": [
      "hello\n"
     ]
    }
   ],
   "source": [
    "print(GRAVITY)"
   ]
  },
  {
   "cell_type": "code",
   "execution_count": null,
   "id": "ae38e873",
   "metadata": {},
   "outputs": [],
   "source": [
    "# c , c++, java => compilled / statically typed language\n",
    "float gravity = 9.8 # statically type\n",
    "printf(gravity)"
   ]
  },
  {
   "cell_type": "code",
   "execution_count": 40,
   "id": "080df5a5",
   "metadata": {},
   "outputs": [
    {
     "name": "stdout",
     "output_type": "stream",
     "text": [
      "9.8\n"
     ]
    }
   ],
   "source": [
    "asdhfkadsasdfadsfd = 9.8\n",
    "print(asdhfkadsasdfadsfd)"
   ]
  },
  {
   "cell_type": "code",
   "execution_count": 41,
   "id": "2002a8c4",
   "metadata": {},
   "outputs": [],
   "source": [
    "gravity = 9.8"
   ]
  },
  {
   "cell_type": "code",
   "execution_count": 42,
   "id": "4ce697e7",
   "metadata": {},
   "outputs": [],
   "source": [
    "gravity_of_earth = 9.8"
   ]
  },
  {
   "cell_type": "code",
   "execution_count": 43,
   "id": "5abc308f",
   "metadata": {},
   "outputs": [],
   "source": [
    "g = 9.8"
   ]
  },
  {
   "cell_type": "code",
   "execution_count": 44,
   "id": "b182c977",
   "metadata": {},
   "outputs": [],
   "source": [
    "# variable, function name => lower_case\n",
    "# class name => PascalCase"
   ]
  },
  {
   "cell_type": "code",
   "execution_count": 48,
   "id": "6da35bf7",
   "metadata": {},
   "outputs": [
    {
     "name": "stdout",
     "output_type": "stream",
     "text": [
      "10.5\n",
      "150.0\n",
      "<class 'float'>\n"
     ]
    }
   ],
   "source": [
    "float_1 = 10.5 \n",
    "float_2 = 1.5e2\n",
    "\n",
    "print(float_1)\n",
    "print(float_2)\n",
    "\n",
    "print(type(float_1))"
   ]
  },
  {
   "cell_type": "code",
   "execution_count": 49,
   "id": "57be5f71",
   "metadata": {},
   "outputs": [
    {
     "name": "stdout",
     "output_type": "stream",
     "text": [
      "3.14j\n",
      "<class 'complex'>\n"
     ]
    }
   ],
   "source": [
    "x = 3.14j\n",
    "print(x)\n",
    "print(type(x))"
   ]
  },
  {
   "cell_type": "code",
   "execution_count": 50,
   "id": "d43b1962",
   "metadata": {},
   "outputs": [
    {
     "name": "stdout",
     "output_type": "stream",
     "text": [
      "<class 'int'>\n"
     ]
    }
   ],
   "source": [
    "x = 1\n",
    "print(type(x))"
   ]
  },
  {
   "cell_type": "code",
   "execution_count": null,
   "id": "bf8899c1",
   "metadata": {},
   "outputs": [],
   "source": [
    "# binary => 0, 1 => computer => 2 digits\n",
    "# octal = > 0..7 => 8 digits\n",
    "# hexadecimal => 0..9, a-f => 16 digits\n",
    "# decimal => 0...9 => 10 digits"
   ]
  }
 ],
 "metadata": {
  "kernelspec": {
   "display_name": "Python 3 (ipykernel)",
   "language": "python",
   "name": "python3"
  },
  "language_info": {
   "codemirror_mode": {
    "name": "ipython",
    "version": 3
   },
   "file_extension": ".py",
   "mimetype": "text/x-python",
   "name": "python",
   "nbconvert_exporter": "python",
   "pygments_lexer": "ipython3",
   "version": "3.11.1"
  }
 },
 "nbformat": 4,
 "nbformat_minor": 5
}
