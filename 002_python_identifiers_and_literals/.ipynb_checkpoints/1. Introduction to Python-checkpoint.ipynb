{
 "cells": [
  {
   "cell_type": "markdown",
   "id": "d85fac5f",
   "metadata": {},
   "source": [
    "# Python Keywords\n",
    "* **Reserved** words in Python\n",
    "* cannot use a keyword as a **variable** name, **function** name or any other identifier\n",
    "* define the **syntax** and **structure**\n",
    "* case **sensitive**.\n",
    "* **35** keywords in 3.10.x"
   ]
  },
  {
   "cell_type": "code",
   "execution_count": null,
   "id": "d99d52c2",
   "metadata": {},
   "outputs": [],
   "source": [
    "    False      await      else       import     pass   \n",
    "    None       break      except     in         raise\n",
    "    True       class      finally    is         return\n",
    "    and        continue   for        lambda     try\n",
    "    as         def        from       nonlocal   while\n",
    "    assert     del        global     not        with\n",
    "    async      elif       if         or         yield"
   ]
  },
  {
   "cell_type": "markdown",
   "id": "2c4e1fb3",
   "metadata": {},
   "source": [
    "# Python Identifiers\n",
    "\n",
    "* **Name** given to entities :\n",
    "* **class**, **functions**, **variables**, etc"
   ]
  },
  {
   "cell_type": "markdown",
   "id": "9c4665d7",
   "metadata": {},
   "source": [
    "###### Valid identifiers"
   ]
  },
  {
   "cell_type": "code",
   "execution_count": null,
   "id": "a2863257",
   "metadata": {},
   "outputs": [],
   "source": [
    "    x = 100               def lower_case(): …                       class MyClass: …\n",
    "        \n",
    "    name = “Info”         AdDreSseS= [“kathmandu”, “lalitpur”]      _person = {\"name\":\"Ram\", \"address\": \"ktm\"}\n",
    "\n",
    "    aaa=(‘x’,”y”)         Var1 = 22.5                               PI = 3.14"
   ]
  },
  {
   "cell_type": "markdown",
   "id": "1a813e90",
   "metadata": {},
   "source": [
    "### Rules for writing identifiers\n",
    "1. lowercase (a to z) or uppercase (A to Z) or digits (0 to 9) or an underscore _ <br>\n",
    "        eg. myVar, var_1 and test_variable, var1, _var ✅\n",
    "2. cannot start with a digit. <br>\n",
    "        eg. 1var ❌\n",
    "3. Keywords cannot be used as identifiers. <br>\n",
    "        eg. for = 1 ❌\n",
    "4. cannot use special symbols like !, @, <br>\n",
    "        eg. a@ = 100 ❌\n",
    "5. can be of any length. <br>\n",
    "        jlkdsahf_sdhfjsdh_sdjkhfsd_sdfhsdkh_sdfhsdkj_ ✅"
   ]
  },
  {
   "cell_type": "markdown",
   "id": "d5d12221",
   "metadata": {},
   "source": [
    "# Python Statement\n",
    "* Instruction that can be executed by Python"
   ]
  },
  {
   "cell_type": "markdown",
   "id": "02a69e8c",
   "metadata": {},
   "source": [
    "### Example:"
   ]
  },
  {
   "cell_type": "code",
   "execution_count": null,
   "id": "757a427a",
   "metadata": {},
   "outputs": [],
   "source": [
    "    a = 1                   if True: ...            for i in range(10): ...          x = 1 + 2\n",
    "            \n",
    "            \n",
    "    s = 1 + 2 + 3 + \\       y = ( 5 + 7 * 8 +       a = 1; b = 2; c = 3\n",
    "        4 + 5 + 6 + \\           9 / 2 - 7 *\n",
    "        7 + 8 + 9               100 + 1)"
   ]
  },
  {
   "cell_type": "markdown",
   "id": "24ffb3af",
   "metadata": {},
   "source": [
    "# Python Indentation\n",
    "* C, C++, and Java use braces { }\n",
    "* Python, however, uses indentation"
   ]
  },
  {
   "cell_type": "markdown",
   "id": "ea2c3ea4",
   "metadata": {},
   "source": [
    "### Example"
   ]
  },
  {
   "cell_type": "code",
   "execution_count": null,
   "id": "d0ee408b",
   "metadata": {},
   "outputs": [],
   "source": [
    "age = 17\n",
    "\n",
    "if age < 18:\n",
    "    print(\"Unauthorized\") # indentation"
   ]
  },
  {
   "cell_type": "markdown",
   "id": "6152a45e",
   "metadata": {},
   "source": [
    "# Python Comments\n",
    "* describe what is going on inside a program\n",
    "* hash (#) symbol is used"
   ]
  },
  {
   "cell_type": "markdown",
   "id": "f1160a1a",
   "metadata": {},
   "source": [
    "### Example"
   ]
  },
  {
   "cell_type": "code",
   "execution_count": null,
   "id": "95c045f1",
   "metadata": {},
   "outputs": [],
   "source": [
    "# This is a comment\n",
    "# print out Hello world\n",
    "print('Hello world')"
   ]
  },
  {
   "cell_type": "markdown",
   "id": "d3e0e389",
   "metadata": {},
   "source": [
    "# Python Docstrings\n",
    "* documentation string\n",
    "* appear right after the definition of a function, method, class, or module."
   ]
  },
  {
   "cell_type": "markdown",
   "id": "7b5148f7",
   "metadata": {},
   "source": [
    "### Example"
   ]
  },
  {
   "cell_type": "code",
   "execution_count": null,
   "id": "4a9efaa7",
   "metadata": {},
   "outputs": [],
   "source": [
    "def square(num):\n",
    "    \"\"\"Function to find square of the value\"\"\"\n",
    "    return num**2"
   ]
  },
  {
   "cell_type": "markdown",
   "id": "6fe2d984",
   "metadata": {},
   "source": [
    "# Python Variables\n",
    "* container that holds value\n",
    "* named location used to store data in the memory"
   ]
  },
  {
   "cell_type": "markdown",
   "id": "9d95ba0c",
   "metadata": {},
   "source": [
    "### Example"
   ]
  },
  {
   "cell_type": "code",
   "execution_count": null,
   "id": "e489d14d",
   "metadata": {},
   "outputs": [],
   "source": [
    "country = \"Nepal\" # string\n",
    "number = 1 # integer\n",
    "f_number = 1.5 # float\n",
    "c_number = 1 + 6j # complex \n",
    "x, y, z = 1, 2.5, \"Python\"\n",
    "a = b = c = \"test\""
   ]
  },
  {
   "cell_type": "markdown",
   "id": "c09da1be",
   "metadata": {},
   "source": [
    "# Constant\n",
    "* variable whose value cannot be changed\n",
    "* written in all capital letters and underscores separating the words."
   ]
  },
  {
   "cell_type": "markdown",
   "id": "1963ff61",
   "metadata": {},
   "source": [
    "### Example"
   ]
  },
  {
   "cell_type": "code",
   "execution_count": 1,
   "id": "44917e73",
   "metadata": {},
   "outputs": [],
   "source": [
    "PI = 3.14\n",
    "GRAVITY = 9.8"
   ]
  },
  {
   "cell_type": "markdown",
   "id": "ca752f35",
   "metadata": {},
   "source": [
    "# Rules and Naming Convention for Variables and constants\n",
    "1. Constant and variable names should have a combination of letters in lowercase (a to z) or uppercase (A to Z) or digits (0 to 9) or an underscore (_). \n",
    "\n",
    "    For example: \n",
    "\n",
    "    ```python\n",
    "    snake_case=1\n",
    "    MACRO_CASE=3.2\n",
    "    camelCase=\"test\n",
    "    CapWords=\"HELLO\"\n",
    "    ```\n",
    "            \n",
    "2. Create a name that makes sense. <br>\n",
    "    \n",
    "    For example:\n",
    "  **radius** makes more sense than r. <br>\n",
    "\n",
    "\n",
    "3. If you want to create a variable name having two words, use underscore to separate them. For example:\n",
    "    ```python\n",
    "    my_name\n",
    "    current_salary\n",
    "    ```\n",
    "4. Use capital letters possible to declare a constant. For example: <br>\n",
    "    ```python\n",
    "    PI=3.14\n",
    "    GRAVITY=9.8\n",
    "    MASS=66\n",
    "    SPEED_OF_LIGHT=3.14e16\n",
    "    TEMP=17\n",
    "    ```\n",
    "5. Never use special symbols like !, @, #, $, %, etc. <br>\n",
    "\n",
    "\n",
    "6. Don't start a variable name with a digit."
   ]
  },
  {
   "cell_type": "markdown",
   "id": "41ce61dc",
   "metadata": {},
   "source": [
    "# Literals\n",
    "* raw data given in a variable or constant"
   ]
  },
  {
   "cell_type": "markdown",
   "id": "f2c49ce3",
   "metadata": {},
   "source": [
    "## Numeric Literals\n",
    "* are immutable (unchangeable)\n",
    "* Integer, Float, and Complex"
   ]
  },
  {
   "cell_type": "markdown",
   "id": "a9c1b2e8",
   "metadata": {},
   "source": [
    "### Example"
   ]
  },
  {
   "cell_type": "code",
   "execution_count": 1,
   "id": "de846afa",
   "metadata": {},
   "outputs": [
    {
     "name": "stdout",
     "output_type": "stream",
     "text": [
      "10 100 200 4813\n",
      "10.5 150.0\n",
      "3.14j 3.14 0.0\n"
     ]
    }
   ],
   "source": [
    "a = 0b1010 # Binary Literals => 2 digits 0,1 \n",
    "b = 100 # Decimal Literal => 10 digits 0-9\n",
    "c = 0o310 # Octal Literal => 8 digit 0-7\n",
    "d = 0x12cd # Hexadecimal Literal => 16 digit 0-9 a-f\n",
    "\n",
    "# Float Literal\n",
    "float_1 = 10.5 \n",
    "float_2 = 1.5e2\n",
    "\n",
    "# Complex Literal \n",
    "x = 3.14j\n",
    "\n",
    "print(a, b, c, d)\n",
    "print(float_1, float_2)\n",
    "print(x, x.imag, x.real)"
   ]
  },
  {
   "cell_type": "markdown",
   "id": "3241b74b",
   "metadata": {},
   "source": [
    "Output:\n",
    "\n",
    "```python\n",
    "10 100 200 300\n",
    "10.5 150.0\n",
    "3.14j 3.14 0.0 \n",
    "```"
   ]
  },
  {
   "cell_type": "markdown",
   "id": "6a3b18a1",
   "metadata": {},
   "source": [
    "# String literals\n",
    "* sequence of characters surrounded by quotes\n",
    "* can use both single, double, or triple quotes"
   ]
  },
  {
   "cell_type": "markdown",
   "id": "76e3d34a",
   "metadata": {},
   "source": [
    "### Example"
   ]
  },
  {
   "cell_type": "code",
   "execution_count": null,
   "id": "1c3325d2",
   "metadata": {},
   "outputs": [],
   "source": [
    "strings = \"This is Python\"\n",
    "char = \"C\"\n",
    "multiline_str = \"\"\"This is a multiline string with more than one line code.\"\"\"\n",
    "unicode = u\"\\u00dcnic\\u00f6de\"\n",
    "raw_str = r\"raw \\n string\"\n",
    "\n",
    "print(strings)\n",
    "print(char)\n",
    "print(multiline_str)\n",
    "print(unicode)\n",
    "print(raw_str)\n"
   ]
  },
  {
   "cell_type": "markdown",
   "id": "173ec18e",
   "metadata": {},
   "source": [
    "Output:\n",
    "\n",
    "```python\n",
    "This is Python\n",
    "C\n",
    "This is a multiline string with more than one line code.\n",
    "Ünicöde\n",
    "raw \\n string\n",
    "```"
   ]
  },
  {
   "cell_type": "markdown",
   "id": "02c14c08",
   "metadata": {},
   "source": [
    "# Boolean literals\n",
    "* True or False"
   ]
  },
  {
   "cell_type": "markdown",
   "id": "48a14855",
   "metadata": {},
   "source": [
    "### Example"
   ]
  },
  {
   "cell_type": "code",
   "execution_count": null,
   "id": "518d4c2b",
   "metadata": {},
   "outputs": [],
   "source": [
    "x = (1 == True)\n",
    "y = (1 == False)\n",
    "a = True + 4\n",
    "b = False + 10\n",
    "\n",
    "print(\"x is\", x)\n",
    "print(\"y is\", y)\n",
    "print(\"a:\", a)\n",
    "print(\"b:\", b)\n"
   ]
  },
  {
   "cell_type": "markdown",
   "id": "bfc73ef1",
   "metadata": {},
   "source": [
    "Output\n",
    "```python\n",
    "x is True\n",
    "y is False\n",
    "a: 5\n",
    "b: 10\n",
    "```"
   ]
  },
  {
   "cell_type": "markdown",
   "id": "42fc0412",
   "metadata": {},
   "source": [
    "# Special literals\n",
    "* None"
   ]
  },
  {
   "cell_type": "markdown",
   "id": "94d230f1",
   "metadata": {},
   "source": [
    "### Example"
   ]
  },
  {
   "cell_type": "code",
   "execution_count": null,
   "id": "861b7a0d",
   "metadata": {},
   "outputs": [],
   "source": [
    "drink = \"Available\"\n",
    "food = None\n",
    "\n",
    "def menu(x):\n",
    "    if x == drink:\n",
    "        print(drink)\n",
    "    else:\n",
    "        print(food)\n",
    "\n",
    "menu(drink)\n",
    "menu(food)\n"
   ]
  },
  {
   "cell_type": "markdown",
   "id": "77c40729",
   "metadata": {},
   "source": [
    "Output:\n",
    "```python\n",
    "Available\n",
    "None\n",
    "```"
   ]
  },
  {
   "cell_type": "markdown",
   "id": "57832a09",
   "metadata": {},
   "source": [
    "# Literal Collections\n",
    "* four different literal collections\n",
    "* List literals, Tuple literals, Dict literals, and Set literals."
   ]
  },
  {
   "cell_type": "markdown",
   "id": "7e6222e1",
   "metadata": {},
   "source": [
    "### Example"
   ]
  },
  {
   "cell_type": "code",
   "execution_count": null,
   "id": "e15c33ce",
   "metadata": {},
   "outputs": [],
   "source": [
    "fruits = [\"apple\", \"mango\", \"orange\"] #list\n",
    "numbers = (1, 2, 3) #tuple\n",
    "alphabets = {'a':'apple', 'b':'ball', 'c':'cat'} #dictionary\n",
    "vowels = {'a', 'e', 'i' , 'o', 'u'} #set\n",
    "\n",
    "print(fruits)\n",
    "print(numbers)\n",
    "print(alphabets)\n",
    "print(vowels)\n"
   ]
  },
  {
   "cell_type": "markdown",
   "id": "0fbddc65",
   "metadata": {},
   "source": [
    "Output:\n",
    "```python\n",
    "['apple', 'mango', 'orange']\n",
    "(1, 2, 3)\n",
    "{'a': 'apple', 'b': 'ball', 'c': 'cat'}\n",
    "{'e', 'a', 'o', 'i', 'u'}\n",
    "```"
   ]
  },
  {
   "cell_type": "markdown",
   "id": "286e9b2f",
   "metadata": {},
   "source": [
    "# Python Data Types\n",
    "* Every value in Python has a datatype.\n",
    "* Everything is an object in Python programming\n",
    "* Data types are actually classes and variables are instance (object) of these classes."
   ]
  },
  {
   "cell_type": "markdown",
   "id": "1e69ce0c",
   "metadata": {},
   "source": [
    "## Python Numbers\n",
    " * int, float and complex classes "
   ]
  },
  {
   "cell_type": "markdown",
   "id": "8d737041",
   "metadata": {},
   "source": [
    "### Example"
   ]
  },
  {
   "cell_type": "code",
   "execution_count": 4,
   "id": "69824a6f",
   "metadata": {},
   "outputs": [
    {
     "name": "stdout",
     "output_type": "stream",
     "text": [
      "5 is of type <class 'int'>\n",
      "2.0 is of type <class 'float'>\n",
      "(1+2j) is complex number? True\n"
     ]
    }
   ],
   "source": [
    "a = 5\n",
    "print(a, \"is of type\", type(a))\n",
    "\n",
    "a = 2.0\n",
    "print(a, \"is of type\", type(a))\n",
    "\n",
    "a = 1+2j\n",
    "print(a, \"is complex number?\", isinstance(1+2j,complex))\n"
   ]
  },
  {
   "cell_type": "markdown",
   "id": "51ba9850",
   "metadata": {},
   "source": [
    "### Note\n",
    "1. **Integers**: can be of any length (limited by the memory available)\n",
    "2. **Float**: accurate up to 17 decimal places\n",
    "3. **Complex numbers**: $x + yj$ where x is the real part and y is the imaginary part"
   ]
  },
  {
   "cell_type": "code",
   "execution_count": null,
   "id": "0ebd5da1",
   "metadata": {},
   "outputs": [],
   "source": [
    "a = 1234567890123456789 # integer\n",
    "b = 0.1234567890123456789 # float\n",
    "c = 1+2j # complex"
   ]
  },
  {
   "cell_type": "markdown",
   "id": "4cc67ce0",
   "metadata": {},
   "source": [
    "## Python List\n",
    "* ordered sequence of items\n",
    "* items in a list do not need to be of the same type\n",
    "* mutable, meaning, the value of elements of a list can be altered\n",
    "* defined within square bracket [ ]\n",
    "\n",
    "Example:\n",
    "\n",
    "```python\n",
    "a = [1, 2.2, 'python']\n",
    "```"
   ]
  },
  {
   "cell_type": "markdown",
   "id": "95bb6f61",
   "metadata": {},
   "source": [
    "# Python Tuple\n",
    "* ordered sequence of items same as a list\n",
    "* immutable, meaning, the value of elements of a list cannot be altered\n",
    "* used to write-protect data\n",
    "* usually faster than lists\n",
    "* defined within parentheses ()\n",
    "\n",
    "Example:\n",
    "```python\n",
    "t = (5,'program', 1+3j)\n",
    "```"
   ]
  },
  {
   "cell_type": "markdown",
   "id": "4b87c88d",
   "metadata": {},
   "source": [
    "# Python Strings\n",
    "* sequence of Unicode characters\n",
    "* can use single quotes or double quotes\n",
    "* Use ''' or \"\"\" for multiline"
   ]
  },
  {
   "cell_type": "code",
   "execution_count": 5,
   "id": "59d782ed",
   "metadata": {},
   "outputs": [
    {
     "name": "stdout",
     "output_type": "stream",
     "text": [
      "This is a string\n",
      "A multiline\n",
      "string\n"
     ]
    }
   ],
   "source": [
    "s = \"This is a string\"\n",
    "print(s)\n",
    "s = '''A multiline\n",
    "string'''\n",
    "print(s)"
   ]
  },
  {
   "cell_type": "markdown",
   "id": "6d1a26a9",
   "metadata": {},
   "source": [
    "# Python Set\n",
    "* **unordered** collection of **unique** items\n",
    "* defined within parentheses { }"
   ]
  },
  {
   "cell_type": "code",
   "execution_count": 6,
   "id": "8a239b80",
   "metadata": {},
   "outputs": [
    {
     "name": "stdout",
     "output_type": "stream",
     "text": [
      "a =  {1, 2, 3, 4, 5}\n",
      "<class 'set'>\n"
     ]
    }
   ],
   "source": [
    "a = {5,2,3,1,4}\n",
    "\n",
    "# printing set variable\n",
    "print(\"a = \", a)\n",
    "\n",
    "# data type of variable a\n",
    "print(type(a))"
   ]
  },
  {
   "cell_type": "markdown",
   "id": "5c909e68",
   "metadata": {},
   "source": [
    "# Python Dictionary\n",
    "* unordered collection of key-value pairs (less Python version: 3.6)\n",
    "* order is maintained after python3.6\n",
    "* used when we have a huge amount of data\n",
    "* optimized for retrieving data\n",
    "* defined within braces { } with each item being a pair in the form key:value\n",
    "* Key and value can be of any type."
   ]
  },
  {
   "cell_type": "code",
   "execution_count": 7,
   "id": "d08eec1f",
   "metadata": {},
   "outputs": [
    {
     "name": "stdout",
     "output_type": "stream",
     "text": [
      "{1: 'value', 'key': 2}\n",
      "<class 'dict'>\n"
     ]
    }
   ],
   "source": [
    "d = {1:'value','key':2}\n",
    "\n",
    "print(d)\n",
    "print(type(d))"
   ]
  },
  {
   "cell_type": "markdown",
   "id": "767827d1",
   "metadata": {},
   "source": [
    "## Conversion between data types\n",
    "* We can convert between different data types by using different type conversion functions like int(), float(), str(), etc."
   ]
  },
  {
   "cell_type": "code",
   "execution_count": 8,
   "id": "6358b7b8",
   "metadata": {},
   "outputs": [
    {
     "data": {
      "text/plain": [
       "5.0"
      ]
     },
     "execution_count": 8,
     "metadata": {},
     "output_type": "execute_result"
    }
   ],
   "source": [
    "float(5)"
   ]
  },
  {
   "cell_type": "markdown",
   "id": "6a53dce3",
   "metadata": {},
   "source": [
    "#### Conversion from float to int will truncate the value (make it closer to zero)."
   ]
  },
  {
   "cell_type": "code",
   "execution_count": 9,
   "id": "6b100f43",
   "metadata": {},
   "outputs": [
    {
     "data": {
      "text/plain": [
       "10"
      ]
     },
     "execution_count": 9,
     "metadata": {},
     "output_type": "execute_result"
    }
   ],
   "source": [
    "int(10.6)"
   ]
  },
  {
   "cell_type": "code",
   "execution_count": 10,
   "id": "e1b972b0",
   "metadata": {},
   "outputs": [
    {
     "data": {
      "text/plain": [
       "-10"
      ]
     },
     "execution_count": 10,
     "metadata": {},
     "output_type": "execute_result"
    }
   ],
   "source": [
    "int(-10.6)"
   ]
  },
  {
   "cell_type": "markdown",
   "id": "756cb069",
   "metadata": {},
   "source": [
    "#### Conversion to and from string must contain compatible values."
   ]
  },
  {
   "cell_type": "code",
   "execution_count": 11,
   "id": "47db6704",
   "metadata": {},
   "outputs": [
    {
     "data": {
      "text/plain": [
       "2.5"
      ]
     },
     "execution_count": 11,
     "metadata": {},
     "output_type": "execute_result"
    }
   ],
   "source": [
    "float('2.5')"
   ]
  },
  {
   "cell_type": "code",
   "execution_count": 12,
   "id": "ae4ad3ab",
   "metadata": {},
   "outputs": [
    {
     "data": {
      "text/plain": [
       "'25'"
      ]
     },
     "execution_count": 12,
     "metadata": {},
     "output_type": "execute_result"
    }
   ],
   "source": [
    "str(25)"
   ]
  },
  {
   "cell_type": "code",
   "execution_count": 13,
   "id": "81bb150f",
   "metadata": {},
   "outputs": [
    {
     "ename": "ValueError",
     "evalue": "invalid literal for int() with base 10: '1p'",
     "output_type": "error",
     "traceback": [
      "\u001b[0;31m---------------------------------------------------------------------------\u001b[0m",
      "\u001b[0;31mValueError\u001b[0m                                Traceback (most recent call last)",
      "Input \u001b[0;32mIn [13]\u001b[0m, in \u001b[0;36m<cell line: 1>\u001b[0;34m()\u001b[0m\n\u001b[0;32m----> 1\u001b[0m \u001b[38;5;28;43mint\u001b[39;49m\u001b[43m(\u001b[49m\u001b[38;5;124;43m'\u001b[39;49m\u001b[38;5;124;43m1p\u001b[39;49m\u001b[38;5;124;43m'\u001b[39;49m\u001b[43m)\u001b[49m\n",
      "\u001b[0;31mValueError\u001b[0m: invalid literal for int() with base 10: '1p'"
     ]
    }
   ],
   "source": [
    "int('1p')"
   ]
  },
  {
   "cell_type": "markdown",
   "id": "6da5e4dd",
   "metadata": {},
   "source": [
    "#### We can even convert one sequence to another."
   ]
  },
  {
   "cell_type": "code",
   "execution_count": 16,
   "id": "583b6e58",
   "metadata": {},
   "outputs": [
    {
     "data": {
      "text/plain": [
       "{1, 2, 3}"
      ]
     },
     "execution_count": 16,
     "metadata": {},
     "output_type": "execute_result"
    }
   ],
   "source": [
    "set([1,2,3])"
   ]
  },
  {
   "cell_type": "code",
   "execution_count": 17,
   "id": "b4acf60e",
   "metadata": {},
   "outputs": [
    {
     "data": {
      "text/plain": [
       "(5, 6, 7)"
      ]
     },
     "execution_count": 17,
     "metadata": {},
     "output_type": "execute_result"
    }
   ],
   "source": [
    "tuple({5,6,7})"
   ]
  },
  {
   "cell_type": "code",
   "execution_count": 18,
   "id": "85a3de01",
   "metadata": {},
   "outputs": [
    {
     "data": {
      "text/plain": [
       "['h', 'e', 'l', 'l', 'o']"
      ]
     },
     "execution_count": 18,
     "metadata": {},
     "output_type": "execute_result"
    }
   ],
   "source": [
    "list('hello')"
   ]
  },
  {
   "cell_type": "markdown",
   "id": "e1f7db63",
   "metadata": {},
   "source": [
    "#### To convert to dictionary, each element must be a pair:"
   ]
  },
  {
   "cell_type": "code",
   "execution_count": 14,
   "id": "5263be5b",
   "metadata": {},
   "outputs": [
    {
     "data": {
      "text/plain": [
       "{1: 2, 3: 4}"
      ]
     },
     "execution_count": 14,
     "metadata": {},
     "output_type": "execute_result"
    }
   ],
   "source": [
    "dict([[1,2],[3,4]])"
   ]
  },
  {
   "cell_type": "code",
   "execution_count": 15,
   "id": "beafb914",
   "metadata": {},
   "outputs": [
    {
     "data": {
      "text/plain": [
       "{3: 26, 4: 44}"
      ]
     },
     "execution_count": 15,
     "metadata": {},
     "output_type": "execute_result"
    }
   ],
   "source": [
    "dict([(3,26),(4,44)])"
   ]
  },
  {
   "cell_type": "code",
   "execution_count": null,
   "id": "d943ba08",
   "metadata": {},
   "outputs": [],
   "source": []
  }
 ],
 "metadata": {
  "kernelspec": {
   "display_name": "Python 3 (ipykernel)",
   "language": "python",
   "name": "python3"
  },
  "language_info": {
   "codemirror_mode": {
    "name": "ipython",
    "version": 3
   },
   "file_extension": ".py",
   "mimetype": "text/x-python",
   "name": "python",
   "nbconvert_exporter": "python",
   "pygments_lexer": "ipython3",
   "version": "3.11.1"
  }
 },
 "nbformat": 4,
 "nbformat_minor": 5
}
